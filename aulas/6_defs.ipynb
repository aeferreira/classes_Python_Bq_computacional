{
 "cells": [
  {
   "cell_type": "markdown",
   "metadata": {
    "slideshow": {
     "slide_type": "slide"
    }
   },
   "source": [
    "# Funções definidas pelo programador"
   ]
  },
  {
   "cell_type": "markdown",
   "metadata": {
    "slideshow": {
     "slide_type": "slide"
    }
   },
   "source": [
    "## Introdução ao problema"
   ]
  },
  {
   "cell_type": "markdown",
   "metadata": {
    "slideshow": {
     "slide_type": "slide"
    }
   },
   "source": [
    "Num problema das TPs, tivemos de separar uma sequência em codões e \"hifenar\", várias vezes ao longo de um programa:"
   ]
  },
  {
   "cell_type": "code",
   "execution_count": null,
   "metadata": {
    "collapsed": false
   },
   "outputs": [],
   "source": [
    "# ...\n",
    "codoes1 = [seq[i:i+3] for i in range(0, len(seq), 3)]\n",
    "cadeia = \"5'-\"   +   \"-\".join(codoes1)   +   \"-3'\"\n",
    "codoes2 = [comp[i:i+3] for i in range(0, len(comp), 3)]\n",
    "cadeiacomp = \"3'-\"   +   \"-\".join(codoes2)   +   \"-5'\"\n",
    "# ...\n",
    "codoes3 = [revcomp[i:i+3] for i in range(0, len(revcomp), 3)]\n",
    "cadeiareversa = \"5'-\"   +   \"-\".join(codoes3)   +   \"-3'\""
   ]
  },
  {
   "cell_type": "markdown",
   "metadata": {
    "slideshow": {
     "slide_type": "slide"
    }
   },
   "source": [
    "A parte do programa\n",
    "\n",
    "```\n",
    "codoes1 = [seq[i:i+3] for i in range(0, len(seq), 3)]\n",
    "cadeia = \"5'-\"   +   \"-\".join(codoes1)   +   \"-3'\"\n",
    "```\n",
    "\n",
    "repete-se várias vezes, mudando a sequência sobre a qual é aplicada (`seq`, `comp`, `revcomp`).\n",
    "\n",
    "Como podemos não repetir o \"texto\" desta parte do programa, embora aplicando a diferentes sequências?"
   ]
  },
  {
   "cell_type": "markdown",
   "metadata": {
    "slideshow": {
     "slide_type": "slide"
    }
   },
   "source": [
    "**Solução: funções**\n",
    "\n",
    "(também conhecidas como _subprogramas_, _subrotinas_, isto é, mini-programas dentro de programas)"
   ]
  },
  {
   "cell_type": "markdown",
   "metadata": {
    "slideshow": {
     "slide_type": "slide"
    }
   },
   "source": [
    "Já vimos várias funções, sempre disponíveis ou disponíveis após importação de módulos:"
   ]
  },
  {
   "cell_type": "code",
   "execution_count": null,
   "metadata": {
    "collapsed": false
   },
   "outputs": [],
   "source": [
    "n = len(a)\n",
    "\n",
    "f = int(4.2)\n",
    "\n",
    "nA = s.count('A')\n",
    "\n",
    "a.append(c)\n",
    "\n",
    "import math\n",
    "l = math.log(2.0)"
   ]
  },
  {
   "cell_type": "markdown",
   "metadata": {
    "slideshow": {
     "slide_type": "slide"
    }
   },
   "source": [
    "## Definição de funções com `def`"
   ]
  },
  {
   "cell_type": "markdown",
   "metadata": {
    "slideshow": {
     "slide_type": "slide"
    }
   },
   "source": [
    "**Podemos escrever outras funções para \"aumentar\" a linguagem.**\n",
    "\n",
    "Tal como na matemática, as funções transformam objetos noutros objetos:\n",
    "\n",
    "![](images/genf.png)"
   ]
  },
  {
   "cell_type": "markdown",
   "metadata": {
    "slideshow": {
     "slide_type": "slide"
    }
   },
   "source": [
    "Mas, tal como na matemática, as funções são escritas para atuar sobre objetos genéricos (`x`):\n",
    "\n",
    "![](images/genfx.png)"
   ]
  },
  {
   "cell_type": "markdown",
   "metadata": {
    "slideshow": {
     "slide_type": "slide"
    }
   },
   "source": [
    "**Problema**: escrever uma função que, dada uma sequência, devolva a sequência com os codoes separados por `-`."
   ]
  },
  {
   "cell_type": "code",
   "execution_count": null,
   "metadata": {
    "collapsed": true
   },
   "outputs": [],
   "source": [
    "def seqcods(x):\n",
    "    cods = [x[i:i+3] for i in range(0,len(x),3)]\n",
    "    comhifen = '-'.join(cods)\n",
    "    return comhifen"
   ]
  },
  {
   "cell_type": "markdown",
   "metadata": {
    "slideshow": {
     "slide_type": "slide"
    }
   },
   "source": [
    "## Anatomia de uma função:\n",
    "\n",
    "![](images/anatf.png)"
   ]
  },
  {
   "cell_type": "markdown",
   "metadata": {
    "slideshow": {
     "slide_type": "slide"
    }
   },
   "source": [
    "A definição de uma função (`def`) não executa nada imediatamente.\n",
    "\n",
    "É necessário **chamar** (ou \"_invocar_\") a função para esta ser usada:"
   ]
  },
  {
   "cell_type": "code",
   "execution_count": null,
   "metadata": {
    "collapsed": false
   },
   "outputs": [],
   "source": [
    "def seqcods(x):\n",
    "    cods = [x[i:i+3] for i in range(0,len(x),3)]\n",
    "    comhifen = '-'.join(cods)\n",
    "    return comhifen\n",
    "\n",
    "a = \"ATGGTTACCTAGTATTTAGGATTA\"\n",
    "print(a)\n",
    "\n",
    "# A função é chamada aqui:\n",
    "s = seqcods(a)\n",
    "\n",
    "print(s)"
   ]
  },
  {
   "cell_type": "markdown",
   "metadata": {
    "slideshow": {
     "slide_type": "slide"
    }
   },
   "source": [
    "**NOTA**: O comando `return` pode \"devolver\" uma expressão complicada (não só o nome de um objeto):"
   ]
  },
  {
   "cell_type": "code",
   "execution_count": null,
   "metadata": {
    "collapsed": false
   },
   "outputs": [],
   "source": [
    "def seqcods(x):\n",
    "    return '-'.join( [x[i:i+3] for i in range(0,len(x),3)])\n",
    "\n",
    "a = \"ATGGTTACCTAGTATTTAGGATTA\"\n",
    "print(a)\n",
    "\n",
    "# A função é chamada aqui:\n",
    "s = seqcods(a)\n",
    "\n",
    "print(s)"
   ]
  },
  {
   "cell_type": "markdown",
   "metadata": {
    "slideshow": {
     "slide_type": "slide"
    }
   },
   "source": [
    "**Em resumo:**\n",
    "\n",
    "A linha\n",
    "\n",
    "`def seqcods(x):`\n",
    "\n",
    "\"regista\" uma nova função, chamada `seqcods`, que pode ser usada em qualquer ponto do programa, da forma seguinte:\n",
    "\n",
    "`s = seqcods(a)`"
   ]
  },
  {
   "cell_type": "markdown",
   "metadata": {
    "slideshow": {
     "slide_type": "slide"
    }
   },
   "source": [
    "**Entrada e saída de valores quando uma função é chamada**:\n",
    "\n",
    "![](images/fargs_ret.png)"
   ]
  },
  {
   "cell_type": "markdown",
   "metadata": {
    "slideshow": {
     "slide_type": "slide"
    }
   },
   "source": [
    "### Exemplo: função `factorial()`:"
   ]
  },
  {
   "cell_type": "code",
   "execution_count": null,
   "metadata": {
    "collapsed": false
   },
   "outputs": [],
   "source": [
    "def factorial(n):\n",
    "    res = 1\n",
    "    for k in range(2,n+1):\n",
    "        res = res * k\n",
    "    return res\n",
    "\n",
    "print(factorial(200))"
   ]
  },
  {
   "cell_type": "markdown",
   "metadata": {
    "slideshow": {
     "slide_type": "slide"
    }
   },
   "source": [
    "### Vários tipos de funções"
   ]
  },
  {
   "cell_type": "code",
   "execution_count": null,
   "metadata": {
    "collapsed": false,
    "slideshow": {
     "slide_type": "slide"
    }
   },
   "outputs": [],
   "source": [
    "n = len(a)\n",
    "#1 argumento, 1 resultado\n",
    "\n",
    "f = factorial(200)\n",
    "#1 argumento, 1 resultado\n",
    "\n",
    "nA = s.count('A')\n",
    "#1 arg, 1 res, associada a um objeto (string s)\n",
    "\n",
    "a.append('pois')\n",
    "#1 arg, 0 res, associada a um objeto (lista a)"
   ]
  },
  {
   "cell_type": "code",
   "execution_count": null,
   "metadata": {
    "collapsed": true,
    "slideshow": {
     "slide_type": "slide"
    }
   },
   "outputs": [],
   "source": [
    "a.reverse() # altera uma lista, revertendo a ordem\n",
    "#0 argumentos, 0 resultados, modifica o objeto\n",
    "\n",
    "k = s.upper()\n",
    "#0 args, 1 resultado, associada a um objeto\n",
    "\n",
    "b = math.log(64, 2)\n",
    "#2 arg, 1 res"
   ]
  },
  {
   "cell_type": "code",
   "execution_count": null,
   "metadata": {
    "collapsed": false,
    "slideshow": {
     "slide_type": "slide"
    }
   },
   "outputs": [],
   "source": [
    "import time\n",
    "x = time.localtime(time.time())\n",
    "print(x)\n",
    "# time()     : 0 arg, 1 res\n",
    "# localtime(): 1 arg, 9 res"
   ]
  },
  {
   "cell_type": "markdown",
   "metadata": {
    "slideshow": {
     "slide_type": "slide"
    }
   },
   "source": [
    "**Problema**: eliminar valores de uma lista que pertençam a uma \"lista negra\""
   ]
  },
  {
   "cell_type": "code",
   "execution_count": null,
   "metadata": {
    "collapsed": false
   },
   "outputs": [],
   "source": [
    "def elimin_black(uma_lista, black_list):\n",
    "    res = [i for i in uma_lista if i not in black_list]\n",
    "    return res\n",
    "\n",
    "a = [1, 2, 4, 'um', 'dois', 3, 42, 'quatro']\n",
    "print(a)\n",
    "\n",
    "black = [1, 2, 'um', 'dois']\n",
    "print ('\\nA eliminar:', black)\n",
    "\n",
    "clean = elimin_black(a, black)\n",
    "print(clean)"
   ]
  },
  {
   "cell_type": "markdown",
   "metadata": {
    "slideshow": {
     "slide_type": "slide"
    }
   },
   "source": [
    "**Problema**: dado um **nome** de um ficheiro de texto, escrever uma função para **ler o conteúdo do ficheiro para uma lista de linhas sem o `\\n` no final, excluíndo as linhas vazias**."
   ]
  },
  {
   "cell_type": "code",
   "execution_count": null,
   "metadata": {
    "collapsed": false,
    "slideshow": {
     "slide_type": "slide"
    }
   },
   "outputs": [],
   "source": [
    "def ler_fich(nome):\n",
    "    linhas = []\n",
    "    with open(nome) as a:\n",
    "        for linha in a:\n",
    "            linha = linha.strip()\n",
    "            if len(linha) > 0:\n",
    "                linhas.append(linha)\n",
    "    return linhas\n",
    "\n",
    "todos = ler_fich('masses_annotated.txt')\n",
    "\n",
    "for i in todos[:4]:\n",
    "    print(i)"
   ]
  },
  {
   "cell_type": "markdown",
   "metadata": {
    "slideshow": {
     "slide_type": "slide"
    }
   },
   "source": [
    "**Problema**: eliminar valores repetidos numa lista"
   ]
  },
  {
   "cell_type": "code",
   "execution_count": null,
   "metadata": {
    "collapsed": false
   },
   "outputs": [],
   "source": [
    "def elimin_reps(uma_lista):\n",
    "    res = []\n",
    "    for i in uma_lista:\n",
    "        if i not in res:\n",
    "            res.append(i)  \n",
    "    return res\n",
    "\n",
    "uma_lista = [1, 2, 4, 7, 7, 5, 8, 8, 9, 10]\n",
    "print(uma_lista)\n",
    "\n",
    "clean = elimin_reps(uma_lista)\n",
    "print(clean)"
   ]
  },
  {
   "cell_type": "markdown",
   "metadata": {
    "slideshow": {
     "slide_type": "slide"
    }
   },
   "source": [
    "Note-se que na função é criada uma lista nova:\n",
    "\n",
    "```\n",
    "res = []\n",
    "\n",
    "...\n",
    "      res.append(i)\n",
    "```\n",
    "\n",
    "e é esta lista que é o **resultado** da função."
   ]
  },
  {
   "cell_type": "markdown",
   "metadata": {
    "slideshow": {
     "slide_type": "slide"
    }
   },
   "source": [
    "**Problema**: eliminar valores repetidos numa lista, mas sem ser devolvida uma lista nova como resultado. Isto é, a função recebe uma lista e modifica-a, não havendo `return`."
   ]
  },
  {
   "cell_type": "code",
   "execution_count": null,
   "metadata": {
    "collapsed": false,
    "slideshow": {
     "slide_type": "slide"
    }
   },
   "outputs": [],
   "source": [
    "def elimin_reps2(uma_lista):\n",
    "    res = []\n",
    "    for i in uma_lista:\n",
    "        if i not in res:\n",
    "            res.append(i)  \n",
    "    uma_lista[:] = res\n",
    "\n",
    "uma_lista = [1, 2, 4, 7, 7, 5, 8, 8, 9, 10]\n",
    "print('Antes', uma_lista)\n",
    "\n",
    "elimin_reps2(uma_lista)\n",
    "# repare-se que, não havendo return\n",
    "# não se dá um nome ao resultado, do tipo\n",
    "# y = f(x)\n",
    "\n",
    "print('Depois', uma_lista)"
   ]
  },
  {
   "cell_type": "markdown",
   "metadata": {
    "slideshow": {
     "slide_type": "skip"
    }
   },
   "source": [
    "O que significa `uma_lista[:] = res` ?\n",
    "\n",
    "Usa-se um _slice_ para toda a lista (`uma_lista[:]` significa todos os elementos do princípio o fim)e atribuí-se a esse _slice_ uma lista nova. Assim, toda a lista é modificada.\n",
    "\n",
    "**Nota**: não é possível usar esta técnica com _strings_. As _strings_ são imutáveis."
   ]
  },
  {
   "cell_type": "markdown",
   "metadata": {
    "slideshow": {
     "slide_type": "slide"
    }
   },
   "source": [
    "Se as funções tiverem resultados é possível usá-las em cadeia:"
   ]
  },
  {
   "cell_type": "code",
   "execution_count": null,
   "metadata": {
    "collapsed": false
   },
   "outputs": [],
   "source": [
    "def elimin_reps(uma_lista):\n",
    "    res = []\n",
    "    for i in uma_lista:\n",
    "        if i not in res:\n",
    "            res.append(i)  \n",
    "    return res\n",
    "\n",
    "def elimin_black(uma_lista, black_list):\n",
    "    res = [i for i in uma_lista if i not in black_list]\n",
    "    return res\n",
    "\n",
    "a = [1, 2, 4, 'um', 'dois', 3, 3, 37, 42, 42, 'quatro']\n",
    "print(a)\n",
    "\n",
    "black = [1, 2, 'um', 'dois']\n",
    "print('\\nA eliminar:', black)\n",
    "\n",
    "clean = elimin_reps(elimin_black(a, black))\n",
    "print(clean)"
   ]
  },
  {
   "cell_type": "markdown",
   "metadata": {
    "slideshow": {
     "slide_type": "slide"
    }
   },
   "source": [
    "## Âmbito dos nomes dentro de uma função"
   ]
  },
  {
   "cell_type": "code",
   "execution_count": null,
   "metadata": {
    "collapsed": false,
    "slideshow": {
     "slide_type": "slide"
    }
   },
   "outputs": [],
   "source": [
    "def recta(m, b, x):\n",
    "    print('Argumentos:', m, b, x)\n",
    "    r1 = m*x\n",
    "    r0 = b\n",
    "    print('m*x =', r1, 'b =', r0)\n",
    "    return(r1 + r0)\n",
    "\n",
    "x, c1, c2 = 2.0, 3.0, 2.0\n",
    "\n",
    "res = recta(c1, c2, x)\n",
    "\n",
    "print('Resultado:', res)"
   ]
  },
  {
   "cell_type": "markdown",
   "metadata": {
    "slideshow": {
     "slide_type": "skip"
    }
   },
   "source": [
    "Este programa corre sem problemas.\n",
    "\n",
    "Note-se que podemos usar a função `print()` dentro de uma função."
   ]
  },
  {
   "cell_type": "code",
   "execution_count": null,
   "metadata": {
    "collapsed": false,
    "slideshow": {
     "slide_type": "slide"
    }
   },
   "outputs": [],
   "source": [
    "def recta(m, b, x):\n",
    "    r1, r0 = m*x, b\n",
    "    return r1 + r0\n",
    "\n",
    "m, b, x = 2.0, 3.0, 2.0\n",
    "res = recta(m, b, x)\n",
    "\n",
    "print('m*x =', r1, 'b =', r0)\n",
    "print('Resultado:', res)"
   ]
  },
  {
   "cell_type": "markdown",
   "metadata": {
    "slideshow": {
     "slide_type": "skip"
    }
   },
   "source": [
    "O que se passou aqui?\n",
    "\n",
    "Os nomes usados dentro da função `r1` e `r0` são locais: pertencem ao **âmbito** da função.\n",
    "\n",
    "Qualquer parte do programa \"exterior\" à função não consegue \"ver\" esses nomes. Daí o erro durante a execução.\n",
    "\n",
    "O mesmo acontece aos próprios nomes locais dos **argumentos** da função:"
   ]
  },
  {
   "cell_type": "code",
   "execution_count": null,
   "metadata": {
    "collapsed": false,
    "slideshow": {
     "slide_type": "slide"
    }
   },
   "outputs": [],
   "source": [
    "def recta(declive, oorigem, x):\n",
    "    r1, r0 = declive * x, oorigem\n",
    "    return r1 + r0\n",
    "\n",
    "c1, c2, x = 2.0, 3.0, 2.0\n",
    "res = recta(c1, c2, x)\n",
    "\n",
    "print('Argumentos:', declive, oorigem, x)\n",
    "print('Resultado:', res)"
   ]
  },
  {
   "cell_type": "code",
   "execution_count": null,
   "metadata": {
    "collapsed": false,
    "slideshow": {
     "slide_type": "slide"
    }
   },
   "outputs": [],
   "source": [
    "def recta(declive, oorigem, x):\n",
    "    print('Argumentos:', declive, oorigem, x)\n",
    "    x = declive * x + oorigem\n",
    "    return x\n",
    "\n",
    "declive = 2\n",
    "oorigem = 2\n",
    "x = 2\n",
    "\n",
    "res = recta(declive + 3, oorigem + 3, x * x)\n",
    "\n",
    "print('Declive =', declive)\n",
    "print('Ord origem =', oorigem)\n",
    "print('x =' , x)\n",
    "print('\\nResultado:', res)"
   ]
  },
  {
   "cell_type": "markdown",
   "metadata": {
    "slideshow": {
     "slide_type": "skip"
    }
   },
   "source": [
    "Este programa corre sem problemas!\n",
    "\n",
    "Mas cada um dos nomes `declive`, `oorigem`, `x` é usado em dois contextos e tem valores diferentes:\n",
    "\n",
    "- O contexto local, quando estão \"dentro\" da função.\n",
    "- O contexto global, quando estão \"fora da função\".\n",
    "\n",
    "Fora da função, os valores globais são:\n",
    "\n",
    "```\n",
    "declive = 2\n",
    "oorigem = 2\n",
    "x = 2\n",
    "```\n",
    "\n",
    "Estes valores não são modificados fora da função e são apresentados pela função `print()` no final.\n",
    "\n",
    "Dentro da função estes nomes são, em primeiro lugar, usados como os argumentos da função.\n",
    "\n",
    "Pela **maneira como a função é chamada**, estes valores são:\n",
    "\n",
    "```\n",
    "declive = 5\n",
    "oorigem = 5\n",
    "x = 4\n",
    "```\n",
    "\n",
    "O nome `x` é modificado dentro da função (`x = declive * x + oorigem`) ficando com o valor final 25 e é este valor que é o resultado da função (`return x`).\n",
    "\n",
    "Quando a função termina e estamos de novo \"de fora\" da função, o valor de `x` volta a ser 4, uma vez que voltamos a um contexto \"global\"."
   ]
  },
  {
   "cell_type": "markdown",
   "metadata": {
    "slideshow": {
     "slide_type": "slide"
    }
   },
   "source": [
    "## Valores _por omissão_ em argumentos de funções"
   ]
  },
  {
   "cell_type": "code",
   "execution_count": null,
   "metadata": {
    "collapsed": false,
    "slideshow": {
     "slide_type": "slide"
    }
   },
   "outputs": [],
   "source": [
    "def mix(a=1, b=0):\n",
    "    print('Argumentos: a =', a, 'b =', b)\n",
    "    c = a + b\n",
    "    print('Devolve', c)\n",
    "    return c\n",
    "\n",
    "x = mix()\n",
    "\n",
    "x = mix(b=3)\n",
    "\n",
    "x = mix(a=2, b=3)\n",
    "\n",
    "x = mix(2,3)"
   ]
  },
  {
   "cell_type": "code",
   "execution_count": null,
   "metadata": {
    "collapsed": false,
    "slideshow": {
     "slide_type": "slide"
    }
   },
   "outputs": [],
   "source": [
    "def factorial(n, show_intermediate=False):\n",
    "    p = 1\n",
    "    for i in range(2,n+1):\n",
    "        p = p * i\n",
    "        if show_intermediate:\n",
    "            print(p)\n",
    "    return p\n",
    "\n",
    "f20 = factorial(20)\n",
    "print('O factorial de 20 é', f20)"
   ]
  },
  {
   "cell_type": "code",
   "execution_count": null,
   "metadata": {
    "collapsed": false,
    "slideshow": {
     "slide_type": "slide"
    }
   },
   "outputs": [],
   "source": [
    "f20 = factorial(20, show_intermediate=True)\n",
    "print('O factorial de 20 é', f20)"
   ]
  },
  {
   "cell_type": "markdown",
   "metadata": {
    "collapsed": true,
    "slideshow": {
     "slide_type": "slide"
    }
   },
   "source": [
    "# Formatação de _strings_ com `.format()`"
   ]
  },
  {
   "cell_type": "code",
   "execution_count": null,
   "metadata": {
    "collapsed": false,
    "slideshow": {
     "slide_type": "slide"
    }
   },
   "outputs": [],
   "source": [
    "x = 11\n",
    "y = 20\n",
    "z = 3\n",
    "\n",
    "print('x = {}, y = {}, z = {}'.format(x, y, z))"
   ]
  },
  {
   "cell_type": "code",
   "execution_count": null,
   "metadata": {
    "collapsed": false,
    "slideshow": {
     "slide_type": "slide"
    }
   },
   "outputs": [],
   "source": [
    "d = {'H':1, 'Li':3, 'Na':11, 'K':19}\n",
    "\n",
    "for k, v in d.items():\n",
    "    print('O elemento com  n = {1} é o {0}'.format(k, v))"
   ]
  },
  {
   "cell_type": "code",
   "execution_count": null,
   "metadata": {
    "collapsed": false,
    "slideshow": {
     "slide_type": "slide"
    }
   },
   "outputs": [],
   "source": [
    "d = {'H':1, 'Li':3, 'Na':11, 'K':19}\n",
    "\n",
    "for k, v in d.items():\n",
    "    print('O elemento com  n = {1:2} é o {0}'.format(k, v))"
   ]
  },
  {
   "cell_type": "code",
   "execution_count": null,
   "metadata": {
    "collapsed": false,
    "slideshow": {
     "slide_type": "slide"
    }
   },
   "outputs": [],
   "source": [
    "d = {'H':1, 'Li':3, 'Na':11, 'K':19}\n",
    "\n",
    "for k, v in d.items():\n",
    "    print('O elemento com  n = {1:<2} é o {0}'.format(k, v))"
   ]
  },
  {
   "cell_type": "code",
   "execution_count": null,
   "metadata": {
    "collapsed": false,
    "slideshow": {
     "slide_type": "slide"
    }
   },
   "outputs": [],
   "source": [
    "import math\n",
    "log2 = math.log(2)\n",
    "\n",
    "soma = 0.0 # acumula a soma parcial da série\n",
    "\n",
    "for i in range(1, 21):\n",
    "    x = (-1.0)**(i+1) / i\n",
    "    soma = soma + x\n",
    "    dif = soma - log2\n",
    "    absdif = abs(dif)\n",
    "    \n",
    "    print(i , soma , dif, absdif)"
   ]
  },
  {
   "cell_type": "code",
   "execution_count": null,
   "metadata": {
    "collapsed": false,
    "slideshow": {
     "slide_type": "slide"
    }
   },
   "outputs": [],
   "source": [
    "import math\n",
    "log2 = math.log(2)\n",
    "\n",
    "soma = 0.0 # acumula a soma parcial da série\n",
    "\n",
    "print('{:>4} {:^9} {:^9} {:^9}'.format('n' , 'S' , 'dif', '|dif|'))\n",
    "for i in range(1, 21):\n",
    "    x = (-1.0)**(i+1) / i\n",
    "    soma = soma + x\n",
    "    dif = soma - log2\n",
    "    absdif = abs(dif)\n",
    "    \n",
    "    print('{:4d} {:9.6f} {:9.6f} {:9.6f}'.format(i,soma,dif,absdif))"
   ]
  },
  {
   "cell_type": "markdown",
   "metadata": {
    "slideshow": {
     "slide_type": "slide"
    }
   },
   "source": [
    "Consultar a documentação da [Format Specification Mini-Language](https://docs.python.org/3/library/string.html#formatspec)"
   ]
  }
 ],
 "metadata": {
  "kernelspec": {
   "display_name": "Python [default]",
   "language": "python",
   "name": "python3"
  },
  "language_info": {
   "codemirror_mode": {
    "name": "ipython",
    "version": 3
   },
   "file_extension": ".py",
   "mimetype": "text/x-python",
   "name": "python",
   "nbconvert_exporter": "python",
   "pygments_lexer": "ipython3",
   "version": "3.5.2"
  }
 },
 "nbformat": 4,
 "nbformat_minor": 0
}
