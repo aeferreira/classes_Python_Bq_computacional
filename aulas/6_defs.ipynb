{
 "cells": [
  {
   "cell_type": "markdown",
   "metadata": {
    "slideshow": {
     "slide_type": "slide"
    }
   },
   "source": [
    "# Funções definidas pelo programador"
   ]
  },
  {
   "cell_type": "markdown",
   "metadata": {
    "slideshow": {
     "slide_type": "slide"
    }
   },
   "source": [
    "## Introdução ao problema"
   ]
  },
  {
   "cell_type": "markdown",
   "metadata": {
    "slideshow": {
     "slide_type": "slide"
    }
   },
   "source": [
    "Num problema das TPs, tivemos de separar uma sequência em codões e \"hifenar\", várias vezes ao longo de um programa:"
   ]
  },
  {
   "cell_type": "code",
   "execution_count": 1,
   "metadata": {
    "collapsed": false
   },
   "outputs": [
    {
     "name": "stdout",
     "output_type": "stream",
     "text": [
      "5'-AGC-TGG-ATC-CTG-AAC-GCA-TAG-ACT-AGC-ATG-GGA-CTA-AAG-GTC-CAT-TAC-TGA-3'\n",
      "3'-TCG-ACC-TAG-GAC-TTG-CGT-ATC-TGA-TCG-TAC-CCT-GAT-TTC-CAG-GTA-ATG-ACT-5'\n",
      "Complemento reverso\n",
      "5'-TCA-GTA-ATG-GAC-CTT-TAG-TCC-CAT-GCT-AGT-CTA-TGC-GTT-CAG-GAT-CCA-GCT-3'\n"
     ]
    }
   ],
   "source": [
    "seq = \"AGCTGGATCCTGAACGCATAGACTAGCATGGGACTAAAGGTCCATTACTGA\"\n",
    "btrans = {'A':'T', 'T':'A', 'C':'G', 'G':'C'}\n",
    "\n",
    "comp = ''.join([btrans[b] for b in seq])\n",
    "comprev = ''.join(reversed(comp))\n",
    "\n",
    "codsseq = [seq[i:i+3] for i in range(0, len(seq), 3)]\n",
    "cadseq = \"5'-\"+'-'.join(codsseq)+\"-3'\"\n",
    "print(cadseq)\n",
    "\n",
    "codscomp = [comp[i:i+3] for i in range(0, len(comp), 3)]\n",
    "cadcomp = \"3'-\"+'-'.join(codscomp)+\"-5'\"\n",
    "print(cadcomp)\n",
    "\n",
    "codscomprev = [comprev[i:i+3] for i in range(0, len(comprev), 3)]\n",
    "cadcomprev = \"5'-\"+'-'.join(codscomprev)+\"-3'\"\n",
    "print('Complemento reverso')\n",
    "print(cadcomprev)"
   ]
  },
  {
   "cell_type": "markdown",
   "metadata": {
    "slideshow": {
     "slide_type": "slide"
    }
   },
   "source": [
    "A parte do programa\n",
    "\n",
    "```\n",
    "codsseq = [seq[i:i+3] for i in range(0, len(seq), 3)]\n",
    "cadseq = \"5'-\"+'-'.join(codsseq)+\"-3'\"\n",
    "```\n",
    "\n",
    "repete-se várias vezes, mudando a sequência sobre a qual é aplicada (`seq`, `comp`, `comprev`).\n",
    "\n",
    "Como podemos não repetir o \"texto\" desta parte do programa, embora aplicando a diferentes sequências?"
   ]
  },
  {
   "cell_type": "markdown",
   "metadata": {
    "slideshow": {
     "slide_type": "slide"
    }
   },
   "source": [
    "**Solução: funções**\n",
    "\n",
    "(também conhecidas como _subprogramas_, _subrotinas_, isto é, mini-programas dentro de programas)"
   ]
  },
  {
   "cell_type": "markdown",
   "metadata": {
    "slideshow": {
     "slide_type": "slide"
    }
   },
   "source": [
    "Já vimos várias funções, sempre disponíveis ou disponíveis após importação de módulos:"
   ]
  },
  {
   "cell_type": "code",
   "execution_count": 2,
   "metadata": {
    "collapsed": false
   },
   "outputs": [],
   "source": [
    "a = 'Uma pequena string'\n",
    "n = len(a)\n",
    "\n",
    "f = int(4.2)\n",
    "\n",
    "nA = a.count('A')\n",
    "\n",
    "a = []\n",
    "a.append(33)\n",
    "\n",
    "import math\n",
    "l = math.log(2.0)"
   ]
  },
  {
   "cell_type": "markdown",
   "metadata": {
    "slideshow": {
     "slide_type": "slide"
    }
   },
   "source": [
    "## Definição de funções com `def`"
   ]
  },
  {
   "cell_type": "markdown",
   "metadata": {
    "slideshow": {
     "slide_type": "slide"
    }
   },
   "source": [
    "**Podemos escrever outras funções para \"aumentar\" a linguagem.**\n",
    "\n",
    "Tal como na matemática, as funções transformam objetos noutros objetos:\n",
    "\n",
    "![](images/genf.png)"
   ]
  },
  {
   "cell_type": "markdown",
   "metadata": {
    "slideshow": {
     "slide_type": "slide"
    }
   },
   "source": [
    "Mas, tal como na matemática, as funções são escritas para atuar sobre objetos genéricos (`x`):\n",
    "\n",
    "![](images/genfx.png)"
   ]
  },
  {
   "cell_type": "markdown",
   "metadata": {
    "slideshow": {
     "slide_type": "slide"
    }
   },
   "source": [
    "**Problema**: escrever uma função que, dada uma sequência, devolva a sequência com os codoes separados por `-`."
   ]
  },
  {
   "cell_type": "code",
   "execution_count": 3,
   "metadata": {
    "collapsed": true
   },
   "outputs": [],
   "source": [
    "def seqcods(x):\n",
    "    cods = [x[i:i+3] for i in range(0,len(x),3)]\n",
    "    comhifen = '-'.join(cods)\n",
    "    return comhifen"
   ]
  },
  {
   "cell_type": "markdown",
   "metadata": {
    "slideshow": {
     "slide_type": "slide"
    }
   },
   "source": [
    "## Anatomia de uma função:\n",
    "\n",
    "![](images/anatf.png)"
   ]
  },
  {
   "cell_type": "markdown",
   "metadata": {
    "slideshow": {
     "slide_type": "slide"
    }
   },
   "source": [
    "A definição de uma função (`def`) não executa nada imediatamente.\n",
    "\n",
    "É necessário **chamar** (ou \"_invocar_\") a função para esta ser usada:"
   ]
  },
  {
   "cell_type": "code",
   "execution_count": 4,
   "metadata": {
    "collapsed": false
   },
   "outputs": [
    {
     "name": "stdout",
     "output_type": "stream",
     "text": [
      "ATGGTTACCTAGTATTTAGGATTA\n",
      "ATG-GTT-ACC-TAG-TAT-TTA-GGA-TTA\n"
     ]
    }
   ],
   "source": [
    "def seqcods(x):\n",
    "    cods = [x[i:i+3] for i in range(0,len(x),3)]\n",
    "    comhifen = '-'.join(cods)\n",
    "    return comhifen\n",
    "\n",
    "a = \"ATGGTTACCTAGTATTTAGGATTA\"\n",
    "print(a)\n",
    "\n",
    "# A função é chamada aqui:\n",
    "s = seqcods(a)\n",
    "\n",
    "print(s)"
   ]
  },
  {
   "cell_type": "markdown",
   "metadata": {
    "slideshow": {
     "slide_type": "slide"
    }
   },
   "source": [
    "**NOTA**: O comando `return` pode \"devolver\" uma expressão complicada (não só o nome de um objeto):"
   ]
  },
  {
   "cell_type": "code",
   "execution_count": 5,
   "metadata": {
    "collapsed": false
   },
   "outputs": [
    {
     "name": "stdout",
     "output_type": "stream",
     "text": [
      "ATGGTTACCTAGTATTTAGGATTA\n",
      "ATG-GTT-ACC-TAG-TAT-TTA-GGA-TTA\n"
     ]
    }
   ],
   "source": [
    "def seqcods(x):\n",
    "    return '-'.join( [x[i:i+3] for i in range(0,len(x),3)])\n",
    "\n",
    "a = \"ATGGTTACCTAGTATTTAGGATTA\"\n",
    "print(a)\n",
    "\n",
    "# A função é chamada aqui:\n",
    "s = seqcods(a)\n",
    "\n",
    "print(s)"
   ]
  },
  {
   "cell_type": "markdown",
   "metadata": {
    "slideshow": {
     "slide_type": "slide"
    }
   },
   "source": [
    "**Em resumo:**\n",
    "\n",
    "A linha\n",
    "\n",
    "`def seqcods(x):`\n",
    "\n",
    "\"regista\" uma nova função, chamada `seqcods`, que pode ser usada em qualquer ponto do programa, da forma seguinte:\n",
    "\n",
    "`s = seqcods(a)`"
   ]
  },
  {
   "cell_type": "markdown",
   "metadata": {
    "slideshow": {
     "slide_type": "slide"
    }
   },
   "source": [
    "**Entrada e saída de valores quando uma função é chamada**:\n",
    "\n",
    "![](images/fargs_ret.png)"
   ]
  },
  {
   "cell_type": "markdown",
   "metadata": {
    "slideshow": {
     "slide_type": "slide"
    }
   },
   "source": [
    "### Exemplo: função `factorial()`:"
   ]
  },
  {
   "cell_type": "code",
   "execution_count": 6,
   "metadata": {
    "collapsed": false
   },
   "outputs": [
    {
     "name": "stdout",
     "output_type": "stream",
     "text": [
      "788657867364790503552363213932185062295135977687173263294742533244359449963403342920304284011984623904177212138919638830257642790242637105061926624952829931113462857270763317237396988943922445621451664240254033291864131227428294853277524242407573903240321257405579568660226031904170324062351700858796178922222789623703897374720000000000000000000000000000000000000000000000000\n"
     ]
    }
   ],
   "source": [
    "def factorial(n):\n",
    "    res = 1\n",
    "    for k in range(2,n+1):\n",
    "        res = res * k\n",
    "    return res\n",
    "\n",
    "print(factorial(200))"
   ]
  },
  {
   "cell_type": "markdown",
   "metadata": {
    "slideshow": {
     "slide_type": "slide"
    }
   },
   "source": [
    "### Vários tipos de funções"
   ]
  },
  {
   "cell_type": "code",
   "execution_count": 7,
   "metadata": {
    "collapsed": false
   },
   "outputs": [
    {
     "name": "stdout",
     "output_type": "stream",
     "text": [
      "18\n",
      "2\n",
      "UMA PEQUENA STRING\n"
     ]
    }
   ],
   "source": [
    "a = 'Uma pequena string'\n",
    "\n",
    "#1 argumento, 1 resultado\n",
    "print( len(a) )\n",
    "\n",
    "#1 arg, 1 res, associada a um objeto (string a)\n",
    "print( a.count('a') )\n",
    "\n",
    "#0 arg, 1 res, associada a um objeto (string a)\n",
    "print( a.upper() )"
   ]
  },
  {
   "cell_type": "code",
   "execution_count": 8,
   "metadata": {
    "collapsed": false,
    "slideshow": {
     "slide_type": "slide"
    }
   },
   "outputs": [
    {
     "name": "stdout",
     "output_type": "stream",
     "text": [
      "None\n",
      "[12, 24, 36]\n"
     ]
    }
   ],
   "source": [
    "#1 arg, 0 res, associada a um objeto (lista b)\n",
    "# modifica o objeto (a lista b)\n",
    "b = [12, 24]\n",
    "\n",
    "print( b.append(36) )\n",
    "print(b)"
   ]
  },
  {
   "cell_type": "markdown",
   "metadata": {
    "slideshow": {
     "slide_type": "slide"
    }
   },
   "source": [
    "Além da função `.append()`, recordar que **as listas** têm outras duas funções deste tipo, que modificam a lista sem produzir nenhum resultado (o resultado é a constante `None`): `.reverse()` e `.sort()`."
   ]
  },
  {
   "cell_type": "code",
   "execution_count": 9,
   "metadata": {
    "collapsed": false
   },
   "outputs": [
    {
     "name": "stdout",
     "output_type": "stream",
     "text": [
      "[12, 24, 36]\n",
      "[36, 24, 12]\n",
      "[12, 24, 36]\n"
     ]
    }
   ],
   "source": [
    "b = [12, 24, 36]\n",
    "print(b)\n",
    "\n",
    "b.reverse()\n",
    "print(b)\n",
    "\n",
    "b.sort()\n",
    "print(b)"
   ]
  },
  {
   "cell_type": "markdown",
   "metadata": {
    "slideshow": {
     "slide_type": "slide"
    }
   },
   "source": [
    "As funções podem ter mais de um argumento.\n",
    "\n",
    "O resultado pode não ser apenas um número ou uma _string_: as funções podem devolver uma lista inteira, um dicionário ou outros objetos mais complexos."
   ]
  },
  {
   "cell_type": "code",
   "execution_count": 10,
   "metadata": {
    "collapsed": false,
    "slideshow": {
     "slide_type": "-"
    }
   },
   "outputs": [
    {
     "name": "stdout",
     "output_type": "stream",
     "text": [
      "6.0\n",
      "time.struct_time(tm_year=2017, tm_mon=6, tm_mday=18, tm_hour=20, tm_min=36, tm_sec=31, tm_wday=6, tm_yday=169, tm_isdst=1)\n"
     ]
    }
   ],
   "source": [
    "import math\n",
    "print( math.log(64, 2) )\n",
    "\n",
    "import time\n",
    "x = time.localtime(time.time())\n",
    "print(x)"
   ]
  },
  {
   "cell_type": "markdown",
   "metadata": {
    "slideshow": {
     "slide_type": "slide"
    }
   },
   "source": [
    "**Problema**: eliminar valores de uma lista que pertençam a uma \"lista negra\""
   ]
  },
  {
   "cell_type": "code",
   "execution_count": 11,
   "metadata": {
    "collapsed": false
   },
   "outputs": [
    {
     "name": "stdout",
     "output_type": "stream",
     "text": [
      "[1, 2, 4, 'um', 'dois', 3, 42, 'quatro']\n",
      "\n",
      "A eliminar: [1, 2, 'um', 'dois']\n",
      "[4, 3, 42, 'quatro']\n"
     ]
    }
   ],
   "source": [
    "def elimin_black(uma_lista, black_list):\n",
    "    res = [i for i in uma_lista if i not in black_list]\n",
    "    return res\n",
    "\n",
    "a = [1, 2, 4, 'um', 'dois', 3, 42, 'quatro']\n",
    "print(a)\n",
    "\n",
    "black = [1, 2, 'um', 'dois']\n",
    "print ('\\nA eliminar:', black)\n",
    "\n",
    "clean = elimin_black(a, black)\n",
    "print(clean)"
   ]
  },
  {
   "cell_type": "markdown",
   "metadata": {
    "slideshow": {
     "slide_type": "slide"
    }
   },
   "source": [
    "**Problema**: dado um **nome** de um ficheiro de texto, escrever uma função para **ler o conteúdo do ficheiro para uma lista de linhas sem o `\\n` no final, excluíndo as linhas vazias**."
   ]
  },
  {
   "cell_type": "code",
   "execution_count": 12,
   "metadata": {
    "collapsed": false,
    "slideshow": {
     "slide_type": "slide"
    }
   },
   "outputs": [
    {
     "name": "stdout",
     "output_type": "stream",
     "text": [
      ">sp|P38715|GRE3_YEAST NADPH-dependent aldose reductase GRE3 OS=Saccharomyces cerevisiae (strain ATCC 204508 / S288c) GN=GRE3 PE=1 SV=1\n",
      "MSSLVTLNNGLKMPLVGLGCWKIDKKVCANQIYEAIKLGYRLFDGACDYGNEKEVGEGIR\n",
      "KAISEGLVSRKDIFVVSKLWNNFHHPDHVKLALKKTLSDMGLDYLDLYYIHFPIAFKYVP\n",
      "FEEKYPPGFYTGADDEKKGHITEAHVPIIDTYRALEECVDEGLIKSIGVSNFQGSLIQDL\n",
      "LRGCRIKPVALQIEHHPYLTQEHLVEFCKLHDIQVVAYSSFGPQSFIEMDLQLAKTTPTL\n",
      "FENDVIKKVSQNHPGSTTSQVLLRWATQRGIAVIPKSSKKERLLGNLEIEKKFTLTEQEL\n",
      "KDISALNANIRFNDPWTWLDGKFPTFA\n"
     ]
    }
   ],
   "source": [
    "def ler_fich(nome):\n",
    "    linhas = []\n",
    "    with open(nome) as a:\n",
    "        for linha in a:\n",
    "            linha = linha.strip()\n",
    "            if len(linha) > 0:\n",
    "                linhas.append(linha)\n",
    "    return linhas\n",
    "\n",
    "todos = ler_fich('gre3.txt')\n",
    "\n",
    "for i in todos:\n",
    "    print(i)"
   ]
  },
  {
   "cell_type": "markdown",
   "metadata": {
    "slideshow": {
     "slide_type": "slide"
    }
   },
   "source": [
    "**Problema**: eliminar valores repetidos numa lista"
   ]
  },
  {
   "cell_type": "code",
   "execution_count": 13,
   "metadata": {
    "collapsed": false
   },
   "outputs": [
    {
     "name": "stdout",
     "output_type": "stream",
     "text": [
      "[1, 2, 4, 7, 7, 5, 8, 8, 9, 10]\n",
      "[1, 2, 4, 7, 5, 8, 9, 10]\n"
     ]
    }
   ],
   "source": [
    "def elimin_reps(uma_lista):\n",
    "    res = []\n",
    "    for i in uma_lista:\n",
    "        if i not in res:\n",
    "            res.append(i)  \n",
    "    return res\n",
    "\n",
    "uma_lista = [1, 2, 4, 7, 7, 5, 8, 8, 9, 10]\n",
    "print(uma_lista)\n",
    "\n",
    "clean = elimin_reps(uma_lista)\n",
    "print(clean)"
   ]
  },
  {
   "cell_type": "markdown",
   "metadata": {
    "slideshow": {
     "slide_type": "slide"
    }
   },
   "source": [
    "Note-se que na função é criada uma lista nova:\n",
    "\n",
    "```\n",
    "res = []\n",
    "\n",
    "...\n",
    "      res.append(i)\n",
    "```\n",
    "\n",
    "e é esta lista que é o **resultado** da função."
   ]
  },
  {
   "cell_type": "markdown",
   "metadata": {
    "slideshow": {
     "slide_type": "slide"
    }
   },
   "source": [
    "**Problema**: eliminar valores repetidos numa lista, mas sem ser devolvida uma lista nova como resultado. Isto é, a função recebe uma lista e modifica-a, não havendo `return`."
   ]
  },
  {
   "cell_type": "code",
   "execution_count": 14,
   "metadata": {
    "collapsed": false,
    "slideshow": {
     "slide_type": "slide"
    }
   },
   "outputs": [
    {
     "name": "stdout",
     "output_type": "stream",
     "text": [
      "Antes [1, 2, 4, 7, 7, 5, 8, 8, 9, 10]\n",
      "Depois [1, 2, 4, 7, 5, 8, 9, 10]\n"
     ]
    }
   ],
   "source": [
    "def elimin_reps2(uma_lista):\n",
    "    res = []\n",
    "    for i in uma_lista:\n",
    "        if i not in res:\n",
    "            res.append(i)  \n",
    "    uma_lista[:] = res\n",
    "\n",
    "uma_lista = [1, 2, 4, 7, 7, 5, 8, 8, 9, 10]\n",
    "print('Antes', uma_lista)\n",
    "\n",
    "elimin_reps2(uma_lista)\n",
    "# não havendo return NÃO se dá um nome\n",
    "# ao resultado\n",
    "\n",
    "print('Depois', uma_lista)"
   ]
  },
  {
   "cell_type": "markdown",
   "metadata": {
    "slideshow": {
     "slide_type": "skip"
    }
   },
   "source": [
    "O que significa `uma_lista[:] = res` ?\n",
    "\n",
    "Usa-se um _slice_ para toda a lista (`uma_lista[:]` significa todos os elementos do princípio o fim)e atribuí-se a esse _slice_ uma lista nova. Assim, toda a lista é modificada.\n",
    "\n",
    "**Nota**: não é possível usar esta técnica com _strings_. As _strings_ são imutáveis."
   ]
  },
  {
   "cell_type": "markdown",
   "metadata": {
    "slideshow": {
     "slide_type": "slide"
    }
   },
   "source": [
    "Se as funções tiverem resultados é possível usá-las em cadeia:"
   ]
  },
  {
   "cell_type": "code",
   "execution_count": 15,
   "metadata": {
    "collapsed": false
   },
   "outputs": [
    {
     "name": "stdout",
     "output_type": "stream",
     "text": [
      "[4, 3, 37, 42, 'quatro']\n"
     ]
    }
   ],
   "source": [
    "def elimin_reps(uma_lista):\n",
    "    res = []\n",
    "    for i in uma_lista:\n",
    "        if i not in res:\n",
    "            res.append(i)  \n",
    "    return res\n",
    "def elimin_black(uma_lista, black_list):\n",
    "    return [i for i in uma_lista if i not in black_list]\n",
    "\n",
    "a = [1, 2, 4, 'um', 'dois', 3, 3, 37, 42, 42, 'quatro']\n",
    "black = [1, 2, 'um', 'dois']\n",
    "\n",
    "clean = elimin_reps(elimin_black(a, black))\n",
    "print(clean)"
   ]
  },
  {
   "cell_type": "markdown",
   "metadata": {
    "slideshow": {
     "slide_type": "slide"
    }
   },
   "source": [
    "## Âmbito dos nomes dentro de uma função"
   ]
  },
  {
   "cell_type": "code",
   "execution_count": 16,
   "metadata": {
    "collapsed": false,
    "slideshow": {
     "slide_type": "slide"
    }
   },
   "outputs": [
    {
     "name": "stdout",
     "output_type": "stream",
     "text": [
      "Para x = 2.0\n",
      "com m = 3.0\n",
      "com b = 2.0\n",
      "Resultado: 8.0\n"
     ]
    }
   ],
   "source": [
    "def recta(m, b, x):\n",
    "    print('Para x =', x)\n",
    "    print('com m =', m)\n",
    "    print('com b =', b)\n",
    "    r1 = m*x\n",
    "    r0 = b\n",
    "    return(r1 + r0)\n",
    "\n",
    "x, c1, c0 = 2.0, 3.0, 2.0\n",
    "\n",
    "res = recta(c1, c0, x)\n",
    "\n",
    "print('Resultado:', res)"
   ]
  },
  {
   "cell_type": "markdown",
   "metadata": {
    "slideshow": {
     "slide_type": "skip"
    }
   },
   "source": [
    "Este programa corre sem problemas.\n",
    "\n",
    "Note-se que podemos usar a função `print()` dentro de uma função."
   ]
  },
  {
   "cell_type": "code",
   "execution_count": 17,
   "metadata": {
    "collapsed": false,
    "slideshow": {
     "slide_type": "slide"
    }
   },
   "outputs": [
    {
     "name": "stdout",
     "output_type": "stream",
     "text": [
      "Para x = 2.0 m = 2.0 b = 3.0\n"
     ]
    },
    {
     "ename": "NameError",
     "evalue": "name 'r1' is not defined",
     "output_type": "error",
     "traceback": [
      "\u001b[0;31m---------------------------------------------------------------------------\u001b[0m",
      "\u001b[0;31mNameError\u001b[0m                                 Traceback (most recent call last)",
      "\u001b[0;32m<ipython-input-17-f26c93717bbe>\u001b[0m in \u001b[0;36m<module>\u001b[0;34m()\u001b[0m\n\u001b[1;32m      7\u001b[0m \u001b[1;33m\u001b[0m\u001b[0m\n\u001b[1;32m      8\u001b[0m \u001b[0mprint\u001b[0m\u001b[1;33m(\u001b[0m\u001b[1;34m'Para x ='\u001b[0m\u001b[1;33m,\u001b[0m \u001b[0mx\u001b[0m\u001b[1;33m,\u001b[0m \u001b[1;34m'm ='\u001b[0m\u001b[1;33m,\u001b[0m \u001b[0mm\u001b[0m\u001b[1;33m,\u001b[0m \u001b[1;34m'b ='\u001b[0m\u001b[1;33m,\u001b[0m \u001b[0mb\u001b[0m\u001b[1;33m)\u001b[0m\u001b[1;33m\u001b[0m\u001b[0m\n\u001b[0;32m----> 9\u001b[0;31m \u001b[0mprint\u001b[0m\u001b[1;33m(\u001b[0m\u001b[1;34m'm*x ='\u001b[0m\u001b[1;33m,\u001b[0m \u001b[0mr1\u001b[0m\u001b[1;33m,\u001b[0m \u001b[1;34m'b ='\u001b[0m\u001b[1;33m,\u001b[0m \u001b[0mr0\u001b[0m\u001b[1;33m)\u001b[0m\u001b[1;33m\u001b[0m\u001b[0m\n\u001b[0m\u001b[1;32m     10\u001b[0m \u001b[0mprint\u001b[0m\u001b[1;33m(\u001b[0m\u001b[1;34m'Resultado:'\u001b[0m\u001b[1;33m,\u001b[0m \u001b[0mres\u001b[0m\u001b[1;33m)\u001b[0m\u001b[1;33m\u001b[0m\u001b[0m\n",
      "\u001b[0;31mNameError\u001b[0m: name 'r1' is not defined"
     ]
    }
   ],
   "source": [
    "def recta(m, b, x):\n",
    "    r1, r0 = m*x, b\n",
    "    return r1 + r0\n",
    "\n",
    "m, b, x = 2.0, 3.0, 2.0\n",
    "res = recta(m, b, x)\n",
    "\n",
    "print('Para x =', x, 'm =', m, 'b =', b)\n",
    "print('m*x =', r1, 'b =', r0)\n",
    "print('Resultado:', res)"
   ]
  },
  {
   "cell_type": "markdown",
   "metadata": {
    "slideshow": {
     "slide_type": "skip"
    }
   },
   "source": [
    "O que se passou aqui?\n",
    "\n",
    "Os nomes usados dentro da função `r1` e `r0` são locais: pertencem ao **âmbito** da função.\n",
    "\n",
    "Qualquer parte do programa \"exterior\" à função não consegue \"ver\" esses nomes. Daí o erro durante a execução.\n",
    "\n",
    "O mesmo acontece aos próprios nomes locais dos **argumentos** da função:"
   ]
  },
  {
   "cell_type": "code",
   "execution_count": 18,
   "metadata": {
    "collapsed": false,
    "slideshow": {
     "slide_type": "slide"
    }
   },
   "outputs": [
    {
     "ename": "NameError",
     "evalue": "name 'm2' is not defined",
     "output_type": "error",
     "traceback": [
      "\u001b[0;31m---------------------------------------------------------------------------\u001b[0m",
      "\u001b[0;31mNameError\u001b[0m                                 Traceback (most recent call last)",
      "\u001b[0;32m<ipython-input-18-92c7134da27b>\u001b[0m in \u001b[0;36m<module>\u001b[0;34m()\u001b[0m\n\u001b[1;32m      6\u001b[0m \u001b[0mres\u001b[0m \u001b[1;33m=\u001b[0m \u001b[0mrecta2\u001b[0m\u001b[1;33m(\u001b[0m\u001b[0mm\u001b[0m\u001b[1;33m,\u001b[0m \u001b[0mb\u001b[0m\u001b[1;33m,\u001b[0m \u001b[0mx\u001b[0m\u001b[1;33m)\u001b[0m\u001b[1;33m\u001b[0m\u001b[0m\n\u001b[1;32m      7\u001b[0m \u001b[1;33m\u001b[0m\u001b[0m\n\u001b[0;32m----> 8\u001b[0;31m \u001b[0mprint\u001b[0m\u001b[1;33m(\u001b[0m\u001b[1;34m'Para x ='\u001b[0m\u001b[1;33m,\u001b[0m \u001b[0mx\u001b[0m\u001b[1;33m,\u001b[0m \u001b[1;34m'm2 ='\u001b[0m\u001b[1;33m,\u001b[0m \u001b[0mm2\u001b[0m\u001b[1;33m,\u001b[0m \u001b[1;34m'b2 ='\u001b[0m\u001b[1;33m,\u001b[0m \u001b[0mb2\u001b[0m\u001b[1;33m)\u001b[0m\u001b[1;33m\u001b[0m\u001b[0m\n\u001b[0m\u001b[1;32m      9\u001b[0m \u001b[0mprint\u001b[0m\u001b[1;33m(\u001b[0m\u001b[1;34m'Resultado:'\u001b[0m\u001b[1;33m,\u001b[0m \u001b[0mres\u001b[0m\u001b[1;33m)\u001b[0m\u001b[1;33m\u001b[0m\u001b[0m\n",
      "\u001b[0;31mNameError\u001b[0m: name 'm2' is not defined"
     ]
    }
   ],
   "source": [
    "def recta2(m2, b2, x):\n",
    "    r1, r0 = m2*x, b2\n",
    "    return r1 + r0\n",
    "\n",
    "m, b, x = 2.0, 3.0, 2.0\n",
    "res = recta2(m, b, x)\n",
    "\n",
    "print('Para x =', x, 'm2 =', m2, 'b2 =', b2)\n",
    "print('Resultado:', res)"
   ]
  },
  {
   "cell_type": "code",
   "execution_count": 19,
   "metadata": {
    "collapsed": false,
    "slideshow": {
     "slide_type": "slide"
    }
   },
   "outputs": [
    {
     "name": "stdout",
     "output_type": "stream",
     "text": [
      "Dentro da função --------\n",
      "m = 5 b = 5 x = 16\n",
      "-------------------------\n",
      "m = 2 b = 2 x = 4\n",
      "\n",
      "Resultado: 85\n"
     ]
    }
   ],
   "source": [
    "def recta(m, b, x):\n",
    "    print('Dentro da função --------')\n",
    "    print('m =', m, 'b =', b, 'x =', x)\n",
    "    print('-------------------------')\n",
    "    x = m * x + b\n",
    "    return x\n",
    "\n",
    "m = 2\n",
    "b = 2\n",
    "x = 4\n",
    "\n",
    "res = recta(m + 3, b + 3, x * x)\n",
    "\n",
    "print('m =', m, 'b =', b, 'x =', x)\n",
    "print('\\nResultado:', res)"
   ]
  },
  {
   "cell_type": "markdown",
   "metadata": {
    "slideshow": {
     "slide_type": "skip"
    }
   },
   "source": [
    "Este programa corre sem problemas!\n",
    "\n",
    "Mas cada um dos nomes `m`, `b`, `x` é usado em dois contextos e tem valores diferentes:\n",
    "\n",
    "- O contexto local, quando estão \"dentro\" da função.\n",
    "- O contexto global, quando estão \"fora da função\".\n",
    "\n",
    "Fora da função, os valores globais são:\n",
    "\n",
    "```\n",
    "m = 2\n",
    "b = 2\n",
    "x = 4\n",
    "```\n",
    "\n",
    "Estes valores não são modificados fora da função e são apresentados pela função `print()` no final.\n",
    "\n",
    "Dentro da função estes nomes são, em primeiro lugar, usados como os argumentos da função.\n",
    "\n",
    "Pela **maneira como a função é chamada**, estes valores são:\n",
    "\n",
    "```\n",
    "m = 5\n",
    "b = 5\n",
    "x = 16\n",
    "```\n",
    "\n",
    "O nome `x` é modificado dentro da função (`x = m * x + b`) ficando com o valor final 85 e é este valor que é o resultado da função (`return x`).\n",
    "\n",
    "Quando a função termina e estamos de novo \"de fora\" da função, o valor de `x` volta a ser 4, uma vez que voltamos a um contexto \"global\"."
   ]
  },
  {
   "cell_type": "markdown",
   "metadata": {
    "slideshow": {
     "slide_type": "slide"
    }
   },
   "source": [
    "## Valores _por omissão_ em argumentos de funções"
   ]
  },
  {
   "cell_type": "code",
   "execution_count": 20,
   "metadata": {
    "collapsed": false,
    "slideshow": {
     "slide_type": "slide"
    }
   },
   "outputs": [
    {
     "name": "stdout",
     "output_type": "stream",
     "text": [
      "a = 1 b = 0 --> return = 1\n",
      "a = 1 b = 3 --> return = 4\n",
      "a = 2 b = 3 --> return = 5\n",
      "a = 2 b = 3 --> return = 5\n"
     ]
    }
   ],
   "source": [
    "def mix(a=1, b=0):\n",
    "    c = a + b\n",
    "    print('a =', a, 'b =', b, '--> return =', c)\n",
    "    return c\n",
    "\n",
    "x = mix()\n",
    "\n",
    "x = mix(b=3)\n",
    "\n",
    "x = mix(a=2, b=3)\n",
    "\n",
    "x = mix(2,3)"
   ]
  },
  {
   "cell_type": "code",
   "execution_count": 21,
   "metadata": {
    "collapsed": false,
    "slideshow": {
     "slide_type": "slide"
    }
   },
   "outputs": [
    {
     "name": "stdout",
     "output_type": "stream",
     "text": [
      "O factorial de 20 é 2432902008176640000\n"
     ]
    }
   ],
   "source": [
    "def factorial(n, trace=False):\n",
    "    p = 1\n",
    "    for i in range(2,n+1):\n",
    "        p = p * i\n",
    "        if trace:\n",
    "            print(i, p)\n",
    "    return p\n",
    "\n",
    "f20 = factorial(20)\n",
    "print('O factorial de 20 é', f20)"
   ]
  },
  {
   "cell_type": "code",
   "execution_count": 22,
   "metadata": {
    "collapsed": false,
    "slideshow": {
     "slide_type": "slide"
    }
   },
   "outputs": [
    {
     "name": "stdout",
     "output_type": "stream",
     "text": [
      "2 2\n",
      "3 6\n",
      "4 24\n",
      "5 120\n",
      "6 720\n",
      "7 5040\n",
      "8 40320\n",
      "9 362880\n",
      "10 3628800\n",
      "11 39916800\n",
      "12 479001600\n",
      "13 6227020800\n",
      "14 87178291200\n",
      "15 1307674368000\n",
      "16 20922789888000\n",
      "17 355687428096000\n",
      "18 6402373705728000\n",
      "19 121645100408832000\n",
      "20 2432902008176640000\n",
      "O factorial de 20 é 2432902008176640000\n"
     ]
    }
   ],
   "source": [
    "def factorial(n, trace=False):\n",
    "    p = 1\n",
    "    for i in range(2,n+1):\n",
    "        p = p * i\n",
    "        if trace:\n",
    "            print(i, p)\n",
    "    return p\n",
    "\n",
    "f20 = factorial(20, trace=True)\n",
    "print('O factorial de 20 é', f20)"
   ]
  },
  {
   "cell_type": "markdown",
   "metadata": {
    "collapsed": true,
    "slideshow": {
     "slide_type": "slide"
    }
   },
   "source": [
    "# Formatação de _strings_ com `.format()`"
   ]
  },
  {
   "cell_type": "code",
   "execution_count": 23,
   "metadata": {
    "collapsed": false,
    "slideshow": {
     "slide_type": "slide"
    }
   },
   "outputs": [
    {
     "name": "stdout",
     "output_type": "stream",
     "text": [
      "x = 11, y = 20, z = 3\n"
     ]
    }
   ],
   "source": [
    "x = 11\n",
    "y = 20\n",
    "z = 3\n",
    "\n",
    "print('x = {}, y = {}, z = {}'.format(x, y, z))"
   ]
  },
  {
   "cell_type": "code",
   "execution_count": 24,
   "metadata": {
    "collapsed": false,
    "slideshow": {
     "slide_type": "slide"
    }
   },
   "outputs": [
    {
     "name": "stdout",
     "output_type": "stream",
     "text": [
      "O elemento com n = 3 é o Li\n",
      "O elemento com n = 1 é o H\n",
      "O elemento com n = 19 é o K\n",
      "O elemento com n = 11 é o Na\n"
     ]
    }
   ],
   "source": [
    "d = {'H':1, 'Li':3, 'Na':11, 'K':19}\n",
    "\n",
    "for k, v in d.items():\n",
    "    print('O elemento com n = {1} é o {0}'.format(k, v))"
   ]
  },
  {
   "cell_type": "code",
   "execution_count": 25,
   "metadata": {
    "collapsed": false,
    "slideshow": {
     "slide_type": "slide"
    }
   },
   "outputs": [
    {
     "name": "stdout",
     "output_type": "stream",
     "text": [
      "O elemento com  n =  3 é o Li\n",
      "O elemento com  n =  1 é o H\n",
      "O elemento com  n = 19 é o K\n",
      "O elemento com  n = 11 é o Na\n"
     ]
    }
   ],
   "source": [
    "d = {'H':1, 'Li':3, 'Na':11, 'K':19}\n",
    "\n",
    "for k, v in d.items():\n",
    "    print('O elemento com  n = {1:2} é o {0}'.format(k, v))"
   ]
  },
  {
   "cell_type": "code",
   "execution_count": 26,
   "metadata": {
    "collapsed": false,
    "slideshow": {
     "slide_type": "slide"
    }
   },
   "outputs": [
    {
     "name": "stdout",
     "output_type": "stream",
     "text": [
      "O elemento com  n = 3  é o Li\n",
      "O elemento com  n = 1  é o H\n",
      "O elemento com  n = 19 é o K\n",
      "O elemento com  n = 11 é o Na\n"
     ]
    }
   ],
   "source": [
    "d = {'H':1, 'Li':3, 'Na':11, 'K':19}\n",
    "\n",
    "for k, v in d.items():\n",
    "    print('O elemento com  n = {1:<2} é o {0}'.format(k, v))"
   ]
  },
  {
   "cell_type": "code",
   "execution_count": 27,
   "metadata": {
    "collapsed": false,
    "slideshow": {
     "slide_type": "slide"
    }
   },
   "outputs": [
    {
     "name": "stdout",
     "output_type": "stream",
     "text": [
      "1 1.0 0.3068528194400547\n",
      "2 0.5 0.1931471805599453\n",
      "3 0.8333333333333333 0.14018615277338797\n",
      "4 0.5833333333333333 0.10981384722661203\n",
      "5 0.7833333333333332 0.09018615277338793\n",
      "6 0.6166666666666666 0.0764805138932787\n",
      "7 0.7595238095238095 0.0663766289638642\n",
      "8 0.6345238095238095 0.058623371036135796\n",
      "9 0.7456349206349207 0.052487740074975364\n",
      "10 0.6456349206349207 0.047512259925024614\n",
      "11 0.7365440115440116 0.043396830984066326\n",
      "12 0.6532106782106782 0.039936502349267045\n",
      "13 0.7301337551337552 0.03698657457380994\n",
      "14 0.6587051837051838 0.03444199685476146\n",
      "15 0.7253718503718505 0.03222466981190519\n",
      "16 0.6628718503718505 0.030275330188094807\n",
      "17 0.7216953797836152 0.028548199223669912\n",
      "18 0.6661398242280596 0.027007356331885668\n",
      "19 0.718771403175428 0.025624222615482695\n",
      "20 0.6687714031754279 0.02437577738451735\n"
     ]
    }
   ],
   "source": [
    "import math\n",
    "log2 = math.log(2)\n",
    "\n",
    "soma = 0.0 # acumula a soma parcial da série\n",
    "\n",
    "for i in range(1, 21):\n",
    "    soma = soma + (-1)**(i+1) / i\n",
    "    dif = abs(soma - log2)\n",
    "    print(i , soma , dif)"
   ]
  },
  {
   "cell_type": "code",
   "execution_count": 28,
   "metadata": {
    "collapsed": false,
    "slideshow": {
     "slide_type": "slide"
    }
   },
   "outputs": [
    {
     "name": "stdout",
     "output_type": "stream",
     "text": [
      "   n     S        dif   \n",
      "   1  1.000000  0.306853\n",
      "   2  0.500000  0.193147\n",
      "   3  0.833333  0.140186\n",
      "   4  0.583333  0.109814\n",
      "   5  0.783333  0.090186\n",
      "   6  0.616667  0.076481\n",
      "   7  0.759524  0.066377\n",
      "   8  0.634524  0.058623\n",
      "   9  0.745635  0.052488\n",
      "  10  0.645635  0.047512\n",
      "  11  0.736544  0.043397\n",
      "  12  0.653211  0.039937\n",
      "  13  0.730134  0.036987\n",
      "  14  0.658705  0.034442\n",
      "  15  0.725372  0.032225\n",
      "  16  0.662872  0.030275\n",
      "  17  0.721695  0.028548\n",
      "  18  0.666140  0.027007\n",
      "  19  0.718771  0.025624\n",
      "  20  0.668771  0.024376\n"
     ]
    }
   ],
   "source": [
    "import math\n",
    "log2 = math.log(2)\n",
    "\n",
    "soma = 0.0 # acumula a soma parcial da série\n",
    "\n",
    "print('{:>4} {:^9} {:^9}'.format('n' , 'S' , 'dif'))\n",
    "for i in range(1, 21):\n",
    "    soma = soma + (-1)**(i+1) / i\n",
    "    dif = abs(soma - log2)\n",
    "    print('{:4d} {:9.6f} {:9.6f}'.format(i,soma,dif))"
   ]
  },
  {
   "cell_type": "markdown",
   "metadata": {
    "slideshow": {
     "slide_type": "slide"
    }
   },
   "source": [
    "Consultar a documentação da [Format Specification Mini-Language](https://docs.python.org/3/library/string.html#formatspec)"
   ]
  }
 ],
 "metadata": {
  "anaconda-cloud": {},
  "kernelspec": {
   "display_name": "Python [default]",
   "language": "python",
   "name": "python3"
  },
  "language_info": {
   "codemirror_mode": {
    "name": "ipython",
    "version": 3
   },
   "file_extension": ".py",
   "mimetype": "text/x-python",
   "name": "python",
   "nbconvert_exporter": "python",
   "pygments_lexer": "ipython3",
   "version": "3.5.2"
  }
 },
 "nbformat": 4,
 "nbformat_minor": 0
}
