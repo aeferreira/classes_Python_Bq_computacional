{
 "cells": [
  {
   "cell_type": "markdown",
   "metadata": {},
   "source": [
    "# Funções definidas pelo programador"
   ]
  },
  {
   "cell_type": "markdown",
   "metadata": {},
   "source": [
    "## Introdução ao problema"
   ]
  },
  {
   "cell_type": "markdown",
   "metadata": {},
   "source": [
    "Num problema das TPs, tivemos de separar uma sequência em codões e \"hifenar\", várias vezes ao longo de um programa:"
   ]
  },
  {
   "cell_type": "code",
   "execution_count": null,
   "metadata": {
    "collapsed": true
   },
   "outputs": [],
   "source": [
    "# ...\n",
    "codoes1 = [seq[i:i+3] for i in range(0, len(seq), 3)]\n",
    "cadeia = \"5'-\"   +   \"-\".join(codoes1)   +   \"-3'\"\n",
    "codoes2 = [comp[i:i+3] for i in range(0, len(comp), 3)]\n",
    "cadeiacomp = \"3'-\"   +   \"-\".join(codoes2)   +   \"-5'\"\n",
    "# ...\n",
    "codoes3 = [revcomp[i:i+3] for i in range(0, len(revcomp), 3)]\n",
    "cadeiareversa = \"5'-\"   +   \"-\".join(codoes3)   +   \"-3'\""
   ]
  },
  {
   "cell_type": "markdown",
   "metadata": {},
   "source": [
    "A parte do programa\n",
    "\n",
    "```\n",
    "codoes1 = [seq[i:i+3] for i in range(0, len(seq), 3)]\n",
    "cadeia = \"5'-\"   +   \"-\".join(codoes1)   +   \"-3'\"\n",
    "```\n",
    "\n",
    "repete-se várias vezes, mudando a sequência sobre a qual é aplicada (`seq`, `comp`, `revcomp`).\n",
    "\n",
    "Como podemos não repetir o \"texto\" desta parte do programa, embora aplicando a diferentes sequências?"
   ]
  },
  {
   "cell_type": "markdown",
   "metadata": {},
   "source": [
    "**Solução: funções**\n",
    "\n",
    "(também conhecidas como _subprogramas_, _subrotinas_, isto é, mini-programas dentro de programas)"
   ]
  },
  {
   "cell_type": "markdown",
   "metadata": {},
   "source": [
    "Já vimos várias funções, sempre disponíveis ou disponíveis após importação de módulos:"
   ]
  },
  {
   "cell_type": "code",
   "execution_count": null,
   "metadata": {
    "collapsed": true
   },
   "outputs": [],
   "source": [
    "n = len(a)\n",
    "\n",
    "f = int(4.2)\n",
    "\n",
    "nA = s.count('A')\n",
    "\n",
    "a.append(c)\n",
    "\n",
    "import math\n",
    "l = math.log(2.0)"
   ]
  },
  {
   "cell_type": "markdown",
   "metadata": {},
   "source": [
    "## Definição de funções com `def`"
   ]
  },
  {
   "cell_type": "markdown",
   "metadata": {},
   "source": [
    "**Podemos escrever outras funções para \"aumentar\" a linguagem.**\n",
    "\n",
    "Tal como na matemática, as funções transformam objetos noutros objetos:\n",
    "\n",
    "![](images_fns/genf.png)\n",
    "\n",
    "Mas, tal como na matemática, as funções são escritas para atuar sobre objetos genéricos (`x`):\n",
    "\n",
    "![](images_fns/genfx.png)"
   ]
  },
  {
   "cell_type": "markdown",
   "metadata": {},
   "source": [
    "**Problema**: escrever uma função que, dada uma sequência, devolva a sequência com os codoes separados por `-`."
   ]
  },
  {
   "cell_type": "code",
   "execution_count": null,
   "metadata": {
    "collapsed": true
   },
   "outputs": [],
   "source": [
    "def seqcods(x):\n",
    "    cods = [x[i:i+3] for i in range(0,len(x),3)]\n",
    "    comhifen = '-'.join(cods)\n",
    "    return comhifen"
   ]
  },
  {
   "cell_type": "markdown",
   "metadata": {},
   "source": [
    "## Anatomia de uma função:\n",
    "\n",
    "![](images_fns/anatf.png)"
   ]
  },
  {
   "cell_type": "markdown",
   "metadata": {},
   "source": [
    "A definição de uma função (`def`) não executa nada imediatamente.\n",
    "\n",
    "É necessário **chamar** (ou \"_invocar_\") a função para esta ser usada:"
   ]
  },
  {
   "cell_type": "code",
   "execution_count": 2,
   "metadata": {
    "collapsed": false
   },
   "outputs": [
    {
     "name": "stdout",
     "output_type": "stream",
     "text": [
      "ATGGTTACCTAGTATTTAGGATTA\n",
      "ATG-GTT-ACC-TAG-TAT-TTA-GGA-TTA\n"
     ]
    }
   ],
   "source": [
    "def seqcods(x):\n",
    "    cods = [x[i:i+3] for i in range(0,len(x),3)]\n",
    "    comhifen = '-'.join(cods)\n",
    "    return comhifen\n",
    "\n",
    "a = \"ATGGTTACCTAGTATTTAGGATTA\"\n",
    "print a\n",
    "\n",
    "# A função é chamada aqui:\n",
    "s = seqcods(a)\n",
    "\n",
    "print s"
   ]
  },
  {
   "cell_type": "markdown",
   "metadata": {},
   "source": [
    "**NOTA**: O comando `return` pode \"devolver\" uma expressão complicada (não só o nome de um objeto):"
   ]
  },
  {
   "cell_type": "code",
   "execution_count": 4,
   "metadata": {
    "collapsed": false
   },
   "outputs": [
    {
     "name": "stdout",
     "output_type": "stream",
     "text": [
      "ATGGTTACCTAGTATTTAGGATTA\n",
      "ATG-GTT-ACC-TAG-TAT-TTA-GGA-TTA\n"
     ]
    }
   ],
   "source": [
    "def seqcods(x):\n",
    "    return '-'.join( [x[i:i+3] for i in range(0,len(x),3)])\n",
    "\n",
    "a = \"ATGGTTACCTAGTATTTAGGATTA\"\n",
    "print a\n",
    "\n",
    "# A função é chamada aqui:\n",
    "s = seqcods(a)\n",
    "\n",
    "print s"
   ]
  },
  {
   "cell_type": "markdown",
   "metadata": {},
   "source": [
    "**Em resumo:**\n",
    "\n",
    "A linha\n",
    "\n",
    "`def seqcods(x):`\n",
    "\n",
    "\"regista\" uma nova função, chamada `seqcods`, que pode ser usada em qualquer ponto do programa, da forma seguinte:\n",
    "\n",
    "`s = seqcods(a)`"
   ]
  },
  {
   "cell_type": "markdown",
   "metadata": {},
   "source": [
    "**Entrada e saída de valores quando uma função é chamada**:\n",
    "\n",
    "![](images_fns/fargs_ret.png)"
   ]
  },
  {
   "cell_type": "markdown",
   "metadata": {},
   "source": [
    "### Exemplo: função `factorial()`:"
   ]
  },
  {
   "cell_type": "code",
   "execution_count": 5,
   "metadata": {
    "collapsed": false
   },
   "outputs": [
    {
     "name": "stdout",
     "output_type": "stream",
     "text": [
      "788657867364790503552363213932185062295135977687173263294742533244359449963403342920304284011984623904177212138919638830257642790242637105061926624952829931113462857270763317237396988943922445621451664240254033291864131227428294853277524242407573903240321257405579568660226031904170324062351700858796178922222789623703897374720000000000000000000000000000000000000000000000000\n"
     ]
    }
   ],
   "source": [
    "def factorial(n):\n",
    "    res = 1\n",
    "    for k in range(2,n+1):\n",
    "        res = res * k\n",
    "    return res\n",
    "\n",
    "print factorial(200)"
   ]
  },
  {
   "cell_type": "markdown",
   "metadata": {},
   "source": [
    "### Vários tipos de funções"
   ]
  },
  {
   "cell_type": "code",
   "execution_count": null,
   "metadata": {
    "collapsed": true
   },
   "outputs": [],
   "source": [
    "n = len(a)\n",
    "#1 argumento, 1 resultado\n",
    "\n",
    "f = factorial(200)\n",
    "#1 argumento, 1 resultado\n",
    "\n",
    "nA = s.count('A')\n",
    "#1 arg, 1 res, associada a um objeto (string s)\n",
    "\n",
    "a.append('pois')\n",
    "#1 arg, 0 res, associada a um objeto (lista a)"
   ]
  },
  {
   "cell_type": "code",
   "execution_count": null,
   "metadata": {
    "collapsed": true
   },
   "outputs": [],
   "source": [
    "a.reverse() # altera uma lista, revertendo a ordem\n",
    "#0 argumentos, 0 resultados, modifica o objeto\n",
    "\n",
    "k = s.upper()\n",
    "#0 args, 1 resultado, associada a um objeto\n",
    "\n",
    "b = math.log(64, 2)\n",
    "#2 arg, 1 res"
   ]
  },
  {
   "cell_type": "code",
   "execution_count": 6,
   "metadata": {
    "collapsed": false
   },
   "outputs": [
    {
     "name": "stdout",
     "output_type": "stream",
     "text": [
      "time.struct_time(tm_year=2015, tm_mon=5, tm_mday=11, tm_hour=14, tm_min=0, tm_sec=5, tm_wday=0, tm_yday=131, tm_isdst=1)\n"
     ]
    }
   ],
   "source": [
    "import time\n",
    "x = time.localtime(time.time())\n",
    "print x\n",
    "# time()     : 0 arg, 1 res\n",
    "# localtime(): 1 arg, 9 res"
   ]
  },
  {
   "cell_type": "markdown",
   "metadata": {},
   "source": [
    "**Problema**: eliminar valores repetidos numa lista (exemplo de uma função sem resultado)"
   ]
  },
  {
   "cell_type": "code",
   "execution_count": 7,
   "metadata": {
    "collapsed": false
   },
   "outputs": [
    {
     "name": "stdout",
     "output_type": "stream",
     "text": [
      "[1, 2, 4.5, 7, 7, 5, 8, 8, 9, 10]\n",
      "[1, 2, 4.5, 7, 5, 8, 9, 10]\n"
     ]
    }
   ],
   "source": [
    "def elimin_reps(a):\n",
    "    u = []\n",
    "    for i in a:\n",
    "        if i not in u:\n",
    "            u.append(i)  \n",
    "    a[:] = u\n",
    "\n",
    "uma_lista = [1,2,4.5, 7, 7, 5, 8, 8, 9, 10]\n",
    "print uma_lista\n",
    "\n",
    "elimin_reps(uma_lista)\n",
    "print uma_lista"
   ]
  },
  {
   "cell_type": "markdown",
   "metadata": {},
   "source": [
    "## Âmbito dos nomes"
   ]
  },
  {
   "cell_type": "code",
   "execution_count": 8,
   "metadata": {
    "collapsed": false
   },
   "outputs": [
    {
     "name": "stdout",
     "output_type": "stream",
     "text": [
      "Argumentos: 3.0 2.0 2.0\n",
      "m*x = 6.0 b = 2.0\n",
      "Resultado: 8.0\n"
     ]
    }
   ],
   "source": [
    "def poly2(m, b, x):\n",
    "    print 'Argumentos:', m, b, x\n",
    "    r1 = m*x\n",
    "    r0 = b\n",
    "    print 'm*x =', r1, 'b =', r0\n",
    "    return r1 + r0\n",
    "\n",
    "x, c1, c2 = 2.0, 3.0, 2.0\n",
    "\n",
    "res = poly2(c1, c2, x)\n",
    "\n",
    "print 'Resultado:', res"
   ]
  },
  {
   "cell_type": "markdown",
   "metadata": {},
   "source": [
    "Este programa corre sem problemas.\n",
    "\n",
    "Note-se que podemos usar o comando `print` dentro de uma função."
   ]
  },
  {
   "cell_type": "code",
   "execution_count": 9,
   "metadata": {
    "collapsed": false
   },
   "outputs": [
    {
     "name": "stdout",
     "output_type": "stream",
     "text": [
      "Argumentos: 3.0 2.0 2.0\n",
      "m*x ="
     ]
    },
    {
     "ename": "NameError",
     "evalue": "name 'r1' is not defined",
     "output_type": "error",
     "traceback": [
      "\u001b[1;31m---------------------------------------------------------------------------\u001b[0m",
      "\u001b[1;31mNameError\u001b[0m                                 Traceback (most recent call last)",
      "\u001b[1;32m<ipython-input-9-4e719e9a0317>\u001b[0m in \u001b[0;36m<module>\u001b[1;34m()\u001b[0m\n\u001b[0;32m      6\u001b[0m \u001b[0mx\u001b[0m\u001b[1;33m,\u001b[0m \u001b[0mc1\u001b[0m\u001b[1;33m,\u001b[0m \u001b[0mc2\u001b[0m \u001b[1;33m=\u001b[0m \u001b[1;36m2.0\u001b[0m\u001b[1;33m,\u001b[0m \u001b[1;36m3.0\u001b[0m\u001b[1;33m,\u001b[0m \u001b[1;36m2.0\u001b[0m\u001b[1;33m\u001b[0m\u001b[0m\n\u001b[0;32m      7\u001b[0m \u001b[0mres\u001b[0m \u001b[1;33m=\u001b[0m \u001b[0mpoly2\u001b[0m\u001b[1;33m(\u001b[0m\u001b[0mc1\u001b[0m\u001b[1;33m,\u001b[0m \u001b[0mc2\u001b[0m\u001b[1;33m,\u001b[0m \u001b[0mx\u001b[0m\u001b[1;33m)\u001b[0m\u001b[1;33m\u001b[0m\u001b[0m\n\u001b[1;32m----> 8\u001b[1;33m \u001b[1;32mprint\u001b[0m \u001b[1;34m'm*x ='\u001b[0m\u001b[1;33m,\u001b[0m \u001b[0mr1\u001b[0m\u001b[1;33m,\u001b[0m \u001b[1;34m'b ='\u001b[0m\u001b[1;33m,\u001b[0m \u001b[0mr0\u001b[0m\u001b[1;33m\u001b[0m\u001b[0m\n\u001b[0m\u001b[0;32m      9\u001b[0m \u001b[1;32mprint\u001b[0m \u001b[1;34m'Resultado:'\u001b[0m\u001b[1;33m,\u001b[0m \u001b[0mres\u001b[0m\u001b[1;33m\u001b[0m\u001b[0m\n",
      "\u001b[1;31mNameError\u001b[0m: name 'r1' is not defined"
     ]
    }
   ],
   "source": [
    "def poly2(m, b, x):\n",
    "    print 'Argumentos:', m, b, x\n",
    "    r1, r0 = m*x, b\n",
    "    return r1 + r0\n",
    "\n",
    "x, c1, c2 = 2.0, 3.0, 2.0\n",
    "res = poly2(c1, c2, x)\n",
    "print 'm*x =', r1, 'b =', r0\n",
    "print 'Resultado:', res"
   ]
  },
  {
   "cell_type": "markdown",
   "metadata": {},
   "source": [
    "O que se passou aqui?\n",
    "\n",
    "Os nomes usados dentro da função `r1` e `r0` são locais: pertencem ao **âmbito** da função.\n",
    "\n",
    "Qualquer código \"exterior\" à função não consegue \"ver\" esses nomes. Daí o erro duarnte a execução.\n",
    "\n",
    "O mesmo acontece aos próprios nomes locais dos **argumentos** da função:"
   ]
  },
  {
   "cell_type": "code",
   "execution_count": 10,
   "metadata": {
    "collapsed": false
   },
   "outputs": [
    {
     "name": "stdout",
     "output_type": "stream",
     "text": [
      " Argumentos:"
     ]
    },
    {
     "ename": "NameError",
     "evalue": "name 'm' is not defined",
     "output_type": "error",
     "traceback": [
      "\u001b[1;31m---------------------------------------------------------------------------\u001b[0m",
      "\u001b[1;31mNameError\u001b[0m                                 Traceback (most recent call last)",
      "\u001b[1;32m<ipython-input-10-abd5b8acedfb>\u001b[0m in \u001b[0;36m<module>\u001b[1;34m()\u001b[0m\n\u001b[0;32m      5\u001b[0m \u001b[0mx\u001b[0m\u001b[1;33m,\u001b[0m \u001b[0mc1\u001b[0m\u001b[1;33m,\u001b[0m \u001b[0mc2\u001b[0m \u001b[1;33m=\u001b[0m \u001b[1;36m2.0\u001b[0m\u001b[1;33m,\u001b[0m \u001b[1;36m3.0\u001b[0m\u001b[1;33m,\u001b[0m \u001b[1;36m2.0\u001b[0m\u001b[1;33m\u001b[0m\u001b[0m\n\u001b[0;32m      6\u001b[0m \u001b[0mres\u001b[0m \u001b[1;33m=\u001b[0m \u001b[0mpoly2\u001b[0m\u001b[1;33m(\u001b[0m\u001b[0mc1\u001b[0m\u001b[1;33m,\u001b[0m \u001b[0mc2\u001b[0m\u001b[1;33m,\u001b[0m \u001b[0mx\u001b[0m\u001b[1;33m)\u001b[0m\u001b[1;33m\u001b[0m\u001b[0m\n\u001b[1;32m----> 7\u001b[1;33m \u001b[1;32mprint\u001b[0m \u001b[1;34m'Argumentos:'\u001b[0m\u001b[1;33m,\u001b[0m \u001b[0mm\u001b[0m\u001b[1;33m,\u001b[0m \u001b[0mb\u001b[0m\u001b[1;33m,\u001b[0m \u001b[0mx\u001b[0m\u001b[1;33m\u001b[0m\u001b[0m\n\u001b[0m\u001b[0;32m      8\u001b[0m \u001b[1;32mprint\u001b[0m \u001b[1;34m'Resultado:'\u001b[0m\u001b[1;33m,\u001b[0m \u001b[0mres\u001b[0m\u001b[1;33m\u001b[0m\u001b[0m\n",
      "\u001b[1;31mNameError\u001b[0m: name 'm' is not defined"
     ]
    }
   ],
   "source": [
    "def poly2(m, b, x):\n",
    "    r1, r0 = m*x, b\n",
    "    return r1 + r0\n",
    "\n",
    "x, c1, c2 = 2.0, 3.0, 2.0\n",
    "res = poly2(c1, c2, x)\n",
    "print 'Argumentos:', m, b, x\n",
    "print 'Resultado:', res"
   ]
  }
 ],
 "metadata": {
  "kernelspec": {
   "display_name": "Python 2",
   "language": "python",
   "name": "python2"
  },
  "language_info": {
   "codemirror_mode": {
    "name": "ipython",
    "version": 2
   },
   "file_extension": ".py",
   "mimetype": "text/x-python",
   "name": "python",
   "nbconvert_exporter": "python",
   "pygments_lexer": "ipython2",
   "version": "2.7.11"
  }
 },
 "nbformat": 4,
 "nbformat_minor": 0
}
