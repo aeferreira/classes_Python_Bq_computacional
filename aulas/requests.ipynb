{
 "cells": [
  {
   "cell_type": "code",
   "execution_count": 1,
   "metadata": {
    "collapsed": true
   },
   "outputs": [],
   "source": [
    "import requests"
   ]
  },
  {
   "cell_type": "code",
   "execution_count": 6,
   "metadata": {
    "collapsed": false
   },
   "outputs": [
    {
     "name": "stdout",
     "output_type": "stream",
     "text": [
      "status 200\n",
      "content.type text/plain\n",
      "headers {'content-length': '552', 'x-uniprot-release': '2015_04', 'x-total-results': '1', 'vary': 'User-Agent', 'server': 'Apache-Coyote/1.1', 'date': 'Tue, 07 Apr 2015 20:50:55 GMT', 'access-control-allow-origin': '*', 'access-control-allow-headers': 'origin, x-requested-with, content-type', 'content-type': 'text/plain', 'x-hosted-by': 'European Bioinformatics Institute'}\n",
      "-- text -------------------\n",
      ">sp|P00924|ENO1_YEAST Enolase 1 OS=Saccharomyces cerevisiae (strain ATCC 204508 / S288c) GN=ENO1 PE=1 SV=3\n",
      "MAVSKVYARSVYDSRGNPTVEVELTTEKGVFRSIVPSGASTGVHEALEMRDGDKSKWMGK\n",
      "GVLHAVKNVNDVIAPAFVKANIDVKDQKAVDDFLISLDGTANKSKLGANAILGVSLAASR\n",
      "AAAAEKNVPLYKHLADLSKSKTSPYVLPVPFLNVLNGGSHAGGALALQEFMIAPTGAKTF\n",
      "AEALRIGSEVYHNLKSLTKKRYGASAGNVGDEGGVAPNIQTAEEALDLIVDAIKAAGHDG\n",
      "KIKIGLDCASSEFFKDGKYDLDFKNPNSDKSKWLTGPQLADLYHSLMKRYPIVSIEDPFA\n",
      "EDDWEAWSHFFKTAGIQIVADDLTVTNPKRIATAIEKKAADALLLKVNQIGTLSESIKAA\n",
      "QDSFAAGWGVMVSHRSGETEDTFIADLVVGLRTGQIKTGAPARSERLAKLNQLLRIEEEL\n",
      "GDNAVFAGENFHHGDKL\n",
      "\n"
     ]
    }
   ],
   "source": [
    "r = requests.get('http://www.uniprot.org/uniprot/P00924.fasta')\n",
    "print 'status', r.status_code\n",
    "print 'headers', r.headers\n",
    "print '-- text -------------------'\n",
    "print r.text"
   ]
  },
  {
   "cell_type": "code",
   "execution_count": 7,
   "metadata": {
    "collapsed": false
   },
   "outputs": [
    {
     "name": "stdout",
     "output_type": "stream",
     "text": [
      "status 200\n",
      "headers {'x-uniprot-release': '2015_04', 'content-encoding': 'gzip', 'transfer-encoding': 'chunked', 'x-total-results': '1', 'vary': 'User-Agent, Accept-Encoding', 'server': 'Apache-Coyote/1.1', 'date': 'Tue, 07 Apr 2015 20:53:26 GMT', 'access-control-allow-origin': '*', 'access-control-allow-headers': 'origin, x-requested-with, content-type', 'content-type': 'text/plain', 'x-hosted-by': 'European Bioinformatics Institute'}\n",
      "-- text -------------------\n",
      "FT   INIT_MET      1      1       Removed. {ECO:0000269|PubMed:7005235,\n",
      "FT                                ECO:0000269|Ref.6}.\n",
      "FT   CHAIN         2    437       Enolase 1.\n",
      "FT                                /FTId=PRO_0000134062.\n",
      "FT   REGION      373    376       Substrate binding.\n",
      "FT   ACT_SITE    212    212       Proton donor. {ECO:0000305}.\n",
      "FT   ACT_SITE    346    346       Proton acceptor.\n",
      "FT   METAL       247    247       Magnesium. {ECO:0000269|PubMed:8605183}.\n",
      "FT   METAL       296    296       Magnesium. {ECO:0000269|PubMed:8605183}.\n",
      "FT   METAL       321    321       Magnesium. {ECO:0000269|PubMed:8605183}.\n",
      "FT   BINDING     160    160       Substrate. {ECO:0000269|PubMed:8605183,\n",
      "FT                                ECO:0000269|PubMed:9376357}.\n",
      "FT   BINDING     169    169       Substrate. {ECO:0000269|PubMed:8605183,\n",
      "FT                                ECO:0000269|PubMed:9376357}.\n",
      "FT   BINDING     296    296       Substrate. {ECO:0000269|PubMed:8605183,\n",
      "FT                                ECO:0000269|PubMed:9376357}.\n",
      "FT   BINDING     321    321       Substrate. {ECO:0000269|PubMed:8605183,\n",
      "FT                                ECO:0000269|PubMed:9376357}.\n",
      "FT   BINDING     397    397       Substrate. {ECO:0000269|PubMed:8605183,\n",
      "FT                                ECO:0000269|PubMed:9376357}.\n",
      "FT   MOD_RES     119    119       Phosphoserine.\n",
      "FT                                {ECO:0000269|PubMed:17287358}.\n",
      "FT   MOD_RES     138    138       Phosphoserine.\n",
      "FT                                {ECO:0000250|UniProtKB:P00925}.\n",
      "FT   MOD_RES     188    188       Phosphoserine.\n",
      "FT                                {ECO:0000250|UniProtKB:P00925}.\n",
      "FT   MOD_RES     313    313       Phosphothreonine.\n",
      "FT                                {ECO:0000250|UniProtKB:P00925}.\n",
      "FT   MOD_RES     324    324       Phosphothreonine.\n",
      "FT                                {ECO:0000250|UniProtKB:P00925}.\n",
      "FT   MUTAGEN      40     40       S->A: Reduces activity by 99.9%.\n",
      "FT   MUTAGEN     160    160       H->A,F,N: Reduces activity by 99%.\n",
      "FT                                {ECO:0000269|PubMed:11027610,\n",
      "FT                                ECO:0000269|PubMed:13678299}.\n",
      "FT   MUTAGEN     169    169       E->Q: Reduces Kcat over 100000-fold.\n",
      "FT   MUTAGEN     208    208       N->A: Reduces activity by 44%.\n",
      "FT                                {ECO:0000269|PubMed:13678299}.\n",
      "FT   MUTAGEN     212    212       E->Q: Reduces Kcat over 100000-fold.\n",
      "FT   MUTAGEN     346    346       K->A: Reduces Kcat over 100000-fold.\n",
      "FT                                Abolishes of the proton exchange reaction\n",
      "FT                                that initiates the enzymatic reaction.\n",
      "FT                                {ECO:0000269|PubMed:8634301}.\n",
      "FT   CONFLICT    242    242       I -> V (in Ref. 1; AAA88712).\n",
      "FT                                {ECO:0000305}.\n",
      "FT   STRAND        5     12       {ECO:0000244|PDB:2AL1}.\n",
      "FT   STRAND       18     26       {ECO:0000244|PDB:2AL1}.\n",
      "FT   STRAND       29     34       {ECO:0000244|PDB:2AL1}.\n",
      "FT   STRAND       43     45       {ECO:0000244|PDB:1EBH}.\n",
      "FT   HELIX        57     59       {ECO:0000244|PDB:2AL1}.\n",
      "FT   HELIX        63     71       {ECO:0000244|PDB:2AL1}.\n",
      "FT   HELIX        73     80       {ECO:0000244|PDB:2AL1}.\n",
      "FT   HELIX        87     98       {ECO:0000244|PDB:2AL1}.\n",
      "FT   STRAND      100    102       {ECO:0000244|PDB:1EBH}.\n",
      "FT   TURN        104    106       {ECO:0000244|PDB:2AL1}.\n",
      "FT   HELIX       108    125       {ECO:0000244|PDB:2AL1}.\n",
      "FT   HELIX       130    138       {ECO:0000244|PDB:2AL1}.\n",
      "FT   STRAND      145    147       {ECO:0000244|PDB:2AL1}.\n",
      "FT   STRAND      152    156       {ECO:0000244|PDB:2AL1}.\n",
      "FT   HELIX       158    160       {ECO:0000244|PDB:2AL1}.\n",
      "FT   STRAND      161    164       {ECO:0000244|PDB:2AL1}.\n",
      "FT   STRAND      169    173       {ECO:0000244|PDB:2AL1}.\n",
      "FT   HELIX       180    202       {ECO:0000244|PDB:2AL1}.\n",
      "FT   HELIX       204    207       {ECO:0000244|PDB:2AL1}.\n",
      "FT   STRAND      213    215       {ECO:0000244|PDB:1P48}.\n",
      "FT   HELIX       222    236       {ECO:0000244|PDB:2AL1}.\n",
      "FT   TURN        239    241       {ECO:0000244|PDB:2AL1}.\n",
      "FT   STRAND      243    247       {ECO:0000244|PDB:2AL1}.\n",
      "FT   HELIX       250    253       {ECO:0000244|PDB:2AL1}.\n",
      "FT   TURN        261    264       {ECO:0000244|PDB:2AL1}.\n",
      "FT   HELIX       270    272       {ECO:0000244|PDB:2AL1}.\n",
      "FT   HELIX       276    289       {ECO:0000244|PDB:2AL1}.\n",
      "FT   STRAND      292    296       {ECO:0000244|PDB:2AL1}.\n",
      "FT   HELIX       304    311       {ECO:0000244|PDB:2AL1}.\n",
      "FT   TURN        312    314       {ECO:0000244|PDB:2AL2}.\n",
      "FT   STRAND      316    321       {ECO:0000244|PDB:2AL1}.\n",
      "FT   TURN        322    326       {ECO:0000244|PDB:2AL1}.\n",
      "FT   HELIX       328    336       {ECO:0000244|PDB:2AL1}.\n",
      "FT   STRAND      341    345       {ECO:0000244|PDB:2AL1}.\n",
      "FT   HELIX       347    350       {ECO:0000244|PDB:2AL1}.\n",
      "FT   HELIX       353    365       {ECO:0000244|PDB:2AL1}.\n",
      "FT   STRAND      369    373       {ECO:0000244|PDB:2AL1}.\n",
      "FT   HELIX       383    390       {ECO:0000244|PDB:2AL1}.\n",
      "FT   STRAND      394    397       {ECO:0000244|PDB:2AL1}.\n",
      "FT   HELIX       404    420       {ECO:0000244|PDB:2AL1}.\n",
      "FT   HELIX       421    423       {ECO:0000244|PDB:2AL1}.\n",
      "FT   STRAND      424    426       {ECO:0000244|PDB:2AL1}.\n",
      "FT   HELIX       428    430       {ECO:0000244|PDB:2AL1}.\n",
      "FT   HELIX       434    436       {ECO:0000244|PDB:2AL1}.\n"
     ]
    }
   ],
   "source": [
    "r = requests.get('http://www.uniprot.org/uniprot/P00924.txt')\n",
    "print 'status', r.status_code\n",
    "print 'headers', r.headers\n",
    "print '-- text -------------------'\n",
    "txt = r.text\n",
    "for line in txt.split('\\n'):\n",
    "    if line.startswith('FT'):\n",
    "        print line"
   ]
  },
  {
   "cell_type": "code",
   "execution_count": null,
   "metadata": {
    "collapsed": true
   },
   "outputs": [],
   "source": []
  }
 ],
 "metadata": {
  "kernelspec": {
   "display_name": "Python 2",
   "language": "python",
   "name": "python2"
  },
  "language_info": {
   "codemirror_mode": {
    "name": "ipython",
    "version": 2
   },
   "file_extension": ".py",
   "mimetype": "text/x-python",
   "name": "python",
   "nbconvert_exporter": "python",
   "pygments_lexer": "ipython2",
   "version": "2.7.6"
  }
 },
 "nbformat": 4,
 "nbformat_minor": 0
}
