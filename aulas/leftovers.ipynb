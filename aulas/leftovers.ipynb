{
 "cells": [
  {
   "cell_type": "markdown",
   "metadata": {},
   "source": [
    "# Outros pormenores da linguagem Python"
   ]
  },
  {
   "cell_type": "markdown",
   "metadata": {},
   "source": [
    "## Operadores simplificados"
   ]
  },
  {
   "cell_type": "code",
   "execution_count": 1,
   "metadata": {
    "collapsed": false
   },
   "outputs": [
    {
     "name": "stdout",
     "output_type": "stream",
     "text": [
      "1\n",
      "2\n",
      "3\n"
     ]
    }
   ],
   "source": [
    "a = 1\n",
    "print(a)\n",
    "a = a + 1\n",
    "print(a)\n",
    "\n",
    "a += 1\n",
    "print(a)\n",
    "\n",
    "# Além de +=,  também existe -= *= /="
   ]
  },
  {
   "cell_type": "markdown",
   "metadata": {},
   "source": [
    "## Atribuição condicional"
   ]
  },
  {
   "cell_type": "code",
   "execution_count": 2,
   "metadata": {
    "collapsed": false
   },
   "outputs": [
    {
     "name": "stdout",
     "output_type": "stream",
     "text": [
      "7\n",
      "negativo\n"
     ]
    }
   ],
   "source": [
    "a = 1\n",
    "if a < 0:\n",
    "    b = 'negativo'\n",
    "else:\n",
    "    b = 2 * a + 5\n",
    "\n",
    "print(b)\n",
    "\n",
    "a = -3\n",
    "\n",
    "b = 2 * a + 5 if a >=0 else 'negativo'\n",
    "\n",
    "print(b)"
   ]
  },
  {
   "cell_type": "markdown",
   "metadata": {},
   "source": [
    "## `sorted()`"
   ]
  },
  {
   "cell_type": "markdown",
   "metadata": {},
   "source": [
    "\"Fora\" das listas, existe `sorted()`, que cria uma nova lista."
   ]
  },
  {
   "cell_type": "code",
   "execution_count": 3,
   "metadata": {
    "collapsed": false
   },
   "outputs": [
    {
     "name": "stdout",
     "output_type": "stream",
     "text": [
      "['seg', 'ter', 'qua', 'qui', 'sex', 'sab', 'dom']\n",
      "['dom', 'qua', 'qui', 'sab', 'seg', 'sex', 'ter']\n"
     ]
    }
   ],
   "source": [
    "a = ['seg', 'ter', 'qua', 'qui', 'sex', 'sab', 'dom']\n",
    "b = sorted(a)\n",
    "print(a)\n",
    "print(b)"
   ]
  },
  {
   "cell_type": "markdown",
   "metadata": {},
   "source": [
    "## Dicionários: `dict()`"
   ]
  },
  {
   "cell_type": "code",
   "execution_count": 4,
   "metadata": {
    "collapsed": false
   },
   "outputs": [
    {
     "name": "stdout",
     "output_type": "stream",
     "text": [
      "{1: 'a', 2: 'b', 3: 'c', 7: 'd', 8: 'e', 9: 'f'}\n"
     ]
    }
   ],
   "source": [
    "a = [1,2,3,7,8,9]\n",
    "b = ['a', 'b', 'c', 'd', 'e', 'f']\n",
    "\n",
    "d = dict(zip(a,b))\n",
    "print(d)"
   ]
  },
  {
   "cell_type": "code",
   "execution_count": 5,
   "metadata": {
    "collapsed": false
   },
   "outputs": [
    {
     "name": "stdout",
     "output_type": "stream",
     "text": [
      "{1: 'a', 2: 'b', 3: 'c', 7: 'd', 8: 'e', 9: 'f'}\n",
      "{'a': 1, 'f': 9, 'd': 7, 'c': 3, 'b': 2, 'e': 8}\n"
     ]
    }
   ],
   "source": [
    "# Virar um dicionário \"do avesso\"\n",
    "d2 = dict(zip(d.values(), d.keys()))\n",
    "print(d)\n",
    "print(d2)"
   ]
  }
 ],
 "metadata": {
  "anaconda-cloud": {},
  "kernelspec": {
   "display_name": "Python [default]",
   "language": "python",
   "name": "python3"
  },
  "language_info": {
   "codemirror_mode": {
    "name": "ipython",
    "version": 3
   },
   "file_extension": ".py",
   "mimetype": "text/x-python",
   "name": "python",
   "nbconvert_exporter": "python",
   "pygments_lexer": "ipython3",
   "version": "3.5.2"
  }
 },
 "nbformat": 4,
 "nbformat_minor": 0
}
