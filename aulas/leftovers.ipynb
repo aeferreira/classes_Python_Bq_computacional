{
 "cells": [
  {
   "cell_type": "markdown",
   "metadata": {},
   "source": [
    "# Outros pormenores da linguagem Python"
   ]
  },
  {
   "cell_type": "markdown",
   "metadata": {},
   "source": [
    "## Operadores simplificados"
   ]
  },
  {
   "cell_type": "code",
   "execution_count": 1,
   "metadata": {
    "collapsed": false
   },
   "outputs": [
    {
     "name": "stdout",
     "output_type": "stream",
     "text": [
      "1\n",
      "2\n",
      "3\n"
     ]
    }
   ],
   "source": [
    "a = 1\n",
    "print a\n",
    "a = a + 1\n",
    "print a\n",
    "\n",
    "a += 1\n",
    "print a\n",
    "\n",
    "# Além de +=,  também existe -= *= /="
   ]
  },
  {
   "cell_type": "markdown",
   "metadata": {},
   "source": [
    "## Atribuição condicional"
   ]
  },
  {
   "cell_type": "code",
   "execution_count": 2,
   "metadata": {
    "collapsed": false
   },
   "outputs": [
    {
     "name": "stdout",
     "output_type": "stream",
     "text": [
      "7\n",
      "negativo\n"
     ]
    }
   ],
   "source": [
    "a = 1\n",
    "if a < 0:\n",
    "    b = 'negativo'\n",
    "else:\n",
    "    b = 2 * a + 5\n",
    "\n",
    "print b\n",
    "\n",
    "a = -3\n",
    "\n",
    "b = 2 * a + 5 if a >=0 else 'negativo'\n",
    "\n",
    "print b"
   ]
  },
  {
   "cell_type": "markdown",
   "metadata": {},
   "source": [
    "## `zip()`"
   ]
  },
  {
   "cell_type": "code",
   "execution_count": 4,
   "metadata": {
    "collapsed": false
   },
   "outputs": [
    {
     "name": "stdout",
     "output_type": "stream",
     "text": [
      "[(1, 'a'), (2, 'b'), (3, 'c'), (7, 'd'), (8, 'e')]\n"
     ]
    }
   ],
   "source": [
    "a = [1,2,3,7,8,9]\n",
    "b = ['a', 'b', 'c', 'd', 'e']\n",
    "\n",
    "print zip(a,b)"
   ]
  },
  {
   "cell_type": "code",
   "execution_count": 5,
   "metadata": {
    "collapsed": false
   },
   "outputs": [
    {
     "name": "stdout",
     "output_type": "stream",
     "text": [
      "['a', 'b', 'c', 'd', 'e', 'f']\n"
     ]
    }
   ],
   "source": [
    "# NOTA:\n",
    "b = list('abcdef')\n",
    "print b"
   ]
  },
  {
   "cell_type": "code",
   "execution_count": 6,
   "metadata": {
    "collapsed": false
   },
   "outputs": [
    {
     "name": "stdout",
     "output_type": "stream",
     "text": [
      "1 <-> a\n",
      "2 <-> b\n",
      "3 <-> c\n",
      "7 <-> d\n",
      "8 <-> e\n",
      "9 <-> f\n"
     ]
    }
   ],
   "source": [
    "nums = [1,2,3,7,8,9]\n",
    "letras = ['a', 'b', 'c', 'd', 'e', 'f']\n",
    "\n",
    "for n, c in zip(nums, letras):\n",
    "    print n, '<->', c"
   ]
  },
  {
   "cell_type": "code",
   "execution_count": 7,
   "metadata": {
    "collapsed": false
   },
   "outputs": [
    {
     "name": "stdout",
     "output_type": "stream",
     "text": [
      "6\n",
      "6\n",
      "----------------\n",
      "ko00020;ko00053;ko00250;ko00300;ko00340;ko00471;ko00630;ko00650;ko00660;ko00720;ko00750;ko01061;ko01062;ko01063;ko01064;ko01065;ko01066;ko01070;ko01100;map01060\n",
      "null\n",
      "ko00053\n",
      "ko00660\n",
      "null\n",
      "null\n"
     ]
    }
   ],
   "source": [
    "ids = 'ko00020;ko00053;ko00250;ko00300;ko00340;ko00471;ko00630;ko00650;ko00660;ko00720;ko00750;ko01061;ko01062;ko01063;ko01064;ko01065;ko01066;ko01070;ko01100;map01060#null#ko00053#ko00660#null#null'\n",
    "\n",
    "desc=';Citrate cycle (TCA cycle);Ascorbate and aldarate metabolism;Alanine, aspartate and glutamate metabolism;Lysine biosynthesis;Histidine metabolism;D-Glutamine and D-glutamate metabolism;Glyoxylate and dicarboxylate metabolism;Butanoate metabolism;C5-Branched dibasic acid metabolism;Reductive carboxylate cycle (CO2 fixation);Vitamin B6 metabolism;Biosynthesis of phenylpropanoids;Biosynthesis of terpenoids and steroids;Biosynthesis of alkaloids derived from shikimate pathway;Biosynthesis of alkaloids derived from ornithine, lysine and nicotinic acid;Biosynthesis of alkaloids derived from histidine and purine;Biosynthesis of alkaloids derived from terpenoid and polyketide;Biosynthesis of plant hormones;Metabolic pathways;Biosynthesis of plant secondary metabolites#null#;Ascorbate and aldarate metabolism#;C5-Branched dibasic acid metabolism#null#null'\n",
    "\n",
    "ids = ids.split('#')\n",
    "desc = desc.split('#')\n",
    "print len(ids)\n",
    "print len(desc)\n",
    "print '----------------'\n",
    "for i in ids:\n",
    "    print i"
   ]
  },
  {
   "cell_type": "code",
   "execution_count": 8,
   "metadata": {
    "collapsed": false
   },
   "outputs": [
    {
     "name": "stdout",
     "output_type": "stream",
     "text": [
      "ko00020;ko00053;ko00250;ko00300;ko00340;ko00471;ko00630;ko00650;ko00660;ko00720;ko00750;ko01061;ko01062;ko01063;ko01064;ko01065;ko01066;ko01070;ko01100;map01060\n",
      "ko00053\n",
      "ko00660\n"
     ]
    }
   ],
   "source": [
    "ligados = [(i,d) for i,d in zip(ids, desc) if i != 'null']\n",
    "\n",
    "for i, d in ligados:\n",
    "    print i"
   ]
  },
  {
   "cell_type": "markdown",
   "metadata": {
    "collapsed": true
   },
   "source": [
    "Já agora... uma tabela id <-> desc dos _pathways_"
   ]
  },
  {
   "cell_type": "code",
   "execution_count": 9,
   "metadata": {
    "collapsed": false
   },
   "outputs": [
    {
     "name": "stdout",
     "output_type": "stream",
     "text": [
      "ko00020    --> Citrate cycle (TCA cycle)\n",
      "ko00053    --> Ascorbate and aldarate metabolism\n",
      "ko00250    --> Alanine, aspartate and glutamate metabolism\n",
      "ko00300    --> Lysine biosynthesis\n",
      "ko00340    --> Histidine metabolism\n",
      "ko00471    --> D-Glutamine and D-glutamate metabolism\n",
      "ko00630    --> Glyoxylate and dicarboxylate metabolism\n",
      "ko00650    --> Butanoate metabolism\n",
      "ko00660    --> C5-Branched dibasic acid metabolism\n",
      "ko00720    --> Reductive carboxylate cycle (CO2 fixation)\n",
      "ko00750    --> Vitamin B6 metabolism\n",
      "ko01061    --> Biosynthesis of phenylpropanoids\n",
      "ko01062    --> Biosynthesis of terpenoids and steroids\n",
      "ko01063    --> Biosynthesis of alkaloids derived from shikimate pathway\n",
      "ko01064    --> Biosynthesis of alkaloids derived from ornithine, lysine and nicotinic acid\n",
      "ko01065    --> Biosynthesis of alkaloids derived from histidine and purine\n",
      "ko01066    --> Biosynthesis of alkaloids derived from terpenoid and polyketide\n",
      "ko01070    --> Biosynthesis of plant hormones\n",
      "ko01100    --> Metabolic pathways\n",
      "map01060   --> Biosynthesis of plant secondary metabolites\n",
      "ko00053    --> Ascorbate and aldarate metabolism\n",
      "ko00660    --> C5-Branched dibasic acid metabolism\n"
     ]
    }
   ],
   "source": [
    "for ids, descs in ligados:\n",
    "    partes_ids = ids.split(';')\n",
    "    partes_descs = descs[1:].split(';')\n",
    "    for i, d in zip(partes_ids, partes_descs):\n",
    "        print '{:10s} --> {}'.format(i,d)\n",
    "            "
   ]
  },
  {
   "cell_type": "markdown",
   "metadata": {},
   "source": [
    "## `enumerate()`"
   ]
  },
  {
   "cell_type": "code",
   "execution_count": 10,
   "metadata": {
    "collapsed": false
   },
   "outputs": [
    {
     "name": "stdout",
     "output_type": "stream",
     "text": [
      "(0, 'seg')\n",
      "(1, 'ter')\n",
      "(2, 'qua')\n",
      "(3, 'qui')\n",
      "(4, 'sex')\n",
      "(5, 'sab')\n",
      "(6, 'dom')\n"
     ]
    }
   ],
   "source": [
    "a = ['seg', 'ter', 'qua', 'qui', 'sex', 'sab', 'dom']\n",
    "\n",
    "for i in enumerate(a):\n",
    "    print i\n"
   ]
  },
  {
   "cell_type": "code",
   "execution_count": 11,
   "metadata": {
    "collapsed": false
   },
   "outputs": [
    {
     "name": "stdout",
     "output_type": "stream",
     "text": [
      "seg é o dia da semana nº 1\n",
      "ter é o dia da semana nº 2\n",
      "qua é o dia da semana nº 3\n",
      "qui é o dia da semana nº 4\n",
      "sex é o dia da semana nº 5\n",
      "sab é o dia da semana nº 6\n",
      "dom é o dia da semana nº 7\n"
     ]
    }
   ],
   "source": [
    "for i, d in enumerate(a):\n",
    "    print '{} é o dia da semana nº {}'.format(d, i+1)"
   ]
  },
  {
   "cell_type": "markdown",
   "metadata": {},
   "source": [
    "## `sorted()`"
   ]
  },
  {
   "cell_type": "markdown",
   "metadata": {},
   "source": [
    "\"Fora\" das listas, existe `sorted()`, que cria uma nova lista."
   ]
  },
  {
   "cell_type": "code",
   "execution_count": 13,
   "metadata": {
    "collapsed": false
   },
   "outputs": [
    {
     "name": "stdout",
     "output_type": "stream",
     "text": [
      "['seg', 'ter', 'qua', 'qui', 'sex', 'sab', 'dom']\n",
      "['dom', 'qua', 'qui', 'sab', 'seg', 'sex', 'ter']\n"
     ]
    }
   ],
   "source": [
    "a = ['seg', 'ter', 'qua', 'qui', 'sex', 'sab', 'dom']\n",
    "b = sorted(a)\n",
    "print a\n",
    "print b"
   ]
  },
  {
   "cell_type": "markdown",
   "metadata": {},
   "source": [
    "## Dicionários: `dict()`"
   ]
  },
  {
   "cell_type": "code",
   "execution_count": 14,
   "metadata": {
    "collapsed": false
   },
   "outputs": [
    {
     "name": "stdout",
     "output_type": "stream",
     "text": [
      "{1: 'a', 2: 'b', 3: 'c', 7: 'd', 8: 'e', 9: 'f'}\n"
     ]
    }
   ],
   "source": [
    "a = [1,2,3,7,8,9]\n",
    "b = ['a', 'b', 'c', 'd', 'e', 'f']\n",
    "\n",
    "d = dict(zip(a,b))\n",
    "print d"
   ]
  },
  {
   "cell_type": "code",
   "execution_count": 16,
   "metadata": {
    "collapsed": false
   },
   "outputs": [
    {
     "name": "stdout",
     "output_type": "stream",
     "text": [
      "{1: 'a', 2: 'b', 3: 'c', 7: 'd', 8: 'e', 9: 'f'}\n",
      "{'a': 1, 'c': 3, 'b': 2, 'e': 8, 'd': 7, 'f': 9}\n"
     ]
    }
   ],
   "source": [
    "# Virar um dicionário \"do avesso\"\n",
    "\n",
    "d2 = {}\n",
    "for k in d:\n",
    "    d2[d[k]] = k\n",
    "print d\n",
    "print d2"
   ]
  },
  {
   "cell_type": "code",
   "execution_count": 17,
   "metadata": {
    "collapsed": false
   },
   "outputs": [
    {
     "name": "stdout",
     "output_type": "stream",
     "text": [
      "{1: 'a', 2: 'b', 3: 'c', 7: 'd', 8: 'e', 9: 'f'}\n",
      "{'a': 1, 'c': 3, 'b': 2, 'e': 8, 'd': 7, 'f': 9}\n"
     ]
    }
   ],
   "source": [
    "d2 = dict(zip(d.values(), d.keys()))\n",
    "print d\n",
    "print d2"
   ]
  },
  {
   "cell_type": "markdown",
   "metadata": {},
   "source": [
    "## `continue` e `break`"
   ]
  },
  {
   "cell_type": "code",
   "execution_count": 21,
   "metadata": {
    "collapsed": true
   },
   "outputs": [],
   "source": [
    "a = \"\"\"\n",
    "\n",
    "Um pequeno texto que\n",
    "ocupa\n",
    "\n",
    "várias linhas, algumas das quais \n",
    "em branco\n",
    "\n",
    "\"\"\""
   ]
  },
  {
   "cell_type": "code",
   "execution_count": 22,
   "metadata": {
    "collapsed": false
   },
   "outputs": [
    {
     "name": "stdout",
     "output_type": "stream",
     "text": [
      "\n",
      "\n",
      "Um pequeno texto que\n",
      "ocupa\n",
      "\n",
      "várias linhas, algumas das quais \n",
      "em branco\n",
      "\n",
      "\n"
     ]
    }
   ],
   "source": [
    "for linha in a.split('\\n'):\n",
    "    print linha"
   ]
  },
  {
   "cell_type": "code",
   "execution_count": 23,
   "metadata": {
    "collapsed": false
   },
   "outputs": [
    {
     "name": "stdout",
     "output_type": "stream",
     "text": [
      "Um pequeno texto que\n",
      "ocupa\n",
      "várias linhas, algumas das quais\n",
      "em branco\n"
     ]
    }
   ],
   "source": [
    "for linha in a.split('\\n'):\n",
    "    linha = linha.strip()\n",
    "    if len(linha) == 0:\n",
    "        continue\n",
    "    print linha"
   ]
  },
  {
   "cell_type": "code",
   "execution_count": 24,
   "metadata": {
    "collapsed": false
   },
   "outputs": [
    {
     "name": "stdout",
     "output_type": "stream",
     "text": [
      "\n",
      "\n",
      "Um pequeno texto que\n",
      "ocupa\n",
      "\n"
     ]
    }
   ],
   "source": [
    "for linha in a.split('\\n'):\n",
    "    linha = linha.strip()\n",
    "    if 'várias' in linha:\n",
    "        break\n",
    "    print linha"
   ]
  }
 ],
 "metadata": {
  "kernelspec": {
   "display_name": "Python 2",
   "language": "python",
   "name": "python2"
  },
  "language_info": {
   "codemirror_mode": {
    "name": "ipython",
    "version": 2
   },
   "file_extension": ".py",
   "mimetype": "text/x-python",
   "name": "python",
   "nbconvert_exporter": "python",
   "pygments_lexer": "ipython2",
   "version": "2.7.7"
  }
 },
 "nbformat": 4,
 "nbformat_minor": 0
}
