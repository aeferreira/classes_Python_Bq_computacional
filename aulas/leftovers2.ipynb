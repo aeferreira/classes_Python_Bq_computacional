{
 "cells": [
  {
   "cell_type": "markdown",
   "metadata": {},
   "source": [
    "# Outros pormenores da linguagem Python (II)"
   ]
  },
  {
   "cell_type": "markdown",
   "metadata": {},
   "source": [
    "## Valores por defeito em argumentos de funções"
   ]
  },
  {
   "cell_type": "code",
   "execution_count": null,
   "metadata": {
    "collapsed": false
   },
   "outputs": [],
   "source": [
    "def babilonico(a, show_progress = False):\n",
    "    x = 1.0\n",
    "    for i in range(100):\n",
    "        if show_progress:\n",
    "            print(x)\n",
    "        novo = 0.5 * (x + a/x)\n",
    "        if abs(novo - x) < 1e-10:\n",
    "            return novo\n",
    "        x = novo\n",
    "    return x"
   ]
  },
  {
   "cell_type": "code",
   "execution_count": null,
   "metadata": {
    "collapsed": false
   },
   "outputs": [],
   "source": [
    "r = babilonico(2.0)\n",
    "print(\"A raíz quadrada de {} é {}\".format(2.0,r))"
   ]
  },
  {
   "cell_type": "code",
   "execution_count": null,
   "metadata": {
    "collapsed": false
   },
   "outputs": [],
   "source": [
    "r = babilonico(2.0, show_progress=True)\n",
    "print(\"A raíz quadrada de {} é {}\".format(2.0,r))"
   ]
  },
  {
   "cell_type": "markdown",
   "metadata": {},
   "source": [
    "## Tuplos"
   ]
  },
  {
   "cell_type": "markdown",
   "metadata": {},
   "source": [
    "Comportam-se como listas \"congeladas\" (**imutáveis**)"
   ]
  },
  {
   "cell_type": "code",
   "execution_count": null,
   "metadata": {
    "collapsed": false
   },
   "outputs": [],
   "source": [
    "a = ('seg', 'ter', 4, 5, 6, 6, 6, 'sab', 'dom')\n",
    "print a\n",
    "print type(a)\n",
    "print len(a)\n",
    "print\n",
    "print 4 in a\n",
    "print 10 in a\n",
    "print a.count(6)\n",
    "print\n",
    "print a[3]\n",
    "print a[:4]\n",
    "print\n",
    "print a.append('seg2')"
   ]
  },
  {
   "cell_type": "code",
   "execution_count": null,
   "metadata": {
    "collapsed": false
   },
   "outputs": [],
   "source": [
    "# Mais \"açucar sintático\"\n",
    "a = 'seg', 'ter', 4, 5, 6, 6,6,6,'sab', 'dom'\n",
    "print(a)"
   ]
  },
  {
   "cell_type": "code",
   "execution_count": null,
   "metadata": {
    "collapsed": false
   },
   "outputs": [],
   "source": [
    "for d in 'seg', 'ter', 4, 5, 6, 'sab', 'dom':\n",
    "    print(d)"
   ]
  },
  {
   "cell_type": "markdown",
   "metadata": {},
   "source": [
    "## `set`s"
   ]
  },
  {
   "cell_type": "code",
   "execution_count": null,
   "metadata": {
    "collapsed": false
   },
   "outputs": [],
   "source": [
    "d = {'seg', 'ter', 4, 5, 6}\n",
    "print d\n",
    "print type(d)\n",
    "print len(d)"
   ]
  },
  {
   "cell_type": "code",
   "execution_count": null,
   "metadata": {
    "collapsed": false
   },
   "outputs": [],
   "source": [
    "d.add('sab')\n",
    "print d"
   ]
  },
  {
   "cell_type": "code",
   "execution_count": null,
   "metadata": {
    "collapsed": false
   },
   "outputs": [],
   "source": [
    "d.remove(4)\n",
    "print d\n",
    "print \n",
    "print 5 in d"
   ]
  },
  {
   "cell_type": "code",
   "execution_count": null,
   "metadata": {
    "collapsed": false
   },
   "outputs": [],
   "source": [
    "d1 = set( ['seg', 'ter', 4, 5, 6] )\n",
    "d2 = {'seg', 'ter', 'sab', 'dom'}\n",
    "print d1\n",
    "print d2\n",
    "print\n",
    "print d1 & d2\n",
    "print d1 | d2\n",
    "print d1 - d2"
   ]
  },
  {
   "cell_type": "code",
   "execution_count": null,
   "metadata": {
    "collapsed": false
   },
   "outputs": [],
   "source": [
    "d = {'seg', 'ter', 4, 5, 6}\n",
    "print d\n",
    "d.add('seg')\n",
    "print d"
   ]
  },
  {
   "cell_type": "code",
   "execution_count": null,
   "metadata": {
    "collapsed": false
   },
   "outputs": [],
   "source": [
    "a = [1,2,2,3,4,4,5,5,5,6,7,8,9]\n",
    "print a\n",
    "b = list(set(a))\n",
    "print b"
   ]
  },
  {
   "cell_type": "code",
   "execution_count": null,
   "metadata": {
    "collapsed": false
   },
   "outputs": [],
   "source": [
    "d = frozenset(['seg', 'ter', 4, 5, 6])\n",
    "print d\n",
    "d.add('sab')\n",
    "print d"
   ]
  },
  {
   "cell_type": "markdown",
   "metadata": {},
   "source": [
    "## `None`"
   ]
  },
  {
   "cell_type": "code",
   "execution_count": null,
   "metadata": {
    "collapsed": false
   },
   "outputs": [],
   "source": [
    "a = [1,2,2,3,4,4,5,5,5,6,7,8,9]\n",
    "a.append(10)\n",
    "print a.append(11)\n",
    "print a"
   ]
  },
  {
   "cell_type": "code",
   "execution_count": null,
   "metadata": {
    "collapsed": true
   },
   "outputs": [],
   "source": []
  }
 ],
 "metadata": {
  "kernelspec": {
   "display_name": "Python [default]",
   "language": "python",
   "name": "python3"
  },
  "language_info": {
   "codemirror_mode": {
    "name": "ipython",
    "version": 3
   },
   "file_extension": ".py",
   "mimetype": "text/x-python",
   "name": "python",
   "nbconvert_exporter": "python",
   "pygments_lexer": "ipython3",
   "version": "3.5.2"
  }
 },
 "nbformat": 4,
 "nbformat_minor": 0
}
