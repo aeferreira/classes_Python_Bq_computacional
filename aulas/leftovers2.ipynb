{
 "cells": [
  {
   "cell_type": "markdown",
   "metadata": {},
   "source": [
    "# Outros pormenores da linguagem Python (II)"
   ]
  },
  {
   "cell_type": "markdown",
   "metadata": {},
   "source": [
    "## Valores por defeito em argumentos de funções"
   ]
  },
  {
   "cell_type": "code",
   "execution_count": 2,
   "metadata": {
    "collapsed": true
   },
   "outputs": [],
   "source": [
    "def babilonico(a, show_progress = False):\n",
    "    x = 1.0\n",
    "    for i in range(100):\n",
    "        if show_progress:\n",
    "            print x\n",
    "        novo = 0.5 * (x + a/x)\n",
    "        if abs(novo - x) < 1e-10:\n",
    "            return novo\n",
    "        x = novo\n",
    "    return x"
   ]
  },
  {
   "cell_type": "code",
   "execution_count": 3,
   "metadata": {
    "collapsed": false
   },
   "outputs": [
    {
     "name": "stdout",
     "output_type": "stream",
     "text": [
      "A raíz quadrada de 2.0 é 1.41421356237\n"
     ]
    }
   ],
   "source": [
    "r = babilonico(2.0)\n",
    "print \"A raíz quadrada de {} é {}\".format(2.0,r)"
   ]
  },
  {
   "cell_type": "code",
   "execution_count": 4,
   "metadata": {
    "collapsed": false
   },
   "outputs": [
    {
     "name": "stdout",
     "output_type": "stream",
     "text": [
      "1.0\n",
      "1.5\n",
      "1.41666666667\n",
      "1.41421568627\n",
      "1.41421356237\n",
      "A raíz quadrada de 2.0 é 1.41421356237\n"
     ]
    }
   ],
   "source": [
    "r = babilonico(2.0, show_progress=True)\n",
    "print \"A raíz quadrada de {} é {}\".format(2.0,r)"
   ]
  },
  {
   "cell_type": "markdown",
   "metadata": {},
   "source": [
    "## Tuplos"
   ]
  },
  {
   "cell_type": "markdown",
   "metadata": {},
   "source": [
    "Comportam-se como listas \"congeladas\" (**imutáveis**)"
   ]
  },
  {
   "cell_type": "code",
   "execution_count": 6,
   "metadata": {
    "collapsed": false
   },
   "outputs": [
    {
     "name": "stdout",
     "output_type": "stream",
     "text": [
      "('seg', 'ter', 4, 5, 6, 6, 6, 'sab', 'dom')\n",
      "<type 'tuple'>\n",
      "9\n",
      "\n",
      "True\n",
      "False\n",
      "3\n",
      "\n",
      "5\n",
      "('seg', 'ter', 4, 5)\n",
      "\n"
     ]
    },
    {
     "ename": "AttributeError",
     "evalue": "'tuple' object has no attribute 'append'",
     "output_type": "error",
     "traceback": [
      "\u001b[1;31m---------------------------------------------------------------------------\u001b[0m",
      "\u001b[1;31mAttributeError\u001b[0m                            Traceback (most recent call last)",
      "\u001b[1;32m<ipython-input-6-8f5a983e0d2d>\u001b[0m in \u001b[0;36m<module>\u001b[1;34m()\u001b[0m\n\u001b[0;32m     11\u001b[0m \u001b[1;32mprint\u001b[0m \u001b[0ma\u001b[0m\u001b[1;33m[\u001b[0m\u001b[1;33m:\u001b[0m\u001b[1;36m4\u001b[0m\u001b[1;33m]\u001b[0m\u001b[1;33m\u001b[0m\u001b[0m\n\u001b[0;32m     12\u001b[0m \u001b[1;32mprint\u001b[0m\u001b[1;33m\u001b[0m\u001b[0m\n\u001b[1;32m---> 13\u001b[1;33m \u001b[1;32mprint\u001b[0m \u001b[0ma\u001b[0m\u001b[1;33m.\u001b[0m\u001b[0mappend\u001b[0m\u001b[1;33m(\u001b[0m\u001b[1;34m'seg2'\u001b[0m\u001b[1;33m)\u001b[0m\u001b[1;33m\u001b[0m\u001b[0m\n\u001b[0m",
      "\u001b[1;31mAttributeError\u001b[0m: 'tuple' object has no attribute 'append'"
     ]
    }
   ],
   "source": [
    "a = ('seg', 'ter', 4, 5, 6, 6, 6, 'sab', 'dom')\n",
    "print a\n",
    "print type(a)\n",
    "print len(a)\n",
    "print\n",
    "print 4 in a\n",
    "print 10 in a\n",
    "print a.count(6)\n",
    "print\n",
    "print a[3]\n",
    "print a[:4]\n",
    "print\n",
    "print a.append('seg2')"
   ]
  },
  {
   "cell_type": "code",
   "execution_count": 7,
   "metadata": {
    "collapsed": false
   },
   "outputs": [
    {
     "name": "stdout",
     "output_type": "stream",
     "text": [
      "('seg', 'ter', 4, 5, 6, 6, 6, 6, 'sab', 'dom')\n"
     ]
    }
   ],
   "source": [
    "# Mais \"açucar sintático\"\n",
    "a = 'seg', 'ter', 4, 5, 6, 6,6,6,'sab', 'dom'\n",
    "print a"
   ]
  },
  {
   "cell_type": "code",
   "execution_count": 8,
   "metadata": {
    "collapsed": false
   },
   "outputs": [
    {
     "name": "stdout",
     "output_type": "stream",
     "text": [
      "seg\n",
      "ter\n",
      "4\n",
      "5\n",
      "6\n",
      "sab\n",
      "dom\n"
     ]
    }
   ],
   "source": [
    "for d in 'seg', 'ter', 4, 5, 6, 'sab', 'dom':\n",
    "    print d"
   ]
  },
  {
   "cell_type": "markdown",
   "metadata": {},
   "source": [
    "## `set`s"
   ]
  },
  {
   "cell_type": "code",
   "execution_count": 9,
   "metadata": {
    "collapsed": false
   },
   "outputs": [
    {
     "name": "stdout",
     "output_type": "stream",
     "text": [
      "set(['seg', 'ter', 4, 5, 6])\n",
      "<type 'set'>\n",
      "5\n"
     ]
    }
   ],
   "source": [
    "d = {'seg', 'ter', 4, 5, 6}\n",
    "print d\n",
    "print type(d)\n",
    "print len(d)"
   ]
  },
  {
   "cell_type": "code",
   "execution_count": 10,
   "metadata": {
    "collapsed": false
   },
   "outputs": [
    {
     "name": "stdout",
     "output_type": "stream",
     "text": [
      "set([4, 5, 6, 'sab', 'seg', 'ter'])\n"
     ]
    }
   ],
   "source": [
    "d.add('sab')\n",
    "print d"
   ]
  },
  {
   "cell_type": "code",
   "execution_count": 11,
   "metadata": {
    "collapsed": false
   },
   "outputs": [
    {
     "name": "stdout",
     "output_type": "stream",
     "text": [
      "set([5, 6, 'sab', 'seg', 'ter'])\n",
      "\n",
      "True\n"
     ]
    }
   ],
   "source": [
    "d.remove(4)\n",
    "print d\n",
    "print \n",
    "print 5 in d"
   ]
  },
  {
   "cell_type": "code",
   "execution_count": 12,
   "metadata": {
    "collapsed": false
   },
   "outputs": [
    {
     "name": "stdout",
     "output_type": "stream",
     "text": [
      "set(['seg', 'ter', 4, 5, 6])\n",
      "set(['seg', 'sab', 'ter', 'dom'])\n",
      "\n",
      "set(['seg', 'ter'])\n",
      "set([4, 5, 6, 'dom', 'sab', 'seg', 'ter'])\n",
      "set([4, 5, 6])\n"
     ]
    }
   ],
   "source": [
    "d1 = set( ['seg', 'ter', 4, 5, 6] )\n",
    "d2 = {'seg', 'ter', 'sab', 'dom'}\n",
    "print d1\n",
    "print d2\n",
    "print\n",
    "print d1 & d2\n",
    "print d1 | d2\n",
    "print d1 - d2"
   ]
  },
  {
   "cell_type": "code",
   "execution_count": 13,
   "metadata": {
    "collapsed": false
   },
   "outputs": [
    {
     "name": "stdout",
     "output_type": "stream",
     "text": [
      "set(['seg', 'ter', 4, 5, 6])\n",
      "set(['seg', 'ter', 4, 5, 6])\n"
     ]
    }
   ],
   "source": [
    "d = {'seg', 'ter', 4, 5, 6}\n",
    "print d\n",
    "d.add('seg')\n",
    "print d"
   ]
  },
  {
   "cell_type": "code",
   "execution_count": 14,
   "metadata": {
    "collapsed": false
   },
   "outputs": [
    {
     "name": "stdout",
     "output_type": "stream",
     "text": [
      "[1, 2, 2, 3, 4, 4, 5, 5, 5, 6, 7, 8, 9]\n",
      "[1, 2, 3, 4, 5, 6, 7, 8, 9]\n"
     ]
    }
   ],
   "source": [
    "a = [1,2,2,3,4,4,5,5,5,6,7,8,9]\n",
    "print a\n",
    "b = list(set(a))\n",
    "print b"
   ]
  },
  {
   "cell_type": "code",
   "execution_count": 15,
   "metadata": {
    "collapsed": false
   },
   "outputs": [
    {
     "name": "stdout",
     "output_type": "stream",
     "text": [
      "frozenset(['seg', 'ter', 4, 5, 6])\n"
     ]
    },
    {
     "ename": "AttributeError",
     "evalue": "'frozenset' object has no attribute 'add'",
     "output_type": "error",
     "traceback": [
      "\u001b[1;31m---------------------------------------------------------------------------\u001b[0m",
      "\u001b[1;31mAttributeError\u001b[0m                            Traceback (most recent call last)",
      "\u001b[1;32m<ipython-input-15-160cf0fedff2>\u001b[0m in \u001b[0;36m<module>\u001b[1;34m()\u001b[0m\n\u001b[0;32m      1\u001b[0m \u001b[0md\u001b[0m \u001b[1;33m=\u001b[0m \u001b[0mfrozenset\u001b[0m\u001b[1;33m(\u001b[0m\u001b[1;33m[\u001b[0m\u001b[1;34m'seg'\u001b[0m\u001b[1;33m,\u001b[0m \u001b[1;34m'ter'\u001b[0m\u001b[1;33m,\u001b[0m \u001b[1;36m4\u001b[0m\u001b[1;33m,\u001b[0m \u001b[1;36m5\u001b[0m\u001b[1;33m,\u001b[0m \u001b[1;36m6\u001b[0m\u001b[1;33m]\u001b[0m\u001b[1;33m)\u001b[0m\u001b[1;33m\u001b[0m\u001b[0m\n\u001b[0;32m      2\u001b[0m \u001b[1;32mprint\u001b[0m \u001b[0md\u001b[0m\u001b[1;33m\u001b[0m\u001b[0m\n\u001b[1;32m----> 3\u001b[1;33m \u001b[0md\u001b[0m\u001b[1;33m.\u001b[0m\u001b[0madd\u001b[0m\u001b[1;33m(\u001b[0m\u001b[1;34m'sab'\u001b[0m\u001b[1;33m)\u001b[0m\u001b[1;33m\u001b[0m\u001b[0m\n\u001b[0m\u001b[0;32m      4\u001b[0m \u001b[1;32mprint\u001b[0m \u001b[0md\u001b[0m\u001b[1;33m\u001b[0m\u001b[0m\n",
      "\u001b[1;31mAttributeError\u001b[0m: 'frozenset' object has no attribute 'add'"
     ]
    }
   ],
   "source": [
    "d = frozenset(['seg', 'ter', 4, 5, 6])\n",
    "print d\n",
    "d.add('sab')\n",
    "print d"
   ]
  },
  {
   "cell_type": "markdown",
   "metadata": {},
   "source": [
    "## `None`"
   ]
  },
  {
   "cell_type": "code",
   "execution_count": 16,
   "metadata": {
    "collapsed": false
   },
   "outputs": [
    {
     "name": "stdout",
     "output_type": "stream",
     "text": [
      "None\n",
      "[1, 2, 2, 3, 4, 4, 5, 5, 5, 6, 7, 8, 9, 10, 11]\n"
     ]
    }
   ],
   "source": [
    "a = [1,2,2,3,4,4,5,5,5,6,7,8,9]\n",
    "a.append(10)\n",
    "print a.append(11)\n",
    "print a"
   ]
  },
  {
   "cell_type": "code",
   "execution_count": null,
   "metadata": {
    "collapsed": true
   },
   "outputs": [],
   "source": []
  }
 ],
 "metadata": {
  "kernelspec": {
   "display_name": "Python 2",
   "language": "python",
   "name": "python2"
  },
  "language_info": {
   "codemirror_mode": {
    "name": "ipython",
    "version": 2
   },
   "file_extension": ".py",
   "mimetype": "text/x-python",
   "name": "python",
   "nbconvert_exporter": "python",
   "pygments_lexer": "ipython2",
   "version": "2.7.11"
  }
 },
 "nbformat": 4,
 "nbformat_minor": 0
}
