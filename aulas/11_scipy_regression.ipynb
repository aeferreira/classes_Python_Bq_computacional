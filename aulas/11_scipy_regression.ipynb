{
 "cells": [
  {
   "cell_type": "markdown",
   "metadata": {
    "slideshow": {
     "slide_type": "slide"
    }
   },
   "source": [
    "# Exemplo do uso de `numpy` e `scipy`: regressão linear."
   ]
  },
  {
   "cell_type": "code",
   "execution_count": 21,
   "metadata": {
    "collapsed": true,
    "slideshow": {
     "slide_type": "slide"
    }
   },
   "outputs": [],
   "source": [
    "import numpy as np"
   ]
  },
  {
   "cell_type": "markdown",
   "metadata": {
    "slideshow": {
     "slide_type": "slide"
    }
   },
   "source": [
    "![](images/dataregress.png)"
   ]
  },
  {
   "cell_type": "code",
   "execution_count": 22,
   "metadata": {
    "collapsed": true
   },
   "outputs": [],
   "source": [
    "x = np.array([1.0, 2.0, 3.0, 4.0, 5.0])\n",
    "y = np.array([1.0, 2.1, 2.8, 4.1, 5.2])"
   ]
  },
  {
   "cell_type": "code",
   "execution_count": 23,
   "metadata": {
    "collapsed": true,
    "slideshow": {
     "slide_type": "slide"
    }
   },
   "outputs": [],
   "source": [
    "%matplotlib inline"
   ]
  },
  {
   "cell_type": "code",
   "execution_count": 24,
   "metadata": {
    "collapsed": true
   },
   "outputs": [],
   "source": [
    "from matplotlib import pyplot as pl"
   ]
  },
  {
   "cell_type": "code",
   "execution_count": 25,
   "metadata": {
    "collapsed": false,
    "slideshow": {
     "slide_type": "slide"
    }
   },
   "outputs": [
    {
     "data": {
      "image/png": "[encoded data removed]",
      "text/plain": [
       "<matplotlib.figure.Figure at 0x979a0f0>"
      ]
     },
     "metadata": {},
     "output_type": "display_data"
    }
   ],
   "source": [
    "pl.xlim(0,5.2)\n",
    "pl.ylim(0, 5.5)\n",
    "p = pl.plot(x,y, 'o', color='darkblue')"
   ]
  },
  {
   "cell_type": "markdown",
   "metadata": {
    "slideshow": {
     "slide_type": "slide"
    }
   },
   "source": [
    "![](images/scipydocs_all.png)"
   ]
  },
  {
   "cell_type": "markdown",
   "metadata": {
    "slideshow": {
     "slide_type": "slide"
    }
   },
   "source": [
    "![](images/scipydocs_regress.png)"
   ]
  },
  {
   "cell_type": "code",
   "execution_count": 26,
   "metadata": {
    "collapsed": true,
    "slideshow": {
     "slide_type": "slide"
    }
   },
   "outputs": [],
   "source": [
    "from scipy.stats import linregress"
   ]
  },
  {
   "cell_type": "code",
   "execution_count": 27,
   "metadata": {
    "collapsed": true
   },
   "outputs": [],
   "source": [
    "m, b, R, p, SEm = linregress(x, y)"
   ]
  },
  {
   "cell_type": "markdown",
   "metadata": {},
   "source": [
    "- `m`: declive\n",
    "- `b`: ordenada na origem\n",
    "- `R`: coeficiente de correlação (de Pearson)\n",
    "- `p`: p-value do teste F em que H0: y = const, independente de x\n",
    "- `SEm`: erro padrão do declive"
   ]
  },
  {
   "cell_type": "markdown",
   "metadata": {
    "slideshow": {
     "slide_type": "slide"
    }
   },
   "source": [
    "Falta calcular o SE da ordenada na origem."
   ]
  },
  {
   "cell_type": "code",
   "execution_count": 28,
   "metadata": {
    "collapsed": true,
    "slideshow": {
     "slide_type": "slide"
    }
   },
   "outputs": [],
   "source": [
    "def lin_regression(x, y):\n",
    "    \"\"\"Simple linear regression (y = m * x + b + error).\"\"\"\n",
    "    m, b, R, p, SEm = linregress(x, y)\n",
    "\n",
    "    # need to compute SEb, linregress only computes SEm\n",
    "    n = len(x)\n",
    "    SSx = np.var(x, ddof=1) * (n-1)  # this is sum( (x - mean(x))**2 )\n",
    "    SEb2 = SEm**2 * (SSx/n + np.mean(x)**2)\n",
    "    SEb = SEb2**0.5\n",
    "\n",
    "    return m, b, SEm, SEb, R, p"
   ]
  },
  {
   "cell_type": "code",
   "execution_count": 29,
   "metadata": {
    "collapsed": true,
    "slideshow": {
     "slide_type": "slide"
    }
   },
   "outputs": [],
   "source": [
    "m, b, Sm, Sb, R, p = lin_regression(x, y)"
   ]
  },
  {
   "cell_type": "code",
   "execution_count": 30,
   "metadata": {
    "collapsed": false
   },
   "outputs": [
    {
     "name": "stdout",
     "output_type": "stream",
     "text": [
      "m = 1.04 +- 0.0503\n",
      "b = -0.08 +- 0.1669\n",
      "\n",
      "R2 = 0.99302\n",
      "p of test F : 0.000248\n"
     ]
    }
   ],
   "source": [
    "print 'm = {:>.4g} +- {:6.4f}'.format(m, Sm)\n",
    "print 'b = {:>.4g} +- {:6.4f}\\n'.format(b, Sb)\n",
    "\n",
    "print 'R2 = {:7.5f}'.format(R**2)\n",
    "print 'p of test F : {:<8.6f}'.format(p)"
   ]
  },
  {
   "cell_type": "code",
   "execution_count": 31,
   "metadata": {
    "collapsed": false,
    "slideshow": {
     "slide_type": "slide"
    }
   },
   "outputs": [
    {
     "data": {
      "image/png": "[encoded data removed]",
      "text/plain": [
       "<matplotlib.figure.Figure at 0x98dbcf8>"
      ]
     },
     "metadata": {},
     "output_type": "display_data"
    }
   ],
   "source": [
    "pl.plot(x,y, 'o', color='firebrick')\n",
    "pl.xlim(0,5.2)\n",
    "pl.ylim(0, 5.5)\n",
    "\n",
    "# desenho da recta, dados 2 pontos extremos\n",
    "# escolhemos a origem e o max(x)\n",
    "x2 = np.array([0, max(x)])\n",
    "\n",
    "pl.plot(x2, m * x2 + b, '-k')\n",
    "\n",
    "# Anotação sobre o gráfico:\n",
    "ptxt = 'm = {:>.4g} +- {:6.4f}\\nb = {:>.4g} +- {:6.4f}\\nR2 = {:7.5f}'\n",
    "\n",
    "t = pl.text(0.5, 4, ptxt.format(m, Sm, b, Sb, R**2), fontsize=14)"
   ]
  },
  {
   "cell_type": "code",
   "execution_count": null,
   "metadata": {
    "collapsed": true
   },
   "outputs": [],
   "source": []
  }
 ],
 "metadata": {
  "kernelspec": {
   "display_name": "Python 2",
   "language": "python",
   "name": "python2"
  },
  "language_info": {
   "codemirror_mode": {
    "name": "ipython",
    "version": 2
   },
   "file_extension": ".py",
   "mimetype": "text/x-python",
   "name": "python",
   "nbconvert_exporter": "python",
   "pygments_lexer": "ipython2",
   "version": "2.7.11"
  }
 },
 "nbformat": 4,
 "nbformat_minor": 0
}
