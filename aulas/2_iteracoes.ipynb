{
 "cells": [
  {
   "cell_type": "markdown",
   "metadata": {
    "slideshow": {
     "slide_type": "slide"
    }
   },
   "source": [
    "# Coleções e iterações"
   ]
  },
  {
   "cell_type": "markdown",
   "metadata": {
    "slideshow": {
     "slide_type": "slide"
    }
   },
   "source": [
    "## Coleções"
   ]
  },
  {
   "cell_type": "markdown",
   "metadata": {},
   "source": [
    "Coleções são objetos que contêm mais do que um valor."
   ]
  },
  {
   "cell_type": "markdown",
   "metadata": {},
   "source": [
    "As principais coleções usadas em Python são:\n",
    "\n",
    "- Sequências:\n",
    "\n",
    "    + **listas**\n",
    "    + _strings_\n",
    "\n",
    "- **dicionários**"
   ]
  },
  {
   "cell_type": "markdown",
   "metadata": {
    "slideshow": {
     "slide_type": "slide"
    }
   },
   "source": [
    "### Listas"
   ]
  },
  {
   "cell_type": "code",
   "execution_count": 1,
   "metadata": {
    "collapsed": false
   },
   "outputs": [
    {
     "name": "stdout",
     "output_type": "stream",
     "text": [
      "[2, 4, 3.1415, 'eu aqui', 'fim da lista']\n"
     ]
    }
   ],
   "source": [
    "a = [2, 4, 3.1415, 'eu aqui', \"fim da lista\"]\n",
    "\n",
    "print(a)"
   ]
  },
  {
   "cell_type": "markdown",
   "metadata": {},
   "source": [
    "`a` é uma **lista**.\n",
    "\n",
    "Uma lista é simplesmente um conjunto de elementos reunidos num único \"objeto\".\n",
    "\n",
    "São usados `[]` para indicar explicitamente os elementos da lista."
   ]
  },
  {
   "cell_type": "markdown",
   "metadata": {
    "slideshow": {
     "slide_type": "slide"
    }
   },
   "source": [
    "As listas podem ter elementos de vários tipos e até serem indicadas com expressões:"
   ]
  },
  {
   "cell_type": "code",
   "execution_count": null,
   "metadata": {
    "collapsed": false
   },
   "outputs": [],
   "source": [
    "a = [19, 14/2, 5.0**3, 'Bom dia']\n",
    "b = 1\n",
    "c = [b, b+1, (b+2)**3]\n",
    "\n",
    "print('a =', a)\n",
    "print('c =', c)"
   ]
  },
  {
   "cell_type": "markdown",
   "metadata": {
    "slideshow": {
     "slide_type": "slide"
    }
   },
   "source": [
    "Uma propriedade fundamental das listas é que a **ordem dos elementos tem significado** e uma lista pode ser \"**indexável**\" com numeros inteiros."
   ]
  },
  {
   "cell_type": "code",
   "execution_count": null,
   "metadata": {
    "collapsed": false
   },
   "outputs": [],
   "source": [
    "a = [19, 14/2, 5.0**3, 'Bom dia']\n",
    "\n",
    "print('a =', a)\n",
    "print(a[0])\n",
    "print(a[1])\n",
    "print(a[2])\n",
    "print(a[3])"
   ]
  },
  {
   "cell_type": "markdown",
   "metadata": {},
   "source": [
    "A ordem dos elementos **começa a contar do zero** e vai até $n-1$ em que $n$ é o número de elementos da lista."
   ]
  },
  {
   "cell_type": "markdown",
   "metadata": {
    "slideshow": {
     "slide_type": "slide"
    }
   },
   "source": [
    "### _strings_"
   ]
  },
  {
   "cell_type": "markdown",
   "metadata": {},
   "source": [
    "As _strings_ podem ser entendidas como **coleções de caracteres**"
   ]
  },
  {
   "cell_type": "markdown",
   "metadata": {},
   "source": [
    "As _strings_ também têm uma numeração implícita, a contar do zero."
   ]
  },
  {
   "cell_type": "code",
   "execution_count": null,
   "metadata": {
    "collapsed": false
   },
   "outputs": [],
   "source": [
    "s = 'Eu sou uma pequena string'\n",
    "print(s)\n",
    "\n",
    "print(s[0])\n",
    "print(s[3])"
   ]
  },
  {
   "cell_type": "markdown",
   "metadata": {
    "slideshow": {
     "slide_type": "slide"
    }
   },
   "source": [
    "### Dicionários"
   ]
  },
  {
   "cell_type": "markdown",
   "metadata": {},
   "source": [
    "Dicionários são *associações* entre **chaves** e **valores**."
   ]
  },
  {
   "cell_type": "code",
   "execution_count": null,
   "metadata": {
    "collapsed": true
   },
   "outputs": [],
   "source": [
    "d = {'H': 1, 'Li': 3, 'Na': 11, 'K': 19}"
   ]
  },
  {
   "cell_type": "markdown",
   "metadata": {},
   "source": [
    "Neste exemplo,\n",
    "\n",
    "`'H'`,`'Li'`,`'Na'`,`'K'`, são as **chaves** do dicionário\n",
    "\n",
    "`1`,`3`,`11`,`19`, são os respetivos **valores**"
   ]
  },
  {
   "cell_type": "markdown",
   "metadata": {
    "slideshow": {
     "slide_type": "slide"
    }
   },
   "source": [
    "Ao contrário das listas e das *strings*, a **ordem dos elementos num dicionário não tem significado** mas um dicionário pode ser \"**indexável**\" com as *chaves*:"
   ]
  },
  {
   "cell_type": "code",
   "execution_count": null,
   "metadata": {
    "collapsed": false
   },
   "outputs": [],
   "source": [
    "d = {'H':1, 'Li':3, 'Na':11, 'K':19}\n",
    "\n",
    "print('d =', d)\n",
    "print()\n",
    "print(d['K'])\n",
    "print(d['Li'])"
   ]
  },
  {
   "cell_type": "markdown",
   "metadata": {
    "slideshow": {
     "slide_type": "slide"
    }
   },
   "source": [
    "## Iteração de coleções: comando `for`"
   ]
  },
  {
   "cell_type": "markdown",
   "metadata": {
    "slideshow": {
     "slide_type": "slide"
    }
   },
   "source": [
    "Iteração é um conceito geral, que consiste em aplicar um conjunto de instruções ou comandos a **cada um dos elementos de uma coleção**.\n",
    "\n",
    "Em Python é usado o comado `for` para esse efeito."
   ]
  },
  {
   "cell_type": "code",
   "execution_count": null,
   "metadata": {
    "collapsed": false,
    "slideshow": {
     "slide_type": "slide"
    }
   },
   "outputs": [],
   "source": [
    "a = [2,4,6,8,10, 'viria o 12', 'e depois o 14']\n",
    "\n",
    "for x in a:\n",
    "    print(x)"
   ]
  },
  {
   "cell_type": "code",
   "execution_count": null,
   "metadata": {
    "collapsed": false,
    "slideshow": {
     "slide_type": "slide"
    }
   },
   "outputs": [],
   "source": [
    "# tabela de raízes quadradas\n",
    "a = [1,2,3,4,5,6,7,8,9,10]\n",
    "\n",
    "print('tabela de raízes quadradas')\n",
    "for x in a:\n",
    "    print(x, x**0.5)"
   ]
  },
  {
   "cell_type": "code",
   "execution_count": null,
   "metadata": {
    "collapsed": false,
    "slideshow": {
     "slide_type": "slide"
    }
   },
   "outputs": [],
   "source": [
    "# Programa dos anos bissextos sem input\n",
    "\n",
    "anos = [2015, 2014, 2013, 2012, 2000, 1900, 1800]\n",
    "\n",
    "for a in anos:\n",
    "    if a % 4 == 0 and not (a % 100 == 0 and not a % 400 == 0):\n",
    "        print(a , \"é bissexto\")\n",
    "    else: \n",
    "        print(a, \"nao é bissexto\")"
   ]
  },
  {
   "cell_type": "markdown",
   "metadata": {
    "slideshow": {
     "slide_type": "slide"
    }
   },
   "source": [
    "A iteração de uma _string_ \"percorre\" os seus **caracteres**. Os espaços e a pontuação também são considerados caracteres."
   ]
  },
  {
   "cell_type": "code",
   "execution_count": null,
   "metadata": {
    "collapsed": false
   },
   "outputs": [],
   "source": [
    "s = 'Eu sou uma string'\n",
    "\n",
    "for x in s:\n",
    "    print(x)"
   ]
  },
  {
   "cell_type": "markdown",
   "metadata": {
    "slideshow": {
     "slide_type": "slide"
    }
   },
   "source": [
    "Finalmente, a iteração de dicionários \"percorre\" as suas **chaves** (apenas as chaves)."
   ]
  },
  {
   "cell_type": "code",
   "execution_count": null,
   "metadata": {
    "collapsed": false
   },
   "outputs": [],
   "source": [
    "d = {'H':1, 'Li':3, 'Na':11, 'K':19}\n",
    "\n",
    "for x in d:\n",
    "    print(x)"
   ]
  },
  {
   "cell_type": "markdown",
   "metadata": {
    "slideshow": {
     "slide_type": "slide"
    }
   },
   "source": [
    "Mas é fácil usar as chaves para obter uma tabela de chaves-valores:"
   ]
  },
  {
   "cell_type": "code",
   "execution_count": null,
   "metadata": {
    "collapsed": false
   },
   "outputs": [],
   "source": [
    "grupo1 = {'H':1, 'Li':3, 'Na':11, 'K':19}\n",
    "\n",
    "print('elementos do grupo 1')\n",
    "\n",
    "for e in grupo1:\n",
    "    print(e, grupo1[e])"
   ]
  },
  {
   "cell_type": "markdown",
   "metadata": {
    "slideshow": {
     "slide_type": "slide"
    }
   },
   "source": [
    "A ordem da iteração das chaves num dicionário é \"incerta\".\n",
    "\n",
    "Podemos forçar uma ordem, iterando sobre uma **lista** com as chaves, na ordem desejada: "
   ]
  },
  {
   "cell_type": "code",
   "execution_count": null,
   "metadata": {
    "collapsed": false
   },
   "outputs": [],
   "source": [
    "grupo1 = {'H':1, 'Li':3, 'Na':11, 'K':19}\n",
    "\n",
    "print('elementos do grupo 1')\n",
    "for e in ['H', 'Li', 'Na', 'K']:\n",
    "    print(e, grupo1[e])"
   ]
  },
  {
   "cell_type": "markdown",
   "metadata": {
    "slideshow": {
     "slide_type": "slide"
    }
   },
   "source": [
    "## Exemplos de iteração (e acumulação)"
   ]
  },
  {
   "cell_type": "markdown",
   "metadata": {
    "slideshow": {
     "slide_type": "slide"
    }
   },
   "source": [
    "**Problema: somar todos os numeros de 1 a 10**"
   ]
  },
  {
   "cell_type": "code",
   "execution_count": null,
   "metadata": {
    "collapsed": false
   },
   "outputs": [],
   "source": [
    "nums = [1,2,3,4,5,6,7,8,9,10]\n",
    "\n",
    "s = 0\n",
    "for i in nums:\n",
    "    s = s + i\n",
    "\n",
    "print('a soma de', nums, 'é', s)"
   ]
  },
  {
   "cell_type": "markdown",
   "metadata": {
    "slideshow": {
     "slide_type": "slide"
    }
   },
   "source": [
    "O papel de `s` neste exemplo é o de \"acumular\" a soma de sucessivos valores obtidos da iteração dos elementos da lista `nums`.\n",
    "\n",
    "Inicialmente, antes de começar a iteração (antes do programa entrar no comando `for`), `s` tem o valor 0. Cada vez que \"passamos\" a um novo valor `i`, este é somado ao valor anterior de `s`. Assim, conseguimos acumular a soma de todos os `i`."
   ]
  },
  {
   "cell_type": "markdown",
   "metadata": {
    "slideshow": {
     "slide_type": "slide"
    }
   },
   "source": [
    "**Problema: somar todos os números de 1 a 1000**"
   ]
  },
  {
   "cell_type": "markdown",
   "metadata": {},
   "source": [
    "Desta vez não vamos criar a lista de numeros explicitamente (e manualmente)"
   ]
  },
  {
   "cell_type": "code",
   "execution_count": null,
   "metadata": {
    "collapsed": false
   },
   "outputs": [],
   "source": [
    "s = 0\n",
    "\n",
    "for i in range(1, 1001):\n",
    "    s = s + i\n",
    "\n",
    "print('a soma dos números de 1 a 1000 é', s)"
   ]
  },
  {
   "cell_type": "markdown",
   "metadata": {
    "slideshow": {
     "slide_type": "slide"
    }
   },
   "source": [
    "## `range()`: coleção de números inteiros"
   ]
  },
  {
   "cell_type": "markdown",
   "metadata": {},
   "source": [
    "A função `range()`, que pode ter até 3 argumentos, `range(início, fim, passo)`, é usada num comando `for` para percorrer uma coleção de **números inteiros**,\n",
    "\n",
    "desde `início` até `fim`, **exclusivé**, de `passo` em `passo`.\n",
    "\n",
    "`início` e `passo` são opcionais.\n",
    "\n",
    "Se forem omitidos,\n",
    "\n",
    "- `início` é 0\n",
    "- `passo` é 1\n",
    "\n",
    "Nunca esquecer que `fim` **é excluído da lista**\n",
    "\n",
    "Exemplos:"
   ]
  },
  {
   "cell_type": "code",
   "execution_count": null,
   "metadata": {
    "collapsed": false,
    "slideshow": {
     "slide_type": "slide"
    }
   },
   "outputs": [],
   "source": [
    "print('-- range(12) ----------')\n",
    "# acaba em 12 (exclusivé), começa em 0 e percorre de 1 em 1.\n",
    "\n",
    "for i in range(12):\n",
    "    print(i)"
   ]
  },
  {
   "cell_type": "code",
   "execution_count": null,
   "metadata": {
    "collapsed": false,
    "slideshow": {
     "slide_type": "slide"
    }
   },
   "outputs": [],
   "source": [
    "print('-- range(5, 12) ----------')\n",
    "# começa em 5, acaba em 12 (exclusivé) e percorre de 1 em 1.\n",
    "\n",
    "for i in range(5, 12):\n",
    "    print(i)"
   ]
  },
  {
   "cell_type": "code",
   "execution_count": null,
   "metadata": {
    "collapsed": false,
    "slideshow": {
     "slide_type": "slide"
    }
   },
   "outputs": [],
   "source": [
    "print('-- range(5, 12, 2) ----------')\n",
    "# começa em 5, acaba em 12 (exclusivé) e percorre de 2 em 2.\n",
    "\n",
    "for i in range(5, 12, 2):\n",
    "    print(i)"
   ]
  },
  {
   "cell_type": "markdown",
   "metadata": {
    "slideshow": {
     "slide_type": "slide"
    }
   },
   "source": [
    "**Problema: calcular o factorial de 1000**"
   ]
  },
  {
   "cell_type": "code",
   "execution_count": null,
   "metadata": {
    "collapsed": false
   },
   "outputs": [],
   "source": [
    "fact = 1\n",
    "for i in range(1, 1001):\n",
    "    fact = fact * i\n",
    "\n",
    "print('o factorial de 100 é', fact)"
   ]
  },
  {
   "cell_type": "markdown",
   "metadata": {
    "slideshow": {
     "slide_type": "slide"
    }
   },
   "source": [
    "Mais uma vez, temos que acumular os produtos sucessivos. `fact` tem esse papel. É análogo a `s` nos exemplos anteriores.\n",
    "\n",
    "Aqui a diferença é que estamos a acumular produtos e, por isso, `fact` tem de ter o valor inicial de 1 antes de começar a iteração. "
   ]
  },
  {
   "cell_type": "markdown",
   "metadata": {},
   "source": [
    "Agora um problema semelhante, mas usando strings:\n",
    "\n",
    "**obter a sequência da cadeia complementar de uma sequência de DNA**"
   ]
  },
  {
   "cell_type": "code",
   "execution_count": null,
   "metadata": {
    "collapsed": false
   },
   "outputs": [],
   "source": [
    "seq = 'ATGGTCAAACTTGTTGACTGCAAATGCGTACGT'\n",
    "\n",
    "seqcomp = ''\n",
    "for b in seq:\n",
    "    if b == 'A':\n",
    "        bcomp = 'T'\n",
    "    elif b == 'T':\n",
    "        bcomp = 'A'\n",
    "    elif b == 'G':\n",
    "        bcomp = 'C'\n",
    "    else:\n",
    "        bcomp = 'G'\n",
    "    seqcomp = seqcomp + bcomp\n",
    "        \n",
    "print('sequência:   ', seq)\n",
    "print('complementar:', seqcomp)"
   ]
  },
  {
   "cell_type": "markdown",
   "metadata": {
    "slideshow": {
     "slide_type": "slide"
    }
   },
   "source": [
    "Neste exemplo, temos de acumular as letras das bases complementares. Usamos `seqcomp`. \n",
    "\n",
    "Desta vez, antes da iteração temos de começar com uma \"_string_ vazia\".\n",
    "\n",
    "As duas aspas consecutivas na atribuição `seqcomp = ''` definem uma uma \"_string_ vazia\"."
   ]
  },
  {
   "cell_type": "markdown",
   "metadata": {},
   "source": [
    "O programa pode ser modificado elminando os `if...elif...elif...else`.\n",
    "\n",
    "Podemos usarmos um dicionário que associe cada base à sua base complementar"
   ]
  },
  {
   "cell_type": "code",
   "execution_count": null,
   "metadata": {
    "collapsed": false
   },
   "outputs": [],
   "source": [
    "seq = 'ATGGTCAAACTTGTTGACTGCAAATGCGTACGT'\n",
    "\n",
    "seqcomp = ''\n",
    "\n",
    "complementares = {'A': 'T', 'T': 'A', 'C': 'G', 'G': 'C'}\n",
    "\n",
    "for b in seq:\n",
    "    seqcomp = seqcomp + complementares[b]\n",
    "        \n",
    "print('sequência:   ', seq)\n",
    "print('complementar:', seqcomp)"
   ]
  },
  {
   "cell_type": "markdown",
   "metadata": {
    "slideshow": {
     "slide_type": "slide"
    }
   },
   "source": [
    "Agora um problema mais elaborado:\n",
    "\n",
    "**converter uma sequência com códigos de uma letra de aminoácidos para códigos de 3 letras, usando um dicionário para a conversão.**"
   ]
  },
  {
   "cell_type": "code",
   "execution_count": null,
   "metadata": {
    "collapsed": false,
    "slideshow": {
     "slide_type": "slide"
    }
   },
   "outputs": [],
   "source": [
    "trans = {'A': 'Ala', 'C': 'Cys', 'E': 'Glu', 'D': 'Asp', 'G': 'Gly', 'F': 'Phe', 'I': 'Ile', 'H': 'His', 'K': 'Lys', 'M': 'Met', 'L': 'Leu', 'N': 'Asn', 'Q': 'Gln', 'P': 'Pro', 'S': 'Ser', 'R': 'Arg', 'T': 'Thr', 'W': 'Trp', 'V': 'Val', 'Y': 'Tyr'}\n",
    "\n",
    "# Problema: transformar seq1 numa string com os códigos de 3 letras dos aa\n",
    "seq1 = 'ADKLITCWFHHWE'\n",
    "\n",
    "seq3 = ''\n",
    "for aa in seq1:\n",
    "    seq3 = seq3 + trans[aa] + '-'\n",
    "\n",
    "print(seq1, 'é o mesmo que ', seq3)"
   ]
  },
  {
   "cell_type": "markdown",
   "metadata": {
    "slideshow": {
     "slide_type": "slide"
    }
   },
   "source": [
    "## `len()`: número de elementos de uma coleção."
   ]
  },
  {
   "cell_type": "markdown",
   "metadata": {},
   "source": [
    "A função `len()` **pode ser aplicada a qualquer coleção**, devolvendo o **número de elementos** contidos nessa coleção."
   ]
  },
  {
   "cell_type": "code",
   "execution_count": null,
   "metadata": {
    "collapsed": false
   },
   "outputs": [],
   "source": [
    "a = [2,4,6,8,10, 'viria o 12', 'e depois o 14']\n",
    "s = 'Eu sou uma pequena string'\n",
    "trans = {'A': 'Ala', 'C': 'Cys', 'E': 'Glu', 'D': 'Asp', 'G': 'Gly', 'F': 'Phe', 'I': 'Ile', 'H': 'His', 'K': 'Lys', 'M': 'Met', 'L': 'Leu', 'N': 'Asn', 'Q': 'Gln', 'P': 'Pro', 'S': 'Ser', 'R': 'Arg', 'T': 'Thr', 'W': 'Trp', 'V': 'Val', 'Y': 'Tyr'}\n",
    "\n",
    "print(len(a))\n",
    "print(len(s))\n",
    "print(len(trans))"
   ]
  },
  {
   "cell_type": "markdown",
   "metadata": {},
   "source": [
    "## Comando `break`"
   ]
  },
  {
   "cell_type": "markdown",
   "metadata": {},
   "source": [
    "O comando `break` permite uma *saída prematura* de uma iteração: podemos não chegar ao fim de todos os elementos da coleção que está a ser iterada se passarmos por um comando `break`.\n",
    "\n",
    "Tem utilidade desde que seja utilizado com um `if` para testar uma condição."
   ]
  },
  {
   "cell_type": "markdown",
   "metadata": {},
   "source": [
    "Problema:\n",
    "\n",
    "**Obter a sequência da cadeia complementar de uma sequência de DNA, mas parar assim que for encontrado uma citosina (C).**"
   ]
  },
  {
   "cell_type": "code",
   "execution_count": null,
   "metadata": {
    "collapsed": false
   },
   "outputs": [],
   "source": [
    "seq = 'ATGGTTAAACTTGTTGACTGCAAATGCGTACGT'\n",
    "\n",
    "seqcomp = ''\n",
    "\n",
    "complementares = {'A': 'T', 'T': 'A', 'C': 'G', 'G': 'C'}\n",
    "\n",
    "for b in seq:\n",
    "    if b == 'C':\n",
    "        break\n",
    "    seqcomp = seqcomp + complementares[b]\n",
    "        \n",
    "print('sequência:   ', seq)\n",
    "print('complementar:', seqcomp)"
   ]
  },
  {
   "cell_type": "markdown",
   "metadata": {
    "slideshow": {
     "slide_type": "slide"
    }
   },
   "source": [
    "## Comando `while`"
   ]
  },
  {
   "cell_type": "code",
   "execution_count": null,
   "metadata": {
    "collapsed": false
   },
   "outputs": [],
   "source": [
    "#contagem decrescente\n",
    "count = 10\n",
    "while count > 0:\n",
    "    print(count)\n",
    "    count = count - 1\n",
    "print('kabum!')"
   ]
  },
  {
   "cell_type": "markdown",
   "metadata": {
    "slideshow": {
     "slide_type": "slide"
    }
   },
   "source": [
    "O comando while é pouco usado na linguagem Python. Muitas vezes a repetição é usada como **iteração de elementos de uma coleção**."
   ]
  }
 ],
 "metadata": {
  "anaconda-cloud": {},
  "kernelspec": {
   "display_name": "Python [default]",
   "language": "python",
   "name": "python3"
  },
  "language_info": {
   "codemirror_mode": {
    "name": "ipython",
    "version": 3
   },
   "file_extension": ".py",
   "mimetype": "text/x-python",
   "name": "python",
   "nbconvert_exporter": "python",
   "pygments_lexer": "ipython3",
   "version": "3.5.2"
  }
 },
 "nbformat": 4,
 "nbformat_minor": 0
}
