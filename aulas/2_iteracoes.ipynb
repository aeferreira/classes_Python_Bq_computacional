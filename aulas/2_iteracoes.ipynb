{
 "cells": [
  {
   "cell_type": "markdown",
   "metadata": {
    "slideshow": {
     "slide_type": "slide"
    }
   },
   "source": [
    "# Coleções e iterações"
   ]
  },
  {
   "cell_type": "markdown",
   "metadata": {
    "slideshow": {
     "slide_type": "slide"
    }
   },
   "source": [
    "## Coleções"
   ]
  },
  {
   "cell_type": "markdown",
   "metadata": {},
   "source": [
    "No capítulo anterior vimos que uma parte importante de um programa consiste na criação e modificação dos valores de \"objetos\".\n",
    "\n",
    "Estes objetos são, na verdade, representados na memória do computador. O acesso a estes objetos é feito à custa de um *nome*.\n",
    "\n",
    "A linguagem Python suporat uma variedade de tipos de objetos, dos quais já vimos os números e as _strings_."
   ]
  },
  {
   "cell_type": "markdown",
   "metadata": {},
   "source": [
    "Este capítulo diz respeito a objetos designados genericamente por \"coleções\"."
   ]
  },
  {
   "cell_type": "markdown",
   "metadata": {},
   "source": [
    "<div class=\"alert alert-info\">\n",
    "Coleções são objetos que contêm mais do que um valor.\n",
    "</div>"
   ]
  },
  {
   "cell_type": "markdown",
   "metadata": {},
   "source": [
    "As principais coleções usadas em Python são:\n",
    "\n",
    "- Sequências:\n",
    "\n",
    "    + **listas**\n",
    "    + _strings_\n",
    "\n",
    "- **dicionários**"
   ]
  },
  {
   "cell_type": "markdown",
   "metadata": {
    "slideshow": {
     "slide_type": "slide"
    }
   },
   "source": [
    "### Listas"
   ]
  },
  {
   "cell_type": "code",
   "execution_count": 1,
   "metadata": {
    "collapsed": false,
    "slideshow": {
     "slide_type": "slide"
    }
   },
   "outputs": [
    {
     "name": "stdout",
     "output_type": "stream",
     "text": [
      "[2, 4, 3.1415, 'eu aqui', 'fim da lista']\n"
     ]
    }
   ],
   "source": [
    "a = [2, 4, 3.1415, 'eu aqui', \"fim da lista\"]\n",
    "\n",
    "print(a)"
   ]
  },
  {
   "cell_type": "markdown",
   "metadata": {
    "slideshow": {
     "slide_type": "slide"
    }
   },
   "source": [
    "`a` é uma **lista**.\n",
    "\n",
    "<div class=\"alert alert-info\">\n",
    "Uma lista é simplesmente um conjunto de elementos reunidos num único \"objeto\".\n",
    "</div>\n",
    "\n",
    "São usados `[]` para indicar explicitamente os elementos da lista. Por outro lado, como se pode ver no exemplo, foi atribuído um único nome (`a`) para toda a lista."
   ]
  },
  {
   "cell_type": "markdown",
   "metadata": {
    "slideshow": {
     "slide_type": "skip"
    }
   },
   "source": [
    "As listas podem ter elementos de vários tipos e estes elementos podem até ser o resultado de expressões:"
   ]
  },
  {
   "cell_type": "code",
   "execution_count": 2,
   "metadata": {
    "collapsed": false,
    "slideshow": {
     "slide_type": "slide"
    }
   },
   "outputs": [
    {
     "name": "stdout",
     "output_type": "stream",
     "text": [
      "a = [19, 7.0, 125.0, 'Bom dia']\n",
      "c = [1, 2, 27]\n"
     ]
    }
   ],
   "source": [
    "a = [19, 14/2, 5.0**3, 'Bom dia']\n",
    "b = 1\n",
    "c = [b, b+1, (b+2)**3]\n",
    "\n",
    "print('a =', a)\n",
    "print('c =', c)"
   ]
  },
  {
   "cell_type": "markdown",
   "metadata": {
    "slideshow": {
     "slide_type": "skip"
    }
   },
   "source": [
    "Neste exemplo, a lista `a` contem 3 números e uma _string_. O valor de dois dos números é o resultado de uma expressão.\n",
    "\n",
    "Note-se, também, que na lista `c` os valores dos elementos são calculados usando o  valor atribuído ao nome `b` para calcular os elementos da lista."
   ]
  },
  {
   "cell_type": "markdown",
   "metadata": {
    "slideshow": {
     "slide_type": "slide"
    }
   },
   "source": [
    "Uma propriedade fundamental das listas é que a **ordem dos elementos tem significado** e uma lista pode ser \"**indexável**\" com numeros inteiros."
   ]
  },
  {
   "cell_type": "code",
   "execution_count": 3,
   "metadata": {
    "collapsed": false
   },
   "outputs": [
    {
     "name": "stdout",
     "output_type": "stream",
     "text": [
      "a = [19, 7.0, 125.0, 'Bom dia']\n",
      "19\n",
      "7.0\n",
      "125.0\n",
      "Bom dia\n"
     ]
    }
   ],
   "source": [
    "a = [19, 14/2, 5.0**3, 'Bom dia']\n",
    "\n",
    "print('a =', a)\n",
    "print(a[0])\n",
    "print(a[1])\n",
    "print(a[2])\n",
    "print(a[3])"
   ]
  },
  {
   "cell_type": "markdown",
   "metadata": {
    "slideshow": {
     "slide_type": "slide"
    }
   },
   "source": [
    "A ordem dos elementos **começa a contar do zero** e vai até $n-1$ em que $n$ é o número de elementos da lista."
   ]
  },
  {
   "cell_type": "markdown",
   "metadata": {
    "slideshow": {
     "slide_type": "slide"
    }
   },
   "source": [
    "### _strings_"
   ]
  },
  {
   "cell_type": "markdown",
   "metadata": {},
   "source": [
    "<div class=\"alert alert-info\">\n",
    "As _strings_ podem ser entendidas como **coleções de caracteres**\n",
    "</div>"
   ]
  },
  {
   "cell_type": "markdown",
   "metadata": {},
   "source": [
    "As _strings_ também têm uma numeração implícita, a contar do zero, sendo também \"indexáveis\"."
   ]
  },
  {
   "cell_type": "code",
   "execution_count": 4,
   "metadata": {
    "collapsed": false
   },
   "outputs": [
    {
     "name": "stdout",
     "output_type": "stream",
     "text": [
      "Eu sou uma pequena string\n",
      "E\n",
      "s\n"
     ]
    }
   ],
   "source": [
    "s = 'Eu sou uma pequena string'\n",
    "print(s)\n",
    "\n",
    "print(s[0])\n",
    "print(s[3])"
   ]
  },
  {
   "cell_type": "markdown",
   "metadata": {
    "slideshow": {
     "slide_type": "slide"
    }
   },
   "source": [
    "### Dicionários"
   ]
  },
  {
   "cell_type": "markdown",
   "metadata": {},
   "source": [
    "<div class=\"alert alert-info\">\n",
    "Dicionários são *associações* entre **chaves** e **valores**.\n",
    "</div>"
   ]
  },
  {
   "cell_type": "code",
   "execution_count": 5,
   "metadata": {
    "collapsed": true
   },
   "outputs": [],
   "source": [
    "d = {'H': 1, 'Li': 3, 'Na': 11, 'K': 19}"
   ]
  },
  {
   "cell_type": "markdown",
   "metadata": {},
   "source": [
    "Neste exemplo,\n",
    "\n",
    "`'H'`,`'Li'`,`'Na'`,`'K'`, são as **chaves** do dicionário\n",
    "\n",
    "`1`, `3`, `11`, `19`, são os respetivos **valores**"
   ]
  },
  {
   "cell_type": "markdown",
   "metadata": {
    "slideshow": {
     "slide_type": "slide"
    }
   },
   "source": [
    "Ao contrário das listas e das *strings*, a **ordem dos elementos num dicionário não tem significado** mas um dicionário pode ser \"**indexável**\" com as *chaves*:"
   ]
  },
  {
   "cell_type": "code",
   "execution_count": 6,
   "metadata": {
    "collapsed": false
   },
   "outputs": [
    {
     "name": "stdout",
     "output_type": "stream",
     "text": [
      "d = {'H': 1, 'Na': 11, 'Li': 3, 'K': 19}\n",
      "19\n",
      "3\n"
     ]
    }
   ],
   "source": [
    "d = {'H':1, 'Li':3, 'Na':11, 'K':19}\n",
    "\n",
    "print('d =', d)\n",
    "\n",
    "print(d['K'])\n",
    "print(d['Li'])"
   ]
  },
  {
   "cell_type": "markdown",
   "metadata": {},
   "source": [
    "Na linguagem Python há três conceitos que são comuns a todas as coleções:\n",
    "\n",
    "- determinar o número de elementos de uma coleção, com a função `len()`\n",
    "- aplicar um conjunto de comandos a todos os elementos de uma coleção, uma a um, com o comando `for`\n",
    "- testar se um valor faz parte de uma coleção, com o operador `in`\n"
   ]
  },
  {
   "cell_type": "markdown",
   "metadata": {
    "slideshow": {
     "slide_type": "slide"
    }
   },
   "source": [
    "## `len()`: número de elementos de uma coleção."
   ]
  },
  {
   "cell_type": "markdown",
   "metadata": {},
   "source": [
    "A função `len()` **pode ser aplicada a qualquer coleção**, devolvendo o **número de elementos** contidos nessa coleção."
   ]
  },
  {
   "cell_type": "code",
   "execution_count": 7,
   "metadata": {
    "collapsed": false
   },
   "outputs": [
    {
     "name": "stdout",
     "output_type": "stream",
     "text": [
      "7\n",
      "25\n",
      "4\n"
     ]
    }
   ],
   "source": [
    "a = [2,4,6,8,10, 'viria o 12', 'e depois o 14']\n",
    "s = 'Eu sou uma pequena string'\n",
    "d = {'H':1, 'Li':3, 'Na':11, 'K':19}\n",
    "\n",
    "print(len(a))\n",
    "print(len(s))\n",
    "print(len(d))"
   ]
  },
  {
   "cell_type": "markdown",
   "metadata": {
    "slideshow": {
     "slide_type": "slide"
    }
   },
   "source": [
    "## Comando `for`: iteração de coleções"
   ]
  },
  {
   "cell_type": "markdown",
   "metadata": {
    "slideshow": {
     "slide_type": "slide"
    }
   },
   "source": [
    "Iteração é um conceito geral, que consiste em aplicar um conjunto de instruções ou comandos a **cada um dos elementos de uma coleção**, um a um.\n",
    "\n",
    "Em Python é usado o comado `for` para esse efeito."
   ]
  },
  {
   "cell_type": "code",
   "execution_count": 8,
   "metadata": {
    "collapsed": false,
    "slideshow": {
     "slide_type": "slide"
    }
   },
   "outputs": [
    {
     "name": "stdout",
     "output_type": "stream",
     "text": [
      "2\n",
      "4\n",
      "6\n",
      "8\n",
      "10\n",
      "viria o 12\n",
      "e depois o 14\n"
     ]
    }
   ],
   "source": [
    "a = [2,4,6,8,10, 'viria o 12', 'e depois o 14']\n",
    "\n",
    "for x in a:\n",
    "    print(x)"
   ]
  },
  {
   "cell_type": "markdown",
   "metadata": {},
   "source": [
    "A estrutura geral do comando `for` é:\n",
    "\n",
    "![](images/blocks_for.png)\n",
    "\n",
    "Como se pode ver, o bloco de linhas que é executado e repetido para todos os elementos de uma coleção também é definido pelo alinhamento dessas linhas.\n",
    "\n",
    "Esta é uma regra geral da linguagem Python: **o alinhamento do começo das linhas define blocos**."
   ]
  },
  {
   "cell_type": "markdown",
   "metadata": {
    "slideshow": {
     "slide_type": "slide"
    }
   },
   "source": [
    "Vamos ver alguns exemplos da utilização de um comando `for`:\n",
    "\n",
    "**Problema: mostrar uma tabela de raízes quadradas de 1 a 10**"
   ]
  },
  {
   "cell_type": "code",
   "execution_count": 9,
   "metadata": {
    "collapsed": false,
    "slideshow": {
     "slide_type": "slide"
    }
   },
   "outputs": [
    {
     "name": "stdout",
     "output_type": "stream",
     "text": [
      "tabela de raízes quadradas\n",
      "1 1.0\n",
      "2 1.4142135623730951\n",
      "3 1.7320508075688772\n",
      "4 2.0\n",
      "5 2.23606797749979\n",
      "6 2.449489742783178\n",
      "7 2.6457513110645907\n",
      "8 2.8284271247461903\n",
      "9 3.0\n",
      "10 3.1622776601683795\n"
     ]
    }
   ],
   "source": [
    "print('tabela de raízes quadradas')\n",
    "\n",
    "a = [1,2,3,4,5,6,7,8,9,10]\n",
    "\n",
    "for x in a:\n",
    "    print(x, x**0.5)"
   ]
  },
  {
   "cell_type": "code",
   "execution_count": 10,
   "metadata": {
    "collapsed": false,
    "slideshow": {
     "slide_type": "slide"
    }
   },
   "outputs": [
    {
     "name": "stdout",
     "output_type": "stream",
     "text": [
      "2015 nao é bissexto\n",
      "2014 nao é bissexto\n",
      "2013 nao é bissexto\n",
      "2012 é bissexto\n",
      "2000 é bissexto\n",
      "1900 nao é bissexto\n",
      "1800 nao é bissexto\n"
     ]
    }
   ],
   "source": [
    "# Programa dos anos bissextos sem input\n",
    "\n",
    "anos = [2015, 2014, 2013, 2012, 2000, 1900, 1800]\n",
    "\n",
    "for a in anos:\n",
    "    if a % 4 == 0 and not (a % 100 == 0 and not a % 400 == 0):\n",
    "        print(a , \"é bissexto\")\n",
    "    else: \n",
    "        print(a, \"nao é bissexto\")"
   ]
  },
  {
   "cell_type": "markdown",
   "metadata": {
    "slideshow": {
     "slide_type": "slide"
    }
   },
   "source": [
    "A iteração de uma _string_ \"percorre\" os seus **caracteres**. Os espaços e a pontuação também são considerados caracteres."
   ]
  },
  {
   "cell_type": "code",
   "execution_count": 11,
   "metadata": {
    "collapsed": false
   },
   "outputs": [
    {
     "name": "stdout",
     "output_type": "stream",
     "text": [
      "E\n",
      "u\n",
      " \n",
      "s\n",
      "o\n",
      "u\n",
      " \n",
      "u\n",
      "m\n",
      "a\n",
      " \n",
      "s\n",
      "t\n",
      "r\n",
      "i\n",
      "n\n",
      "g\n"
     ]
    }
   ],
   "source": [
    "s = 'Eu sou uma string'\n",
    "\n",
    "for x in s:\n",
    "    print(x)"
   ]
  },
  {
   "cell_type": "markdown",
   "metadata": {
    "slideshow": {
     "slide_type": "slide"
    }
   },
   "source": [
    "Finalmente, a iteração de dicionários \"percorre\" as suas **chaves** (apenas as chaves)."
   ]
  },
  {
   "cell_type": "code",
   "execution_count": 12,
   "metadata": {
    "collapsed": false
   },
   "outputs": [
    {
     "name": "stdout",
     "output_type": "stream",
     "text": [
      "H\n",
      "Na\n",
      "Li\n",
      "K\n"
     ]
    }
   ],
   "source": [
    "d = {'H':1, 'Li':3, 'Na':11, 'K':19}\n",
    "\n",
    "for x in d:\n",
    "    print(x)"
   ]
  },
  {
   "cell_type": "markdown",
   "metadata": {
    "slideshow": {
     "slide_type": "slide"
    }
   },
   "source": [
    "Mas é fácil usar as chaves para obter uma tabela de chaves-valores:"
   ]
  },
  {
   "cell_type": "code",
   "execution_count": 13,
   "metadata": {
    "collapsed": false
   },
   "outputs": [
    {
     "name": "stdout",
     "output_type": "stream",
     "text": [
      "elementos do grupo 1\n",
      "H 1\n",
      "Na 11\n",
      "Li 3\n",
      "K 19\n"
     ]
    }
   ],
   "source": [
    "grupo1 = {'H':1, 'Li':3, 'Na':11, 'K':19}\n",
    "\n",
    "print('elementos do grupo 1')\n",
    "\n",
    "for e in grupo1:\n",
    "    print(e, grupo1[e])"
   ]
  },
  {
   "cell_type": "markdown",
   "metadata": {
    "slideshow": {
     "slide_type": "slide"
    }
   },
   "source": [
    "A ordem da iteração das chaves num dicionário é \"incerta\".\n",
    "\n",
    "Podemos forçar uma ordem, iterando sobre uma **lista** com as chaves, na ordem desejada: "
   ]
  },
  {
   "cell_type": "code",
   "execution_count": 14,
   "metadata": {
    "collapsed": false
   },
   "outputs": [
    {
     "name": "stdout",
     "output_type": "stream",
     "text": [
      "elementos do grupo 1\n",
      "H 1\n",
      "Li 3\n",
      "Na 11\n",
      "K 19\n"
     ]
    }
   ],
   "source": [
    "grupo1 = {'H':1, 'Li':3, 'Na':11, 'K':19}\n",
    "\n",
    "print('elementos do grupo 1')\n",
    "\n",
    "for e in ['H', 'Li', 'Na', 'K']:\n",
    "    print(e, grupo1[e])"
   ]
  },
  {
   "cell_type": "markdown",
   "metadata": {
    "slideshow": {
     "slide_type": "slide"
    }
   },
   "source": [
    "## Exemplos de iteração (e acumulação)"
   ]
  },
  {
   "cell_type": "markdown",
   "metadata": {
    "slideshow": {
     "slide_type": "slide"
    }
   },
   "source": [
    "**Problema: somar todos os numeros de 1 a 10**"
   ]
  },
  {
   "cell_type": "code",
   "execution_count": 15,
   "metadata": {
    "collapsed": false
   },
   "outputs": [
    {
     "name": "stdout",
     "output_type": "stream",
     "text": [
      "a soma de [1, 2, 3, 4, 5, 6, 7, 8, 9, 10] é 55\n"
     ]
    }
   ],
   "source": [
    "nums = [1,2,3,4,5,6,7,8,9,10]\n",
    "\n",
    "s = 0\n",
    "for i in nums:\n",
    "    s = s + i\n",
    "\n",
    "print('a soma de', nums, 'é', s)"
   ]
  },
  {
   "cell_type": "markdown",
   "metadata": {
    "slideshow": {
     "slide_type": "slide"
    }
   },
   "source": [
    "O papel de `s` neste exemplo é o de \"acumular\" a soma de sucessivos valores obtidos da iteração dos elementos da lista `nums`.\n",
    "\n",
    "Inicialmente, antes de começar a iteração (antes do programa entrar no comando `for`), `s` tem o valor 0. Cada vez que \"passamos\" a um novo valor `i`, este é somado ao valor anterior de `s`. Assim, conseguimos acumular a soma de todos os `i`."
   ]
  },
  {
   "cell_type": "markdown",
   "metadata": {
    "slideshow": {
     "slide_type": "slide"
    }
   },
   "source": [
    "**Problema: somar todos os números de 1 a 1000**"
   ]
  },
  {
   "cell_type": "markdown",
   "metadata": {},
   "source": [
    "Desta vez não vamos criar a lista de numeros explicitamente (e manualmente)"
   ]
  },
  {
   "cell_type": "code",
   "execution_count": 16,
   "metadata": {
    "collapsed": false
   },
   "outputs": [
    {
     "name": "stdout",
     "output_type": "stream",
     "text": [
      "a soma dos números de 1 a 1000 é 500500\n"
     ]
    }
   ],
   "source": [
    "s = 0\n",
    "\n",
    "for i in range(1, 1001):\n",
    "    s = s + i\n",
    "\n",
    "print('a soma dos números de 1 a 1000 é', s)"
   ]
  },
  {
   "cell_type": "markdown",
   "metadata": {
    "slideshow": {
     "slide_type": "slide"
    }
   },
   "source": [
    "## `range()`: gerador de números inteiros"
   ]
  },
  {
   "cell_type": "markdown",
   "metadata": {},
   "source": [
    "A função `range()`, que pode ter até 3 argumentos, `range(início, fim, passo)`, é usada num comando `for` para percorrer uma sequência de **números inteiros**, desde um número inteiro inicial (o `início`) até um número inteiro final **exclusivé** (o `fim`), com um determinado espaçamento (o `passo`).\n",
    "\n",
    "O número inicial e o \"passo\" são opcionais.\n",
    "\n",
    "Se forem omitidos,\n",
    "\n",
    "- o início é 0\n",
    "- o passo é 1\n",
    "\n",
    "<div class=\"alert alert-warning\">\n",
    "Nunca esquecer que o valor do `fim` **é excluído da lista**\n",
    "</div>\n",
    "\n",
    "Exemplos:"
   ]
  },
  {
   "cell_type": "code",
   "execution_count": 17,
   "metadata": {
    "collapsed": false,
    "slideshow": {
     "slide_type": "slide"
    }
   },
   "outputs": [
    {
     "name": "stdout",
     "output_type": "stream",
     "text": [
      "-- range(12) ----------\n",
      "0\n",
      "1\n",
      "2\n",
      "3\n",
      "4\n",
      "5\n",
      "6\n",
      "7\n",
      "8\n",
      "9\n",
      "10\n",
      "11\n"
     ]
    }
   ],
   "source": [
    "print('-- range(12) ----------')\n",
    "# acaba em 12 (exclusivé), começa em 0 e percorre de 1 em 1.\n",
    "\n",
    "for i in range(12):\n",
    "    print(i)"
   ]
  },
  {
   "cell_type": "code",
   "execution_count": 18,
   "metadata": {
    "collapsed": false,
    "slideshow": {
     "slide_type": "slide"
    }
   },
   "outputs": [
    {
     "name": "stdout",
     "output_type": "stream",
     "text": [
      "-- range(5, 12) ----------\n",
      "5\n",
      "6\n",
      "7\n",
      "8\n",
      "9\n",
      "10\n",
      "11\n"
     ]
    }
   ],
   "source": [
    "print('-- range(5, 12) ----------')\n",
    "# começa em 5, acaba em 12 (exclusivé) e percorre de 1 em 1.\n",
    "\n",
    "for i in range(5, 12):\n",
    "    print(i)"
   ]
  },
  {
   "cell_type": "code",
   "execution_count": 19,
   "metadata": {
    "collapsed": false,
    "slideshow": {
     "slide_type": "slide"
    }
   },
   "outputs": [
    {
     "name": "stdout",
     "output_type": "stream",
     "text": [
      "-- range(5, 12, 2) ----------\n",
      "5\n",
      "7\n",
      "9\n",
      "11\n"
     ]
    }
   ],
   "source": [
    "print('-- range(5, 12, 2) ----------')\n",
    "# começa em 5, acaba em 12 (exclusivé) e percorre de 2 em 2.\n",
    "\n",
    "for i in range(5, 12, 2):\n",
    "    print(i)"
   ]
  },
  {
   "cell_type": "markdown",
   "metadata": {
    "slideshow": {
     "slide_type": "slide"
    }
   },
   "source": [
    "**Problema: calcular o factorial de 1000**"
   ]
  },
  {
   "cell_type": "code",
   "execution_count": 20,
   "metadata": {
    "collapsed": false
   },
   "outputs": [
    {
     "name": "stdout",
     "output_type": "stream",
     "text": [
      "o factorial de 100 é 402387260077093773543702433923003985719374864210714632543799910429938512398629020592044208486969404800479988610197196058631666872994808558901323829669944590997424504087073759918823627727188732519779505950995276120874975462497043601418278094646496291056393887437886487337119181045825783647849977012476632889835955735432513185323958463075557409114262417474349347553428646576611667797396668820291207379143853719588249808126867838374559731746136085379534524221586593201928090878297308431392844403281231558611036976801357304216168747609675871348312025478589320767169132448426236131412508780208000261683151027341827977704784635868170164365024153691398281264810213092761244896359928705114964975419909342221566832572080821333186116811553615836546984046708975602900950537616475847728421889679646244945160765353408198901385442487984959953319101723355556602139450399736280750137837615307127761926849034352625200015888535147331611702103968175921510907788019393178114194545257223865541461062892187960223838971476088506276862967146674697562911234082439208160153780889893964518263243671616762179168909779911903754031274622289988005195444414282012187361745992642956581746628302955570299024324153181617210465832036786906117260158783520751516284225540265170483304226143974286933061690897968482590125458327168226458066526769958652682272807075781391858178889652208164348344825993266043367660176999612831860788386150279465955131156552036093988180612138558600301435694527224206344631797460594682573103790084024432438465657245014402821885252470935190620929023136493273497565513958720559654228749774011413346962715422845862377387538230483865688976461927383814900140767310446640259899490222221765904339901886018566526485061799702356193897017860040811889729918311021171229845901641921068884387121855646124960798722908519296819372388642614839657382291123125024186649353143970137428531926649875337218940694281434118520158014123344828015051399694290153483077644569099073152433278288269864602789864321139083506217095002597389863554277196742822248757586765752344220207573630569498825087968928162753848863396909959826280956121450994871701244516461260379029309120889086942028510640182154399457156805941872748998094254742173582401063677404595741785160829230135358081840096996372524230560855903700624271243416909004153690105933983835777939410970027753472000000000000000000000000000000000000000000000000000000000000000000000000000000000000000000000000000000000000000000000000000000000000000000000000000000000000000000000000000000000000000000000000000000000000000000000000000000000000000000000000000000000\n"
     ]
    }
   ],
   "source": [
    "fact = 1\n",
    "for i in range(1, 1001):\n",
    "    fact = fact * i\n",
    "\n",
    "print('o factorial de 100 é', fact)"
   ]
  },
  {
   "cell_type": "markdown",
   "metadata": {
    "slideshow": {
     "slide_type": "slide"
    }
   },
   "source": [
    "Mais uma vez, temos que acumular os produtos sucessivos. `fact` tem esse papel. É análogo a `s` nos exemplos anteriores. Aqui a diferença é que estamos a acumular produtos e, por isso, `fact` tem de ter o valor inicial de 1 antes de começar a iteração. "
   ]
  },
  {
   "cell_type": "markdown",
   "metadata": {},
   "source": [
    "Agora um problema semelhante, mas envolvendo *strings*:\n",
    "\n",
    "**Problema: obter a sequência da cadeia complementar de uma sequência de DNA**"
   ]
  },
  {
   "cell_type": "markdown",
   "metadata": {},
   "source": [
    "Se num programa tivermos uma *string* contendo uma sequência de um ácido nucleico, então podemos percorrer todas as \"bases\" da sequência:"
   ]
  },
  {
   "cell_type": "code",
   "execution_count": 21,
   "metadata": {
    "collapsed": false
   },
   "outputs": [
    {
     "name": "stdout",
     "output_type": "stream",
     "text": [
      "A T G G T C A A A C T T G T T G A C T G C A A A T G C G T A C G T "
     ]
    }
   ],
   "source": [
    "seq = 'ATGGTCAAACTTGTTGACTGCAAATGCGTACGT'\n",
    "\n",
    "for b in seq:\n",
    "    print(b, end=' ')"
   ]
  },
  {
   "cell_type": "markdown",
   "metadata": {},
   "source": [
    "NOTA: o argumento `end` da função `print()` permite que, no final, a mudança de linha seja substituída por outra coisa. Neste exemplo, em vez de mudar de linha, é mostrado um espaço no final de cada `print()`."
   ]
  },
  {
   "cell_type": "markdown",
   "metadata": {},
   "source": [
    "Agora podemos resolver o problema do cálculo da sequência complementar. Parte da estratégia consiste em ir adicionando cada base complementar a uma *string* de acumulação do resultado, que, inicialmente, está vazia:"
   ]
  },
  {
   "cell_type": "code",
   "execution_count": 22,
   "metadata": {
    "collapsed": false
   },
   "outputs": [
    {
     "name": "stdout",
     "output_type": "stream",
     "text": [
      "sequência:    ATGGTCAAACTTGTTGACTGCAAATGCGTACGT\n",
      "complementar: TACCAGTTTGAACAACTGACGTTTACGCATGCA\n"
     ]
    }
   ],
   "source": [
    "seq = 'ATGGTCAAACTTGTTGACTGCAAATGCGTACGT'\n",
    "\n",
    "seqcomp = ''\n",
    "\n",
    "for b in seq:\n",
    "    if b == 'A':\n",
    "        bcomp = 'T'\n",
    "    elif b == 'T':\n",
    "        bcomp = 'A'\n",
    "    elif b == 'G':\n",
    "        bcomp = 'C'\n",
    "    else:\n",
    "        bcomp = 'G'\n",
    "    seqcomp = seqcomp + bcomp\n",
    "        \n",
    "print('sequência:   ', seq)\n",
    "print('complementar:', seqcomp)"
   ]
  },
  {
   "cell_type": "markdown",
   "metadata": {
    "slideshow": {
     "slide_type": "slide"
    }
   },
   "source": [
    "Neste exemplo, as letras das bases complementares foram adicionadas, uma a uma, à *string* `seqcomp`. \n",
    "\n",
    "Antes da iteração com `for`, `seqcomp` é criada como uma \"_string_ vazia\". As duas aspas consecutivas na atribuição `seqcomp = ''` definem, precisamente, uma uma \"_string_ vazia\"."
   ]
  },
  {
   "cell_type": "markdown",
   "metadata": {},
   "source": [
    "O programa pode ser modificado elminando os `if...elif...elif...else`.\n",
    "\n",
    "A ideia é usar um dicionário que associe cada base à sua base complementar:"
   ]
  },
  {
   "cell_type": "code",
   "execution_count": 23,
   "metadata": {
    "collapsed": false
   },
   "outputs": [
    {
     "name": "stdout",
     "output_type": "stream",
     "text": [
      "sequência:    ATGGTCAAACTTGTTGACTGCAAATGCGTACGT\n",
      "complementar: TACCAGTTTGAACAACTGACGTTTACGCATGCA\n"
     ]
    }
   ],
   "source": [
    "seq = 'ATGGTCAAACTTGTTGACTGCAAATGCGTACGT'\n",
    "\n",
    "seqcomp = ''\n",
    "\n",
    "complementares = {'A': 'T', 'T': 'A', 'C': 'G', 'G': 'C'}\n",
    "\n",
    "for b in seq:\n",
    "    seqcomp = seqcomp + complementares[b]\n",
    "        \n",
    "print('sequência:   ', seq)\n",
    "print('complementar:', seqcomp)"
   ]
  },
  {
   "cell_type": "markdown",
   "metadata": {},
   "source": [
    "Sem muito esforço, podemos formatar um pouco a apresentação das duas cadeias, na vertical e pondo em evidência a correspondência entre as bases:"
   ]
  },
  {
   "cell_type": "code",
   "execution_count": 24,
   "metadata": {
    "collapsed": false
   },
   "outputs": [
    {
     "name": "stdout",
     "output_type": "stream",
     "text": [
      "A - T\n",
      "T - A\n",
      "G - C\n",
      "G - C\n",
      "T - A\n",
      "C - G\n",
      "A - T\n",
      "A - T\n",
      "A - T\n",
      "C - G\n",
      "T - A\n",
      "T - A\n",
      "G - C\n",
      "T - A\n",
      "T - A\n",
      "G - C\n",
      "A - T\n",
      "C - G\n",
      "T - A\n",
      "G - C\n",
      "C - G\n",
      "A - T\n",
      "A - T\n",
      "A - T\n",
      "T - A\n",
      "G - C\n",
      "C - G\n",
      "G - C\n",
      "T - A\n",
      "A - T\n",
      "C - G\n",
      "G - C\n",
      "T - A\n"
     ]
    }
   ],
   "source": [
    "seq = 'ATGGTCAAACTTGTTGACTGCAAATGCGTACGT'\n",
    "\n",
    "complementares = {'A': 'T', 'T': 'A', 'C': 'G', 'G': 'C'}\n",
    "\n",
    "for b in seq:\n",
    "    print(b, '-', complementares[b])"
   ]
  },
  {
   "cell_type": "markdown",
   "metadata": {
    "slideshow": {
     "slide_type": "slide"
    }
   },
   "source": [
    "Agora um problema mais elaborado:\n",
    "\n",
    "**converter uma sequência com códigos de uma letra de aminoácidos para códigos de 3 letras, usando um dicionário para a conversão.**"
   ]
  },
  {
   "cell_type": "code",
   "execution_count": 25,
   "metadata": {
    "collapsed": false,
    "slideshow": {
     "slide_type": "slide"
    }
   },
   "outputs": [
    {
     "name": "stdout",
     "output_type": "stream",
     "text": [
      "ADKLITCWFHHWE é o mesmo que  Ala-Asp-Lys-Leu-Ile-Thr-Cys-Trp-Phe-His-His-Trp-Glu-\n"
     ]
    }
   ],
   "source": [
    "trans = {'A': 'Ala', 'C': 'Cys', 'E': 'Glu', 'D': 'Asp', 'G': 'Gly', 'F': 'Phe', 'I': 'Ile', 'H': 'His', 'K': 'Lys', 'M': 'Met', 'L': 'Leu', 'N': 'Asn', 'Q': 'Gln', 'P': 'Pro', 'S': 'Ser', 'R': 'Arg', 'T': 'Thr', 'W': 'Trp', 'V': 'Val', 'Y': 'Tyr'}\n",
    "\n",
    "# Problema: transformar seq1 numa string com os códigos de 3 letras dos aa\n",
    "seq1 = 'ADKLITCWFHHWE'\n",
    "\n",
    "seq3 = ''\n",
    "for aa in seq1:\n",
    "    seq3 = seq3 + trans[aa] + '-'\n",
    "\n",
    "print(seq1, 'é o mesmo que ', seq3)"
   ]
  },
  {
   "cell_type": "markdown",
   "metadata": {},
   "source": [
    "## `in`: teste de inclusão"
   ]
  },
  {
   "cell_type": "markdown",
   "metadata": {},
   "source": [
    "Por sua vez, podemos usar o \"operador\" `in` como teste de inclusão de um elemento numa coleção."
   ]
  },
  {
   "cell_type": "code",
   "execution_count": 26,
   "metadata": {
    "collapsed": false
   },
   "outputs": [
    {
     "name": "stdout",
     "output_type": "stream",
     "text": [
      "4 existe\n"
     ]
    }
   ],
   "source": [
    "nums = [1,2,3,4,5,6,7,8,9,10]\n",
    "if 4 in nums:\n",
    "    print(4, 'existe')\n",
    "else:\n",
    "    print(4, 'não existe')"
   ]
  },
  {
   "cell_type": "code",
   "execution_count": 27,
   "metadata": {
    "collapsed": false
   },
   "outputs": [
    {
     "name": "stdout",
     "output_type": "stream",
     "text": [
      "1 existe\n",
      "4 existe\n",
      "7 existe\n",
      "20 não existe\n",
      "40 não existe\n"
     ]
    }
   ],
   "source": [
    "nums = [1,2,3,4,5,6,7,8,9,10]\n",
    "\n",
    "for n in [1, 4, 7, 20, 40]:\n",
    "    if n in nums:\n",
    "        print(n, 'existe')\n",
    "    else:\n",
    "        print(n, 'não existe')"
   ]
  },
  {
   "cell_type": "code",
   "execution_count": 28,
   "metadata": {
    "collapsed": false
   },
   "outputs": [
    {
     "name": "stdout",
     "output_type": "stream",
     "text": [
      "Não existe U\n",
      "Existe TGT\n"
     ]
    }
   ],
   "source": [
    "seq = 'ATGGTCAAACTTGTTGACTGCAAATGCGTACGT'\n",
    "\n",
    "if 'U' in seq:\n",
    "    print('Existe', 'U')\n",
    "else:\n",
    "    print('Não existe', 'U')\n",
    "\n",
    "if 'TGT' in seq:\n",
    "    print('Existe', 'TGT')\n",
    "else:\n",
    "    print('Não existe', 'TGT')"
   ]
  },
  {
   "cell_type": "code",
   "execution_count": 29,
   "metadata": {
    "collapsed": false
   },
   "outputs": [
    {
     "name": "stdout",
     "output_type": "stream",
     "text": [
      "False\n"
     ]
    }
   ],
   "source": [
    "grupo1 = {'H':1, 'Li':3, 'Na':11, 'K':19}\n",
    "\n",
    "print('Mg' in grupo1)"
   ]
  },
  {
   "cell_type": "markdown",
   "metadata": {},
   "source": [
    "Vamos agora supor que temos o seguinte problema:\n",
    "\n",
    "**Problema: dada a sequência de uma proteína, indicar a presença de lisinas (K)**\n",
    "\n",
    "Percorrer os aminoácidos da sequência é simples, usamos um comando `for`. Para testar se estamos na presença de um K, usamos um `if`:"
   ]
  },
  {
   "cell_type": "code",
   "execution_count": 30,
   "metadata": {
    "collapsed": false
   },
   "outputs": [
    {
     "name": "stdout",
     "output_type": "stream",
     "text": [
      "K\n",
      "K\n",
      "K\n"
     ]
    }
   ],
   "source": [
    "seq = 'ADKHLILTAVGGCWFHVAFWEVEKAGAHKWE'\n",
    "\n",
    "for aa in seq:\n",
    "    if aa == 'K':\n",
    "        print(aa)"
   ]
  },
  {
   "cell_type": "markdown",
   "metadata": {},
   "source": [
    "Vamos agora supor que temos uma pequena extensão deste problema:\n",
    "\n",
    "**Problema: dada a sequência de uma proteína, indicar a presença de lisinas (K) e leucinas (L)**\n",
    "\n",
    "Mais uma vez, percorremos os aminoácidos da sequência com `for`. Para testar se estamos na presença de um K ou um L, usamos um teste de inclusão na *string* `\"KL\"`"
   ]
  },
  {
   "cell_type": "code",
   "execution_count": 31,
   "metadata": {
    "collapsed": false
   },
   "outputs": [
    {
     "name": "stdout",
     "output_type": "stream",
     "text": [
      "K\n",
      "L\n",
      "L\n",
      "K\n",
      "K\n"
     ]
    }
   ],
   "source": [
    "seq = 'ADKHLILTAVGGCWFHVAFWEVEKAGAHKWE'\n",
    "\n",
    "for aa in seq:\n",
    "    if aa in 'KL':\n",
    "        print(aa)"
   ]
  },
  {
   "cell_type": "markdown",
   "metadata": {},
   "source": [
    "Ou, para visualizar bem a posição das lisinas e leucinas:"
   ]
  },
  {
   "cell_type": "code",
   "execution_count": 32,
   "metadata": {
    "collapsed": false
   },
   "outputs": [
    {
     "name": "stdout",
     "output_type": "stream",
     "text": [
      "--K-L-L----------------K----K--"
     ]
    }
   ],
   "source": [
    "seq = 'ADKHLILTAVGGCWFHVAFWEVEKAGAHKWE'\n",
    "\n",
    "for aa in seq:\n",
    "    if aa in 'KL':\n",
    "        print(aa, end='')\n",
    "    else:\n",
    "        print('-', end='')"
   ]
  },
  {
   "cell_type": "markdown",
   "metadata": {},
   "source": [
    "Vamos agora supor que temos um problema muito semelhante:\n",
    "\n",
    "**Problema: dada a sequência de uma proteína, indicar a presença de lisinas (K) e leucinas (L), construíndo uma tabela com posições e códigos K ou L**\n",
    "\n",
    "Podemos usar um \"contador\" das **posições** dos aminoácidos, \"acumulando\" a soma de 1 por letra:"
   ]
  },
  {
   "cell_type": "code",
   "execution_count": 33,
   "metadata": {
    "collapsed": false
   },
   "outputs": [
    {
     "name": "stdout",
     "output_type": "stream",
     "text": [
      "2 : K\n",
      "4 : L\n",
      "6 : L\n",
      "23 : K\n",
      "28 : K\n"
     ]
    }
   ],
   "source": [
    "seq = 'ADKHLILTAVGGCWFHVAFWEVEKAGAHKWE'\n",
    "\n",
    "i = 0\n",
    "for aa in seq:\n",
    "    if aa in 'KL':\n",
    "        print(i, ':', aa)\n",
    "    i = i + 1"
   ]
  },
  {
   "cell_type": "markdown",
   "metadata": {},
   "source": [
    "É tão frequente a necessidade de percorrer os elementos de uma coleção e, simultaneamente, aceder às posições desses elementos, que a linguagem Python tem uma função para combinar os dois \"aos pares\":"
   ]
  },
  {
   "cell_type": "markdown",
   "metadata": {},
   "source": [
    "## Função `enumerate()`: pares (posição, elemento)"
   ]
  },
  {
   "cell_type": "markdown",
   "metadata": {},
   "source": [
    "Vejamos o que resulta da aplicação da função `enumerate()` a uma sequência:"
   ]
  },
  {
   "cell_type": "code",
   "execution_count": 34,
   "metadata": {
    "collapsed": false
   },
   "outputs": [
    {
     "name": "stdout",
     "output_type": "stream",
     "text": [
      "(0, 'A')\n",
      "(1, 'D')\n",
      "(2, 'K')\n",
      "(3, 'H')\n",
      "(4, 'L')\n",
      "(5, 'I')\n",
      "(6, 'L')\n",
      "(7, 'T')\n",
      "(8, 'A')\n",
      "(9, 'V')\n",
      "(10, 'G')\n",
      "(11, 'G')\n",
      "(12, 'C')\n",
      "(13, 'W')\n",
      "(14, 'F')\n",
      "(15, 'H')\n",
      "(16, 'V')\n",
      "(17, 'A')\n",
      "(18, 'F')\n",
      "(19, 'W')\n",
      "(20, 'E')\n",
      "(21, 'V')\n",
      "(22, 'E')\n",
      "(23, 'K')\n",
      "(24, 'A')\n",
      "(25, 'G')\n",
      "(26, 'A')\n",
      "(27, 'H')\n",
      "(28, 'K')\n",
      "(29, 'W')\n",
      "(30, 'E')\n"
     ]
    }
   ],
   "source": [
    "seq = 'ADKHLILTAVGGCWFHVAFWEVEKAGAHKWE'\n",
    "\n",
    "for x in enumerate(seq):\n",
    "    print(x)"
   ]
  },
  {
   "cell_type": "markdown",
   "metadata": {},
   "source": [
    "ou seja, conseguimos percorrer a coleção, mas obtemos pares do tipo *(posição, elemento)*.\n",
    "\n",
    "O mais interessante é que, no ciclo `for` com a função `enumerate()`podemos usar um **par de nomes** para nos referirmos simultaneamente à posição e ao elemento. Isto é chamado *desdobramento*."
   ]
  },
  {
   "cell_type": "code",
   "execution_count": 35,
   "metadata": {
    "collapsed": false
   },
   "outputs": [
    {
     "name": "stdout",
     "output_type": "stream",
     "text": [
      "0 : A\n",
      "1 : D\n",
      "2 : K\n",
      "3 : H\n",
      "4 : L\n",
      "5 : I\n",
      "6 : L\n",
      "7 : T\n",
      "8 : A\n",
      "9 : V\n",
      "10 : G\n",
      "11 : G\n",
      "12 : C\n",
      "13 : W\n",
      "14 : F\n",
      "15 : H\n",
      "16 : V\n",
      "17 : A\n",
      "18 : F\n",
      "19 : W\n",
      "20 : E\n",
      "21 : V\n",
      "22 : E\n",
      "23 : K\n",
      "24 : A\n",
      "25 : G\n",
      "26 : A\n",
      "27 : H\n",
      "28 : K\n",
      "29 : W\n",
      "30 : E\n"
     ]
    }
   ],
   "source": [
    "seq = 'ADKHLILTAVGGCWFHVAFWEVEKAGAHKWE'\n",
    "\n",
    "for (i, a) in enumerate(seq):\n",
    "    print(i, ':', a)"
   ]
  },
  {
   "cell_type": "markdown",
   "metadata": {},
   "source": [
    "Na linguagem Python há várias situações em que podemos fazer desdobramentos de nomes. Um caso que vimos anteriormente é nos comandos de atribuição de nomes a valores, em que podemos escrever, por exemplo, `a, b, c = 1, 4, 1`. Este comando desdobra os nomes para os respetivos valores, resultando daqui que várias atribuições de nomes podem ser escritas na mesma linha."
   ]
  },
  {
   "cell_type": "markdown",
   "metadata": {},
   "source": [
    "Usando a função `enumerate()`, o problema de tabelar as posições das lisinas e argininas pode ser escrito de uma forma mais compacta, sem usar explicitamente um \"contador da posição\":"
   ]
  },
  {
   "cell_type": "code",
   "execution_count": 36,
   "metadata": {
    "collapsed": false
   },
   "outputs": [
    {
     "name": "stdout",
     "output_type": "stream",
     "text": [
      "2 : K\n",
      "4 : L\n",
      "6 : L\n",
      "23 : K\n",
      "28 : K\n"
     ]
    }
   ],
   "source": [
    "seq = 'ADKHLILTAVGGCWFHVAFWEVEKAGAHKWE'\n",
    "\n",
    "for i, aa in enumerate(seq):\n",
    "    if aa in 'KL':\n",
    "        print(i, ':', aa)"
   ]
  },
  {
   "cell_type": "markdown",
   "metadata": {},
   "source": [
    "## Comados `for` encaixados."
   ]
  },
  {
   "cell_type": "markdown",
   "metadata": {},
   "source": [
    "Podemos \"encaixar\" comandos `for` dentro de outros comandos `for`. O efeito é que, para cada iteração de um ciclo `for` mais \"exterior\" percorremos todos os elementos da coleção iterada num comando `for` mais \"interor\". \n",
    "\n",
    "O melhor será ilustrar com um exemplo clássico, com três níveis de comandos `for`:\n",
    "\n",
    "**Problema: gerar os 64 codões do código genético**"
   ]
  },
  {
   "cell_type": "code",
   "execution_count": 37,
   "metadata": {
    "collapsed": false
   },
   "outputs": [
    {
     "name": "stdout",
     "output_type": "stream",
     "text": [
      "AAA\n",
      "AAU\n",
      "AAG\n",
      "AAC\n",
      "AUA\n",
      "AUU\n",
      "AUG\n",
      "AUC\n",
      "AGA\n",
      "AGU\n",
      "AGG\n",
      "AGC\n",
      "ACA\n",
      "ACU\n",
      "ACG\n",
      "ACC\n",
      "UAA\n",
      "UAU\n",
      "UAG\n",
      "UAC\n",
      "UUA\n",
      "UUU\n",
      "UUG\n",
      "UUC\n",
      "UGA\n",
      "UGU\n",
      "UGG\n",
      "UGC\n",
      "UCA\n",
      "UCU\n",
      "UCG\n",
      "UCC\n",
      "GAA\n",
      "GAU\n",
      "GAG\n",
      "GAC\n",
      "GUA\n",
      "GUU\n",
      "GUG\n",
      "GUC\n",
      "GGA\n",
      "GGU\n",
      "GGG\n",
      "GGC\n",
      "GCA\n",
      "GCU\n",
      "GCG\n",
      "GCC\n",
      "CAA\n",
      "CAU\n",
      "CAG\n",
      "CAC\n",
      "CUA\n",
      "CUU\n",
      "CUG\n",
      "CUC\n",
      "CGA\n",
      "CGU\n",
      "CGG\n",
      "CGC\n",
      "CCA\n",
      "CCU\n",
      "CCG\n",
      "CCC\n"
     ]
    }
   ],
   "source": [
    "bases = 'AUGC'\n",
    "\n",
    "for b1 in bases:\n",
    "    for b2 in bases:\n",
    "        for b3 in bases:\n",
    "            c = b1 + b2 + b3\n",
    "            print(c)"
   ]
  },
  {
   "cell_type": "markdown",
   "metadata": {},
   "source": [
    "## Comando `break`"
   ]
  },
  {
   "cell_type": "markdown",
   "metadata": {},
   "source": [
    "O comando `break` permite uma *saída prematura* de uma iteração: podemos não chegar ao fim de todos os elementos da coleção que está a ser iterada se passarmos por um comando `break`.\n",
    "\n",
    "Tem utilidade desde que seja utilizado com um `if` para testar uma condição."
   ]
  },
  {
   "cell_type": "markdown",
   "metadata": {},
   "source": [
    "**Problema: obter um esquema das correspondências entre uma sequência de DNA e a sequência complementar, mas parar assim que for encontrado um par C - G.**"
   ]
  },
  {
   "cell_type": "code",
   "execution_count": 38,
   "metadata": {
    "collapsed": false
   },
   "outputs": [
    {
     "name": "stdout",
     "output_type": "stream",
     "text": [
      "A - T\n",
      "T - A\n",
      "G - C\n",
      "G - C\n",
      "T - A\n",
      "T - A\n",
      "A - T\n",
      "A - T\n",
      "A - T\n",
      "C - G\n"
     ]
    }
   ],
   "source": [
    "seq = 'ATGGTTAAACTTGTTGACTGCAAATGCGTACGT'\n",
    "\n",
    "complementares = {'A': 'T', 'T': 'A', 'C': 'G', 'G': 'C'}\n",
    "\n",
    "for b in seq:\n",
    "    print(b, '-', complementares[b])\n",
    "    if b == 'C':\n",
    "        break"
   ]
  },
  {
   "cell_type": "markdown",
   "metadata": {},
   "source": [
    "## Comando `continue`"
   ]
  },
  {
   "cell_type": "markdown",
   "metadata": {},
   "source": [
    "Muito semelhante ao comando `break` é o comando `continue`.\n",
    "\n",
    "Este não força uma *saída prematura* de uma iteração: o seu efeito é **passar imediatamente para a iteração seguinte**, como se voltassemos à linha imediatamente a seguir ao comando `for`, mas já para o elemento seguinte da coleção.\n",
    "\n",
    "Vejamos com um exemplo:"
   ]
  },
  {
   "cell_type": "markdown",
   "metadata": {},
   "source": [
    "**Problema: obter um esquema das correspondências entre uma sequência de DNA e a sequência complementar. Saltar todos as ligações A - T.**"
   ]
  },
  {
   "cell_type": "code",
   "execution_count": 39,
   "metadata": {
    "collapsed": false
   },
   "outputs": [
    {
     "name": "stdout",
     "output_type": "stream",
     "text": [
      "G - C\n",
      "G - C\n",
      "C - G\n",
      "G - C\n",
      "G - C\n",
      "C - G\n",
      "G - C\n",
      "C - G\n",
      "G - C\n",
      "C - G\n",
      "G - C\n",
      "C - G\n",
      "G - C\n"
     ]
    }
   ],
   "source": [
    "seq = 'ATGGTTAAACTTGTTGACTGCAAATGCGTACGT'\n",
    "\n",
    "complementares = {'A': 'T', 'T': 'A', 'C': 'G', 'G': 'C'}\n",
    "\n",
    "for b in seq:\n",
    "    if b in 'AT':\n",
    "        continue\n",
    "    print(b, '-', complementares[b])"
   ]
  },
  {
   "cell_type": "markdown",
   "metadata": {
    "slideshow": {
     "slide_type": "slide"
    }
   },
   "source": [
    "## Comando `while`"
   ]
  },
  {
   "cell_type": "markdown",
   "metadata": {},
   "source": [
    "O comando `while` é uma outra forma de repetirmos algumas linhas dentro de um programa. Nisto é semelhante a um comando `for`. \n",
    "\n",
    "No entanto, o comando `while` está associado ao facto de uma condição permanecer verdadeira ou não. Enquanto que num comando `for` percorremos os elementos de uma coleção, o comando `while` pode não ter nada a ver com os elementos de uma coleção.\n",
    "\n",
    "O comando `while` é escrito como um bloco de linhas que é executado enquanto uma condição for verdadeira:"
   ]
  },
  {
   "cell_type": "code",
   "execution_count": 40,
   "metadata": {
    "collapsed": false
   },
   "outputs": [
    {
     "name": "stdout",
     "output_type": "stream",
     "text": [
      "10\n",
      "9\n",
      "8\n",
      "7\n",
      "6\n",
      "5\n",
      "4\n",
      "3\n",
      "2\n",
      "1\n",
      "kabum!\n"
     ]
    }
   ],
   "source": [
    "#contagem decrescente\n",
    "count = 10\n",
    "while count > 0:\n",
    "    print(count)\n",
    "    count = count - 1\n",
    "print('kabum!')"
   ]
  },
  {
   "cell_type": "markdown",
   "metadata": {
    "slideshow": {
     "slide_type": "slide"
    }
   },
   "source": [
    "O comando `while` é pouco usado na linguagem Python. É mais frequente repetirmos operações enquanto percorremos os elementos de uma coleção. Por isso, o comando `for` é mais usado do que o comando `while`."
   ]
  }
 ],
 "metadata": {
  "anaconda-cloud": {},
  "kernelspec": {
   "display_name": "Python [default]",
   "language": "python",
   "name": "python3"
  },
  "language_info": {
   "codemirror_mode": {
    "name": "ipython",
    "version": 3
   },
   "file_extension": ".py",
   "mimetype": "text/x-python",
   "name": "python",
   "nbconvert_exporter": "python",
   "pygments_lexer": "ipython3",
   "version": "3.5.2"
  }
 },
 "nbformat": 4,
 "nbformat_minor": 0
}
