{
 "cells": [
  {
   "cell_type": "markdown",
   "metadata": {
    "slideshow": {
     "slide_type": "slide"
    }
   },
   "source": [
    "# Algoritmos numéricos"
   ]
  },
  {
   "cell_type": "markdown",
   "metadata": {
    "slideshow": {
     "slide_type": "slide"
    }
   },
   "source": [
    "## Introdução (algoritmo babilónico)"
   ]
  },
  {
   "cell_type": "markdown",
   "metadata": {
    "slideshow": {
     "slide_type": "slide"
    }
   },
   "source": [
    "\n",
    "> Um **algoritmo** é um procedimento, \n",
    "> indicado passo a passo, \n",
    "> destinado a resolver um problema \n",
    "> num intervalo de tempo finito.\n"
   ]
  },
  {
   "cell_type": "markdown",
   "metadata": {
    "slideshow": {
     "slide_type": "slide"
    }
   },
   "source": [
    "**Algoritmo para calcular raízes quadradas**\n",
    "\n",
    "Para calcular a raíz quadrada de um número a:\n",
    "\n",
    "1. Fazer $x = 1$\n",
    "\n",
    "2. Fazer $x = \\frac{1}{2} \\left( x + a/x \\right)$\n",
    "\n",
    "3. Repetir 20 vezes o passo 2\n",
    "\n",
    "$x$ é a raíz quadrada de $a$."
   ]
  },
  {
   "cell_type": "code",
   "execution_count": 1,
   "metadata": {
    "collapsed": false,
    "slideshow": {
     "slide_type": "slide"
    }
   },
   "outputs": [
    {
     "name": "stdout",
     "output_type": "stream",
     "text": [
      "a = 2.0\n",
      "x = 1.414213562373095\n"
     ]
    }
   ],
   "source": [
    "a = 2.0\n",
    "print('a =', a)\n",
    "\n",
    "x = 1.0\n",
    "for i in range(20):\n",
    "    novo = 0.5 * (x + a/x)\n",
    "    x = novo\n",
    "\n",
    "print('x =', x)"
   ]
  },
  {
   "cell_type": "code",
   "execution_count": 2,
   "metadata": {
    "collapsed": false,
    "slideshow": {
     "slide_type": "slide"
    }
   },
   "outputs": [
    {
     "name": "stdout",
     "output_type": "stream",
     "text": [
      "1.0\n",
      "1.5\n",
      "1.4166666666666665\n",
      "1.4142156862745097\n",
      "1.4142135623746899\n",
      "1.414213562373095\n",
      "1.414213562373095\n",
      "1.414213562373095\n",
      "1.414213562373095\n",
      "1.414213562373095\n",
      "1.414213562373095\n",
      "1.414213562373095\n",
      "1.414213562373095\n",
      "1.414213562373095\n",
      "1.414213562373095\n",
      "1.414213562373095\n",
      "1.414213562373095\n",
      "1.414213562373095\n",
      "1.414213562373095\n",
      "1.414213562373095\n",
      "A raíz quadrada de 2.0 é 1.414213562373095\n"
     ]
    }
   ],
   "source": [
    "a = 2.0\n",
    "\n",
    "x = 1.0\n",
    "for i in range(20):\n",
    "    print(x)\n",
    "    novo = 0.5 * (x + a/x)\n",
    "    x = novo\n",
    "\n",
    "print(\"A raíz quadrada de {} é {}\".format(a,x))"
   ]
  },
  {
   "cell_type": "markdown",
   "metadata": {
    "slideshow": {
     "slide_type": "slide"
    }
   },
   "source": [
    "**Algoritmo para calcular raízes quadradas**\n",
    "\n",
    "Para calcular a raíz quadrada de um número a:\n",
    "\n",
    "1. Fazer $x_0 = 1$\n",
    "\n",
    "2. Fazer $x_{i+1} = \\frac{1}{2} \\left( x_i + a/x_i \\right)$\n",
    "\n",
    "3. Repetir o passo 2 até $|x_{i+1} - x_i| < 10^{-10}$\n",
    "\n",
    "x é a raíz quadrada de a.\n"
   ]
  },
  {
   "cell_type": "code",
   "execution_count": 3,
   "metadata": {
    "collapsed": false,
    "slideshow": {
     "slide_type": "slide"
    }
   },
   "outputs": [
    {
     "name": "stdout",
     "output_type": "stream",
     "text": [
      "1.0\n",
      "1.5\n",
      "1.4166666666666665\n",
      "1.4142156862745097\n",
      "1.4142135623746899\n",
      "A raíz quadrada de 2.0 é 1.414213562373095\n"
     ]
    }
   ],
   "source": [
    "a = 2.0\n",
    "\n",
    "x = 1.0\n",
    "for i in range(100):\n",
    "    print(x)\n",
    "    novo = 0.5 * (x + a/x)\n",
    "    if abs(novo - x) < 1e-10:\n",
    "        x = novo\n",
    "        break\n",
    "    x = novo\n",
    "\n",
    "print(\"A raíz quadrada de {} é {}\".format(a,x))"
   ]
  },
  {
   "cell_type": "code",
   "execution_count": 4,
   "metadata": {
    "collapsed": false,
    "slideshow": {
     "slide_type": "slide"
    }
   },
   "outputs": [
    {
     "name": "stdout",
     "output_type": "stream",
     "text": [
      "1.0\n",
      "1.5\n",
      "1.4166666666666665\n",
      "1.4142156862745097\n",
      "1.4142135623746899\n",
      "A raíz quadrada de 2.0 é 1.414213562373095\n"
     ]
    }
   ],
   "source": [
    "def babilonico(a, show_iters=False):\n",
    "    x = 1.0\n",
    "    for i in range(100):\n",
    "        if show_iters:\n",
    "            print(x)\n",
    "        novo = 0.5 * (x + a/x)\n",
    "        if abs(novo - x) < 1e-10:\n",
    "            return novo\n",
    "        x = novo\n",
    "    return x\n",
    "\n",
    "r = babilonico(2.0, show_iters=True)\n",
    "print(\"A raíz quadrada de {} é {}\".format(2.0,r))"
   ]
  },
  {
   "cell_type": "markdown",
   "metadata": {
    "slideshow": {
     "slide_type": "slide"
    }
   },
   "source": [
    "## Método das bisseções sucessivas"
   ]
  },
  {
   "cell_type": "markdown",
   "metadata": {
    "slideshow": {
     "slide_type": "slide"
    }
   },
   "source": [
    "**Método das bisseções sucessivas** (para calcular a raíz de uma função)\n",
    "\n",
    "![](images_algs/bissect_idea.png)\n",
    "\n",
    "![](images_algs/bissect_1st.png)\n",
    "\n",
    "![](images_algs/bissect.png)"
   ]
  },
  {
   "cell_type": "markdown",
   "metadata": {
    "slideshow": {
     "slide_type": "slide"
    }
   },
   "source": [
    "Para calcular a raíz de uma função $f(x)$, contínua sabendo que existe **uma raíz** no intervalo $]a, b[$:\n",
    "\n",
    "1. Calcular o ponto médio $x_m = (a+b) / 2$ e o valôr da função $f(x_m)$\n",
    "\n",
    "2. Se o sinal de $f(x_m)$ for igual ao sinal de $f(a)$ então fazer $a$ = $x_m$.\n",
    "Se o sinal de $f(x_m)$ for igual ao sinal de $f(b)$ então fazer $b$ = $x_m$\n",
    "\n",
    "3. Repetir o passo 2 até à \"convergência\":\n",
    "\n",
    "4. Quando $|b-a| < \\epsilon$ (um numero pequeno), o processo deve parar ou\n",
    "\n",
    "5. Quando $f(x_m) < \\epsilon_2$ (um numero pequeno), o processo deve parar\n",
    "\n",
    "$x_m$ é a raíz da função $f(x)$, isto é $f(x_m) \\approx 0$."
   ]
  },
  {
   "cell_type": "code",
   "execution_count": 5,
   "metadata": {
    "collapsed": false,
    "slideshow": {
     "slide_type": "slide"
    }
   },
   "outputs": [
    {
     "name": "stdout",
     "output_type": "stream",
     "text": [
      "Raíz encontrada:\n",
      "1.2599201202392578\n"
     ]
    }
   ],
   "source": [
    "def bissect(f, a, b):\n",
    "    epsilon = 1e-6\n",
    "    \n",
    "    fa, fb = f(a), f(b)\n",
    "    while abs(b-a) > epsilon:\n",
    "        xm = (a+b)/2.0\n",
    "        fm = f(xm)\n",
    "        \n",
    "        if fm*fa > 0.0: \n",
    "            a,fa = xm,fm\n",
    "        else:\n",
    "            b,fb = xm,fm\n",
    "    return a\n",
    "\n",
    "def f(x):\n",
    "    return x**3 -2\n",
    "\n",
    "x = bissect(f, 1, 2)\n",
    "\n",
    "print(\"Raíz encontrada:\")\n",
    "print(x)"
   ]
  },
  {
   "cell_type": "code",
   "execution_count": 6,
   "metadata": {
    "collapsed": false,
    "slideshow": {
     "slide_type": "slide"
    }
   },
   "outputs": [
    {
     "name": "stdout",
     "output_type": "stream",
     "text": [
      "x = 1.2599201202392578, f(x) = -0.0000044\n"
     ]
    }
   ],
   "source": [
    "def bissect(f, a, b):\n",
    "    epsilon, epsilonf = 1e-6, 1e-10\n",
    "    fa, fb = f(a), f(b)\n",
    "    while abs(b-a) > epsilon:\n",
    "        xm = (a+b)/2.0\n",
    "        fm = f(xm)\n",
    "        \n",
    "        if abs(fm) < epsilonf:\n",
    "            return xm, fm\n",
    "        \n",
    "        if fm*fa > 0.0: \n",
    "            a,fa = xm,fm\n",
    "        else:\n",
    "            b,fb = xm,fm\n",
    "    return a, f(a)\n",
    "\n",
    "def f(x):\n",
    "    return x**3 -2\n",
    "\n",
    "x, fx = bissect(f, 1, 2)\n",
    "\n",
    "print(\"x = {}, f(x) = {:9.7f}\".format(x,fx))"
   ]
  },
  {
   "cell_type": "markdown",
   "metadata": {
    "slideshow": {
     "slide_type": "slide"
    }
   },
   "source": [
    "Monitorizando as bisseções:"
   ]
  },
  {
   "cell_type": "code",
   "execution_count": 7,
   "metadata": {
    "collapsed": false
   },
   "outputs": [
    {
     "name": "stdout",
     "output_type": "stream",
     "text": [
      "x = 1.2599201202392578, f(x) = -0.0000044\n",
      "\n",
      "Bisseções:\n",
      "a       b       |b-a|       f(xm)\n",
      "1.00000 2.00000 1.00000000  1.3750000\n",
      "1.00000 1.50000 0.50000000 -0.0468750\n",
      "1.25000 1.50000 0.25000000  0.5996094\n",
      "1.25000 1.37500 0.12500000  0.2609863\n",
      "1.25000 1.31250 0.06250000  0.1033020\n",
      "1.25000 1.28125 0.03125000  0.0272865\n",
      "1.25000 1.26562 0.01562500 -0.0100245\n",
      "1.25781 1.26562 0.00781250  0.0085732\n",
      "1.25781 1.26172 0.00390625 -0.0007401\n",
      "1.25977 1.26172 0.00195312  0.0039130\n",
      "1.25977 1.26074 0.00097656  0.0015855\n",
      "1.25977 1.26025 0.00048828  0.0004225\n",
      "1.25977 1.26001 0.00024414 -0.0001588\n",
      "1.25989 1.26001 0.00012207  0.0001318\n",
      "1.25989 1.25995 0.00006104 -0.0000135\n",
      "1.25992 1.25995 0.00003052  0.0000592\n",
      "1.25992 1.25993 0.00001526  0.0000228\n",
      "1.25992 1.25993 0.00000763  0.0000047\n",
      "1.25992 1.25992 0.00000381 -0.0000044\n",
      "1.25992 1.25992 0.00000191  0.0000001\n"
     ]
    }
   ],
   "source": [
    "def bissect(f, a, b):\n",
    "    epsilon, epsilonf = 1e-6, 1e-10\n",
    "    fa, fb = f(a), f(b)\n",
    "    history = [] # Uma lista de listas com a \"história\" das iterações\n",
    "    while abs(b-a) > epsilon:\n",
    "        xm = (a+b)/2.0\n",
    "        fm = f(xm)\n",
    "        \n",
    "        history.append([a,b,fm])\n",
    "        \n",
    "        if abs(fm) < epsilonf:\n",
    "            return xm, fm, history\n",
    "        \n",
    "        if fm*fa > 0.0: \n",
    "            a,fa = xm,fm\n",
    "        else:\n",
    "            b,fb = xm,fm\n",
    "    return a, f(a), history\n",
    "\n",
    "def f(x):\n",
    "    return x**3 -2\n",
    "\n",
    "x, fx, h = bissect(f, 1, 2)\n",
    "\n",
    "print(\"x = {}, f(x) = {:9.7f}\".format(x,fx))\n",
    "\n",
    "print('''\n",
    "Bisseções:\n",
    "a       b       |b-a|       f(xm)''')\n",
    "\n",
    "for a, b, fm in h:\n",
    "    print(\"{0:7.5f} {1:7.5f} {3:10.8f} {2:10.7f}\".format(a,b,fm, abs(b-a)))"
   ]
  },
  {
   "cell_type": "markdown",
   "metadata": {
    "slideshow": {
     "slide_type": "slide"
    }
   },
   "source": [
    "## Método de newton"
   ]
  },
  {
   "cell_type": "markdown",
   "metadata": {
    "slideshow": {
     "slide_type": "slide"
    }
   },
   "source": [
    "**Método de Newton** (para calcular a raíz de uma função)\n",
    "\n",
    "![](images_algs/newton.png)\n",
    "\n",
    "Para calcular a raíz de uma função $f(x)$,  conhecendo também a sua derivada $f'(x)$:\n",
    "\n",
    "1. Partir de uma estimativa inicial $x_0$\n",
    "\n",
    "2. Fazer $x_{i+1} = x_i - f(x_i)/f'(x_i)$\n",
    "\n",
    "3. Repetir o passo 2 até $|f(x_i)| < \\epsilon$ (um numero pequeno)\n",
    "\n",
    "$x_{final}$ é a raíz da função $f(x)$, isto é $f(x_{final}) \\approx 0$.\n"
   ]
  },
  {
   "cell_type": "markdown",
   "metadata": {
    "slideshow": {
     "slide_type": "slide"
    }
   },
   "source": [
    "**NOTA**: O algoritmo babilónico é um caso particular do método de Newton para $f(x) = x^2 -a$"
   ]
  },
  {
   "cell_type": "code",
   "execution_count": 8,
   "metadata": {
    "collapsed": true,
    "slideshow": {
     "slide_type": "slide"
    }
   },
   "outputs": [],
   "source": [
    "def newton(f, df, x):\n",
    "    epsilon = 1e-6\n",
    "    fx, dfx = f(x), df(x)\n",
    "    while abs(fx) > epsilon:\n",
    "        x = x - fx / dfx\n",
    "        fx, dfx = f(x),df(x)\n",
    "    return (x, fx)"
   ]
  },
  {
   "cell_type": "code",
   "execution_count": 9,
   "metadata": {
    "collapsed": false,
    "slideshow": {
     "slide_type": "slide"
    }
   },
   "outputs": [
    {
     "name": "stdout",
     "output_type": "stream",
     "text": [
      "x = 1.2599210498953948, f(x) = 0.0000000\n"
     ]
    }
   ],
   "source": [
    "def f(x):\n",
    "    return x**3 -2\n",
    "\n",
    "def df(x):\n",
    "    return 3 * x**2\n",
    "\n",
    "x, fx = newton(f, df, 1.5)\n",
    "\n",
    "print(\"x = {}, f(x) = {:9.7f}\".format(x,fx))"
   ]
  },
  {
   "cell_type": "markdown",
   "metadata": {
    "slideshow": {
     "slide_type": "slide"
    }
   },
   "source": [
    "Monitorizando as iterações:"
   ]
  },
  {
   "cell_type": "code",
   "execution_count": 10,
   "metadata": {
    "collapsed": false
   },
   "outputs": [
    {
     "name": "stdout",
     "output_type": "stream",
     "text": [
      "x = 1.2599210498953948, f(x) = 0.0000000\n",
      "\n",
      "Iterações:\n",
      "x         f(x)\n",
      "1.5000000 1.3750000\n",
      "1.2962963 0.1782757\n",
      "1.2609322 0.0048193\n",
      "1.2599219 0.0000039\n"
     ]
    }
   ],
   "source": [
    "def newton(f, df, x):\n",
    "    epsilon = 1e-6\n",
    "    \n",
    "    history = []\n",
    "    \n",
    "    fx,dfx = f(x),df(x)\n",
    "    while abs(fx) > epsilon:\n",
    "        history.append([x,fx])\n",
    "        \n",
    "        x = x - fx / dfx\n",
    "        fx, dfx = f(x),df(x)\n",
    "    return (x, fx, history)\n",
    "\n",
    "def f(x):\n",
    "    return x**3 -2\n",
    "\n",
    "def df(x):\n",
    "    return 3 * x**2\n",
    "\n",
    "x, fx, h = newton(f, df, 1.5)\n",
    "\n",
    "print(\"x = {}, f(x) = {:9.7f}\".format(x,fx))\n",
    "\n",
    "print('''\n",
    "Iterações:\n",
    "x         f(x)''')\n",
    "\n",
    "for x, fx in h:\n",
    "    print(\"{0:9.7f} {1:9.7f}\".format(x, fx))"
   ]
  },
  {
   "cell_type": "markdown",
   "metadata": {
    "slideshow": {
     "slide_type": "slide"
    }
   },
   "source": [
    "Compare-se a rapidez da convergência dos 2 métodos, para $\\epsilon = 10^{-6}$\n",
    "\n",
    "Método das bisseções sucessivas:\n",
    "\n",
    "```\n",
    "Bisseções:\n",
    "a       b       |b-a|       f(xm)\n",
    "1.00000 2.00000 1.00000000  1.3750000\n",
    "1.00000 1.50000 0.50000000 -0.0468750\n",
    "1.25000 1.50000 0.25000000  0.5996094\n",
    "1.25000 1.37500 0.12500000  0.2609863\n",
    "1.25000 1.31250 0.06250000  0.1033020\n",
    "1.25000 1.28125 0.03125000  0.0272865\n",
    "1.25000 1.26562 0.01562500 -0.0100245\n",
    "1.25781 1.26562 0.00781250  0.0085732\n",
    "1.25781 1.26172 0.00390625 -0.0007401\n",
    "1.25977 1.26172 0.00195312  0.0039130\n",
    "1.25977 1.26074 0.00097656  0.0015855\n",
    "1.25977 1.26025 0.00048828  0.0004225\n",
    "1.25977 1.26001 0.00024414 -0.0001588\n",
    "1.25989 1.26001 0.00012207  0.0001318\n",
    "1.25989 1.25995 0.00006104 -0.0000135\n",
    "1.25992 1.25995 0.00003052  0.0000592\n",
    "1.25992 1.25993 0.00001526  0.0000228\n",
    "1.25992 1.25993 0.00000763  0.0000047\n",
    "1.25992 1.25992 0.00000381 -0.0000044\n",
    "1.25992 1.25992 0.00000191  0.0000001\n",
    "```\n",
    "\n",
    "Método de Newton:\n",
    "\n",
    "```\n",
    "Iterações:\n",
    "x         f(x)\n",
    "1.5000000 1.3750000\n",
    "1.2962963 0.1782757\n",
    "1.2609322 0.0048193\n",
    "1.2599219 0.0000039\n",
    "```\n"
   ]
  },
  {
   "cell_type": "markdown",
   "metadata": {
    "slideshow": {
     "slide_type": "slide"
    }
   },
   "source": [
    "Método de Newton com a função $sin(x)$"
   ]
  },
  {
   "cell_type": "code",
   "execution_count": 11,
   "metadata": {
    "collapsed": false,
    "slideshow": {
     "slide_type": "slide"
    }
   },
   "outputs": [
    {
     "name": "stdout",
     "output_type": "stream",
     "text": [
      "x0 = 0.10    x =  0.0 pi\n",
      "x0 = 1.10    x =  0.0 pi\n",
      "x0 = 3.10    x =  1.0 pi\n",
      "x0 = 4.10    x =  1.0 pi\n",
      "x0 = 5.10    x = 58.0 pi\n",
      "x0 = 6.10    x =  2.0 pi\n",
      "x0 = 12.10   x =  4.0 pi\n"
     ]
    }
   ],
   "source": [
    "from math import sin, cos, pi\n",
    "\n",
    "def f(x):\n",
    "    return sin(x)\n",
    "\n",
    "def df(x):\n",
    "    return cos(x)\n",
    "\n",
    "def newton(f, df, x):\n",
    "    epsilon = 1e-6\n",
    "    \n",
    "    history = []\n",
    "    \n",
    "    fx,dfx = f(x),df(x)\n",
    "    while abs(fx) > epsilon:\n",
    "        history.append([x,fx])\n",
    "        \n",
    "        x = x - fx / dfx\n",
    "        fx, dfx = f(x),df(x)\n",
    "    return (x, fx, history)\n",
    "\n",
    "\n",
    "for x0 in 0.1, 1.1, 3.1, 4.1, 5.1, 6.1, 12.1:\n",
    "    x, fx, h = newton(f, df, x0)\n",
    "\n",
    "    pi_x = x / pi\n",
    "\n",
    "    print(\"x0 = {:<7.2f} x = {:4.1f} pi\".format(x0, pi_x))"
   ]
  },
  {
   "cell_type": "code",
   "execution_count": 12,
   "metadata": {
    "collapsed": false,
    "slideshow": {
     "slide_type": "slide"
    }
   },
   "outputs": [
    {
     "name": "stdout",
     "output_type": "stream",
     "text": [
      "----------------\n",
      "x0 = 0.1\n",
      "x =  0.10000, f(x)= 0.09983\n",
      "x = -0.00033, f(x)=-0.00033\n",
      "para x0 = 0.1,    x = -0.0 pi\n",
      "----------------\n",
      "x0 = 1.1\n",
      "x =  1.10000, f(x)= 0.89121\n",
      "x = -0.86476, f(x)=-0.76094\n",
      "x =  0.30804, f(x)= 0.30319\n",
      "x = -0.01013, f(x)=-0.01013\n",
      "para x0 = 1.1,    x = -0.0 pi\n",
      "----------------\n",
      "x0 = 3.1\n",
      "x =  3.10000, f(x)= 0.04158\n",
      "x =  3.14162, f(x)=-0.00002\n",
      "para x0 = 3.1,    x =  1.0 pi\n",
      "----------------\n",
      "x0 = 4.1\n",
      "x =  4.10000, f(x)=-0.81828\n",
      "x =  2.67647, f(x)= 0.44853\n",
      "x =  3.17831, f(x)=-0.03671\n",
      "x =  3.14158, f(x)= 0.00002\n",
      "para x0 = 4.1,    x =  1.0 pi\n",
      "----------------\n",
      "x0 = 5.1\n",
      "x =  5.10000, f(x)=-0.92581\n",
      "x =  7.54939, f(x)= 0.95397\n",
      "x =  4.36848, f(x)=-0.94144\n",
      "x =  1.57632, f(x)= 0.99998\n",
      "x = 182.69881, f(x)= 0.46748\n",
      "x = 182.16999, f(x)=-0.04237\n",
      "x = 182.21240, f(x)= 0.00003\n",
      "para x0 = 5.1,    x = 58.0 pi\n",
      "----------------\n",
      "x0 = 6.1\n",
      "x =  6.10000, f(x)=-0.18216\n",
      "x =  6.28526, f(x)= 0.00208\n",
      "para x0 = 6.1,    x =  2.0 pi\n",
      "----------------\n",
      "x0 = 12.1\n",
      "x = 12.10000, f(x)=-0.44965\n",
      "x = 12.60341, f(x)= 0.03703\n",
      "x = 12.56635, f(x)=-0.00002\n",
      "para x0 = 12.1,    x =  4.0 pi\n"
     ]
    }
   ],
   "source": [
    "def f(x):\n",
    "    return sin(x)\n",
    "\n",
    "def df(x):\n",
    "    return cos(x)\n",
    "\n",
    "def newton(f, df, x):\n",
    "    epsilon = 1e-6\n",
    "    \n",
    "    history = []\n",
    "    \n",
    "    fx,dfx = f(x),df(x)\n",
    "    while abs(fx) > epsilon:\n",
    "        history.append([x,fx])\n",
    "        \n",
    "        x = x - fx / dfx\n",
    "        fx, dfx = f(x),df(x)\n",
    "    return (x, fx, history)\n",
    "\n",
    "\n",
    "for x0 in 0.1, 1.1, 3.1, 4.1, 5.1, 6.1, 12.1:\n",
    "    print('----------------\\nx0 = {}'.format(x0))\n",
    "    x, fx, h = newton(f, df, x0)\n",
    "    for x,fx in h:\n",
    "        print('x = {:8.5f}, f(x)={:8.5f}'.format(x,fx))\n",
    "\n",
    "    pi_x = x / pi\n",
    "\n",
    "    print(\"para x0 = {},    x = {:4.1f} pi\".format(x0, pi_x))"
   ]
  },
  {
   "cell_type": "code",
   "execution_count": 13,
   "metadata": {
    "collapsed": true,
    "slideshow": {
     "slide_type": "slide"
    }
   },
   "outputs": [],
   "source": [
    "%matplotlib inline"
   ]
  },
  {
   "cell_type": "code",
   "execution_count": 14,
   "metadata": {
    "collapsed": true
   },
   "outputs": [],
   "source": [
    "from matplotlib import pyplot as pl\n",
    "import matplotlib as mpl\n",
    "from numpy import linspace, sin, cos"
   ]
  },
  {
   "cell_type": "code",
   "execution_count": 15,
   "metadata": {
    "collapsed": false,
    "slideshow": {
     "slide_type": "slide"
    }
   },
   "outputs": [
    {
     "data": {
      "image/png": "[encoded data removed]",
      "text/plain": [
       "<matplotlib.figure.Figure at 0x22382f99d30>"
      ]
     },
     "metadata": {},
     "output_type": "display_data"
    }
   ],
   "source": [
    "x = linspace(-6, 10, 1000)\n",
    "y = sin(x)\n",
    "pl.axhline(color='black', linewidth=3)\n",
    "pl.plot(x,y, color='teal', linewidth=3)\n",
    "\n",
    "for z in range(-1, 4):\n",
    "    pl.axvline(x = z * pi, color='black', linestyle=':', ymin=0.25, ymax=0.75)"
   ]
  },
  {
   "cell_type": "code",
   "execution_count": 16,
   "metadata": {
    "collapsed": false,
    "slideshow": {
     "slide_type": "slide"
    }
   },
   "outputs": [
    {
     "name": "stdout",
     "output_type": "stream",
     "text": [
      "Para x0 = 0.5, raíz = -0.000\n",
      "Para x0 = 1.1, raíz =  0.000\n",
      "Para x0 = 2.2, raíz =  3.142\n"
     ]
    },
    {
     "data": {
      "image/png": "[encoded data removed]",
      "text/plain": [
       "<matplotlib.figure.Figure at 0x223831d9390>"
      ]
     },
     "metadata": {},
     "output_type": "display_data"
    }
   ],
   "source": [
    "mpl.rcParams['figure.figsize'] = (10,6)\n",
    "\n",
    "def f(x):\n",
    "    return sin(x)\n",
    "\n",
    "def df(x):\n",
    "    return cos(x)\n",
    "\n",
    "def newton_points(h):\n",
    "    # h = [(x0, fx0), (x1, fx1), ...]\n",
    "    xvalues = []\n",
    "    yvalues = []\n",
    "    for x, y in h:\n",
    "        xvalues.extend([x,x])\n",
    "        yvalues.extend([0,y])\n",
    "    return xvalues,yvalues\n",
    "\n",
    "x = linspace(-1, 4, 1000)\n",
    "y = sin(x)\n",
    "pl.axhline(color='darkred')\n",
    "pl.plot(x,y, color='black', linewidth=2)\n",
    "\n",
    "\n",
    "for x0, color in [(0.5,'green'), (1.1, 'darkred'), (2.2, 'teal')]:\n",
    "\n",
    "    x, fx, h = newton(f, df, x0)\n",
    "    print('Para x0 = {}, raíz = {:6.3f}'.format(x0, x))\n",
    "    xpoints, ypoints = newton_points(h)\n",
    "    pl.plot(xpoints, ypoints, color=color, linewidth=2)"
   ]
  },
  {
   "cell_type": "code",
   "execution_count": 17,
   "metadata": {
    "collapsed": false,
    "slideshow": {
     "slide_type": "slide"
    }
   },
   "outputs": [
    {
     "name": "stdout",
     "output_type": "stream",
     "text": [
      "Para x0 = 5.1, raíz = 182.212\n"
     ]
    },
    {
     "data": {
      "image/png": "[encoded data removed]",
      "text/plain": [
       "<matplotlib.figure.Figure at 0x223831905f8>"
      ]
     },
     "metadata": {},
     "output_type": "display_data"
    }
   ],
   "source": [
    "def f(x):\n",
    "    return sin(x)\n",
    "\n",
    "def df(x):\n",
    "    return cos(x)\n",
    "\n",
    "x = linspace(-1, 10, 1000)\n",
    "y = sin(x)\n",
    "pl.axhline(color='darkred')\n",
    "pl.plot(x,y, color='black', linewidth=2)\n",
    "\n",
    "\n",
    "for x0, color in [(5.1,'green')]:\n",
    "\n",
    "    x, fx, h = newton(f, df, x0)\n",
    "    print('Para x0 = {}, raíz = {:6.3f}'.format(x0, x))\n",
    "    xpoints, ypoints = newton_points(h)\n",
    "    pl.plot(xpoints, ypoints, color=color, linewidth=2)\n",
    "    pl.xlim(-1,10)"
   ]
  },
  {
   "cell_type": "code",
   "execution_count": 18,
   "metadata": {
    "collapsed": false,
    "slideshow": {
     "slide_type": "slide"
    }
   },
   "outputs": [
    {
     "name": "stdout",
     "output_type": "stream",
     "text": [
      "Para x0 = 5.1, raíz = 182.212\n"
     ]
    },
    {
     "data": {
      "image/png": "[encoded data removed]",
      "text/plain": [
       "<matplotlib.figure.Figure at 0x22383287710>"
      ]
     },
     "metadata": {},
     "output_type": "display_data"
    }
   ],
   "source": [
    "def f(x):\n",
    "    return sin(x)\n",
    "\n",
    "def df(x):\n",
    "    return cos(x)\n",
    "\n",
    "x = linspace(180, 185, 1000)\n",
    "y = sin(x)\n",
    "pl.axhline(color='darkred')\n",
    "pl.plot(x,y, color='black', linewidth=2)\n",
    "\n",
    "\n",
    "for x0, color in [(5.1,'green')]:\n",
    "\n",
    "    x, fx, h = newton(f, df, x0)\n",
    "    print('Para x0 = {}, raíz = {:6.3f}'.format(x0, x))\n",
    "    xpoints, ypoints = newton_points(h)\n",
    "    pl.plot(xpoints, ypoints, color=color, linewidth=2)\n",
    "    pl.xlim(180,185)"
   ]
  },
  {
   "cell_type": "code",
   "execution_count": 19,
   "metadata": {
    "collapsed": true
   },
   "outputs": [],
   "source": [
    "def plot_newton(x0):\n",
    "    def f(x):\n",
    "        return sin(x)\n",
    "\n",
    "    def df(x):\n",
    "        return cos(x)\n",
    "    x = linspace(-1, 10, 1000)\n",
    "    y = sin(x)\n",
    "    pl.axhline(color='darkred')\n",
    "    pl.plot(x,y, color='black', linewidth=2)\n",
    "    \n",
    "    color = 'green'\n",
    "\n",
    "    x, fx, h = newton(f, df, x0)\n",
    "    x_pi = x / pi\n",
    "    xpoints, ypoints = newton_points(h)\n",
    "    pl.plot(xpoints, ypoints, color=color, linewidth=2)\n",
    "    pl.xlim(-1,10)\n",
    "    pl.grid()\n",
    "    #pl.show()\n",
    "    #print('Para x0 = {}, raíz = {:4.2f} pi'.format(x0, x_pi))"
   ]
  },
  {
   "cell_type": "code",
   "execution_count": 20,
   "metadata": {
    "collapsed": false,
    "slideshow": {
     "slide_type": "skip"
    }
   },
   "outputs": [
    {
     "data": {
      "image/png": "[encoded data removed]",
      "text/plain": [
       "<matplotlib.figure.Figure at 0x223831a8940>"
      ]
     },
     "metadata": {},
     "output_type": "display_data"
    }
   ],
   "source": [
    "import ipywidgets as widgets\n",
    "i = widgets.interact(plot_newton, x0=widgets.FloatSlider(min=1.5, max=3.0, step=0.01, value=2.5))"
   ]
  }
 ],
 "metadata": {
  "anaconda-cloud": {},
  "kernelspec": {
   "display_name": "Python [default]",
   "language": "python",
   "name": "python3"
  },
  "language_info": {
   "codemirror_mode": {
    "name": "ipython",
    "version": 3
   },
   "file_extension": ".py",
   "mimetype": "text/x-python",
   "name": "python",
   "nbconvert_exporter": "python",
   "pygments_lexer": "ipython3",
   "version": "3.5.2"
  },
  "widgets": {
   "state": {
    "ee1164b31b8c44a59cbd6346c229b366": {
     "views": [
      {
       "cell_index": 34
      }
     ]
    }
   },
   "version": "1.2.0"
  }
 },
 "nbformat": 4,
 "nbformat_minor": 0
}
