{
 "cells": [
  {
   "cell_type": "markdown",
   "metadata": {
    "slideshow": {
     "slide_type": "slide"
    }
   },
   "source": [
    "# Ficheiros de texto"
   ]
  },
  {
   "cell_type": "markdown",
   "metadata": {
    "slideshow": {
     "slide_type": "slide"
    }
   },
   "source": [
    "## Leitura"
   ]
  },
  {
   "cell_type": "markdown",
   "metadata": {},
   "source": [
    "O modelo mais simples é ler todo o conteúdo de um ficheiro para uma _string_:\n",
    "\n",
    "![](./images/fichs.png)"
   ]
  },
  {
   "cell_type": "markdown",
   "metadata": {
    "slideshow": {
     "slide_type": "slide"
    }
   },
   "source": [
    "### `.read()`"
   ]
  },
  {
   "cell_type": "code",
   "execution_count": null,
   "metadata": {
    "collapsed": false,
    "slideshow": {
     "slide_type": "slide"
    }
   },
   "outputs": [],
   "source": [
    "a = open('eno1.fasta')\n",
    "seq = a.read()\n",
    "a.close()\n",
    "\n",
    "print('A sequência, em FASTA é')\n",
    "print(seq)\n",
    "\n",
    "print(type(seq))"
   ]
  },
  {
   "cell_type": "markdown",
   "metadata": {
    "slideshow": {
     "slide_type": "slide"
    }
   },
   "source": [
    "Uma versão mais moderna para abrir e **automaticamente fechar** o ficheiro é utilizar o comando `with`:"
   ]
  },
  {
   "cell_type": "code",
   "execution_count": null,
   "metadata": {
    "collapsed": false
   },
   "outputs": [],
   "source": [
    "with open('eno1.fasta') as a:\n",
    "    seq = a.read()\n",
    "\n",
    "print('A sequência, em FASTA é')\n",
    "print(seq)"
   ]
  },
  {
   "cell_type": "markdown",
   "metadata": {
    "slideshow": {
     "slide_type": "slide"
    }
   },
   "source": [
    "Mas `read()` não é a única maneira de ler um ficheiro."
   ]
  },
  {
   "cell_type": "markdown",
   "metadata": {
    "slideshow": {
     "slide_type": "slide"
    }
   },
   "source": [
    "### `.readlines()`"
   ]
  },
  {
   "cell_type": "markdown",
   "metadata": {},
   "source": [
    "A função `readlines()` lê e separa **as linhas** de um ficheiro para uma lista:"
   ]
  },
  {
   "cell_type": "code",
   "execution_count": null,
   "metadata": {
    "collapsed": false
   },
   "outputs": [],
   "source": [
    "with open('eno1.fasta') as a:\n",
    "    seq = a.readlines()\n",
    "\n",
    "print(seq)"
   ]
  },
  {
   "cell_type": "markdown",
   "metadata": {
    "slideshow": {
     "slide_type": "slide"
    }
   },
   "source": [
    "O que são os `\\n` no fim das _strings_?"
   ]
  },
  {
   "cell_type": "markdown",
   "metadata": {},
   "source": [
    "**Numa string,** `\\n` **indica a mudança de linha**. (Conta como apenas **1** caractere).\n",
    "\n",
    "Neste caso eles aparecem porque no ficheiro original há mudanças de linha. "
   ]
  },
  {
   "cell_type": "markdown",
   "metadata": {
    "slideshow": {
     "slide_type": "slide"
    }
   },
   "source": [
    "Podemos elimina-los com a função `.strip()`:"
   ]
  },
  {
   "cell_type": "code",
   "execution_count": null,
   "metadata": {
    "collapsed": false
   },
   "outputs": [],
   "source": [
    "with open('eno1.fasta') as a:\n",
    "    seq = a.readlines()\n",
    "\n",
    "seq = [linha.strip() for linha in seq]\n",
    "print(seq)"
   ]
  },
  {
   "cell_type": "markdown",
   "metadata": {
    "slideshow": {
     "slide_type": "slide"
    }
   },
   "source": [
    "Ou, de uma forma sucinta, usando uma lista em compreensão:"
   ]
  },
  {
   "cell_type": "code",
   "execution_count": null,
   "metadata": {
    "collapsed": false
   },
   "outputs": [],
   "source": [
    "with open('eno1.fasta') as a:\n",
    "    seq = [linha.strip() for linha in a.readlines()]\n",
    "print(seq)"
   ]
  },
  {
   "cell_type": "markdown",
   "metadata": {
    "slideshow": {
     "slide_type": "slide"
    }
   },
   "source": [
    "Com ficheiros muito grandes, a leitura pelas funções `.read()` e `.readlines()` pode esgotar a memória de um computador e \"congelar\" um programa."
   ]
  },
  {
   "cell_type": "markdown",
   "metadata": {},
   "source": [
    "Existe uma terceira maneira de ler um ficheiro (que não traz problemas com ficheiros grandes):"
   ]
  },
  {
   "cell_type": "markdown",
   "metadata": {},
   "source": [
    "### Iteração de ficheiros com `for`."
   ]
  },
  {
   "cell_type": "markdown",
   "metadata": {
    "slideshow": {
     "slide_type": "slide"
    }
   },
   "source": [
    "**A iteração de um ficheiro \"percorre\" as linhas do ficheiro**"
   ]
  },
  {
   "cell_type": "code",
   "execution_count": null,
   "metadata": {
    "collapsed": false
   },
   "outputs": [],
   "source": [
    "with open('eno1.fasta') as a:\n",
    "    for linha in a:\n",
    "        linha = linha.strip()\n",
    "        print(linha)"
   ]
  },
  {
   "cell_type": "code",
   "execution_count": null,
   "metadata": {
    "collapsed": false,
    "slideshow": {
     "slide_type": "slide"
    }
   },
   "outputs": [],
   "source": [
    "with open('eno1.fasta') as a:\n",
    "    for i, linha in enumerate(a):\n",
    "        linha = linha.strip()\n",
    "        print('linha', i, ':', linha)"
   ]
  },
  {
   "cell_type": "code",
   "execution_count": null,
   "metadata": {
    "collapsed": false,
    "slideshow": {
     "slide_type": "slide"
    }
   },
   "outputs": [],
   "source": [
    "linhas = []\n",
    "with open('eno1.fasta') as a:\n",
    "    for i, linha in enumerate(a):\n",
    "        linha = linha.strip()\n",
    "        \n",
    "        print('\\nlinha', i, 'tem', len(linha), 'caracteres')\n",
    "        if linha.startswith('>'):\n",
    "            print('e é o cabeçalho do ficheiro FASTA')\n",
    "        print(linha)\n",
    "        linhas.append(linha)"
   ]
  },
  {
   "cell_type": "markdown",
   "metadata": {
    "slideshow": {
     "slide_type": "slide"
    }
   },
   "source": [
    "Reparar que, para ler todas as linhas para uma lista poderíamos não ter usado a função `.readlines()`:"
   ]
  },
  {
   "cell_type": "code",
   "execution_count": null,
   "metadata": {
    "collapsed": false
   },
   "outputs": [],
   "source": [
    "with open('eno1.fasta') as a:\n",
    "    seq = [linha.strip() for linha in a]\n",
    "    # aqui tínhamos ... for linha in a.readlines()\n",
    "print(seq)"
   ]
  },
  {
   "cell_type": "markdown",
   "metadata": {
    "slideshow": {
     "slide_type": "slide"
    }
   },
   "source": [
    "**Problema: ler uma ficheiro FASTA e separar o cabeçalho da sequência em duas strings (juntando toda a sequência numa só string)**"
   ]
  },
  {
   "cell_type": "code",
   "execution_count": null,
   "metadata": {
    "collapsed": false
   },
   "outputs": [],
   "source": [
    "with open('eno1.fasta') as a:\n",
    "    linhas = [i.strip() for i in a]\n",
    "\n",
    "cab = linhas[0]\n",
    "seq = ''.join(linhas[1:]) # estamos a usar um slice de uma lista e a funçao .join() com separador vazio.\n",
    "\n",
    "print(\"cabeçalho:\", cab)\n",
    "print(\"sequência:\")\n",
    "print(seq)"
   ]
  },
  {
   "cell_type": "markdown",
   "metadata": {
    "slideshow": {
     "slide_type": "slide"
    }
   },
   "source": [
    "Às vezes os ficheiros não têm cabeçalho! É melhor testar se a primeira linha começa por \">\" !"
   ]
  },
  {
   "cell_type": "code",
   "execution_count": null,
   "metadata": {
    "collapsed": false
   },
   "outputs": [],
   "source": [
    "with open('eno1.fasta') as a:\n",
    "    linhas = [i.strip() for i in a]\n",
    "\n",
    "if linhas[0].startswith('>'):\n",
    "    cab = linhas[0]\n",
    "    seq = ''.join(linhas[1:])\n",
    "else:\n",
    "    cab = \"\"\n",
    "    seq = ''.join(linhas)\n",
    "\n",
    "print(\"cabeçalho:\", cab)\n",
    "print(\"sequência:\")\n",
    "print(seq)"
   ]
  },
  {
   "cell_type": "markdown",
   "metadata": {
    "slideshow": {
     "slide_type": "slide"
    }
   },
   "source": [
    "Agora a versão com `for`:"
   ]
  },
  {
   "cell_type": "code",
   "execution_count": null,
   "metadata": {
    "collapsed": false
   },
   "outputs": [],
   "source": [
    "cab = \"\"\n",
    "seq = []\n",
    "with open('eno1.fasta') as a:\n",
    "    for i in a:\n",
    "        i = i.strip()\n",
    "        if i.startswith('>'): \n",
    "            cab = i\n",
    "        else:\n",
    "            seq.append(i)\n",
    "seq = ''.join(seq)\n",
    "\n",
    "print(\"cabeçalho:\", cab)\n",
    "print(\"sequência:\")\n",
    "print(seq)"
   ]
  },
  {
   "cell_type": "markdown",
   "metadata": {
    "slideshow": {
     "slide_type": "slide"
    }
   },
   "source": [
    "## Escrita"
   ]
  },
  {
   "cell_type": "markdown",
   "metadata": {
    "slideshow": {
     "slide_type": "slide"
    }
   },
   "source": [
    "### Função `print()` para ficheiros"
   ]
  },
  {
   "cell_type": "markdown",
   "metadata": {},
   "source": [
    "Basta modificar a função `print()`, indicando que deve escrever para um ficheiro em modo de escrita:"
   ]
  },
  {
   "cell_type": "code",
   "execution_count": null,
   "metadata": {
    "collapsed": true
   },
   "outputs": [],
   "source": [
    "with open('exp.txt', 'w') as a: # o 'w' indica o modo de escrita\n",
    "    print('1, 2, 3, experiência, som, som', file=a)"
   ]
  },
  {
   "cell_type": "markdown",
   "metadata": {
    "slideshow": {
     "slide_type": "slide"
    }
   },
   "source": [
    "Aparentemente não aconteceu nada, mas um ficheiro novo foi criado"
   ]
  },
  {
   "cell_type": "markdown",
   "metadata": {},
   "source": [
    "Vamos ler o ficheiro:"
   ]
  },
  {
   "cell_type": "code",
   "execution_count": null,
   "metadata": {
    "collapsed": false
   },
   "outputs": [],
   "source": [
    "with open('exp.txt') as a:\n",
    "    for i in a:\n",
    "        print(i)"
   ]
  },
  {
   "cell_type": "markdown",
   "metadata": {
    "slideshow": {
     "slide_type": "slide"
    }
   },
   "source": [
    "### Função `.write()`"
   ]
  },
  {
   "cell_type": "markdown",
   "metadata": {},
   "source": [
    "Também existe a função `.write()` que funciona como o contrário de `.read()`:"
   ]
  },
  {
   "cell_type": "code",
   "execution_count": null,
   "metadata": {
    "collapsed": true
   },
   "outputs": [],
   "source": [
    "tudo = \"\"\"\n",
    "Um texto que ocupa\n",
    "1 linha\n",
    "2 linhas\n",
    "3 linhas\n",
    "\"\"\"\n",
    "\n",
    "with open('exp2.txt', 'w') as a: # o 'w' indica o modo de escrita\n",
    "    a.write(tudo)"
   ]
  },
  {
   "cell_type": "markdown",
   "metadata": {
    "slideshow": {
     "slide_type": "slide"
    }
   },
   "source": [
    "**Problema: ler uma ficheiro com dados numéricos e converter o ponto decimal em vírgula decimal**\n",
    "\n",
    "Vamos supor que temos o ficheiro de texto `masses_annotated.txt` (menos de 1 MB) em que as cinco primeiras linhas são:\n",
    "\n",
    "```\n",
    "raw_mass\tpeak_height\tKEGG_mass(original)\tnpossible\tKEGG_mass (Addukt)\tppm\tKEGG_cid\tKEGG_formula\tKEGG_name\tuniqueID\n",
    "154.97517\t7.25775e+06\t155.982446466881\t1(4)\t154.975098039829\t0.464333550973771\tC00988\tC2H5O6P\t2-Phosphoglycolate;Phosphoglycolic acid ([M-H]-)\t\n",
    "154.97517\t7.25775e+06\t155.982446466881\t2(4)\t154.975098039829\t0.464333550973771\tHMDB00816\tC2H5O6P\tPhosphoglycolic acid (see KEGG C00988); 2-phosphonooxyacetic acid [carboxylic acid] ([M-H]-)\t\n",
    "154.97517\t7.25775e+06\t120.005768420091\t3(4)\t154.975274805989\t-0.676276005999922\tC02287\tC3H4O5\tHydroxymalonate;Tartronic acid;Hydroxymalonic acid;2-Hydroxymalonate;2-Hydroxymalonic acid;2-Tartronic acid ([M+Cl35]-)\t\n",
    "157.08700\t1.21735e+06\t158.094276466881\t1(13)\t157.087017840779\t-0.113572599952848\tC02975\tC8H14O3\tEthyl 3-oxohexanoate;Ethyl butyrylacetate ([M-H]-)\t\n",
    "```\n",
    "\n",
    "Os diferentes campos são separados por **tabs** (_tab delimited file_) e em certas configurações do MS-Excel podemos ter problemas a importar os dados.\n",
    "\n",
    "De uma form sucinta, podemos passar os `.` a `,` ?"
   ]
  },
  {
   "cell_type": "code",
   "execution_count": null,
   "metadata": {
    "collapsed": false,
    "slideshow": {
     "slide_type": "slide"
    }
   },
   "outputs": [],
   "source": [
    "with open('masses_annotated.txt') as a:\n",
    "    tudo = a.read()\n",
    "\n",
    "tudo = tudo.replace('.', ',')\n",
    "\n",
    "with open('masses_annotated_fixed.txt', 'w') as a:\n",
    "    a.write(tudo)"
   ]
  },
  {
   "cell_type": "markdown",
   "metadata": {
    "slideshow": {
     "slide_type": "slide"
    }
   },
   "source": [
    "Como prova, as cinco primeiras linhas do ficheiro `masses_annotated_fixed.txt`:\n",
    "\n",
    "```\n",
    "raw_mass\tpeak_height\tKEGG_mass(original)\tnpossible\tKEGG_mass (Addukt)\tppm\tKEGG_cid\tKEGG_formula\tKEGG_name\tuniqueID\n",
    "154,97517\t7,25775e+06\t155,982446466881\t1(4)\t154,975098039829\t0,464333550973771\tC00988\tC2H5O6P\t2-Phosphoglycolate;Phosphoglycolic acid ([M-H]-)\t\n",
    "154,97517\t7,25775e+06\t155,982446466881\t2(4)\t154,975098039829\t0,464333550973771\tHMDB00816\tC2H5O6P\tPhosphoglycolic acid (see KEGG C00988); 2-phosphonooxyacetic acid [carboxylic acid] ([M-H]-)\t\n",
    "154,97517\t7,25775e+06\t120,005768420091\t3(4)\t154,975274805989\t-0,676276005999922\tC02287\tC3H4O5\tHydroxymalonate;Tartronic acid;Hydroxymalonic acid;2-Hydroxymalonate;2-Hydroxymalonic acid;2-Tartronic acid ([M+Cl35]-)\t\n",
    "157,08700\t1,21735e+06\t158,094276466881\t1(13)\t157,087017840779\t-0,113572599952848\tC02975\tC8H14O3\tEthyl 3-oxohexanoate;Ethyl butyrylacetate ([M-H]-)\t\n",
    "```"
   ]
  },
  {
   "cell_type": "markdown",
   "metadata": {
    "slideshow": {
     "slide_type": "slide"
    }
   },
   "source": [
    "## Exemplo: Extração de informação de ficheiros de resultados de metabolómica."
   ]
  },
  {
   "cell_type": "markdown",
   "metadata": {
    "slideshow": {
     "slide_type": "slide"
    }
   },
   "source": [
    "[MassTRIX](http://www.masstrix.org), (_Mass TRanslator into Pathways_) [1] é um serviço online de tratamento de dados de metabolómica.\n",
    "\n",
    "A funcionalidade primária é a identificação de compostos a partir de listas de massas e intensidades obtidas por análise de amostras biológics por Espectrometria de Massa.\n",
    "\n",
    "O resultado da identificação é disponibilizado em vários ficheiros de texto. Num dos formatos, cada linha do ficheiro diz respeito a um pico de massa e apresenta, de entre outros, os compostos identificados com aquela massa, bem como as anotações das vias celulares em que esses compostos podem estar envolvidos.\n",
    "\n",
    "Pretende-se ilustrar o uso programático da leitura de ficheiros e as operações com _strings_ com um exemplo da **extração da informação contida num desses ficheiros**.\n",
    "\n",
    "[1] K. Suhre and P. Schmitt-Kopplin (2008) MassTRIX: Mass TRanslator Into Pathways, _Nucleic Acids Research_, **36**, Web Server issue, W481-W484."
   ]
  },
  {
   "cell_type": "markdown",
   "metadata": {
    "slideshow": {
     "slide_type": "slide"
    }
   },
   "source": [
    "### Exploração do formato"
   ]
  },
  {
   "cell_type": "markdown",
   "metadata": {
    "slideshow": {
     "slide_type": "slide"
    }
   },
   "source": [
    "Vamos ler o ficheiro `masses.annotated.reformat.tsv`, separar todas as linhas para uma lista e mostrar a primeira e a última:"
   ]
  },
  {
   "cell_type": "code",
   "execution_count": null,
   "metadata": {
    "collapsed": false,
    "slideshow": {
     "slide_type": "-"
    }
   },
   "outputs": [],
   "source": [
    "name = 'masses.annotated.reformat.tsv'\n",
    "with open(name) as a:\n",
    "    all_lines = [line.strip() for line in a]\n",
    "\n",
    "print('FIRST line')\n",
    "print(all_lines[0])\n",
    "print('---------------------------------')\n",
    "print('LAST line')\n",
    "print(all_lines[-1])"
   ]
  },
  {
   "cell_type": "markdown",
   "metadata": {
    "slideshow": {
     "slide_type": "slide"
    }
   },
   "source": [
    "Nas linhas deste ficheiro, os vários campos com informação estão separados por **tabs** (o caractere `\\t`).\n",
    "\n",
    "A última linha tem como informação os nomes de cada um destes campos (`raw_mass peak_height` etc)"
   ]
  },
  {
   "cell_type": "markdown",
   "metadata": {
    "slideshow": {
     "slide_type": "slide"
    }
   },
   "source": [
    "Vamos dividir a linha 0 em várias partes, pelo separador `\\t`. As partes obtidas são os vários campos de informação reltiva a um pico de MS.\n",
    "\n",
    "Já agora, vamos obter os nomes de cada campo, fazendo o mesmo à última linha:"
   ]
  },
  {
   "cell_type": "code",
   "execution_count": null,
   "metadata": {
    "collapsed": false,
    "slideshow": {
     "slide_type": "slide"
    }
   },
   "outputs": [],
   "source": [
    "headers = all_lines[-1].split('\\t')\n",
    "line_parts = all_lines[0].split('\\t')\n",
    "\n",
    "for i, h, p in zip(range(len(headers)), headers, line_parts):\n",
    "    print(i, '|', h, ':', p)"
   ]
  },
  {
   "cell_type": "markdown",
   "metadata": {
    "slideshow": {
     "slide_type": "slide"
    }
   },
   "source": [
    "Vamos extraír da linha 0\n",
    "\n",
    "- a massa do pico \"_raw mass_\", (campo 0)\n",
    "- a intensidade do pico, (campo 1)\n",
    "- os IDs dos compostos, (campo 6)\n",
    "- os nomes dos compostos (campo 8)\n",
    "- os IDs das vias (campo 21)\n",
    "- as descrições das vias (campo 22)\n",
    "\n",
    "Havendo vários compostos possíveis em cada pico, é usado como separador o caractere `#`. \n",
    "\n",
    "Podemos já separar a informação por composto."
   ]
  },
  {
   "cell_type": "code",
   "execution_count": null,
   "metadata": {
    "collapsed": false,
    "slideshow": {
     "slide_type": "slide"
    }
   },
   "outputs": [],
   "source": [
    "mass = line_parts[0]\n",
    "intensity = line_parts[1]\n",
    "cIds = line_parts[6].split('#')\n",
    "cnames = line_parts[8].split('#')\n",
    "pIds = line_parts[21].split('#')\n",
    "pdesc = line_parts[22].split('#')\n",
    "\n",
    "for info in [mass, intensity, cIds, cnames, pIds, pdesc]:\n",
    "    print(info)"
   ]
  },
  {
   "cell_type": "markdown",
   "metadata": {
    "slideshow": {
     "slide_type": "slide"
    }
   },
   "source": [
    "Para cada composto, podemos armazenar a informação num dicionário, e criar **uma lista com estes dicionários**."
   ]
  },
  {
   "cell_type": "code",
   "execution_count": null,
   "metadata": {
    "collapsed": false,
    "slideshow": {
     "slide_type": "slide"
    }
   },
   "outputs": [],
   "source": [
    "compounds = []\n",
    "for cId, name, pathId, pathdesc in zip(cIds, cnames, pIds, pdesc):\n",
    "    c = {}\n",
    "    c['mass'] = mass\n",
    "    c['intensity'] = intensity\n",
    "    c['cId'] = cId\n",
    "    c['name']= name\n",
    "    c['pathIds'] = pathId\n",
    "    c['paths'] = pathdesc\n",
    "    compounds.append(c)\n",
    "    \n",
    "for c in compounds:\n",
    "    print(c)"
   ]
  },
  {
   "cell_type": "markdown",
   "metadata": {
    "slideshow": {
     "slide_type": "slide"
    }
   },
   "source": [
    "Quanto à informação relativa às vias em que cada composto pode estar envolvido, podemos reparar que:\n",
    "\n",
    "1. Um composto pde ter várias vias, separadas por `;`.\n",
    "\n",
    "2. Um composto pode não ter nenhuma via. neste caso, aparece a anotação \"null\".\n",
    "\n",
    "Vamos optar por extarír apenas compostos para os quais existe pelo menos uma via. Vamos **ignorar os outros**."
   ]
  },
  {
   "cell_type": "code",
   "execution_count": null,
   "metadata": {
    "collapsed": false,
    "slideshow": {
     "slide_type": "slide"
    }
   },
   "outputs": [],
   "source": [
    "compounds = [c for c in compounds if c['paths']!='null']\n",
    "for c in compounds:\n",
    "    print(c)"
   ]
  },
  {
   "cell_type": "markdown",
   "metadata": {
    "slideshow": {
     "slide_type": "slide"
    }
   },
   "source": [
    "Finalmente, vamos transformar a informação relativa às vias (quer os IDs quer as descrições) em **listas**.\n",
    "\n",
    "Repare-se que ainda são _strings_ e que usam como separador o `;` para delimitar várias vias."
   ]
  },
  {
   "cell_type": "code",
   "execution_count": null,
   "metadata": {
    "collapsed": false
   },
   "outputs": [],
   "source": [
    "for c in compounds:\n",
    "    paths = c['paths'].split(';')\n",
    "    # pode haver strings vazias!\n",
    "    # vamos ignorá-las\n",
    "    paths = [p for p in paths if p!='']\n",
    "    c['paths'] = paths\n",
    "    \n",
    "    # tudo numa só linha, para os pathIds:\n",
    "    c['pathIds'] = [p for p in c['pathIds'].split(';') if p!='']\n",
    "\n",
    "for c in compounds:\n",
    "    print(c)"
   ]
  },
  {
   "cell_type": "markdown",
   "metadata": {
    "slideshow": {
     "slide_type": "slide"
    }
   },
   "source": [
    "Agora **tudo junto, aplicando ao ficheiro inteiro**. Para controlo, podemos contar os compostos obtidos."
   ]
  },
  {
   "cell_type": "code",
   "execution_count": null,
   "metadata": {
    "collapsed": false,
    "slideshow": {
     "slide_type": "slide"
    }
   },
   "outputs": [],
   "source": [
    "name = 'masses.annotated.reformat.tsv'\n",
    "with open(name) as a:\n",
    "    all_lines = [line.strip() for line in a]\n",
    "\n",
    "compounds = []\n",
    "for line in all_lines[:-1]:\n",
    "    line_parts = line.split('\\t')\n",
    "    \n",
    "    mass = line_parts[0]\n",
    "    intensity = line_parts[1]\n",
    "    cIds = line_parts[6].split('#')\n",
    "    cnames = line_parts[8].split('#')\n",
    "    pIds = line_parts[21].split('#')\n",
    "    pdescs = line_parts[22].split('#')\n",
    "    \n",
    "    for cId, name, pId, desc in zip(cIds, cnames, pIds, pdescs):\n",
    "        c = {}\n",
    "        if pId != 'null':\n",
    "            c['cId'] = cId\n",
    "            c['name']= name\n",
    "            c['mass'] = mass\n",
    "            c['intensity'] = intensity\n",
    "            c['paths'] = [p for p in desc.split(';') if p!='']\n",
    "            c['pathIds'] = [p for p in pId.split(';') if p!='']\n",
    "            compounds.append(c)\n",
    "\n",
    "print('São', len(compounds), 'compostos')"
   ]
  },
  {
   "cell_type": "markdown",
   "metadata": {
    "slideshow": {
     "slide_type": "slide"
    }
   },
   "source": [
    "### Utilização da informação"
   ]
  },
  {
   "cell_type": "markdown",
   "metadata": {},
   "source": [
    "Agora com esta **lista de dicionários** chamada `compounds` disponível podemos responder a várias questões:"
   ]
  },
  {
   "cell_type": "markdown",
   "metadata": {
    "slideshow": {
     "slide_type": "slide"
    }
   },
   "source": [
    "Exemplo: Como obter uma tabela que associe (ID de composto) `---->` (via)?"
   ]
  },
  {
   "cell_type": "code",
   "execution_count": null,
   "metadata": {
    "collapsed": false,
    "slideshow": {
     "slide_type": "-"
    }
   },
   "outputs": [],
   "source": [
    "# Só para os primeiros 20 compostos:\n",
    "for c in compounds[:21]:\n",
    "    for p in c['paths']:\n",
    "        print(c['cId'], '---->', p)"
   ]
  },
  {
   "cell_type": "markdown",
   "metadata": {
    "slideshow": {
     "slide_type": "slide"
    }
   },
   "source": [
    "Exemplo: Como obter uma **lista** com nomes das vias, mas sem repetições?"
   ]
  },
  {
   "cell_type": "code",
   "execution_count": null,
   "metadata": {
    "collapsed": false
   },
   "outputs": [],
   "source": [
    "all_paths = []\n",
    "for c in compounds:\n",
    "    for p in c['paths']:\n",
    "        if p not in all_paths:\n",
    "            all_paths.append(p)\n",
    "\n",
    "# AS primeiras 20 vias:\n",
    "for p in all_paths[:21]:\n",
    "    print(p)"
   ]
  },
  {
   "cell_type": "markdown",
   "metadata": {
    "slideshow": {
     "slide_type": "slide"
    }
   },
   "source": [
    "Exemplo: Como obter um **dicionário** com os nomes das **vias como chaves** e o **numero de vezes que aparecem como valores**?"
   ]
  },
  {
   "cell_type": "code",
   "execution_count": null,
   "metadata": {
    "collapsed": false
   },
   "outputs": [],
   "source": [
    "pcounts = {}\n",
    "for c in compounds:\n",
    "    for p in c['paths']:\n",
    "        if p in pcounts:\n",
    "            pcounts[p] = pcounts[p] + 1\n",
    "        else:\n",
    "            pcounts[p] = 1\n",
    "\n",
    "print('São', len(pcounts), 'vias')\n",
    "\n",
    "print('\\nAlgumas contagens:')\n",
    "\n",
    "for i, k in zip(range(6), pcounts):\n",
    "    print(k, '--->', pcounts[k], 'compostos')"
   ]
  },
  {
   "cell_type": "markdown",
   "metadata": {},
   "source": [
    "Sendo um dicionário, não se aplica a noção de ordem e é evidente que as vias não estão ordenadas segundo as contagens de compostos.\n",
    "\n",
    "Podemos obter as vias por ordem decrescente de compostos?\n",
    "\n",
    "Para, por exemplo, obter **as 20 vias mais abundantes** em compostos?"
   ]
  },
  {
   "cell_type": "markdown",
   "metadata": {
    "slideshow": {
     "slide_type": "slide"
    }
   },
   "source": [
    "Uma vez que os dicionários não estão associados a uma \"ordenação\", temos de trabalhar com listas.\n",
    "\n",
    "Estratégia:\n",
    "\n",
    "- Criar uma lista com os pares (contagens, nome da via)\n",
    "- Ordenar a lista"
   ]
  },
  {
   "cell_type": "code",
   "execution_count": null,
   "metadata": {
    "collapsed": false
   },
   "outputs": [],
   "source": [
    "pcounts_list = [(pcounts[k], k) for k in pcounts]\n",
    "print('Controlo: 5 primeiros elementos, lista desordenada:')\n",
    "for c, p in pcounts_list[:5]:\n",
    "    print(p, '--->', c)"
   ]
  },
  {
   "cell_type": "code",
   "execution_count": null,
   "metadata": {
    "collapsed": false,
    "slideshow": {
     "slide_type": "slide"
    }
   },
   "outputs": [],
   "source": [
    "pcounts_list.sort(reverse=True)\n",
    "# Reverse=True indica que a ordenação é por ordem decrescente\n",
    "\n",
    "print('\\nAs 20 vias com mais compostos:')\n",
    "for c, p in pcounts_list[:20]:\n",
    "    print(p, '--->', c)"
   ]
  },
  {
   "cell_type": "markdown",
   "metadata": {
    "slideshow": {
     "slide_type": "slide"
    }
   },
   "source": [
    "Finalmente:\n",
    "\n",
    "Escrever um ficheiro, chamado `compostos.txt` com vários campos, separados por `\\t` e um compostos por linha.\n",
    "\n",
    "Os campos são:\n",
    "\n",
    "- A massa (_raw mass_)\n",
    "- A intensidade\n",
    "- O ID do composto\n",
    "- O nome do composto (havendo vários nomes, usar apenas o primeiro)\n",
    "- A descrição das vias, separadas por `;`\n",
    "- Os IDs das vias, separadas por `;`.\n",
    "\n",
    "Só para os compostos que têm pelo menos uma via associada, claro."
   ]
  },
  {
   "cell_type": "code",
   "execution_count": null,
   "metadata": {
    "collapsed": false,
    "slideshow": {
     "slide_type": "slide"
    }
   },
   "outputs": [],
   "source": [
    "file_name = 'compostos.txt'\n",
    "\n",
    "with open(file_name, 'w') as a:\n",
    "    for c in compounds:\n",
    "        campos = []\n",
    "        campos.append(c['mass'])\n",
    "        campos.append(c['intensity'])\n",
    "        campos.append(c['cId'])\n",
    "        campos.append(c['name'].split(';')[0])\n",
    "        campos.append(';'.join(c['paths']))\n",
    "        campos.append(';'.join(c['pathIds']))\n",
    "        # finalmente, juntar todos os campos\n",
    "        # usando \\t como separador\n",
    "        # e escrever no ficheiro \"a\"\n",
    "        print('\\t'.join(campos), file=a)"
   ]
  },
  {
   "cell_type": "code",
   "execution_count": null,
   "metadata": {
    "collapsed": false,
    "slideshow": {
     "slide_type": "slide"
    }
   },
   "outputs": [],
   "source": [
    "# verificar se correu bem...\n",
    "file_name = 'compostos.txt'\n",
    "\n",
    "with open(file_name) as a:\n",
    "    for i, line in enumerate(a):\n",
    "        line = line.strip()\n",
    "        print(line)\n",
    "        if i > 10:\n",
    "            break"
   ]
  }
 ],
 "metadata": {
  "kernelspec": {
   "display_name": "Python [default]",
   "language": "python",
   "name": "python3"
  },
  "language_info": {
   "codemirror_mode": {
    "name": "ipython",
    "version": 3
   },
   "file_extension": ".py",
   "mimetype": "text/x-python",
   "name": "python",
   "nbconvert_exporter": "python",
   "pygments_lexer": "ipython3",
   "version": "3.5.2"
  }
 },
 "nbformat": 4,
 "nbformat_minor": 0
}
