{
 "cells": [
  {
   "cell_type": "markdown",
   "metadata": {
    "slideshow": {
     "slide_type": "slide"
    }
   },
   "source": [
    "# Ficheiros de texto"
   ]
  },
  {
   "cell_type": "markdown",
   "metadata": {
    "slideshow": {
     "slide_type": "slide"
    }
   },
   "source": [
    "## Leitura"
   ]
  },
  {
   "cell_type": "markdown",
   "metadata": {},
   "source": [
    "O modelo mais simples é ler todo o conteúdo de um ficheiro para uma _string_:\n",
    "\n",
    "![](./images/fichs.png)"
   ]
  },
  {
   "cell_type": "markdown",
   "metadata": {
    "slideshow": {
     "slide_type": "slide"
    }
   },
   "source": [
    "### `.read()`"
   ]
  },
  {
   "cell_type": "code",
   "execution_count": 31,
   "metadata": {
    "collapsed": false,
    "slideshow": {
     "slide_type": "slide"
    }
   },
   "outputs": [
    {
     "name": "stdout",
     "output_type": "stream",
     "text": [
      "A sequência, em FASTA é\n",
      ">gi|398366315|ref|NP_011770.3| Eno1p [Saccharomyces cerevisiae S288c]\n",
      "MAVSKVYARSVYDSRGNPTVEVELTTEKGVFRSIVPSGASTGVHEALEMRDGDKSKWMGKGVLHAVKNVN\n",
      "DVIAPAFVKANIDVKDQKAVDDFLISLDGTANKSKLGANAILGVSLAASRAAAAEKNVPLYKHLADLSKS\n",
      "KTSPYVLPVPFLNVLNGGSHAGGALALQEFMIAPTGAKTFAEALRIGSEVYHNLKSLTKKRYGASAGNVG\n",
      "DEGGVAPNIQTAEEALDLIVDAIKAAGHDGKIKIGLDCASSEFFKDGKYDLDFKNPNSDKSKWLTGPQLA\n",
      "DLYHSLMKRYPIVSIEDPFAEDDWEAWSHFFKTAGIQIVADDLTVTNPKRIATAIEKKAADALLLKVNQI\n",
      "GTLSESIKAAQDSFAAGWGVMVSHRSGETEDTFIADLVVGLRTGQIKTGAPARSERLAKLNQLLRIEEEL\n",
      "GDNAVFAGENFHHGDKL\n",
      "<type 'str'>\n"
     ]
    }
   ],
   "source": [
    "a = open('eno1.fasta')\n",
    "seq = a.read()\n",
    "a.close()\n",
    "\n",
    "print 'A sequência, em FASTA é'\n",
    "print seq\n",
    "\n",
    "print type(seq)"
   ]
  },
  {
   "cell_type": "markdown",
   "metadata": {
    "slideshow": {
     "slide_type": "slide"
    }
   },
   "source": [
    "Uma versão mais moderna para abrir e **automaticamente fechar** o ficheiro é utilizar o comando `with`:"
   ]
  },
  {
   "cell_type": "code",
   "execution_count": 32,
   "metadata": {
    "collapsed": false
   },
   "outputs": [
    {
     "name": "stdout",
     "output_type": "stream",
     "text": [
      "A sequência, em FASTA é\n",
      ">gi|398366315|ref|NP_011770.3| Eno1p [Saccharomyces cerevisiae S288c]\n",
      "MAVSKVYARSVYDSRGNPTVEVELTTEKGVFRSIVPSGASTGVHEALEMRDGDKSKWMGKGVLHAVKNVN\n",
      "DVIAPAFVKANIDVKDQKAVDDFLISLDGTANKSKLGANAILGVSLAASRAAAAEKNVPLYKHLADLSKS\n",
      "KTSPYVLPVPFLNVLNGGSHAGGALALQEFMIAPTGAKTFAEALRIGSEVYHNLKSLTKKRYGASAGNVG\n",
      "DEGGVAPNIQTAEEALDLIVDAIKAAGHDGKIKIGLDCASSEFFKDGKYDLDFKNPNSDKSKWLTGPQLA\n",
      "DLYHSLMKRYPIVSIEDPFAEDDWEAWSHFFKTAGIQIVADDLTVTNPKRIATAIEKKAADALLLKVNQI\n",
      "GTLSESIKAAQDSFAAGWGVMVSHRSGETEDTFIADLVVGLRTGQIKTGAPARSERLAKLNQLLRIEEEL\n",
      "GDNAVFAGENFHHGDKL\n"
     ]
    }
   ],
   "source": [
    "with open('eno1.fasta') as a:\n",
    "    seq = a.read()\n",
    "\n",
    "print 'A sequência, em FASTA é'\n",
    "print seq"
   ]
  },
  {
   "cell_type": "markdown",
   "metadata": {
    "slideshow": {
     "slide_type": "slide"
    }
   },
   "source": [
    "Mas `read()` não é a única maneira de ler um ficheiro."
   ]
  },
  {
   "cell_type": "markdown",
   "metadata": {
    "slideshow": {
     "slide_type": "slide"
    }
   },
   "source": [
    "### `.readlines()`"
   ]
  },
  {
   "cell_type": "markdown",
   "metadata": {},
   "source": [
    "A função `readlines()` lê e separa **as linhas** de um ficheiro para uma lista:"
   ]
  },
  {
   "cell_type": "code",
   "execution_count": 33,
   "metadata": {
    "collapsed": false
   },
   "outputs": [
    {
     "name": "stdout",
     "output_type": "stream",
     "text": [
      "['>gi|398366315|ref|NP_011770.3| Eno1p [Saccharomyces cerevisiae S288c]\\n', 'MAVSKVYARSVYDSRGNPTVEVELTTEKGVFRSIVPSGASTGVHEALEMRDGDKSKWMGKGVLHAVKNVN\\n', 'DVIAPAFVKANIDVKDQKAVDDFLISLDGTANKSKLGANAILGVSLAASRAAAAEKNVPLYKHLADLSKS\\n', 'KTSPYVLPVPFLNVLNGGSHAGGALALQEFMIAPTGAKTFAEALRIGSEVYHNLKSLTKKRYGASAGNVG\\n', 'DEGGVAPNIQTAEEALDLIVDAIKAAGHDGKIKIGLDCASSEFFKDGKYDLDFKNPNSDKSKWLTGPQLA\\n', 'DLYHSLMKRYPIVSIEDPFAEDDWEAWSHFFKTAGIQIVADDLTVTNPKRIATAIEKKAADALLLKVNQI\\n', 'GTLSESIKAAQDSFAAGWGVMVSHRSGETEDTFIADLVVGLRTGQIKTGAPARSERLAKLNQLLRIEEEL\\n', 'GDNAVFAGENFHHGDKL']\n"
     ]
    }
   ],
   "source": [
    "with open('eno1.fasta') as a:\n",
    "    seq = a.readlines()\n",
    "\n",
    "print seq"
   ]
  },
  {
   "cell_type": "markdown",
   "metadata": {
    "slideshow": {
     "slide_type": "slide"
    }
   },
   "source": [
    "O que são os `\\n` no fim das _strings_?"
   ]
  },
  {
   "cell_type": "markdown",
   "metadata": {},
   "source": [
    "**Numa string,** `\\n` **indica a mudança de linha**. (Conta como apenas **1** caractere).\n",
    "\n",
    "Neste caso eles aparecem porque no ficheiro original há mudanças de linha. "
   ]
  },
  {
   "cell_type": "markdown",
   "metadata": {
    "slideshow": {
     "slide_type": "slide"
    }
   },
   "source": [
    "Podemos elimina-los com a função `.strip()`:"
   ]
  },
  {
   "cell_type": "code",
   "execution_count": 34,
   "metadata": {
    "collapsed": false
   },
   "outputs": [
    {
     "name": "stdout",
     "output_type": "stream",
     "text": [
      "['>gi|398366315|ref|NP_011770.3| Eno1p [Saccharomyces cerevisiae S288c]', 'MAVSKVYARSVYDSRGNPTVEVELTTEKGVFRSIVPSGASTGVHEALEMRDGDKSKWMGKGVLHAVKNVN', 'DVIAPAFVKANIDVKDQKAVDDFLISLDGTANKSKLGANAILGVSLAASRAAAAEKNVPLYKHLADLSKS', 'KTSPYVLPVPFLNVLNGGSHAGGALALQEFMIAPTGAKTFAEALRIGSEVYHNLKSLTKKRYGASAGNVG', 'DEGGVAPNIQTAEEALDLIVDAIKAAGHDGKIKIGLDCASSEFFKDGKYDLDFKNPNSDKSKWLTGPQLA', 'DLYHSLMKRYPIVSIEDPFAEDDWEAWSHFFKTAGIQIVADDLTVTNPKRIATAIEKKAADALLLKVNQI', 'GTLSESIKAAQDSFAAGWGVMVSHRSGETEDTFIADLVVGLRTGQIKTGAPARSERLAKLNQLLRIEEEL', 'GDNAVFAGENFHHGDKL']\n"
     ]
    }
   ],
   "source": [
    "with open('eno1.fasta') as a:\n",
    "    seq = a.readlines()\n",
    "\n",
    "seq = [linha.strip() for linha in seq]\n",
    "print seq"
   ]
  },
  {
   "cell_type": "markdown",
   "metadata": {
    "slideshow": {
     "slide_type": "slide"
    }
   },
   "source": [
    "Ou, de uma forma sucinta, usando uma lista em compreensão:"
   ]
  },
  {
   "cell_type": "code",
   "execution_count": 35,
   "metadata": {
    "collapsed": false
   },
   "outputs": [
    {
     "name": "stdout",
     "output_type": "stream",
     "text": [
      "['>gi|398366315|ref|NP_011770.3| Eno1p [Saccharomyces cerevisiae S288c]', 'MAVSKVYARSVYDSRGNPTVEVELTTEKGVFRSIVPSGASTGVHEALEMRDGDKSKWMGKGVLHAVKNVN', 'DVIAPAFVKANIDVKDQKAVDDFLISLDGTANKSKLGANAILGVSLAASRAAAAEKNVPLYKHLADLSKS', 'KTSPYVLPVPFLNVLNGGSHAGGALALQEFMIAPTGAKTFAEALRIGSEVYHNLKSLTKKRYGASAGNVG', 'DEGGVAPNIQTAEEALDLIVDAIKAAGHDGKIKIGLDCASSEFFKDGKYDLDFKNPNSDKSKWLTGPQLA', 'DLYHSLMKRYPIVSIEDPFAEDDWEAWSHFFKTAGIQIVADDLTVTNPKRIATAIEKKAADALLLKVNQI', 'GTLSESIKAAQDSFAAGWGVMVSHRSGETEDTFIADLVVGLRTGQIKTGAPARSERLAKLNQLLRIEEEL', 'GDNAVFAGENFHHGDKL']\n"
     ]
    }
   ],
   "source": [
    "with open('eno1.fasta') as a:\n",
    "    seq = [linha.strip() for linha in a.readlines()]\n",
    "print seq"
   ]
  },
  {
   "cell_type": "markdown",
   "metadata": {
    "slideshow": {
     "slide_type": "slide"
    }
   },
   "source": [
    "Com ficheiros muito grandes, a leitura pelas funções `.read()` e `.readlines()` pode esgotar a memória de um computador e \"congelar\" um programa."
   ]
  },
  {
   "cell_type": "markdown",
   "metadata": {},
   "source": [
    "Existe uma terceira maneira de ler um ficheiro (que não traz problemas com ficheiros grandes):"
   ]
  },
  {
   "cell_type": "markdown",
   "metadata": {},
   "source": [
    "### Iteração de ficheiros com `for`."
   ]
  },
  {
   "cell_type": "markdown",
   "metadata": {
    "slideshow": {
     "slide_type": "slide"
    }
   },
   "source": [
    "**A iteração de um ficheiro \"percorre\" as linhas do ficheiro**"
   ]
  },
  {
   "cell_type": "code",
   "execution_count": 36,
   "metadata": {
    "collapsed": false
   },
   "outputs": [
    {
     "name": "stdout",
     "output_type": "stream",
     "text": [
      ">gi|398366315|ref|NP_011770.3| Eno1p [Saccharomyces cerevisiae S288c]\n",
      "MAVSKVYARSVYDSRGNPTVEVELTTEKGVFRSIVPSGASTGVHEALEMRDGDKSKWMGKGVLHAVKNVN\n",
      "DVIAPAFVKANIDVKDQKAVDDFLISLDGTANKSKLGANAILGVSLAASRAAAAEKNVPLYKHLADLSKS\n",
      "KTSPYVLPVPFLNVLNGGSHAGGALALQEFMIAPTGAKTFAEALRIGSEVYHNLKSLTKKRYGASAGNVG\n",
      "DEGGVAPNIQTAEEALDLIVDAIKAAGHDGKIKIGLDCASSEFFKDGKYDLDFKNPNSDKSKWLTGPQLA\n",
      "DLYHSLMKRYPIVSIEDPFAEDDWEAWSHFFKTAGIQIVADDLTVTNPKRIATAIEKKAADALLLKVNQI\n",
      "GTLSESIKAAQDSFAAGWGVMVSHRSGETEDTFIADLVVGLRTGQIKTGAPARSERLAKLNQLLRIEEEL\n",
      "GDNAVFAGENFHHGDKL\n"
     ]
    }
   ],
   "source": [
    "with open('eno1.fasta') as a:\n",
    "    for linha in a:\n",
    "        linha = linha.strip()\n",
    "        print linha"
   ]
  },
  {
   "cell_type": "code",
   "execution_count": 37,
   "metadata": {
    "collapsed": false,
    "slideshow": {
     "slide_type": "slide"
    }
   },
   "outputs": [
    {
     "name": "stdout",
     "output_type": "stream",
     "text": [
      "linha 0 : >gi|398366315|ref|NP_011770.3| Eno1p [Saccharomyces cerevisiae S288c]\n",
      "linha 1 : MAVSKVYARSVYDSRGNPTVEVELTTEKGVFRSIVPSGASTGVHEALEMRDGDKSKWMGKGVLHAVKNVN\n",
      "linha 2 : DVIAPAFVKANIDVKDQKAVDDFLISLDGTANKSKLGANAILGVSLAASRAAAAEKNVPLYKHLADLSKS\n",
      "linha 3 : KTSPYVLPVPFLNVLNGGSHAGGALALQEFMIAPTGAKTFAEALRIGSEVYHNLKSLTKKRYGASAGNVG\n",
      "linha 4 : DEGGVAPNIQTAEEALDLIVDAIKAAGHDGKIKIGLDCASSEFFKDGKYDLDFKNPNSDKSKWLTGPQLA\n",
      "linha 5 : DLYHSLMKRYPIVSIEDPFAEDDWEAWSHFFKTAGIQIVADDLTVTNPKRIATAIEKKAADALLLKVNQI\n",
      "linha 6 : GTLSESIKAAQDSFAAGWGVMVSHRSGETEDTFIADLVVGLRTGQIKTGAPARSERLAKLNQLLRIEEEL\n",
      "linha 7 : GDNAVFAGENFHHGDKL\n"
     ]
    }
   ],
   "source": [
    "with open('eno1.fasta') as a:\n",
    "    for i, linha in enumerate(a):\n",
    "        linha = linha.strip()\n",
    "        print 'linha', i, ':', linha"
   ]
  },
  {
   "cell_type": "code",
   "execution_count": 38,
   "metadata": {
    "collapsed": false,
    "slideshow": {
     "slide_type": "slide"
    }
   },
   "outputs": [
    {
     "name": "stdout",
     "output_type": "stream",
     "text": [
      "linha 0 tem 69 caracteres\n",
      "e é o cabeçalho do ficheiro FASTA\n",
      ">gi|398366315|ref|NP_011770.3| Eno1p [Saccharomyces cerevisiae S288c]\n",
      "\n",
      "linha 1 tem 70 caracteres\n",
      "MAVSKVYARSVYDSRGNPTVEVELTTEKGVFRSIVPSGASTGVHEALEMRDGDKSKWMGKGVLHAVKNVN\n",
      "\n",
      "linha 2 tem 70 caracteres\n",
      "DVIAPAFVKANIDVKDQKAVDDFLISLDGTANKSKLGANAILGVSLAASRAAAAEKNVPLYKHLADLSKS\n",
      "\n",
      "linha 3 tem 70 caracteres\n",
      "KTSPYVLPVPFLNVLNGGSHAGGALALQEFMIAPTGAKTFAEALRIGSEVYHNLKSLTKKRYGASAGNVG\n",
      "\n",
      "linha 4 tem 70 caracteres\n",
      "DEGGVAPNIQTAEEALDLIVDAIKAAGHDGKIKIGLDCASSEFFKDGKYDLDFKNPNSDKSKWLTGPQLA\n",
      "\n",
      "linha 5 tem 70 caracteres\n",
      "DLYHSLMKRYPIVSIEDPFAEDDWEAWSHFFKTAGIQIVADDLTVTNPKRIATAIEKKAADALLLKVNQI\n",
      "\n",
      "linha 6 tem 70 caracteres\n",
      "GTLSESIKAAQDSFAAGWGVMVSHRSGETEDTFIADLVVGLRTGQIKTGAPARSERLAKLNQLLRIEEEL\n",
      "\n",
      "linha 7 tem 17 caracteres\n",
      "GDNAVFAGENFHHGDKL\n",
      "\n"
     ]
    }
   ],
   "source": [
    "linhas = []\n",
    "with open('eno1.fasta') as a:\n",
    "    for i, linha in enumerate(a):\n",
    "        linha = linha.strip()\n",
    "        \n",
    "        print 'linha', i, 'tem', len(linha), 'caracteres'\n",
    "        if linha.startswith('>'):\n",
    "            print 'e é o cabeçalho do ficheiro FASTA'\n",
    "        print linha\n",
    "        linhas.append(linha)\n",
    "        print"
   ]
  },
  {
   "cell_type": "markdown",
   "metadata": {
    "slideshow": {
     "slide_type": "slide"
    }
   },
   "source": [
    "Reparar que, para ler todas as linhas para uma lista poderíamos não ter usado a função `.readlines()`:"
   ]
  },
  {
   "cell_type": "code",
   "execution_count": 39,
   "metadata": {
    "collapsed": false
   },
   "outputs": [
    {
     "name": "stdout",
     "output_type": "stream",
     "text": [
      "['>gi|398366315|ref|NP_011770.3| Eno1p [Saccharomyces cerevisiae S288c]', 'MAVSKVYARSVYDSRGNPTVEVELTTEKGVFRSIVPSGASTGVHEALEMRDGDKSKWMGKGVLHAVKNVN', 'DVIAPAFVKANIDVKDQKAVDDFLISLDGTANKSKLGANAILGVSLAASRAAAAEKNVPLYKHLADLSKS', 'KTSPYVLPVPFLNVLNGGSHAGGALALQEFMIAPTGAKTFAEALRIGSEVYHNLKSLTKKRYGASAGNVG', 'DEGGVAPNIQTAEEALDLIVDAIKAAGHDGKIKIGLDCASSEFFKDGKYDLDFKNPNSDKSKWLTGPQLA', 'DLYHSLMKRYPIVSIEDPFAEDDWEAWSHFFKTAGIQIVADDLTVTNPKRIATAIEKKAADALLLKVNQI', 'GTLSESIKAAQDSFAAGWGVMVSHRSGETEDTFIADLVVGLRTGQIKTGAPARSERLAKLNQLLRIEEEL', 'GDNAVFAGENFHHGDKL']\n"
     ]
    }
   ],
   "source": [
    "with open('eno1.fasta') as a:\n",
    "    seq = [linha.strip() for linha in a]\n",
    "    # aqui tínhamos ... for linha in a.readlines()\n",
    "print seq"
   ]
  },
  {
   "cell_type": "markdown",
   "metadata": {
    "slideshow": {
     "slide_type": "slide"
    }
   },
   "source": [
    "**Problema: ler uma ficheiro FASTA e separar o cabeçalho da sequência em duas strings (juntando toda a sequência numa só string)**"
   ]
  },
  {
   "cell_type": "code",
   "execution_count": 40,
   "metadata": {
    "collapsed": false
   },
   "outputs": [
    {
     "name": "stdout",
     "output_type": "stream",
     "text": [
      "cabeçalho:  >gi|398366315|ref|NP_011770.3| Eno1p [Saccharomyces cerevisiae S288c]\n",
      "sequência: \n",
      "MAVSKVYARSVYDSRGNPTVEVELTTEKGVFRSIVPSGASTGVHEALEMRDGDKSKWMGKGVLHAVKNVNDVIAPAFVKANIDVKDQKAVDDFLISLDGTANKSKLGANAILGVSLAASRAAAAEKNVPLYKHLADLSKSKTSPYVLPVPFLNVLNGGSHAGGALALQEFMIAPTGAKTFAEALRIGSEVYHNLKSLTKKRYGASAGNVGDEGGVAPNIQTAEEALDLIVDAIKAAGHDGKIKIGLDCASSEFFKDGKYDLDFKNPNSDKSKWLTGPQLADLYHSLMKRYPIVSIEDPFAEDDWEAWSHFFKTAGIQIVADDLTVTNPKRIATAIEKKAADALLLKVNQIGTLSESIKAAQDSFAAGWGVMVSHRSGETEDTFIADLVVGLRTGQIKTGAPARSERLAKLNQLLRIEEELGDNAVFAGENFHHGDKL\n"
     ]
    }
   ],
   "source": [
    "with open('eno1.fasta') as a:\n",
    "    linhas = [i.strip() for i in a]\n",
    "\n",
    "cab = linhas[0]\n",
    "seq = ''.join(linhas[1:]) # estamos a usar um slice de uma lista e a funçao .join() com separador vazio.\n",
    "\n",
    "print \"cabeçalho: \", cab\n",
    "print \"sequência: \\n\", seq"
   ]
  },
  {
   "cell_type": "markdown",
   "metadata": {
    "slideshow": {
     "slide_type": "slide"
    }
   },
   "source": [
    "Às vezes os ficheiros não têm cabeçalho! É melhor testar se a primeira linha começa por \">\" !"
   ]
  },
  {
   "cell_type": "code",
   "execution_count": 41,
   "metadata": {
    "collapsed": false
   },
   "outputs": [
    {
     "name": "stdout",
     "output_type": "stream",
     "text": [
      "cabeçalho:  >gi|398366315|ref|NP_011770.3| Eno1p [Saccharomyces cerevisiae S288c]\n",
      "sequência: \n",
      "MAVSKVYARSVYDSRGNPTVEVELTTEKGVFRSIVPSGASTGVHEALEMRDGDKSKWMGKGVLHAVKNVNDVIAPAFVKANIDVKDQKAVDDFLISLDGTANKSKLGANAILGVSLAASRAAAAEKNVPLYKHLADLSKSKTSPYVLPVPFLNVLNGGSHAGGALALQEFMIAPTGAKTFAEALRIGSEVYHNLKSLTKKRYGASAGNVGDEGGVAPNIQTAEEALDLIVDAIKAAGHDGKIKIGLDCASSEFFKDGKYDLDFKNPNSDKSKWLTGPQLADLYHSLMKRYPIVSIEDPFAEDDWEAWSHFFKTAGIQIVADDLTVTNPKRIATAIEKKAADALLLKVNQIGTLSESIKAAQDSFAAGWGVMVSHRSGETEDTFIADLVVGLRTGQIKTGAPARSERLAKLNQLLRIEEELGDNAVFAGENFHHGDKL\n"
     ]
    }
   ],
   "source": [
    "with open('eno1.fasta') as a:\n",
    "    linhas = [i.strip() for i in a]\n",
    "\n",
    "if linhas[0].startswith('>'):\n",
    "    cab = linhas[0]\n",
    "    seq = ''.join(linhas[1:])\n",
    "else:\n",
    "    cab = \"\"\n",
    "    seq = ''.join(linhas)\n",
    "\n",
    "print \"cabeçalho: \", cab\n",
    "print \"sequência: \\n\", seq"
   ]
  },
  {
   "cell_type": "markdown",
   "metadata": {
    "slideshow": {
     "slide_type": "slide"
    }
   },
   "source": [
    "Agora a versão com `for`:"
   ]
  },
  {
   "cell_type": "code",
   "execution_count": 42,
   "metadata": {
    "collapsed": false
   },
   "outputs": [
    {
     "name": "stdout",
     "output_type": "stream",
     "text": [
      "cabeçalho:  >gi|398366315|ref|NP_011770.3| Eno1p [Saccharomyces cerevisiae S288c]\n",
      "sequência: \n",
      "MAVSKVYARSVYDSRGNPTVEVELTTEKGVFRSIVPSGASTGVHEALEMRDGDKSKWMGKGVLHAVKNVNDVIAPAFVKANIDVKDQKAVDDFLISLDGTANKSKLGANAILGVSLAASRAAAAEKNVPLYKHLADLSKSKTSPYVLPVPFLNVLNGGSHAGGALALQEFMIAPTGAKTFAEALRIGSEVYHNLKSLTKKRYGASAGNVGDEGGVAPNIQTAEEALDLIVDAIKAAGHDGKIKIGLDCASSEFFKDGKYDLDFKNPNSDKSKWLTGPQLADLYHSLMKRYPIVSIEDPFAEDDWEAWSHFFKTAGIQIVADDLTVTNPKRIATAIEKKAADALLLKVNQIGTLSESIKAAQDSFAAGWGVMVSHRSGETEDTFIADLVVGLRTGQIKTGAPARSERLAKLNQLLRIEEELGDNAVFAGENFHHGDKL\n"
     ]
    }
   ],
   "source": [
    "cab = \"\"\n",
    "seq = []\n",
    "with open('eno1.fasta') as a:\n",
    "    for i in a:\n",
    "        i = i.strip()\n",
    "        if i.startswith('>'): \n",
    "            cab = i\n",
    "        else:\n",
    "            seq.append(i)\n",
    "seq = ''.join(seq)\n",
    "\n",
    "print \"cabeçalho: \", cab\n",
    "print \"sequência: \\n\", seq"
   ]
  },
  {
   "cell_type": "markdown",
   "metadata": {
    "slideshow": {
     "slide_type": "slide"
    }
   },
   "source": [
    "## Escrita"
   ]
  },
  {
   "cell_type": "markdown",
   "metadata": {
    "slideshow": {
     "slide_type": "slide"
    }
   },
   "source": [
    "### Comando `print` para ficheiros"
   ]
  },
  {
   "cell_type": "markdown",
   "metadata": {},
   "source": [
    "Basta modificar o comando `print`, indicando que deve escrever para um ficheiro em modo de escrita:"
   ]
  },
  {
   "cell_type": "code",
   "execution_count": 43,
   "metadata": {
    "collapsed": true
   },
   "outputs": [],
   "source": [
    "with open('exp.txt', 'w') as a: # o 'w' indica o modo de escrita\n",
    "    print >> a, '1, 2, 3, experiência, som, som'"
   ]
  },
  {
   "cell_type": "markdown",
   "metadata": {
    "slideshow": {
     "slide_type": "slide"
    }
   },
   "source": [
    "Aparentemente não aconteceu nada, mas um ficheiro novo foi criado"
   ]
  },
  {
   "cell_type": "markdown",
   "metadata": {},
   "source": [
    "Vamos ler o ficheiro:"
   ]
  },
  {
   "cell_type": "code",
   "execution_count": 44,
   "metadata": {
    "collapsed": false
   },
   "outputs": [
    {
     "name": "stdout",
     "output_type": "stream",
     "text": [
      "1, 2, 3, experiência, som, som\n",
      "\n"
     ]
    }
   ],
   "source": [
    "with open('exp.txt') as a:\n",
    "    for i in a:\n",
    "        print i"
   ]
  },
  {
   "cell_type": "markdown",
   "metadata": {
    "slideshow": {
     "slide_type": "slide"
    }
   },
   "source": [
    "### Função `.write()`"
   ]
  },
  {
   "cell_type": "markdown",
   "metadata": {},
   "source": [
    "Também existe a função `.write()` que funciona como o contrário de `.read()`:"
   ]
  },
  {
   "cell_type": "code",
   "execution_count": 45,
   "metadata": {
    "collapsed": true
   },
   "outputs": [],
   "source": [
    "tudo = \"\"\"\n",
    "Um texto que ocupa\n",
    "1 linha\n",
    "2 linhas\n",
    "3 linhas\n",
    "\"\"\"\n",
    "\n",
    "with open('exp2.txt', 'w') as a: # o 'w' indica o modo de escrita\n",
    "    a.write(tudo)"
   ]
  },
  {
   "cell_type": "markdown",
   "metadata": {
    "slideshow": {
     "slide_type": "slide"
    }
   },
   "source": [
    "**Problema: ler uma ficheiro com dados numéricos e converter o ponto decimal em vírgula decimal**\n",
    "\n",
    "Vamos supor que temos o ficheiro de texto `masses_annotated.txt` (menos de 1 MB) em que as cinco primeiras linhas são:\n",
    "\n",
    "```\n",
    "raw_mass\tpeak_height\tKEGG_mass(original)\tnpossible\tKEGG_mass (Addukt)\tppm\tKEGG_cid\tKEGG_formula\tKEGG_name\tuniqueID\n",
    "154.97517\t7.25775e+06\t155.982446466881\t1(4)\t154.975098039829\t0.464333550973771\tC00988\tC2H5O6P\t2-Phosphoglycolate;Phosphoglycolic acid ([M-H]-)\t\n",
    "154.97517\t7.25775e+06\t155.982446466881\t2(4)\t154.975098039829\t0.464333550973771\tHMDB00816\tC2H5O6P\tPhosphoglycolic acid (see KEGG C00988); 2-phosphonooxyacetic acid [carboxylic acid] ([M-H]-)\t\n",
    "154.97517\t7.25775e+06\t120.005768420091\t3(4)\t154.975274805989\t-0.676276005999922\tC02287\tC3H4O5\tHydroxymalonate;Tartronic acid;Hydroxymalonic acid;2-Hydroxymalonate;2-Hydroxymalonic acid;2-Tartronic acid ([M+Cl35]-)\t\n",
    "157.08700\t1.21735e+06\t158.094276466881\t1(13)\t157.087017840779\t-0.113572599952848\tC02975\tC8H14O3\tEthyl 3-oxohexanoate;Ethyl butyrylacetate ([M-H]-)\t\n",
    "```\n",
    "\n",
    "Os diferentes campos são separados por **tabs** (_tab delimited file_) e em certas configurações do MS-Excel podemos ter problemas a importar os dados.\n",
    "\n",
    "De uma form sucinta, podemos passar os `.` a `,` ?"
   ]
  },
  {
   "cell_type": "code",
   "execution_count": 46,
   "metadata": {
    "collapsed": false,
    "slideshow": {
     "slide_type": "slide"
    }
   },
   "outputs": [],
   "source": [
    "with open('masses_annotated.txt') as a:\n",
    "    tudo = a.read()\n",
    "\n",
    "tudo = tudo.replace('.', ',')\n",
    "\n",
    "with open('masses_annotated_fixed.txt', 'w') as a:\n",
    "    a.write(tudo)"
   ]
  },
  {
   "cell_type": "markdown",
   "metadata": {
    "slideshow": {
     "slide_type": "slide"
    }
   },
   "source": [
    "Como prova, as cinco primeiras linhas do ficheiro `masses_annotated_fixed.txt`:\n",
    "\n",
    "```\n",
    "raw_mass\tpeak_height\tKEGG_mass(original)\tnpossible\tKEGG_mass (Addukt)\tppm\tKEGG_cid\tKEGG_formula\tKEGG_name\tuniqueID\n",
    "154,97517\t7,25775e+06\t155,982446466881\t1(4)\t154,975098039829\t0,464333550973771\tC00988\tC2H5O6P\t2-Phosphoglycolate;Phosphoglycolic acid ([M-H]-)\t\n",
    "154,97517\t7,25775e+06\t155,982446466881\t2(4)\t154,975098039829\t0,464333550973771\tHMDB00816\tC2H5O6P\tPhosphoglycolic acid (see KEGG C00988); 2-phosphonooxyacetic acid [carboxylic acid] ([M-H]-)\t\n",
    "154,97517\t7,25775e+06\t120,005768420091\t3(4)\t154,975274805989\t-0,676276005999922\tC02287\tC3H4O5\tHydroxymalonate;Tartronic acid;Hydroxymalonic acid;2-Hydroxymalonate;2-Hydroxymalonic acid;2-Tartronic acid ([M+Cl35]-)\t\n",
    "157,08700\t1,21735e+06\t158,094276466881\t1(13)\t157,087017840779\t-0,113572599952848\tC02975\tC8H14O3\tEthyl 3-oxohexanoate;Ethyl butyrylacetate ([M-H]-)\t\n",
    "```"
   ]
  },
  {
   "cell_type": "markdown",
   "metadata": {
    "slideshow": {
     "slide_type": "slide"
    }
   },
   "source": [
    "## Exemplo: Extração de informação de ficheiros de resultados de metabolómica."
   ]
  },
  {
   "cell_type": "markdown",
   "metadata": {
    "slideshow": {
     "slide_type": "slide"
    }
   },
   "source": [
    "[MassTRIX](http://www.masstrix.org), (_Mass TRanslator into Pathways_) [1] é um serviço online de tratamento de dados de metabolómica.\n",
    "\n",
    "A funcionalidade primária é a identificação de compostos a partir de listas de massas e intensidades obtidas por análise de amostras biológics por Espectrometria de Massa.\n",
    "\n",
    "O resultado da identificação é disponibilizado em vários ficheiros de texto. Num dos formatos, cada linha do ficheiro diz respeito a um pico de massa e apresenta, de entre outros, os compostos identificados com aquela massa, bem como as anotações das vias celulares em que esses compostos podem estar envolvidos.\n",
    "\n",
    "Pretende-se ilustrar o uso programático da leitura de ficheiros e as operações com _strings_ com um exemplo da **extração da informação contida num desses ficheiros**.\n",
    "\n",
    "[1] K. Suhre and P. Schmitt-Kopplin (2008) MassTRIX: Mass TRanslator Into Pathways, _Nucleic Acids Research_, **36**, Web Server issue, W481-W484."
   ]
  },
  {
   "cell_type": "markdown",
   "metadata": {
    "slideshow": {
     "slide_type": "slide"
    }
   },
   "source": [
    "### Exploração do formato"
   ]
  },
  {
   "cell_type": "markdown",
   "metadata": {
    "slideshow": {
     "slide_type": "slide"
    }
   },
   "source": [
    "Vamos ler o ficheiro `masses.annotated.reformat.tsv`, separar todas as linhas para uma lista e mostrar a primeira e a última:"
   ]
  },
  {
   "cell_type": "code",
   "execution_count": 47,
   "metadata": {
    "collapsed": false,
    "slideshow": {
     "slide_type": "-"
    }
   },
   "outputs": [
    {
     "name": "stdout",
     "output_type": "stream",
     "text": [
      "FIRST line\n",
      "154.97517\t7.25775e+06\t120.005768420091\t4\t154.975098039829#154.975098039829#154.975274805989\t0.464333550973771#0.464333550973771#-0.676276005999922\tC00988#HMDB00816#C02287\tC2H5O6P#C2H5O6P#C3H4O5\t2-Phosphoglycolate;Phosphoglycolic acid ([M-H]-)#Phosphoglycolic acid (see KEGG C00988); 2-phosphonooxyacetic acid [carboxylic acid] ([M-H]-)#Hydroxymalonate;Tartronic acid;Hydroxymalonic acid;2-Hydroxymalonate;2-Hydroxymalonic acid;2-Tartronic acid ([M+Cl35]-)\t\t\t\t\t\t\t\t\t\t\t\t\tko00630;ko01100#null#null\t;Glyoxylate and dicarboxylate metabolism;Metabolic pathways#null#null\tnull#null#null\n",
      "---------------------------------\n",
      "LAST line\n",
      "raw_mass\tpeak_height\tcorrected_mass\tnpossible\tKEGG_mass\tppm\tKEGG_cid\tKEGG_formula\tKEGG_name\tuniqueID\tC13\tO18\tN15\tS34\tMg25\tMg26\tFe54\tFe57\tCa44\tCl37\tK41\tKEGG Pathways\tKEGG Pathways descriptions\tCompound in Organism(X)\n"
     ]
    }
   ],
   "source": [
    "name = 'masses.annotated.reformat.tsv'\n",
    "with open(name) as a:\n",
    "    all_lines = [line.strip() for line in a]\n",
    "\n",
    "print 'FIRST line'\n",
    "print all_lines[0]\n",
    "print '---------------------------------'\n",
    "print 'LAST line'\n",
    "print all_lines[-1]"
   ]
  },
  {
   "cell_type": "markdown",
   "metadata": {
    "slideshow": {
     "slide_type": "slide"
    }
   },
   "source": [
    "Nas linhas deste ficheiro, os vários campos com informação estão separados por **tabs** (o caractere `\\t`).\n",
    "\n",
    "A última linha tem como informação os nomes de cada um destes campos (`raw_mass peak_height` etc)"
   ]
  },
  {
   "cell_type": "markdown",
   "metadata": {
    "slideshow": {
     "slide_type": "slide"
    }
   },
   "source": [
    "Vamos dividir a linha 0 em várias partes, pelo separador `\\t`. As partes obtidas são os vários campos de informação reltiva a um pico de MS.\n",
    "\n",
    "Já agora, vamos obter os nomes de cada campo, fazendo o mesmo à última linha:"
   ]
  },
  {
   "cell_type": "code",
   "execution_count": 48,
   "metadata": {
    "collapsed": false,
    "slideshow": {
     "slide_type": "slide"
    }
   },
   "outputs": [
    {
     "name": "stdout",
     "output_type": "stream",
     "text": [
      "0 | raw_mass : 154.97517\n",
      "1 | peak_height : 7.25775e+06\n",
      "2 | corrected_mass : 120.005768420091\n",
      "3 | npossible : 4\n",
      "4 | KEGG_mass : 154.975098039829#154.975098039829#154.975274805989\n",
      "5 | ppm : 0.464333550973771#0.464333550973771#-0.676276005999922\n",
      "6 | KEGG_cid : C00988#HMDB00816#C02287\n",
      "7 | KEGG_formula : C2H5O6P#C2H5O6P#C3H4O5\n",
      "8 | KEGG_name : 2-Phosphoglycolate;Phosphoglycolic acid ([M-H]-)#Phosphoglycolic acid (see KEGG C00988); 2-phosphonooxyacetic acid [carboxylic acid] ([M-H]-)#Hydroxymalonate;Tartronic acid;Hydroxymalonic acid;2-Hydroxymalonate;2-Hydroxymalonic acid;2-Tartronic acid ([M+Cl35]-)\n",
      "9 | uniqueID : \n",
      "10 | C13 : \n",
      "11 | O18 : \n",
      "12 | N15 : \n",
      "13 | S34 : \n",
      "14 | Mg25 : \n",
      "15 | Mg26 : \n",
      "16 | Fe54 : \n",
      "17 | Fe57 : \n",
      "18 | Ca44 : \n",
      "19 | Cl37 : \n",
      "20 | K41 : \n",
      "21 | KEGG Pathways : ko00630;ko01100#null#null\n",
      "22 | KEGG Pathways descriptions : ;Glyoxylate and dicarboxylate metabolism;Metabolic pathways#null#null\n",
      "23 | Compound in Organism(X) : null#null#null\n"
     ]
    }
   ],
   "source": [
    "headers = all_lines[-1].split('\\t')\n",
    "line_parts = all_lines[0].split('\\t')\n",
    "\n",
    "for i, h, p in zip(range(len(headers)), headers, line_parts):\n",
    "    print i, '|', h, ':', p"
   ]
  },
  {
   "cell_type": "markdown",
   "metadata": {
    "slideshow": {
     "slide_type": "slide"
    }
   },
   "source": [
    "Vamos extraír da linha 0\n",
    "\n",
    "- a massa do pico \"_raw mass_\", (campo 0)\n",
    "- a intensidade do pico, (campo 1)\n",
    "- os IDs dos compostos, (campo 6)\n",
    "- os nomes dos compostos (campo 8)\n",
    "- os IDs das vias (campo 21)\n",
    "- as descrições das vias (campo 22)\n",
    "\n",
    "Havendo vários compostos possíveis em cada pico, é usado como separador o caractere `#`. \n",
    "\n",
    "Podemos já separar a informação por composto."
   ]
  },
  {
   "cell_type": "code",
   "execution_count": 49,
   "metadata": {
    "collapsed": false,
    "slideshow": {
     "slide_type": "slide"
    }
   },
   "outputs": [
    {
     "name": "stdout",
     "output_type": "stream",
     "text": [
      "154.97517\n",
      "7.25775e+06\n",
      "['C00988', 'HMDB00816', 'C02287']\n",
      "['2-Phosphoglycolate;Phosphoglycolic acid ([M-H]-)', 'Phosphoglycolic acid (see KEGG C00988); 2-phosphonooxyacetic acid [carboxylic acid] ([M-H]-)', 'Hydroxymalonate;Tartronic acid;Hydroxymalonic acid;2-Hydroxymalonate;2-Hydroxymalonic acid;2-Tartronic acid ([M+Cl35]-)']\n",
      "['ko00630;ko01100', 'null', 'null']\n",
      "[';Glyoxylate and dicarboxylate metabolism;Metabolic pathways', 'null', 'null']\n"
     ]
    }
   ],
   "source": [
    "mass = line_parts[0]\n",
    "intensity = line_parts[1]\n",
    "cIds = line_parts[6].split('#')\n",
    "cnames = line_parts[8].split('#')\n",
    "pIds = line_parts[21].split('#')\n",
    "pdesc = line_parts[22].split('#')\n",
    "\n",
    "for info in [mass, intensity, cIds, cnames, pIds, pdesc]:\n",
    "    print info"
   ]
  },
  {
   "cell_type": "markdown",
   "metadata": {
    "slideshow": {
     "slide_type": "slide"
    }
   },
   "source": [
    "Para cada composto, podemos armazenar a informação num dicionário, e criar **uma lista com estes dicionários**."
   ]
  },
  {
   "cell_type": "code",
   "execution_count": 50,
   "metadata": {
    "collapsed": false,
    "slideshow": {
     "slide_type": "slide"
    }
   },
   "outputs": [
    {
     "name": "stdout",
     "output_type": "stream",
     "text": [
      "{'paths': ';Glyoxylate and dicarboxylate metabolism;Metabolic pathways', 'name': '2-Phosphoglycolate;Phosphoglycolic acid ([M-H]-)', 'cId': 'C00988', 'pathIds': 'ko00630;ko01100', 'intensity': '7.25775e+06', 'mass': '154.97517'}\n",
      "{'paths': 'null', 'name': 'Phosphoglycolic acid (see KEGG C00988); 2-phosphonooxyacetic acid [carboxylic acid] ([M-H]-)', 'cId': 'HMDB00816', 'pathIds': 'null', 'intensity': '7.25775e+06', 'mass': '154.97517'}\n",
      "{'paths': 'null', 'name': 'Hydroxymalonate;Tartronic acid;Hydroxymalonic acid;2-Hydroxymalonate;2-Hydroxymalonic acid;2-Tartronic acid ([M+Cl35]-)', 'cId': 'C02287', 'pathIds': 'null', 'intensity': '7.25775e+06', 'mass': '154.97517'}\n"
     ]
    }
   ],
   "source": [
    "compounds = []\n",
    "for cId, name, pathId, pathdesc in zip(cIds, cnames, pIds, pdesc):\n",
    "    c = {}\n",
    "    c['mass'] = mass\n",
    "    c['intensity'] = intensity\n",
    "    c['cId'] = cId\n",
    "    c['name']= name\n",
    "    c['pathIds'] = pathId\n",
    "    c['paths'] = pathdesc\n",
    "    compounds.append(c)\n",
    "    \n",
    "for c in compounds:\n",
    "    print c"
   ]
  },
  {
   "cell_type": "markdown",
   "metadata": {
    "slideshow": {
     "slide_type": "slide"
    }
   },
   "source": [
    "Quanto à informação relativa às vias em que cada composto pode estar envolvido, podemos reparar que:\n",
    "\n",
    "1. Um composto pde ter várias vias, separadas por `;`.\n",
    "\n",
    "2. Um composto pode não ter nenhuma via. neste caso, aparece a anotação \"null\".\n",
    "\n",
    "Vamos optar por extarír apenas compostos para os quais existe pelo menos uma via. Vamos **ignorar os outros**."
   ]
  },
  {
   "cell_type": "code",
   "execution_count": 51,
   "metadata": {
    "collapsed": false,
    "slideshow": {
     "slide_type": "slide"
    }
   },
   "outputs": [
    {
     "name": "stdout",
     "output_type": "stream",
     "text": [
      "{'paths': ';Glyoxylate and dicarboxylate metabolism;Metabolic pathways', 'name': '2-Phosphoglycolate;Phosphoglycolic acid ([M-H]-)', 'cId': 'C00988', 'pathIds': 'ko00630;ko01100', 'intensity': '7.25775e+06', 'mass': '154.97517'}\n"
     ]
    }
   ],
   "source": [
    "compounds = [c for c in compounds if c['paths']!='null']\n",
    "for c in compounds:\n",
    "    print c"
   ]
  },
  {
   "cell_type": "markdown",
   "metadata": {
    "slideshow": {
     "slide_type": "slide"
    }
   },
   "source": [
    "Finalmente, vamos transformar a informação relativa às vias (quer os IDs quer as descrições) em **listas**.\n",
    "\n",
    "Repare-se que ainda são _strings_ e que usam como separador o `;` para delimitar várias vias."
   ]
  },
  {
   "cell_type": "code",
   "execution_count": 52,
   "metadata": {
    "collapsed": false
   },
   "outputs": [
    {
     "name": "stdout",
     "output_type": "stream",
     "text": [
      "{'paths': ['Glyoxylate and dicarboxylate metabolism', 'Metabolic pathways'], 'name': '2-Phosphoglycolate;Phosphoglycolic acid ([M-H]-)', 'cId': 'C00988', 'pathIds': ['ko00630', 'ko01100'], 'intensity': '7.25775e+06', 'mass': '154.97517'}\n"
     ]
    }
   ],
   "source": [
    "for c in compounds:\n",
    "    paths = c['paths'].split(';')\n",
    "    # pode haver strings vazias!\n",
    "    # vamos ignorá-las\n",
    "    paths = [p for p in paths if p!='']\n",
    "    c['paths'] = paths\n",
    "    \n",
    "    # tudo numa só linha, para os pathIds:\n",
    "    c['pathIds'] = [p for p in c['pathIds'].split(';') if p!='']\n",
    "\n",
    "for c in compounds:\n",
    "    print c"
   ]
  },
  {
   "cell_type": "markdown",
   "metadata": {
    "slideshow": {
     "slide_type": "slide"
    }
   },
   "source": [
    "Agora **tudo junto, aplicando ao ficheiro inteiro**. Para controlo, podemos contar os compostos obtidos."
   ]
  },
  {
   "cell_type": "code",
   "execution_count": 53,
   "metadata": {
    "collapsed": false,
    "slideshow": {
     "slide_type": "slide"
    }
   },
   "outputs": [
    {
     "name": "stdout",
     "output_type": "stream",
     "text": [
      "São 421 compostos\n"
     ]
    }
   ],
   "source": [
    "name = 'masses.annotated.reformat.tsv'\n",
    "with open(name) as a:\n",
    "    all_lines = [line.strip() for line in a]\n",
    "\n",
    "compounds = []\n",
    "for line in all_lines[:-1]:\n",
    "    line_parts = line.split('\\t')\n",
    "    \n",
    "    mass = line_parts[0]\n",
    "    intensity = line_parts[1]\n",
    "    cIds = line_parts[6].split('#')\n",
    "    cnames = line_parts[8].split('#')\n",
    "    pIds = line_parts[21].split('#')\n",
    "    pdescs = line_parts[22].split('#')\n",
    "    \n",
    "    for cId, name, pId, desc in zip(cIds, cnames, pIds, pdescs):\n",
    "        c = {}\n",
    "        if pId != 'null':\n",
    "            c['cId'] = cId\n",
    "            c['name']= name\n",
    "            c['mass'] = mass\n",
    "            c['intensity'] = intensity\n",
    "            c['paths'] = [p for p in desc.split(';') if p!='']\n",
    "            c['pathIds'] = [p for p in pId.split(';') if p!='']\n",
    "            compounds.append(c)\n",
    "\n",
    "print 'São', len(compounds), 'compostos'"
   ]
  },
  {
   "cell_type": "markdown",
   "metadata": {
    "slideshow": {
     "slide_type": "slide"
    }
   },
   "source": [
    "### Utilização da informação"
   ]
  },
  {
   "cell_type": "markdown",
   "metadata": {},
   "source": [
    "Agora com esta **lista de dicionários** chamada `compounds` disponível podemos responder a várias questões:"
   ]
  },
  {
   "cell_type": "markdown",
   "metadata": {
    "slideshow": {
     "slide_type": "slide"
    }
   },
   "source": [
    "Exemplo: Como obter uma tabela que associe (ID de composto) `---->` (via)?"
   ]
  },
  {
   "cell_type": "code",
   "execution_count": 54,
   "metadata": {
    "collapsed": false,
    "slideshow": {
     "slide_type": "-"
    }
   },
   "outputs": [
    {
     "name": "stdout",
     "output_type": "stream",
     "text": [
      "C00988 ----> Glyoxylate and dicarboxylate metabolism\n",
      "C00988 ----> Metabolic pathways\n",
      "C16652 ----> Drug metabolism - cytochrome P450\n",
      "C16655 ----> Drug metabolism - cytochrome P450\n",
      "C01088 ----> Pantothenate and CoA biosynthesis\n",
      "C01989 ----> Glyoxylate and dicarboxylate metabolism\n",
      "C02488 ----> Pyruvate metabolism\n",
      "C02991 ----> Fructose and mannose metabolism\n",
      "C03652 ----> Nicotinate and nicotinamide metabolism\n",
      "C03979 ----> Fructose and mannose metabolism\n",
      "C06159 ----> Fructose and mannose metabolism\n",
      "C16390 ----> Nicotinate and nicotinamide metabolism\n",
      "C00079 ----> Phenylalanine metabolism\n",
      "C00079 ----> Phenylalanine, tyrosine and tryptophan biosynthesis\n",
      "C00079 ----> Phenylpropanoid biosynthesis\n",
      "C00079 ----> Tropane, piperidine and pyridine alkaloid biosynthesis\n",
      "C00079 ----> Glucosinolate biosynthesis\n",
      "C00079 ----> Aminoacyl-tRNA biosynthesis\n",
      "C00079 ----> Biosynthesis of phenylpropanoids\n",
      "C00079 ----> Biosynthesis of alkaloids derived from shikimate pathway\n",
      "C00079 ----> Biosynthesis of alkaloids derived from ornithine, lysine and nicotinic acid\n",
      "C00079 ----> Biosynthesis of plant hormones\n",
      "C00079 ----> Metabolic pathways\n",
      "C00079 ----> ABC transporters\n",
      "C00079 ----> Biosynthesis of plant secondary metabolites\n",
      "C02265 ----> Phenylalanine metabolism\n",
      "C00079 ----> Phenylalanine metabolism\n",
      "C00079 ----> Phenylalanine, tyrosine and tryptophan biosynthesis\n",
      "C00079 ----> Phenylpropanoid biosynthesis\n",
      "C00079 ----> Tropane, piperidine and pyridine alkaloid biosynthesis\n",
      "C00079 ----> Glucosinolate biosynthesis\n",
      "C00079 ----> Aminoacyl-tRNA biosynthesis\n",
      "C00079 ----> Biosynthesis of phenylpropanoids\n",
      "C00079 ----> Biosynthesis of alkaloids derived from shikimate pathway\n",
      "C00079 ----> Biosynthesis of alkaloids derived from ornithine, lysine and nicotinic acid\n",
      "C00079 ----> Biosynthesis of plant hormones\n",
      "C00079 ----> Metabolic pathways\n",
      "C00079 ----> ABC transporters\n",
      "C00079 ----> Biosynthesis of plant secondary metabolites\n",
      "C02265 ----> Phenylalanine metabolism\n",
      "C02362 ----> Alanine, aspartate and glutamate metabolism\n",
      "C02362 ----> Tetracycline biosynthesis\n",
      "C05840 ----> Nicotinate and nicotinamide metabolism\n",
      "C05840 ----> Metabolic pathways\n",
      "C00489 ----> Fatty acid metabolism\n",
      "C00489 ----> Lysine degradation\n",
      "C00900 ----> Butanoate metabolism\n",
      "C00900 ----> Pantothenate and CoA biosynthesis\n",
      "C03589 ----> Phenylalanine metabolism\n",
      "C03589 ----> Benzoate degradation via hydroxylation\n",
      "C03589 ----> Biphenyl degradation\n",
      "C03589 ----> Toluene and xylene degradation\n",
      "C03589 ----> 1,4-Dichlorobenzene degradation\n",
      "C03589 ----> Fluorene degradation\n",
      "C03589 ----> Carbazole degradation\n",
      "C03589 ----> Ethylbenzene degradation\n",
      "C03589 ----> Styrene degradation\n",
      "C03589 ----> Metabolic pathways\n",
      "C04106 ----> Vitamin B6 metabolism\n"
     ]
    }
   ],
   "source": [
    "# Só para os primeiros 20 compostos:\n",
    "for c in compounds[:21]:\n",
    "    for p in c['paths']:\n",
    "        print c['cId'], '---->', p"
   ]
  },
  {
   "cell_type": "markdown",
   "metadata": {
    "slideshow": {
     "slide_type": "slide"
    }
   },
   "source": [
    "Exemplo: Como obter uma **lista** com nomes das vias, mas sem repetições?"
   ]
  },
  {
   "cell_type": "code",
   "execution_count": 55,
   "metadata": {
    "collapsed": false
   },
   "outputs": [
    {
     "name": "stdout",
     "output_type": "stream",
     "text": [
      "Glyoxylate and dicarboxylate metabolism\n",
      "Metabolic pathways\n",
      "Drug metabolism - cytochrome P450\n",
      "Pantothenate and CoA biosynthesis\n",
      "Pyruvate metabolism\n",
      "Fructose and mannose metabolism\n",
      "Nicotinate and nicotinamide metabolism\n",
      "Phenylalanine metabolism\n",
      "Phenylalanine, tyrosine and tryptophan biosynthesis\n",
      "Phenylpropanoid biosynthesis\n",
      "Tropane, piperidine and pyridine alkaloid biosynthesis\n",
      "Glucosinolate biosynthesis\n",
      "Aminoacyl-tRNA biosynthesis\n",
      "Biosynthesis of phenylpropanoids\n",
      "Biosynthesis of alkaloids derived from shikimate pathway\n",
      "Biosynthesis of alkaloids derived from ornithine, lysine and nicotinic acid\n",
      "Biosynthesis of plant hormones\n",
      "ABC transporters\n",
      "Biosynthesis of plant secondary metabolites\n",
      "Alanine, aspartate and glutamate metabolism\n",
      "Tetracycline biosynthesis\n"
     ]
    }
   ],
   "source": [
    "all_paths = []\n",
    "for c in compounds:\n",
    "    for p in c['paths']:\n",
    "        if p not in all_paths:\n",
    "            all_paths.append(p)\n",
    "\n",
    "# AS primeiras 20 vias:\n",
    "for p in all_paths[:21]:\n",
    "    print p"
   ]
  },
  {
   "cell_type": "markdown",
   "metadata": {
    "slideshow": {
     "slide_type": "slide"
    }
   },
   "source": [
    "Exemplo: Como obter um **dicionário** com os nomes das **vias como chaves** e o **numero de vezes que aparecem como valores**?"
   ]
  },
  {
   "cell_type": "code",
   "execution_count": 56,
   "metadata": {
    "collapsed": false
   },
   "outputs": [
    {
     "name": "stdout",
     "output_type": "stream",
     "text": [
      "São 150 vias\n",
      "\n",
      "Algumas contagens:\n",
      "Bacterial chemotaxis ---> 2 compostos\n",
      "Biosynthesis of alkaloids derived from histidine and purine ---> 8 compostos\n",
      "Geraniol degradation ---> 1 compostos\n",
      "Biosynthesis of plant hormones ---> 16 compostos\n",
      "Biosynthesis of unsaturated fatty acids ---> 33 compostos\n",
      "Long-term depression ---> 1 compostos\n"
     ]
    }
   ],
   "source": [
    "pcounts = {}\n",
    "for c in compounds:\n",
    "    for p in c['paths']:\n",
    "        if p in pcounts:\n",
    "            pcounts[p] = pcounts[p] + 1\n",
    "        else:\n",
    "            pcounts[p] = 1\n",
    "\n",
    "print 'São', len(pcounts), 'vias'\n",
    "\n",
    "print '\\nAlgumas contagens:'\n",
    "\n",
    "for i, k in zip(range(6), pcounts):\n",
    "    print k, '--->', pcounts[k], 'compostos'"
   ]
  },
  {
   "cell_type": "markdown",
   "metadata": {},
   "source": [
    "Sendo um dicionário, não se aplica a noção de ordem e é evidente que as vias não estão ordenadas segundo as contagens de compostos.\n",
    "\n",
    "Podemos obter as vias por ordem decrescente de compostos?\n",
    "\n",
    "Para, por exemplo, obter **as 20 vias mais abundantes** em compostos?"
   ]
  },
  {
   "cell_type": "markdown",
   "metadata": {
    "slideshow": {
     "slide_type": "slide"
    }
   },
   "source": [
    "Uma vez que os dicionários não estão associados a uma \"ordenação\", temos de trabalhar com listas.\n",
    "\n",
    "Estratégia:\n",
    "\n",
    "- Criar uma lista com os pares (contagens, nome da via)\n",
    "- Ordenar a lista"
   ]
  },
  {
   "cell_type": "code",
   "execution_count": 57,
   "metadata": {
    "collapsed": false
   },
   "outputs": [
    {
     "name": "stdout",
     "output_type": "stream",
     "text": [
      "Controlo: 5 primeiros elementos, lista desordenada:\n",
      "Bacterial chemotaxis ---> 2\n",
      "Biosynthesis of alkaloids derived from histidine and purine ---> 8\n",
      "Geraniol degradation ---> 1\n",
      "Biosynthesis of plant hormones ---> 16\n",
      "Biosynthesis of unsaturated fatty acids ---> 33\n"
     ]
    }
   ],
   "source": [
    "pcounts_list = [(pcounts[k], k) for k in pcounts]\n",
    "print 'Controlo: 5 primeiros elementos, lista desordenada:'\n",
    "for c, p in pcounts_list[:5]:\n",
    "    print p, '--->', c"
   ]
  },
  {
   "cell_type": "code",
   "execution_count": 58,
   "metadata": {
    "collapsed": false,
    "slideshow": {
     "slide_type": "slide"
    }
   },
   "outputs": [
    {
     "name": "stdout",
     "output_type": "stream",
     "text": [
      "\n",
      "As 20 vias com mais compostos:\n",
      "Metabolic pathways ---> 134\n",
      "alpha-Linolenic acid metabolism ---> 42\n",
      "Biosynthesis of plant secondary metabolites ---> 34\n",
      "Biosynthesis of unsaturated fatty acids ---> 33\n",
      "Linoleic acid metabolism ---> 25\n",
      "Steroid biosynthesis ---> 21\n",
      "Galactose metabolism ---> 21\n",
      "Diterpenoid biosynthesis ---> 20\n",
      "Biosynthesis of terpenoids and steroids ---> 18\n",
      "Starch and sucrose metabolism ---> 17\n",
      "Fructose and mannose metabolism ---> 17\n",
      "Ascorbate and aldarate metabolism ---> 17\n",
      "Phosphotransferase system (PTS) ---> 16\n",
      "Fatty acid biosynthesis ---> 16\n",
      "Biosynthesis of plant hormones ---> 16\n",
      "Glycolysis / Gluconeogenesis ---> 15\n",
      "Biosynthesis of phenylpropanoids ---> 15\n",
      "Biosynthesis of alkaloids derived from shikimate pathway ---> 15\n",
      "Insect hormone biosynthesis ---> 14\n",
      "ABC transporters ---> 14\n"
     ]
    }
   ],
   "source": [
    "pcounts_list.sort(reverse=True)\n",
    "# Reverse=True indica que a ordenação é por ordem decrescente\n",
    "\n",
    "print '\\nAs 20 vias com mais compostos:'\n",
    "for c, p in pcounts_list[:20]:\n",
    "    print p, '--->', c"
   ]
  },
  {
   "cell_type": "markdown",
   "metadata": {
    "slideshow": {
     "slide_type": "slide"
    }
   },
   "source": [
    "Finalmente:\n",
    "\n",
    "Escrever um ficheiro, chamado `compostos.txt` com vários campos, separados por `\\t` e um compostos por linha.\n",
    "\n",
    "Os campos são:\n",
    "\n",
    "- A massa (_raw mass_)\n",
    "- A intensidade\n",
    "- O ID do composto\n",
    "- O nome do composto (havendo vários nomes, usar apenas o primeiro)\n",
    "- A descrição das vias, separadas por `;`\n",
    "- Os IDs das vias, separadas por `;`.\n",
    "\n",
    "Só para os compostos que têm pelo menos uma via associada, claro."
   ]
  },
  {
   "cell_type": "code",
   "execution_count": 59,
   "metadata": {
    "collapsed": false,
    "slideshow": {
     "slide_type": "slide"
    }
   },
   "outputs": [],
   "source": [
    "file_name = 'compostos.txt'\n",
    "\n",
    "with open(file_name, 'w') as a:\n",
    "    for c in compounds:\n",
    "        campos = []\n",
    "        campos.append(c['mass'])\n",
    "        campos.append(c['intensity'])\n",
    "        campos.append(c['cId'])\n",
    "        campos.append(c['name'].split(';')[0])\n",
    "        campos.append(';'.join(c['paths']))\n",
    "        campos.append(';'.join(c['pathIds']))\n",
    "        # finalmente, juntar todos os campos\n",
    "        # usando \\t como separador\n",
    "        # e escrever no ficheiro \"a\"\n",
    "        print >> a, '\\t'.join(campos)"
   ]
  },
  {
   "cell_type": "code",
   "execution_count": 60,
   "metadata": {
    "collapsed": false,
    "slideshow": {
     "slide_type": "slide"
    }
   },
   "outputs": [
    {
     "name": "stdout",
     "output_type": "stream",
     "text": [
      "154.97517\t7.25775e+06\tC00988\t2-Phosphoglycolate\tGlyoxylate and dicarboxylate metabolism;Metabolic pathways\tko00630;ko01100\n",
      "157.08700\t1.21735e+06\tC16652\t3-Oxovalproic acid\tDrug metabolism - cytochrome P450\tko00982\n",
      "157.08700\t1.21735e+06\tC16655\t2-n-Propyl-4-oxopentanoic acid\tDrug metabolism - cytochrome P450\tko00982\n",
      "161.04552\t8.01413e+06\tC01088\t(R)-3,3-Dimethylmalate ([M-H]-)\tPantothenate and CoA biosynthesis\tko00770\n",
      "161.04552\t8.01413e+06\tC01989\t3-Ethylmalate ([M-H]-)\tGlyoxylate and dicarboxylate metabolism\tko00630\n",
      "161.04552\t8.01413e+06\tC02488\t(R)-2-Ethylmalate ([M-H]-)\tPyruvate metabolism\tko00620\n",
      "161.04552\t8.01413e+06\tC02991\tL-Rhamnono-1,4-lactone\tFructose and mannose metabolism\tko00051\n",
      "161.04552\t8.01413e+06\tC03652\t(2R,3S)-2,3-Dimethylmalate ([M-H]-)\tNicotinate and nicotinamide metabolism\tko00760\n",
      "161.04552\t8.01413e+06\tC03979\t2-Dehydro-3-deoxy-L-rhamnonate ([M-H]-)\tFructose and mannose metabolism\tko00051\n",
      "161.04552\t8.01413e+06\tC06159\t2-Dehydro-3-deoxy-D-fuconate ([M-H]-)\tFructose and mannose metabolism\tko00051\n",
      "161.04552\t8.01413e+06\tC16390\t(S)-2-(Hydroxymethyl)glutarate ([M-H]-)\tNicotinate and nicotinamide metabolism\tko00760\n",
      "164.07167\t2.16011e+07\tC00079\tL-Phenylalanine\tPhenylalanine metabolism;Phenylalanine, tyrosine and tryptophan biosynthesis;Phenylpropanoid biosynthesis;Tropane, piperidine and pyridine alkaloid biosynthesis;Glucosinolate biosynthesis;Aminoacyl-tRNA biosynthesis;Biosynthesis of phenylpropanoids;Biosynthesis of alkaloids derived from shikimate pathway;Biosynthesis of alkaloids derived from ornithine, lysine and nicotinic acid;Biosynthesis of plant hormones;Metabolic pathways;ABC transporters;Biosynthesis of plant secondary metabolites\tko00360;ko00400;ko00940;ko00960;ko00966;ko00970;ko01061;ko01063;ko01064;ko01070;ko01100;ko02010;map01060\n"
     ]
    }
   ],
   "source": [
    "# verificar se correu bem...\n",
    "file_name = 'compostos.txt'\n",
    "\n",
    "with open(file_name) as a:\n",
    "    for i, line in enumerate(a):\n",
    "        line = line.strip()\n",
    "        print line\n",
    "        if i > 10:\n",
    "            break"
   ]
  }
 ],
 "metadata": {
  "kernelspec": {
   "display_name": "Python 2",
   "language": "python",
   "name": "python2"
  },
  "language_info": {
   "codemirror_mode": {
    "name": "ipython",
    "version": 2
   },
   "file_extension": ".py",
   "mimetype": "text/x-python",
   "name": "python",
   "nbconvert_exporter": "python",
   "pygments_lexer": "ipython2",
   "version": "2.7.11"
  }
 },
 "nbformat": 4,
 "nbformat_minor": 0
}
