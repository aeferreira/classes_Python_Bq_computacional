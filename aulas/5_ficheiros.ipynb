{
 "cells": [
  {
   "cell_type": "markdown",
   "metadata": {
    "slideshow": {
     "slide_type": "slide"
    }
   },
   "source": [
    "# Ficheiros de texto"
   ]
  },
  {
   "cell_type": "markdown",
   "metadata": {
    "slideshow": {
     "slide_type": "slide"
    }
   },
   "source": [
    "## Leitura"
   ]
  },
  {
   "cell_type": "markdown",
   "metadata": {},
   "source": [
    "O modelo mais simples é ler todo o conteúdo de um ficheiro para uma _string_:\n",
    "\n",
    "![](./images/fichs.png)"
   ]
  },
  {
   "cell_type": "markdown",
   "metadata": {},
   "source": [
    "A leitura de um ficheiro segundo este modelo é feito através da função `.read()`.\n",
    "\n",
    "Mas o processo é um pouco mais complicado do que o uso simples de uma função.\n",
    "\n",
    "O acesso (programático) a um ficheiro existente num computador requer que num programa se indique que esse acesso vai começar, a *abertura* de um ficheiro e que o acesso vai terminar, o *fecho* de um ficheiro."
   ]
  },
  {
   "cell_type": "markdown",
   "metadata": {
    "slideshow": {
     "slide_type": "slide"
    }
   },
   "source": [
    "### `.read()`, com `open()` e `close()` explícitos"
   ]
  },
  {
   "cell_type": "code",
   "execution_count": 1,
   "metadata": {
    "collapsed": false,
    "slideshow": {
     "slide_type": "slide"
    }
   },
   "outputs": [
    {
     "name": "stdout",
     "output_type": "stream",
     "text": [
      "<class 'str'>\n",
      "A sequência, em FASTA é\n",
      ">gi|398366315|ref|NP_011770.3| Eno1p [Saccharomyces cerevisiae S288c]\n",
      "MAVSKVYARSVYDSRGNPTVEVELTTEKGVFRSIVPSGASTGVHEALEMRDGDKSKWMGKGVLHAVKNVN\n",
      "DVIAPAFVKANIDVKDQKAVDDFLISLDGTANKSKLGANAILGVSLAASRAAAAEKNVPLYKHLADLSKS\n",
      "KTSPYVLPVPFLNVLNGGSHAGGALALQEFMIAPTGAKTFAEALRIGSEVYHNLKSLTKKRYGASAGNVG\n",
      "DEGGVAPNIQTAEEALDLIVDAIKAAGHDGKIKIGLDCASSEFFKDGKYDLDFKNPNSDKSKWLTGPQLA\n",
      "DLYHSLMKRYPIVSIEDPFAEDDWEAWSHFFKTAGIQIVADDLTVTNPKRIATAIEKKAADALLLKVNQI\n",
      "GTLSESIKAAQDSFAAGWGVMVSHRSGETEDTFIADLVVGLRTGQIKTGAPARSERLAKLNQLLRIEEEL\n",
      "GDNAVFAGENFHHGDKL\n",
      "\n",
      "\n"
     ]
    }
   ],
   "source": [
    "a = open('eno1.fasta')\n",
    "seq = a.read()\n",
    "a.close()\n",
    "\n",
    "print(type(seq))\n",
    "\n",
    "print('A sequência, em FASTA é')\n",
    "print(seq)"
   ]
  },
  {
   "cell_type": "markdown",
   "metadata": {
    "slideshow": {
     "slide_type": "slide"
    }
   },
   "source": [
    "### `.read()`, dentro do bloco de um comando `with`"
   ]
  },
  {
   "cell_type": "markdown",
   "metadata": {
    "slideshow": {
     "slide_type": "slide"
    }
   },
   "source": [
    "Numa versão mais \"moderna\" podemos abrir e **automaticamente fechar** o ficheiro é utilizar o comando `with`:"
   ]
  },
  {
   "cell_type": "code",
   "execution_count": 2,
   "metadata": {
    "collapsed": false
   },
   "outputs": [
    {
     "name": "stdout",
     "output_type": "stream",
     "text": [
      "A sequência, em FASTA é\n",
      ">gi|398366315|ref|NP_011770.3| Eno1p [Saccharomyces cerevisiae S288c]\n",
      "MAVSKVYARSVYDSRGNPTVEVELTTEKGVFRSIVPSGASTGVHEALEMRDGDKSKWMGKGVLHAVKNVN\n",
      "DVIAPAFVKANIDVKDQKAVDDFLISLDGTANKSKLGANAILGVSLAASRAAAAEKNVPLYKHLADLSKS\n",
      "KTSPYVLPVPFLNVLNGGSHAGGALALQEFMIAPTGAKTFAEALRIGSEVYHNLKSLTKKRYGASAGNVG\n",
      "DEGGVAPNIQTAEEALDLIVDAIKAAGHDGKIKIGLDCASSEFFKDGKYDLDFKNPNSDKSKWLTGPQLA\n",
      "DLYHSLMKRYPIVSIEDPFAEDDWEAWSHFFKTAGIQIVADDLTVTNPKRIATAIEKKAADALLLKVNQI\n",
      "GTLSESIKAAQDSFAAGWGVMVSHRSGETEDTFIADLVVGLRTGQIKTGAPARSERLAKLNQLLRIEEEL\n",
      "GDNAVFAGENFHHGDKL\n",
      "\n",
      "\n"
     ]
    }
   ],
   "source": [
    "with open('eno1.fasta') as a:\n",
    "    seq = a.read()\n",
    "\n",
    "print('A sequência, em FASTA é')\n",
    "print(seq)"
   ]
  },
  {
   "cell_type": "markdown",
   "metadata": {},
   "source": [
    "O comando `with` faz o ficheiro permanecer *aberto* até ao fim do \"bloco\", (também aqui) indicado pelo alinhamento mais à direita de um ou mais comandos a seguir à linha em que se encontra o `with`. Quando termina o bloco o ficheiro é fechado sem usar a função `close()`."
   ]
  },
  {
   "cell_type": "markdown",
   "metadata": {
    "slideshow": {
     "slide_type": "slide"
    }
   },
   "source": [
    "Além de `read()`, em que todo o conteúdo de um ficheiro é lido para uma _string_, existem outras maneiras de ler um ficheiro."
   ]
  },
  {
   "cell_type": "markdown",
   "metadata": {
    "slideshow": {
     "slide_type": "slide"
    }
   },
   "source": [
    "### `.readlines()`"
   ]
  },
  {
   "cell_type": "markdown",
   "metadata": {},
   "source": [
    "A função `readlines()` lê e separa **as linhas** de um ficheiro para uma lista:"
   ]
  },
  {
   "cell_type": "code",
   "execution_count": 3,
   "metadata": {
    "collapsed": false
   },
   "outputs": [
    {
     "name": "stdout",
     "output_type": "stream",
     "text": [
      "['>gi|398366315|ref|NP_011770.3| Eno1p [Saccharomyces cerevisiae S288c]\\n', 'MAVSKVYARSVYDSRGNPTVEVELTTEKGVFRSIVPSGASTGVHEALEMRDGDKSKWMGKGVLHAVKNVN\\n', 'DVIAPAFVKANIDVKDQKAVDDFLISLDGTANKSKLGANAILGVSLAASRAAAAEKNVPLYKHLADLSKS\\n', 'KTSPYVLPVPFLNVLNGGSHAGGALALQEFMIAPTGAKTFAEALRIGSEVYHNLKSLTKKRYGASAGNVG\\n', 'DEGGVAPNIQTAEEALDLIVDAIKAAGHDGKIKIGLDCASSEFFKDGKYDLDFKNPNSDKSKWLTGPQLA\\n', 'DLYHSLMKRYPIVSIEDPFAEDDWEAWSHFFKTAGIQIVADDLTVTNPKRIATAIEKKAADALLLKVNQI\\n', 'GTLSESIKAAQDSFAAGWGVMVSHRSGETEDTFIADLVVGLRTGQIKTGAPARSERLAKLNQLLRIEEEL\\n', 'GDNAVFAGENFHHGDKL\\n', '\\n']\n"
     ]
    }
   ],
   "source": [
    "with open('eno1.fasta') as a:\n",
    "    seq = a.readlines()\n",
    "\n",
    "print(seq)"
   ]
  },
  {
   "cell_type": "markdown",
   "metadata": {
    "slideshow": {
     "slide_type": "slide"
    }
   },
   "source": [
    "O que são os `\\n` no fim das _strings_?"
   ]
  },
  {
   "cell_type": "markdown",
   "metadata": {},
   "source": [
    "**Numa string,** `\\n` **indica a mudança de linha**. (Conta como apenas **1** caractere).\n",
    "\n",
    "Neste caso eles aparecem porque no ficheiro original há mudanças de linha. "
   ]
  },
  {
   "cell_type": "markdown",
   "metadata": {
    "slideshow": {
     "slide_type": "slide"
    }
   },
   "source": [
    "Muitas vezes, é necessário elimina-los. Para isso podemos usar a função `.strip()`:"
   ]
  },
  {
   "cell_type": "code",
   "execution_count": 4,
   "metadata": {
    "collapsed": false
   },
   "outputs": [
    {
     "name": "stdout",
     "output_type": "stream",
     "text": [
      "['>gi|398366315|ref|NP_011770.3| Eno1p [Saccharomyces cerevisiae S288c]', 'MAVSKVYARSVYDSRGNPTVEVELTTEKGVFRSIVPSGASTGVHEALEMRDGDKSKWMGKGVLHAVKNVN', 'DVIAPAFVKANIDVKDQKAVDDFLISLDGTANKSKLGANAILGVSLAASRAAAAEKNVPLYKHLADLSKS', 'KTSPYVLPVPFLNVLNGGSHAGGALALQEFMIAPTGAKTFAEALRIGSEVYHNLKSLTKKRYGASAGNVG', 'DEGGVAPNIQTAEEALDLIVDAIKAAGHDGKIKIGLDCASSEFFKDGKYDLDFKNPNSDKSKWLTGPQLA', 'DLYHSLMKRYPIVSIEDPFAEDDWEAWSHFFKTAGIQIVADDLTVTNPKRIATAIEKKAADALLLKVNQI', 'GTLSESIKAAQDSFAAGWGVMVSHRSGETEDTFIADLVVGLRTGQIKTGAPARSERLAKLNQLLRIEEEL', 'GDNAVFAGENFHHGDKL', '']\n"
     ]
    }
   ],
   "source": [
    "with open('eno1.fasta') as a:\n",
    "    seq = a.readlines()\n",
    "\n",
    "seq = [linha.strip() for linha in seq]\n",
    "print(seq)"
   ]
  },
  {
   "cell_type": "markdown",
   "metadata": {
    "slideshow": {
     "slide_type": "slide"
    }
   },
   "source": [
    "Ou, de uma forma sucinta, usando uma lista em compreensão:"
   ]
  },
  {
   "cell_type": "code",
   "execution_count": 5,
   "metadata": {
    "collapsed": false
   },
   "outputs": [
    {
     "name": "stdout",
     "output_type": "stream",
     "text": [
      "['>gi|398366315|ref|NP_011770.3| Eno1p [Saccharomyces cerevisiae S288c]', 'MAVSKVYARSVYDSRGNPTVEVELTTEKGVFRSIVPSGASTGVHEALEMRDGDKSKWMGKGVLHAVKNVN', 'DVIAPAFVKANIDVKDQKAVDDFLISLDGTANKSKLGANAILGVSLAASRAAAAEKNVPLYKHLADLSKS', 'KTSPYVLPVPFLNVLNGGSHAGGALALQEFMIAPTGAKTFAEALRIGSEVYHNLKSLTKKRYGASAGNVG', 'DEGGVAPNIQTAEEALDLIVDAIKAAGHDGKIKIGLDCASSEFFKDGKYDLDFKNPNSDKSKWLTGPQLA', 'DLYHSLMKRYPIVSIEDPFAEDDWEAWSHFFKTAGIQIVADDLTVTNPKRIATAIEKKAADALLLKVNQI', 'GTLSESIKAAQDSFAAGWGVMVSHRSGETEDTFIADLVVGLRTGQIKTGAPARSERLAKLNQLLRIEEEL', 'GDNAVFAGENFHHGDKL', '']\n"
     ]
    }
   ],
   "source": [
    "with open('eno1.fasta') as a:\n",
    "    seq = [linha.strip() for linha in a.readlines()]\n",
    "print(seq)"
   ]
  },
  {
   "cell_type": "markdown",
   "metadata": {
    "slideshow": {
     "slide_type": "slide"
    }
   },
   "source": [
    "Com ficheiros muito grandes, a leitura pelas funções `.read()` e `.readlines()` pode esgotar a memória de um computador e \"congelar\" um programa."
   ]
  },
  {
   "cell_type": "markdown",
   "metadata": {},
   "source": [
    "Existe uma terceira maneira de ler um ficheiro (que não traz problemas com ficheiros grandes):"
   ]
  },
  {
   "cell_type": "markdown",
   "metadata": {},
   "source": [
    "### Iteração de ficheiros com `for`."
   ]
  },
  {
   "cell_type": "markdown",
   "metadata": {
    "slideshow": {
     "slide_type": "slide"
    }
   },
   "source": [
    "**A iteração de um ficheiro \"percorre\" as linhas do ficheiro**"
   ]
  },
  {
   "cell_type": "code",
   "execution_count": 6,
   "metadata": {
    "collapsed": false
   },
   "outputs": [
    {
     "name": "stdout",
     "output_type": "stream",
     "text": [
      "Linha: >gi|398366315|ref|NP_011770.3| Eno1p [Saccharomyces cerevisiae S288c]\n",
      "Linha: MAVSKVYARSVYDSRGNPTVEVELTTEKGVFRSIVPSGASTGVHEALEMRDGDKSKWMGKGVLHAVKNVN\n",
      "Linha: DVIAPAFVKANIDVKDQKAVDDFLISLDGTANKSKLGANAILGVSLAASRAAAAEKNVPLYKHLADLSKS\n",
      "Linha: KTSPYVLPVPFLNVLNGGSHAGGALALQEFMIAPTGAKTFAEALRIGSEVYHNLKSLTKKRYGASAGNVG\n",
      "Linha: DEGGVAPNIQTAEEALDLIVDAIKAAGHDGKIKIGLDCASSEFFKDGKYDLDFKNPNSDKSKWLTGPQLA\n",
      "Linha: DLYHSLMKRYPIVSIEDPFAEDDWEAWSHFFKTAGIQIVADDLTVTNPKRIATAIEKKAADALLLKVNQI\n",
      "Linha: GTLSESIKAAQDSFAAGWGVMVSHRSGETEDTFIADLVVGLRTGQIKTGAPARSERLAKLNQLLRIEEEL\n",
      "Linha: GDNAVFAGENFHHGDKL\n",
      "Linha: \n"
     ]
    }
   ],
   "source": [
    "with open('eno1.fasta') as a:\n",
    "    for linha in a:\n",
    "        linha = linha.strip()\n",
    "        print('Linha:', linha)"
   ]
  },
  {
   "cell_type": "markdown",
   "metadata": {},
   "source": [
    "Podemos até usar a função `enumerate()` com um ficheiro. São gerados os pares de valores\n",
    "\n",
    "`(num linha, linha)`."
   ]
  },
  {
   "cell_type": "code",
   "execution_count": 7,
   "metadata": {
    "collapsed": false,
    "slideshow": {
     "slide_type": "slide"
    }
   },
   "outputs": [
    {
     "name": "stdout",
     "output_type": "stream",
     "text": [
      "linha 0 : >gi|398366315|ref|NP_011770.3| Eno1p [Saccharomyces cerevisiae S288c]\n",
      "linha 1 : MAVSKVYARSVYDSRGNPTVEVELTTEKGVFRSIVPSGASTGVHEALEMRDGDKSKWMGKGVLHAVKNVN\n",
      "linha 2 : DVIAPAFVKANIDVKDQKAVDDFLISLDGTANKSKLGANAILGVSLAASRAAAAEKNVPLYKHLADLSKS\n",
      "linha 3 : KTSPYVLPVPFLNVLNGGSHAGGALALQEFMIAPTGAKTFAEALRIGSEVYHNLKSLTKKRYGASAGNVG\n",
      "linha 4 : DEGGVAPNIQTAEEALDLIVDAIKAAGHDGKIKIGLDCASSEFFKDGKYDLDFKNPNSDKSKWLTGPQLA\n",
      "linha 5 : DLYHSLMKRYPIVSIEDPFAEDDWEAWSHFFKTAGIQIVADDLTVTNPKRIATAIEKKAADALLLKVNQI\n",
      "linha 6 : GTLSESIKAAQDSFAAGWGVMVSHRSGETEDTFIADLVVGLRTGQIKTGAPARSERLAKLNQLLRIEEEL\n",
      "linha 7 : GDNAVFAGENFHHGDKL\n",
      "linha 8 : \n"
     ]
    }
   ],
   "source": [
    "with open('eno1.fasta') as a:\n",
    "    for i, linha in enumerate(a):\n",
    "        linha = linha.strip()\n",
    "        print('linha', i, ':', linha)"
   ]
  },
  {
   "cell_type": "markdown",
   "metadata": {
    "slideshow": {
     "slide_type": "slide"
    }
   },
   "source": [
    "**Problema: ler uma ficheiro FASTA e separar o cabeçalho da sequência em duas strings (juntando toda a sequência numa só string)**"
   ]
  },
  {
   "cell_type": "code",
   "execution_count": 8,
   "metadata": {
    "collapsed": false
   },
   "outputs": [
    {
     "name": "stdout",
     "output_type": "stream",
     "text": [
      "cabeçalho: >gi|398366315|ref|NP_011770.3| Eno1p [Saccharomyces cerevisiae S288c]\n",
      "sequência, com 437 aminoácidos:\n",
      "MAVSKVYARSVYDSRGNPTVEVELTTEKGVFRSIVPSGASTGVHEALEMRDGDKSKWMGKGVLHAVKNVNDVIAPAFVKANIDVKDQKAVDDFLISLDGTANKSKLGANAILGVSLAASRAAAAEKNVPLYKHLADLSKSKTSPYVLPVPFLNVLNGGSHAGGALALQEFMIAPTGAKTFAEALRIGSEVYHNLKSLTKKRYGASAGNVGDEGGVAPNIQTAEEALDLIVDAIKAAGHDGKIKIGLDCASSEFFKDGKYDLDFKNPNSDKSKWLTGPQLADLYHSLMKRYPIVSIEDPFAEDDWEAWSHFFKTAGIQIVADDLTVTNPKRIATAIEKKAADALLLKVNQIGTLSESIKAAQDSFAAGWGVMVSHRSGETEDTFIADLVVGLRTGQIKTGAPARSERLAKLNQLLRIEEELGDNAVFAGENFHHGDKL\n"
     ]
    }
   ],
   "source": [
    "with open('eno1.fasta') as a:\n",
    "    linhas = [k.strip() for k in a.readlines()]\n",
    "\n",
    "header = linhas[0]\n",
    "# usamos um slice de uma lista de 1 até ao fim\n",
    "outras = linhas[1:]\n",
    "# e a funçao .join() com separador vazio para\n",
    "# juntá-las\n",
    "seq = ''.join(outras)\n",
    "\n",
    "print(\"cabeçalho:\", header)\n",
    "print('sequência, com', len(seq), 'aminoácidos:')\n",
    "print(seq)"
   ]
  },
  {
   "cell_type": "markdown",
   "metadata": {
    "slideshow": {
     "slide_type": "slide"
    }
   },
   "source": [
    "Às vezes os ficheiros não têm cabeçalho! É melhor testar se a primeira linha começa por \">\" !"
   ]
  },
  {
   "cell_type": "code",
   "execution_count": 9,
   "metadata": {
    "collapsed": false
   },
   "outputs": [
    {
     "name": "stdout",
     "output_type": "stream",
     "text": [
      "cabeçalho: >gi|398366315|ref|NP_011770.3| Eno1p [Saccharomyces cerevisiae S288c]\n",
      "sequência, com 437 aminoácidos:\n",
      "MAVSKVYARSVYDSRGNPTVEVELTTEKGVFRSIVPSGASTGVHEALEMRDGDKSKWMGKGVLHAVKNVNDVIAPAFVKANIDVKDQKAVDDFLISLDGTANKSKLGANAILGVSLAASRAAAAEKNVPLYKHLADLSKSKTSPYVLPVPFLNVLNGGSHAGGALALQEFMIAPTGAKTFAEALRIGSEVYHNLKSLTKKRYGASAGNVGDEGGVAPNIQTAEEALDLIVDAIKAAGHDGKIKIGLDCASSEFFKDGKYDLDFKNPNSDKSKWLTGPQLADLYHSLMKRYPIVSIEDPFAEDDWEAWSHFFKTAGIQIVADDLTVTNPKRIATAIEKKAADALLLKVNQIGTLSESIKAAQDSFAAGWGVMVSHRSGETEDTFIADLVVGLRTGQIKTGAPARSERLAKLNQLLRIEEELGDNAVFAGENFHHGDKL\n"
     ]
    }
   ],
   "source": [
    "with open('eno1.fasta') as a:\n",
    "    linhas = [k.strip() for k in a]\n",
    "\n",
    "if linhas[0].startswith('>'):\n",
    "    header = linhas[0]\n",
    "    seq = ''.join(linhas[1:])\n",
    "else:\n",
    "    header = \"\"\n",
    "    seq = ''.join(linhas)\n",
    "\n",
    "print(\"cabeçalho:\", header)\n",
    "print('sequência, com', len(seq), 'aminoácidos:')\n",
    "print(seq)"
   ]
  },
  {
   "cell_type": "markdown",
   "metadata": {},
   "source": [
    "As linhas em branco podem por vezes causar alguns problemas. Mas é fácil \"ignora-las\".\n",
    "\n",
    "Vamos supor que o ficheiro **gre3.txt** tem o seguinte conteúdo:\n",
    "\n",
    "----\n",
    "\n",
    "```\n",
    "\n",
    ">sp|P38715|GRE3_YEAST NADPH-dependent aldose reductase GRE3 OS=Saccharomyces cerevisiae (strain ATCC 204508 / S288c) GN=GRE3 PE=1 SV=1\n",
    "\n",
    "MSSLVTLNNGLKMPLVGLGCWKIDKKVCANQIYEAIKLGYRLFDGACDYGNEKEVGEGIR\n",
    "KAISEGLVSRKDIFVVSKLWNNFHHPDHVKLALKKTLSDMGLDYLDLYYIHFPIAFKYVP\n",
    "FEEKYPPGFYTGADDEKKGHITEAHVPIIDTYRALEECVDEGLIKSIGVSNFQGSLIQDL\n",
    "LRGCRIKPVALQIEHHPYLTQEHLVEFCKLHDIQVVAYSSFGPQSFIEMDLQLAKTTPTL\n",
    "FENDVIKKVSQNHPGSTTSQVLLRWATQRGIAVIPKSSKKERLLGNLEIEKKFTLTEQEL\n",
    "KDISALNANIRFNDPWTWLDGKFPTFA\n",
    "```\n",
    "----\n",
    "\n",
    "Como separar o cabeçalho da sequência?"
   ]
  },
  {
   "cell_type": "code",
   "execution_count": 10,
   "metadata": {
    "collapsed": false
   },
   "outputs": [
    {
     "name": "stdout",
     "output_type": "stream",
     "text": [
      "cabeçalho:\n",
      ">sp|P38715|GRE3_YEAST NADPH-dependent aldose reductase GRE3 OS=Saccharomyces cerevisiae (strain ATCC 204508 / S288c) GN=GRE3 PE=1 SV=1\n",
      "sequência, com 327 aminoácidos:\n",
      "MSSLVTLNNGLKMPLVGLGCWKIDKKVCANQIYEAIKLGYRLFDGACDYGNEKEVGEGIRKAISEGLVSRKDIFVVSKLWNNFHHPDHVKLALKKTLSDMGLDYLDLYYIHFPIAFKYVPFEEKYPPGFYTGADDEKKGHITEAHVPIIDTYRALEECVDEGLIKSIGVSNFQGSLIQDLLRGCRIKPVALQIEHHPYLTQEHLVEFCKLHDIQVVAYSSFGPQSFIEMDLQLAKTTPTLFENDVIKKVSQNHPGSTTSQVLLRWATQRGIAVIPKSSKKERLLGNLEIEKKFTLTEQELKDISALNANIRFNDPWTWLDGKFPTFA\n"
     ]
    }
   ],
   "source": [
    "with open('gre3.txt') as a:\n",
    "    linhas = [k.strip() for k in a]\n",
    "\n",
    "linhas = [k for k in linhas if len(k) > 0]\n",
    "    \n",
    "if linhas[0].startswith('>'):\n",
    "    header = linhas[0]\n",
    "    seq = ''.join(linhas[1:])\n",
    "else:\n",
    "    header = \"\"\n",
    "    seq = ''.join(linhas)\n",
    "\n",
    "print(\"cabeçalho:\")\n",
    "print(header)\n",
    "print('sequência, com', len(seq), 'aminoácidos:')\n",
    "print(seq)"
   ]
  },
  {
   "cell_type": "markdown",
   "metadata": {
    "slideshow": {
     "slide_type": "slide"
    }
   },
   "source": [
    "## Exemplo: Extração de informação de um ficheiro FASTA múltiplo."
   ]
  },
  {
   "cell_type": "markdown",
   "metadata": {},
   "source": [
    "**Problema: extraír os cabeçalhos e as sequências de um ficheiro FASTA múltiplo. Mostrar o comprimento das proteínas e o número de triptofanos (W)**"
   ]
  },
  {
   "cell_type": "code",
   "execution_count": 11,
   "metadata": {
    "collapsed": false
   },
   "outputs": [
    {
     "name": "stdout",
     "output_type": "stream",
     "text": [
      "0\n",
      "1121\n",
      "1151\n",
      "374\n",
      "551\n",
      "549\n",
      "551\n",
      "351\n",
      "556\n"
     ]
    }
   ],
   "source": [
    "with open('proteins.fasta') as a:\n",
    "    tudo = a.read()\n",
    "prots = tudo.split('>')\n",
    "\n",
    "for p in prots:\n",
    "    print(len(p))"
   ]
  },
  {
   "cell_type": "code",
   "execution_count": 12,
   "metadata": {
    "collapsed": false
   },
   "outputs": [
    {
     "name": "stdout",
     "output_type": "stream",
     "text": [
      "1121\n",
      "sp|P16862|PFKA2_YEAST ATP-depe\n",
      "1151\n",
      "sp|P16861|PFKA1_YEAST ATP-depe\n",
      "374\n",
      "sp|P00950|PMG1_YEAST Phosphogl\n",
      "551\n",
      "sp|P00924|ENO1_YEAST Enolase 1\n",
      "549\n",
      "sp|P30575|ENO1_CANAL Enolase 1\n",
      "551\n",
      "sp|P00925|ENO2_YEAST Enolase 2\n",
      "351\n",
      "sp|P32626|ENOPH_YEAST Enolase-\n",
      "556\n",
      "sp|P40370|ENO11_SCHPO Enolase \n"
     ]
    }
   ],
   "source": [
    "with open('proteins.fasta') as a:\n",
    "    tudo = a.read()\n",
    "prots = tudo.split('>')\n",
    "prots = [p for p in prots if len(p) > 0]\n",
    "\n",
    "for p in prots:\n",
    "    print(len(p))\n",
    "    print(p[:30])"
   ]
  },
  {
   "cell_type": "code",
   "execution_count": 13,
   "metadata": {
    "collapsed": false
   },
   "outputs": [
    {
     "name": "stdout",
     "output_type": "stream",
     "text": [
      "sp|P16862|PFKA2_YEAST ATP-dependent 6-phosphofructokinase subunit beta OS=Saccharomyces cerevisiae (strain ATCC 204508 / S288c) GN=PFK2 PE=1 SV=4\n",
      "sp|P16861|PFKA1_YEAST ATP-dependent 6-phosphofructokinase subunit alpha OS=Saccharomyces cerevisiae (strain ATCC 204508 / S288c) GN=PFK1 PE=1 SV=1\n",
      "sp|P00950|PMG1_YEAST Phosphoglycerate mutase 1 OS=Saccharomyces cerevisiae (strain ATCC 204508 / S288c) GN=GPM1 PE=1 SV=3\n",
      "sp|P00924|ENO1_YEAST Enolase 1 OS=Saccharomyces cerevisiae (strain ATCC 204508 / S288c) GN=ENO1 PE=1 SV=3\n",
      "sp|P30575|ENO1_CANAL Enolase 1 OS=Candida albicans (strain SC5314 / ATCC MYA-2876) GN=ENO1 PE=2 SV=1\n",
      "sp|P00925|ENO2_YEAST Enolase 2 OS=Saccharomyces cerevisiae (strain ATCC 204508 / S288c) GN=ENO2 PE=1 SV=2\n",
      "sp|P32626|ENOPH_YEAST Enolase-phosphatase E1 OS=Saccharomyces cerevisiae (strain ATCC 204508 / S288c) GN=UTR4 PE=1 SV=2\n",
      "sp|P40370|ENO11_SCHPO Enolase 1-1 OS=Schizosaccharomyces pombe (strain 972 / ATCC 24843) GN=eno101 PE=1 SV=2\n"
     ]
    }
   ],
   "source": [
    "with open('proteins.fasta') as a:\n",
    "    tudo = a.read()\n",
    "prots = tudo.split('>')\n",
    "prots = [p for p in prots if len(p) > 0]\n",
    "\n",
    "headers = []\n",
    "seqs = []\n",
    "for p in prots:\n",
    "    linhas = [k.strip() for k in p.split('\\n')]\n",
    "    headers.append(linhas[0])\n",
    "    seqs.append(''.join(linhas[1:]))\n",
    "\n",
    "for h in headers:\n",
    "    print(h)"
   ]
  },
  {
   "cell_type": "code",
   "execution_count": 14,
   "metadata": {
    "collapsed": false
   },
   "outputs": [
    {
     "name": "stdout",
     "output_type": "stream",
     "text": [
      "P16862 tem 959 aminoácidos, 10 são triptofanos\n",
      "P16861 tem 987 aminoácidos, 12 são triptofanos\n",
      "P00950 tem 247 aminoácidos, 5 são triptofanos\n",
      "P00924 tem 437 aminoácidos, 5 são triptofanos\n",
      "P30575 tem 440 aminoácidos, 5 são triptofanos\n",
      "P00925 tem 437 aminoácidos, 5 são triptofanos\n",
      "P32626 tem 227 aminoácidos, 1 são triptofanos\n",
      "P40370 tem 439 aminoácidos, 7 são triptofanos\n"
     ]
    }
   ],
   "source": [
    "with open('proteins.fasta') as a:\n",
    "    tudo = a.read()\n",
    "prots = tudo.split('>')\n",
    "prots = [p for p in prots if len(p) > 0]\n",
    "\n",
    "headers = []\n",
    "seqs = []\n",
    "for p in prots:\n",
    "    linhas = [k.strip() for k in p.split('\\n')]\n",
    "    headers.append(linhas[0])\n",
    "    seqs.append(''.join(linhas[1:]))\n",
    "\n",
    "ids = []\n",
    "for h in headers:\n",
    "    separados = h.split('|')\n",
    "    ids.append(separados[1])\n",
    "\n",
    "for i, s  in zip(ids, seqs):\n",
    "    print(i, 'tem', len(s), 'aminoácidos,', s.count('W'), 'são triptofanos')"
   ]
  },
  {
   "cell_type": "markdown",
   "metadata": {
    "slideshow": {
     "slide_type": "slide"
    }
   },
   "source": [
    "## Escrita"
   ]
  },
  {
   "cell_type": "markdown",
   "metadata": {
    "slideshow": {
     "slide_type": "slide"
    }
   },
   "source": [
    "### Função `print()` para ficheiros"
   ]
  },
  {
   "cell_type": "markdown",
   "metadata": {},
   "source": [
    "Basta abrir o ficheiro em *modo de escrita* usando o argumento `w` na função `open()`. Depois, modificar a função `print()`, com o argumento `file`, indicando que o resultado da escrita deve ser *enviado* para o ficheiro."
   ]
  },
  {
   "cell_type": "code",
   "execution_count": 15,
   "metadata": {
    "collapsed": true
   },
   "outputs": [],
   "source": [
    "with open('exp.txt', 'w') as a:\n",
    "    print('1, 2, 3, experiência, som, som', file=a)\n",
    "    for i in range(30):\n",
    "        print(i, i**0.5, file=a)"
   ]
  },
  {
   "cell_type": "markdown",
   "metadata": {
    "slideshow": {
     "slide_type": "slide"
    }
   },
   "source": [
    "Aparentemente não aconteceu nada, mas um ficheiro novo foi criado"
   ]
  },
  {
   "cell_type": "markdown",
   "metadata": {},
   "source": [
    "Vamos ler o ficheiro:"
   ]
  },
  {
   "cell_type": "code",
   "execution_count": 16,
   "metadata": {
    "collapsed": false
   },
   "outputs": [
    {
     "name": "stdout",
     "output_type": "stream",
     "text": [
      "1, 2, 3, experiência, som, som\n",
      "0 0.0\n",
      "1 1.0\n",
      "2 1.4142135623730951\n",
      "3 1.7320508075688772\n",
      "4 2.0\n",
      "5 2.23606797749979\n",
      "6 2.449489742783178\n",
      "7 2.6457513110645907\n",
      "8 2.8284271247461903\n",
      "9 3.0\n",
      "10 3.1622776601683795\n",
      "11 3.3166247903554\n",
      "12 3.4641016151377544\n",
      "13 3.605551275463989\n",
      "14 3.7416573867739413\n",
      "15 3.872983346207417\n",
      "16 4.0\n",
      "17 4.123105625617661\n",
      "18 4.242640687119285\n",
      "19 4.358898943540674\n",
      "20 4.47213595499958\n",
      "21 4.58257569495584\n",
      "22 4.69041575982343\n",
      "23 4.795831523312719\n",
      "24 4.898979485566356\n",
      "25 5.0\n",
      "26 5.0990195135927845\n",
      "27 5.196152422706632\n",
      "28 5.291502622129181\n",
      "29 5.385164807134504\n",
      "\n"
     ]
    }
   ],
   "source": [
    "with open('exp.txt') as a:\n",
    "    print(a.read())"
   ]
  },
  {
   "cell_type": "markdown",
   "metadata": {
    "slideshow": {
     "slide_type": "slide"
    }
   },
   "source": [
    "### Função `.write()`"
   ]
  },
  {
   "cell_type": "markdown",
   "metadata": {},
   "source": [
    "Também existe a função `.write()` que funciona como o contrário de `.read()`:"
   ]
  },
  {
   "cell_type": "code",
   "execution_count": 17,
   "metadata": {
    "collapsed": false
   },
   "outputs": [
    {
     "name": "stdout",
     "output_type": "stream",
     "text": [
      "\n",
      "Um texto que ocupa\n",
      "1 linha\n",
      "2 linhas\n",
      "3 linhas\n",
      "\n"
     ]
    }
   ],
   "source": [
    "tudo = \"\"\"\n",
    "Um texto que ocupa\n",
    "1 linha\n",
    "2 linhas\n",
    "3 linhas\n",
    "\"\"\"\n",
    "\n",
    "with open('exp2.txt', 'w') as a:\n",
    "    a.write(tudo)\n",
    "with open('exp2.txt') as a:\n",
    "    print(a.read())"
   ]
  },
  {
   "cell_type": "markdown",
   "metadata": {
    "slideshow": {
     "slide_type": "slide"
    }
   },
   "source": [
    "**Problema: ler uma ficheiro com dados numéricos e converter o ponto decimal em vírgula decimal**\n",
    "\n",
    "No ficheiro `exp.txt`, recentemente criado, podemos, de uma form sucinta, passar os `.` a `,` ?"
   ]
  },
  {
   "cell_type": "code",
   "execution_count": 18,
   "metadata": {
    "collapsed": false,
    "slideshow": {
     "slide_type": "slide"
    }
   },
   "outputs": [
    {
     "name": "stdout",
     "output_type": "stream",
     "text": [
      "1, 2, 3, experiência, som, som\n",
      "0 0,0\n",
      "1 1,0\n",
      "2 1,4142135623730951\n",
      "3 1,7320508075688772\n",
      "4 2,0\n",
      "5 2,23606797749979\n",
      "6 2,449489742783178\n",
      "7 2,6457513110645907\n",
      "8 2,8284271247461903\n",
      "9 3,0\n",
      "10 3,1622776601683795\n",
      "11 3,3166247903554\n",
      "12 3,4641016151377544\n",
      "13 3,605551275463989\n",
      "14 3,7416573867739413\n",
      "15 3,872983346207417\n",
      "16 4,0\n",
      "17 4,123105625617661\n",
      "18 4,242640687119285\n",
      "19 4,358898943540674\n",
      "20 4,47213595499958\n",
      "21 4,58257569495584\n",
      "22 4,69041575982343\n",
      "23 4,795831523312719\n",
      "24 4,898979485566356\n",
      "25 5,0\n",
      "26 5,0990195135927845\n",
      "27 5,196152422706632\n",
      "28 5,291502622129181\n",
      "29 5,385164807134504\n",
      "\n"
     ]
    }
   ],
   "source": [
    "with open('exp.txt') as a:\n",
    "    tudo = a.read().replace('.', ',')\n",
    "\n",
    "with open('exp.txt', 'w') as a:\n",
    "    a.write(tudo)\n",
    "\n",
    "with open('exp.txt') as a:\n",
    "    print(a.read())"
   ]
  },
  {
   "cell_type": "markdown",
   "metadata": {
    "slideshow": {
     "slide_type": "slide"
    }
   },
   "source": [
    "## Exemplo: Extração de informação de ficheiros de resultados de metabolómica."
   ]
  },
  {
   "cell_type": "markdown",
   "metadata": {
    "slideshow": {
     "slide_type": "slide"
    }
   },
   "source": [
    "[MassTRIX](http://www.masstrix.org), (_Mass TRanslator into Pathways_) [1] é um serviço online de tratamento de dados de metabolómica.\n",
    "\n",
    "A funcionalidade primária é a identificação de compostos a partir de listas de massas e intensidades obtidas por análise de amostras biológics por Espectrometria de Massa.\n",
    "\n",
    "O resultado da identificação é disponibilizado em vários ficheiros de texto. Num dos formatos, cada linha do ficheiro diz respeito a um pico de massa e apresenta, de entre outros, os compostos identificados com aquela massa, bem como as anotações das vias celulares em que esses compostos podem estar envolvidos.\n",
    "\n",
    "Pretende-se ilustrar o uso programático da leitura de ficheiros e as operações com _strings_ com um exemplo da **extração da informação contida num desses ficheiros**.\n",
    "\n",
    "[1] K. Suhre and P. Schmitt-Kopplin (2008) MassTRIX: Mass TRanslator Into Pathways, _Nucleic Acids Research_, **36**, Web Server issue, W481-W484."
   ]
  },
  {
   "cell_type": "markdown",
   "metadata": {
    "slideshow": {
     "slide_type": "slide"
    }
   },
   "source": [
    "### Exploração do formato"
   ]
  },
  {
   "cell_type": "markdown",
   "metadata": {
    "slideshow": {
     "slide_type": "slide"
    }
   },
   "source": [
    "Vamos ler o ficheiro `masses.annotated.reformat.tsv`, separar todas as linhas para uma lista e mostrar a primeira e a última:"
   ]
  },
  {
   "cell_type": "code",
   "execution_count": 19,
   "metadata": {
    "collapsed": false,
    "slideshow": {
     "slide_type": "-"
    }
   },
   "outputs": [
    {
     "name": "stdout",
     "output_type": "stream",
     "text": [
      "FIRST line ----------------------------\n",
      "154.97517\t7.25775e+06\t120.005768420091\t4\t154.975098039829#154.975098039829#154.975274805989\t0.464333550973771#0.464333550973771#-0.676276005999922\tC00988#HMDB00816#C02287\tC2H5O6P#C2H5O6P#C3H4O5\t2-Phosphoglycolate;Phosphoglycolic acid ([M-H]-)#Phosphoglycolic acid (see KEGG C00988); 2-phosphonooxyacetic acid [carboxylic acid] ([M-H]-)#Hydroxymalonate;Tartronic acid;Hydroxymalonic acid;2-Hydroxymalonate;2-Hydroxymalonic acid;2-Tartronic acid ([M+Cl35]-)\t\t\t\t\t\t\t\t\t\t\t\t\tko00630;ko01100#null#null\t;Glyoxylate and dicarboxylate metabolism;Metabolic pathways#null#null\tnull#null#null\n",
      "LAST line -----------------------------\n",
      "raw_mass\tpeak_height\tcorrected_mass\tnpossible\tKEGG_mass\tppm\tKEGG_cid\tKEGG_formula\tKEGG_name\tuniqueID\tC13\tO18\tN15\tS34\tMg25\tMg26\tFe54\tFe57\tCa44\tCl37\tK41\tKEGG Pathways\tKEGG Pathways descriptions\tCompound in Organism(X)\n"
     ]
    }
   ],
   "source": [
    "name = 'masses.annotated.reformat.tsv'\n",
    "with open(name) as a:\n",
    "    all_lines = [line.strip() for line in a]\n",
    "\n",
    "print('FIRST line ----------------------------')\n",
    "print(all_lines[0])\n",
    "print('LAST line -----------------------------')\n",
    "print(all_lines[-1])"
   ]
  },
  {
   "cell_type": "markdown",
   "metadata": {
    "slideshow": {
     "slide_type": "slide"
    }
   },
   "source": [
    "Nas linhas deste ficheiro, os vários campos com informação estão separados por **tabs** (o caractere `\\t`).\n",
    "\n",
    "A última linha tem como informação os nomes de cada um destes campos (`raw_mass peak_height` etc)"
   ]
  },
  {
   "cell_type": "markdown",
   "metadata": {
    "slideshow": {
     "slide_type": "slide"
    }
   },
   "source": [
    "Vamos dividir a linha 0 em várias partes, pelo separador `\\t`. As partes obtidas são os vários campos de informação reltiva a um pico de MS.\n",
    "\n",
    "Já agora, vamos obter os nomes de cada campo, fazendo o mesmo à última linha:"
   ]
  },
  {
   "cell_type": "code",
   "execution_count": 20,
   "metadata": {
    "collapsed": false
   },
   "outputs": [
    {
     "name": "stdout",
     "output_type": "stream",
     "text": [
      "raw_mass\n",
      "peak_height\n",
      "corrected_mass\n",
      "npossible\n",
      "KEGG_mass\n",
      "ppm\n",
      "KEGG_cid\n",
      "KEGG_formula\n",
      "KEGG_name\n",
      "uniqueID\n",
      "C13\n",
      "O18\n",
      "N15\n",
      "S34\n",
      "Mg25\n",
      "Mg26\n",
      "Fe54\n",
      "Fe57\n",
      "Ca44\n",
      "Cl37\n",
      "K41\n",
      "KEGG Pathways\n",
      "KEGG Pathways descriptions\n",
      "Compound in Organism(X)\n"
     ]
    }
   ],
   "source": [
    "name = 'masses.annotated.reformat.tsv'\n",
    "with open(name) as a:\n",
    "    all_lines = [line.strip() for line in a]\n",
    "\n",
    "headers = all_lines[-1].split('\\t')\n",
    "for h in headers:\n",
    "    print(h)"
   ]
  },
  {
   "cell_type": "code",
   "execution_count": 21,
   "metadata": {
    "collapsed": false,
    "slideshow": {
     "slide_type": "slide"
    }
   },
   "outputs": [
    {
     "name": "stdout",
     "output_type": "stream",
     "text": [
      "raw_mass : 154.97517\n",
      "peak_height : 7.25775e+06\n",
      "corrected_mass : 120.005768420091\n",
      "npossible : 4\n",
      "KEGG_mass : 154.975098039829#154.975098039829#154.975274805989\n",
      "ppm : 0.464333550973771#0.464333550973771#-0.676276005999922\n",
      "KEGG_cid : C00988#HMDB00816#C02287\n",
      "KEGG_formula : C2H5O6P#C2H5O6P#C3H4O5\n",
      "KEGG_name : 2-Phosphoglycolate;Phosphoglycolic acid ([M-H]-)#Phosphoglycolic acid (see KEGG C00988); 2-phosphonooxyacetic acid [carboxylic acid] ([M-H]-)#Hydroxymalonate;Tartronic acid;Hydroxymalonic acid;2-Hydroxymalonate;2-Hydroxymalonic acid;2-Tartronic acid ([M+Cl35]-)\n",
      "uniqueID : \n",
      "C13 : \n",
      "O18 : \n",
      "N15 : \n",
      "S34 : \n",
      "Mg25 : \n",
      "Mg26 : \n",
      "Fe54 : \n",
      "Fe57 : \n",
      "Ca44 : \n",
      "Cl37 : \n",
      "K41 : \n",
      "KEGG Pathways : ko00630;ko01100#null#null\n",
      "KEGG Pathways descriptions : ;Glyoxylate and dicarboxylate metabolism;Metabolic pathways#null#null\n",
      "Compound in Organism(X) : null#null#null\n"
     ]
    }
   ],
   "source": [
    "name = 'masses.annotated.reformat.tsv'\n",
    "with open(name) as a:\n",
    "    all_lines = [line.strip() for line in a]\n",
    "\n",
    "headers = all_lines[-1].split('\\t')\n",
    "line0 = all_lines[0].split('\\t')\n",
    "\n",
    "info = dict(zip(headers, line0))\n",
    "\n",
    "for h in headers:\n",
    "    print(h, ':', info[h])"
   ]
  },
  {
   "cell_type": "markdown",
   "metadata": {
    "slideshow": {
     "slide_type": "slide"
    }
   },
   "source": [
    "Vamos extraír da linha 0\n",
    "\n",
    "- a massa do pico \"_raw mass_\", (campo 0)\n",
    "- a intensidade do pico, (campo 1)\n",
    "- os IDs dos compostos, (campo 6)\n",
    "- os nomes dos compostos (campo 8)\n",
    "- os IDs das vias (campo 21)\n",
    "- as descrições das vias (campo 22)\n",
    "\n",
    "Havendo vários compostos possíveis em cada pico, é usado como separador o caractere `#`. \n",
    "\n",
    "Podemos já separar a informação por composto."
   ]
  },
  {
   "cell_type": "code",
   "execution_count": 22,
   "metadata": {
    "collapsed": false,
    "slideshow": {
     "slide_type": "slide"
    }
   },
   "outputs": [
    {
     "name": "stdout",
     "output_type": "stream",
     "text": [
      "raw_mass : 154.97517\n",
      "peak_height : 7.25775e+06\n",
      "KEGG_cid : ['C00988', 'HMDB00816', 'C02287']\n",
      "KEGG_name : ['2-Phosphoglycolate;Phosphoglycolic acid ([M-H]-)', 'Phosphoglycolic acid (see KEGG C00988); 2-phosphonooxyacetic acid [carboxylic acid] ([M-H]-)', 'Hydroxymalonate;Tartronic acid;Hydroxymalonic acid;2-Hydroxymalonate;2-Hydroxymalonic acid;2-Tartronic acid ([M+Cl35]-)']\n",
      "KEGG Pathways : ['ko00630;ko01100', 'null', 'null']\n",
      "KEGG Pathways descriptions : [';Glyoxylate and dicarboxylate metabolism;Metabolic pathways', 'null', 'null']\n"
     ]
    }
   ],
   "source": [
    "name = 'masses.annotated.reformat.tsv'\n",
    "use_only = ['raw_mass', 'peak_height', 'KEGG_cid', 'KEGG_name', 'KEGG Pathways', 'KEGG Pathways descriptions']\n",
    "needs_split = ['KEGG_cid', 'KEGG_name', 'KEGG Pathways', 'KEGG Pathways descriptions']\n",
    "\n",
    "with open(name) as a:\n",
    "    all_lines = [line.strip() for line in a]\n",
    "\n",
    "headers = all_lines[-1].split('\\t')\n",
    "line0 = all_lines[0].split('\\t')\n",
    "info = {}\n",
    "for h, i in zip(headers, line0):\n",
    "    if h in use_only:\n",
    "        info[h] = i\n",
    "\n",
    "for n in needs_split:\n",
    "    info[n] = info[n].split('#')\n",
    "\n",
    "for h in use_only:\n",
    "    print(h, ':', info[h])"
   ]
  },
  {
   "cell_type": "markdown",
   "metadata": {
    "slideshow": {
     "slide_type": "slide"
    }
   },
   "source": [
    "Quanto à informação relativa às vias em que cada composto pode estar envolvido, podemos reparar que:\n",
    "\n",
    "1. Um composto pde ter várias vias, separadas por `;`.\n",
    "\n",
    "2. Um composto pode não ter nenhuma via. neste caso, aparece a anotação \"null\"."
   ]
  },
  {
   "cell_type": "markdown",
   "metadata": {
    "slideshow": {
     "slide_type": "slide"
    }
   },
   "source": [
    "Finalmente, vamos transformar a informação relativa às vias (quer os IDs quer as descrições) em **listas**.\n",
    "\n",
    "Repare-se que ainda são _strings_ e que usam como separador o `;` para delimitar várias vias."
   ]
  },
  {
   "cell_type": "code",
   "execution_count": 23,
   "metadata": {
    "collapsed": false,
    "slideshow": {
     "slide_type": "slide"
    }
   },
   "outputs": [
    {
     "name": "stdout",
     "output_type": "stream",
     "text": [
      "raw_mass : 154.97517\n",
      "peak_height : 7.25775e+06\n",
      "KEGG_cid : ['C00988', 'HMDB00816', 'C02287']\n",
      "KEGG_name : ['2-Phosphoglycolate;Phosphoglycolic acid ([M-H]-)', 'Phosphoglycolic acid (see KEGG C00988); 2-phosphonooxyacetic acid [carboxylic acid] ([M-H]-)', 'Hydroxymalonate;Tartronic acid;Hydroxymalonic acid;2-Hydroxymalonate;2-Hydroxymalonic acid;2-Tartronic acid ([M+Cl35]-)']\n",
      "KEGG Pathways : [['ko00630', 'ko01100'], ['null'], ['null']]\n",
      "KEGG Pathways descriptions : [['', 'Glyoxylate and dicarboxylate metabolism', 'Metabolic pathways'], ['null'], ['null']]\n"
     ]
    }
   ],
   "source": [
    "name = 'masses.annotated.reformat.tsv'\n",
    "use_only = ['raw_mass', 'peak_height', 'KEGG_cid', 'KEGG_name', 'KEGG Pathways', 'KEGG Pathways descriptions']\n",
    "needs_split = ['KEGG_cid', 'KEGG_name', 'KEGG Pathways', 'KEGG Pathways descriptions']\n",
    "needs_more_split = ['KEGG Pathways', 'KEGG Pathways descriptions']\n",
    "\n",
    "with open(name) as a:\n",
    "    all_lines = [line.strip() for line in a]\n",
    "\n",
    "headers = all_lines[-1].split('\\t')\n",
    "line0 = all_lines[0].split('\\t')\n",
    "info = {}\n",
    "for h, i in zip(headers, line0):\n",
    "    if h in use_only:\n",
    "        info[h] = i\n",
    "\n",
    "for n in needs_split:\n",
    "    info[n] = info[n].split('#')\n",
    "\n",
    "for n in needs_more_split:\n",
    "    info[n] = [p.split(';') for p in info[n]]\n",
    "\n",
    "for h in use_only:\n",
    "    print(h, ':', info[h])"
   ]
  },
  {
   "cell_type": "markdown",
   "metadata": {
    "slideshow": {
     "slide_type": "slide"
    }
   },
   "source": [
    "Agora **tudo junto, aplicando ao ficheiro inteiro**. Para controlo, podemos contar os compostos obtidos."
   ]
  },
  {
   "cell_type": "code",
   "execution_count": 24,
   "metadata": {
    "collapsed": false,
    "slideshow": {
     "slide_type": "slide"
    }
   },
   "outputs": [
    {
     "name": "stdout",
     "output_type": "stream",
     "text": [
      "São 482 massas\n",
      "\n",
      "---- Massa 0 -----\n",
      "raw_mass : 154.97517\n",
      "peak_height : 7.25775e+06\n",
      "KEGG_cid : ['C00988', 'HMDB00816', 'C02287']\n",
      "KEGG_name : ['2-Phosphoglycolate;Phosphoglycolic acid ([M-H]-)', 'Phosphoglycolic acid (see KEGG C00988); 2-phosphonooxyacetic acid [carboxylic acid] ([M-H]-)', 'Hydroxymalonate;Tartronic acid;Hydroxymalonic acid;2-Hydroxymalonate;2-Hydroxymalonic acid;2-Tartronic acid ([M+Cl35]-)']\n",
      "KEGG Pathways : [['ko00630', 'ko01100'], ['null'], ['null']]\n",
      "KEGG Pathways descriptions : [['Glyoxylate and dicarboxylate metabolism', 'Metabolic pathways'], ['null'], ['null']]\n"
     ]
    }
   ],
   "source": [
    "name = 'masses.annotated.reformat.tsv'\n",
    "use_only = ['raw_mass', 'peak_height', 'KEGG_cid', 'KEGG_name', 'KEGG Pathways', 'KEGG Pathways descriptions']\n",
    "needs_split = ['KEGG_cid', 'KEGG_name', 'KEGG Pathways', 'KEGG Pathways descriptions']\n",
    "needs_more_split = ['KEGG Pathways', 'KEGG Pathways descriptions']\n",
    "\n",
    "with open(name) as a:\n",
    "    all_lines = [line.strip() for line in a]\n",
    "\n",
    "headers = all_lines[-1].split('\\t')\n",
    "\n",
    "peaks = []\n",
    "for line in all_lines[:-1]:\n",
    "    info = {}\n",
    "    line_parts = line.split('\\t')\n",
    "\n",
    "    for h, i in zip(headers, line_parts):\n",
    "        if h in use_only:\n",
    "            info[h] = i\n",
    "\n",
    "    for n in needs_split:\n",
    "        info[n] = info[n].split('#')\n",
    "\n",
    "    for n in needs_more_split:\n",
    "        info[n] = [p.strip(';').split(';') for p in info[n]]\n",
    "    \n",
    "    peaks.append(info)\n",
    "\n",
    "print('São', len(peaks), 'massas')\n",
    "print('\\n---- Massa 0 -----')\n",
    "for h in use_only:\n",
    "    print(h, ':', peaks[0][h])"
   ]
  },
  {
   "cell_type": "markdown",
   "metadata": {
    "slideshow": {
     "slide_type": "slide"
    }
   },
   "source": [
    "#### Correspondência compostos - vias"
   ]
  },
  {
   "cell_type": "markdown",
   "metadata": {},
   "source": [
    "Agora com esta **lista de dicionários** chamada `peaks` disponível podemos centrar a informação em torrno dos compostos associados a vias.\n",
    "\n",
    "Para isso vamos criar dois dicionários:\n",
    "\n",
    "- um chamado `pathways` que associa cada **Id de um composto** a uma **lista de Ids de vias** e\n",
    "- outro chamado `descriptions`, que associa cada Id de via à sua descrição."
   ]
  },
  {
   "cell_type": "code",
   "execution_count": 25,
   "metadata": {
    "collapsed": false,
    "slideshow": {
     "slide_type": "-"
    }
   },
   "outputs": [
    {
     "name": "stdout",
     "output_type": "stream",
     "text": [
      "São 327 compostos com anotações de vias\n",
      "\n",
      "---------Alguns compostos:\n",
      "\n",
      "C15556 --> ['ko00740']\n",
      "C01214 --> ['ko00521']\n",
      "C02336 --> ['ko00500', 'ko00520', 'ko01100']\n",
      "C12026 --> ['ko01055']\n",
      "C03582 --> ['ko00945', 'ko01061']\n",
      "C05402 --> ['ko00052']\n",
      "C00627 --> ['ko00750', 'ko01100']\n",
      "C01172 --> ['ko00010', 'ko00030', 'ko00500', 'ko01100']\n",
      "C03917 --> ['ko00150', 'ko05200', 'ko05215']\n",
      "C02614 --> ['ko00640', 'ko00660', 'ko01100']\n",
      "C04295 --> ['ko00150']\n",
      "\n",
      "---------Alguns compostos:\n",
      "\n",
      "C15556 --> Riboflavin metabolism\n",
      "C01214 --> Streptomycin biosynthesis\n",
      "C02336 --> Starch and sucrose metabolism AND Amino sugar and nucleotide sugar metabolism AND Metabolic pathways\n",
      "C12026 --> Biosynthesis of vancomycin group antibiotics\n",
      "C03582 --> Stilbenoid, diarylheptanoid and gingerol biosynthesis AND Biosynthesis of phenylpropanoids\n",
      "C05402 --> Galactose metabolism\n",
      "C00627 --> Vitamin B6 metabolism AND Metabolic pathways\n",
      "C01172 --> Glycolysis / Gluconeogenesis AND Pentose phosphate pathway AND Starch and sucrose metabolism AND Metabolic pathways\n",
      "C03917 --> Androgen and estrogen metabolism AND Pathways in cancer AND Prostate cancer\n",
      "C02614 --> Propanoate metabolism AND C5-Branched dibasic acid metabolism AND Metabolic pathways\n",
      "C04295 --> Androgen and estrogen metabolism\n"
     ]
    }
   ],
   "source": [
    "paths = {}\n",
    "descriptions = {}\n",
    "\n",
    "for k in peaks:\n",
    "    for c, p, d in zip(k['KEGG_cid'], k['KEGG Pathways'], k['KEGG Pathways descriptions']):\n",
    "        if p[0] == 'null':\n",
    "            continue\n",
    "        paths[c] = p\n",
    "        for pId, desc in zip(p, d):\n",
    "            descriptions[pId] = desc\n",
    "\n",
    "print('São', len(paths), 'compostos com anotações de vias')\n",
    "\n",
    "print('\\n---------Alguns compostos:\\n')\n",
    "\n",
    "for (i, c) in enumerate(paths):\n",
    "    if i > 10:\n",
    "        break\n",
    "    print(c, '-->', paths[c])\n",
    "\n",
    "print('\\n---------Alguns compostos:\\n')\n",
    "\n",
    "for (i, c) in enumerate(paths):\n",
    "    if i > 10:\n",
    "        break\n",
    "    p_desc = [descriptions[p] for p in paths[c]]\n",
    "    print(c, '-->', ' AND '.join(p_desc))"
   ]
  },
  {
   "cell_type": "markdown",
   "metadata": {
    "slideshow": {
     "slide_type": "slide"
    }
   },
   "source": [
    "### Utilização da informação"
   ]
  },
  {
   "cell_type": "markdown",
   "metadata": {},
   "source": [
    "Agora com estes dois dicionários podemos responder a várias questões:"
   ]
  },
  {
   "cell_type": "markdown",
   "metadata": {
    "slideshow": {
     "slide_type": "slide"
    }
   },
   "source": [
    "Exemplo: Como obter uma **lista** com nomes das vias, mas sem repetições?"
   ]
  },
  {
   "cell_type": "code",
   "execution_count": 26,
   "metadata": {
    "collapsed": false
   },
   "outputs": [
    {
     "name": "stdout",
     "output_type": "stream",
     "text": [
      "Riboflavin metabolism\n",
      "Streptomycin biosynthesis\n",
      "Starch and sucrose metabolism\n",
      "Amino sugar and nucleotide sugar metabolism\n",
      "Metabolic pathways\n",
      "Biosynthesis of vancomycin group antibiotics\n",
      "Stilbenoid, diarylheptanoid and gingerol biosynthesis\n",
      "Biosynthesis of phenylpropanoids\n",
      "Galactose metabolism\n",
      "Vitamin B6 metabolism\n",
      "Glycolysis / Gluconeogenesis\n",
      "Pentose phosphate pathway\n",
      "Androgen and estrogen metabolism\n",
      "Pathways in cancer\n",
      "Prostate cancer\n",
      "Propanoate metabolism\n",
      "C5-Branched dibasic acid metabolism\n",
      "Arginine and proline metabolism\n",
      "D-Arginine and D-ornithine metabolism\n",
      "Aminoacyl-tRNA biosynthesis\n",
      "Biosynthesis of alkaloids derived from ornithine, lysine and nicotinic acid\n"
     ]
    }
   ],
   "source": [
    "names = []\n",
    "\n",
    "for c in paths:\n",
    "    for pId in paths[c]:\n",
    "        name = descriptions[pId]\n",
    "        if name not in names:\n",
    "            names.append(name)\n",
    "\n",
    "# AS primeiras 20 vias:\n",
    "for name in names[:21]:\n",
    "    print(name)"
   ]
  },
  {
   "cell_type": "markdown",
   "metadata": {
    "slideshow": {
     "slide_type": "slide"
    }
   },
   "source": [
    "Exemplo: Como obter um **dicionário** com os **Ids das vias como chaves** e o **número de vezes que aparecem como valores**?"
   ]
  },
  {
   "cell_type": "code",
   "execution_count": 27,
   "metadata": {
    "collapsed": false
   },
   "outputs": [
    {
     "name": "stdout",
     "output_type": "stream",
     "text": [
      "São 150 vias\n",
      "\n",
      "---------Algumas contagens:\n",
      "\n",
      "13 \t ko00040 \t Pentose and glucuronate interconversions\n",
      "1 \t ko04666 \t Fc gamma R-mediated phagocytosis\n",
      "1 \t ko05110 \t Vibrio cholerae infection\n",
      "4 \t ko00770 \t Pantothenate and CoA biosynthesis\n",
      "13 \t ko01061 \t Biosynthesis of phenylpropanoids\n",
      "8 \t ko00630 \t Glyoxylate and dicarboxylate metabolism\n",
      "1 \t ko04150 \t mTOR signaling pathway\n",
      "8 \t ko01066 \t Biosynthesis of alkaloids derived from terpenoid and polyketide\n",
      "2 \t ko00120 \t Primary bile acid biosynthesis\n",
      "1 \t ko04062 \t Chemokine signaling pathway\n"
     ]
    }
   ],
   "source": [
    "counts = {}\n",
    "\n",
    "for c in paths:\n",
    "    for pId in paths[c]:\n",
    "        if pId in counts:\n",
    "            counts[pId] = counts[pId] + 1\n",
    "        else:\n",
    "            counts[pId] = 1\n",
    "\n",
    "print('São', len(counts), 'vias')\n",
    "\n",
    "print('\\n---------Algumas contagens:\\n')\n",
    "\n",
    "for i, pId in zip(range(10), counts):\n",
    "    print(counts[pId], '\\t', pId, '\\t', descriptions[pId])"
   ]
  },
  {
   "cell_type": "markdown",
   "metadata": {},
   "source": [
    "Uma vez que `counts` é um dicionário, não se aplica a noção de ordem e é evidente que as vias não estão ordenadas segundo as contagens de compostos.\n",
    "\n",
    "Podemos obter as vias por ordem decrescente de compostos?\n",
    "\n",
    "Para, por exemplo, obter **as 20 vias mais abundantes** em compostos?"
   ]
  },
  {
   "cell_type": "markdown",
   "metadata": {
    "slideshow": {
     "slide_type": "slide"
    }
   },
   "source": [
    "Uma vez que os dicionários não estão associados a uma \"ordenação\", temos de trabalhar com listas.\n",
    "\n",
    "Estratégia:\n",
    "\n",
    "- Criar uma lista com os pares (contagens, Id da via)\n",
    "- Ordenar a lista"
   ]
  },
  {
   "cell_type": "code",
   "execution_count": 28,
   "metadata": {
    "collapsed": false
   },
   "outputs": [
    {
     "name": "stdout",
     "output_type": "stream",
     "text": [
      "(13, 'ko00040')\n",
      "(1, 'ko04666')\n",
      "(1, 'ko05110')\n",
      "(4, 'ko00770')\n",
      "(13, 'ko01061')\n"
     ]
    }
   ],
   "source": [
    "counts_list = [(counts[k], k) for k in counts]\n",
    "\n",
    "#Controlo: 5 primeiros elementos, lista desordenada:\n",
    "for i in counts_list[:5]:\n",
    "    print(i)"
   ]
  },
  {
   "cell_type": "code",
   "execution_count": 29,
   "metadata": {
    "collapsed": false,
    "slideshow": {
     "slide_type": "slide"
    }
   },
   "outputs": [
    {
     "name": "stdout",
     "output_type": "stream",
     "text": [
      "As 20 vias com mais compostos associados:\n",
      "\n",
      "113 : Metabolic pathways\n",
      "24 : Biosynthesis of plant secondary metabolites\n",
      "21 : Galactose metabolism\n",
      "20 : alpha-Linolenic acid metabolism\n",
      "18 : Biosynthesis of unsaturated fatty acids\n",
      "17 : Biosynthesis of terpenoids and steroids\n",
      "17 : Linoleic acid metabolism\n",
      "17 : Starch and sucrose metabolism\n",
      "17 : Ascorbate and aldarate metabolism\n",
      "17 : Fructose and mannose metabolism\n",
      "16 : Phosphotransferase system (PTS)\n",
      "15 : Diterpenoid biosynthesis\n",
      "15 : Steroid biosynthesis\n",
      "14 : Biosynthesis of plant hormones\n",
      "14 : Glycolysis / Gluconeogenesis\n",
      "13 : ABC transporters\n",
      "13 : Biosynthesis of alkaloids derived from shikimate pathway\n",
      "13 : Biosynthesis of phenylpropanoids\n",
      "13 : Amino sugar and nucleotide sugar metabolism\n",
      "13 : Pentose and glucuronate interconversions\n"
     ]
    }
   ],
   "source": [
    "counts_list.sort(reverse=True)\n",
    "# reverse=True indica que a ordenação é por ordem decrescente\n",
    "\n",
    "print('As 20 vias com mais compostos associados:\\n')\n",
    "for c, pId in counts_list[:20]:\n",
    "    print(c, ':', descriptions[pId])"
   ]
  },
  {
   "cell_type": "markdown",
   "metadata": {
    "slideshow": {
     "slide_type": "slide"
    }
   },
   "source": [
    "Como exemplo final, escrever um ficheiro que sumariza esta informação.\n",
    "\n",
    "Problema: Escrever um ficheiro, chamado `pathways.txt` com vários campos, separados por `\\t` e **uma via por linha**.\n",
    "\n",
    "As vias devem estar por ordem decrescente de ocorrência\n",
    "\n",
    "Os campos são:\n",
    "\n",
    "- O ID da via\n",
    "- A descrição da via\n",
    "- O número de ocorrências\n",
    "- Os Ids dos compostos associados à via, separados por `;`"
   ]
  },
  {
   "cell_type": "code",
   "execution_count": 30,
   "metadata": {
    "collapsed": false,
    "slideshow": {
     "slide_type": "slide"
    }
   },
   "outputs": [],
   "source": [
    "file_name = 'pathways.txt'\n",
    "\n",
    "# associação entre ids de vias e lista de compostos\n",
    "compounds = {}\n",
    "\n",
    "for c in paths:\n",
    "    for pId in paths[c]:\n",
    "        if pId in compounds:\n",
    "            compounds[pId].append(c)\n",
    "        else:\n",
    "            compounds[pId] = [c]\n",
    "\n",
    "# contagens de coorrências (número de compostos)\n",
    "counts = {}\n",
    "for Id in compounds:\n",
    "    counts[Id] = len(compounds[Id])\n",
    "\n",
    "# ordenar as contagens\n",
    "counts_list = [(counts[k], k) for k in counts]\n",
    "counts_list.sort(reverse=True)\n",
    "\n",
    "# escrever o ficheiro com a informação\n",
    "with open(file_name, 'w') as f:\n",
    "    for c, Id in counts_list:\n",
    "        print(Id, descriptions[Id], c, compounds[Id], file=f, sep='\\t')"
   ]
  },
  {
   "cell_type": "code",
   "execution_count": 31,
   "metadata": {
    "collapsed": false,
    "slideshow": {
     "slide_type": "slide"
    }
   },
   "outputs": [
    {
     "name": "stdout",
     "output_type": "stream",
     "text": [
      "ko00010\tGlycolysis / Gluconeogenesis\t14\t['C01172', 'C00103', 'C00221', 'C00118', 'C00197', 'C00267', 'C00031', 'C00668', 'C16255', 'C00236', 'C05345', 'C00631', 'C01159', 'C00111']\n",
      "\n"
     ]
    }
   ],
   "source": [
    "# verificar se correu bem...\n",
    "file_name = 'pathways.txt'\n",
    "\n",
    "with open(file_name) as a:\n",
    "    linhas = a.readlines()\n",
    "    print(linhas[14])"
   ]
  }
 ],
 "metadata": {
  "anaconda-cloud": {},
  "kernelspec": {
   "display_name": "Python [default]",
   "language": "python",
   "name": "python3"
  },
  "language_info": {
   "codemirror_mode": {
    "name": "ipython",
    "version": 3
   },
   "file_extension": ".py",
   "mimetype": "text/x-python",
   "name": "python",
   "nbconvert_exporter": "python",
   "pygments_lexer": "ipython3",
   "version": "3.5.2"
  }
 },
 "nbformat": 4,
 "nbformat_minor": 0
}
