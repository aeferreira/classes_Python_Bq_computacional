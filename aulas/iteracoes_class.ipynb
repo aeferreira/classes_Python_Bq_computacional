{
 "cells": [
  {
   "cell_type": "markdown",
   "metadata": {
    "slideshow": {
     "slide_type": "slide"
    }
   },
   "source": [
    "# Coleções e iterações"
   ]
  },
  {
   "cell_type": "markdown",
   "metadata": {
    "slideshow": {
     "slide_type": "slide"
    }
   },
   "source": [
    "## Coleções"
   ]
  },
  {
   "cell_type": "markdown",
   "metadata": {},
   "source": [
    "Coleções são objetos que contêm mais do que um valor."
   ]
  },
  {
   "cell_type": "markdown",
   "metadata": {},
   "source": [
    "As principais coleções usadas em Python são:\n",
    "\n",
    "- Sequências:\n",
    "\n",
    "    + **listas**\n",
    "    + _**strings**_\n",
    "\n",
    "- **dicionários**"
   ]
  },
  {
   "cell_type": "markdown",
   "metadata": {
    "slideshow": {
     "slide_type": "slide"
    }
   },
   "source": [
    "### Listas"
   ]
  },
  {
   "cell_type": "code",
   "execution_count": 1,
   "metadata": {
    "collapsed": true
   },
   "outputs": [],
   "source": [
    "a = [2, 4, 3.1415, 'eu aqui', \"fim da lista\"]"
   ]
  },
  {
   "cell_type": "markdown",
   "metadata": {},
   "source": [
    "`a` é uma **lista**.\n",
    "\n",
    "Uma lista é simplesmente um conjunto de elementos reunidos num único \"objeto\".\n",
    "\n",
    "São usados `[]` para indicar explicitamente os elementos da lista."
   ]
  },
  {
   "cell_type": "markdown",
   "metadata": {
    "slideshow": {
     "slide_type": "slide"
    }
   },
   "source": [
    "As listas podem ter elementos de vários tipos e até serem indicadas com expressões:"
   ]
  },
  {
   "cell_type": "code",
   "execution_count": 2,
   "metadata": {
    "collapsed": false
   },
   "outputs": [
    {
     "name": "stdout",
     "output_type": "stream",
     "text": [
      "a = [19, 7, 125.0, 'Bom dia']\n",
      "c = [1, 2, 27]\n"
     ]
    }
   ],
   "source": [
    "a = [19, 14/2, 5.0**3, 'Bom dia']\n",
    "b = 1\n",
    "c = [b, b+1, (b+2)**3]\n",
    "\n",
    "print 'a =', a\n",
    "print 'c =', c"
   ]
  },
  {
   "cell_type": "markdown",
   "metadata": {
    "slideshow": {
     "slide_type": "slide"
    }
   },
   "source": [
    "Uma propriedade fundamental das listas é que a **ordem dos elementos tem significado** e uma lista pode ser \"**indexável**\" com numeros inteiros."
   ]
  },
  {
   "cell_type": "code",
   "execution_count": 3,
   "metadata": {
    "collapsed": false
   },
   "outputs": [
    {
     "name": "stdout",
     "output_type": "stream",
     "text": [
      "a = [19, 7, 125.0, 'Bom dia']\n",
      "19\n",
      "7\n",
      "125.0\n",
      "Bom dia\n"
     ]
    }
   ],
   "source": [
    "a = [19, 14/2, 5.0**3, 'Bom dia']\n",
    "\n",
    "print 'a =', a\n",
    "print a[0]\n",
    "print a[1]\n",
    "print a[2]\n",
    "print a[3]"
   ]
  },
  {
   "cell_type": "markdown",
   "metadata": {},
   "source": [
    "A ordem dos elementos **começa a contar do zero** e vai até $n-1$ em que $n$ é o número de elementos da lista."
   ]
  },
  {
   "cell_type": "markdown",
   "metadata": {
    "slideshow": {
     "slide_type": "slide"
    }
   },
   "source": [
    "### _strings_"
   ]
  },
  {
   "cell_type": "markdown",
   "metadata": {},
   "source": [
    "As _strings_ podem ser entendidas como **coleções de caracteres**"
   ]
  },
  {
   "cell_type": "markdown",
   "metadata": {},
   "source": [
    "As _strings_ também têm uma numeração implícita, a contar do zero."
   ]
  },
  {
   "cell_type": "code",
   "execution_count": 4,
   "metadata": {
    "collapsed": false
   },
   "outputs": [
    {
     "name": "stdout",
     "output_type": "stream",
     "text": [
      "Eu sou uma pequena string\n",
      "E\n",
      "s\n"
     ]
    }
   ],
   "source": [
    "s = 'Eu sou uma pequena string'\n",
    "print s\n",
    "\n",
    "print s[0]\n",
    "print s[3]"
   ]
  },
  {
   "cell_type": "markdown",
   "metadata": {
    "slideshow": {
     "slide_type": "slide"
    }
   },
   "source": [
    "### Dicionários"
   ]
  },
  {
   "cell_type": "markdown",
   "metadata": {},
   "source": [
    "Dicionários são *associações* entre **chaves** e **valores**."
   ]
  },
  {
   "cell_type": "code",
   "execution_count": 5,
   "metadata": {
    "collapsed": true
   },
   "outputs": [],
   "source": [
    "d = {'H': 1, 'Li': 3, 'Na': 11, 'K': 19}"
   ]
  },
  {
   "cell_type": "markdown",
   "metadata": {},
   "source": [
    "Neste exemplo,\n",
    "\n",
    "`'H'`,`'Li'`,`'Na'`,`'K'`, são as **chaves** do dicionário\n",
    "\n",
    "`1`,`3`,`11`,`19`, são os respetivos **valores**"
   ]
  },
  {
   "cell_type": "markdown",
   "metadata": {
    "slideshow": {
     "slide_type": "slide"
    }
   },
   "source": [
    "Ao contrário das listas e das *strings*, a **ordem dos elementos num dicionário não tem significado** mas um dicionário pode ser \"**indexável**\" com as *chaves*:"
   ]
  },
  {
   "cell_type": "code",
   "execution_count": 6,
   "metadata": {
    "collapsed": false
   },
   "outputs": [
    {
     "name": "stdout",
     "output_type": "stream",
     "text": [
      "d = {'H': 1, 'K': 19, 'Na': 11, 'Li': 3}\n",
      "\n",
      "19\n",
      "3\n"
     ]
    }
   ],
   "source": [
    "d = {'H':1, 'Li':3, 'Na':11, 'K':19}\n",
    "\n",
    "print 'd =', d\n",
    "print\n",
    "print d['K']\n",
    "print d['Li']"
   ]
  },
  {
   "cell_type": "markdown",
   "metadata": {
    "slideshow": {
     "slide_type": "slide"
    }
   },
   "source": [
    "## Iteração de coleções: comando `for`"
   ]
  },
  {
   "cell_type": "markdown",
   "metadata": {
    "slideshow": {
     "slide_type": "slide"
    }
   },
   "source": [
    "Iteração é um conceito geral, que consiste em aplicar um conjunto de instruções ou comandos a **cada um dos elementos de uma coleção**.\n",
    "\n",
    "Em Python é usado o comado `for` para esse efeito."
   ]
  },
  {
   "cell_type": "code",
   "execution_count": 7,
   "metadata": {
    "collapsed": false,
    "slideshow": {
     "slide_type": "slide"
    }
   },
   "outputs": [
    {
     "name": "stdout",
     "output_type": "stream",
     "text": [
      "2\n",
      "4\n",
      "6\n",
      "8\n",
      "10\n",
      "viria o 12\n",
      "e depois o 14\n"
     ]
    }
   ],
   "source": [
    "a = [2,4,6,8,10, 'viria o 12', 'e depois o 14']\n",
    "\n",
    "for x in a:\n",
    "    print x"
   ]
  },
  {
   "cell_type": "code",
   "execution_count": 8,
   "metadata": {
    "collapsed": false,
    "slideshow": {
     "slide_type": "slide"
    }
   },
   "outputs": [
    {
     "name": "stdout",
     "output_type": "stream",
     "text": [
      "tabela de raízes quadradas\n",
      "1 1.0\n",
      "2 1.41421356237\n",
      "3 1.73205080757\n",
      "4 2.0\n",
      "5 2.2360679775\n",
      "6 2.44948974278\n",
      "7 2.64575131106\n",
      "8 2.82842712475\n",
      "9 3.0\n",
      "10 3.16227766017\n"
     ]
    }
   ],
   "source": [
    "#tabela de raízes quadradas\n",
    "a = [1,2,3,4,5,6,7,8,9,10]\n",
    "\n",
    "print 'tabela de raízes quadradas'\n",
    "for x in a:\n",
    "    print x, x**0.5"
   ]
  },
  {
   "cell_type": "code",
   "execution_count": 9,
   "metadata": {
    "collapsed": false,
    "slideshow": {
     "slide_type": "slide"
    }
   },
   "outputs": [
    {
     "name": "stdout",
     "output_type": "stream",
     "text": [
      "2015 nao é bissexto\n",
      "2014 nao é bissexto\n",
      "2013 nao é bissexto\n",
      "2012 é bissexto\n",
      "2000 é bissexto\n",
      "1900 nao é bissexto\n",
      "1800 nao é bissexto\n"
     ]
    }
   ],
   "source": [
    "# Programa dos anos bissextos sem input\n",
    "\n",
    "anos = [2015, 2014, 2013, 2012, 2000, 1900, 1800]\n",
    "\n",
    "for a in anos:\n",
    "    if a % 4 == 0 and not (a % 100 == 0 and not a % 400 == 0):\n",
    "        print a , \"é bissexto\"\n",
    "    else: \n",
    "        print a, \"nao é bissexto\""
   ]
  },
  {
   "cell_type": "markdown",
   "metadata": {
    "slideshow": {
     "slide_type": "slide"
    }
   },
   "source": [
    "A iteração de uma _string_ \"percorre\" os seus **caracteres**. Os espaços e a pontuação também são considerados caracteres."
   ]
  },
  {
   "cell_type": "code",
   "execution_count": 10,
   "metadata": {
    "collapsed": false
   },
   "outputs": [
    {
     "name": "stdout",
     "output_type": "stream",
     "text": [
      "E\n",
      "u\n",
      " \n",
      "s\n",
      "o\n",
      "u\n",
      " \n",
      "u\n",
      "m\n",
      "a\n",
      " \n",
      "s\n",
      "t\n",
      "r\n",
      "i\n",
      "n\n",
      "g\n"
     ]
    }
   ],
   "source": [
    "s = 'Eu sou uma string'\n",
    "\n",
    "for x in s:\n",
    "    print x"
   ]
  },
  {
   "cell_type": "markdown",
   "metadata": {
    "slideshow": {
     "slide_type": "slide"
    }
   },
   "source": [
    "Finalmente, a iteração de dicionários \"percorre\" as suas **chaves** (apenas as chaves)."
   ]
  },
  {
   "cell_type": "code",
   "execution_count": 11,
   "metadata": {
    "collapsed": false
   },
   "outputs": [
    {
     "name": "stdout",
     "output_type": "stream",
     "text": [
      "H\n",
      "K\n",
      "Na\n",
      "Li\n"
     ]
    }
   ],
   "source": [
    "d = {'H':1, 'Li':3, 'Na':11, 'K':19}\n",
    "\n",
    "for x in d:\n",
    "    print x"
   ]
  },
  {
   "cell_type": "markdown",
   "metadata": {
    "slideshow": {
     "slide_type": "slide"
    }
   },
   "source": [
    "Mas é fácil usar as chaves para obter uma tabela de chaves-valores:"
   ]
  },
  {
   "cell_type": "code",
   "execution_count": 12,
   "metadata": {
    "collapsed": false
   },
   "outputs": [
    {
     "name": "stdout",
     "output_type": "stream",
     "text": [
      "elementos do grupo 1\n",
      "H 1\n",
      "K 19\n",
      "Na 11\n",
      "Li 3\n"
     ]
    }
   ],
   "source": [
    "grupo1 = {'H':1, 'Li':3, 'Na':11, 'K':19}\n",
    "\n",
    "print 'elementos do grupo 1'\n",
    "\n",
    "for e in grupo1:\n",
    "    print e, grupo1[e]"
   ]
  },
  {
   "cell_type": "markdown",
   "metadata": {
    "slideshow": {
     "slide_type": "slide"
    }
   },
   "source": [
    "A ordem da iteração das chaves num dicionário é \"incerta\".\n",
    "\n",
    "Podemos forçar uma ordem, iterando sobre uma **lista** com as chaves, na ordem desejada: "
   ]
  },
  {
   "cell_type": "code",
   "execution_count": 13,
   "metadata": {
    "collapsed": false
   },
   "outputs": [
    {
     "name": "stdout",
     "output_type": "stream",
     "text": [
      "elementos do grupo 1\n",
      "H 1\n",
      "Li 3\n",
      "Na 11\n",
      "K 19\n"
     ]
    }
   ],
   "source": [
    "grupo1 = {'H':1, 'Li':3, 'Na':11, 'K':19}\n",
    "\n",
    "print 'elementos do grupo 1'\n",
    "for e in ['H', 'Li', 'Na', 'K']:\n",
    "    print e, grupo1[e]"
   ]
  },
  {
   "cell_type": "markdown",
   "metadata": {
    "slideshow": {
     "slide_type": "slide"
    }
   },
   "source": [
    "**Problema: somar todos os numeros de 1 a 10**"
   ]
  },
  {
   "cell_type": "code",
   "execution_count": 14,
   "metadata": {
    "collapsed": false
   },
   "outputs": [
    {
     "name": "stdout",
     "output_type": "stream",
     "text": [
      "a soma de [1, 2, 3, 4, 5, 6, 7, 8, 9, 10] é 55\n"
     ]
    }
   ],
   "source": [
    "nums = [1,2,3,4,5,6,7,8,9,10]\n",
    "\n",
    "s = 0\n",
    "for i in nums:\n",
    "    s = s + i\n",
    "\n",
    "print 'a soma de', nums, 'é', s"
   ]
  },
  {
   "cell_type": "markdown",
   "metadata": {
    "slideshow": {
     "slide_type": "slide"
    }
   },
   "source": [
    "O papel de `s` neste exemplo é o de \"acumular\" a soma de sucessivos valores obtidos da iteração dos elementos da lista `nums`.\n",
    "\n",
    "Inicialmente, antes de começar a iteração (antes do programa entrar no comando `for`), `s` tem o valor 0. Cada vez que \"passamos\" a um novo valor `i`, este é somado ao valor anterior de `s`. Assim, conseguimos acumular a soma de todos os `i`."
   ]
  },
  {
   "cell_type": "markdown",
   "metadata": {
    "slideshow": {
     "slide_type": "slide"
    }
   },
   "source": [
    "**Problema: somar todos os números de 1 a 1000**"
   ]
  },
  {
   "cell_type": "markdown",
   "metadata": {},
   "source": [
    "Desta vez não vamos criar a lista de numeros explicitamente (e manualmente)"
   ]
  },
  {
   "cell_type": "code",
   "execution_count": 15,
   "metadata": {
    "collapsed": false
   },
   "outputs": [
    {
     "name": "stdout",
     "output_type": "stream",
     "text": [
      "a soma dos números de 1 a 1000 é 500500\n"
     ]
    }
   ],
   "source": [
    "s = 0\n",
    "\n",
    "for i in range(1, 1001):\n",
    "    s = s + i\n",
    "\n",
    "print 'a soma dos números de 1 a 1000 é', s"
   ]
  },
  {
   "cell_type": "markdown",
   "metadata": {
    "slideshow": {
     "slide_type": "slide"
    }
   },
   "source": [
    "## `range()`: coleção de números inteiros"
   ]
  },
  {
   "cell_type": "markdown",
   "metadata": {},
   "source": [
    "A função `range()`, que pode ter até 3 argumentos, `range(início, fim, passo)`, é usada num comando `for` para percorrer uma coleção de **números inteiros**,\n",
    "\n",
    "desde `início` até `fim`, **exclusivé**, de `passo` em `passo`.\n",
    "\n",
    "`início` e `passo` são opcionais.\n",
    "\n",
    "Se forem omitidos,\n",
    "\n",
    "- `início` é 0\n",
    "- `passo` é 1\n",
    "\n",
    "Nunca esquecer que `fim` **é excluído da lista**\n",
    "\n",
    "Exemplos:"
   ]
  },
  {
   "cell_type": "code",
   "execution_count": 16,
   "metadata": {
    "collapsed": false,
    "slideshow": {
     "slide_type": "slide"
    }
   },
   "outputs": [
    {
     "name": "stdout",
     "output_type": "stream",
     "text": [
      "-- range(12) ----------\n",
      "0\n",
      "1\n",
      "2\n",
      "3\n",
      "4\n",
      "5\n",
      "6\n",
      "7\n",
      "8\n",
      "9\n",
      "10\n",
      "11\n"
     ]
    }
   ],
   "source": [
    "print '-- range(12) ----------'\n",
    "# acaba em 12 (exclusivé), começa em 0 e percorre de 1 em 1.\n",
    "\n",
    "for i in range(12):\n",
    "    print i"
   ]
  },
  {
   "cell_type": "code",
   "execution_count": 17,
   "metadata": {
    "collapsed": false,
    "slideshow": {
     "slide_type": "slide"
    }
   },
   "outputs": [
    {
     "name": "stdout",
     "output_type": "stream",
     "text": [
      "-- range(5, 12) ----------\n",
      "5\n",
      "6\n",
      "7\n",
      "8\n",
      "9\n",
      "10\n",
      "11\n"
     ]
    }
   ],
   "source": [
    "print '-- range(5, 12) ----------'\n",
    "# começa em 5, acaba em 12 (exclusivé) e percorre de 1 em 1.\n",
    "\n",
    "for i in range(5, 12):\n",
    "    print i"
   ]
  },
  {
   "cell_type": "code",
   "execution_count": 18,
   "metadata": {
    "collapsed": false,
    "slideshow": {
     "slide_type": "slide"
    }
   },
   "outputs": [
    {
     "name": "stdout",
     "output_type": "stream",
     "text": [
      "-- range(5, 12, 2) ----------\n",
      "5\n",
      "7\n",
      "9\n",
      "11\n"
     ]
    }
   ],
   "source": [
    "print '-- range(5, 12, 2) ----------'\n",
    "# começa em 5, acaba em 12 (exclusivé) e percorre de 2 em 2.\n",
    "\n",
    "for i in range(5, 12, 2):\n",
    "    print i"
   ]
  },
  {
   "cell_type": "markdown",
   "metadata": {
    "slideshow": {
     "slide_type": "slide"
    }
   },
   "source": [
    "**Problema: calcular o factorial de 1000**"
   ]
  },
  {
   "cell_type": "code",
   "execution_count": 19,
   "metadata": {
    "collapsed": false
   },
   "outputs": [
    {
     "name": "stdout",
     "output_type": "stream",
     "text": [
      "o factorial de 100 é 402387260077093773543702433923003985719374864210714632543799910429938512398629020592044208486969404800479988610197196058631666872994808558901323829669944590997424504087073759918823627727188732519779505950995276120874975462497043601418278094646496291056393887437886487337119181045825783647849977012476632889835955735432513185323958463075557409114262417474349347553428646576611667797396668820291207379143853719588249808126867838374559731746136085379534524221586593201928090878297308431392844403281231558611036976801357304216168747609675871348312025478589320767169132448426236131412508780208000261683151027341827977704784635868170164365024153691398281264810213092761244896359928705114964975419909342221566832572080821333186116811553615836546984046708975602900950537616475847728421889679646244945160765353408198901385442487984959953319101723355556602139450399736280750137837615307127761926849034352625200015888535147331611702103968175921510907788019393178114194545257223865541461062892187960223838971476088506276862967146674697562911234082439208160153780889893964518263243671616762179168909779911903754031274622289988005195444414282012187361745992642956581746628302955570299024324153181617210465832036786906117260158783520751516284225540265170483304226143974286933061690897968482590125458327168226458066526769958652682272807075781391858178889652208164348344825993266043367660176999612831860788386150279465955131156552036093988180612138558600301435694527224206344631797460594682573103790084024432438465657245014402821885252470935190620929023136493273497565513958720559654228749774011413346962715422845862377387538230483865688976461927383814900140767310446640259899490222221765904339901886018566526485061799702356193897017860040811889729918311021171229845901641921068884387121855646124960798722908519296819372388642614839657382291123125024186649353143970137428531926649875337218940694281434118520158014123344828015051399694290153483077644569099073152433278288269864602789864321139083506217095002597389863554277196742822248757586765752344220207573630569498825087968928162753848863396909959826280956121450994871701244516461260379029309120889086942028510640182154399457156805941872748998094254742173582401063677404595741785160829230135358081840096996372524230560855903700624271243416909004153690105933983835777939410970027753472000000000000000000000000000000000000000000000000000000000000000000000000000000000000000000000000000000000000000000000000000000000000000000000000000000000000000000000000000000000000000000000000000000000000000000000000000000000000000000000000000000000\n"
     ]
    }
   ],
   "source": [
    "fact = 1\n",
    "for i in range(1, 1001):\n",
    "    fact = fact * i\n",
    "\n",
    "print 'o factorial de 100 é', fact"
   ]
  },
  {
   "cell_type": "markdown",
   "metadata": {
    "slideshow": {
     "slide_type": "slide"
    }
   },
   "source": [
    "Mais uma vez, temos que acumular os produtos sucessivos. `fact` tem esse papel. É análogo a `s` e `seq3` nos exemplos anteriores.\n",
    "\n",
    "Aqui a diferença é que estamos a acumular produtos e, por isso, `fact` tem de ter o valor inicial de 1 antes de começar a iteração. "
   ]
  },
  {
   "cell_type": "markdown",
   "metadata": {
    "slideshow": {
     "slide_type": "slide"
    }
   },
   "source": [
    "Agora um problema mais elaborado:\n",
    "\n",
    "**converter uma sequência com códigos de uma letra de aminoácidos para códigos de 3 letras, usando um dicionário para a conversão.**"
   ]
  },
  {
   "cell_type": "code",
   "execution_count": 20,
   "metadata": {
    "collapsed": false,
    "slideshow": {
     "slide_type": "slide"
    }
   },
   "outputs": [
    {
     "name": "stdout",
     "output_type": "stream",
     "text": [
      "ADKLITCWFHHWE é o mesmo que  Ala-Asp-Lys-Leu-Ile-Thr-Cys-Trp-Phe-His-His-Trp-Glu-\n"
     ]
    }
   ],
   "source": [
    "trans = {'A': 'Ala', 'C': 'Cys', 'E': 'Glu', 'D': 'Asp', 'G': 'Gly', 'F': 'Phe', 'I': 'Ile', 'H': 'His', 'K': 'Lys', 'M': 'Met', 'L': 'Leu', 'N': 'Asn', 'Q': 'Gln', 'P': 'Pro', 'S': 'Ser', 'R': 'Arg', 'T': 'Thr', 'W': 'Trp', 'V': 'Val', 'Y': 'Tyr'}\n",
    "\n",
    "# Problema: transformar seq1 numa string com os códigos de 3 letras dos aa\n",
    "seq1 = 'ADKLITCWFHHWE'\n",
    "\n",
    "seq3 = ''\n",
    "for aa in seq1:\n",
    "    seq3 = seq3 + trans[aa] + '-'\n",
    "\n",
    "print seq1, 'é o mesmo que ', seq3"
   ]
  },
  {
   "cell_type": "markdown",
   "metadata": {
    "slideshow": {
     "slide_type": "slide"
    }
   },
   "source": [
    "Antes da iteração com `for` iniciamos uma _string_,  `seq3`, vazia (isto é, com aspas vazias `''`), à qual vamos acrescentando a \"tradução\" dos códigos de uma letra, aminoácido a aminoácido. O papel de `seq3` é análogo ao de `s` no exemplo anterior. Só que, desta vez, \"acumulamos\" por \"soma\" de _strings_. Por isso, `seq3` é inicializado com `''`."
   ]
  },
  {
   "cell_type": "markdown",
   "metadata": {
    "slideshow": {
     "slide_type": "slide"
    }
   },
   "source": [
    "## `len()`: número de elementos de uma coleção."
   ]
  },
  {
   "cell_type": "markdown",
   "metadata": {},
   "source": [
    "A função `len()` **pode ser aplicada a qualquer coleção**, devolvendo o **número de elementos** contidos nessa coleção."
   ]
  },
  {
   "cell_type": "code",
   "execution_count": 21,
   "metadata": {
    "collapsed": false
   },
   "outputs": [
    {
     "name": "stdout",
     "output_type": "stream",
     "text": [
      "7\n",
      "25\n",
      "20\n"
     ]
    }
   ],
   "source": [
    "a = [2,4,6,8,10, 'viria o 12', 'e depois o 14']\n",
    "s = 'Eu sou uma pequena string'\n",
    "trans = {'A': 'Ala', 'C': 'Cys', 'E': 'Glu', 'D': 'Asp', 'G': 'Gly', 'F': 'Phe', 'I': 'Ile', 'H': 'His', 'K': 'Lys', 'M': 'Met', 'L': 'Leu', 'N': 'Asn', 'Q': 'Gln', 'P': 'Pro', 'S': 'Ser', 'R': 'Arg', 'T': 'Thr', 'W': 'Trp', 'V': 'Val', 'Y': 'Tyr'}\n",
    "\n",
    "print len(a)\n",
    "print len(s)\n",
    "print len(trans)"
   ]
  },
  {
   "cell_type": "markdown",
   "metadata": {
    "slideshow": {
     "slide_type": "slide"
    }
   },
   "source": [
    "## Comando `while`"
   ]
  },
  {
   "cell_type": "code",
   "execution_count": 22,
   "metadata": {
    "collapsed": false
   },
   "outputs": [
    {
     "name": "stdout",
     "output_type": "stream",
     "text": [
      "10\n",
      "9\n",
      "8\n",
      "7\n",
      "6\n",
      "5\n",
      "4\n",
      "3\n",
      "2\n",
      "1\n",
      "kabum!\n"
     ]
    }
   ],
   "source": [
    "#contagem decrescente\n",
    "count = 10\n",
    "while count > 0:\n",
    "    print count\n",
    "    count = count - 1\n",
    "print 'kabum!'"
   ]
  },
  {
   "cell_type": "markdown",
   "metadata": {
    "slideshow": {
     "slide_type": "slide"
    }
   },
   "source": [
    "O comando while é pouco usado na linguagem Python. Muitas vezes a repetição é usada como **iteração de elementos de uma coleção**."
   ]
  }
 ],
 "metadata": {
  "kernelspec": {
   "display_name": "Python 2",
   "language": "python",
   "name": "python2"
  },
  "language_info": {
   "codemirror_mode": {
    "name": "ipython",
    "version": 2
   },
   "file_extension": ".py",
   "mimetype": "text/x-python",
   "name": "python",
   "nbconvert_exporter": "python",
   "pygments_lexer": "ipython2",
   "version": "2.7.11"
  }
 },
 "nbformat": 4,
 "nbformat_minor": 0
}
