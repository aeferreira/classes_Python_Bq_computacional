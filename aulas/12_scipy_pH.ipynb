{
 "cells": [
  {
   "cell_type": "markdown",
   "metadata": {
    "slideshow": {
     "slide_type": "slide"
    }
   },
   "source": [
    "# Example: Simulation of the acid-base changes in an amino-acid solution"
   ]
  },
  {
   "cell_type": "markdown",
   "metadata": {
    "slideshow": {
     "slide_type": "slide"
    }
   },
   "source": [
    "Here we make a simple simulation of the changes in pH and charge distribution of an amino acid in solution.\n",
    "\n",
    "Focus will be on Glycine first, but the derivarion and the analysis can easily be applied to the other amino acids if the values of the pKa are known.\n"
   ]
  },
  {
   "cell_type": "markdown",
   "metadata": {
    "slideshow": {
     "slide_type": "slide"
    }
   },
   "source": [
    "## Derivation of the relevant equations"
   ]
  },
  {
   "cell_type": "markdown",
   "metadata": {
    "slideshow": {
     "slide_type": "slide"
    }
   },
   "source": [
    "We first seek to calculate the charge distribution of glycine in solution as a function of pH.\n",
    "\n",
    "At any pH, we can find glycine as a mixture of three species:\n",
    "\n",
    "$NH^{+}_3 - CH_2 - COOH$ the positive form, here represented by $G^+$.\n",
    "\n",
    "$NH_2 - CH_2 - COOH$ the neutral form, here represented by $G^0$.\n",
    "\n",
    "$NH_2 - CH_2 - COO^{-}$ the negative form, here represented by $G^-$.\n"
   ]
  },
  {
   "cell_type": "markdown",
   "metadata": {
    "slideshow": {
     "slide_type": "slide"
    }
   },
   "source": [
    "Total of different forms is constant:\n",
    "\n",
    "$G^+ + G^0 + G^- = G_{tot}$"
   ]
  },
  {
   "cell_type": "markdown",
   "metadata": {},
   "source": [
    "There are two equilibria\n",
    "\n",
    "$pH = pK1 + log_{10} \\left( \\frac{G^0}{G^+} \\right)$\n",
    "\n",
    "$pH = pK2 + log_{10} \\left( \\frac{G^-}{G^0} \\right)$\n"
   ]
  },
  {
   "cell_type": "markdown",
   "metadata": {
    "slideshow": {
     "slide_type": "slide"
    }
   },
   "source": [
    "We need to calculate all the forms of the amino acid as a function of pH."
   ]
  },
  {
   "cell_type": "markdown",
   "metadata": {
    "slideshow": {
     "slide_type": "slide"
    }
   },
   "source": [
    "Let's make\n",
    "\n",
    "$f1 = \\frac{G^0}{G^+}$ and $f2 = \\frac{G^-}{G^0}$\n",
    "\n",
    "Then\n",
    "\n",
    "$f1 = 10^{pH - pK1}$ and $f2 = 10^{pH - pK2}$\n",
    "\n",
    "Now, using these in the total amino acid conservation equation,\n",
    "\n",
    "$G^+ + G^+ f1 + G^+ f1 f2 = G_{tot}$\n",
    "\n",
    "or\n",
    "\n",
    "$G^+ = \\frac{G_{tot}}{1 + f1 + f1f2}$\n",
    "\n",
    "And, by definition of $f1$ and $f2$, \n",
    "\n",
    "$G^0 = G^+ f1$\n",
    "\n",
    "$G^- = G^0 f2$"
   ]
  },
  {
   "cell_type": "markdown",
   "metadata": {
    "slideshow": {
     "slide_type": "slide"
    }
   },
   "source": [
    "The sequence of calculations is then\n",
    "\n",
    "$pH \\longrightarrow f1, f2 \\longrightarrow G^+ \\longrightarrow G^0 \\longrightarrow G^-$"
   ]
  },
  {
   "cell_type": "markdown",
   "metadata": {
    "slideshow": {
     "slide_type": "slide"
    }
   },
   "source": [
    "An additional problem is the calculation of the amount of $OH^-$ than must be used to drive the solution to a given pH, starting from a very low pH solution"
   ]
  },
  {
   "cell_type": "markdown",
   "metadata": {},
   "source": [
    "This is simply\n",
    "\n",
    "$nOH^- = nG^0 + 2 nG^-$"
   ]
  },
  {
   "cell_type": "markdown",
   "metadata": {
    "slideshow": {
     "slide_type": "skip"
    }
   },
   "source": [
    "## Analysis"
   ]
  },
  {
   "cell_type": "markdown",
   "metadata": {
    "slideshow": {
     "slide_type": "slide"
    }
   },
   "source": [
    "### Computation"
   ]
  },
  {
   "cell_type": "markdown",
   "metadata": {
    "slideshow": {
     "slide_type": "slide"
    }
   },
   "source": [
    "Make the necessary imports"
   ]
  },
  {
   "cell_type": "code",
   "execution_count": 6,
   "metadata": {
    "collapsed": true
   },
   "outputs": [],
   "source": [
    "from numpy import linspace"
   ]
  },
  {
   "cell_type": "markdown",
   "metadata": {
    "slideshow": {
     "slide_type": "slide"
    }
   },
   "source": [
    "Use derived equations to compute species distribution and the amount of base necessary to change the solution into a given pH value."
   ]
  },
  {
   "cell_type": "code",
   "execution_count": 7,
   "metadata": {
    "collapsed": true
   },
   "outputs": [],
   "source": [
    "pK1 = 2.3\n",
    "pK2 = 9.6\n",
    "Gt  = 0.1 # M\n",
    "\n",
    "pH = linspace(0, 14, 14000)\n",
    "f1 = 10.0**(pH - pK1)\n",
    "f2 = 10.0**(pH - pK2)\n",
    "\n",
    "Gplus = Gt / (1 + f1 + f1*f2)\n",
    "Gzero = f1 * Gplus\n",
    "Gminus = f2 * Gzero\n",
    "nOH = Gzero + 2 * Gminus"
   ]
  },
  {
   "cell_type": "markdown",
   "metadata": {
    "slideshow": {
     "slide_type": "slide"
    }
   },
   "source": [
    "### Plots"
   ]
  },
  {
   "cell_type": "markdown",
   "metadata": {
    "slideshow": {
     "slide_type": "slide"
    }
   },
   "source": [
    "Obtain a plot of the distribution of the three different species of the amino acid as a function of pH."
   ]
  },
  {
   "cell_type": "code",
   "execution_count": 8,
   "metadata": {
    "collapsed": false
   },
   "outputs": [],
   "source": [
    "%matplotlib inline \n",
    "# This is to be used in IPython/Jupyter notebooks\n",
    "# This makes plots appear \"inline\" as part of cell's outputs."
   ]
  },
  {
   "cell_type": "code",
   "execution_count": 27,
   "metadata": {
    "collapsed": false,
    "slideshow": {
     "slide_type": "slide"
    }
   },
   "outputs": [
    {
     "data": {
      "image/png": "[encoded data removed]",
      "text/plain": [
       "<matplotlib.figure.Figure at 0x789b670>"
      ]
     },
     "metadata": {},
     "output_type": "display_data"
    }
   ],
   "source": [
    "import matplotlib.pyplot as pl\n",
    "\n",
    "pl.plot(pH, Gplus, 'r-')\n",
    "pl.plot(pH, Gzero, color='darkgreen')\n",
    "pl.plot(pH, Gminus, color='darkblue')\n",
    "\n",
    "pl.ylabel('concentration')\n",
    "pl.xlabel('$pH$')\n",
    "pl.legend(('$G^+$','$G^0$', '$G^-$'))\n",
    "pl.title('Species distribution')"
   ]
  },
  {
   "cell_type": "markdown",
   "metadata": {
    "slideshow": {
     "slide_type": "slide"
    }
   },
   "source": [
    "Plot also the amount of base necessary to change the pH of the solution, but **exchange the x and y axis**, so that it looks like we are titrating the solution."
   ]
  },
  {
   "cell_type": "code",
   "execution_count": 16,
   "metadata": {
    "collapsed": false
   },
   "outputs": [
    {
     "data": {
      "image/png": "[encoded data removed]",
      "text/plain": [
       "<matplotlib.figure.Figure at 0x9660d10>"
      ]
     },
     "metadata": {},
     "output_type": "display_data"
    }
   ],
   "source": [
    "pl.plot(nOH, pH, color='teal')\n",
    "\n",
    "pl.ylabel('$pH$')\n",
    "pl.xlabel('$nOH^{-}$')\n",
    "pl.grid()"
   ]
  }
 ],
 "metadata": {
  "celltoolbar": "Slideshow",
  "kernelspec": {
   "display_name": "Python 2",
   "language": "python",
   "name": "python2"
  },
  "language_info": {
   "codemirror_mode": {
    "name": "ipython",
    "version": 2
   },
   "file_extension": ".py",
   "mimetype": "text/x-python",
   "name": "python",
   "nbconvert_exporter": "python",
   "pygments_lexer": "ipython2",
   "version": "2.7.11"
  }
 },
 "nbformat": 4,
 "nbformat_minor": 0
}
