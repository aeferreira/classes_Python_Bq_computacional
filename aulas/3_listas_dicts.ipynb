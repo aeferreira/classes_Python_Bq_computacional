{
 "cells": [
  {
   "cell_type": "markdown",
   "metadata": {
    "slideshow": {
     "slide_type": "slide"
    }
   },
   "source": [
    "# Listas"
   ]
  },
  {
   "cell_type": "markdown",
   "metadata": {
    "slideshow": {
     "slide_type": "slide"
    }
   },
   "source": [
    "## Algumas funções associadas a listas"
   ]
  },
  {
   "cell_type": "markdown",
   "metadata": {},
   "source": [
    "Recordemos: em comum com as outras coleções,\n",
    "\n",
    "- as listas podem ser iteradas num comando `for`.\n",
    "- a função `len()` pode ser usada para determinar o numero de elementos de uma lista.\n",
    "- podemos testar se um elemento pertence a uma lista usando `in`.\n"
   ]
  },
  {
   "cell_type": "markdown",
   "metadata": {
    "slideshow": {
     "slide_type": "skip"
    }
   },
   "source": [
    "Vejamos algumas funções que são **específicas das listas**:"
   ]
  },
  {
   "cell_type": "markdown",
   "metadata": {
    "slideshow": {
     "slide_type": "slide"
    }
   },
   "source": [
    "### `.append()`, `.insert()`."
   ]
  },
  {
   "cell_type": "code",
   "execution_count": 1,
   "metadata": {
    "collapsed": false
   },
   "outputs": [
    {
     "name": "stdout",
     "output_type": "stream",
     "text": [
      "[1, 2, 3, 4]\n",
      "\n",
      "depois de append(10): [1, 2, 3, 4, 10]\n",
      "\n",
      "depois de insert(1, 20): [1, 20, 2, 3, 4, 10]\n"
     ]
    }
   ],
   "source": [
    "a = [1, 2, 3, 4]\n",
    "print(a)\n",
    "\n",
    "a.append(10)\n",
    "\n",
    "print('\\ndepois de append(10):', a)\n",
    "\n",
    "a.insert(1, 20)\n",
    "\n",
    "print('\\ndepois de insert(1, 20):', a)"
   ]
  },
  {
   "cell_type": "markdown",
   "metadata": {
    "slideshow": {
     "slide_type": "slide"
    }
   },
   "source": [
    "###  `.extend()`."
   ]
  },
  {
   "cell_type": "code",
   "execution_count": 2,
   "metadata": {
    "collapsed": false
   },
   "outputs": [
    {
     "name": "stdout",
     "output_type": "stream",
     "text": [
      "[1, 2, 3, 4]\n",
      "\n",
      "depois de extend([11, 12, 13, 14]):\n",
      "[1, 2, 3, 4, 11, 12, 13, 14]\n"
     ]
    }
   ],
   "source": [
    "a = [1, 2, 3, 4]\n",
    "print(a)\n",
    "\n",
    "novos = [11, 12, 13, 14]\n",
    "a.extend(novos)\n",
    "\n",
    "print('\\ndepois de extend([11, 12, 13, 14]):')\n",
    "print(a)"
   ]
  },
  {
   "cell_type": "markdown",
   "metadata": {
    "slideshow": {
     "slide_type": "slide"
    }
   },
   "source": [
    "### `.remove()`"
   ]
  },
  {
   "cell_type": "code",
   "execution_count": 3,
   "metadata": {
    "collapsed": false
   },
   "outputs": [
    {
     "name": "stdout",
     "output_type": "stream",
     "text": [
      "[1, 2, 3, 4, 1, 2, 3, 4, 1, 2, 3, 4]\n",
      "\n",
      "depois de remove(3): [1, 2, 4, 1, 2, 3, 4, 1, 2, 3, 4]\n"
     ]
    }
   ],
   "source": [
    "a = [1, 2, 3, 4, 1, 2, 3, 4, 1, 2, 3, 4]\n",
    "print(a)\n",
    "\n",
    "a.remove(3)\n",
    "\n",
    "print('\\ndepois de remove(3):', a)"
   ]
  },
  {
   "cell_type": "markdown",
   "metadata": {
    "slideshow": {
     "slide_type": "slide"
    }
   },
   "source": [
    "### `.count()`."
   ]
  },
  {
   "cell_type": "code",
   "execution_count": 4,
   "metadata": {
    "collapsed": false
   },
   "outputs": [
    {
     "name": "stdout",
     "output_type": "stream",
     "text": [
      "[1, 2, 3, 4, 1, 2, 3, 4, 1, 2, 3, 4]\n",
      "\n",
      "resultado de count(1:)\n",
      "3\n"
     ]
    }
   ],
   "source": [
    "a = [1, 2, 3, 4, 1, 2, 3, 4, 1, 2, 3, 4]\n",
    "print(a)\n",
    "\n",
    "print('\\nresultado de count(1:)')\n",
    "print(a.count(1))"
   ]
  },
  {
   "cell_type": "markdown",
   "metadata": {
    "slideshow": {
     "slide_type": "slide"
    }
   },
   "source": [
    "## `.append()` como geradora de listas novas"
   ]
  },
  {
   "cell_type": "markdown",
   "metadata": {},
   "source": [
    "Recordar que as listas podem ser iteradas com o comando `for`.\n",
    "\n",
    "A combinação da iteração de listas com a função `.append()` começando numa **lista vazia** é uma das combinações mais poderosas para gerar novas listas."
   ]
  },
  {
   "cell_type": "markdown",
   "metadata": {
    "slideshow": {
     "slide_type": "slide"
    }
   },
   "source": [
    "**Problema: gerar os 40 primeiros quadrados perfeitos** $\\{i^2: i=0, 1, 2,...,39\\}$ **pondo o resultado numa lista**\n",
    "\n",
    "Podemos combinar `.append()` com `for`:"
   ]
  },
  {
   "cell_type": "code",
   "execution_count": 5,
   "metadata": {
    "collapsed": false,
    "slideshow": {
     "slide_type": "slide"
    }
   },
   "outputs": [
    {
     "name": "stdout",
     "output_type": "stream",
     "text": [
      "[0, 1, 4, 9, 16, 25, 36, 49, 64, 81, 100, 121, 144, 169, 196, 225, 256, 289, 324, 361, 400, 441, 484, 529, 576, 625, 676, 729, 784, 841, 900, 961, 1024, 1089, 1156, 1225, 1296, 1369, 1444, 1521]\n"
     ]
    }
   ],
   "source": [
    "a = []\n",
    "for i in range(40):\n",
    "    a.append(i**2)\n",
    "\n",
    "print(a)"
   ]
  },
  {
   "cell_type": "markdown",
   "metadata": {
    "slideshow": {
     "slide_type": "slide"
    }
   },
   "source": [
    "**Problema: gerar os 40 primeiros quadrados perfeitos** $\\{i^2: i=0, 1, 2,...,39\\}$**, que estejam entre 400 e 800, pondo o resultado numa lista**\n",
    "\n",
    "Podemos combinar `.append()` com `for` e `if`:"
   ]
  },
  {
   "cell_type": "code",
   "execution_count": 6,
   "metadata": {
    "collapsed": false,
    "slideshow": {
     "slide_type": "slide"
    }
   },
   "outputs": [
    {
     "name": "stdout",
     "output_type": "stream",
     "text": [
      "[400, 441, 484, 529, 576, 625, 676, 729, 784]\n"
     ]
    }
   ],
   "source": [
    "a = []\n",
    "for i in range(40):\n",
    "    q = i**2\n",
    "    if q >= 400 and q <= 800:\n",
    "        a.append(q)\n",
    "\n",
    "print(a)"
   ]
  },
  {
   "cell_type": "markdown",
   "metadata": {
    "slideshow": {
     "slide_type": "slide"
    }
   },
   "source": [
    "**Problema: somar os 10 primeiros números ímpares** $\\sum\\limits_{i=0}^9 2i+1$"
   ]
  },
  {
   "cell_type": "code",
   "execution_count": 7,
   "metadata": {
    "collapsed": false,
    "slideshow": {
     "slide_type": "slide"
    }
   },
   "outputs": [
    {
     "name": "stdout",
     "output_type": "stream",
     "text": [
      "[1, 3, 5, 7, 9, 11, 13, 15, 17, 19]\n",
      "soma dos 10 primeiros ímpares: 100\n",
      "Pela soma de prog. aritm. 100.0\n"
     ]
    }
   ],
   "source": [
    "impares = []\n",
    "for i in range(10):\n",
    "    impares.append(2*i + 1)\n",
    "print(impares)\n",
    "\n",
    "soma = 0\n",
    "for i in impares:\n",
    "    soma = soma + i\n",
    "\n",
    "print('soma dos 10 primeiros ímpares:', soma)\n",
    "print('Pela soma de prog. aritm.',(1+19)/2*10)"
   ]
  },
  {
   "cell_type": "markdown",
   "metadata": {
    "slideshow": {
     "slide_type": "slide"
    }
   },
   "source": [
    "## Indexação"
   ]
  },
  {
   "cell_type": "markdown",
   "metadata": {},
   "source": [
    "As listas têm uma **numeração implícita, (a contar do zero)**, e podemos **indexar** uma lista usando `lista[posição]`"
   ]
  },
  {
   "cell_type": "code",
   "execution_count": 8,
   "metadata": {
    "collapsed": false,
    "slideshow": {
     "slide_type": "slide"
    }
   },
   "outputs": [
    {
     "name": "stdout",
     "output_type": "stream",
     "text": [
      "HK\n",
      "Ald\n",
      "PK\n"
     ]
    }
   ],
   "source": [
    "enzimas = ['HK', 'G6PDH', 'TPI', 'Ald', 'PFK', 'PK']\n",
    "#           0       1       2      3      4      5   len()\n",
    "\n",
    "print(enzimas[0])\n",
    "print(enzimas[3])\n",
    "print(enzimas[len(enzimas) -1])"
   ]
  },
  {
   "cell_type": "markdown",
   "metadata": {
    "slideshow": {
     "slide_type": "slide"
    }
   },
   "source": [
    "As listas têm também uma **numeração implícita com números negativos**: o último elemento é -1, o penúltimo -2 e assim sucessivamente."
   ]
  },
  {
   "cell_type": "code",
   "execution_count": 9,
   "metadata": {
    "collapsed": false,
    "slideshow": {
     "slide_type": "slide"
    }
   },
   "outputs": [
    {
     "name": "stdout",
     "output_type": "stream",
     "text": [
      "TPI\n",
      "HK\n",
      "PK\n"
     ]
    }
   ],
   "source": [
    "enzimas = ['HK', 'G6PDH', 'TPI', 'Ald', 'PFK', 'PK']\n",
    "#                          -4     -3     -2     -1\n",
    "\n",
    "print(enzimas[-4])\n",
    "print(enzimas[-6])\n",
    "print(enzimas[-1])"
   ]
  },
  {
   "cell_type": "markdown",
   "metadata": {
    "slideshow": {
     "slide_type": "slide"
    }
   },
   "source": [
    "A indexação permite usar elementos de uma lista pela sua posição"
   ]
  },
  {
   "cell_type": "code",
   "execution_count": 10,
   "metadata": {
    "collapsed": false
   },
   "outputs": [
    {
     "name": "stdout",
     "output_type": "stream",
     "text": [
      "11\n"
     ]
    }
   ],
   "source": [
    "a = [1, 1, 1, 2, 2, 2, 3, 3, 3, 4, 4, 4]\n",
    "\n",
    "print( 2*a[1] + a[2] + 2*a[-1] )"
   ]
  },
  {
   "cell_type": "markdown",
   "metadata": {
    "slideshow": {
     "slide_type": "slide"
    }
   },
   "source": [
    "A indexação permite também **modificar** um elemento que está numa posição"
   ]
  },
  {
   "cell_type": "code",
   "execution_count": 11,
   "metadata": {
    "collapsed": false
   },
   "outputs": [
    {
     "name": "stdout",
     "output_type": "stream",
     "text": [
      "[1, 1, 1, 2, 2, 2, 3, 3, 3, 4, 4, 4]\n",
      "[1, 1, 4100, 2, 2, 2, 3, 3, 3, 4, 4, 4]\n"
     ]
    }
   ],
   "source": [
    "a = [1, 1, 1, 2, 2, 2, 3, 3, 3, 4, 4, 4]\n",
    "print(a)\n",
    "\n",
    "a[2] = 4 * 2**10 + a[-1]\n",
    "print(a)"
   ]
  },
  {
   "cell_type": "markdown",
   "metadata": {
    "slideshow": {
     "slide_type": "slide"
    }
   },
   "source": [
    "Podemos também indexar a partir da iteração de numeros inteiros "
   ]
  },
  {
   "cell_type": "code",
   "execution_count": 12,
   "metadata": {
    "collapsed": false
   },
   "outputs": [
    {
     "name": "stdout",
     "output_type": "stream",
     "text": [
      "1\n",
      "2\n",
      "3\n",
      "2\n",
      "1\n",
      "-------- dá o mesmo resultado que -----------\n",
      "1\n",
      "2\n",
      "3\n",
      "2\n",
      "1\n"
     ]
    }
   ],
   "source": [
    "a = [1, 2, 3, 2, 1]\n",
    "\n",
    "for e in a:\n",
    "    print(e)\n",
    "\n",
    "print('-------- dá o mesmo resultado que -----------')\n",
    "\n",
    "for i in range(len(a)):\n",
    "    print(a[i])"
   ]
  },
  {
   "cell_type": "markdown",
   "metadata": {
    "slideshow": {
     "slide_type": "slide"
    }
   },
   "source": [
    "**Problema: calcular as diferenças sucessivas entre os elementos de uma lista, pondo o resultado numa lista**"
   ]
  },
  {
   "cell_type": "code",
   "execution_count": 13,
   "metadata": {
    "collapsed": false,
    "slideshow": {
     "slide_type": "slide"
    }
   },
   "outputs": [
    {
     "name": "stdout",
     "output_type": "stream",
     "text": [
      "[1, 1, 1, 2, 2, 2, 3, 3, 3, 5, 5, 7]\n",
      "[0, 0, 1, 0, 0, 1, 0, 0, 2, 0, 2]\n"
     ]
    }
   ],
   "source": [
    "a = [1, 1, 1, 2, 2, 2, 3, 3, 3, 5, 5, 7]\n",
    "\n",
    "difs = []\n",
    "for i in range(1, len(a)):\n",
    "    d = a[i] - a[i-1]\n",
    "    difs.append(d)\n",
    "\n",
    "print(a)\n",
    "print(difs)"
   ]
  },
  {
   "cell_type": "markdown",
   "metadata": {
    "slideshow": {
     "slide_type": "slide"
    }
   },
   "source": [
    "**Problema: mostrar que as diferenças sucessivas entre os quadrados perfeitos, são os números ímpares (usar os 20 primeiros)**"
   ]
  },
  {
   "cell_type": "code",
   "execution_count": 14,
   "metadata": {
    "collapsed": false,
    "slideshow": {
     "slide_type": "slide"
    }
   },
   "outputs": [
    {
     "name": "stdout",
     "output_type": "stream",
     "text": [
      "quadrados perfeitos [0, 1, 4, 9, 16, 25, 36, 49, 64, 81, 100, 121, 144, 169, 196, 225, 256, 289, 324, 361]\n",
      "diferenças sucessivas [1, 3, 5, 7, 9, 11, 13, 15, 17, 19, 21, 23, 25, 27, 29, 31, 33, 35, 37]\n"
     ]
    }
   ],
   "source": [
    "#calcular os quadrados perfeitos\n",
    "quads = []\n",
    "for i in range(20):\n",
    "    quads.append(i**2)\n",
    "\n",
    "#calcular as diferenças sucessivas\n",
    "difs = []\n",
    "for i in range(1, len(quads)):\n",
    "    d = quads[i] - quads[i-1]\n",
    "    difs.append(d)\n",
    "\n",
    "print('quadrados perfeitos', quads)\n",
    "print('diferenças sucessivas', difs)"
   ]
  },
  {
   "cell_type": "markdown",
   "metadata": {
    "slideshow": {
     "slide_type": "skip"
    }
   },
   "source": [
    "A propriedade matemática anterior foi usada por Galileu no estudo da queda livre dos corpos.\n",
    "\n",
    "![](images/galileu.jpg)\n",
    "\n",
    "As distâncias sucessivas percorridas durante a queda para a mesma unidade de tempo estão entre si como a sucessão dos números ímpares, o que implica que a distância acumulada cresce segundo o quadrado do tempo decorrido: o movimento de queda livre é uniformemente acelerado."
   ]
  },
  {
   "cell_type": "markdown",
   "metadata": {
    "slideshow": {
     "slide_type": "slide"
    }
   },
   "source": [
    "## Listas em compreensão"
   ]
  },
  {
   "cell_type": "markdown",
   "metadata": {
    "slideshow": {
     "slide_type": "slide"
    }
   },
   "source": [
    "O padrão\n",
    "\n",
    "```python\n",
    "nova_lista = []\n",
    "for i in uma_lista:\n",
    "    \"<geração de um novo elemento p a partir de i>\"\n",
    "    nova_lista.append(p)\n",
    "```\n",
    "\n",
    "é tão frequente, que existe uma forma mais sucinta de gerar a nova lista:\n",
    "\n",
    "**listas em compreensão**\n",
    "    "
   ]
  },
  {
   "cell_type": "markdown",
   "metadata": {
    "slideshow": {
     "slide_type": "skip"
    }
   },
   "source": [
    "Numa lista em compreensão constrói-se uma lista a partir de outra, indicando a operação a efectuar a cada elemento da lista original. Usa-se um comando `for` para percorrer a lista original.\n",
    "\n",
    "É uma forma muito compacta de construir listas.\n",
    "\n",
    "Como obter uma lista com numeros ímpares:"
   ]
  },
  {
   "cell_type": "code",
   "execution_count": 15,
   "metadata": {
    "collapsed": false,
    "slideshow": {
     "slide_type": "slide"
    }
   },
   "outputs": [
    {
     "name": "stdout",
     "output_type": "stream",
     "text": [
      "[1, 3, 5, 7, 9, 11, 13, 15, 17, 19]\n"
     ]
    }
   ],
   "source": [
    "impares = [2*i+1 for i in range(10)]\n",
    "\n",
    "print(impares)"
   ]
  },
  {
   "cell_type": "markdown",
   "metadata": {
    "slideshow": {
     "slide_type": "skip"
    }
   },
   "source": [
    "Em resumo, entre`[]` indica-se um \"termo geral\" e um comando `for` para percorrer a lista original"
   ]
  },
  {
   "cell_type": "markdown",
   "metadata": {
    "slideshow": {
     "slide_type": "slide"
    }
   },
   "source": [
    "Um outro exemplo: obter os quadrados perfeitos entre 400 e 800"
   ]
  },
  {
   "cell_type": "code",
   "execution_count": 16,
   "metadata": {
    "collapsed": false,
    "slideshow": {
     "slide_type": "slide"
    }
   },
   "outputs": [
    {
     "name": "stdout",
     "output_type": "stream",
     "text": [
      "[441, 484, 529, 576, 625, 676, 729, 784]\n"
     ]
    }
   ],
   "source": [
    "quads = [i**2 for i in range(30)]\n",
    "\n",
    "quads_filtrados = [q for q in quads if q > 400 and q < 800]\n",
    "\n",
    "print(quads_filtrados)"
   ]
  },
  {
   "cell_type": "markdown",
   "metadata": {
    "slideshow": {
     "slide_type": "skip"
    }
   },
   "source": [
    "Este exemplo mostra que podemos impor condições (com o comando `if`) aos valores da lista original."
   ]
  },
  {
   "cell_type": "markdown",
   "metadata": {
    "slideshow": {
     "slide_type": "skip"
    }
   },
   "source": [
    "Num outro exemplo, pretendemos obter uma lista com as diferenças sucessivas entre quadrados perfeitos, para mostrar que são os números ímpares:"
   ]
  },
  {
   "cell_type": "code",
   "execution_count": 17,
   "metadata": {
    "collapsed": false,
    "slideshow": {
     "slide_type": "slide"
    }
   },
   "outputs": [
    {
     "name": "stdout",
     "output_type": "stream",
     "text": [
      "Quadrados:  [0, 1, 4, 9, 16, 25, 36, 49, 64, 81, 100, 121, 144, 169, 196, 225, 256, 289, 324, 361]\n",
      "\n",
      "Diferenças: [1, 3, 5, 7, 9, 11, 13, 15, 17, 19, 21, 23, 25, 27, 29, 31, 33, 35, 37]\n"
     ]
    }
   ],
   "source": [
    "# Diferenças entre quadrados perfeitos sucessivos\n",
    "# são os numeros ímpares\n",
    "q = [i**2 for i in range(20)]\n",
    "difs = [q[i] - q[i-1] for i in range(1, len(q))]\n",
    "\n",
    "print('Quadrados: ', q)\n",
    "print('\\nDiferenças:', difs)"
   ]
  },
  {
   "cell_type": "markdown",
   "metadata": {
    "slideshow": {
     "slide_type": "slide"
    }
   },
   "source": [
    "**Problema: retirar todas as ocorrências de um elemento de uma lista**"
   ]
  },
  {
   "cell_type": "code",
   "execution_count": 18,
   "metadata": {
    "collapsed": false
   },
   "outputs": [
    {
     "name": "stdout",
     "output_type": "stream",
     "text": [
      "['Good', 'Nice', 'OK', 'Bad', 'Cool', 'Bad', 'OK']\n",
      "['Good', 'Nice', 'OK', 'Cool', 'OK']\n"
     ]
    }
   ],
   "source": [
    "kill = 'Bad'\n",
    "a = ['Good','Nice','OK','Bad','Cool','Bad','OK']\n",
    "a_clean = [x for x in a if x != kill]\n",
    "\n",
    "print(a)\n",
    "print(a_clean)"
   ]
  },
  {
   "cell_type": "markdown",
   "metadata": {
    "slideshow": {
     "slide_type": "slide"
    }
   },
   "source": [
    "**Problema: retirar todas as ocorrências dos elemento de uma \"lista negra\"**"
   ]
  },
  {
   "cell_type": "code",
   "execution_count": 19,
   "metadata": {
    "collapsed": false
   },
   "outputs": [
    {
     "name": "stdout",
     "output_type": "stream",
     "text": [
      "['Good', 'So so', 'OK', 'Bad', 'Cool', 'Bad', 'OK']\n",
      "['Good', 'OK', 'Cool', 'OK']\n"
     ]
    }
   ],
   "source": [
    "black_list = ['Bad', 'So so']\n",
    "a = ['Good','So so','OK','Bad','Cool','Bad','OK']\n",
    "a_clean = [x for x in a if x not in black_list]\n",
    "\n",
    "print(a)\n",
    "print(a_clean)"
   ]
  },
  {
   "cell_type": "markdown",
   "metadata": {
    "slideshow": {
     "slide_type": "slide"
    }
   },
   "source": [
    "**Problema: obter uma lista de numeros até 300 que sejam múltiplos de 3 e de 7**"
   ]
  },
  {
   "cell_type": "code",
   "execution_count": 20,
   "metadata": {
    "collapsed": false
   },
   "outputs": [
    {
     "name": "stdout",
     "output_type": "stream",
     "text": [
      "[0, 21, 42, 63, 84, 105, 126, 147, 168, 189, 210, 231, 252, 273, 294]\n"
     ]
    }
   ],
   "source": [
    "mult_3_7 = [x for x in range(301) if x%7==0 and x%3==0]\n",
    "\n",
    "print(mult_3_7)"
   ]
  },
  {
   "cell_type": "markdown",
   "metadata": {
    "slideshow": {
     "slide_type": "skip"
    }
   },
   "source": [
    "Leitura interessante:\n",
    "\n",
    "[Comprehensions in Python the Jedi way](https://gist.github.com/bearfrieze/a746c6f12d8bada03589)"
   ]
  },
  {
   "cell_type": "markdown",
   "metadata": {
    "collapsed": true,
    "slideshow": {
     "slide_type": "slide"
    }
   },
   "source": [
    "## Mais funções de listas"
   ]
  },
  {
   "cell_type": "markdown",
   "metadata": {
    "slideshow": {
     "slide_type": "slide"
    }
   },
   "source": [
    "### `.pop()`, `.reverse()`, `.sort()`"
   ]
  },
  {
   "cell_type": "markdown",
   "metadata": {
    "slideshow": {
     "slide_type": "skip"
    }
   },
   "source": [
    "Todas estas funções **modificam** uma lista, tal como `.append()`."
   ]
  },
  {
   "cell_type": "code",
   "execution_count": 21,
   "metadata": {
    "collapsed": false,
    "slideshow": {
     "slide_type": "slide"
    }
   },
   "outputs": [
    {
     "name": "stdout",
     "output_type": "stream",
     "text": [
      "lista original\n",
      "['seg', 'ter', 'qua', 'qui', 'sex', 'sab', 'dom']\n",
      "\n",
      "Depois de a.reverse()\n",
      "['dom', 'sab', 'sex', 'qui', 'qua', 'ter', 'seg']\n",
      "\n",
      "Depois de a.sort()\n",
      "['dom', 'qua', 'qui', 'sab', 'seg', 'sex', 'ter']\n"
     ]
    }
   ],
   "source": [
    "a = ['seg', 'ter', 'qua', 'qui', 'sex', 'sab', 'dom']\n",
    "print('lista original')\n",
    "print(a)\n",
    "\n",
    "a.reverse()\n",
    "print('\\nDepois de a.reverse()')\n",
    "print(a)\n",
    "\n",
    "a.sort()\n",
    "print('\\nDepois de a.sort()')\n",
    "print(a)"
   ]
  },
  {
   "cell_type": "code",
   "execution_count": 22,
   "metadata": {
    "collapsed": false,
    "slideshow": {
     "slide_type": "slide"
    }
   },
   "outputs": [
    {
     "name": "stdout",
     "output_type": "stream",
     "text": [
      "lista original\n",
      "['seg', 'ter', 'qua', 'qui', 'sex', 'sab', 'dom']\n",
      "Depois de a.pop()\n",
      "['seg', 'ter', 'qua', 'qui', 'sex', 'sab']\n",
      "\n",
      "Depois de a.pop(2)   \n",
      "['seg', 'ter', 'qui', 'sex', 'sab']\n",
      "O valor retirado foi qua\n"
     ]
    }
   ],
   "source": [
    "a = ['seg', 'ter', 'qua', 'qui', 'sex', 'sab', 'dom']\n",
    "print('lista original')\n",
    "print(a)\n",
    "\n",
    "a.pop()\n",
    "print('Depois de a.pop()')\n",
    "print(a)\n",
    "x = a.pop(2)\n",
    "print('\\nDepois de a.pop(2)   ')\n",
    "print(a)\n",
    "print('O valor retirado foi', x)"
   ]
  },
  {
   "cell_type": "markdown",
   "metadata": {
    "collapsed": true,
    "slideshow": {
     "slide_type": "slide"
    }
   },
   "source": [
    "# Dicionários"
   ]
  },
  {
   "cell_type": "markdown",
   "metadata": {
    "slideshow": {
     "slide_type": "slide"
    }
   },
   "source": [
    "Os dicionários são associações não ordenadas entre **chaves** e **valores**. Cada chave é única."
   ]
  },
  {
   "cell_type": "markdown",
   "metadata": {
    "slideshow": {
     "slide_type": "slide"
    }
   },
   "source": [
    "## Indexação e iteração"
   ]
  },
  {
   "cell_type": "markdown",
   "metadata": {
    "slideshow": {
     "slide_type": "skip"
    }
   },
   "source": [
    "A maneira de ler, inserir e modificar valores num dicionário é através das suas chaves. O operador `in` testa a existência de uma chave num dicionário."
   ]
  },
  {
   "cell_type": "code",
   "execution_count": 23,
   "metadata": {
    "collapsed": false,
    "slideshow": {
     "slide_type": "slide"
    }
   },
   "outputs": [
    {
     "name": "stdout",
     "output_type": "stream",
     "text": [
      "K:  19\n",
      "Li: 3\n",
      "O:  16\n",
      "O:  18\n"
     ]
    }
   ],
   "source": [
    "d = {'H':1, 'Li':3, 'Na':11, 'K':19}\n",
    "\n",
    "print('K: ', d['K'])\n",
    "print('Li:', d['Li'])\n",
    "\n",
    "d['O'] = 16\n",
    "print('O: ', d['O'])\n",
    "\n",
    "d['O'] = 18\n",
    "print('O: ', d['O'])"
   ]
  },
  {
   "cell_type": "code",
   "execution_count": 24,
   "metadata": {
    "collapsed": false,
    "slideshow": {
     "slide_type": "slide"
    }
   },
   "outputs": [
    {
     "name": "stdout",
     "output_type": "stream",
     "text": [
      "Não existe info sobre o azoto\n"
     ]
    }
   ],
   "source": [
    "d = {'H':1, 'Li':3, 'Na':11, 'K':19}\n",
    "\n",
    "if 'N' in d:\n",
    "    print('Existe info sobre o azoto')\n",
    "else:\n",
    "    print('Não existe info sobre o azoto')"
   ]
  },
  {
   "cell_type": "markdown",
   "metadata": {
    "slideshow": {
     "slide_type": "slide"
    }
   },
   "source": [
    "A **iteração** percorre as **chaves** de um dicionário:"
   ]
  },
  {
   "cell_type": "code",
   "execution_count": 25,
   "metadata": {
    "collapsed": false
   },
   "outputs": [
    {
     "name": "stdout",
     "output_type": "stream",
     "text": [
      "O ---> 18\n",
      "K ---> 19\n",
      "Na ---> 11\n"
     ]
    }
   ],
   "source": [
    "d = {'H':1, 'Li':3, 'Na':11, 'K':19, 'O':18}\n",
    "\n",
    "for k in d:\n",
    "    if d[k] > 10:\n",
    "        print(k, '--->', d[k])"
   ]
  },
  {
   "cell_type": "markdown",
   "metadata": {
    "slideshow": {
     "slide_type": "slide"
    }
   },
   "source": [
    "## `.update()`"
   ]
  },
  {
   "cell_type": "code",
   "execution_count": 26,
   "metadata": {
    "collapsed": false
   },
   "outputs": [
    {
     "name": "stdout",
     "output_type": "stream",
     "text": [
      "{'a': 1, 'c': 3, 'b': 2}\n",
      "{'a': 1, 'p': 10, 'q': 15, 'c': 3, 'b': 2}\n"
     ]
    }
   ],
   "source": [
    "d = {'a': 1, 'c': 3, 'b': 2}\n",
    "print(d)\n",
    "\n",
    "e = {'p': 10, 'q': 15}\n",
    "d.update(e)\n",
    "print(d)"
   ]
  },
  {
   "cell_type": "markdown",
   "metadata": {
    "slideshow": {
     "slide_type": "slide"
    }
   },
   "source": [
    "## `.clear()`"
   ]
  },
  {
   "cell_type": "code",
   "execution_count": 27,
   "metadata": {
    "collapsed": false
   },
   "outputs": [
    {
     "name": "stdout",
     "output_type": "stream",
     "text": [
      "{'a': 1, 'c': 3, 'b': 2}\n",
      "{}\n"
     ]
    }
   ],
   "source": [
    "d = {'a': 1, 'c': 3, 'b': 2}\n",
    "print(d)\n",
    "\n",
    "d.clear()\n",
    "print(d)"
   ]
  },
  {
   "cell_type": "markdown",
   "metadata": {
    "slideshow": {
     "slide_type": "slide"
    }
   },
   "source": [
    "## `.values()`,`.items()`, `.keys()`"
   ]
  },
  {
   "cell_type": "code",
   "execution_count": 28,
   "metadata": {
    "collapsed": false,
    "slideshow": {
     "slide_type": "slide"
    }
   },
   "outputs": [
    {
     "name": "stdout",
     "output_type": "stream",
     "text": [
      "18\n",
      "1\n",
      "19\n",
      "3\n",
      "11\n"
     ]
    }
   ],
   "source": [
    "d = {'H':1, 'Li':3, 'Na':11, 'K':19, 'O':18}\n",
    "\n",
    "for i in d.values():\n",
    "    print(i)"
   ]
  },
  {
   "cell_type": "code",
   "execution_count": 29,
   "metadata": {
    "collapsed": false,
    "slideshow": {
     "slide_type": "slide"
    }
   },
   "outputs": [
    {
     "name": "stdout",
     "output_type": "stream",
     "text": [
      "('O', 18)\n",
      "('H', 1)\n",
      "('K', 19)\n",
      "('Li', 3)\n",
      "('Na', 11)\n"
     ]
    }
   ],
   "source": [
    "d = {'H':1, 'Li':3, 'Na':11, 'K':19, 'O':18}\n",
    "\n",
    "for i in d.items():\n",
    "    print(i)"
   ]
  },
  {
   "cell_type": "code",
   "execution_count": 30,
   "metadata": {
    "collapsed": false,
    "slideshow": {
     "slide_type": "skip"
    }
   },
   "outputs": [
    {
     "name": "stdout",
     "output_type": "stream",
     "text": [
      "O\n",
      "H\n",
      "K\n",
      "Li\n",
      "Na\n"
     ]
    }
   ],
   "source": [
    "d = {'H':1, 'Li':3, 'Na':11, 'K':19, 'O':18}\n",
    "\n",
    "for i in d.keys():\n",
    "    print(i)"
   ]
  },
  {
   "cell_type": "markdown",
   "metadata": {
    "slideshow": {
     "slide_type": "slide"
    }
   },
   "source": [
    "`.items()` é útil para simplificar um ciclo `for`: podemos desdobrar o par de valores e dar dois nomes diferentes:"
   ]
  },
  {
   "cell_type": "code",
   "execution_count": 31,
   "metadata": {
    "collapsed": false
   },
   "outputs": [
    {
     "name": "stdout",
     "output_type": "stream",
     "text": [
      "O ---> 18\n",
      "K ---> 19\n",
      "Na ---> 11\n"
     ]
    }
   ],
   "source": [
    "# compare-se com o exemplo acima...\n",
    "d = {'H':1, 'Li':3, 'Na':11, 'K':19, 'O':18}\n",
    "\n",
    "for e, n in d.items():\n",
    "    if n > 10:\n",
    "        print (e, '--->', n)"
   ]
  },
  {
   "cell_type": "code",
   "execution_count": 32,
   "metadata": {
    "collapsed": false,
    "slideshow": {
     "slide_type": "skip"
    }
   },
   "outputs": [
    {
     "name": "stdout",
     "output_type": "stream",
     "text": [
      "{'O': 18, 'H': 1, 'K': 19, 'Li': 3, 'Na': 11}\n",
      "{3: 'Li', 1: 'H', 18: 'O', 19: 'K', 11: 'Na'}\n"
     ]
    }
   ],
   "source": [
    "# Virar um dicionário \"do avesso\"\n",
    "d = {'H':1, 'Li':3, 'Na':11, 'K':19, 'O':18}\n",
    "\n",
    "d2 = {}\n",
    "\n",
    "for k in d:\n",
    "    d2[d[k]] = k\n",
    "print(d)\n",
    "print(d2)"
   ]
  },
  {
   "cell_type": "code",
   "execution_count": 33,
   "metadata": {
    "collapsed": false,
    "slideshow": {
     "slide_type": "slide"
    }
   },
   "outputs": [
    {
     "name": "stdout",
     "output_type": "stream",
     "text": [
      "{'O': 18, 'H': 1, 'K': 19, 'Li': 3, 'Na': 11}\n",
      "{3: 'Li', 1: 'H', 18: 'O', 19: 'K', 11: 'Na'}\n"
     ]
    }
   ],
   "source": [
    "# Virar um dicionário \"do avesso\"\n",
    "d = {'H':1, 'Li':3, 'Na':11, 'K':19, 'O':18}\n",
    "\n",
    "d2 = {}\n",
    "\n",
    "for elem, na in d.items():\n",
    "    d2[na] = elem\n",
    "print(d)\n",
    "print(d2)"
   ]
  },
  {
   "cell_type": "markdown",
   "metadata": {},
   "source": [
    "**Problema: Contar os diferentes valores de um dicionário**"
   ]
  },
  {
   "cell_type": "code",
   "execution_count": 34,
   "metadata": {
    "collapsed": false,
    "slideshow": {
     "slide_type": "slide"
    }
   },
   "outputs": [
    {
     "name": "stdout",
     "output_type": "stream",
     "text": [
      "Hobbit 4\n",
      "Humano 2\n",
      "Elfo 1\n",
      "Feiticeiro 1\n",
      "Anão 1\n"
     ]
    }
   ],
   "source": [
    "a = {'Aragorn':'Humano', 'Frodo':'Hobbit',\n",
    "     'Sam':'Hobbit', 'Boromir':'Humano',\n",
    "     'Merry':'Hobbit', 'Took':'Hobbit',\n",
    "     'Gandalf':'Feiticeiro',\n",
    "     'Gimli':'Anão','Legolas':'Elfo'}\n",
    "\n",
    "contagens = {}\n",
    "for especie in a.values():\n",
    "    if especie in contagens:\n",
    "        contagens[especie] = contagens[especie] + 1\n",
    "    else:\n",
    "        contagens[especie] = 1\n",
    "\n",
    "for e, c in contagens.items():\n",
    "    print(e,c )"
   ]
  },
  {
   "cell_type": "markdown",
   "metadata": {
    "slideshow": {
     "slide_type": "slide"
    }
   },
   "source": [
    "## Dicionários em compreensão"
   ]
  },
  {
   "cell_type": "code",
   "execution_count": 35,
   "metadata": {
    "collapsed": false
   },
   "outputs": [
    {
     "name": "stdout",
     "output_type": "stream",
     "text": [
      "0 ----> 0\n",
      "1 ----> 1\n",
      "2 ----> 4\n",
      "3 ----> 9\n",
      "4 ----> 16\n",
      "5 ----> 25\n",
      "6 ----> 36\n",
      "7 ----> 49\n",
      "8 ----> 64\n",
      "9 ----> 81\n"
     ]
    }
   ],
   "source": [
    "d = {i:i**2 for i in range(10)}\n",
    "for k, v in d.items():\n",
    "    print(k, '---->', v)"
   ]
  },
  {
   "cell_type": "code",
   "execution_count": 36,
   "metadata": {
    "collapsed": false,
    "slideshow": {
     "slide_type": "slide"
    }
   },
   "outputs": [
    {
     "name": "stdout",
     "output_type": "stream",
     "text": [
      "{'O': 18, 'H': 1, 'K': 19, 'Li': 3, 'Na': 11}\n",
      "{3: 'Li', 1: 'H', 18: 'O', 19: 'K', 11: 'Na'}\n"
     ]
    }
   ],
   "source": [
    "# Virar um dicionário \"do avesso\"\n",
    "# usando um dicionário em compreensão\n",
    "d = {'H':1, 'Li':3, 'Na':11, 'K':19, 'O':18}\n",
    "\n",
    "d2 = {na: elem for elem, na in d.items()}\n",
    "\n",
    "print(d)\n",
    "print(d2)"
   ]
  },
  {
   "cell_type": "markdown",
   "metadata": {
    "slideshow": {
     "slide_type": "slide"
    }
   },
   "source": [
    "## `.dict()`"
   ]
  },
  {
   "cell_type": "markdown",
   "metadata": {
    "slideshow": {
     "slide_type": "slide"
    }
   },
   "source": [
    "A função `dict()` que tenta transformar o seu argumento num dicionário. Em particular, pode aceitar pares de valores, interpretando-os como associações de chaves a valores."
   ]
  },
  {
   "cell_type": "code",
   "execution_count": 37,
   "metadata": {
    "collapsed": false
   },
   "outputs": [
    {
     "name": "stdout",
     "output_type": "stream",
     "text": [
      "{'O': 18, 'K': 19, 'Li': 3}\n"
     ]
    }
   ],
   "source": [
    "pares = [('Li', 3), ('K', 19), ('O',18)]\n",
    "\n",
    "d = dict(pares)\n",
    "print(d)"
   ]
  },
  {
   "cell_type": "markdown",
   "metadata": {
    "collapsed": true,
    "slideshow": {
     "slide_type": "slide"
    }
   },
   "source": [
    "# Função `zip()`"
   ]
  },
  {
   "cell_type": "code",
   "execution_count": 38,
   "metadata": {
    "collapsed": false,
    "slideshow": {
     "slide_type": "slide"
    }
   },
   "outputs": [
    {
     "name": "stdout",
     "output_type": "stream",
     "text": [
      "('P00924', 'Enolase (S.cerevisiae)')\n",
      "('P40370', 'Enolase (S.pombe)')\n",
      "('Q70CP7', 'Enolase (K.lactis)')\n"
     ]
    }
   ],
   "source": [
    "nomes = ['Enolase (S.cerevisiae)',\n",
    "         'Enolase (S.pombe)',\n",
    "         'Enolase (K.lactis)']\n",
    "ids = ['P00924', 'P40370', 'Q70CP7']\n",
    "\n",
    "for x in zip(ids, nomes):\n",
    "    print(x)"
   ]
  },
  {
   "cell_type": "code",
   "execution_count": 39,
   "metadata": {
    "collapsed": false,
    "slideshow": {
     "slide_type": "slide"
    }
   },
   "outputs": [
    {
     "name": "stdout",
     "output_type": "stream",
     "text": [
      "P00924 : Enolase (S.cerevisiae)\n",
      "P40370 : Enolase (S.pombe)\n",
      "Q70CP7 : Enolase (K.lactis)\n"
     ]
    }
   ],
   "source": [
    "nomes = ['Enolase (S.cerevisiae)',\n",
    "         'Enolase (S.pombe)',\n",
    "         'Enolase (K.lactis)']\n",
    "ids = ['P00924', 'P40370', 'Q70CP7']\n",
    "\n",
    "for n, i in zip(nomes, ids):\n",
    "    print(i, ':', n)"
   ]
  },
  {
   "cell_type": "code",
   "execution_count": 40,
   "metadata": {
    "collapsed": false,
    "slideshow": {
     "slide_type": "slide"
    }
   },
   "outputs": [
    {
     "name": "stdout",
     "output_type": "stream",
     "text": [
      "{'P40370': 'Enolase (S.pombe)', 'Q70CP7': 'Enolase (K.lactis)', 'P00924': 'Enolase (S.cerevisiae)'}\n"
     ]
    }
   ],
   "source": [
    "nomes = ['Enolase (S.cerevisiae)',\n",
    "         'Enolase (S.pombe)',\n",
    "         'Enolase (K.lactis)']\n",
    "ids = ['P00924', 'P40370', 'Q70CP7']\n",
    "\n",
    "d = {n: i for i, n in zip(nomes, ids)}\n",
    "\n",
    "print(d)"
   ]
  },
  {
   "cell_type": "markdown",
   "metadata": {
    "slideshow": {
     "slide_type": "slide"
    }
   },
   "source": [
    "Combinando a função `zip()` com a função `dict()`, a criação do dicionário fica ainda mais sucinta:"
   ]
  },
  {
   "cell_type": "code",
   "execution_count": 41,
   "metadata": {
    "collapsed": false,
    "slideshow": {
     "slide_type": "slide"
    }
   },
   "outputs": [
    {
     "name": "stdout",
     "output_type": "stream",
     "text": [
      "{'Enolase (S.pombe)': 'P40370', 'Enolase (S.cerevisiae)': 'P00924', 'Enolase (K.lactis)': 'Q70CP7'}\n"
     ]
    }
   ],
   "source": [
    "nomes = ['Enolase (S.cerevisiae)',\n",
    "         'Enolase (S.pombe)',\n",
    "         'Enolase (K.lactis)']\n",
    "ids = ['P00924', 'P40370', 'Q70CP7']\n",
    "\n",
    "d = dict(zip(nomes, ids))\n",
    "\n",
    "print(d)"
   ]
  }
 ],
 "metadata": {
  "anaconda-cloud": {},
  "kernelspec": {
   "display_name": "Python [default]",
   "language": "python",
   "name": "python3"
  },
  "language_info": {
   "codemirror_mode": {
    "name": "ipython",
    "version": 3
   },
   "file_extension": ".py",
   "mimetype": "text/x-python",
   "name": "python",
   "nbconvert_exporter": "python",
   "pygments_lexer": "ipython3",
   "version": "3.5.2"
  }
 },
 "nbformat": 4,
 "nbformat_minor": 0
}
