{
 "cells": [
  {
   "cell_type": "markdown",
   "metadata": {},
   "source": [
    "# Listas"
   ]
  },
  {
   "cell_type": "markdown",
   "metadata": {},
   "source": [
    "## Algumas funções associadas a listas"
   ]
  },
  {
   "cell_type": "markdown",
   "metadata": {},
   "source": [
    "### `len()`, operador `in`."
   ]
  },
  {
   "cell_type": "code",
   "execution_count": null,
   "metadata": {
    "collapsed": false
   },
   "outputs": [],
   "source": [
    "irmandade = ['Frodo', 'Sam', 'Meriadoc', 'Peregrino']\n",
    "\n",
    "print(\"Lista original:\",irmandade, \"tem\", len(irmandade), 'elementos')\n",
    "\n",
    "if 'Gandalf' in irmandade:\n",
    "    print('Gandalf já faz parte')\n",
    "else:\n",
    "    print('Gandalf ainda não faz parte')"
   ]
  },
  {
   "cell_type": "markdown",
   "metadata": {},
   "source": [
    "### `.append()`, `.insert()`, `.extend()`."
   ]
  },
  {
   "cell_type": "code",
   "execution_count": null,
   "metadata": {
    "collapsed": false
   },
   "outputs": [],
   "source": [
    "irmandade.append('Aragorn')\n",
    "print(\"depois de .append('Aragorn'):\\n\", irmandade)\n",
    "\n",
    "irmandade.insert(1, 'Gandalf')\n",
    "print(\"\\ndepois de .insert(1, 'Gandalf'):\\n\", irmandade)\n",
    "\n",
    "novos = ['Aragorn', 'Boromir', 'Gimli', 'Legolas']\n",
    "irmandade.extend(novos)\n",
    "print(\"\\ndepois de .extend(novos):\", irmandade)"
   ]
  },
  {
   "cell_type": "markdown",
   "metadata": {},
   "source": [
    "### `.remove()`"
   ]
  },
  {
   "cell_type": "code",
   "execution_count": null,
   "metadata": {
    "collapsed": false
   },
   "outputs": [],
   "source": [
    "print(\"Lista completa:\",irmandade)\n",
    "print(\"tem\", len(irmandade), 'elementos')\n",
    "\n",
    "irmandade.remove('Boromir')\n",
    "print(\"\\ndepois de .remove('Boromir'):\\n\", irmandade)\n",
    "print(\"tem\", len(irmandade), 'elementos')"
   ]
  },
  {
   "cell_type": "markdown",
   "metadata": {},
   "source": [
    "### `.count()`."
   ]
  },
  {
   "cell_type": "code",
   "execution_count": null,
   "metadata": {
    "collapsed": false
   },
   "outputs": [],
   "source": [
    "print('Aragorn:', irmandade.count('Aragorn'))\n",
    "print('Frodo:', irmandade.count('Frodo'))\n",
    "print('Boromir:', irmandade.count('Boromir'))"
   ]
  },
  {
   "cell_type": "markdown",
   "metadata": {},
   "source": [
    "## `.append()` como geradora de listas novas"
   ]
  },
  {
   "cell_type": "markdown",
   "metadata": {},
   "source": [
    "Recordar que as listas podem ser iteradas com o comando `for`.\n",
    "\n",
    "A combinação da iteração de listas com a função `.append()` começando numa **lista vazia** é uma das combinações mais poderosas para gerar novas listas."
   ]
  },
  {
   "cell_type": "markdown",
   "metadata": {},
   "source": [
    "**Problema: gerar os 40 primeiros quadrados perfeitos** $\\{i^2: i=0, 1, 2,...,39\\}$ **pondo o resultado numa lista**\n",
    "\n",
    "Podemos combinar `.append()` com `for`:"
   ]
  },
  {
   "cell_type": "code",
   "execution_count": null,
   "metadata": {
    "collapsed": false
   },
   "outputs": [],
   "source": [
    "quads = []\n",
    "for i in range(40):\n",
    "    quads.append(i**2)\n",
    "\n",
    "print(quads)"
   ]
  },
  {
   "cell_type": "markdown",
   "metadata": {},
   "source": [
    "**Problema: gerar os 40 primeiros quadrados perfeitos** $\\{i^2: i=0, 1, 2,...,39\\}$**, que estejam entre 400 e 800, pondo o resultado numa lista**\n",
    "\n",
    "Podemos combinar `.append()` com `for` e `if`:"
   ]
  },
  {
   "cell_type": "code",
   "execution_count": null,
   "metadata": {
    "collapsed": false
   },
   "outputs": [],
   "source": [
    "quads = []\n",
    "for i in range(40):\n",
    "    q = i**2\n",
    "    if q >= 400 and q <= 800:\n",
    "        quads.append(q)\n",
    "\n",
    "print(quads)"
   ]
  },
  {
   "cell_type": "markdown",
   "metadata": {},
   "source": [
    "**Problema: somar os 10 primeiros números ímpares** $\\sum\\limits_{i=0}^9 2i+1$"
   ]
  },
  {
   "cell_type": "code",
   "execution_count": null,
   "metadata": {
    "collapsed": false
   },
   "outputs": [],
   "source": [
    "impares = []\n",
    "for i in range(10):\n",
    "    impares.append(2*i + 1)\n",
    "print(impares)\n",
    "\n",
    "soma = 0\n",
    "for i in impares:\n",
    "    soma = soma + i\n",
    "\n",
    "print('soma dos 10 primeiros ímpares:', soma)\n",
    "print('Confirmação pela fórmula da soma de prog. aritm.',(1+19)/2*10)"
   ]
  },
  {
   "cell_type": "markdown",
   "metadata": {},
   "source": [
    "## Vários níveis de iterações com `for`."
   ]
  },
  {
   "cell_type": "markdown",
   "metadata": {},
   "source": [
    "**Problema: gerar os 64 codões do código genético**\n",
    "\n",
    "Podemos usar **iterações \"dentro\" de outras iterações**."
   ]
  },
  {
   "cell_type": "code",
   "execution_count": null,
   "metadata": {
    "collapsed": false
   },
   "outputs": [],
   "source": [
    "bases = ['A', 'U', 'G', 'C']\n",
    "\n",
    "codoes = []\n",
    "for b1 in bases:\n",
    "    for b2 in bases:\n",
    "        for b3 in bases:\n",
    "            c = b1 + b2 + b3\n",
    "            codoes.append(c)\n",
    "\n",
    "print(codoes)"
   ]
  },
  {
   "cell_type": "markdown",
   "metadata": {},
   "source": [
    "**Problema: gerar os codões do código genético que não tenham uracilos**"
   ]
  },
  {
   "cell_type": "code",
   "execution_count": null,
   "metadata": {
    "collapsed": false
   },
   "outputs": [],
   "source": [
    "bases = 'AUCG'\n",
    "\n",
    "codoes = []\n",
    "for b1 in bases:\n",
    "    for b2 in bases:\n",
    "        for b3 in bases:\n",
    "            c = b1 + b2 + b3\n",
    "            if 'U' not in c:\n",
    "                codoes.append(c)\n",
    "\n",
    "print(codoes)"
   ]
  },
  {
   "cell_type": "markdown",
   "metadata": {},
   "source": [
    "## Indexação"
   ]
  },
  {
   "cell_type": "markdown",
   "metadata": {},
   "source": [
    "As listas têm uma **numeração implícita, (a contar do zero)**, e podemos **indexar** uma lista usando `lista[posição]`"
   ]
  },
  {
   "cell_type": "code",
   "execution_count": null,
   "metadata": {
    "collapsed": false
   },
   "outputs": [],
   "source": [
    "enzimas = ['HK', 'G6PDH', 'TPI', 'Ald', 'PFK', 'PK']\n",
    "#           0       1       2      3      4      5   len()\n",
    "\n",
    "print(enzimas[0])\n",
    "print(enzimas[3])\n",
    "print(enzimas[len(enzimas) -1])"
   ]
  },
  {
   "cell_type": "markdown",
   "metadata": {},
   "source": [
    "As listas têm também uma **numeração implícita com números negativos**: o último elemento é -1, o penúltimo -2 e assim sucessivamente."
   ]
  },
  {
   "cell_type": "code",
   "execution_count": null,
   "metadata": {
    "collapsed": false
   },
   "outputs": [],
   "source": [
    "enzimas = ['HK', 'G6PDH', 'TPI', 'Ald', 'PFK', 'PK']\n",
    "#                          -4     -3     -2     -1\n",
    "\n",
    "print(enzimas[-4])\n",
    "print(enzimas[-6])\n",
    "print(enzimas[-1])"
   ]
  },
  {
   "cell_type": "markdown",
   "metadata": {},
   "source": [
    "A indexação permite usar elementos de uma lista pela sua posição"
   ]
  },
  {
   "cell_type": "code",
   "execution_count": null,
   "metadata": {
    "collapsed": false
   },
   "outputs": [],
   "source": [
    "a = [1, 1, 1, 2, 2, 2, 3, 3, 3, 4, 4, 4]\n",
    "\n",
    "x = 2*a[1] + a[2] + 2*a[-1]\n",
    "print(x)"
   ]
  },
  {
   "cell_type": "markdown",
   "metadata": {},
   "source": [
    "A indexação permite também alterar um elemento que está numa posição"
   ]
  },
  {
   "cell_type": "code",
   "execution_count": null,
   "metadata": {
    "collapsed": false
   },
   "outputs": [],
   "source": [
    "a = [1, 1, 1, 2, 2, 2, 3, 3, 3, 4, 4, 4]\n",
    "print(a)\n",
    "\n",
    "a[2] = 2*a[1] + a[2] + 2*a[-1]\n",
    "print(a)"
   ]
  },
  {
   "cell_type": "markdown",
   "metadata": {},
   "source": [
    "Podemos também indexar a partir da iteração de numeros inteiros "
   ]
  },
  {
   "cell_type": "code",
   "execution_count": null,
   "metadata": {
    "collapsed": false
   },
   "outputs": [],
   "source": [
    "a = [1, 2, 3, 3, 2, 1]\n",
    "\n",
    "for e in a:\n",
    "    print(e)\n",
    "\n",
    "print('-------- dá o mesmo resultado que -----------')\n",
    "\n",
    "for i in range(len(a)):\n",
    "    print(a[i])"
   ]
  },
  {
   "cell_type": "markdown",
   "metadata": {},
   "source": [
    "**Problema: calcular as diferenças sucessivas entre os elementos de uma lista, pondo o resultado numa lista**"
   ]
  },
  {
   "cell_type": "code",
   "execution_count": null,
   "metadata": {
    "collapsed": false
   },
   "outputs": [],
   "source": [
    "a = [1, 1, 1, 2, 2, 2, 3, 3, 3, 5, 5, 7]\n",
    "\n",
    "difs = []\n",
    "for i in range(1, len(a)):\n",
    "    d = a[i] - a[i-1]\n",
    "    difs.append(d)\n",
    "\n",
    "print(a)\n",
    "print(difs)"
   ]
  },
  {
   "cell_type": "markdown",
   "metadata": {},
   "source": [
    "**Problema: mostrar que as diferenças sucessivas entre os quadrados perfeitos, são os números ímpares (usar os 20 primeiros)**"
   ]
  },
  {
   "cell_type": "code",
   "execution_count": null,
   "metadata": {
    "collapsed": false
   },
   "outputs": [],
   "source": [
    "nums = range(20)\n",
    "\n",
    "#calcular os quadrados perfeitos\n",
    "quads = []\n",
    "for n in nums:\n",
    "    quads.append(n**2)\n",
    "\n",
    "#calcular as diferenças sucessivas\n",
    "difs = []\n",
    "for i in range(1, len(quads)):\n",
    "    d = quads[i] - quads[i-1]\n",
    "    difs.append(d)\n",
    "\n",
    "print('números', nums)\n",
    "print('quadrados perfeitos', quads)\n",
    "print('diferenças sucessivas', difs)"
   ]
  },
  {
   "cell_type": "markdown",
   "metadata": {},
   "source": [
    "A propriedade matemática anterior foi usada por Galileu no estudo da queda livre dos corpos.\n",
    "\n",
    "![](images/galileu.jpg)\n",
    "\n",
    "As distâncias sucessivas percorridas durante a queda para a mesma unidade de tempo estão entre si como a sucessão dos números ímpares, o que implica que a distância acumulada cresce segundo o quadrado do tempo decorrido: o movimento de queda livre é uniformemente acelerado."
   ]
  },
  {
   "cell_type": "markdown",
   "metadata": {},
   "source": [
    "## Listas em compreensão"
   ]
  },
  {
   "cell_type": "markdown",
   "metadata": {},
   "source": [
    "O padrão\n",
    "\n",
    "```python\n",
    "nova_lista = []\n",
    "for i in uma_lista:\n",
    "    \"<geração de um novo elemento p a partir de i>\"\n",
    "    nova_lista.append(p)\n",
    "```\n",
    "\n",
    "é tão frequente, que existe uma forma mais sucinta de gerar a nova lista:\n",
    "\n",
    "**listas em compreensão**\n",
    "    "
   ]
  },
  {
   "cell_type": "markdown",
   "metadata": {},
   "source": [
    "Numa lista em compreensão constrói-se uma lista a partir de outra, indicando a operação a efectuar a cada elemento da lista original. Usa-se um comando `for` para percorrer a lista original.\n",
    "\n",
    "É uma forma muito compacta de construir listas.\n",
    "\n",
    "Como obter uma lista com numeros ímpares:"
   ]
  },
  {
   "cell_type": "code",
   "execution_count": null,
   "metadata": {
    "collapsed": false
   },
   "outputs": [],
   "source": [
    "impares = [2*i+1 for i in range(10)]\n",
    "print(impares)"
   ]
  },
  {
   "cell_type": "markdown",
   "metadata": {},
   "source": [
    "Em resumo, entre`[]` indica-se um \"termo geral\" e um comando `for` para percorrer a lista original"
   ]
  },
  {
   "cell_type": "markdown",
   "metadata": {},
   "source": [
    "Um outro exemplo: obetr os quadrados perfeitos entre 400 e 800"
   ]
  },
  {
   "cell_type": "code",
   "execution_count": null,
   "metadata": {
    "collapsed": false
   },
   "outputs": [],
   "source": [
    "quads = [i**2 for i in range(30)]\n",
    "\n",
    "quads_filtrados = [q for q in quads if q > 400 and q < 800]\n",
    "\n",
    "print(quads_filtrados)"
   ]
  },
  {
   "cell_type": "markdown",
   "metadata": {},
   "source": [
    "Este exemplo mostra que podemos impor condições (com o comando `if`) aos valores da lista original."
   ]
  },
  {
   "cell_type": "markdown",
   "metadata": {},
   "source": [
    "Num outro exemplo, pretendemos obter uma lista com as diferenças sucessivas entre quadrados perfeitos, para mostrar que são os números ímpares:"
   ]
  },
  {
   "cell_type": "code",
   "execution_count": null,
   "metadata": {
    "collapsed": false
   },
   "outputs": [],
   "source": [
    "# As diferenças entre quadrados perfeitos sucessivos\n",
    "# são os numeros ímpares\n",
    "quads = [i**2 for i in range(30)]\n",
    "difs_quads = [quads[i] - quads[i-1] for i in range(1, len(quads))]\n",
    "\n",
    "print('Quadrados: ', quads)\n",
    "print('Diferenças:', difs_quads)"
   ]
  },
  {
   "cell_type": "markdown",
   "metadata": {},
   "source": [
    "**Problema: retirar todas as ocorrências de um elemento de uma lista**"
   ]
  },
  {
   "cell_type": "code",
   "execution_count": null,
   "metadata": {
    "collapsed": false
   },
   "outputs": [],
   "source": [
    "kill = 13\n",
    "a = [2, 7, 34, 13, 56, 2, 33, 13, 78, 13, 13, 2]\n",
    "a_clean = [x for x in a if x != kill]\n",
    "\n",
    "print(a)\n",
    "print(a_clean)"
   ]
  },
  {
   "cell_type": "markdown",
   "metadata": {},
   "source": [
    "**Problema: retirar todas as ocorrências dos elemento de uma \"lista negra\"**"
   ]
  },
  {
   "cell_type": "code",
   "execution_count": null,
   "metadata": {
    "collapsed": false
   },
   "outputs": [],
   "source": [
    "black_list = [2, 13]\n",
    "a = [2, 7, 34, 13, 56, 2, 33, 13, 78, 13, 13, 2]\n",
    "a_clean = [x for x in a if x not in black_list]\n",
    "\n",
    "print(a)\n",
    "print(a_clean)"
   ]
  },
  {
   "cell_type": "markdown",
   "metadata": {},
   "source": [
    "**Problema: obter uma lista de numeros até 300 que sejam múltiplos de 3 e de 7**"
   ]
  },
  {
   "cell_type": "code",
   "execution_count": null,
   "metadata": {
    "collapsed": false
   },
   "outputs": [],
   "source": [
    "mult_3_5 = [x for x in range(301) if x%7==0 and x%3==0]\n",
    "\n",
    "print(mult_3_5)"
   ]
  },
  {
   "cell_type": "markdown",
   "metadata": {},
   "source": [
    "Leitura interessante:\n",
    "\n",
    "[Comprehensions in Python the Jedi way](https://gist.github.com/bearfrieze/a746c6f12d8bada03589)"
   ]
  },
  {
   "cell_type": "markdown",
   "metadata": {
    "collapsed": true
   },
   "source": [
    "## Mais funções de listas"
   ]
  },
  {
   "cell_type": "markdown",
   "metadata": {},
   "source": [
    "### `.pop()`, `.reverse()`, `.sort()`"
   ]
  },
  {
   "cell_type": "markdown",
   "metadata": {},
   "source": [
    "Todas estas funções **modificam** uma lista, tal como `.append()`."
   ]
  },
  {
   "cell_type": "code",
   "execution_count": null,
   "metadata": {
    "collapsed": false
   },
   "outputs": [],
   "source": [
    "a = ['seg', 'ter', 'qua', 'qui', 'sex', 'sab', 'dom']\n",
    "print('lista original       ', a)\n",
    "\n",
    "a.reverse()\n",
    "print('Depois de a.reverse()', a)\n",
    "\n",
    "a.sort()\n",
    "print('Depois de a.sort()   ', a)\n",
    "\n",
    "a.pop()\n",
    "print('Depois de a.pop()    ', a)\n",
    "\n",
    "print('\\nem .pop() pode ser usado um índice')\n",
    "print('Além disso, a função .pop() tem um resultado:')\n",
    "\n",
    "x = a.pop(2)\n",
    "print('\\nDepois de a.pop(2)   ', a)\n",
    "print('O valor retirado foi ', x)"
   ]
  },
  {
   "cell_type": "markdown",
   "metadata": {
    "collapsed": true
   },
   "source": [
    "# Dicionários"
   ]
  },
  {
   "cell_type": "markdown",
   "metadata": {},
   "source": [
    "Os dicionários são associações não ordenadas entre **chaves** e **valores**. Cada chave é única."
   ]
  },
  {
   "cell_type": "markdown",
   "metadata": {},
   "source": [
    "## Indexação e iteração"
   ]
  },
  {
   "cell_type": "markdown",
   "metadata": {},
   "source": [
    "A maneira de ler, inserir e modificar valores num dicionário é através das suas chaves. O operador `in` testa a existência de uma chave num dicionário."
   ]
  },
  {
   "cell_type": "code",
   "execution_count": null,
   "metadata": {
    "collapsed": false
   },
   "outputs": [],
   "source": [
    "d = {'H':1, 'Li':3, 'Na':11, 'K':19}\n",
    "\n",
    "print('K: ', d['K'])\n",
    "print('Li:', d['Li'])\n",
    "\n",
    "d['O'] = 16\n",
    "print('O: ', d['O'])\n",
    "\n",
    "d['O'] = 18\n",
    "print('O: ', d['O'])\n",
    "\n",
    "if 'N' in d:\n",
    "    print('Existe info sobre o azoto')\n",
    "else:\n",
    "    print('Não existe info sobre o azoto')"
   ]
  },
  {
   "cell_type": "markdown",
   "metadata": {},
   "source": [
    "A **iteração** percorre as **chaves** de um dicionário:"
   ]
  },
  {
   "cell_type": "code",
   "execution_count": null,
   "metadata": {
    "collapsed": false
   },
   "outputs": [],
   "source": [
    "d = {'H':1, 'Li':3, 'Na':11, 'K':19, 'O':18}\n",
    "\n",
    "for k in d:\n",
    "    if d[k] > 10:\n",
    "        print(k, '--->', d[k])"
   ]
  },
  {
   "cell_type": "markdown",
   "metadata": {},
   "source": [
    "## `.update()`, `.clear()`"
   ]
  },
  {
   "cell_type": "code",
   "execution_count": null,
   "metadata": {
    "collapsed": false
   },
   "outputs": [],
   "source": [
    "d = {'a': 1, 'c': 3, 'b': 2, 'e': 8, 'd': 7, 'f': 9}\n",
    "print(d)\n",
    "\n",
    "e = {'p': 10, 'q': 15}\n",
    "d.update(e)\n",
    "print(d)\n",
    "\n",
    "d.clear()\n",
    "print(d)"
   ]
  },
  {
   "cell_type": "markdown",
   "metadata": {},
   "source": [
    "## `.keys()`,`.items()`,`.values()`"
   ]
  },
  {
   "cell_type": "code",
   "execution_count": null,
   "metadata": {
    "collapsed": false
   },
   "outputs": [],
   "source": [
    "d = {1: 'a', 2: 'b', 3: 'c', 7: 'd', 8: 'e', 9: 'f'}\n",
    "\n",
    "print('Iteração de chaves')\n",
    "for i in d.keys():\n",
    "    print(i)\n",
    "print('Iteração de valores')\n",
    "for i in d.values():\n",
    "    print(i)\n",
    "print('Iteração de items')\n",
    "for i in d.items():\n",
    "    print(i)"
   ]
  },
  {
   "cell_type": "markdown",
   "metadata": {},
   "source": [
    "`.items()` é útil para simplificar um ciclo `for`: podemos desdobrar o par de valores e dar dois nomes diferentes:"
   ]
  },
  {
   "cell_type": "code",
   "execution_count": null,
   "metadata": {
    "collapsed": false
   },
   "outputs": [],
   "source": [
    "# compare-se com o exemplo acima...\n",
    "d = {'H':1, 'Li':3, 'Na':11, 'K':19, 'O':18}\n",
    "\n",
    "for k, v in d.items():\n",
    "    if v > 10:\n",
    "        print (k, '--->', v)"
   ]
  },
  {
   "cell_type": "code",
   "execution_count": null,
   "metadata": {
    "collapsed": false
   },
   "outputs": [],
   "source": [
    "# Virar um dicionário \"do avesso\"\n",
    "d = {'H':1, 'Li':3, 'Na':11, 'K':19, 'O':18}\n",
    "\n",
    "d2 = {}\n",
    "\n",
    "for k in d:\n",
    "    d2[d[k]] = k\n",
    "print(d)\n",
    "print(d2)"
   ]
  },
  {
   "cell_type": "code",
   "execution_count": null,
   "metadata": {
    "collapsed": false
   },
   "outputs": [],
   "source": [
    "# Virar um dicionário \"do avesso\" (talvez mais legível)\n",
    "d = {'H':1, 'Li':3, 'Na':11, 'K':19, 'O':18}\n",
    "\n",
    "d2 = {}\n",
    "\n",
    "for elem, na in d.items():\n",
    "    d2[na] = elem\n",
    "print(d)\n",
    "print(d2)"
   ]
  },
  {
   "cell_type": "code",
   "execution_count": null,
   "metadata": {
    "collapsed": false
   },
   "outputs": [],
   "source": [
    "# Contar os diferentes valores:\n",
    "irmandade = {'Aragorn': 'Humano', \n",
    "             'Frodo': 'Hobbit',\n",
    "             'Sam': 'Hobbit',\n",
    "             'Boromir': 'Humano',\n",
    "             'Meriadoc': 'Hobbit',\n",
    "             'Peregrino': 'Hobbit',\n",
    "             'Gandalf': 'Feiticeiro',\n",
    "             'Gimli': 'Anão',\n",
    "             'Legolas': 'Elfo'}\n",
    "\n",
    "contagens = {}\n",
    "\n",
    "for nome, especie in irmandade.items():\n",
    "    if especie in contagens:\n",
    "        contagens[especie] = contagens[especie] + 1\n",
    "    else:\n",
    "        contagens[especie] = 1\n",
    "\n",
    "for e, c in contagens.items():\n",
    "    print(e,c  )"
   ]
  },
  {
   "cell_type": "markdown",
   "metadata": {},
   "source": [
    "## Dicionários em compreensão"
   ]
  },
  {
   "cell_type": "code",
   "execution_count": null,
   "metadata": {
    "collapsed": false
   },
   "outputs": [],
   "source": [
    "d = {i:i**2 for i in range(10)}\n",
    "for k, v in d.items():\n",
    "    print(k, '---->', v)"
   ]
  },
  {
   "cell_type": "code",
   "execution_count": null,
   "metadata": {
    "collapsed": false
   },
   "outputs": [],
   "source": [
    "# Virar um dicionário \"do avesso\" (usando um dicionário em compreensão)\n",
    "d = {'H':1, 'Li':3, 'Na':11, 'K':19, 'O':18}\n",
    "\n",
    "d2 = {na: elem for elem, na in d.items()}\n",
    "\n",
    "print(d)\n",
    "print(d2)"
   ]
  },
  {
   "cell_type": "markdown",
   "metadata": {
    "collapsed": true
   },
   "source": [
    "# Funções `zip()` e `enumerate()`"
   ]
  },
  {
   "cell_type": "markdown",
   "metadata": {},
   "source": [
    "## Função `zip()`"
   ]
  },
  {
   "cell_type": "code",
   "execution_count": null,
   "metadata": {
    "collapsed": false
   },
   "outputs": [],
   "source": [
    "nomes = ['Enolase (S.cerevisiae)', 'Enolase (S.pombe)', 'Enolase (K.lactis)']\n",
    "ids = ['P00924', 'P40370', 'Q70CP7']\n",
    "for x in zip(nomes, ids):\n",
    "    print(x)"
   ]
  },
  {
   "cell_type": "code",
   "execution_count": null,
   "metadata": {
    "collapsed": false
   },
   "outputs": [],
   "source": [
    "nomes = ['Enolase (S.cerevisiae)', 'Enolase (S.pombe)', 'Enolase (K.lactis)']\n",
    "ids = ['P00924', 'P40370', 'Q70CP7']\n",
    "for n, i in zip(nomes, ids):\n",
    "    print(i, ':', n)"
   ]
  },
  {
   "cell_type": "code",
   "execution_count": null,
   "metadata": {
    "collapsed": false
   },
   "outputs": [],
   "source": [
    "nomes = ['Enolase (S.cerevisiae)', 'Enolase (S.pombe)', 'Enolase (K.lactis)']\n",
    "ids = ['P00924', 'P40370', 'Q70CP7']\n",
    "d = {i: n for i, n in zip(nomes, ids)}\n",
    "\n",
    "print(d)"
   ]
  },
  {
   "cell_type": "markdown",
   "metadata": {},
   "source": [
    "Nota: existe uma função `dict()` que tenta transformar o seu argumento num dicionário\n",
    "\n",
    "Pode aceitar uma coleção de pares de valores:"
   ]
  },
  {
   "cell_type": "code",
   "execution_count": null,
   "metadata": {
    "collapsed": false
   },
   "outputs": [],
   "source": [
    "nomes = ['Enolase (S.cerevisiae)', 'Enolase (S.pombe)', 'Enolase (K.lactis)']\n",
    "ids = ['P00924', 'P40370', 'Q70CP7']\n",
    "\n",
    "d = dict(zip(nomes, ids))\n",
    "\n",
    "print(d)"
   ]
  },
  {
   "cell_type": "markdown",
   "metadata": {},
   "source": [
    "## Função `enumerate()`"
   ]
  },
  {
   "cell_type": "code",
   "execution_count": null,
   "metadata": {
    "collapsed": false
   },
   "outputs": [],
   "source": [
    "nomes = ['Enolase (S.cerevisiae)', 'Enolase (S.pombe)', 'Enolase (K.lactis)']\n",
    "\n",
    "for x in enumerate(nomes):\n",
    "    print(x)"
   ]
  },
  {
   "cell_type": "code",
   "execution_count": null,
   "metadata": {
    "collapsed": false
   },
   "outputs": [],
   "source": [
    "nomes = ['Enolase (S.cerevisiae)', 'Enolase (S.pombe)', 'Enolase (K.lactis)']\n",
    "ids = ['P00924', 'P40370', 'Q70CP7']\n",
    "\n",
    "for (i, (nome, UniProtId)) in enumerate(zip(nomes, ids)):\n",
    "    print('Proteína', i + 1, '(', UniProtId, ') :', nome)"
   ]
  }
 ],
 "metadata": {
  "anaconda-cloud": {},
  "kernelspec": {
   "display_name": "Python [default]",
   "language": "python",
   "name": "python3"
  },
  "language_info": {
   "codemirror_mode": {
    "name": "ipython",
    "version": 3
   },
   "file_extension": ".py",
   "mimetype": "text/x-python",
   "name": "python",
   "nbconvert_exporter": "python",
   "pygments_lexer": "ipython3",
   "version": "3.5.2"
  }
 },
 "nbformat": 4,
 "nbformat_minor": 0
}
