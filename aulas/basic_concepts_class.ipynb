{
 "cells": [
  {
   "cell_type": "markdown",
   "metadata": {
    "slideshow": {
     "slide_type": "slide"
    }
   },
   "source": [
    "# Linguagem Python: conceitos básicos"
   ]
  },
  {
   "cell_type": "markdown",
   "metadata": {
    "slideshow": {
     "slide_type": "slide"
    }
   },
   "source": [
    "## 1. Objetos e **`print`**"
   ]
  },
  {
   "cell_type": "code",
   "execution_count": null,
   "metadata": {
    "collapsed": false,
    "slideshow": {
     "slide_type": "-"
    }
   },
   "outputs": [],
   "source": [
    "print 4\n",
    "print 3.2\n",
    "print 9.0\n",
    "print ((3+9)/3.0)**0.5"
   ]
  },
  {
   "cell_type": "markdown",
   "metadata": {
    "slideshow": {
     "slide_type": "slide"
    }
   },
   "source": [
    "Nas expressões podemos usar:\n",
    "\n",
    "- os cinco operadores `+ - * / **` (`**` é a potenciação)\n",
    "- vários níveis de `()`\n",
    "- o operador `%`: o resto da divisão (por exemplo, `5 % 3 -> 2`)"
   ]
  },
  {
   "cell_type": "code",
   "execution_count": null,
   "metadata": {
    "collapsed": false,
    "slideshow": {
     "slide_type": "slide"
    }
   },
   "outputs": [],
   "source": [
    "print 'quinta feira'\n",
    "print 'hoje', 'é', \"quinta feira,\", 17"
   ]
  },
  {
   "cell_type": "markdown",
   "metadata": {
    "slideshow": {
     "slide_type": "slide"
    }
   },
   "source": [
    "## 2. Atribuição de nomes a \"objetos\""
   ]
  },
  {
   "cell_type": "code",
   "execution_count": null,
   "metadata": {
    "collapsed": false,
    "slideshow": {
     "slide_type": "-"
    }
   },
   "outputs": [],
   "source": [
    "a = 4\n",
    "b = 3.2\n",
    "c = a + b\n",
    "d = (a + b)**0.5\n",
    "print a\n",
    "print b\n",
    "print c, d\n",
    "\n",
    "hoje = \"quinta feira \"\n",
    "local = \"sala 8.2.39\"\n",
    "aonde = hoje + local\n",
    "print hoje\n",
    "print local\n",
    "print\n",
    "print aonde"
   ]
  },
  {
   "cell_type": "markdown",
   "metadata": {
    "slideshow": {
     "slide_type": "slide"
    }
   },
   "source": [
    "## 3. Comentários"
   ]
  },
  {
   "cell_type": "code",
   "execution_count": null,
   "metadata": {
    "collapsed": false,
    "slideshow": {
     "slide_type": "-"
    }
   },
   "outputs": [],
   "source": [
    "# Estas duas linhas são comentários (começam por #)\n",
    "# Podemos dar nomes a vários objetos de uma só vez\n",
    "a, b = 3, 4\n",
    "c, d = 2.5, 3+4\n",
    "\n",
    "print \"a =\", a\n",
    "print \"b =\", b\n",
    "print \"a =\", a, \"b =\", b, \"c =\", c, \"d =\", d"
   ]
  },
  {
   "cell_type": "code",
   "execution_count": null,
   "metadata": {
    "collapsed": false,
    "slideshow": {
     "slide_type": "slide"
    }
   },
   "outputs": [],
   "source": [
    "a, b = 3,4\n",
    "print \"a =\", a, \"b =\", b\n",
    "\n",
    "# Podemos trocar dois nomes desta maneira\n",
    "a, b = b, a\n",
    "print \"a =\", a, \"b =\", b"
   ]
  },
  {
   "cell_type": "code",
   "execution_count": null,
   "metadata": {
    "collapsed": false,
    "slideshow": {
     "slide_type": "slide"
    }
   },
   "outputs": [],
   "source": [
    "x = 3.8\n",
    "i = int(x)\n",
    "c = complex(x)\n",
    "s = str(x)\n",
    "\n",
    "print x\n",
    "print i\n",
    "print c\n",
    "print s"
   ]
  },
  {
   "cell_type": "code",
   "execution_count": null,
   "metadata": {
    "collapsed": false,
    "slideshow": {
     "slide_type": "slide"
    }
   },
   "outputs": [],
   "source": [
    "s = '3.4e4'\n",
    "f = float(s)\n",
    "c = complex(s)\n",
    "\n",
    "print s\n",
    "print f\n",
    "print c"
   ]
  },
  {
   "cell_type": "markdown",
   "metadata": {
    "slideshow": {
     "slide_type": "slide"
    }
   },
   "source": [
    "Resumo:\n",
    "\n",
    "As funções `int()`, `float()`, `complex()` e `str()` fazem transformações entre os vários tipos de objetos:\n",
    "\n",
    "- **inteiros**\n",
    "- **_floats_**\n",
    "- **_strings_**\n",
    "- **complexos** (em que `j` é a unidade imaginária)"
   ]
  },
  {
   "cell_type": "markdown",
   "metadata": {
    "slideshow": {
     "slide_type": "slide"
    }
   },
   "source": [
    "## 4. **`input`**"
   ]
  },
  {
   "cell_type": "markdown",
   "metadata": {},
   "source": [
    "Exemplo:\n",
    "\n",
    "Calcular as soluções da equação do 2º grau\n",
    "\n",
    "$a x^2 + b x + c = 0$\n",
    "\n",
    "ou seja\n",
    "\n",
    "Dados $a, b$ e $c$, calcular\n",
    "\n",
    "$x_1 = \\frac{-b + \\sqrt{b^2 -4 a c}}{2 a}$ e $x_2 = \\frac{-b - \\sqrt{b^2 -4 a c}}{2 a}$"
   ]
  },
  {
   "cell_type": "code",
   "execution_count": null,
   "metadata": {
    "collapsed": false,
    "slideshow": {
     "slide_type": "-"
    }
   },
   "outputs": [],
   "source": [
    "# Este programa calcula x tal que a x2 + b x + c = 0\n",
    "# testar com os seguintes valores (1,4,1) , (1,2,1) , (1,1,1)\n",
    "\n",
    "a = input (\"a = ? \")\n",
    "b = input (\"b = ? \")\n",
    "c = input (\"c = ? \")\n",
    "\n",
    "rdelta = complex(b**2 - 4 * a * c) ** 0.5\n",
    "\n",
    "x1 = (- b + rdelta) / (2.0*a)\n",
    "x2 = (- b - rdelta) / (2.0*a)\n",
    "\n",
    "print \"x1 =\", x1\n",
    "print \"x2 =\", x2"
   ]
  },
  {
   "cell_type": "markdown",
   "metadata": {},
   "source": [
    "Correndo o programa com diferentes valores de `a`, `b` e `c`:\n",
    "```\n",
    "a = ? 1\n",
    "b = ? 2\n",
    "c = ? 1\n",
    "x1 = (-1+0j)\n",
    "x2 = (-1+0j)\n",
    "```\n",
    "\n",
    "```\n",
    "a = ? 1\n",
    "b = ? 4\n",
    "c = ? 1\n",
    "x1 = (-0.267949192431+0j)\n",
    "x2 = (-3.73205080757+0j)\n",
    "```\n",
    "\n",
    "```\n",
    "a = ? 1\n",
    "b = ? 1\n",
    "c = ? 1\n",
    "x1 = (-0.5+0.866025403784j)\n",
    "x2 = (-0.5-0.866025403784j)\n",
    "```"
   ]
  },
  {
   "cell_type": "markdown",
   "metadata": {
    "slideshow": {
     "slide_type": "slide"
    }
   },
   "source": [
    "## 5. Alternativa `if...else`"
   ]
  },
  {
   "cell_type": "code",
   "execution_count": null,
   "metadata": {
    "collapsed": false,
    "slideshow": {
     "slide_type": "slide"
    }
   },
   "outputs": [],
   "source": [
    "# Este programa calcula x tal que a x2 + b x + c = 0\n",
    "# testar com os seguintes valores (1,4,1) , (1,2,1) , (1,1,1)\n",
    "\n",
    "a = input (\"a = ? \")\n",
    "b = input (\"b = ? \")\n",
    "c = input (\"c = ? \")\n",
    "\n",
    "# cálculo do discriminante\n",
    "discrim = b**2 - 4.0 * a * c\n",
    "\n",
    "#separar soluções reais das complexas\n",
    "if discrim < 0.0:\n",
    "    rdelta = complex(discrim)**0.5\n",
    "else:\n",
    "    rdelta = float(discrim)**0.5\n",
    "x1 = (- b + rdelta) / (2.0*a)\n",
    "x2 = (- b - rdelta) / (2.0*a)\n",
    "\n",
    "print \"x1 =\", x1, \", x2 =\", x2"
   ]
  },
  {
   "cell_type": "markdown",
   "metadata": {
    "slideshow": {
     "slide_type": "slide"
    }
   },
   "source": [
    "#### Forma geral das instruções alternativas `if...else`:\n",
    "\n",
    "```\n",
    "if <condição> :\n",
    "    <comandos para condição verdadeira>\n",
    "else:\n",
    "    <comandos para condição falsa>\n",
    "```"
   ]
  },
  {
   "cell_type": "markdown",
   "metadata": {
    "slideshow": {
     "slide_type": "slide"
    }
   },
   "source": [
    "No teste da condição podemos usar:\n",
    "\n",
    "- `>` maior\n",
    "- `<` menor\n",
    "- `>=` maior ou igual\n",
    "- `<=` menor ou igual\n",
    "- `==` igual (**são dois sinais de igual consecutivos**)\n",
    "- `!=` diferente"
   ]
  },
  {
   "cell_type": "markdown",
   "metadata": {},
   "source": [
    "O programa está bem melhor na maneira de apresentar os resultados.\n",
    "\n",
    "Só falta ter o cuidado de apresentar **um único valor, no caso de uma raíz dupla**."
   ]
  },
  {
   "cell_type": "markdown",
   "metadata": {
    "slideshow": {
     "slide_type": "slide"
    }
   },
   "source": [
    "## 6. Alternativas `if...elif...else`"
   ]
  },
  {
   "cell_type": "code",
   "execution_count": null,
   "metadata": {
    "collapsed": false,
    "slideshow": {
     "slide_type": "slide"
    }
   },
   "outputs": [],
   "source": [
    "# Este programa calcula x tal que a x2 + b x + c = 0\n",
    "# testar com os seguintes valores (1,4,1) , (1,2,1) , (1,1,1)\n",
    "\n",
    "a = input (\"a = ? \")\n",
    "b = input (\"b = ? \")\n",
    "c = input (\"c = ? \")\n",
    "\n",
    "# cálculo do discriminante\n",
    "discrim = b**2 - 4.0 * a * c\n",
    "\n",
    "#separar soluções reais das complexas\n",
    "if discrim < 0.0:\n",
    "    rdelta = complex(discrim)**0.5\n",
    "else:\n",
    "    rdelta = float(discrim)**0.5\n",
    "x1 = (- b + rdelta) / (2.0*a)\n",
    "x2 = (- b - rdelta) / (2.0*a)\n",
    "\n",
    "if discrim < 0.0:\n",
    "    print \"2 raízes complexas:\"\n",
    "    print \"x1 =\", x1\n",
    "    print \"x2 =\", x2\n",
    "elif discrim == 0.0:\n",
    "    print \"1 raíz (dupla):\"\n",
    "    print \"x =\", x1\n",
    "else:\n",
    "    print \"2 raízes reais:\"\n",
    "    print \"x1 =\", x1\n",
    "    print \"x2 =\", x2"
   ]
  },
  {
   "cell_type": "markdown",
   "metadata": {
    "collapsed": true,
    "slideshow": {
     "slide_type": "slide"
    }
   },
   "source": [
    "Podemos ter multiplos comandos na parte do verdadeiro/falso : o **alinhamento** (_identação_) define os blocos\n",
    "\n",
    "Usando `elif` podemos testar mais do que uma condição."
   ]
  },
  {
   "cell_type": "markdown",
   "metadata": {},
   "source": [
    "Correndo o programa com diferentes valores de `a`, `b` e `c`:\n",
    "```\n",
    "a = ? 1\n",
    "b = ? 2\n",
    "c = ? 1\n",
    "1 raíz (dupla):\n",
    "x = -1.0\n",
    "```\n",
    "\n",
    "```\n",
    "a = ? 1\n",
    "b = ? 4\n",
    "c = ? 1\n",
    "2 raízes reais:\n",
    "x1 = -0.267949192431\n",
    "x2 = -3.73205080757\n",
    "```\n",
    "\n",
    "```\n",
    "a = ? 1\n",
    "b = ? 1\n",
    "c = ? 1\n",
    "2 raízes complexas:\n",
    "x1 = (-0.5+0.866025403784j)\n",
    "x2 = (-0.5-0.866025403784j)\n",
    "```"
   ]
  },
  {
   "cell_type": "markdown",
   "metadata": {
    "slideshow": {
     "slide_type": "slide"
    }
   },
   "source": [
    "### Exemplo: Regra dos anos bissextos\n",
    "\n",
    "**Se o ano é divisível por 4, então é bissexto**\n",
    "\n",
    "Regra em vigor até 1582 (calendário Juliano, de Júlio César)"
   ]
  },
  {
   "cell_type": "code",
   "execution_count": null,
   "metadata": {
    "collapsed": false
   },
   "outputs": [],
   "source": [
    "a = input(\"ano ? \")\n",
    "\n",
    "if a % 4 == 0 :\n",
    "    print a , \"é bissexto\"\n",
    "else: \n",
    "    print a, \"nao é bissexto\""
   ]
  },
  {
   "cell_type": "markdown",
   "metadata": {},
   "source": [
    "&nbsp;\n",
    "```\n",
    "\n",
    "\n",
    "\n",
    "\n",
    "\n",
    "\n",
    "\n",
    "\n",
    "\n",
    "\n",
    "\n",
    "\n",
    "\n",
    "\n",
    "\n",
    "\n",
    "\n",
    "\n",
    "\n",
    "\n",
    ".\n",
    "```"
   ]
  },
  {
   "cell_type": "markdown",
   "metadata": {
    "slideshow": {
     "slide_type": "slide"
    }
   },
   "source": [
    "No teste da condição podemos usar:\n",
    "\n",
    "- Conjunção lógica: **`and`** \n",
    "- Disjunção lógica: **`or`** \n",
    "- Negação: **`not`**"
   ]
  },
  {
   "cell_type": "markdown",
   "metadata": {
    "slideshow": {
     "slide_type": "slide"
    }
   },
   "source": [
    "### Exemplo: Regra dos anos bissextos (calendário moderno)\n",
    "\n",
    "**Se o ano é divisível por 4, então é bissexto**\n",
    "\n",
    "**Excepto os que são divisíveis por 100: não são bissextos**\n",
    "\n",
    "**Mas os divisíveis por 100 que sejam exactamente divisíveis por 400 são bissextos.**\n",
    "\n",
    "Regra em vigor após 1582 (calendário Gregoriano, do papa Gregorio XIII)"
   ]
  },
  {
   "cell_type": "code",
   "execution_count": null,
   "metadata": {
    "collapsed": false
   },
   "outputs": [],
   "source": [
    "a = input(\"ano ? \")\n",
    "\n",
    "if a % 4 == 0 and not (a % 100 == 0 and not a % 400 == 0):\n",
    "    print a , \"é bissexto\"\n",
    "else: \n",
    "    print a, \"nao é bissexto\""
   ]
  },
  {
   "cell_type": "markdown",
   "metadata": {},
   "source": [
    "&nbsp;\n",
    "```\n",
    "\n",
    "\n",
    "\n",
    "\n",
    "\n",
    "\n",
    "\n",
    "\n",
    "\n",
    "\n",
    "\n",
    "\n",
    "\n",
    "\n",
    "\n",
    "\n",
    "\n",
    "\n",
    "\n",
    "\n",
    ".\n",
    "```"
   ]
  },
  {
   "cell_type": "markdown",
   "metadata": {
    "slideshow": {
     "slide_type": "skip"
    }
   },
   "source": [
    "Os interessados na história da introdução do calendário gregoriano podem consultar o artigo\n",
    "\n",
    "[http://en.wikipedia.org/wiki/Gregorian_calendar](http://en.wikipedia.org/wiki/Gregorian_calendar)"
   ]
  }
 ],
 "metadata": {
  "kernelspec": {
   "display_name": "Python 2",
   "language": "python",
   "name": "python2"
  },
  "language_info": {
   "codemirror_mode": {
    "name": "ipython",
    "version": 2
   },
   "file_extension": ".py",
   "mimetype": "text/x-python",
   "name": "python",
   "nbconvert_exporter": "python",
   "pygments_lexer": "ipython2",
   "version": "2.7.11"
  }
 },
 "nbformat": 4,
 "nbformat_minor": 0
}
