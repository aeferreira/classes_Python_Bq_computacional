{
 "cells": [
  {
   "cell_type": "markdown",
   "metadata": {},
   "source": [
    "# _Strings_"
   ]
  },
  {
   "cell_type": "markdown",
   "metadata": {},
   "source": [
    "## Definição literal, iteração e indexação"
   ]
  },
  {
   "cell_type": "markdown",
   "metadata": {},
   "source": [
    "Na definição literal de _strings_ podemos usar 3 tipos diferentes de aspas: `\"`, `'` ou `\"\"\"`, este último permite escrever uma _string_ com várias linhas."
   ]
  },
  {
   "cell_type": "code",
   "execution_count": null,
   "metadata": {
    "collapsed": false
   },
   "outputs": [],
   "source": [
    "a = \"O Neo tomou o comprimido vermelho\"\n",
    "\n",
    "b = 'What is the matrix?'\n",
    "\n",
    "c = \"There's no spoon\"\n",
    "\n",
    "d = \"\"\" Um pequeno texto que até\n",
    "ocupa várias linhas\n",
    "\n",
    "algumas das linhas estão em branco\"\"\""
   ]
  },
  {
   "cell_type": "markdown",
   "metadata": {},
   "source": [
    "As strings têm muitas funções\n",
    "em comum com as listas:\n",
    "\n",
    "- `len()`, `count()`, `in`, `not in`\n",
    "- Indexação: `a[i]`\n",
    "- Iteração: `for i in a:`\n",
    "\n",
    "Porque as _strings_ comportam-se como **coleção ordenada de caracteres** (com a numeração a contar do zero):"
   ]
  },
  {
   "cell_type": "markdown",
   "metadata": {},
   "source": [
    "### Funções `len()`, `.count()`, operador `in`."
   ]
  },
  {
   "cell_type": "code",
   "execution_count": 2,
   "metadata": {
    "collapsed": false
   },
   "outputs": [
    {
     "name": "stdout",
     "output_type": "stream",
     "text": [
      "16\n",
      "2\n",
      "False\n",
      "True\n",
      "True\n"
     ]
    }
   ],
   "source": [
    "c = \"There's no spoon\"\n",
    "\n",
    "print len(c)\n",
    "print c.count('s')\n",
    "print 'z' in c\n",
    "print 'r' in c\n",
    "print 'ere' in c"
   ]
  },
  {
   "cell_type": "markdown",
   "metadata": {},
   "source": [
    "### Iteração e indexação."
   ]
  },
  {
   "cell_type": "code",
   "execution_count": 3,
   "metadata": {
    "collapsed": false
   },
   "outputs": [
    {
     "name": "stdout",
     "output_type": "stream",
     "text": [
      "0 T\n",
      "1 h\n",
      "2 e\n",
      "3 r\n",
      "4 e\n",
      "5 '\n",
      "6 s\n",
      "7  \n",
      "8 n\n",
      "9 o\n",
      "10  \n",
      "11 s\n",
      "12 p\n",
      "13 o\n",
      "14 o\n",
      "15 n\n"
     ]
    }
   ],
   "source": [
    "c = \"There's no spoon\"\n",
    "\n",
    "for i in range(len(c)):\n",
    "    print i, c[i]"
   ]
  },
  {
   "cell_type": "markdown",
   "metadata": {},
   "source": [
    "## Funções associadas a _strings_"
   ]
  },
  {
   "cell_type": "markdown",
   "metadata": {},
   "source": [
    "Existem muitas funções associadas a _strings_\n",
    "\n",
    "Consultar a documentação oficial em [docs.python.org](https://docs.python.org/2/library/stdtypes.html#string-methods)\n",
    "\n",
    "![](docspython_strmethods.png)\n",
    "\n",
    "**São cerca de 40!**"
   ]
  },
  {
   "cell_type": "markdown",
   "metadata": {},
   "source": [
    "## Imutabilidade"
   ]
  },
  {
   "cell_type": "markdown",
   "metadata": {},
   "source": [
    "As _strings_ são **imutáveis**.\n",
    "\n",
    "Isto significa que (ao contrário das listas e dicionários) **não existem funções para modificar uma** _string_.\n",
    "\n",
    "**Não existe**, por exemplo, `s.append('a')`.\n",
    "\n",
    "**Todas as operações com** _strings_ **resultam numa** _string_ **nova**, à qual é, geralmente, atribuído um nome (mesmo que seja o da _string_ original)"
   ]
  },
  {
   "cell_type": "code",
   "execution_count": 4,
   "metadata": {
    "collapsed": false
   },
   "outputs": [
    {
     "name": "stdout",
     "output_type": "stream",
     "text": [
      "pois\n",
      "POIS\n",
      "DOIS\n"
     ]
    }
   ],
   "source": [
    "c = 'pois'\n",
    "print c\n",
    "\n",
    "u = c.upper() # transforma em maiúsculas\n",
    "print u\n",
    "\n",
    "d = u.replace('P', 'D') # substitui caracteres por outros\n",
    "print d"
   ]
  },
  {
   "cell_type": "markdown",
   "metadata": {},
   "source": [
    "## Algumas funções úteis"
   ]
  },
  {
   "cell_type": "markdown",
   "metadata": {},
   "source": [
    "### `.strip()`, `.startswith()`, `.upper()`, `.lower()`."
   ]
  },
  {
   "cell_type": "code",
   "execution_count": 5,
   "metadata": {
    "collapsed": false
   },
   "outputs": [
    {
     "name": "stdout",
     "output_type": "stream",
     "text": [
      "    There's no spoon       tem 26 caracteres\n",
      "There's no spoon tem 16 caracteres\n",
      "THERE'S NO SPOON\n",
      "there's no spoon\n",
      "\n",
      "começa por \"the\"\n"
     ]
    }
   ],
   "source": [
    "c = \"    There's no spoon      \"\n",
    "print c, 'tem', len(c), 'caracteres'\n",
    "\n",
    "c = c.strip()\n",
    "print c, 'tem', len(c), 'caracteres'\n",
    "\n",
    "c = c.upper()\n",
    "print c\n",
    "\n",
    "c = c.lower()\n",
    "print c\n",
    "print\n",
    "\n",
    "if c.startswith('the'):\n",
    "    print 'começa por \"the\"'"
   ]
  },
  {
   "cell_type": "markdown",
   "metadata": {},
   "source": [
    "## Funções `.split()` e `.join()`"
   ]
  },
  {
   "cell_type": "code",
   "execution_count": 1,
   "metadata": {
    "collapsed": false
   },
   "outputs": [
    {
     "name": "stdout",
     "output_type": "stream",
     "text": [
      "[\"There's\", 'no', 'spoon']\n",
      "['Th', 'r', \"'s no spoon\"]\n",
      "['There', 's no spoon']\n"
     ]
    }
   ],
   "source": [
    "a = \"There's no spoon\"\n",
    "\n",
    "b = a.split()\n",
    "c = a.split('e')\n",
    "d = a.split(\"'\")\n",
    "\n",
    "print b\n",
    "print c\n",
    "print d"
   ]
  },
  {
   "cell_type": "markdown",
   "metadata": {},
   "source": [
    "A função `.split()` **gera uma lista de partes**, encontrando um separador numa _string_.\n",
    "\n",
    "O separador a encontrar é o argumento da função. \n",
    "\n",
    "Se não se usar um argumento, considera-se que as partes são separadas por espaços, tabs ou mudanças de linha (no inglês genericamente designados por _white space_)"
   ]
  },
  {
   "cell_type": "markdown",
   "metadata": {},
   "source": [
    "A função `.join()` é uma espécie de inversa de `.split()`: transforma **uma lista** de _strings_ **numa única** _string_, interpondo um separador:"
   ]
  },
  {
   "cell_type": "code",
   "execution_count": 1,
   "metadata": {
    "collapsed": false
   },
   "outputs": [
    {
     "name": "stdout",
     "output_type": "stream",
     "text": [
      "Arg Tyr Gly Asp\n",
      "Arg-Tyr-Gly-Asp\n",
      "ArgTyrGlyAsp\n",
      "Arg+Tyr+Gly+Asp\n",
      "Arg-CONH-Tyr-CONH-Gly-CONH-Asp\n"
     ]
    }
   ],
   "source": [
    "aas = ['Arg', 'Tyr', 'Gly', 'Asp']\n",
    "\n",
    "print \" \".join(aas)\n",
    "print \"-\".join(aas)\n",
    "print \"\".join(aas)\n",
    "print \"+\".join(aas)\n",
    "print \"-CONH-\".join(aas)"
   ]
  },
  {
   "cell_type": "markdown",
   "metadata": {},
   "source": [
    "**Problema: transformar** `AUGUUCAAGGAGUAAUGCCCCCGACUA` **em** `AUG-UUC-AAG-GAG-UAA-UGC-CCC-CGA-CUA`"
   ]
  },
  {
   "cell_type": "code",
   "execution_count": 3,
   "metadata": {
    "collapsed": false
   },
   "outputs": [
    {
     "name": "stdout",
     "output_type": "stream",
     "text": [
      "AUGUUCAAGGAGUAAUGCCCCCGACUA\n",
      "['AUG', 'UUC', 'AAG', 'GAG', 'UAA', 'UGC', 'CCC', 'CGA', 'CUA']\n",
      "AUG-UUC-AAG-GAG-UAA-UGC-CCC-CGA-CUA\n"
     ]
    }
   ],
   "source": [
    "seq_inicial = \"AUGUUCAAGGAGUAAUGCCCCCGACUA\"\n",
    "print seq_inicial\n",
    "\n",
    "codoes = []\n",
    "for i in range(0, len(seq_inicial), 3): # i é o início de cada codão\n",
    "    c = seq_inicial[i] + seq_inicial[i+1] + seq_inicial[i+2]\n",
    "    codoes.append(c)\n",
    "\n",
    "print codoes\n",
    "\n",
    "seq_final = \"-\".join(codoes)\n",
    "print seq_final"
   ]
  },
  {
   "cell_type": "markdown",
   "metadata": {},
   "source": [
    "Tem de haver uma maneira mais sucinta de de juntar vários caracteres consecutivos!"
   ]
  },
  {
   "cell_type": "markdown",
   "metadata": {},
   "source": [
    "## \"Slices\" (em pt: \"fatias\")"
   ]
  },
  {
   "cell_type": "markdown",
   "metadata": {},
   "source": [
    "Os `[]` podem ser usados para um outro tipo de indexação: os _slices_.\n",
    "\n",
    "A forma geral é `[início : fim(exclusivé) : passo]`. (o `passo` é opcional)"
   ]
  },
  {
   "cell_type": "code",
   "execution_count": 8,
   "metadata": {
    "collapsed": false
   },
   "outputs": [
    {
     "name": "stdout",
     "output_type": "stream",
     "text": [
      "Neo\n",
      "O Neo\n",
      "tomou o comprimido vermelh\n",
      "ONotmu\n",
      "O Neo\n",
      "tomou o comprimido vermelho\n",
      "O Neo tomou o comprimido vermelho\n"
     ]
    }
   ],
   "source": [
    "a = \"O Neo tomou o comprimido vermelho\"\n",
    "\n",
    "print a[2:5]\n",
    "print a[0:5]\n",
    "print a[6:-1]\n",
    "print a[0:12:2]\n",
    "print a[ :5]\n",
    "print a[6: ]\n",
    "print a[ : ]"
   ]
  },
  {
   "cell_type": "markdown",
   "metadata": {},
   "source": [
    "**Problema: transformar** `AUGUUCAAGGAGUAAUGCCCCCGACUA` **em** `AUG-UUC-AAG-GAG-UAA-UGC-CCC-CGA-CUA`"
   ]
  },
  {
   "cell_type": "code",
   "execution_count": 1,
   "metadata": {
    "collapsed": false
   },
   "outputs": [
    {
     "name": "stdout",
     "output_type": "stream",
     "text": [
      "AUGUUCAAGGAGUAAUGCCCCCGACUA\n",
      "AUG-UUC-AAG-GAG-UAA-UGC-CCC-CGA-CUA\n"
     ]
    }
   ],
   "source": [
    "seq_inicial = \"AUGUUCAAGGAGUAAUGCCCCCGACUA\"\n",
    "print seq_inicial\n",
    "\n",
    "codoes = []\n",
    "for i in range(0, len(seq_inicial), 3): # i é o início de cada codão\n",
    "    c = seq_inicial[i:i+3] # aqui usamos um slice, em vex da soma de 3 posições consecutivas.\n",
    "    codoes.append(c)\n",
    "\n",
    "seq_final = \"-\".join(codoes)\n",
    "print seq_final"
   ]
  },
  {
   "cell_type": "markdown",
   "metadata": {},
   "source": [
    "Usando uma lista em compreensão como argumento da função `.join()` o programa pode ficar mais compacto:"
   ]
  },
  {
   "cell_type": "code",
   "execution_count": 2,
   "metadata": {
    "collapsed": false
   },
   "outputs": [
    {
     "name": "stdout",
     "output_type": "stream",
     "text": [
      "AUGTTCAAGGAGUAAUGCCCCCGACUA\n",
      "AUG-TTC-AAG-GAG-UAA-UGC-CCC-CGA-CUA\n"
     ]
    }
   ],
   "source": [
    "seq_inicial = \"AUGTTCAAGGAGUAAUGCCCCCGACUA\"\n",
    "seq_final = \"-\".join([seq_inicial[i:i+3] for i in range(0, len(seq_inicial), 3)])\n",
    "\n",
    "print seq_inicial\n",
    "print seq_final"
   ]
  },
  {
   "cell_type": "markdown",
   "metadata": {},
   "source": [
    "**Os** _slices_ **também funcionam com listas**"
   ]
  },
  {
   "cell_type": "code",
   "execution_count": 12,
   "metadata": {
    "collapsed": false
   },
   "outputs": [
    {
     "name": "stdout",
     "output_type": "stream",
     "text": [
      "['Arg', 'Tyr']\n",
      "['Gly', 'Asp']\n",
      "['Arg', 'Gly']\n"
     ]
    }
   ],
   "source": [
    "aas = ['Arg', 'Tyr', 'Gly', 'Asp']\n",
    "\n",
    "s1 = aas[ :2]\n",
    "s2 = aas[-2: ]\n",
    "s3 = aas[ : :2]\n",
    "\n",
    "print s1\n",
    "print s2\n",
    "print s3"
   ]
  },
  {
   "cell_type": "markdown",
   "metadata": {},
   "source": [
    "**Os** _slices_ **produzem sempre novos objetos**\n",
    "\n",
    "**No caso de uma lista**, podemos **atribuír valores a um** _slice_ **da lista**, mudando alguns elementos de uma só vez:"
   ]
  },
  {
   "cell_type": "code",
   "execution_count": 14,
   "metadata": {
    "collapsed": false
   },
   "outputs": [
    {
     "name": "stdout",
     "output_type": "stream",
     "text": [
      "[1, 2, 2, 3, 3, 3, 4, 4, 4, 4]\n",
      "[1, 2, 2, 8, 9, 3, 4, 4, 4, 4]\n"
     ]
    }
   ],
   "source": [
    "nums = [1, 2, 2, 3, 3, 3, 4, 4, 4, 4]\n",
    "print nums\n",
    "nums[3:5] = [8, 9]\n",
    "print nums"
   ]
  },
  {
   "cell_type": "markdown",
   "metadata": {},
   "source": [
    "**Converter uma sequência com códigos de uma letra de aminoácidos para códigos de 3 letras, usando um dicionário para a conversão.**"
   ]
  },
  {
   "cell_type": "markdown",
   "metadata": {},
   "source": [
    "Este problema foi resolvido anteriormente da seguinte forma:"
   ]
  },
  {
   "cell_type": "code",
   "execution_count": 4,
   "metadata": {
    "collapsed": false
   },
   "outputs": [
    {
     "name": "stdout",
     "output_type": "stream",
     "text": [
      "ADKLITCWFHHWE é o mesmo que  Ala-Asp-Lys-Leu-Ile-Thr-Cys-Trp-Phe-His-His-Trp-Glu-\n"
     ]
    }
   ],
   "source": [
    "trans = {'A': 'Ala', 'C': 'Cys', 'E': 'Glu', 'D': 'Asp', 'G': 'Gly', 'F': 'Phe', 'I': 'Ile', 'H': 'His', 'K': 'Lys', 'M': 'Met', 'L': 'Leu', 'N': 'Asn', 'Q': 'Gln', 'P': 'Pro', 'S': 'Ser', 'R': 'Arg', 'T': 'Thr', 'W': 'Trp', 'V': 'Val', 'Y': 'Tyr'}\n",
    "\n",
    "# Problema: transformar seq1 numa string com os códigos de 3 letras dos aa\n",
    "seq1 = 'ADKLITCWFHHWE'\n",
    "\n",
    "seq3 = ''\n",
    "for aa in seq1:\n",
    "    seq3 = seq3 + trans[aa] + '-'\n",
    "\n",
    "print seq1, 'é o mesmo que ', seq3"
   ]
  },
  {
   "cell_type": "markdown",
   "metadata": {},
   "source": [
    "Podemos compactar o programa e melhorar o aspeto do resultado.\n",
    "\n",
    "Por um lado, podemos usar uma lista em compreensão para os códigos de 3 letras (em vez de uma _string_), por outro podemos usar a função `.join()` para apresenta-los separados por '-'."
   ]
  },
  {
   "cell_type": "code",
   "execution_count": 2,
   "metadata": {
    "collapsed": false
   },
   "outputs": [
    {
     "name": "stdout",
     "output_type": "stream",
     "text": [
      "ADKLITCWFHHWE é o mesmo que Ala-Asp-Lys-Leu-Ile-Thr-Cys-Trp-Phe-His-His-Trp-Glu\n"
     ]
    }
   ],
   "source": [
    "trans = {'A': 'Ala', 'C': 'Cys', 'E': 'Glu', 'D': 'Asp', 'G': 'Gly', 'F': 'Phe', 'I': 'Ile', 'H': 'His', 'K': 'Lys', 'M': 'Met', 'L': 'Leu', 'N': 'Asn', 'Q': 'Gln', 'P': 'Pro', 'S': 'Ser', 'R': 'Arg', 'T': 'Thr', 'W': 'Trp', 'V': 'Val', 'Y': 'Tyr'}\n",
    "\n",
    "# Problema: transformar seq1 numa string com os códigos de 3 letras dos aa\n",
    "seq1 = 'ADKLITCWFHHWE'\n",
    "\n",
    "seq3 = '-'.join([trans[aa] for aa in seq1])\n",
    "\n",
    "print seq1, 'é o mesmo que', seq3"
   ]
  },
  {
   "cell_type": "markdown",
   "metadata": {},
   "source": [
    "**Problema: calcular o complemento reverso de uma sequência**"
   ]
  },
  {
   "cell_type": "code",
   "execution_count": 3,
   "metadata": {
    "collapsed": false
   },
   "outputs": [
    {
     "name": "stdout",
     "output_type": "stream",
     "text": [
      "ATGGTTACCTAGTATTTAGGATTA\n",
      "TAATCCTAAATACTAGGTAACCAT\n"
     ]
    }
   ],
   "source": [
    "a = \"ATGGTTACCTAGTATTTAGGATTA\"\n",
    "\n",
    "compl = \"\"\n",
    "for i in a[ : :-1]: \n",
    "    # este slice significa \"do princípio até ao fim, mas em sentido contrário (passo -1)\"\n",
    "    if   i == 'A': compl = compl +'T'\n",
    "    elif i == 'T': compl = compl +'A'\n",
    "    elif i == 'G': compl = compl +'C'\n",
    "    else:          compl = compl +'G'\n",
    "\n",
    "print a\n",
    "print compl"
   ]
  },
  {
   "cell_type": "markdown",
   "metadata": {},
   "source": [
    "**Problema: calcular o complemento reverso de uma sequência, mas separando os codões por \"-\".**"
   ]
  },
  {
   "cell_type": "code",
   "execution_count": 4,
   "metadata": {
    "collapsed": false
   },
   "outputs": [
    {
     "name": "stdout",
     "output_type": "stream",
     "text": [
      "Seq:\n",
      "ATG-GTT-ACC-TAG-TAT-TTA-GGA-TTA\n",
      "\n",
      "Complemento reverso:\n",
      "TAA-TCC-TAA-ATA-CTA-GGT-AAC-CAT\n"
     ]
    }
   ],
   "source": [
    "a = \"ATGGTTACCTAGTATTTAGGATTA\"\n",
    "\n",
    "compl = \"\"\n",
    "for i in a[ : :-1]:\n",
    "    if   i == 'A': compl = compl +'T'\n",
    "    elif i == 'T': compl = compl +'A'\n",
    "    elif i == 'G': compl = compl +'C'\n",
    "    else:          compl = compl +'G'\n",
    "\n",
    "print \"Seq:\"\n",
    "print '-'.join([a[i:i+3] for i in range(0,len(a),3)])\n",
    "print\n",
    "print \"Complemento reverso:\"\n",
    "print '-'.join([compl[i:i+3] for i in range(0,len(compl),3)])"
   ]
  },
  {
   "cell_type": "markdown",
   "metadata": {},
   "source": [
    "**Será que podemos evitar tantos** `if...elif...elif...else`**?**\n",
    "\n",
    "Sim, usando um dicionário para indicar as bases complementares."
   ]
  },
  {
   "cell_type": "code",
   "execution_count": 6,
   "metadata": {
    "collapsed": false
   },
   "outputs": [
    {
     "name": "stdout",
     "output_type": "stream",
     "text": [
      "Seq:\n",
      "ATG-GTT-ACC-TAG-TAT-TTA-GGA-TTA\n",
      "\n",
      "Complemento reverso:\n",
      "TAA-TCC-TAA-ATA-CTA-GGT-AAC-CAT\n"
     ]
    }
   ],
   "source": [
    "bcompl = {'A':'T', 'T':'A', 'C':'G', 'G':'C'}\n",
    "\n",
    "a = \"ATGGTTACCTAGTATTTAGGATTA\"\n",
    "compl = ''.join([bcompl[b] for b in a[ : :-1]])\n",
    "\n",
    "print \"Seq:\"\n",
    "print '-'.join([a[i:i+3] for i in range(0,len(a),3)])\n",
    "print\n",
    "print \"Complemento reverso:\"\n",
    "print '-'.join([compl[i:i+3] for i in range(0,len(compl),3)])"
   ]
  }
 ],
 "metadata": {
  "kernelspec": {
   "display_name": "Python 2",
   "language": "python",
   "name": "python2"
  },
  "language_info": {
   "codemirror_mode": {
    "name": "ipython",
    "version": 2
   },
   "file_extension": ".py",
   "mimetype": "text/x-python",
   "name": "python",
   "nbconvert_exporter": "python",
   "pygments_lexer": "ipython2",
   "version": "2.7.11"
  }
 },
 "nbformat": 4,
 "nbformat_minor": 0
}
