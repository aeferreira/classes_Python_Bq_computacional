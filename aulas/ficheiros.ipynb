{
 "cells": [
  {
   "cell_type": "markdown",
   "metadata": {},
   "source": [
    "# Ficheiros de texto"
   ]
  },
  {
   "cell_type": "markdown",
   "metadata": {},
   "source": [
    "## Leitura"
   ]
  },
  {
   "cell_type": "markdown",
   "metadata": {},
   "source": [
    "O modelo mais simples é ler todo o conteúdo de um ficheiro para uma _string_:\n",
    "\n",
    "![](fichs.png)"
   ]
  },
  {
   "cell_type": "markdown",
   "metadata": {},
   "source": [
    "### `.read()`"
   ]
  },
  {
   "cell_type": "code",
   "execution_count": 2,
   "metadata": {
    "collapsed": false
   },
   "outputs": [
    {
     "name": "stdout",
     "output_type": "stream",
     "text": [
      "A sequência, em FASTA é\n",
      ">gi|398366315|ref|NP_011770.3| Eno1p [Saccharomyces cerevisiae S288c]\n",
      "MAVSKVYARSVYDSRGNPTVEVELTTEKGVFRSIVPSGASTGVHEALEMRDGDKSKWMGKGVLHAVKNVN\n",
      "DVIAPAFVKANIDVKDQKAVDDFLISLDGTANKSKLGANAILGVSLAASRAAAAEKNVPLYKHLADLSKS\n",
      "KTSPYVLPVPFLNVLNGGSHAGGALALQEFMIAPTGAKTFAEALRIGSEVYHNLKSLTKKRYGASAGNVG\n",
      "DEGGVAPNIQTAEEALDLIVDAIKAAGHDGKIKIGLDCASSEFFKDGKYDLDFKNPNSDKSKWLTGPQLA\n",
      "DLYHSLMKRYPIVSIEDPFAEDDWEAWSHFFKTAGIQIVADDLTVTNPKRIATAIEKKAADALLLKVNQI\n",
      "GTLSESIKAAQDSFAAGWGVMVSHRSGETEDTFIADLVVGLRTGQIKTGAPARSERLAKLNQLLRIEEEL\n",
      "GDNAVFAGENFHHGDKL\n",
      "<type 'str'>\n"
     ]
    }
   ],
   "source": [
    "a = open('eno1.fasta')\n",
    "seq = a.read()\n",
    "a.close()\n",
    "\n",
    "print 'A sequência, em FASTA é'\n",
    "print seq\n",
    "\n",
    "print type(seq)"
   ]
  },
  {
   "cell_type": "markdown",
   "metadata": {},
   "source": [
    "Uma versão mais moderna para abrir e automaticamente fechar o ficheiro é utilizar o comando `with`:"
   ]
  },
  {
   "cell_type": "code",
   "execution_count": 4,
   "metadata": {
    "collapsed": false
   },
   "outputs": [
    {
     "name": "stdout",
     "output_type": "stream",
     "text": [
      "A sequência, em FASTA é\n",
      ">gi|398366315|ref|NP_011770.3| Eno1p [Saccharomyces cerevisiae S288c]\n",
      "MAVSKVYARSVYDSRGNPTVEVELTTEKGVFRSIVPSGASTGVHEALEMRDGDKSKWMGKGVLHAVKNVN\n",
      "DVIAPAFVKANIDVKDQKAVDDFLISLDGTANKSKLGANAILGVSLAASRAAAAEKNVPLYKHLADLSKS\n",
      "KTSPYVLPVPFLNVLNGGSHAGGALALQEFMIAPTGAKTFAEALRIGSEVYHNLKSLTKKRYGASAGNVG\n",
      "DEGGVAPNIQTAEEALDLIVDAIKAAGHDGKIKIGLDCASSEFFKDGKYDLDFKNPNSDKSKWLTGPQLA\n",
      "DLYHSLMKRYPIVSIEDPFAEDDWEAWSHFFKTAGIQIVADDLTVTNPKRIATAIEKKAADALLLKVNQI\n",
      "GTLSESIKAAQDSFAAGWGVMVSHRSGETEDTFIADLVVGLRTGQIKTGAPARSERLAKLNQLLRIEEEL\n",
      "GDNAVFAGENFHHGDKL\n"
     ]
    }
   ],
   "source": [
    "with open('eno1.fasta') as a:\n",
    "    seq = a.read()\n",
    "\n",
    "print 'A sequência, em FASTA é'\n",
    "print seq"
   ]
  },
  {
   "cell_type": "markdown",
   "metadata": {},
   "source": [
    "Mas `read()` não é a única maneira de ler um ficheiro."
   ]
  },
  {
   "cell_type": "markdown",
   "metadata": {},
   "source": [
    "### `.readlines()`"
   ]
  },
  {
   "cell_type": "markdown",
   "metadata": {},
   "source": [
    "A função `readlines()` lê e separa **as linhas** de um ficheiro para uma lista:"
   ]
  },
  {
   "cell_type": "code",
   "execution_count": 5,
   "metadata": {
    "collapsed": false
   },
   "outputs": [
    {
     "name": "stdout",
     "output_type": "stream",
     "text": [
      "['>gi|398366315|ref|NP_011770.3| Eno1p [Saccharomyces cerevisiae S288c]\\n', 'MAVSKVYARSVYDSRGNPTVEVELTTEKGVFRSIVPSGASTGVHEALEMRDGDKSKWMGKGVLHAVKNVN\\n', 'DVIAPAFVKANIDVKDQKAVDDFLISLDGTANKSKLGANAILGVSLAASRAAAAEKNVPLYKHLADLSKS\\n', 'KTSPYVLPVPFLNVLNGGSHAGGALALQEFMIAPTGAKTFAEALRIGSEVYHNLKSLTKKRYGASAGNVG\\n', 'DEGGVAPNIQTAEEALDLIVDAIKAAGHDGKIKIGLDCASSEFFKDGKYDLDFKNPNSDKSKWLTGPQLA\\n', 'DLYHSLMKRYPIVSIEDPFAEDDWEAWSHFFKTAGIQIVADDLTVTNPKRIATAIEKKAADALLLKVNQI\\n', 'GTLSESIKAAQDSFAAGWGVMVSHRSGETEDTFIADLVVGLRTGQIKTGAPARSERLAKLNQLLRIEEEL\\n', 'GDNAVFAGENFHHGDKL']\n"
     ]
    }
   ],
   "source": [
    "with open('eno1.fasta') as a:\n",
    "    seq = a.readlines()\n",
    "\n",
    "print seq"
   ]
  },
  {
   "cell_type": "markdown",
   "metadata": {},
   "source": [
    "O que são os `\\n` no fim das _strings_?"
   ]
  },
  {
   "cell_type": "markdown",
   "metadata": {},
   "source": [
    "**Numa string,** `\\n` **indica a mudança de linha**. (Conta como apenas **1** caractere).\n",
    "\n",
    "Neste caso eles aparecem porque no ficheiro original há mudanças de linha. "
   ]
  },
  {
   "cell_type": "markdown",
   "metadata": {},
   "source": [
    "Podemos elimina-los com a função `.strip()`:"
   ]
  },
  {
   "cell_type": "code",
   "execution_count": 6,
   "metadata": {
    "collapsed": false
   },
   "outputs": [
    {
     "name": "stdout",
     "output_type": "stream",
     "text": [
      "['>gi|398366315|ref|NP_011770.3| Eno1p [Saccharomyces cerevisiae S288c]', 'MAVSKVYARSVYDSRGNPTVEVELTTEKGVFRSIVPSGASTGVHEALEMRDGDKSKWMGKGVLHAVKNVN', 'DVIAPAFVKANIDVKDQKAVDDFLISLDGTANKSKLGANAILGVSLAASRAAAAEKNVPLYKHLADLSKS', 'KTSPYVLPVPFLNVLNGGSHAGGALALQEFMIAPTGAKTFAEALRIGSEVYHNLKSLTKKRYGASAGNVG', 'DEGGVAPNIQTAEEALDLIVDAIKAAGHDGKIKIGLDCASSEFFKDGKYDLDFKNPNSDKSKWLTGPQLA', 'DLYHSLMKRYPIVSIEDPFAEDDWEAWSHFFKTAGIQIVADDLTVTNPKRIATAIEKKAADALLLKVNQI', 'GTLSESIKAAQDSFAAGWGVMVSHRSGETEDTFIADLVVGLRTGQIKTGAPARSERLAKLNQLLRIEEEL', 'GDNAVFAGENFHHGDKL']\n"
     ]
    }
   ],
   "source": [
    "with open('eno1.fasta') as a:\n",
    "    seq = a.readlines()\n",
    "\n",
    "seq = [linha.strip() for linha in seq]\n",
    "print seq"
   ]
  },
  {
   "cell_type": "markdown",
   "metadata": {},
   "source": [
    "Ou, de uma forma sucinta, usando uma lista em compreensão:"
   ]
  },
  {
   "cell_type": "code",
   "execution_count": 7,
   "metadata": {
    "collapsed": false
   },
   "outputs": [
    {
     "name": "stdout",
     "output_type": "stream",
     "text": [
      "['>gi|398366315|ref|NP_011770.3| Eno1p [Saccharomyces cerevisiae S288c]', 'MAVSKVYARSVYDSRGNPTVEVELTTEKGVFRSIVPSGASTGVHEALEMRDGDKSKWMGKGVLHAVKNVN', 'DVIAPAFVKANIDVKDQKAVDDFLISLDGTANKSKLGANAILGVSLAASRAAAAEKNVPLYKHLADLSKS', 'KTSPYVLPVPFLNVLNGGSHAGGALALQEFMIAPTGAKTFAEALRIGSEVYHNLKSLTKKRYGASAGNVG', 'DEGGVAPNIQTAEEALDLIVDAIKAAGHDGKIKIGLDCASSEFFKDGKYDLDFKNPNSDKSKWLTGPQLA', 'DLYHSLMKRYPIVSIEDPFAEDDWEAWSHFFKTAGIQIVADDLTVTNPKRIATAIEKKAADALLLKVNQI', 'GTLSESIKAAQDSFAAGWGVMVSHRSGETEDTFIADLVVGLRTGQIKTGAPARSERLAKLNQLLRIEEEL', 'GDNAVFAGENFHHGDKL']\n"
     ]
    }
   ],
   "source": [
    "with open('eno1.fasta') as a:\n",
    "    seq = [linha.strip() for linha in a.readlines()]\n",
    "print seq"
   ]
  },
  {
   "cell_type": "markdown",
   "metadata": {},
   "source": [
    "Com ficheiros muito grandes, a leitura pelas funções `.read()` e `.readlines()` pode esgotar a memória de um computador e \"congelar\" um programa."
   ]
  },
  {
   "cell_type": "markdown",
   "metadata": {},
   "source": [
    "Existe uma terceira maneira de ler um ficheiro (que não traz problemas com ficheiros grandes):"
   ]
  },
  {
   "cell_type": "markdown",
   "metadata": {},
   "source": [
    "### Iteração de ficheiros com `for`."
   ]
  },
  {
   "cell_type": "markdown",
   "metadata": {},
   "source": [
    "**A iteração de um ficheiro \"percorre\" as linhas do ficheiro**"
   ]
  },
  {
   "cell_type": "code",
   "execution_count": 8,
   "metadata": {
    "collapsed": false
   },
   "outputs": [
    {
     "name": "stdout",
     "output_type": "stream",
     "text": [
      "linha >gi|398366315|ref|NP_011770.3| Eno1p [Saccharomyces cerevisiae S288c]\n",
      "tem 69 caracteres\n",
      "é o cabeçalho do ficheiro FASTA\n",
      "linha MAVSKVYARSVYDSRGNPTVEVELTTEKGVFRSIVPSGASTGVHEALEMRDGDKSKWMGKGVLHAVKNVN\n",
      "tem 70 caracteres\n",
      "linha DVIAPAFVKANIDVKDQKAVDDFLISLDGTANKSKLGANAILGVSLAASRAAAAEKNVPLYKHLADLSKS\n",
      "tem 70 caracteres\n",
      "linha KTSPYVLPVPFLNVLNGGSHAGGALALQEFMIAPTGAKTFAEALRIGSEVYHNLKSLTKKRYGASAGNVG\n",
      "tem 70 caracteres\n",
      "linha DEGGVAPNIQTAEEALDLIVDAIKAAGHDGKIKIGLDCASSEFFKDGKYDLDFKNPNSDKSKWLTGPQLA\n",
      "tem 70 caracteres\n",
      "linha DLYHSLMKRYPIVSIEDPFAEDDWEAWSHFFKTAGIQIVADDLTVTNPKRIATAIEKKAADALLLKVNQI\n",
      "tem 70 caracteres\n",
      "linha GTLSESIKAAQDSFAAGWGVMVSHRSGETEDTFIADLVVGLRTGQIKTGAPARSERLAKLNQLLRIEEEL\n",
      "tem 70 caracteres\n",
      "linha GDNAVFAGENFHHGDKL\n",
      "tem 17 caracteres\n",
      "['>gi|398366315|ref|NP_011770.3| Eno1p [Saccharomyces cerevisiae S288c]', 'MAVSKVYARSVYDSRGNPTVEVELTTEKGVFRSIVPSGASTGVHEALEMRDGDKSKWMGKGVLHAVKNVN', 'DVIAPAFVKANIDVKDQKAVDDFLISLDGTANKSKLGANAILGVSLAASRAAAAEKNVPLYKHLADLSKS', 'KTSPYVLPVPFLNVLNGGSHAGGALALQEFMIAPTGAKTFAEALRIGSEVYHNLKSLTKKRYGASAGNVG', 'DEGGVAPNIQTAEEALDLIVDAIKAAGHDGKIKIGLDCASSEFFKDGKYDLDFKNPNSDKSKWLTGPQLA', 'DLYHSLMKRYPIVSIEDPFAEDDWEAWSHFFKTAGIQIVADDLTVTNPKRIATAIEKKAADALLLKVNQI', 'GTLSESIKAAQDSFAAGWGVMVSHRSGETEDTFIADLVVGLRTGQIKTGAPARSERLAKLNQLLRIEEEL', 'GDNAVFAGENFHHGDKL']\n"
     ]
    }
   ],
   "source": [
    "linhas = []\n",
    "with open('eno1.fasta') as a:\n",
    "    for linha in a:\n",
    "        linha = linha.strip()\n",
    "        print 'linha', linha\n",
    "        print 'tem', len(linha), 'caracteres'\n",
    "        if linha.startswith('>'):\n",
    "            print 'é o cabeçalho do ficheiro FASTA'\n",
    "        linhas.append(linha)\n",
    "\n",
    "print linhas"
   ]
  },
  {
   "cell_type": "markdown",
   "metadata": {},
   "source": [
    "Reparar que, para ler todas as linhas para uma lista poderíamos não ter usado a função `.readlines()`:"
   ]
  },
  {
   "cell_type": "code",
   "execution_count": 9,
   "metadata": {
    "collapsed": false
   },
   "outputs": [
    {
     "name": "stdout",
     "output_type": "stream",
     "text": [
      "['>gi|398366315|ref|NP_011770.3| Eno1p [Saccharomyces cerevisiae S288c]', 'MAVSKVYARSVYDSRGNPTVEVELTTEKGVFRSIVPSGASTGVHEALEMRDGDKSKWMGKGVLHAVKNVN', 'DVIAPAFVKANIDVKDQKAVDDFLISLDGTANKSKLGANAILGVSLAASRAAAAEKNVPLYKHLADLSKS', 'KTSPYVLPVPFLNVLNGGSHAGGALALQEFMIAPTGAKTFAEALRIGSEVYHNLKSLTKKRYGASAGNVG', 'DEGGVAPNIQTAEEALDLIVDAIKAAGHDGKIKIGLDCASSEFFKDGKYDLDFKNPNSDKSKWLTGPQLA', 'DLYHSLMKRYPIVSIEDPFAEDDWEAWSHFFKTAGIQIVADDLTVTNPKRIATAIEKKAADALLLKVNQI', 'GTLSESIKAAQDSFAAGWGVMVSHRSGETEDTFIADLVVGLRTGQIKTGAPARSERLAKLNQLLRIEEEL', 'GDNAVFAGENFHHGDKL']\n"
     ]
    }
   ],
   "source": [
    "with open('eno1.fasta') as a:\n",
    "    seq = [linha.strip() for linha in a] # aqui tínhamos ... for linha in a.readlines()\n",
    "print seq"
   ]
  },
  {
   "cell_type": "markdown",
   "metadata": {},
   "source": [
    "**Problema: ler uma ficheiro FASTA e separar o cabeçalho da sequência em duas strings (juntando toda a sequência numa só string)**"
   ]
  },
  {
   "cell_type": "code",
   "execution_count": 10,
   "metadata": {
    "collapsed": false
   },
   "outputs": [
    {
     "name": "stdout",
     "output_type": "stream",
     "text": [
      "cabeçalho:  >gi|398366315|ref|NP_011770.3| Eno1p [Saccharomyces cerevisiae S288c]\n",
      "sequência: \n",
      "MAVSKVYARSVYDSRGNPTVEVELTTEKGVFRSIVPSGASTGVHEALEMRDGDKSKWMGKGVLHAVKNVNDVIAPAFVKANIDVKDQKAVDDFLISLDGTANKSKLGANAILGVSLAASRAAAAEKNVPLYKHLADLSKSKTSPYVLPVPFLNVLNGGSHAGGALALQEFMIAPTGAKTFAEALRIGSEVYHNLKSLTKKRYGASAGNVGDEGGVAPNIQTAEEALDLIVDAIKAAGHDGKIKIGLDCASSEFFKDGKYDLDFKNPNSDKSKWLTGPQLADLYHSLMKRYPIVSIEDPFAEDDWEAWSHFFKTAGIQIVADDLTVTNPKRIATAIEKKAADALLLKVNQIGTLSESIKAAQDSFAAGWGVMVSHRSGETEDTFIADLVVGLRTGQIKTGAPARSERLAKLNQLLRIEEELGDNAVFAGENFHHGDKL\n"
     ]
    }
   ],
   "source": [
    "with open('eno1.fasta') as a:\n",
    "    linhas = [i.strip() for i in a]\n",
    "\n",
    "cab = linhas[0]\n",
    "seq = ''.join(linhas[1:]) # estamos a usar um slice de uma lista e a funçao .join() com separador vazio.\n",
    "\n",
    "print \"cabeçalho: \", cab\n",
    "print \"sequência: \\n\", seq"
   ]
  },
  {
   "cell_type": "markdown",
   "metadata": {},
   "source": [
    "Às vezes os ficheiros não têm cabeçalho! É melhor testar se a primeira linha começa por \">\" !"
   ]
  },
  {
   "cell_type": "code",
   "execution_count": 11,
   "metadata": {
    "collapsed": false
   },
   "outputs": [
    {
     "name": "stdout",
     "output_type": "stream",
     "text": [
      "cabeçalho:  >gi|398366315|ref|NP_011770.3| Eno1p [Saccharomyces cerevisiae S288c]\n",
      "sequência: \n",
      "MAVSKVYARSVYDSRGNPTVEVELTTEKGVFRSIVPSGASTGVHEALEMRDGDKSKWMGKGVLHAVKNVNDVIAPAFVKANIDVKDQKAVDDFLISLDGTANKSKLGANAILGVSLAASRAAAAEKNVPLYKHLADLSKSKTSPYVLPVPFLNVLNGGSHAGGALALQEFMIAPTGAKTFAEALRIGSEVYHNLKSLTKKRYGASAGNVGDEGGVAPNIQTAEEALDLIVDAIKAAGHDGKIKIGLDCASSEFFKDGKYDLDFKNPNSDKSKWLTGPQLADLYHSLMKRYPIVSIEDPFAEDDWEAWSHFFKTAGIQIVADDLTVTNPKRIATAIEKKAADALLLKVNQIGTLSESIKAAQDSFAAGWGVMVSHRSGETEDTFIADLVVGLRTGQIKTGAPARSERLAKLNQLLRIEEELGDNAVFAGENFHHGDKL\n"
     ]
    }
   ],
   "source": [
    "with open('eno1.fasta') as a:\n",
    "    linhas = [i.strip() for i in a]\n",
    "\n",
    "if linhas[0].startswith('>'):\n",
    "    cab = linhas[0]\n",
    "    seq = ''.join(linhas[1:])\n",
    "else:\n",
    "    cab = \"\"\n",
    "    seq = ''.join(linhas)\n",
    "\n",
    "print \"cabeçalho: \", cab\n",
    "print \"sequência: \\n\", seq"
   ]
  },
  {
   "cell_type": "markdown",
   "metadata": {},
   "source": [
    "Agora a versão com `for`:"
   ]
  },
  {
   "cell_type": "code",
   "execution_count": 15,
   "metadata": {
    "collapsed": false
   },
   "outputs": [
    {
     "name": "stdout",
     "output_type": "stream",
     "text": [
      "cabeçalho:  >gi|398366315|ref|NP_011770.3| Eno1p [Saccharomyces cerevisiae S288c]\n",
      "sequência: \n",
      "MAVSKVYARSVYDSRGNPTVEVELTTEKGVFRSIVPSGASTGVHEALEMRDGDKSKWMGKGVLHAVKNVNDVIAPAFVKANIDVKDQKAVDDFLISLDGTANKSKLGANAILGVSLAASRAAAAEKNVPLYKHLADLSKSKTSPYVLPVPFLNVLNGGSHAGGALALQEFMIAPTGAKTFAEALRIGSEVYHNLKSLTKKRYGASAGNVGDEGGVAPNIQTAEEALDLIVDAIKAAGHDGKIKIGLDCASSEFFKDGKYDLDFKNPNSDKSKWLTGPQLADLYHSLMKRYPIVSIEDPFAEDDWEAWSHFFKTAGIQIVADDLTVTNPKRIATAIEKKAADALLLKVNQIGTLSESIKAAQDSFAAGWGVMVSHRSGETEDTFIADLVVGLRTGQIKTGAPARSERLAKLNQLLRIEEELGDNAVFAGENFHHGDKL\n"
     ]
    }
   ],
   "source": [
    "cab = \"\"\n",
    "seq = []\n",
    "with open('eno1.fasta') as a:\n",
    "    for i in a:\n",
    "        i = i.strip()\n",
    "        if i.startswith('>'): \n",
    "            cab = i\n",
    "        else:\n",
    "            seq.append(i)\n",
    "seq = ''.join(seq)\n",
    "\n",
    "print \"cabeçalho: \", cab\n",
    "print \"sequência: \\n\", seq"
   ]
  },
  {
   "cell_type": "markdown",
   "metadata": {},
   "source": [
    "## Escrita"
   ]
  },
  {
   "cell_type": "markdown",
   "metadata": {},
   "source": [
    "### Comando `print` para ficheiros"
   ]
  },
  {
   "cell_type": "markdown",
   "metadata": {},
   "source": [
    "Basta modificar o comando `print`, indicando que deve escrever para um ficheiro em modo de escrita:"
   ]
  },
  {
   "cell_type": "code",
   "execution_count": 12,
   "metadata": {
    "collapsed": true
   },
   "outputs": [],
   "source": [
    "with open('exp.txt', 'w') as a: # o 'w' indica o modo de escrita\n",
    "    print >> a, '1, 2, 3, experiência, som, som'"
   ]
  },
  {
   "cell_type": "markdown",
   "metadata": {},
   "source": [
    "Aparentemente não aconteceu nada, mas um ficheiro novo foi criado"
   ]
  },
  {
   "cell_type": "markdown",
   "metadata": {},
   "source": [
    "Vamos ler o ficheiro:"
   ]
  },
  {
   "cell_type": "code",
   "execution_count": 14,
   "metadata": {
    "collapsed": false
   },
   "outputs": [
    {
     "name": "stdout",
     "output_type": "stream",
     "text": [
      "1, 2, 3, experiência, som, som\n",
      "\n"
     ]
    }
   ],
   "source": [
    "with open('exp.txt') as a:\n",
    "    for i in a:\n",
    "        print i"
   ]
  },
  {
   "cell_type": "markdown",
   "metadata": {},
   "source": [
    "### Função `.write()`"
   ]
  },
  {
   "cell_type": "markdown",
   "metadata": {},
   "source": [
    "Também existe a função `.write()` que funciona como o contrário de `.read()`:"
   ]
  },
  {
   "cell_type": "code",
   "execution_count": 2,
   "metadata": {
    "collapsed": true
   },
   "outputs": [],
   "source": [
    "tudo = \"\"\"\n",
    "Um texto que ocupa\n",
    "1 linha\n",
    "2 linhas\n",
    "3 linhas\n",
    "\"\"\"\n",
    "\n",
    "with open('exp2.txt', 'w') as a: # o 'w' indica o modo de escrita\n",
    "    a.write(tudo)"
   ]
  },
  {
   "cell_type": "markdown",
   "metadata": {},
   "source": [
    "**Problema: ler uma ficheiro com dados numéricos e converter o ponto decimal em vírgula decimal**\n",
    "\n",
    "Vamos supor que temos o ficheiro de texto `masses_annotated.txt` (menos de 1 MB) em que as cinco primeiras linhas são:\n",
    "\n",
    "```\n",
    "raw_mass\tpeak_height\tKEGG_mass(original)\tnpossible\tKEGG_mass (Addukt)\tppm\tKEGG_cid\tKEGG_formula\tKEGG_name\tuniqueID\n",
    "154.97517\t7.25775e+06\t155.982446466881\t1(4)\t154.975098039829\t0.464333550973771\tC00988\tC2H5O6P\t2-Phosphoglycolate;Phosphoglycolic acid ([M-H]-)\t\n",
    "154.97517\t7.25775e+06\t155.982446466881\t2(4)\t154.975098039829\t0.464333550973771\tHMDB00816\tC2H5O6P\tPhosphoglycolic acid (see KEGG C00988); 2-phosphonooxyacetic acid [carboxylic acid] ([M-H]-)\t\n",
    "154.97517\t7.25775e+06\t120.005768420091\t3(4)\t154.975274805989\t-0.676276005999922\tC02287\tC3H4O5\tHydroxymalonate;Tartronic acid;Hydroxymalonic acid;2-Hydroxymalonate;2-Hydroxymalonic acid;2-Tartronic acid ([M+Cl35]-)\t\n",
    "157.08700\t1.21735e+06\t158.094276466881\t1(13)\t157.087017840779\t-0.113572599952848\tC02975\tC8H14O3\tEthyl 3-oxohexanoate;Ethyl butyrylacetate ([M-H]-)\t\n",
    "```\n",
    "\n",
    "Os diferentes campos são separados por **tabs** (_tab delimited file_) e em certas configurações do MS-Excel podemos ter problemas a importar os dados.\n",
    "\n",
    "De uma form sucinta, podemos passar os `.` a `,` ?"
   ]
  },
  {
   "cell_type": "code",
   "execution_count": 2,
   "metadata": {
    "collapsed": false
   },
   "outputs": [],
   "source": [
    "with open('masses_annotated.txt') as a:\n",
    "    tudo = a.read()\n",
    "\n",
    "tudo = tudo.replace('.', ',')\n",
    "\n",
    "with open('masses_annotated_fixed.txt', 'w') as a:\n",
    "    a.write(tudo)"
   ]
  },
  {
   "cell_type": "markdown",
   "metadata": {},
   "source": [
    "Como prova, as cinco primeiras linhas do ficheiro `masses_annotated_fixed.txt`:\n",
    "\n",
    "```\n",
    "raw_mass\tpeak_height\tKEGG_mass(original)\tnpossible\tKEGG_mass (Addukt)\tppm\tKEGG_cid\tKEGG_formula\tKEGG_name\tuniqueID\n",
    "154,97517\t7,25775e+06\t155,982446466881\t1(4)\t154,975098039829\t0,464333550973771\tC00988\tC2H5O6P\t2-Phosphoglycolate;Phosphoglycolic acid ([M-H]-)\t\n",
    "154,97517\t7,25775e+06\t155,982446466881\t2(4)\t154,975098039829\t0,464333550973771\tHMDB00816\tC2H5O6P\tPhosphoglycolic acid (see KEGG C00988); 2-phosphonooxyacetic acid [carboxylic acid] ([M-H]-)\t\n",
    "154,97517\t7,25775e+06\t120,005768420091\t3(4)\t154,975274805989\t-0,676276005999922\tC02287\tC3H4O5\tHydroxymalonate;Tartronic acid;Hydroxymalonic acid;2-Hydroxymalonate;2-Hydroxymalonic acid;2-Tartronic acid ([M+Cl35]-)\t\n",
    "157,08700\t1,21735e+06\t158,094276466881\t1(13)\t157,087017840779\t-0,113572599952848\tC02975\tC8H14O3\tEthyl 3-oxohexanoate;Ethyl butyrylacetate ([M-H]-)\t\n",
    "```"
   ]
  }
 ],
 "metadata": {
  "kernelspec": {
   "display_name": "Python 2",
   "language": "python",
   "name": "python2"
  },
  "language_info": {
   "codemirror_mode": {
    "name": "ipython",
    "version": 2
   },
   "file_extension": ".py",
   "mimetype": "text/x-python",
   "name": "python",
   "nbconvert_exporter": "python",
   "pygments_lexer": "ipython2",
   "version": "2.7.6"
  }
 },
 "nbformat": 4,
 "nbformat_minor": 0
}
