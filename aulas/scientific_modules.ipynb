{
 "cells": [
  {
   "cell_type": "markdown",
   "metadata": {},
   "source": [
    "# Python \"científico\": módulos `numpy` e `sympy`\n",
    "\n",
    "![](images_scipython/sci_python.png)"
   ]
  },
  {
   "cell_type": "markdown",
   "metadata": {},
   "source": [
    "## `numpy`"
   ]
  },
  {
   "cell_type": "markdown",
   "metadata": {},
   "source": [
    "### Operações \"vectoriais\""
   ]
  },
  {
   "cell_type": "code",
   "execution_count": 1,
   "metadata": {
    "collapsed": true
   },
   "outputs": [],
   "source": [
    "import numpy as np\n",
    "\n",
    "# outras possibilidades:\n",
    "\n",
    "# import numpy\n",
    "# from numpy import *\n",
    "# from numpy import linspace array arange"
   ]
  },
  {
   "cell_type": "code",
   "execution_count": 2,
   "metadata": {
    "collapsed": false
   },
   "outputs": [
    {
     "name": "stdout",
     "output_type": "stream",
     "text": [
      "x\n",
      "[ 0.          0.13157895  0.26315789  0.39473684  0.52631579  0.65789474\n",
      "  0.78947368  0.92105263  1.05263158  1.18421053  1.31578947  1.44736842\n",
      "  1.57894737  1.71052632  1.84210526  1.97368421  2.10526316  2.23684211\n",
      "  2.36842105  2.5       ]\n",
      "\n",
      "y\n",
      "[ -3.          -2.93074792  -2.72299169  -2.3767313   -1.89196676\n",
      "  -1.26869806  -0.50692521   0.3933518    1.43213296   2.60941828\n",
      "   3.92520776   5.37950139   6.97229917   8.70360111  10.5734072\n",
      "  12.58171745  14.72853186  17.01385042  19.43767313  22.        ]\n"
     ]
    }
   ],
   "source": [
    "x = np.linspace (0.0, 2.5, 20)\n",
    "print 'x'\n",
    "print x\n",
    "\n",
    "y = 4 * x**2 -3\n",
    "\n",
    "print \n",
    "print 'y'\n",
    "print y"
   ]
  },
  {
   "cell_type": "markdown",
   "metadata": {},
   "source": [
    "### Criação de _arrays_"
   ]
  },
  {
   "cell_type": "code",
   "execution_count": 3,
   "metadata": {
    "collapsed": false
   },
   "outputs": [
    {
     "name": "stdout",
     "output_type": "stream",
     "text": [
      "[ 1.          1.11111111  1.22222222  1.33333333  1.44444444  1.55555556\n",
      "  1.66666667  1.77777778  1.88888889  2.        ]\n",
      "\n",
      "[ 1.5  1.6  1.7  1.8  1.9  2.   2.1  2.2  2.3  2.4]\n",
      "\n",
      "[ 1.   1.2  3.   3.5]\n"
     ]
    }
   ],
   "source": [
    "x = np.linspace(1, 2, 10)\n",
    "print x\n",
    "print\n",
    "\n",
    "x = np.arange(1.5, 2.5, 0.1)\n",
    "print x\n",
    "print\n",
    "\n",
    "x = np.array([1, 1.2, 3, 3.5])\n",
    "print x"
   ]
  },
  {
   "cell_type": "markdown",
   "metadata": {},
   "source": [
    "### Dimensões (`shape`)"
   ]
  },
  {
   "cell_type": "code",
   "execution_count": 4,
   "metadata": {
    "collapsed": false
   },
   "outputs": [
    {
     "name": "stdout",
     "output_type": "stream",
     "text": [
      "[  1.   2.   3.   4.   5.   6.   7.   8.   9.  10.  11.  12.  13.  14.  15.\n",
      "  16.  17.  18.  19.  20.]\n",
      "\n",
      "[[  1.   2.   3.   4.]\n",
      " [  5.   6.   7.   8.]\n",
      " [  9.  10.  11.  12.]\n",
      " [ 13.  14.  15.  16.]\n",
      " [ 17.  18.  19.  20.]]\n",
      "\n"
     ]
    }
   ],
   "source": [
    "x = np.linspace(1,20,20)\n",
    "print x\n",
    "print\n",
    "\n",
    "x.shape = (5,4)\n",
    "print x\n",
    "print"
   ]
  },
  {
   "cell_type": "code",
   "execution_count": 5,
   "metadata": {
    "collapsed": false
   },
   "outputs": [
    {
     "name": "stdout",
     "output_type": "stream",
     "text": [
      "[[ 1.   1.2  3. ]\n",
      " [ 1.3  5.1  1.3]]\n",
      "\n",
      "[[ 1.  1.]\n",
      " [ 1.  1.]\n",
      " [ 1.  1.]]\n",
      "\n",
      "[[ 0.  0.]\n",
      " [ 0.  0.]\n",
      " [ 0.  0.]]\n",
      "\n",
      "[[ 1.  0.  0.]\n",
      " [ 0.  1.  0.]\n",
      " [ 0.  0.  1.]]\n",
      "\n",
      "[[ 1.2  0.   0.   0. ]\n",
      " [ 0.   3.2  0.   0. ]\n",
      " [ 0.   0.   4.1  0. ]\n",
      " [ 0.   0.   0.   6.3]]\n",
      "\n"
     ]
    }
   ],
   "source": [
    "x = np.array([[1, 1.2, 3],[1.3,5.1,1.3]])\n",
    "print x\n",
    "print\n",
    "\n",
    "x = np.ones((3,2))\n",
    "print x\n",
    "print\n",
    "\n",
    "x = np.zeros((3,2))\n",
    "print x\n",
    "print\n",
    "\n",
    "x = np.eye(3)\n",
    "print x\n",
    "print\n",
    "\n",
    "x = np.diag([1.2, 3.2, 4.1, 6.3])\n",
    "print x\n",
    "print"
   ]
  },
  {
   "cell_type": "markdown",
   "metadata": {},
   "source": [
    "### Indexação a várias dimensões"
   ]
  },
  {
   "cell_type": "code",
   "execution_count": 14,
   "metadata": {
    "collapsed": false
   },
   "outputs": [
    {
     "name": "stdout",
     "output_type": "stream",
     "text": [
      "[[  1.   2.   3.   4.]\n",
      " [  5.   6.   7.   8.]\n",
      " [  9.  10.  11.  12.]\n",
      " [ 13.  14.  15.  16.]\n",
      " [ 17.  18.  19.  20.]]\n",
      "\n",
      "14.0\n",
      "\n",
      "[ 13.  14.  15.  16.]\n",
      "\n",
      "[[ 1.  2.]\n",
      " [ 5.  6.]]\n"
     ]
    }
   ],
   "source": [
    "x = np.linspace(1,20,20).reshape((5,4))\n",
    "print x\n",
    "print\n",
    "print x[3,1]\n",
    "print\n",
    "print x[3, :]\n",
    "print\n",
    "print x[0:2, 0:2]"
   ]
  },
  {
   "cell_type": "markdown",
   "metadata": {},
   "source": [
    "### Indexação booleana"
   ]
  },
  {
   "cell_type": "code",
   "execution_count": 17,
   "metadata": {
    "collapsed": false
   },
   "outputs": [
    {
     "name": "stdout",
     "output_type": "stream",
     "text": [
      "[False False False False False False False  True  True  True  True  True\n",
      "  True  True  True  True  True  True  True  True]\n",
      "\n",
      "[  8.   9.  10.  11.  12.  13.  14.  15.  16.  17.  18.  19.  20.]\n"
     ]
    }
   ],
   "source": [
    "x = np.linspace(1,20,20)\n",
    "print x > 7\n",
    "print\n",
    "print x[x > 7]"
   ]
  },
  {
   "cell_type": "markdown",
   "metadata": {},
   "source": [
    "### Indexação com listas de inteiros ou _arrays_"
   ]
  },
  {
   "cell_type": "code",
   "execution_count": 24,
   "metadata": {
    "collapsed": false
   },
   "outputs": [
    {
     "name": "stdout",
     "output_type": "stream",
     "text": [
      "[  5.   6.   7.   8.   9.  10.  11.  12.  13.  14.  15.]\n",
      "\n",
      "[  6.   9.  10.  11.  13.]\n"
     ]
    }
   ],
   "source": [
    "x = np.linspace(5,15,11)\n",
    "print x\n",
    "print\n",
    "\n",
    "i = [1,4,5,6,8]\n",
    "print x[i]"
   ]
  },
  {
   "cell_type": "markdown",
   "metadata": {},
   "source": [
    "### Exemplos de funções do módulo"
   ]
  },
  {
   "cell_type": "code",
   "execution_count": 6,
   "metadata": {
    "collapsed": false
   },
   "outputs": [
    {
     "name": "stdout",
     "output_type": "stream",
     "text": [
      "\n",
      "raízes de x**3 + 2 x**2 + x + 1\n",
      "[-1.75487767+0.j         -0.12256117+0.74486177j -0.12256117-0.74486177j]\n",
      "\n",
      "valores aleatórios da distribuição de poisson\n",
      "[5 4 0 4 2 6 3 2 2 3 4 3 5 3 6 0 5 6 5 1]\n",
      "\n",
      "valores aleatórios da distribuição N(0,1)\n",
      "[-0.52529147  0.31741362  0.20705439 -1.28181828 -0.82659279]\n"
     ]
    }
   ],
   "source": [
    "x = np.roots ([1.0,2.0,1.0,1.0])\n",
    "print\n",
    "print 'raízes de x**3 + 2 x**2 + x + 1'\n",
    "print x\n",
    "print '\\nvalores aleatórios da distribuição de Poisson'\n",
    "print np.random.poisson(3, 20)\n",
    "print '\\nvalores aleatórios da distribuição N(0,1)'\n",
    "print np.random.randn(5)"
   ]
  },
  {
   "cell_type": "markdown",
   "metadata": {},
   "source": [
    "### Matrizes e álgebra linear"
   ]
  },
  {
   "cell_type": "code",
   "execution_count": 37,
   "metadata": {
    "collapsed": false
   },
   "outputs": [
    {
     "name": "stdout",
     "output_type": "stream",
     "text": [
      "A\n",
      "[[1 2 3]\n",
      " [2 1 6]\n",
      " [1 7 4]]\n",
      "\n",
      "B\n",
      "[[1 2 3]]\n",
      "\n",
      "B.T\n",
      "[[1]\n",
      " [2]\n",
      " [3]]\n",
      "\n",
      "C = A * B.T\n",
      "[[14]\n",
      " [22]\n",
      " [27]]\n"
     ]
    }
   ],
   "source": [
    "A = np.matrix ([[1, 2, 3], [2, 1, 6], [1, 7, 4]])\n",
    "\n",
    "print 'A'\n",
    "print A\n",
    "print\n",
    "\n",
    "B = np.matrix ([1,2,3])\n",
    "print 'B'\n",
    "print B\n",
    "print\n",
    "\n",
    "BT = B.T \n",
    "print 'B.T'\n",
    "print BT\n",
    "print\n",
    "\n",
    "C = A * B.T\n",
    "print 'C = A * B.T'\n",
    "print C"
   ]
  },
  {
   "cell_type": "code",
   "execution_count": 36,
   "metadata": {
    "collapsed": false
   },
   "outputs": [
    {
     "name": "stdout",
     "output_type": "stream",
     "text": [
      "A\n",
      "[[ 1.  2.  3.]\n",
      " [ 2.  1.  6.]\n",
      " [ 1.  7.  4.]]\n",
      "\n",
      "B\n",
      "[[1]\n",
      " [2]\n",
      " [3]]\n",
      "\n",
      "X (solução de A*X = B)\n",
      "[[-5.]\n",
      " [ 0.]\n",
      " [ 2.]]\n"
     ]
    }
   ],
   "source": [
    "A = np.matrix ([[1.0, 2, 3], [2, 1, 6], [1, 7, 4]])\n",
    "print 'A'\n",
    "print A\n",
    "print\n",
    "\n",
    "B = np.matrix ([1,2,3]).T\n",
    "print 'B'\n",
    "print B\n",
    "print\n",
    "\n",
    "X = np.linalg.solve(A, B)\n",
    "print 'X (solução de A*X = B)'\n",
    "print X"
   ]
  },
  {
   "cell_type": "code",
   "execution_count": 40,
   "metadata": {
    "collapsed": false
   },
   "outputs": [
    {
     "name": "stdout",
     "output_type": "stream",
     "text": [
      "A\n",
      "[[ 1.  2.  3.]\n",
      " [ 2.  1.  6.]\n",
      " [ 1.  7.  4.]]\n",
      "\n",
      "A**-1\n",
      "[[ 12.66666667  -4.33333333  -3.        ]\n",
      " [  0.66666667  -0.33333333   0.        ]\n",
      " [ -4.33333333   1.66666667   1.        ]]\n",
      "\n",
      "A * A**-1\n",
      "[[ 1.  0.  0.]\n",
      " [ 0.  1.  0.]\n",
      " [ 0.  0.  1.]]\n",
      "\n",
      "det(A) =  -3.0\n"
     ]
    }
   ],
   "source": [
    "A = np.matrix ([[1.0, 2, 3], [2, 1, 6], [1, 7, 4]])\n",
    "print 'A'\n",
    "print A\n",
    "print\n",
    "\n",
    "AINV = np.linalg.inv(A)\n",
    "print 'A**-1'\n",
    "print AINV\n",
    "print\n",
    "\n",
    "X = A * AINV\n",
    "print 'A * A**-1'\n",
    "print X\n",
    "print\n",
    "\n",
    "d = np.linalg.det(A)\n",
    "print 'det(A) = ', d"
   ]
  },
  {
   "cell_type": "markdown",
   "metadata": {},
   "source": [
    "### Exemplos de operações vectoriais"
   ]
  },
  {
   "cell_type": "code",
   "execution_count": 2,
   "metadata": {
    "collapsed": false
   },
   "outputs": [
    {
     "name": "stdout",
     "output_type": "stream",
     "text": [
      "2470\n"
     ]
    }
   ],
   "source": [
    "#somar os primeiros 20 quadrados perfeitos\n",
    "print sum(np.arange(20)**2)"
   ]
  },
  {
   "cell_type": "code",
   "execution_count": 3,
   "metadata": {
    "collapsed": false
   },
   "outputs": [
    {
     "name": "stdout",
     "output_type": "stream",
     "text": [
      "55.0\n"
     ]
    }
   ],
   "source": [
    "## #somar as raízes quadradas que são numeros inteiros at 100\n",
    "roots = np.arange(0,101)**0.5\n",
    "print sum(roots[np.trunc(roots) == roots])"
   ]
  },
  {
   "cell_type": "code",
   "execution_count": 4,
   "metadata": {
    "collapsed": false
   },
   "outputs": [
    {
     "name": "stdout",
     "output_type": "stream",
     "text": [
      "[ 1  3  5  7  9 11 13 15 17 19 21 23 25 27 29 31 33 35 37]\n"
     ]
    }
   ],
   "source": [
    "#mostrar que as diferenças entre os quadrados perfeitos sucessivos são os numeros ímpares\n",
    "quads = np.arange(20)**2\n",
    "difs = quads[1:] - quads[0:-1]\n",
    "print difs"
   ]
  },
  {
   "cell_type": "code",
   "execution_count": 6,
   "metadata": {
    "collapsed": false
   },
   "outputs": [
    {
     "name": "stdout",
     "output_type": "stream",
     "text": [
      "[ -5.00009693e-07   5.00009307e-07  -5.00008693e-07   5.00008307e-07\n",
      "  -5.00007693e-07   5.00007307e-07  -5.00006693e-07   5.00006307e-07\n",
      "  -5.00005693e-07   5.00005307e-07  -5.00004693e-07   5.00004307e-07\n",
      "  -5.00003693e-07   5.00003307e-07  -5.00002693e-07   5.00002307e-07\n",
      "  -5.00001693e-07   5.00001307e-07  -5.00000693e-07   5.00000307e-07]\n"
     ]
    }
   ],
   "source": [
    "# mostrar que a série alternada dos inversos converge para log 2\n",
    "i = np.arange(1,1000000)\n",
    "difs =  np.add.accumulate((-1)**(i+1) * 1.0/i) - np.log(2)\n",
    "print difs[-20:]"
   ]
  },
  {
   "cell_type": "markdown",
   "metadata": {},
   "source": [
    "## `sympy`"
   ]
  },
  {
   "cell_type": "markdown",
   "metadata": {},
   "source": [
    "### Símbolos e álgebra básica"
   ]
  },
  {
   "cell_type": "code",
   "execution_count": 1,
   "metadata": {
    "collapsed": false
   },
   "outputs": [
    {
     "name": "stdout",
     "output_type": "stream",
     "text": [
      "2**x + x**2 - 3\n",
      "\n",
      "2*x\n"
     ]
    }
   ],
   "source": [
    "from sympy import Symbol\n",
    "\n",
    "x = Symbol('x')\n",
    "y = Symbol('y')\n",
    "\n",
    "expr = 2**x + x**2 -3\n",
    "\n",
    "print expr\n",
    "print\n",
    "print x+y+x-y"
   ]
  },
  {
   "cell_type": "code",
   "execution_count": 2,
   "metadata": {
    "collapsed": false
   },
   "outputs": [
    {
     "name": "stdout",
     "output_type": "stream",
     "text": [
      "(x + y)**2\n",
      "x**2 + 2*x*y + y**2\n",
      "\n",
      "y**2 + 2*y + 1\n",
      "4\n"
     ]
    }
   ],
   "source": [
    "a = (x+y)**2\n",
    "print a\n",
    "print a.expand()\n",
    "print\n",
    "print a.subs(x, 1).expand()\n",
    "print a.subs(x, 1).expand().subs(y, 1)"
   ]
  },
  {
   "cell_type": "markdown",
   "metadata": {},
   "source": [
    "### Limites"
   ]
  },
  {
   "cell_type": "code",
   "execution_count": 5,
   "metadata": {
    "collapsed": false
   },
   "outputs": [
    {
     "name": "stdout",
     "output_type": "stream",
     "text": [
      "2**x + x**2 - 3\n",
      "1\n",
      "oo\n",
      "0\n"
     ]
    }
   ],
   "source": [
    "from sympy import Symbol, limit, diff, integrate, sin, oo\n",
    "\n",
    "x = Symbol('x')\n",
    "y = Symbol('y')\n",
    "\n",
    "expr = 2**x + x**2 -3\n",
    "\n",
    "print expr\n",
    "\n",
    "print limit(sin(x)/x, x, 0)\n",
    "print limit(x, x, oo)\n",
    "print limit(1/x, x, oo)"
   ]
  },
  {
   "cell_type": "markdown",
   "metadata": {},
   "source": [
    "### Derivadas e integrais"
   ]
  },
  {
   "cell_type": "code",
   "execution_count": 6,
   "metadata": {
    "collapsed": false
   },
   "outputs": [
    {
     "name": "stdout",
     "output_type": "stream",
     "text": [
      "cos(x)\n",
      "2*cos(2*x)\n",
      "2**x*log(2) + 2*x\n",
      "2**x*log(2)**3\n",
      "-------------------------------\n",
      "-cos(x)\n"
     ]
    }
   ],
   "source": [
    "print diff(sin(x), x)\n",
    "print diff(sin(2*x), x)\n",
    "print diff(expr, x)\n",
    "print diff(expr, x, 3)\n",
    "print '-------------------------------'\n",
    "print integrate(sin(x), x)"
   ]
  },
  {
   "cell_type": "code",
   "execution_count": 53,
   "metadata": {
    "collapsed": false
   },
   "outputs": [
    {
     "name": "stdout",
     "output_type": "stream",
     "text": [
      "M\n",
      "Matrix([[1, x], [y, 1]])\n",
      "\n",
      "M\n",
      "⎡1  x⎤\n",
      "⎢    ⎥\n",
      "⎣y  1⎦\n",
      "\n",
      "------------------------\n",
      "MINV\n",
      "Matrix([[x*y/(-x*y + 1) + 1, -x/(-x*y + 1)], [-y/(-x*y + 1), 1/(-x*y + 1)]])\n",
      "\n",
      "MINV\n",
      "⎡  x⋅y           -x    ⎤\n",
      "⎢──────── + 1  ────────⎥\n",
      "⎢-x⋅y + 1      -x⋅y + 1⎥\n",
      "⎢                      ⎥\n",
      "⎢    -y           1    ⎥\n",
      "⎢  ────────    ────────⎥\n",
      "⎣  -x⋅y + 1    -x⋅y + 1⎦\n",
      "\n",
      "------------------------\n",
      "M.det = -x*y + 1\n"
     ]
    }
   ],
   "source": [
    "from sympy import Symbol, Matrix, pprint\n",
    "\n",
    "x = Symbol('x')\n",
    "y = Symbol('y')\n",
    "\n",
    "M = Matrix([[1,x], [y,1]])\n",
    "print 'M'\n",
    "print M\n",
    "print\n",
    "print 'M'\n",
    "pprint(M)\n",
    "print '\\n------------------------'\n",
    "\n",
    "MINV = M.inv()\n",
    "print 'MINV'\n",
    "print MINV\n",
    "print\n",
    "print 'MINV'\n",
    "pprint(MINV)\n",
    "\n",
    "print '\\n------------------------'\n",
    "d = M.det()\n",
    "print 'M.det =', d"
   ]
  }
 ],
 "metadata": {
  "kernelspec": {
   "display_name": "Python 2",
   "language": "python",
   "name": "python2"
  },
  "language_info": {
   "codemirror_mode": {
    "name": "ipython",
    "version": 2
   },
   "file_extension": ".py",
   "mimetype": "text/x-python",
   "name": "python",
   "nbconvert_exporter": "python",
   "pygments_lexer": "ipython2",
   "version": "2.7.6"
  }
 },
 "nbformat": 4,
 "nbformat_minor": 0
}
