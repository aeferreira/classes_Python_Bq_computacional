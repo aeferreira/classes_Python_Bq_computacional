{
 "cells": [
  {
   "cell_type": "code",
   "execution_count": null,
   "metadata": {
    "collapsed": true
   },
   "outputs": [],
   "source": [
    "%matplotlib inline"
   ]
  },
  {
   "cell_type": "code",
   "execution_count": null,
   "metadata": {
    "collapsed": false
   },
   "outputs": [],
   "source": [
    "from matplotlib import pyplot as pl\n",
    "from numpy import linspace\n",
    "\n",
    "def f(x):\n",
    "    return x**3 + 2*x**2 -1\n",
    "\n",
    "def df(x):\n",
    "    return 3*x**2 + 4*x\n",
    "\n",
    "x = linspace(0, 2, 500)\n",
    "y = f(x)\n",
    "\n",
    "pl.plot(x, y, color='firebrick', linewidth=2)\n",
    "pl.plot([0,2], [0,0], 'k-')\n",
    "pl.ylim(-4,10)\n",
    "\n",
    "x1 = 1.5\n",
    "f1 = f(x1)\n",
    "\n",
    "x2 = x1 - f(x1) / df(x1)\n",
    "f2 = 0\n",
    "\n",
    "pl.plot([x1, x1, x2], [0, f1, 0], '-')\n",
    "pl.plot([x1, x1, x2], [0, f1, 0], 'o')\n",
    "pl.text(x1-0.03, -1.0, '$x_1$', fontsize=16)\n",
    "pl.text(x2-0.03, -1.0, '$x_2$', fontsize=16)\n",
    "t = pl.text(x2-0.2, -2.5, r\"$x_2 = x_1 - f(x_1) / f ' (x_1)$\", fontsize=16)"
   ]
  },
  {
   "cell_type": "markdown",
   "metadata": {},
   "source": [
    "$x_2 = x_1 - f(x_1) / f\\,' (x_1)$"
   ]
  }
 ],
 "metadata": {
  "kernelspec": {
   "display_name": "Python [default]",
   "language": "python",
   "name": "python3"
  },
  "language_info": {
   "codemirror_mode": {
    "name": "ipython",
    "version": 3
   },
   "file_extension": ".py",
   "mimetype": "text/x-python",
   "name": "python",
   "nbconvert_exporter": "python",
   "pygments_lexer": "ipython3",
   "version": "3.5.2"
  }
 },
 "nbformat": 4,
 "nbformat_minor": 0
}
