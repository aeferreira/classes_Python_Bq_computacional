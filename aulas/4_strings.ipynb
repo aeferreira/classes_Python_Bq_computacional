{
 "cells": [
  {
   "cell_type": "markdown",
   "metadata": {
    "slideshow": {
     "slide_type": "slide"
    }
   },
   "source": [
    "# _Strings_"
   ]
  },
  {
   "cell_type": "markdown",
   "metadata": {
    "slideshow": {
     "slide_type": "slide"
    }
   },
   "source": [
    "## Definição literal, iteração e indexação"
   ]
  },
  {
   "cell_type": "markdown",
   "metadata": {},
   "source": [
    "As _strings_ são um dos tipos de objetos mais usados na linguagem Python. É comum um programa lidar com texto, seja porque o objetivo do programa é precisamente o processamento de informação na forma textual, seja simplesmente para que os resultados de um programa sejam apresentados com pequenos textos destinados a descrever esses resultados."
   ]
  },
  {
   "cell_type": "markdown",
   "metadata": {},
   "source": [
    "Como vimos anteriormente, uma _string_ é uma coleção de caracteres.\n",
    "\n",
    "Uma maneira de criarmos _strings_ num programa é defini-las literalmente, como um **texto entre aspas**."
   ]
  },
  {
   "cell_type": "markdown",
   "metadata": {
    "slideshow": {
     "slide_type": "slide"
    }
   },
   "source": [
    "Na definição literal de _strings_ **podemos usar 3 tipos diferentes de aspas**: `\"`, `'` ou `\"\"\"`.\n",
    "\n",
    "As _aspas triplas_ permitem definir literalmente uma _string_ com várias linhas."
   ]
  },
  {
   "cell_type": "code",
   "execution_count": 1,
   "metadata": {
    "collapsed": false
   },
   "outputs": [],
   "source": [
    "a = \"O Neo tomou o comprimido vermelho\"\n",
    "\n",
    "b ='What is the matrix?'\n",
    "\n",
    "c =\"There's no spoon\"\n",
    "\n",
    "d = \"\"\" Um pequeno texto que até\n",
    "ocupa várias linhas\n",
    "\n",
    "algumas das linhas estão em branco\"\"\""
   ]
  },
  {
   "cell_type": "markdown",
   "metadata": {
    "slideshow": {
     "slide_type": "slide"
    }
   },
   "source": [
    "### \"Concatenação\" de strings com o operador `+`."
   ]
  },
  {
   "cell_type": "markdown",
   "metadata": {
    "slideshow": {
     "slide_type": "skip"
    }
   },
   "source": [
    "O operador `+` serve para \"juntar\" várias _strings_, uma operação designada por _concatenação_."
   ]
  },
  {
   "cell_type": "code",
   "execution_count": 2,
   "metadata": {
    "collapsed": false
   },
   "outputs": [
    {
     "name": "stdout",
     "output_type": "stream",
     "text": [
      "c =  There's no spoon\n",
      "c =  There's no spoon, really, none.\n"
     ]
    }
   ],
   "source": [
    "c = \"There's no spoon\"\n",
    "print('c = ', c)\n",
    "\n",
    "c = c + ', really, ' + 'none' + '.'\n",
    "\n",
    "print('c = ', c)"
   ]
  },
  {
   "cell_type": "markdown",
   "metadata": {
    "slideshow": {
     "slide_type": "slide"
    }
   },
   "source": [
    "As strings têm muitas funções\n",
    "em comum com as listas:\n",
    "\n",
    "- `len()`, `count()`, `in`, `not in`\n",
    "- Indexação: `a[i]`\n",
    "- Iteração: `for i in a:`\n",
    "\n",
    "Isto acontece porque as _strings_ se comportam como uma **sequência de caracteres**, tal como uma lista é uma sequência de quaisquer objetos."
   ]
  },
  {
   "cell_type": "markdown",
   "metadata": {
    "slideshow": {
     "slide_type": "slide"
    }
   },
   "source": [
    "### Funções `len()`, `.count()`, operador `in`."
   ]
  },
  {
   "cell_type": "code",
   "execution_count": 3,
   "metadata": {
    "collapsed": false
   },
   "outputs": [
    {
     "name": "stdout",
     "output_type": "stream",
     "text": [
      "c =  There's no spoon\n",
      "len(c) = 16\n",
      "c.count(\"s\") =  2\n",
      "False\n",
      "True\n",
      "True\n"
     ]
    }
   ],
   "source": [
    "c = \"There's no spoon\"\n",
    "print('c = ', c)\n",
    "print('len(c) =', len(c))\n",
    "\n",
    "print('c.count(\"s\") = ', c.count('s'))\n",
    "\n",
    "print('z' in c)\n",
    "print('r' in c)\n",
    "print('ere' in c)"
   ]
  },
  {
   "cell_type": "markdown",
   "metadata": {
    "slideshow": {
     "slide_type": "slide"
    }
   },
   "source": [
    "### Iteração e indexação."
   ]
  },
  {
   "cell_type": "code",
   "execution_count": 4,
   "metadata": {
    "collapsed": false,
    "slideshow": {
     "slide_type": "slide"
    }
   },
   "outputs": [
    {
     "name": "stdout",
     "output_type": "stream",
     "text": [
      "0 T\n",
      "1 h\n",
      "2 e\n",
      "3 r\n",
      "4 e\n",
      "5 '\n",
      "6 s\n",
      "7  \n",
      "8 n\n",
      "9 o\n",
      "10  \n",
      "11 s\n",
      "12 p\n",
      "13 o\n",
      "14 o\n",
      "15 n\n"
     ]
    }
   ],
   "source": [
    "frase = \"There's no spoon\"\n",
    "\n",
    "for i, c in enumerate(frase):\n",
    "    print(i, c)"
   ]
  },
  {
   "cell_type": "code",
   "execution_count": 5,
   "metadata": {
    "collapsed": false,
    "slideshow": {
     "slide_type": "slide"
    }
   },
   "outputs": [
    {
     "name": "stdout",
     "output_type": "stream",
     "text": [
      "-1 n\n",
      "-2 o\n",
      "-3 o\n",
      "-4 p\n",
      "-5 s\n",
      "-6  \n",
      "-7 o\n",
      "-8 n\n",
      "-9  \n",
      "-10 s\n",
      "-11 '\n",
      "-12 e\n",
      "-13 r\n",
      "-14 e\n",
      "-15 h\n",
      "-16 T\n"
     ]
    }
   ],
   "source": [
    "frase = \"There's no spoon\"\n",
    "\n",
    "for i in range(-1, -len(frase)-1, -1):\n",
    "    print(i, frase[i])"
   ]
  },
  {
   "cell_type": "markdown",
   "metadata": {
    "slideshow": {
     "slide_type": "slide"
    }
   },
   "source": [
    "## Funções associadas a _strings_"
   ]
  },
  {
   "cell_type": "markdown",
   "metadata": {
    "slideshow": {
     "slide_type": "slide"
    }
   },
   "source": [
    "Existem muitas funções associadas a _strings_\n",
    "\n",
    "Consultar a documentação oficial em [docs.python.org](https://docs.python.org/3/library/stdtypes.html#string-methods)\n",
    "\n",
    "![](images/docspython_strmethods.png)\n",
    "\n",
    "**São cerca de 40!**"
   ]
  },
  {
   "cell_type": "markdown",
   "metadata": {
    "slideshow": {
     "slide_type": "slide"
    }
   },
   "source": [
    "## Imutabilidade"
   ]
  },
  {
   "cell_type": "markdown",
   "metadata": {},
   "source": [
    "As _strings_ são **imutáveis**.\n",
    "\n",
    "Isto significa que (ao contrário das listas e dicionários) **não existem funções para modificar uma** _string_.\n",
    "\n",
    "**Não existe**, por exemplo, `s.append('a')`.\n",
    "\n",
    "**Todas as operações com** _strings_ **resultam numa** _string_ **nova**, à qual é, geralmente, atribuído um nome (mesmo que seja o mesmo nome da _string_ original)\n",
    "\n",
    "Podemos, por isso, usar `s = s + 'a'`"
   ]
  },
  {
   "cell_type": "markdown",
   "metadata": {
    "slideshow": {
     "slide_type": "slide"
    }
   },
   "source": [
    "## Algumas funções úteis"
   ]
  },
  {
   "cell_type": "markdown",
   "metadata": {},
   "source": [
    "### Funções `.strip()`, `.startswith()`."
   ]
  },
  {
   "cell_type": "code",
   "execution_count": 6,
   "metadata": {
    "collapsed": false,
    "slideshow": {
     "slide_type": "slide"
    }
   },
   "outputs": [
    {
     "name": "stdout",
     "output_type": "stream",
     "text": [
      "c:\n",
      "    There's no spoon      \n",
      "c.strip():\n",
      "There's no spoon\n"
     ]
    }
   ],
   "source": [
    "c = \"    There's no spoon      \"\n",
    "print('c:')\n",
    "print(c)\n",
    "\n",
    "s = c.strip()\n",
    "print('c.strip():')\n",
    "print(s)"
   ]
  },
  {
   "cell_type": "code",
   "execution_count": 7,
   "metadata": {
    "collapsed": false,
    "slideshow": {
     "slide_type": "slide"
    }
   },
   "outputs": [
    {
     "name": "stdout",
     "output_type": "stream",
     "text": [
      "Começa por Th\n"
     ]
    }
   ],
   "source": [
    "c = \"    There's no spoon      \"\n",
    "\n",
    "if s.strip().startswith('Th'):\n",
    "    print('Começa por Th')"
   ]
  },
  {
   "cell_type": "markdown",
   "metadata": {},
   "source": [
    "### Funções  `.upper()`, `.lower()`."
   ]
  },
  {
   "cell_type": "code",
   "execution_count": 8,
   "metadata": {
    "collapsed": false,
    "slideshow": {
     "slide_type": "slide"
    }
   },
   "outputs": [
    {
     "name": "stdout",
     "output_type": "stream",
     "text": [
      "c.upper():     THERE'S NO SPOON      \n",
      "c.lower():     there's no spoon      \n"
     ]
    }
   ],
   "source": [
    "c = \"    There's no spoon      \"\n",
    "\n",
    "c_upper = c.upper()\n",
    "print('c.upper():',c_upper)\n",
    "\n",
    "c_lower = c.lower()\n",
    "print('c.lower():',c_lower)"
   ]
  },
  {
   "cell_type": "markdown",
   "metadata": {
    "slideshow": {
     "slide_type": "slide"
    }
   },
   "source": [
    "### Função  `.replace()`."
   ]
  },
  {
   "cell_type": "code",
   "execution_count": 9,
   "metadata": {
    "collapsed": false,
    "slideshow": {
     "slide_type": "-"
    }
   },
   "outputs": [
    {
     "name": "stdout",
     "output_type": "stream",
     "text": [
      "pois\n",
      "dois\n"
     ]
    }
   ],
   "source": [
    "palavra = 'pois'\n",
    "print(palavra)\n",
    "\n",
    "palavra = palavra.replace('p', 'd')\n",
    "print(palavra)"
   ]
  },
  {
   "cell_type": "markdown",
   "metadata": {
    "slideshow": {
     "slide_type": "slide"
    }
   },
   "source": [
    "## Funções `.split()` e `.join()`"
   ]
  },
  {
   "cell_type": "code",
   "execution_count": 10,
   "metadata": {
    "collapsed": false,
    "slideshow": {
     "slide_type": "slide"
    }
   },
   "outputs": [
    {
     "name": "stdout",
     "output_type": "stream",
     "text": [
      "[\"There's\", 'no', 'spoon']\n",
      "['Th', 'r', \"'s no spoon\"]\n",
      "['There', 's no spoon']\n"
     ]
    }
   ],
   "source": [
    "a = \"There's no spoon\"\n",
    "\n",
    "b = a.split()\n",
    "c = a.split('e')\n",
    "d = a.split(\"'\")\n",
    "\n",
    "print(b)\n",
    "print(c)\n",
    "print(d)"
   ]
  },
  {
   "cell_type": "markdown",
   "metadata": {
    "slideshow": {
     "slide_type": "skip"
    }
   },
   "source": [
    "A função `.split()` **gera uma lista de partes**, encontrando um separador numa _string_.\n",
    "\n",
    "O separador a encontrar é o argumento da função. \n",
    "\n",
    "Se não se usar um argumento, considera-se que as partes são separadas por espaços, tabs ou mudanças de linha (no inglês genericamente designados por _white space_)"
   ]
  },
  {
   "cell_type": "markdown",
   "metadata": {
    "slideshow": {
     "slide_type": "skip"
    }
   },
   "source": [
    "A função `.join()` é uma espécie de inversa de `.split()`: transforma **uma lista** de _strings_ **numa única** _string_, interpondo um separador:"
   ]
  },
  {
   "cell_type": "code",
   "execution_count": 11,
   "metadata": {
    "collapsed": false,
    "slideshow": {
     "slide_type": "slide"
    }
   },
   "outputs": [
    {
     "name": "stdout",
     "output_type": "stream",
     "text": [
      "Arg Tyr Gly Asp\n",
      "Arg-Tyr-Gly-Asp\n",
      "ArgTyrGlyAsp\n",
      "Arg+Tyr+Gly+Asp\n",
      "Arg-CONH-Tyr-CONH-Gly-CONH-Asp\n"
     ]
    }
   ],
   "source": [
    "aas = ['Arg', 'Tyr', 'Gly', 'Asp']\n",
    "\n",
    "print(\" \".join(aas))\n",
    "print(\"-\".join(aas))\n",
    "print(\"\".join(aas))\n",
    "print(\"+\".join(aas))\n",
    "print(\"-CONH-\".join(aas))"
   ]
  },
  {
   "cell_type": "markdown",
   "metadata": {
    "slideshow": {
     "slide_type": "slide"
    }
   },
   "source": [
    "**Problema: transformar** `AUGUUCAAGGAGUAAUGCCCCCGACUA` **em** `AUG-UUC-AAG-GAG-UAA-UGC-CCC-CGA-CUA`"
   ]
  },
  {
   "cell_type": "code",
   "execution_count": 12,
   "metadata": {
    "collapsed": false,
    "slideshow": {
     "slide_type": "slide"
    }
   },
   "outputs": [
    {
     "name": "stdout",
     "output_type": "stream",
     "text": [
      "AUGUUCAAGGAGUAAUGCCCCCGACUA\n",
      "['AUG', 'UUC', 'AAG', 'GAG', 'UAA', 'UGC', 'CCC', 'CGA', 'CUA']\n",
      "AUG-UUC-AAG-GAG-UAA-UGC-CCC-CGA-CUA\n"
     ]
    }
   ],
   "source": [
    "s = \"AUGUUCAAGGAGUAAUGCCCCCGACUA\"\n",
    "print(s)\n",
    "\n",
    "codoes = []\n",
    "for i in range(0, len(s), 3):\n",
    "    # i é o início de cada codão (c)\n",
    "    c = s[i] + s[i+1] + s[i+2]\n",
    "    codoes.append(c)\n",
    "\n",
    "print(codoes)\n",
    "\n",
    "final = \"-\".join(codoes)\n",
    "print(final)"
   ]
  },
  {
   "cell_type": "markdown",
   "metadata": {
    "slideshow": {
     "slide_type": "slide"
    }
   },
   "source": [
    "Tem de haver uma maneira mais sucinta de de juntar vários caracteres consecutivos!"
   ]
  },
  {
   "cell_type": "markdown",
   "metadata": {
    "slideshow": {
     "slide_type": "slide"
    }
   },
   "source": [
    "## Função `.splitlines()`"
   ]
  },
  {
   "cell_type": "code",
   "execution_count": 13,
   "metadata": {
    "collapsed": false
   },
   "outputs": [
    {
     "name": "stdout",
     "output_type": "stream",
     "text": [
      "[' Um pequeno texto que até', 'ocupa várias linhas', '', 'algumas das linhas estão em branco']\n"
     ]
    }
   ],
   "source": [
    "d = \"\"\" Um pequeno texto que até\n",
    "ocupa várias linhas\n",
    "\n",
    "algumas das linhas estão em branco\"\"\"\n",
    "\n",
    "print(d.splitlines())"
   ]
  },
  {
   "cell_type": "markdown",
   "metadata": {
    "slideshow": {
     "slide_type": "slide"
    }
   },
   "source": [
    "A função `.splitlines()` é praticamente equivalente a `.split('\\n')`."
   ]
  },
  {
   "cell_type": "markdown",
   "metadata": {
    "slideshow": {
     "slide_type": "skip"
    }
   },
   "source": [
    "É muito interessante o facto de podermos usar funções de _strings_ em conjunção com listas em compreensão:"
   ]
  },
  {
   "cell_type": "markdown",
   "metadata": {
    "slideshow": {
     "slide_type": "slide"
    }
   },
   "source": [
    "**Problema: num texto com várias linhas, obter numa lista as linhas que começam por uma vogal e têm menos de 20 caracteres**"
   ]
  },
  {
   "cell_type": "code",
   "execution_count": 14,
   "metadata": {
    "collapsed": false,
    "slideshow": {
     "slide_type": "slide"
    }
   },
   "outputs": [
    {
     "name": "stdout",
     "output_type": "stream",
     "text": [
      "['', 'Um pequeno texto que até', 'ocupa várias', 'linhas', '', 'mas haverá', 'Algumas em branco']\n",
      "['ocupa várias', 'linhas', 'mas haverá', 'Algumas em branco']\n",
      "['ocupa várias', 'Algumas em branco']\n"
     ]
    }
   ],
   "source": [
    "txt = \"\"\" \n",
    " Um pequeno texto que até\n",
    "ocupa várias\n",
    "linhas\n",
    "\n",
    "mas haverá\n",
    "Algumas em branco\"\"\"\n",
    "\n",
    "a = [s.strip() for s in txt.splitlines()]\n",
    "print(a)\n",
    "a = [s for s in a if 0 < len(s) < 20]\n",
    "print(a)\n",
    "a = [s for s in a if s[0].lower() in 'aeiou']\n",
    "print(a)"
   ]
  },
  {
   "cell_type": "markdown",
   "metadata": {
    "slideshow": {
     "slide_type": "slide"
    }
   },
   "source": [
    "## \"Slices\" (em português: \"fatias\")"
   ]
  },
  {
   "cell_type": "markdown",
   "metadata": {
    "slideshow": {
     "slide_type": "slide"
    }
   },
   "source": [
    "Já vimos que podemos indexar listas e _strings_, usando [] e a posição do elemento.\n",
    "\n",
    "Os `[]` podem ser usados para um outro tipo de indexação de listas ou _strings_: os **slices**.\n",
    "\n",
    "Os _slices_ extraem uma parte de uma lista ou _string_ que podem ter mais de um elemento.\n",
    "\n",
    "A forma geral é `[início : fim(exclusivé) : passo]`. O `passo` é opcional."
   ]
  },
  {
   "cell_type": "code",
   "execution_count": 15,
   "metadata": {
    "collapsed": false,
    "slideshow": {
     "slide_type": "slide"
    }
   },
   "outputs": [
    {
     "name": "stdout",
     "output_type": "stream",
     "text": [
      "Neo\n",
      "O Neo\n",
      "tomou o comprimido vermelh\n"
     ]
    }
   ],
   "source": [
    "a = \"O Neo tomou o comprimido vermelho\"\n",
    "#    012345678901234567890123456789012\n",
    "\n",
    "print(a[2:5])\n",
    "print(a[0:5])\n",
    "print(a[6:-1])"
   ]
  },
  {
   "cell_type": "code",
   "execution_count": 16,
   "metadata": {
    "collapsed": false,
    "slideshow": {
     "slide_type": "slide"
    }
   },
   "outputs": [
    {
     "name": "stdout",
     "output_type": "stream",
     "text": [
      "O Neo\n",
      "tomou o comprimido vermelho\n",
      "O Neo tomou o comprimido vermelho\n",
      "ONotmu\n"
     ]
    }
   ],
   "source": [
    "a = \"O Neo tomou o comprimido vermelho\"\n",
    "#    012345678901234567890123456789012\n",
    "\n",
    "print(a[ :5])\n",
    "print(a[6: ])\n",
    "print(a[ : ])\n",
    "print(a[0:12:2])"
   ]
  },
  {
   "cell_type": "markdown",
   "metadata": {
    "slideshow": {
     "slide_type": "slide"
    }
   },
   "source": [
    "**Problema: transformar** `AUGUUCAAGGAGUAAUGCCCCCGACUA` **em** `AUG-UUC-AAG-GAG-UAA-UGC-CCC-CGA-CUA`"
   ]
  },
  {
   "cell_type": "code",
   "execution_count": 17,
   "metadata": {
    "collapsed": false,
    "slideshow": {
     "slide_type": "slide"
    }
   },
   "outputs": [
    {
     "name": "stdout",
     "output_type": "stream",
     "text": [
      "AUGUUCAAGGAGUAAUGCCCCCGACUA\n",
      "AUG-UUC-AAG-GAG-UAA-UGC-CCC-CGA-CUA\n"
     ]
    }
   ],
   "source": [
    "s = \"AUGUUCAAGGAGUAAUGCCCCCGACUA\"\n",
    "print(s)\n",
    "\n",
    "codoes = []\n",
    "for i in range(0, len(s), 3):\n",
    "    # i é o início de cada codão\n",
    "    # aqui usamos um slice\n",
    "    # em vez da soma de 3 posições consecutivas.\n",
    "    c = s[i:i+3]\n",
    "    codoes.append(c)\n",
    "\n",
    "final = \"-\".join(codoes)\n",
    "print(final)"
   ]
  },
  {
   "cell_type": "markdown",
   "metadata": {
    "slideshow": {
     "slide_type": "slide"
    }
   },
   "source": [
    "Usando uma lista em compreensão como argumento da função `.join()` o programa pode ficar mais compacto:"
   ]
  },
  {
   "cell_type": "code",
   "execution_count": 18,
   "metadata": {
    "collapsed": false
   },
   "outputs": [
    {
     "name": "stdout",
     "output_type": "stream",
     "text": [
      "AUGTTCAAGGAGUAAUGCCCCCGACUA\n",
      "AUG-TTC-AAG-GAG-UAA-UGC-CCC-CGA-CUA\n"
     ]
    }
   ],
   "source": [
    "s = \"AUGTTCAAGGAGUAAUGCCCCCGACUA\"\n",
    "sf = \"-\".join([s[i:i+3] for i in range(0,len(s),3)])\n",
    "\n",
    "print(s)\n",
    "print(sf)"
   ]
  },
  {
   "cell_type": "markdown",
   "metadata": {
    "slideshow": {
     "slide_type": "slide"
    }
   },
   "source": [
    "**Os** _slices_ **também funcionam com listas**"
   ]
  },
  {
   "cell_type": "code",
   "execution_count": 19,
   "metadata": {
    "collapsed": false
   },
   "outputs": [
    {
     "name": "stdout",
     "output_type": "stream",
     "text": [
      "['Arg', 'Tyr']\n",
      "['Gly', 'Asp']\n",
      "['Arg', 'Gly']\n"
     ]
    }
   ],
   "source": [
    "aas = ['Arg', 'Tyr', 'Gly', 'Asp']\n",
    "\n",
    "s1 = aas[ :2]\n",
    "s2 = aas[-2: ]\n",
    "s3 = aas[ : :2]\n",
    "\n",
    "print(s1)\n",
    "print(s2)\n",
    "print(s3)"
   ]
  },
  {
   "cell_type": "markdown",
   "metadata": {
    "slideshow": {
     "slide_type": "slide"
    }
   },
   "source": [
    "**Os** _slices_ **produzem sempre novos objetos**\n",
    "\n",
    "**No caso de uma lista**, podemos **atribuír valores a um** _slice_ **da lista**, mudando alguns elementos de uma só vez:"
   ]
  },
  {
   "cell_type": "code",
   "execution_count": 20,
   "metadata": {
    "collapsed": false
   },
   "outputs": [
    {
     "name": "stdout",
     "output_type": "stream",
     "text": [
      "[1, 2, 2, 3, 3, 3, 4, 4, 4, 4]\n",
      "[1, 2, 2, 8, 9, 3, 4, 4, 4, 4]\n"
     ]
    }
   ],
   "source": [
    "nums = [1, 2, 2, 3, 3, 3, 4, 4, 4, 4]\n",
    "print(nums)\n",
    "nums[3:5] = [8, 9]\n",
    "print(nums)"
   ]
  },
  {
   "cell_type": "markdown",
   "metadata": {
    "slideshow": {
     "slide_type": "slide"
    }
   },
   "source": [
    "**Problema: Converter uma sequência com códigos de uma letra de aminoácidos para códigos de 3 letras, usando um dicionário para a conversão.**"
   ]
  },
  {
   "cell_type": "markdown",
   "metadata": {
    "slideshow": {
     "slide_type": "slide"
    }
   },
   "source": [
    "Numa secção anterior, este problema foi resolvido anteriormente da seguinte forma:"
   ]
  },
  {
   "cell_type": "code",
   "execution_count": 21,
   "metadata": {
    "collapsed": false
   },
   "outputs": [
    {
     "name": "stdout",
     "output_type": "stream",
     "text": [
      "ADKLITCWFHHWE é o mesmo que  Ala-Asp-Lys-Leu-Ile-Thr-Cys-Trp-Phe-His-His-Trp-Glu-\n"
     ]
    }
   ],
   "source": [
    "trans = {'A': 'Ala', 'C': 'Cys', 'E': 'Glu', 'D': 'Asp', 'G': 'Gly', 'F': 'Phe', 'I': 'Ile', 'H': 'His', 'K': 'Lys', 'M': 'Met', 'L': 'Leu', 'N': 'Asn', 'Q': 'Gln', 'P': 'Pro', 'S': 'Ser', 'R': 'Arg', 'T': 'Thr', 'W': 'Trp', 'V': 'Val', 'Y': 'Tyr'}\n",
    "\n",
    "# Problema: transformar s1 numa string\n",
    "# com os códigos de 3 letras dos aa\n",
    "s1 = 'ADKLITCWFHHWE'\n",
    "\n",
    "s3 = ''\n",
    "for aa in s1:\n",
    "    s3 = s3 + trans[aa] + '-'\n",
    "\n",
    "print(s1, 'é o mesmo que ', s3)"
   ]
  },
  {
   "cell_type": "markdown",
   "metadata": {
    "slideshow": {
     "slide_type": "slide"
    }
   },
   "source": [
    "Podemos compactar o programa e melhorar o aspeto do resultado.\n",
    "\n",
    "Por um lado, podemos usar uma lista em compreensão para gerar os códigos de 3 letras (em vez de uma _string_), por outro podemos usar a função `.join()` para apresenta-los separados por `-`."
   ]
  },
  {
   "cell_type": "code",
   "execution_count": 22,
   "metadata": {
    "collapsed": false,
    "slideshow": {
     "slide_type": "slide"
    }
   },
   "outputs": [
    {
     "name": "stdout",
     "output_type": "stream",
     "text": [
      "ADKLITCWFHHWE é o mesmo que Ala-Asp-Lys-Leu-Ile-Thr-Cys-Trp-Phe-His-His-Trp-Glu\n"
     ]
    }
   ],
   "source": [
    "trans = {'A': 'Ala', 'C': 'Cys', 'E': 'Glu', 'D': 'Asp', 'G': 'Gly', 'F': 'Phe', 'I': 'Ile', 'H': 'His', 'K': 'Lys', 'M': 'Met', 'L': 'Leu', 'N': 'Asn', 'Q': 'Gln', 'P': 'Pro', 'S': 'Ser', 'R': 'Arg', 'T': 'Thr', 'W': 'Trp', 'V': 'Val', 'Y': 'Tyr'}\n",
    "\n",
    "s1 = 'ADKLITCWFHHWE'\n",
    "\n",
    "s3 = '-'.join([trans[aa] for aa in s1])\n",
    "\n",
    "print(s1, 'é o mesmo que', s3)"
   ]
  },
  {
   "cell_type": "markdown",
   "metadata": {
    "slideshow": {
     "slide_type": "slide"
    }
   },
   "source": [
    "**Problema: calcular o complemento reverso de uma sequência, mas separando os codões por \"-\".**"
   ]
  },
  {
   "cell_type": "code",
   "execution_count": 23,
   "metadata": {
    "collapsed": false
   },
   "outputs": [
    {
     "name": "stdout",
     "output_type": "stream",
     "text": [
      "Seq:\n",
      "ATG-GTT-ACC-TAG-TAT-TTA-GGA-TTA\n",
      "\n",
      "Complemento reverso:\n",
      "TAA-TCC-TAA-ATA-CTA-GGT-AAC-CAT\n"
     ]
    }
   ],
   "source": [
    "bcompl = {'A':'T', 'T':'A', 'C':'G', 'G':'C'}\n",
    "\n",
    "a = \"ATGGTTACCTAGTATTTAGGATTA\"\n",
    "c = ''.join([bcompl[b] for b in a[ : :-1]])\n",
    "\n",
    "print(\"Seq:\")\n",
    "print('-'.join([a[i:i+3] for i in range(0,len(a),3)]))\n",
    "\n",
    "print(\"\\nComplemento reverso:\")\n",
    "print('-'.join([c[i:i+3] for i in range(0,len(c),3)]))"
   ]
  }
 ],
 "metadata": {
  "anaconda-cloud": {},
  "celltoolbar": "Slideshow",
  "kernelspec": {
   "display_name": "Python [default]",
   "language": "python",
   "name": "python3"
  },
  "language_info": {
   "codemirror_mode": {
    "name": "ipython",
    "version": 3
   },
   "file_extension": ".py",
   "mimetype": "text/x-python",
   "name": "python",
   "nbconvert_exporter": "python",
   "pygments_lexer": "ipython3",
   "version": "3.5.2"
  }
 },
 "nbformat": 4,
 "nbformat_minor": 0
}
