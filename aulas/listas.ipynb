{
 "cells": [
  {
   "cell_type": "markdown",
   "metadata": {},
   "source": [
    "# Listas"
   ]
  },
  {
   "cell_type": "markdown",
   "metadata": {},
   "source": [
    "## Algumas funções associadas a listas"
   ]
  },
  {
   "cell_type": "markdown",
   "metadata": {},
   "source": [
    "### `len()`, operador `in`."
   ]
  },
  {
   "cell_type": "code",
   "execution_count": 1,
   "metadata": {
    "collapsed": false
   },
   "outputs": [
    {
     "name": "stdout",
     "output_type": "stream",
     "text": [
      "Lista original: ['Frodo', 'Sam', 'Meriadoc', 'Peregrino'] tem 4 elementos\n",
      "Gandalf ainda não faz parte\n"
     ]
    }
   ],
   "source": [
    "irmandade = ['Frodo', 'Sam', 'Meriadoc', 'Peregrino']\n",
    "\n",
    "print \"Lista original:\",irmandade, \"tem\", len(irmandade), 'elementos'\n",
    "\n",
    "if 'Gandalf' in irmandade:\n",
    "    print 'Gandalf já faz parte'\n",
    "else:\n",
    "    print 'Gandalf ainda não faz parte'"
   ]
  },
  {
   "cell_type": "markdown",
   "metadata": {},
   "source": [
    "### `.append()`, `.insert()`, `.extend()`."
   ]
  },
  {
   "cell_type": "code",
   "execution_count": 2,
   "metadata": {
    "collapsed": false
   },
   "outputs": [
    {
     "name": "stdout",
     "output_type": "stream",
     "text": [
      "depois de .append('Aragorn'): ['Frodo', 'Sam', 'Meriadoc', 'Peregrino', 'Aragorn']\n",
      "\n",
      "depois de .insert(1, 'Gandalf'): ['Frodo', 'Gandalf', 'Sam', 'Meriadoc', 'Peregrino', 'Aragorn']\n",
      "\n",
      "depois de .extend(novos):\n",
      "['Frodo', 'Gandalf', 'Sam', 'Meriadoc', 'Peregrino', 'Aragorn', 'Aragorn', 'Boromir', 'Gimli', 'Legolas']\n"
     ]
    }
   ],
   "source": [
    "irmandade.append('Aragorn')\n",
    "print \"depois de .append('Aragorn'):\", irmandade\n",
    "print\n",
    "\n",
    "irmandade.insert(1, 'Gandalf')\n",
    "print \"depois de .insert(1, 'Gandalf'):\", irmandade\n",
    "print\n",
    "\n",
    "novos = ['Aragorn', 'Boromir', 'Gimli', 'Legolas']\n",
    "irmandade.extend(novos)\n",
    "print \"depois de .extend(novos):\"\n",
    "print irmandade"
   ]
  },
  {
   "cell_type": "markdown",
   "metadata": {},
   "source": [
    "### `.remove()`"
   ]
  },
  {
   "cell_type": "code",
   "execution_count": 3,
   "metadata": {
    "collapsed": false
   },
   "outputs": [
    {
     "name": "stdout",
     "output_type": "stream",
     "text": [
      "Lista completa: ['Frodo', 'Gandalf', 'Sam', 'Meriadoc', 'Peregrino', 'Aragorn', 'Aragorn', 'Boromir', 'Gimli', 'Legolas']\n",
      "tem 10 elementos\n",
      "\n",
      "depois de .remove('Boromir'): ['Frodo', 'Gandalf', 'Sam', 'Meriadoc', 'Peregrino', 'Aragorn', 'Aragorn', 'Gimli', 'Legolas']\n",
      "tem 9 elementos\n",
      "\n"
     ]
    }
   ],
   "source": [
    "print \"Lista completa:\",irmandade\n",
    "print \"tem\", len(irmandade), 'elementos'\n",
    "print\n",
    "\n",
    "irmandade.remove('Boromir')\n",
    "print \"depois de .remove('Boromir'):\", irmandade\n",
    "print \"tem\", len(irmandade), 'elementos'\n",
    "print"
   ]
  },
  {
   "cell_type": "markdown",
   "metadata": {},
   "source": [
    "### `.count()`."
   ]
  },
  {
   "cell_type": "code",
   "execution_count": 5,
   "metadata": {
    "collapsed": false
   },
   "outputs": [
    {
     "name": "stdout",
     "output_type": "stream",
     "text": [
      "Aragorn: 2\n",
      "Frodo: 1\n",
      "Boromir: 0\n"
     ]
    }
   ],
   "source": [
    "print 'Aragorn:', irmandade.count('Aragorn')\n",
    "print 'Frodo:', irmandade.count('Frodo')\n",
    "print 'Boromir:', irmandade.count('Boromir')"
   ]
  },
  {
   "cell_type": "markdown",
   "metadata": {},
   "source": [
    "## Iteração"
   ]
  },
  {
   "cell_type": "markdown",
   "metadata": {},
   "source": [
    "As listas podem ser \"percorridas\" com `for`."
   ]
  },
  {
   "cell_type": "code",
   "execution_count": 4,
   "metadata": {
    "collapsed": false
   },
   "outputs": [
    {
     "name": "stdout",
     "output_type": "stream",
     "text": [
      "Na lista completa ---\n",
      "Humano : 2\n",
      "Hobbit : 4\n",
      "Feiticeiro : 1\n",
      "Anão : 1\n",
      "Elfo : 1\n"
     ]
    }
   ],
   "source": [
    "irmandade = ['Aragorn', 'Frodo',  'Sam',    'Boromir', 'Meriadoc', 'Peregrino', 'Gandalf',    'Gimli', 'Legolas']\n",
    "especies  = ['Humano',  'Hobbit', 'Hobbit', 'Humano',  'Hobbit',   'Hobbit',    'Feiticeiro', 'Anão',  'Elfo']\n",
    "\n",
    "print 'Na lista completa ---'\n",
    "\n",
    "for e in ['Humano', 'Hobbit', 'Feiticeiro', 'Anão', 'Elfo']:\n",
    "    print e, ':', especies.count(e)"
   ]
  },
  {
   "cell_type": "markdown",
   "metadata": {},
   "source": [
    "**Problema: gerar os 40 primeiros quadrados perfeitos** $\\{i^2: i=0, 1, 2,...,39\\}$ **pondo o resultado numa lista**\n",
    "\n",
    "Podemos combinar `.append()` com `for`:"
   ]
  },
  {
   "cell_type": "code",
   "execution_count": 5,
   "metadata": {
    "collapsed": false
   },
   "outputs": [
    {
     "name": "stdout",
     "output_type": "stream",
     "text": [
      "[0, 1, 4, 9, 16, 25, 36, 49, 64, 81, 100, 121, 144, 169, 196, 225, 256, 289, 324, 361, 400, 441, 484, 529, 576, 625, 676, 729, 784, 841, 900, 961, 1024, 1089, 1156, 1225, 1296, 1369, 1444, 1521]\n"
     ]
    }
   ],
   "source": [
    "quads = []\n",
    "for i in range(40):\n",
    "    quads.append(i**2)\n",
    "\n",
    "print quads"
   ]
  },
  {
   "cell_type": "markdown",
   "metadata": {},
   "source": [
    "**Problema: gerar os 40 primeiros quadrados perfeitos** $\\{i^2: i=0, 1, 2,...,39\\}$**, que estejam entre 400 e 800, pondo o resultado numa lista**\n",
    "\n",
    "Podemos combinar `.append()` com `for` e `if`:"
   ]
  },
  {
   "cell_type": "code",
   "execution_count": 6,
   "metadata": {
    "collapsed": false
   },
   "outputs": [
    {
     "name": "stdout",
     "output_type": "stream",
     "text": [
      "[400, 441, 484, 529, 576, 625, 676, 729, 784]\n"
     ]
    }
   ],
   "source": [
    "quads = []\n",
    "for i in range(40):\n",
    "    q = i**2\n",
    "    if q >= 400 and q <= 800:\n",
    "        quads.append(q)\n",
    "\n",
    "print quads"
   ]
  },
  {
   "cell_type": "markdown",
   "metadata": {},
   "source": [
    "**Problema: somar os 10 primeiros números ímpares** $\\sum\\limits_{i=0}^9 2i+1$"
   ]
  },
  {
   "cell_type": "code",
   "execution_count": 7,
   "metadata": {
    "collapsed": false
   },
   "outputs": [
    {
     "name": "stdout",
     "output_type": "stream",
     "text": [
      "[1, 3, 5, 7, 9, 11, 13, 15, 17, 19]\n",
      "soma dos 10 primeiros ímpares: 100\n",
      "Confirmação pela fórmula da soma de prog. aritm. 100\n"
     ]
    }
   ],
   "source": [
    "impares = []\n",
    "for i in range(10):\n",
    "    impares.append(2*i + 1)\n",
    "print impares\n",
    "\n",
    "soma = 0\n",
    "for i in impares:\n",
    "    soma = soma + i\n",
    "\n",
    "print 'soma dos 10 primeiros ímpares:', soma\n",
    "print 'Confirmação pela fórmula da soma de prog. aritm.',(1+19)/2*10"
   ]
  },
  {
   "cell_type": "markdown",
   "metadata": {},
   "source": [
    "**Problema: gerar os 64 codões do código genético**\n",
    "\n",
    "Podemos usar **iterações \"dentro\" de outras iterações**."
   ]
  },
  {
   "cell_type": "code",
   "execution_count": 8,
   "metadata": {
    "collapsed": false
   },
   "outputs": [
    {
     "name": "stdout",
     "output_type": "stream",
     "text": [
      "['AAA', 'AAU', 'AAG', 'AAC', 'AUA', 'AUU', 'AUG', 'AUC', 'AGA', 'AGU', 'AGG', 'AGC', 'ACA', 'ACU', 'ACG', 'ACC', 'UAA', 'UAU', 'UAG', 'UAC', 'UUA', 'UUU', 'UUG', 'UUC', 'UGA', 'UGU', 'UGG', 'UGC', 'UCA', 'UCU', 'UCG', 'UCC', 'GAA', 'GAU', 'GAG', 'GAC', 'GUA', 'GUU', 'GUG', 'GUC', 'GGA', 'GGU', 'GGG', 'GGC', 'GCA', 'GCU', 'GCG', 'GCC', 'CAA', 'CAU', 'CAG', 'CAC', 'CUA', 'CUU', 'CUG', 'CUC', 'CGA', 'CGU', 'CGG', 'CGC', 'CCA', 'CCU', 'CCG', 'CCC']\n"
     ]
    }
   ],
   "source": [
    "bases = ['A', 'U', 'G', 'C']\n",
    "\n",
    "codoes = []\n",
    "for b1 in bases:\n",
    "    for b2 in bases:\n",
    "        for b3 in bases:\n",
    "            c = b1 + b2 + b3\n",
    "            codoes.append(c)\n",
    "\n",
    "print codoes"
   ]
  },
  {
   "cell_type": "markdown",
   "metadata": {},
   "source": [
    "**Problema: gerar os codões do código genético que não tenham uracilos**"
   ]
  },
  {
   "cell_type": "code",
   "execution_count": 9,
   "metadata": {
    "collapsed": false
   },
   "outputs": [
    {
     "name": "stdout",
     "output_type": "stream",
     "text": [
      "['AAA', 'AAG', 'AAC', 'AGA', 'AGG', 'AGC', 'ACA', 'ACG', 'ACC', 'GAA', 'GAG', 'GAC', 'GGA', 'GGG', 'GGC', 'GCA', 'GCG', 'GCC', 'CAA', 'CAG', 'CAC', 'CGA', 'CGG', 'CGC', 'CCA', 'CCG', 'CCC']\n"
     ]
    }
   ],
   "source": [
    "bases = ['A', 'U', 'G', 'C']\n",
    "\n",
    "codoes = []\n",
    "for b1 in bases:\n",
    "    for b2 in bases:\n",
    "        for b3 in bases:\n",
    "            c = b1 + b2 + b3\n",
    "            if 'U' not in c:\n",
    "                codoes.append(c)\n",
    "\n",
    "print codoes"
   ]
  },
  {
   "cell_type": "markdown",
   "metadata": {},
   "source": [
    "## Indexação"
   ]
  },
  {
   "cell_type": "markdown",
   "metadata": {},
   "source": [
    "As listas têm uma **numeração implícita, (a contar do zero)**, e podemos **indexar** uma lista usando `lista[posição]`"
   ]
  },
  {
   "cell_type": "code",
   "execution_count": 10,
   "metadata": {
    "collapsed": false
   },
   "outputs": [
    {
     "name": "stdout",
     "output_type": "stream",
     "text": [
      "Aragorn\n",
      "Boromir\n",
      "Legolas\n"
     ]
    }
   ],
   "source": [
    "irmandade = ['Aragorn', 'Frodo', 'Sam', 'Boromir', 'Meriadoc', 'Peregrino', 'Gandalf', 'Gimli', 'Legolas']\n",
    "#               0          1       2        3           4           5           6         7         8       len()\n",
    "\n",
    "print irmandade[0]\n",
    "print irmandade[3]\n",
    "print irmandade[len(irmandade) -1]"
   ]
  },
  {
   "cell_type": "markdown",
   "metadata": {},
   "source": [
    "As listas têm também uma **numeração implícita com números negativos**: o último elemento é -1, o penúltimo -2 e assim sucessivamente."
   ]
  },
  {
   "cell_type": "code",
   "execution_count": 11,
   "metadata": {
    "collapsed": false
   },
   "outputs": [
    {
     "name": "stdout",
     "output_type": "stream",
     "text": [
      "Aragorn\n",
      "Boromir\n",
      "Legolas\n"
     ]
    }
   ],
   "source": [
    "irmandade = ['Aragorn', 'Frodo', 'Sam', 'Boromir', 'Meriadoc', 'Peregrino', 'Gandalf', 'Gimli', 'Legolas']\n",
    "#               -9         -8     -7       -6         -5           -4          -3        -2        -1\n",
    "\n",
    "print irmandade[-9]\n",
    "print irmandade[-6]\n",
    "print irmandade[-1]"
   ]
  },
  {
   "cell_type": "markdown",
   "metadata": {},
   "source": [
    "A indexação permite usar elementos de uma lista pela sua posição"
   ]
  },
  {
   "cell_type": "code",
   "execution_count": 12,
   "metadata": {
    "collapsed": false
   },
   "outputs": [
    {
     "name": "stdout",
     "output_type": "stream",
     "text": [
      "11\n"
     ]
    }
   ],
   "source": [
    "a = [1, 1, 1, 2, 2, 2, 3, 3, 3, 4, 4, 4]\n",
    "\n",
    "x = 2*a[1] + a[2] + 2*a[-1]\n",
    "print x"
   ]
  },
  {
   "cell_type": "markdown",
   "metadata": {},
   "source": [
    "A indexação permite também alterar um elemento que está numa posição"
   ]
  },
  {
   "cell_type": "code",
   "execution_count": 13,
   "metadata": {
    "collapsed": false
   },
   "outputs": [
    {
     "name": "stdout",
     "output_type": "stream",
     "text": [
      "[1, 1, 1, 2, 2, 2, 3, 3, 3, 4, 4, 4]\n",
      "[1, 1, 11, 2, 2, 2, 3, 3, 3, 4, 4, 4]\n"
     ]
    }
   ],
   "source": [
    "a = [1, 1, 1, 2, 2, 2, 3, 3, 3, 4, 4, 4]\n",
    "print a\n",
    "a[2] = 2*a[1] + a[2] + 2*a[-1]\n",
    "print a"
   ]
  },
  {
   "cell_type": "markdown",
   "metadata": {},
   "source": [
    "Podemos também indexar a partir da iteração de numeros inteiros "
   ]
  },
  {
   "cell_type": "code",
   "execution_count": 14,
   "metadata": {
    "collapsed": false
   },
   "outputs": [
    {
     "name": "stdout",
     "output_type": "stream",
     "text": [
      "1\n",
      "2\n",
      "3\n",
      "3\n",
      "2\n",
      "1\n",
      "-------- dá o mesmo resultado que -----------\n",
      "1\n",
      "2\n",
      "3\n",
      "3\n",
      "2\n",
      "1\n"
     ]
    }
   ],
   "source": [
    "a = [1, 2, 3, 3, 2, 1]\n",
    "\n",
    "for e in a:\n",
    "    print e\n",
    "\n",
    "print '-------- dá o mesmo resultado que -----------'\n",
    "\n",
    "for i in range(len(a)):\n",
    "    print a[i]"
   ]
  },
  {
   "cell_type": "markdown",
   "metadata": {},
   "source": [
    "**Problema: calcular as diferenças sucessivas entre os elementos de uma lista, pondo o resultado numa lista**"
   ]
  },
  {
   "cell_type": "code",
   "execution_count": 15,
   "metadata": {
    "collapsed": false
   },
   "outputs": [
    {
     "name": "stdout",
     "output_type": "stream",
     "text": [
      "[1, 1, 1, 2, 2, 2, 3, 3, 3, 5, 5, 7]\n",
      "[0, 0, 1, 0, 0, 1, 0, 0, 2, 0, 2]\n"
     ]
    }
   ],
   "source": [
    "a = [1, 1, 1, 2, 2, 2, 3, 3, 3, 5, 5, 7]\n",
    "\n",
    "difs = []\n",
    "for i in range(1, len(a)):\n",
    "    d = a[i] - a[i-1]\n",
    "    difs.append(d)\n",
    "\n",
    "print a\n",
    "print difs"
   ]
  },
  {
   "cell_type": "markdown",
   "metadata": {},
   "source": [
    "**Problema: mostrar que as diferenças sucessivas entre os quadrados perfeitos, são os números ímpares (usar os 20 primeiros)**"
   ]
  },
  {
   "cell_type": "code",
   "execution_count": 16,
   "metadata": {
    "collapsed": false
   },
   "outputs": [
    {
     "name": "stdout",
     "output_type": "stream",
     "text": [
      "números [0, 1, 2, 3, 4, 5, 6, 7, 8, 9, 10, 11, 12, 13, 14, 15, 16, 17, 18, 19]\n",
      "quadrados perfeitos [0, 1, 4, 9, 16, 25, 36, 49, 64, 81, 100, 121, 144, 169, 196, 225, 256, 289, 324, 361]\n",
      "diferenças sucessivas [1, 3, 5, 7, 9, 11, 13, 15, 17, 19, 21, 23, 25, 27, 29, 31, 33, 35, 37]\n"
     ]
    }
   ],
   "source": [
    "nums = range(20)\n",
    "\n",
    "#calcular os quadrados perfeitos\n",
    "quads = []\n",
    "for n in nums:\n",
    "    quads.append(n**2)\n",
    "\n",
    "#calcular as diferenças sucessivas\n",
    "difs = []\n",
    "for i in range(1, len(quads)):\n",
    "    d = quads[i] - quads[i-1]\n",
    "    difs.append(d)\n",
    "\n",
    "print 'números', nums\n",
    "print 'quadrados perfeitos', quads\n",
    "print 'diferenças sucessivas', difs"
   ]
  },
  {
   "cell_type": "markdown",
   "metadata": {},
   "source": [
    "A propriedade matemática anterior foi usada por Galileu no estudo da queda livre dos corpos.\n",
    "\n",
    "![](galileu.jpg)\n",
    "\n",
    "As distâncias sucessivas percorridas durante a queda para a mesma unidade de tempo estão entre si como a sucessão dos números ímpares, o que implica que a distância acumulada cresce segundo o quadrado do tempo decorrido: o movimento de queda livre é uniformemente acelerado."
   ]
  },
  {
   "cell_type": "markdown",
   "metadata": {},
   "source": [
    "**Problema: o que faz o programa seguinte?**"
   ]
  },
  {
   "cell_type": "code",
   "execution_count": 17,
   "metadata": {
    "collapsed": false
   },
   "outputs": [
    {
     "name": "stdout",
     "output_type": "stream",
     "text": [
      ">sp|P00924|ENO1_YEAST Enolase 1 OS=Saccharomyces cerevisiae (strain ATCC 204508 / S288c) GN=ENO1 PE=1 SV=3\n",
      "MAVSKVYARSVYDSRGNPTVEVELTTEKGVFRSIVPSGASTGVHEALEMRDGDKSKWMGK\n",
      "GVLHAVKNVNDVIAPAFVKANIDVKDQKAVDDFLISLDGTANKSKLGANAILGVSLAASR\n",
      "AAAAEKNVPLYKHLADLSKSKTSPYVLPVPFLNVLNGGSHAGGALALQEFMIAPTGAKTF\n",
      "AEALRIGSEVYHNLKSLTKKRYGASAGNVGDEGGVAPNIQTAEEALDLIVDAIKAAGHDG\n",
      "KIKIGLDCASSEFFKDGKYDLDFKNPNSDKSKWLTGPQLADLYHSLMKRYPIVSIEDPFA\n",
      "EDDWEAWSHFFKTAGIQIVADDLTVTNPKRIATAIEKKAADALLLKVNQIGTLSESIKAA\n",
      "QDSFAAGWGVMVSHRSGETEDTFIADLVVGLRTGQIKTGAPARSERLAKLNQLLRIEEEL\n",
      "GDNAVFAGENFHHGDKL\n",
      "\n",
      ">sp|P40370|ENO11_SCHPO Enolase 1-1 OS=Schizosaccharomyces pombe (strain 972 / ATCC 24843) GN=eno101 PE=1 SV=2\n",
      "MAIQKVFARQIYDSRGNPTVEVDLTTETGIHRAIVPSGASTGIWEALEMRDGDKTKWGGK\n",
      "GVLKAVGNVNNIIAPAVVKANLDVTDQKAADEFLLKLDGTENKSKLGANAILGVSMAICR\n",
      "AGAAQKKLPLWKYIAENFGTKGPYVLPVPSFNVLNGGSHAGGDLAFQEFMILPTGAPSFS\n",
      "EAMRWGAETYHTLKSIAKKRYGSSAGNVGDEGGIAPDLQTPQEALDLIVEAINKAGYEGK\n",
      "IKIGLDVASSEFYVDGKYDLDIKAAKPKPENKLTYQQLTDLYVELSKKYPIVSIEDPFDQ\n",
      "DDWSAWTHMKAETDFQIVGDDLTVTNVKRLRTAIDKKCANALLLKVNQIGSVTESLNAVR\n",
      "MSYEAGWGVMVSHRSGETADTFISHLTVGIGAGQLKSGAPCRSERLAKYNELLRIEEELG\n",
      "SEGVYAGAHAGKYIKAAKF\n",
      "\n",
      ">sp|Q70CP7|ENO_KLULA Enolase OS=Kluyveromyces lactis (strain ATCC 8585 / CBS 2359 / DSM 70799 / NBRC 1267 / NRRL Y-1140 / WM37) GN=ENO PE=3 SV=1\n",
      "MPISKVYARSVYDSRGNPTVEVELTTEKGTFRSIVPSGASTGVHEALELRDGDKSKWLGK\n",
      "GVLTAVSNVNNIIAPALVKANVDVTNQQQVDDLLLSLDGTANKSKLGANAILGVSLAASK\n",
      "AGAAAKNVPLYQHLADLAGAKTQPFVLPVPFLNVLNGGSHAGGALALQEFMIAPTGAETF\n",
      "AEALRMGSEVYHNLKSLTKKRYGASAGNVGDEGGVAPNIQTAEEALDLIVDAIKAAGYEG\n",
      "KIDIGLDCASSEFYKDGKYDLDFKNPESDPSKWLSGPQLADLYHELVKKYPIVSIEDPFA\n",
      "EDDWEAWSHFYKTAGVQIVADDLTVTNPVRIATAIEKKAADALLLKVNQIGSLSESIKAA\n",
      "NDSFAANWGVMVSHRSGETEDTFIADLVVGLRTGQIKTGAPARSERLAKLNQLLRIEEEL\n",
      "GSNAIFAGKKFHNGNQL\n",
      "\n"
     ]
    }
   ],
   "source": [
    "import urllib2\n",
    "base = 'http://www.uniprot.org/uniprot/'\n",
    "suffix = '.fasta'\n",
    "\n",
    "prots = ['P00924', 'P40370', 'Q70CP7']\n",
    "seqs = []\n",
    "\n",
    "for p in prots:\n",
    "    url = base + p + suffix\n",
    "    pag = urllib2.urlopen(url).read()\n",
    "    seqs.append(pag)\n",
    "\n",
    "for s in seqs:\n",
    "    print s"
   ]
  },
  {
   "cell_type": "markdown",
   "metadata": {},
   "source": [
    "## Listas em compreensão"
   ]
  },
  {
   "cell_type": "markdown",
   "metadata": {},
   "source": [
    "O padrão\n",
    "\n",
    "```python\n",
    "nova_lista = []\n",
    "for i in uma_lista:\n",
    "    \"<geração de um novo elemento p a partir de i>\"\n",
    "    nova_lista.append(p)\n",
    "```\n",
    "\n",
    "é tão frequente, que existe uma forma mais sucinta de gerar a nova lista:\n",
    "\n",
    "**listas em compreensão**\n",
    "    "
   ]
  },
  {
   "cell_type": "code",
   "execution_count": 18,
   "metadata": {
    "collapsed": false
   },
   "outputs": [
    {
     "name": "stdout",
     "output_type": "stream",
     "text": [
      "[1, 3, 5, 7, 9, 11, 13, 15, 17, 19]\n",
      "[0, 1, 4, 9, 16, 25, 36, 49, 64, 81, 100, 121, 144, 169, 196, 225, 256, 289, 324, 361, 400, 441, 484, 529, 576, 625, 676, 729, 784, 841]\n",
      "[441, 484, 529, 576, 625, 676, 729, 784]\n",
      "[1, 3, 5, 7, 9, 11, 13, 15, 17, 19, 21, 23, 25, 27, 29, 31, 33, 35, 37, 39, 41, 43, 45, 47, 49, 51, 53, 55, 57]\n"
     ]
    }
   ],
   "source": [
    "impares = [2*i+1 for i in range(10)]\n",
    "\n",
    "quads = [i**2 for i in range(30)]\n",
    "\n",
    "quads_filtrados = [q for q in quads if q > 400 and q < 800]\n",
    "\n",
    "difs_quads = [quads[i] - quads[i-1] for i in range(1, len(quads))]\n",
    "\n",
    "print impares\n",
    "print quads\n",
    "print quads_filtrados\n",
    "print difs_quads"
   ]
  },
  {
   "cell_type": "markdown",
   "metadata": {
    "collapsed": true
   },
   "source": [
    "## Mais funções de listas"
   ]
  },
  {
   "cell_type": "markdown",
   "metadata": {},
   "source": [
    "### `.pop()`, `.reverse()`, `.sort()`"
   ]
  },
  {
   "cell_type": "markdown",
   "metadata": {},
   "source": [
    "Todas estas funções **modificam** uma lista, tal como `.append()`.\n",
    "\n",
    "Note-se que `.sort()`e `.reverse()` têm como resultado `None`."
   ]
  },
  {
   "cell_type": "code",
   "execution_count": 3,
   "metadata": {
    "collapsed": false
   },
   "outputs": [
    {
     "name": "stdout",
     "output_type": "stream",
     "text": [
      "a\n",
      "['seg', 'ter', 'qua', 'qui', 'sex', 'sab', 'dom']\n",
      "\n",
      "a.reverse()\n",
      "['dom', 'sab', 'sex', 'qui', 'qua', 'ter', 'seg']\n",
      "\n",
      "a.sort()\n",
      "['dom', 'qua', 'qui', 'sab', 'seg', 'sex', 'ter']\n",
      "\n",
      "a.pop()\n",
      "['dom', 'qua', 'qui', 'sab', 'seg', 'sex']\n",
      "\n",
      "a.pop()\n",
      "['dom', 'qua', 'sab', 'seg', 'sex']\n"
     ]
    }
   ],
   "source": [
    "a = ['seg', 'ter', 'qua', 'qui', 'sex', 'sab', 'dom']\n",
    "print 'a'\n",
    "print a\n",
    "\n",
    "print '\\na.reverse()'\n",
    "a.reverse()\n",
    "print a\n",
    "\n",
    "print '\\na.sort()'\n",
    "a.sort()\n",
    "print a\n",
    "\n",
    "print '\\na.pop()' # extrai e devolve o último elemento.\n",
    "a.pop()\n",
    "print a\n",
    "\n",
    "print '\\na.pop()'\n",
    "a.pop(2)\n",
    "print a"
   ]
  },
  {
   "cell_type": "markdown",
   "metadata": {
    "collapsed": true
   },
   "source": [
    "# Dicionários"
   ]
  },
  {
   "cell_type": "markdown",
   "metadata": {},
   "source": [
    "Os dicionários são associações não ordenadas entre **chaves** e **valores**. Cada chave é única."
   ]
  },
  {
   "cell_type": "markdown",
   "metadata": {},
   "source": [
    "## Indexação e iteração"
   ]
  },
  {
   "cell_type": "markdown",
   "metadata": {},
   "source": [
    "A maneira de ler, inserir e modificar valores num dicionário é através das suas chaves. O operador `in` testa a existência de uma chave num dicionário."
   ]
  },
  {
   "cell_type": "code",
   "execution_count": 3,
   "metadata": {
    "collapsed": false
   },
   "outputs": [
    {
     "name": "stdout",
     "output_type": "stream",
     "text": [
      "19\n",
      "3\n",
      "--------------\n",
      "16\n",
      "--------------\n",
      "18\n",
      "--------------\n",
      "Não existe info sobre o azoto\n"
     ]
    }
   ],
   "source": [
    "d = {'H':1, 'Li':3, 'Na':11, 'K':19}\n",
    "\n",
    "print d['K']\n",
    "print d['Li']\n",
    "print '--------------'\n",
    "d['O'] = 16\n",
    "print d['O']\n",
    "print '--------------'\n",
    "d['O'] = 18\n",
    "print d['O']\n",
    "print '--------------'\n",
    "if 'N' in d:\n",
    "    print 'Existe info sobre o azoto'\n",
    "else:\n",
    "    print 'Não existe info sobre o azoto'"
   ]
  },
  {
   "cell_type": "markdown",
   "metadata": {},
   "source": [
    "A **iteração** percorre as **chaves** de um dicionário:"
   ]
  },
  {
   "cell_type": "code",
   "execution_count": 4,
   "metadata": {
    "collapsed": false
   },
   "outputs": [
    {
     "name": "stdout",
     "output_type": "stream",
     "text": [
      "K ---> 19\n",
      "Na ---> 11\n",
      "O ---> 18\n"
     ]
    }
   ],
   "source": [
    "d = {'H':1, 'Li':3, 'Na':11, 'K':19, 'O':18}\n",
    "\n",
    "for k in d:\n",
    "    if d[k] > 10:\n",
    "        print k, '--->', d[k]"
   ]
  },
  {
   "cell_type": "markdown",
   "metadata": {},
   "source": [
    "## `.update()`, `.clear()`"
   ]
  },
  {
   "cell_type": "code",
   "execution_count": 5,
   "metadata": {
    "collapsed": false
   },
   "outputs": [
    {
     "name": "stdout",
     "output_type": "stream",
     "text": [
      "{'a': 1, 'c': 3, 'b': 2, 'e': 8, 'd': 7, 'f': 9}\n",
      "{'a': 1, 'c': 3, 'b': 2, 'e': 8, 'd': 7, 'f': 9, 'q': 15, 'p': 10}\n",
      "{}\n"
     ]
    }
   ],
   "source": [
    "d = {'a': 1, 'c': 3, 'b': 2, 'e': 8, 'd': 7, 'f': 9}\n",
    "print d\n",
    "\n",
    "e = {'p': 10, 'q': 15}\n",
    "d.update(e)\n",
    "print d\n",
    "\n",
    "d.clear()\n",
    "print d"
   ]
  },
  {
   "cell_type": "markdown",
   "metadata": {},
   "source": [
    "## `.keys()`,`.items()`,`.values()`"
   ]
  },
  {
   "cell_type": "code",
   "execution_count": 6,
   "metadata": {
    "collapsed": false
   },
   "outputs": [
    {
     "name": "stdout",
     "output_type": "stream",
     "text": [
      "1\n",
      "2\n",
      "3\n",
      "7\n",
      "8\n",
      "9\n",
      "------------\n",
      "a\n",
      "b\n",
      "c\n",
      "d\n",
      "e\n",
      "f\n",
      "------------\n",
      "(1, 'a')\n",
      "(2, 'b')\n",
      "(3, 'c')\n",
      "(7, 'd')\n",
      "(8, 'e')\n",
      "(9, 'f')\n"
     ]
    }
   ],
   "source": [
    "d = {1: 'a', 2: 'b', 3: 'c', 7: 'd', 8: 'e', 9: 'f'}\n",
    "\n",
    "for i in d.keys():\n",
    "    print i\n",
    "print '------------'\n",
    "for i in d.values():\n",
    "    print i\n",
    "print '------------'\n",
    "for i in d.items():\n",
    "    print i"
   ]
  },
  {
   "cell_type": "markdown",
   "metadata": {},
   "source": [
    "`.items()` é útil para simplificar um ciclo `for`: podemos desdobrar o par de valores e dar dois nomes diferentes:"
   ]
  },
  {
   "cell_type": "code",
   "execution_count": 8,
   "metadata": {
    "collapsed": false
   },
   "outputs": [
    {
     "name": "stdout",
     "output_type": "stream",
     "text": [
      "K ---> 19\n",
      "Na ---> 11\n",
      "O ---> 18\n"
     ]
    }
   ],
   "source": [
    "# compare-se com o exemplo acima...\n",
    "d = {'H':1, 'Li':3, 'Na':11, 'K':19, 'O':18}\n",
    "\n",
    "for k, v in d.items():\n",
    "    if v > 10:\n",
    "        print k, '--->', v"
   ]
  },
  {
   "cell_type": "code",
   "execution_count": 9,
   "metadata": {
    "collapsed": false
   },
   "outputs": [
    {
     "name": "stdout",
     "output_type": "stream",
     "text": [
      "{'H': 1, 'K': 19, 'Na': 11, 'O': 18, 'Li': 3}\n",
      "{11: 'Na', 1: 'H', 18: 'O', 19: 'K', 3: 'Li'}\n"
     ]
    }
   ],
   "source": [
    "# Virar um dicionário \"do avesso\"\n",
    "d = {'H':1, 'Li':3, 'Na':11, 'K':19, 'O':18}\n",
    "\n",
    "d2 = {}\n",
    "\n",
    "for k in d:\n",
    "    d2[d[k]] = k\n",
    "print d\n",
    "print d2"
   ]
  },
  {
   "cell_type": "code",
   "execution_count": 10,
   "metadata": {
    "collapsed": false
   },
   "outputs": [
    {
     "name": "stdout",
     "output_type": "stream",
     "text": [
      "{'H': 1, 'K': 19, 'Na': 11, 'O': 18, 'Li': 3}\n",
      "{11: 'Na', 1: 'H', 18: 'O', 19: 'K', 3: 'Li'}\n"
     ]
    }
   ],
   "source": [
    "# Virar um dicionário \"do avesso\" (talvez mais legível)\n",
    "d = {'H':1, 'Li':3, 'Na':11, 'K':19, 'O':18}\n",
    "\n",
    "d2 = {}\n",
    "\n",
    "for elem, na in d.items():\n",
    "    d2[na] = elem\n",
    "print d\n",
    "print d2"
   ]
  },
  {
   "cell_type": "code",
   "execution_count": 14,
   "metadata": {
    "collapsed": false
   },
   "outputs": [
    {
     "name": "stdout",
     "output_type": "stream",
     "text": [
      "Aragorn Humano\n",
      "Sam Hobbit\n",
      "Peregrino Hobbit\n",
      "Frodo Hobbit\n",
      "Meriadoc Hobbit\n",
      "Gimli Anão\n",
      "Gandalf Feiticeiro\n",
      "Boromir Humano\n",
      "Legolas Elfo\n",
      "-------------------------\n",
      "Humano 2\n",
      "Elfo 1\n",
      "Feiticeiro 1\n",
      "Hobbit 4\n",
      "Anão 1\n"
     ]
    }
   ],
   "source": [
    "# Contar os diferentes valores:\n",
    "irmandade = ['Aragorn', 'Frodo',  'Sam',    'Boromir', 'Meriadoc', 'Peregrino', 'Gandalf',    'Gimli', 'Legolas']\n",
    "especies  = ['Humano',  'Hobbit', 'Hobbit', 'Humano',  'Hobbit',   'Hobbit',    'Feiticeiro', 'Anão',  'Elfo']\n",
    "\n",
    "d = dict(zip(irmandade, especies))\n",
    "for i, e in d.items():\n",
    "    print i, e\n",
    "\n",
    "print '-------------------------'\n",
    "contagens_especies = {}\n",
    "\n",
    "for e in d.values():\n",
    "    if e in contagens_especies:\n",
    "        contagens_especies[e] += 1\n",
    "    else:\n",
    "        contagens_especies[e] = 1\n",
    "\n",
    "for e, c in contagens_especies.items():\n",
    "    print e,c  "
   ]
  },
  {
   "cell_type": "code",
   "execution_count": null,
   "metadata": {
    "collapsed": true
   },
   "outputs": [],
   "source": []
  }
 ],
 "metadata": {
  "kernelspec": {
   "display_name": "Python 2",
   "language": "python",
   "name": "python2"
  },
  "language_info": {
   "codemirror_mode": {
    "name": "ipython",
    "version": 2
   },
   "file_extension": ".py",
   "mimetype": "text/x-python",
   "name": "python",
   "nbconvert_exporter": "python",
   "pygments_lexer": "ipython2",
   "version": "2.7.7"
  }
 },
 "nbformat": 4,
 "nbformat_minor": 0
}
