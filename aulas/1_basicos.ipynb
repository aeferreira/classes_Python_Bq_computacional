{
 "cells": [
  {
   "cell_type": "markdown",
   "metadata": {
    "slideshow": {
     "slide_type": "slide"
    }
   },
   "source": [
    "# Conceitos básicos"
   ]
  },
  {
   "cell_type": "markdown",
   "metadata": {
    "slideshow": {
     "slide_type": "slide"
    }
   },
   "source": [
    "## Objetos e função `print()`"
   ]
  },
  {
   "cell_type": "markdown",
   "metadata": {
    "slideshow": {
     "slide_type": "slide"
    }
   },
   "source": [
    "Essencialmente, um programa em Python consiste num conjunto de comandos a ser executados.\n",
    "\n",
    "Muitas vezes esses comandos consistem na manipulação de **objetos**.\n",
    "\n",
    "Estes objetos estão representados na memória do computador, a cada momento, e têm um determinado valor."
   ]
  },
  {
   "cell_type": "markdown",
   "metadata": {
    "slideshow": {
     "slide_type": "slide"
    }
   },
   "source": [
    "Dois tipos básicos de objetos que podemos criar e manipular num programa são:\n",
    "\n",
    "- números\n",
    "- _strings_\n"
   ]
  },
  {
   "cell_type": "markdown",
   "metadata": {
    "slideshow": {
     "slide_type": "skip"
    }
   },
   "source": [
    "Num programa, podemos **apresentar** o valor que um objeto tem com a função `print()`.\n",
    "\n",
    "Um exemplo com números:"
   ]
  },
  {
   "cell_type": "code",
   "execution_count": 4,
   "metadata": {
    "collapsed": false,
    "slideshow": {
     "slide_type": "slide"
    }
   },
   "outputs": [
    {
     "name": "stdout",
     "output_type": "stream",
     "text": [
      "4\n",
      "3.2\n",
      "9.0\n",
      "2.0\n"
     ]
    }
   ],
   "source": [
    "print(4)\n",
    "print(3.2)\n",
    "print(9.0)\n",
    "print(((3 + 9) / 3.0)**0.5)"
   ]
  },
  {
   "cell_type": "markdown",
   "metadata": {
    "slideshow": {
     "slide_type": "slide"
    }
   },
   "source": [
    "Nas expressões podemos usar:\n",
    "\n",
    "- os cinco operadores `+ - * / **` (`**` é a potenciação)\n",
    "- vários níveis de `()`\n",
    "- o operador `%`: o resto da divisão (por exemplo, `5 % 3` tem como resultado `2`)"
   ]
  },
  {
   "cell_type": "markdown",
   "metadata": {
    "slideshow": {
     "slide_type": "skip"
    }
   },
   "source": [
    "Um exemplo com *strings*:"
   ]
  },
  {
   "cell_type": "code",
   "execution_count": 5,
   "metadata": {
    "collapsed": false,
    "slideshow": {
     "slide_type": "slide"
    }
   },
   "outputs": [
    {
     "name": "stdout",
     "output_type": "stream",
     "text": [
      "quinta feira\n",
      "hoje é quinta feira, 16\n"
     ]
    }
   ],
   "source": [
    "print('quinta feira')\n",
    "print('hoje', 'é', \"quinta feira,\", 16)"
   ]
  },
  {
   "cell_type": "markdown",
   "metadata": {
    "slideshow": {
     "slide_type": "skip"
    }
   },
   "source": [
    "Pequenos textos entre `\"\"` ou `''` são _strings_. São sequências de caracteres (os espaços e pontuação, desde que estejam entre as aspas contam como caracteres.\n",
    "\n",
    "A função `print()` pode ser usada com vários objetos a apresentar, **separados por vírgulas**. É inserido um espaço entre os vários objetos. Note-se que, com as _strings_, as aspas são eliminadas."
   ]
  },
  {
   "cell_type": "markdown",
   "metadata": {
    "slideshow": {
     "slide_type": "slide"
    }
   },
   "source": [
    "## Atribuição de nomes a \"objetos\""
   ]
  },
  {
   "cell_type": "markdown",
   "metadata": {
    "slideshow": {
     "slide_type": "slide"
    }
   },
   "source": [
    "**Este é um dos mais fundamentais comandos em programação!**\n",
    "\n",
    "A forma geral é\n",
    "\n",
    "```\n",
    "<nome> = <expressão>\n",
    "```\n",
    "\n",
    "Depois de uma atribuição, **o nome pode ser usado em vez do valor do objeto ou expressão**. Mesmo em atribuições seguintes, no comando `print()`, etc."
   ]
  },
  {
   "cell_type": "code",
   "execution_count": 6,
   "metadata": {
    "collapsed": false,
    "slideshow": {
     "slide_type": "slide"
    }
   },
   "outputs": [
    {
     "name": "stdout",
     "output_type": "stream",
     "text": [
      "4\n",
      "3.2\n",
      "7.2 2.6832815729997477\n"
     ]
    }
   ],
   "source": [
    "a = 4\n",
    "b = 3.2\n",
    "c = a + b\n",
    "d = (a + b)**0.5\n",
    "print(a)\n",
    "print(b)\n",
    "print(c, d)"
   ]
  },
  {
   "cell_type": "code",
   "execution_count": 7,
   "metadata": {
    "collapsed": false,
    "slideshow": {
     "slide_type": "slide"
    }
   },
   "outputs": [
    {
     "name": "stdout",
     "output_type": "stream",
     "text": [
      "Olá, quinta feira \n",
      "sala 8.2.39\n",
      "Olá, quinta feira sala 8.2.39\n"
     ]
    }
   ],
   "source": [
    "hoje = \"Olá, quinta feira \"\n",
    "local = \"sala 8.2.39\"\n",
    "onde = hoje + local\n",
    "print(hoje)\n",
    "print(local)\n",
    "print(onde)"
   ]
  },
  {
   "cell_type": "markdown",
   "metadata": {
    "slideshow": {
     "slide_type": "skip"
    }
   },
   "source": [
    "**Que nomes podemos usar?**\n",
    "\n",
    "As regras são:\n",
    "\n",
    "1. Um nome é uma combinação de letras minúsculas (a to z) ou maiúsculas (A to Z) não acentuadas ou dígitos (0 to 9) ou o _underscore_. Nomes como `x`, `Km_1` ou `velocidade_da_reaccao` são exemplos válidos.\n",
    "2. Um nome não pode começar com um dígito. `1x` é inválido, mas `x1` é aceitável.\n",
    "3. Palavras usadas como comandos da linguagem (_keywords_) não são permitidas (por exemplo, `print`).\n",
    "\n",
    "![](images/piso_2.jpg)\n",
    "\n",
    "Não são permitidos espaços ou símbolos como `!, @, #, %` nos nomes."
   ]
  },
  {
   "cell_type": "markdown",
   "metadata": {
    "slideshow": {
     "slide_type": "slide"
    }
   },
   "source": [
    "**tipos de objetos vistos até agora**\n",
    "\n",
    "- **inteiros**\n",
    "- _floats_\n",
    "- _strings_\n",
    "\n",
    "Existem também os **complexos** (em que `j` é a unidade imaginária):"
   ]
  },
  {
   "cell_type": "code",
   "execution_count": 8,
   "metadata": {
    "collapsed": false,
    "slideshow": {
     "slide_type": "slide"
    }
   },
   "outputs": [
    {
     "name": "stdout",
     "output_type": "stream",
     "text": [
      "c = (4+2j)\n",
      "4.0\n",
      "2.0\n",
      "c * d = (-8+16j)\n"
     ]
    }
   ],
   "source": [
    "c = 4+2j\n",
    "\n",
    "print('c =', c)\n",
    "\n",
    "print(c.real)\n",
    "print(c.imag)\n",
    "\n",
    "d = 4j\n",
    "\n",
    "print('c * d =', c * d)"
   ]
  },
  {
   "cell_type": "markdown",
   "metadata": {
    "slideshow": {
     "slide_type": "skip"
    }
   },
   "source": [
    "## Alteração dos objetos associados a um nome"
   ]
  },
  {
   "cell_type": "markdown",
   "metadata": {
    "slideshow": {
     "slide_type": "skip"
    }
   },
   "source": [
    "Durante a execução de um programa, os objetos associados a um mesmo nome podem variar:"
   ]
  },
  {
   "cell_type": "code",
   "execution_count": 9,
   "metadata": {
    "collapsed": false,
    "slideshow": {
     "slide_type": "slide"
    }
   },
   "outputs": [
    {
     "name": "stdout",
     "output_type": "stream",
     "text": [
      "a = 3\n",
      "b = 5\n",
      "c = 8\n"
     ]
    }
   ],
   "source": [
    "a = 2\n",
    "b = 3\n",
    "c = 'Olá'\n",
    "\n",
    "b = a + b\n",
    "a = a + 1\n",
    "c = a + b\n",
    "\n",
    "print(\"a =\", a)\n",
    "print(\"b =\", b)\n",
    "print(\"c =\", c)"
   ]
  },
  {
   "cell_type": "markdown",
   "metadata": {
    "slideshow": {
     "slide_type": "slide"
    }
   },
   "source": [
    "## Comentários"
   ]
  },
  {
   "cell_type": "code",
   "execution_count": 10,
   "metadata": {
    "collapsed": false,
    "slideshow": {
     "slide_type": "slide"
    }
   },
   "outputs": [
    {
     "name": "stdout",
     "output_type": "stream",
     "text": [
      "a = 3 b = experiência c = 2.5 d = 7\n"
     ]
    }
   ],
   "source": [
    "# Esta linha é um comentários (começa por #)\n",
    "\n",
    "# Podemos dar nomes a vários objetos de uma só vez:\n",
    "a, b = 3, \"experiência\"\n",
    "c, d = 2.5, 3+4\n",
    "\n",
    "print(\"a =\", a, \"b =\", b, \"c =\", c, \"d =\", d)"
   ]
  },
  {
   "cell_type": "code",
   "execution_count": 11,
   "metadata": {
    "collapsed": false,
    "slideshow": {
     "slide_type": "slide"
    }
   },
   "outputs": [
    {
     "name": "stdout",
     "output_type": "stream",
     "text": [
      "a = 3 b = 4 \n",
      "\n",
      "a = 4 b = 3\n"
     ]
    }
   ],
   "source": [
    "a, b = 3, 4\n",
    "print(\"a =\", a, \"b =\", b, '\\n')\n",
    "\n",
    "# Podemos trocar dois nomes desta maneira\n",
    "a, b = b, a\n",
    "print(\"a =\", a, \"b =\", b)"
   ]
  },
  {
   "cell_type": "markdown",
   "metadata": {},
   "source": [
    "Nota: quando numa *string* aparece o caractere \"especial\" `\\n`, este provoca uma linha suplementar quando a *string* é apresentada com a função `print()`."
   ]
  },
  {
   "cell_type": "markdown",
   "metadata": {
    "slideshow": {
     "slide_type": "slide"
    }
   },
   "source": [
    "## Funções disponíveis \"integradas\" na linguagem (ex. `print()`, `abs()` e `int()`)"
   ]
  },
  {
   "cell_type": "markdown",
   "metadata": {
    "slideshow": {
     "slide_type": "skip"
    }
   },
   "source": [
    "Além da função `print()`, as funções `int()` e `abs()` fazem parte integrante da linguagem Python."
   ]
  },
  {
   "cell_type": "code",
   "execution_count": 12,
   "metadata": {
    "collapsed": false,
    "slideshow": {
     "slide_type": "slide"
    }
   },
   "outputs": [
    {
     "name": "stdout",
     "output_type": "stream",
     "text": [
      "-3.8 \n",
      "\n",
      "-3\n",
      "3.8\n"
     ]
    }
   ],
   "source": [
    "numero = -3.8\n",
    "x = int(numero)\n",
    "y = abs(numero)\n",
    "\n",
    "print(numero, '\\n')\n",
    "print(x)\n",
    "print(y)"
   ]
  },
  {
   "cell_type": "markdown",
   "metadata": {
    "slideshow": {
     "slide_type": "slide"
    }
   },
   "source": [
    "Podemos encontrar a lista destas funções na documentação oficial da linguagem Pyhton:\n",
    "\n",
    "[Python Built-in functions](https://docs.python.org/3/library/functions.html)"
   ]
  },
  {
   "cell_type": "markdown",
   "metadata": {
    "slideshow": {
     "slide_type": "slide"
    }
   },
   "source": [
    "## Conversão entre vários tipos de objetos (`int()`, `float()`, `complex()` e `str()`)"
   ]
  },
  {
   "cell_type": "markdown",
   "metadata": {
    "slideshow": {
     "slide_type": "slide"
    }
   },
   "source": [
    "As funções `int()`, `float()`, `complex()` e `str()` fazem conversões para os vários **tipos** de objetos:\n",
    "\n",
    "- **inteiros**\n",
    "- _floats_\n",
    "- **complexos** (em que `j` é a unidade imaginária)\n",
    "- _strings_"
   ]
  },
  {
   "cell_type": "code",
   "execution_count": 13,
   "metadata": {
    "collapsed": false,
    "slideshow": {
     "slide_type": "slide"
    }
   },
   "outputs": [
    {
     "name": "stdout",
     "output_type": "stream",
     "text": [
      "3.8 \n",
      "\n",
      "3\n",
      "(3.8+0j)\n",
      "3.8\n"
     ]
    }
   ],
   "source": [
    "x = 3.8\n",
    "\n",
    "print(x,'\\n')\n",
    "print(int(x))\n",
    "print(complex(x))\n",
    "print(str(x))"
   ]
  },
  {
   "cell_type": "code",
   "execution_count": 14,
   "metadata": {
    "collapsed": false,
    "slideshow": {
     "slide_type": "slide"
    }
   },
   "outputs": [
    {
     "name": "stdout",
     "output_type": "stream",
     "text": [
      "3.4e4 \n",
      "\n",
      "34000.0\n",
      "(34000+0j)\n"
     ]
    }
   ],
   "source": [
    "s = '3.4e4'\n",
    "f = float(s)\n",
    "c = complex(s)\n",
    "\n",
    "print(s, '\\n')\n",
    "print(f)\n",
    "print(c)"
   ]
  },
  {
   "cell_type": "markdown",
   "metadata": {
    "slideshow": {
     "slide_type": "slide"
    }
   },
   "source": [
    "As conversões nem sempre são possíveis...\n"
   ]
  },
  {
   "cell_type": "code",
   "execution_count": 15,
   "metadata": {
    "collapsed": false,
    "slideshow": {
     "slide_type": "slide"
    }
   },
   "outputs": [
    {
     "name": "stdout",
     "output_type": "stream",
     "text": [
      "Vamos ver... \n",
      "\n"
     ]
    },
    {
     "ename": "ValueError",
     "evalue": "could not convert string to float: 'Vamos ver...'",
     "output_type": "error",
     "traceback": [
      "\u001b[0;31m---------------------------------------------------------------------------\u001b[0m",
      "\u001b[0;31mValueError\u001b[0m                                Traceback (most recent call last)",
      "\u001b[0;32m<ipython-input-15-8e9521c426a4>\u001b[0m in \u001b[0;36m<module>\u001b[0;34m()\u001b[0m\n\u001b[1;32m      2\u001b[0m \u001b[0mprint\u001b[0m\u001b[1;33m(\u001b[0m\u001b[0ms\u001b[0m\u001b[1;33m,\u001b[0m \u001b[1;34m'\\n'\u001b[0m\u001b[1;33m)\u001b[0m\u001b[1;33m\u001b[0m\u001b[0m\n\u001b[1;32m      3\u001b[0m \u001b[1;33m\u001b[0m\u001b[0m\n\u001b[0;32m----> 4\u001b[0;31m \u001b[0mprint\u001b[0m\u001b[1;33m(\u001b[0m\u001b[0mfloat\u001b[0m\u001b[1;33m(\u001b[0m\u001b[0ms\u001b[0m\u001b[1;33m)\u001b[0m\u001b[1;33m)\u001b[0m\u001b[1;33m\u001b[0m\u001b[0m\n\u001b[0m",
      "\u001b[0;31mValueError\u001b[0m: could not convert string to float: 'Vamos ver...'"
     ]
    }
   ],
   "source": [
    "s = 'Vamos ver...'\n",
    "print(s, '\\n')\n",
    "\n",
    "print(float(s))"
   ]
  },
  {
   "cell_type": "markdown",
   "metadata": {
    "slideshow": {
     "slide_type": "slide"
    }
   },
   "source": [
    "## Módulos: funções adicionais"
   ]
  },
  {
   "cell_type": "markdown",
   "metadata": {
    "slideshow": {
     "slide_type": "slide"
    }
   },
   "source": [
    "Além das funções integradas, existem muitos **módulos** contendo funções adicionais.\n",
    "\n",
    "Estes módulos têm de ser *importados* para que as funções fiquem disponíveis.\n",
    "\n",
    "Um exemplo é o módulo **math** que contem muitas funções (e algumas constantes) matemáticas:"
   ]
  },
  {
   "cell_type": "code",
   "execution_count": 16,
   "metadata": {
    "collapsed": false,
    "slideshow": {
     "slide_type": "slide"
    }
   },
   "outputs": [
    {
     "name": "stdout",
     "output_type": "stream",
     "text": [
      "ln(2.0) = 0.6931471805599453\n",
      "ln10(2.0 * 5) = 1.0\n",
      "exp(2.0) = 7.38905609893065\n",
      "sin(2.0) = 0.9092974268256817\n"
     ]
    }
   ],
   "source": [
    "import math\n",
    "\n",
    "x = 2.0\n",
    "\n",
    "y = math.log(x)\n",
    "print('ln(2.0) =', y)\n",
    "\n",
    "y = math.log10(x * 5)\n",
    "print('ln10(2.0 * 5) =', y)\n",
    "\n",
    "y = math.exp(x)\n",
    "print('exp(2.0) =', y)\n",
    "\n",
    "y = math.sin(x)\n",
    "print('sin(2.0) =', y)"
   ]
  },
  {
   "cell_type": "code",
   "execution_count": 17,
   "metadata": {
    "collapsed": false,
    "slideshow": {
     "slide_type": "slide"
    }
   },
   "outputs": [
    {
     "name": "stdout",
     "output_type": "stream",
     "text": [
      "sin(90º) = 1.0\n",
      "pi = 3.141592653589793\n",
      "e = 2.718281828459045\n",
      "sin(π / 2) = 1.0\n"
     ]
    }
   ],
   "source": [
    "y = math.sin(math.radians(90))\n",
    "print('sin(90º) =', y)\n",
    "\n",
    "print('pi =', math.pi)\n",
    "\n",
    "print('e =', math.e)\n",
    "\n",
    "y = math.sin(math.pi / 2.0)\n",
    "print('sin(π / 2) =', y)"
   ]
  },
  {
   "cell_type": "code",
   "execution_count": 18,
   "metadata": {
    "collapsed": false,
    "slideshow": {
     "slide_type": "slide"
    }
   },
   "outputs": [
    {
     "name": "stdout",
     "output_type": "stream",
     "text": [
      "100! = 93326215443944152681699238856266700490715968264381621468592963895217599993229915608941463976156518286253697920827223758251185210916864000000000000000000000000\n"
     ]
    }
   ],
   "source": [
    "y = math.factorial(100)\n",
    "print('100! =', y)"
   ]
  },
  {
   "cell_type": "markdown",
   "metadata": {
    "slideshow": {
     "slide_type": "slide"
    }
   },
   "source": [
    "Um outro exemplo é o módulo **calendar** que contem muitas funções relacionadas com datas e calendário.\n",
    "\n",
    "Um exemplo é a função `weekday()`, que, ao ser dado um ano, mês e dia, calcula um número que representa o dia da semana.\n",
    "(0:seg; 1:ter; 2:qua; 3:qui; 4:sex; 5:sa;b 6:dom)"
   ]
  },
  {
   "cell_type": "code",
   "execution_count": 19,
   "metadata": {
    "collapsed": false,
    "slideshow": {
     "slide_type": "slide"
    }
   },
   "outputs": [
    {
     "name": "stdout",
     "output_type": "stream",
     "text": [
      "3\n"
     ]
    }
   ],
   "source": [
    "import calendar\n",
    "\n",
    "print(calendar.weekday(2017, 3, 30))\n",
    "#nota: 0:seg 1:ter 2:qua 3:qui 4:sex 5:sab 6:dom"
   ]
  },
  {
   "cell_type": "markdown",
   "metadata": {
    "slideshow": {
     "slide_type": "slide"
    }
   },
   "source": [
    "Outro exemplo é a função `calendar()`, que constrói uma *string* com um calendário de um determinado ano:"
   ]
  },
  {
   "cell_type": "code",
   "execution_count": 20,
   "metadata": {
    "collapsed": false,
    "slideshow": {
     "slide_type": "slide"
    }
   },
   "outputs": [
    {
     "name": "stdout",
     "output_type": "stream",
     "text": [
      "                                  2017\n",
      "\n",
      "      January                   February                   March\n",
      "Mo Tu We Th Fr Sa Su      Mo Tu We Th Fr Sa Su      Mo Tu We Th Fr Sa Su\n",
      "                   1             1  2  3  4  5             1  2  3  4  5\n",
      " 2  3  4  5  6  7  8       6  7  8  9 10 11 12       6  7  8  9 10 11 12\n",
      " 9 10 11 12 13 14 15      13 14 15 16 17 18 19      13 14 15 16 17 18 19\n",
      "16 17 18 19 20 21 22      20 21 22 23 24 25 26      20 21 22 23 24 25 26\n",
      "23 24 25 26 27 28 29      27 28                     27 28 29 30 31\n",
      "30 31\n",
      "\n",
      "       April                      May                       June\n",
      "Mo Tu We Th Fr Sa Su      Mo Tu We Th Fr Sa Su      Mo Tu We Th Fr Sa Su\n",
      "                1  2       1  2  3  4  5  6  7                1  2  3  4\n",
      " 3  4  5  6  7  8  9       8  9 10 11 12 13 14       5  6  7  8  9 10 11\n",
      "10 11 12 13 14 15 16      15 16 17 18 19 20 21      12 13 14 15 16 17 18\n",
      "17 18 19 20 21 22 23      22 23 24 25 26 27 28      19 20 21 22 23 24 25\n",
      "24 25 26 27 28 29 30      29 30 31                  26 27 28 29 30\n",
      "\n",
      "        July                     August                  September\n",
      "Mo Tu We Th Fr Sa Su      Mo Tu We Th Fr Sa Su      Mo Tu We Th Fr Sa Su\n",
      "                1  2          1  2  3  4  5  6                   1  2  3\n",
      " 3  4  5  6  7  8  9       7  8  9 10 11 12 13       4  5  6  7  8  9 10\n",
      "10 11 12 13 14 15 16      14 15 16 17 18 19 20      11 12 13 14 15 16 17\n",
      "17 18 19 20 21 22 23      21 22 23 24 25 26 27      18 19 20 21 22 23 24\n",
      "24 25 26 27 28 29 30      28 29 30 31               25 26 27 28 29 30\n",
      "31\n",
      "\n",
      "      October                   November                  December\n",
      "Mo Tu We Th Fr Sa Su      Mo Tu We Th Fr Sa Su      Mo Tu We Th Fr Sa Su\n",
      "                   1             1  2  3  4  5                   1  2  3\n",
      " 2  3  4  5  6  7  8       6  7  8  9 10 11 12       4  5  6  7  8  9 10\n",
      " 9 10 11 12 13 14 15      13 14 15 16 17 18 19      11 12 13 14 15 16 17\n",
      "16 17 18 19 20 21 22      20 21 22 23 24 25 26      18 19 20 21 22 23 24\n",
      "23 24 25 26 27 28 29      27 28 29 30               25 26 27 28 29 30 31\n",
      "30 31\n",
      "\n"
     ]
    }
   ],
   "source": [
    "import calendar\n",
    "print(calendar.calendar(2017))"
   ]
  },
  {
   "cell_type": "markdown",
   "metadata": {
    "slideshow": {
     "slide_type": "slide"
    }
   },
   "source": [
    "## Exemplo: raízes da equação do 2º grau"
   ]
  },
  {
   "cell_type": "markdown",
   "metadata": {
    "slideshow": {
     "slide_type": "slide"
    }
   },
   "source": [
    "Exemplo:\n",
    "\n",
    "Calcular as soluções da equação do 2º grau\n",
    "\n",
    "$a x^2 + b x + c = 0$\n",
    "\n",
    "ou seja\n",
    "\n",
    "Dados $a, b$ e $c$, calcular\n",
    "\n",
    "$x_1 = \\frac{-b + \\sqrt{b^2 -4 a c}}{2 a}$ e $x_2 = \\frac{-b - \\sqrt{b^2 -4 a c}}{2 a}$"
   ]
  },
  {
   "cell_type": "code",
   "execution_count": null,
   "metadata": {
    "collapsed": false,
    "slideshow": {
     "slide_type": "slide"
    }
   },
   "outputs": [],
   "source": [
    "print('Este programa calcula x tal que a x2 + b x + c = 0')\n",
    "# testar com os seguintes valores (1,4,1) , (1,2,1) , (1,1,1)\n",
    "\n",
    "a = 1\n",
    "b = 4\n",
    "c = 1\n",
    "\n",
    "rdelta = (b**2.0 - 4.0 * a * c) ** 0.5\n",
    "\n",
    "x1 = (- b + rdelta) / (2.0*a)\n",
    "x2 = (- b - rdelta) / (2.0*a)\n",
    "\n",
    "print(\"x1 =\", x1)\n",
    "print(\"x2 =\", x2)"
   ]
  },
  {
   "cell_type": "markdown",
   "metadata": {
    "slideshow": {
     "slide_type": "skip"
    }
   },
   "source": [
    "Da matemática, sabemos que uma equação do segundo grau pode ter 2 soluções reais, uma solução real \"dupla\", ou duas soluções complexas, que neste caso serão complexos conjugados.\n",
    "\n",
    "Podemos correr o programa várias vezes, para diferentes valores de $a$, $b$, $c$, tentando obter as três situações. Ao fazer isto estamos a **testar** o programa.\n",
    "\n",
    "Para fazer estes testes, basta modificar as linhas que definem os valores para `a`, `b` e `c` e voltar a executar o program.\n",
    "\n",
    "Com a = 1, b = 4, c = 1:\n",
    "\n",
    "```\n",
    "x1 = -0.2679491924311228\n",
    "x2 = -3.732050807568877\n",
    "```\n",
    "\n",
    "Com a = 1, b = 2, c = 1:\n",
    "\n",
    "```\n",
    "x1 = -1.0\n",
    "x2 = -1.0\n",
    "```\n",
    "\n",
    "Com a = 1, b = 1, c = 1:\n",
    "\n",
    "```\n",
    "x1 = (-0.49999999999999994+0.8660254037844386j)\n",
    "x2 = (-0.5-0.8660254037844386j)\n",
    "```"
   ]
  },
  {
   "cell_type": "markdown",
   "metadata": {
    "slideshow": {
     "slide_type": "skip"
    }
   },
   "source": [
    "O programa funciona e parece dar resultados corretos para as três situações pretendidas (embora se note um pequeno erro no caso das duas soluções complexas que deveria ser, exatamente, dois complexos conjugados).\n",
    "\n",
    "No entanto, seria mais adequado se o programa pudesse apresentar uma pequena mensagem que indicasse em qual das três situações está o resultado (2 soluções reais ou uma solução real dupla ou duas soluções complexas).\n",
    "\n",
    "(Podemos também tentar corrigir o pequeno erro).\n",
    "\n",
    "Para isto, o programa deve ter um **comportamento diferente**, consoante o tipo de resultado.\n",
    "\n",
    "Da matemática, sabemos que o que define o tipo de resultado é o valor do \"discriminante\", $\\Delta = b^2 - 4  a  c$..\n",
    "\n",
    "- quando $\\Delta > 0$ temos duas soluções reais.\n",
    "- quando $\\Delta = 0$ temos uma solução real (solução dupla).\n",
    "- quando $\\Delta < 0$ temos duas uma soluções complexas (complexos conjugados).\n",
    "\n",
    "Podemos reescrever o programa de modo a realizar o cálculo das soluções e apresentar uma mensagem de um modo diferente, consoante o valor de $\\Delta$ ?"
   ]
  },
  {
   "cell_type": "markdown",
   "metadata": {
    "slideshow": {
     "slide_type": "slide"
    }
   },
   "source": [
    "## Alternativa `if...else`"
   ]
  },
  {
   "cell_type": "markdown",
   "metadata": {},
   "source": [
    "A linguagem Python permite a execução **alternativa** de blocos de comandos.\n",
    "\n",
    "Continuando com o exemplo anterior, vamos primeiro distinguir o caso das soluções reais ($\\Delta \\geqslant 0$) do caso das soluções complexas ($\\Delta < 0$)."
   ]
  },
  {
   "cell_type": "code",
   "execution_count": null,
   "metadata": {
    "collapsed": false,
    "slideshow": {
     "slide_type": "slide"
    }
   },
   "outputs": [],
   "source": [
    "# Este programa calcula x tal que a x2 + b x + c = 0\n",
    "# testar com os seguintes valores (1,4,1) , (1,2,1) , (1,1,1)\n",
    "\n",
    "a, b, c = 1, 1, 1\n",
    "print('a =', a, 'b =', b,'c =',c, '\\n')\n",
    "\n",
    "# cálculo do discriminante\n",
    "delta = b**2 - 4.0 * a * c\n",
    "\n",
    "# separar soluções reais das complexas\n",
    "if delta < 0.0:\n",
    "    r_delta = (-delta)**0.5 * 1j\n",
    "    print('Soluções complexas:')\n",
    "else:\n",
    "    r_delta = (delta)**0.5\n",
    "    print('Soluções reais:')\n",
    "\n",
    "x1 = (- b + r_delta) / (2.0 * a)\n",
    "x2 = (- b - r_delta) / (2.0 * a)\n",
    "\n",
    "print(\"x1 =\", x1, \", x2 =\", x2)"
   ]
  },
  {
   "cell_type": "markdown",
   "metadata": {
    "slideshow": {
     "slide_type": "skip"
    }
   },
   "source": [
    "Testando agora o programa para as três situações possíveis:\n",
    "\n",
    "$\\Delta > 0$:\n",
    "\n",
    "```\n",
    "a = 1 b = 4 c = 1 \n",
    "\n",
    "Soluções reais:\n",
    "x1 = -0.2679491924311228 , x2 = -3.732050807568877\n",
    "```\n",
    "\n",
    "$\\Delta = 0$:\n",
    "\n",
    "```\n",
    "a = 1 b = 2 c = 1 \n",
    "\n",
    "Soluções reais:\n",
    "x1 = -1.0 , x2 = -1.0\n",
    "```\n",
    "\n",
    "$\\Delta < 0$:\n",
    "\n",
    "```\n",
    "a = 1 b = 1 c = 1 \n",
    "\n",
    "Soluções complexas:\n",
    "x1 = (-0.5+0.8660254037844386j) , x2 = (-0.5-0.8660254037844386j)\n",
    "```\n"
   ]
  },
  {
   "cell_type": "markdown",
   "metadata": {},
   "source": [
    "O programa funciona, agora, sem problemas.\n",
    "\n",
    "É feito um teste ao valor de `delta` à frente do comando `if` e é executado **um** de dois blocos alternativos:\n",
    "\n",
    "- as linhas entre `if` e `else:`, caso `delta` seja negativo, ou\n",
    "- as duas linhas depois de `else:`, caso `delta` seja positivo."
   ]
  },
  {
   "cell_type": "markdown",
   "metadata": {
    "slideshow": {
     "slide_type": "slide"
    }
   },
   "source": [
    "A forma geral de incluir **blocos alternativos** com `if...else` é:\n",
    "\n",
    "```\n",
    "if <condição> :\n",
    "    <comandos para condição verdadeira>\n",
    "else:\n",
    "    <comandos para condição falsa>\n",
    "```"
   ]
  },
  {
   "cell_type": "markdown",
   "metadata": {},
   "source": [
    "Podemos ter várias linhas no bloco `if` e no bloco `else`.\n",
    "\n",
    "É o **alinhamento** das linhas do programa (também chamada identação) que define define os dois blocos:\n",
    "\n",
    "![](images/blocks_if_else.png)"
   ]
  },
  {
   "cell_type": "markdown",
   "metadata": {},
   "source": [
    "Note-se que, no porgrama anterior, as linhas\n",
    "\n",
    "```\n",
    "x1 = (- b + r_delta) / (2.0 * a)\n",
    "x2 = (- b - r_delta) / (2.0 * a)\n",
    "```\n",
    "\n",
    "já **não pertencem** ao bloco `else`. Isto porque o seu alinhamento é (de novo) igual ao de todas as outras linhas fora dos blocos `if...else` (e estão alinhadas com as próprias linhas dos comandos `if` e `else`)"
   ]
  },
  {
   "cell_type": "markdown",
   "metadata": {
    "slideshow": {
     "slide_type": "slide"
    }
   },
   "source": [
    "NOTA: no teste da condição podemos usar:\n",
    "\n",
    "`>` (maior)\n",
    "\n",
    "`<` (menor)\n",
    "\n",
    "`>=` (maior ou igual)\n",
    "\n",
    "`<=` (menor ou igual)\n",
    "\n",
    "`==` (igual. Nota: **são dois sinais de igual consecutivos**)\n",
    "\n",
    "`!=` (diferente)"
   ]
  },
  {
   "cell_type": "markdown",
   "metadata": {},
   "source": [
    "O programa está bem melhor na maneira de apresentar os resultados, separando o caso real do complexo.\n",
    "\n",
    "Mas, perfeito, perfeito, seria tratar o caso em que $\\Delta = 0$ de uma forma diferente, tendo o cuidado de apresentar **um único valor, no caso de uma raíz dupla**.\n",
    "\n",
    "Precisamos, para isso, que o programa possa se adaptar a cada uma das **três alternativas**."
   ]
  },
  {
   "cell_type": "markdown",
   "metadata": {
    "slideshow": {
     "slide_type": "slide"
    }
   },
   "source": [
    "## Alternativas `if...elif...else`"
   ]
  },
  {
   "cell_type": "markdown",
   "metadata": {
    "collapsed": true,
    "slideshow": {
     "slide_type": "slide"
    }
   },
   "source": [
    "Usando o comando `elif` podemos testar **mais do que uma condição** e executar em alternativa e, consequentemente, **mais do que dois blocos** de comandos.\n",
    "\n",
    "Seguindo o exemplo da resolução de uma equação do segundo grau, podemos separar os três casos associados ao valor de $\\Delta$ da seguinte forma:"
   ]
  },
  {
   "cell_type": "code",
   "execution_count": 23,
   "metadata": {
    "collapsed": false,
    "slideshow": {
     "slide_type": "slide"
    }
   },
   "outputs": [
    {
     "name": "stdout",
     "output_type": "stream",
     "text": [
      "a = 1 b = 4 c = 1 \n",
      "\n",
      "Soluções reais:\n",
      "x1 = -0.2679491924311228 , x2 = -3.732050807568877\n"
     ]
    }
   ],
   "source": [
    "# Este programa calcula x tal que a x2 + b x + c = 0\n",
    "# testar com os seguintes valores (1,4,1) , (1,2,1) , (1,1,1)\n",
    "\n",
    "a, b, c = 1, 4, 1\n",
    "print('a =', a, 'b =', b,'c =',c, '\\n')\n",
    "\n",
    "# cálculo do discriminante\n",
    "delta = b**2 - 4.0 * a * c\n",
    "\n",
    "if delta < 0.0:\n",
    "    print('Soluções complexas:')\n",
    "    r_delta = (-delta)**0.5 * 1j\n",
    "    x1 = (- b + r_delta) / (2.0 * a)\n",
    "    x2 = (- b - r_delta) / (2.0 * a)    \n",
    "    print(\"x1 =\", x1, \", x2 =\", x2)\n",
    "elif delta > 0:\n",
    "    print('Soluções reais:')\n",
    "    r_delta = (delta)**0.5\n",
    "    x1 = (- b + r_delta) / (2.0 * a)\n",
    "    x2 = (- b - r_delta) / (2.0 * a)    \n",
    "    print(\"x1 =\", x1, \", x2 =\", x2)\n",
    "else:\n",
    "    print('Solução real (dupla):')\n",
    "    x = -b / (2.0 * a)\n",
    "    print(\"x =\", x)"
   ]
  },
  {
   "cell_type": "markdown",
   "metadata": {},
   "source": [
    "O comando `elif` é uma abreviatura de *else* + *if* e possibilita o teste de uma nova condição para além daquela já usada no comando `if`.\n",
    "\n",
    "Podem ser usados **vários comandos** `elif`."
   ]
  },
  {
   "cell_type": "markdown",
   "metadata": {},
   "source": [
    "E note-se que, mais uma vez, podemos ter várias linhas em cada bloco : o **alinhamento** (_identação_) define os blocos:\n",
    "\n",
    "![](images/blocks_if_elif.png)"
   ]
  },
  {
   "cell_type": "markdown",
   "metadata": {
    "slideshow": {
     "slide_type": "skip"
    }
   },
   "source": [
    "Testando agora o programa para as três situações possíveis:\n",
    "\n",
    "$\\Delta > 0$:\n",
    "\n",
    "```\n",
    "a = 1 b = 4 c = 1 \n",
    "\n",
    "Soluções reais:\n",
    "x1 = -0.2679491924311228 , x2 = -3.732050807568877\n",
    "```\n",
    "\n",
    "$\\Delta = 0$:\n",
    "\n",
    "```\n",
    "a = 1 b = 2 c = 1 \n",
    "\n",
    "Solução real (dupla):\n",
    "x = -1.0\n",
    "```\n",
    "\n",
    "$\\Delta < 0$:\n",
    "\n",
    "```\n",
    "a = 1 b = 1 c = 1 \n",
    "\n",
    "Soluções complexas:\n",
    "x1 = (-0.5+0.8660254037844386j) , x2 = (-0.5-0.8660254037844386j)\n",
    "```\n"
   ]
  },
  {
   "cell_type": "markdown",
   "metadata": {},
   "source": [
    "Pode ser usado todo um conjunto de blocos `if...else...` **\"dentro\"** de um bloco `if` ou `elif` ou `else`.\n",
    "\n",
    "Por exemplo, o o programa também poderia ser escrito da seguinte forma:"
   ]
  },
  {
   "cell_type": "code",
   "execution_count": null,
   "metadata": {
    "collapsed": false,
    "slideshow": {
     "slide_type": "slide"
    }
   },
   "outputs": [],
   "source": [
    "# Este programa calcula x tal que a x2 + b x + c = 0\n",
    "# testar com os seguintes valores (1,4,1) , (1,2,1) , (1,1,1)\n",
    "\n",
    "a, b, c = 1, 4, 1\n",
    "print('a =', a, 'b =', b,'c =',c, '\\n')\n",
    "\n",
    "# cálculo do discriminante\n",
    "delta = b**2 - 4.0 * a * c\n",
    "\n",
    "if delta == 0.0:\n",
    "    print('Solução real (dupla):')\n",
    "    x = -b / (2.0 * a)\n",
    "    print(\"x =\", x)\n",
    "else:\n",
    "    if delta < 0:\n",
    "        print('Soluções complexas:')\n",
    "        r_delta = (-delta)**0.5 * 1j\n",
    "    else:\n",
    "        print('Soluções reais:')\n",
    "        r_delta = (delta)**0.5\n",
    "    \n",
    "    x1 = (- b + r_delta) / (2.0 * a)\n",
    "    x2 = (- b - r_delta) / (2.0 * a)    \n",
    "    print(\"x1 =\", x1, \", x2 =\", x2)\n"
   ]
  },
  {
   "cell_type": "markdown",
   "metadata": {
    "slideshow": {
     "slide_type": "slide"
    }
   },
   "source": [
    "Algumas notas:\n",
    "\n",
    "NOTA: o bloco `else` não é obrigatório. Se não fizer sentido a existência de uma condição alternativa ao `if`, este bloco pode ser omitido.\n",
    "\n",
    "NOTA: no teste da condição podemos usar:\n",
    "\n",
    "- Conjunção lógica: `and`\n",
    "- Disjunção lógica: `or`\n",
    "- Negação: `not`\n",
    "\n",
    "Existem também em Python duas \"constantes\" booleanas:\n",
    "\n",
    "- Verdade: `True`\n",
    "- Falsidade: `False`"
   ]
  },
  {
   "cell_type": "markdown",
   "metadata": {},
   "source": [
    "Vejamos agora um outro exemplo da utilização de blocos alternativos."
   ]
  },
  {
   "cell_type": "markdown",
   "metadata": {
    "slideshow": {
     "slide_type": "slide"
    }
   },
   "source": [
    "**Exemplo: Regra dos anos bissextos**\n",
    "\n",
    "- Se o ano é divisível por 4, então é bissexto\n",
    "\n",
    "Regra em vigor até 1582 (calendário Juliano, de Júlio César)"
   ]
  },
  {
   "cell_type": "code",
   "execution_count": 25,
   "metadata": {
    "collapsed": false
   },
   "outputs": [
    {
     "name": "stdout",
     "output_type": "stream",
     "text": [
      "2015 não é bissexto\n"
     ]
    }
   ],
   "source": [
    "# Este programa determina de um ano é bissexto\n",
    "# Testar com 2015 N, 2012 S, 1900 N, 2000 S\n",
    "\n",
    "a = 2015\n",
    "\n",
    "if a % 4 == 0 and not (a % 100 == 0 and not a % 400 == 0):\n",
    "    print(a , \"é bissexto\")\n",
    "else: \n",
    "    print(a, \"não é bissexto\")"
   ]
  },
  {
   "cell_type": "markdown",
   "metadata": {},
   "source": [
    "Correndo o programa com diferentes valores de a:\n",
    "```\n",
    "2015 nao é bissexto\n",
    "```\n",
    "\n",
    "```\n",
    "2012 é bissexto\n",
    "```\n",
    "\n",
    "```\n",
    "1900 é bissexto\n",
    "```\n",
    "\n",
    "```\n",
    "2000 é bissexto\n",
    "```"
   ]
  },
  {
   "cell_type": "markdown",
   "metadata": {},
   "source": [
    "Este programa parece falhar para 1900. Isto acontece porque, na realidade, a regra actual dos anos bissextos é um pouco mais complexa."
   ]
  },
  {
   "cell_type": "markdown",
   "metadata": {
    "slideshow": {
     "slide_type": "slide"
    }
   },
   "source": [
    "**Exemplo: Regra dos anos bissextos (calendário moderno)**\n",
    "\n",
    "- Se o ano é divisível por 4, então é bissexto\n",
    "\n",
    "- Excepto os que são divisíveis por 100: não são bissextos\n",
    "\n",
    "- Excepto os divisíveis por 100 que sejam exactamente divisíveis por 400: são bissextos.\n",
    "\n",
    "Esta regra entrou em vigor após 1582 (calendário Gregoriano, do papa Gregorio XIII)\n",
    "\n",
    "Da aplicação desta regra resulta que alguns anos de mudança de século (sempre divisíveis por 4) não sejam bissextos. É o caso de 1900. E alguns anos de mudança de século, por exemplo os anos 1600; 2000; 2400, sejam bissextos.\n",
    "\n",
    "Podemos adaptar o programa anterior para incluir as duas últimas regras:"
   ]
  },
  {
   "cell_type": "code",
   "execution_count": 26,
   "metadata": {
    "collapsed": false
   },
   "outputs": [
    {
     "name": "stdout",
     "output_type": "stream",
     "text": [
      "2015 não é bissexto\n"
     ]
    }
   ],
   "source": [
    "a = 2015\n",
    "\n",
    "if a % 4 == 0 and not (a % 100 == 0 and not a % 400 == 0):\n",
    "    print(a , \"é bissexto\")\n",
    "else: \n",
    "    print(a, \"não é bissexto\")"
   ]
  },
  {
   "cell_type": "markdown",
   "metadata": {},
   "source": [
    "Correndo o programa com diferentes valores:\n",
    "```\n",
    "2015 nao é bissexto\n",
    "```\n",
    "\n",
    "```\n",
    "2012 é bissexto\n",
    "```\n",
    "\n",
    "```\n",
    "1900 nao é bissexto\n",
    "```\n",
    "\n",
    "Reparar que o resultado é diferente para 1900.\n",
    "\n",
    "```\n",
    "2000 é bissexto\n",
    "```"
   ]
  },
  {
   "cell_type": "markdown",
   "metadata": {
    "slideshow": {
     "slide_type": "skip"
    }
   },
   "source": [
    "Os interessados na história da introdução do calendário gregoriano podem consultar o artigo\n",
    "\n",
    "[http://en.wikipedia.org/wiki/Gregorian_calendar](http://en.wikipedia.org/wiki/Gregorian_calendar)"
   ]
  },
  {
   "cell_type": "markdown",
   "metadata": {},
   "source": [
    "É desaconselhável escrever uma condição tão complicada num comando `if`: prejudica muito a legibilidade do programa.\n",
    "\n",
    "Um programa equivalente, combinando vários blocos de `if...else...` e a negação lógica `not` que será (possivelmente) mais fácil de perceber é:"
   ]
  },
  {
   "cell_type": "code",
   "execution_count": 13,
   "metadata": {
    "collapsed": false
   },
   "outputs": [
    {
     "name": "stdout",
     "output_type": "stream",
     "text": [
      "2015 não é bissexto\n"
     ]
    }
   ],
   "source": [
    "a = 2015\n",
    "\n",
    "if not a % 4 == 0:\n",
    "    print(a, \"não é bissexto\")\n",
    "else:\n",
    "    if not a % 100 == 0:\n",
    "        print(a , \"é bissexto\")\n",
    "    else:\n",
    "        if a % 400 == 0:\n",
    "            print(a , \"é bissexto\")\n",
    "        else:\n",
    "            print(a , \"não é bissexto\")"
   ]
  },
  {
   "cell_type": "markdown",
   "metadata": {},
   "source": [
    "Correndo o programa com diferentes valores de a:\n",
    "\n",
    "```\n",
    "2015 não é bissexto\n",
    "2012 é bissexto\n",
    "1900 não é bissexto\n",
    "2000 é bissexto\n",
    "```"
   ]
  },
  {
   "cell_type": "markdown",
   "metadata": {
    "slideshow": {
     "slide_type": "slide"
    }
   },
   "source": [
    "## Função `input()`"
   ]
  },
  {
   "cell_type": "markdown",
   "metadata": {},
   "source": [
    "Até agora, nos exemplos foram apresentados, são incluídos no programa os valores a partir dos quais se fazem os cálculos (tradicionalmente chamados o *input* do programa).\n",
    "\n",
    "Por exemplo, nos exemplos da resolução de uma equação do segundo grau incluímos no princípio do programa os valores dos coeficientes:\n",
    "\n",
    "```\n",
    "a, b, c = 1, 4, 1\n",
    "```\n",
    "\n",
    "Os programas partem destes valores, realizam cálculos e apresentam resultados."
   ]
  },
  {
   "cell_type": "markdown",
   "metadata": {},
   "source": [
    "A linguagem Python suporta também um outro mecanismo: **o pedido de valores ao** *utilizador* durante a execução do programa."
   ]
  },
  {
   "cell_type": "markdown",
   "metadata": {},
   "source": [
    "A função `input()` tem este papel: duarnte a execução de um programa, ao passar por uma função `input()` o programa pára esperando que seja introduzido uma *string*. A função permite também seja apresentada uma mensagem de indicação do que está a ser pedido."
   ]
  },
  {
   "cell_type": "markdown",
   "metadata": {},
   "source": [
    "Vejamos com um exemplo:"
   ]
  },
  {
   "cell_type": "code",
   "execution_count": 3,
   "metadata": {
    "collapsed": false
   },
   "outputs": [
    {
     "name": "stdout",
     "output_type": "stream",
     "text": [
      "Valor de a? 1\n",
      "Valor de b? 1\n",
      "Valor de c? 1\n",
      "Soluções complexas:\n",
      "x1 = (-0.5+0.8660254037844386j) , x2 = (-0.5-0.8660254037844386j)\n"
     ]
    }
   ],
   "source": [
    "a = input('Valor de a? ')\n",
    "b = input('Valor de b? ')\n",
    "c = input('Valor de c? ')\n",
    "\n",
    "a = float(a)\n",
    "b = float(b)\n",
    "c = float(c)\n",
    "\n",
    "# cálculo do discriminante\n",
    "delta = b**2 - 4.0 * a * c\n",
    "\n",
    "if delta == 0.0:\n",
    "    print('Solução real (dupla):')\n",
    "    x = -b / (2.0 * a)\n",
    "    print(\"x =\", x)\n",
    "else:\n",
    "    if delta < 0:\n",
    "        print('Soluções complexas:')\n",
    "        r_delta = (-delta)**0.5 * 1j\n",
    "    else:\n",
    "        print('Soluções reais:')\n",
    "        r_delta = (delta)**0.5\n",
    "    \n",
    "    x1 = (- b + r_delta) / (2.0 * a)\n",
    "    x2 = (- b - r_delta) / (2.0 * a)    \n",
    "    print(\"x1 =\", x1, \", x2 =\", x2)"
   ]
  },
  {
   "cell_type": "markdown",
   "metadata": {},
   "source": [
    "Executando este programa várias vezes, testeando com os diferentes casos, agora os valores dos coeficientes são \"pedidos\" pelo programa:\n",
    "\n",
    "```\n",
    "Valor de a? 1\n",
    "Valor de b? 4\n",
    "Valor de c? 1\n",
    "Soluções reais:\n",
    "x1 = -0.2679491924311228 , x2 = -3.732050807568877\n",
    "```\n",
    "\n",
    "```\n",
    "Valor de a? 1\n",
    "Valor de b? 2\n",
    "Valor de c? 1\n",
    "Solução real (dupla):\n",
    "x = -1.0\n",
    "```\n",
    "\n",
    "```\n",
    "Valor de a? 1\n",
    "Valor de b? 1\n",
    "Valor de c? 1\n",
    "Soluções complexas:\n",
    "x1 = (-0.5+0.8660254037844386j) , x2 = (-0.5-0.8660254037844386j)\n",
    "```"
   ]
  }
 ],
 "metadata": {
  "anaconda-cloud": {},
  "kernelspec": {
   "display_name": "Python [default]",
   "language": "python",
   "name": "python3"
  },
  "language_info": {
   "codemirror_mode": {
    "name": "ipython",
    "version": 3
   },
   "file_extension": ".py",
   "mimetype": "text/x-python",
   "name": "python",
   "nbconvert_exporter": "python",
   "pygments_lexer": "ipython3",
   "version": "3.5.2"
  }
 },
 "nbformat": 4,
 "nbformat_minor": 0
}
