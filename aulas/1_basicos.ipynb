{
 "cells": [
  {
   "cell_type": "markdown",
   "metadata": {
    "slideshow": {
     "slide_type": "slide"
    }
   },
   "source": [
    "# Conceitos básicos"
   ]
  },
  {
   "cell_type": "markdown",
   "metadata": {
    "slideshow": {
     "slide_type": "slide"
    }
   },
   "source": [
    "## Objetos e função `print`"
   ]
  },
  {
   "cell_type": "code",
   "execution_count": 1,
   "metadata": {
    "collapsed": false,
    "slideshow": {
     "slide_type": "-"
    }
   },
   "outputs": [
    {
     "name": "stdout",
     "output_type": "stream",
     "text": [
      "4\n",
      "3.2\n",
      "9.0\n",
      "2.0\n"
     ]
    }
   ],
   "source": [
    "print(4)\n",
    "print(3.2)\n",
    "print(9.0)\n",
    "print( ((3+9)/3.0)**0.5 )"
   ]
  },
  {
   "cell_type": "markdown",
   "metadata": {
    "slideshow": {
     "slide_type": "slide"
    }
   },
   "source": [
    "Nas expressões podemos usar:\n",
    "\n",
    "- os cinco operadores `+ - * / **` (`**` é a potenciação)\n",
    "- vários níveis de `()`\n",
    "- o operador `%`: o resto da divisão (por exemplo, `5 % 3` tem como resultado `2`)"
   ]
  },
  {
   "cell_type": "code",
   "execution_count": 2,
   "metadata": {
    "collapsed": false,
    "slideshow": {
     "slide_type": "slide"
    }
   },
   "outputs": [
    {
     "name": "stdout",
     "output_type": "stream",
     "text": [
      "quinta feira\n",
      "hoje é quinta feira, 17\n"
     ]
    }
   ],
   "source": [
    "print('quinta feira')\n",
    "print('hoje', 'é', \"quinta feira,\", 17)"
   ]
  },
  {
   "cell_type": "markdown",
   "metadata": {},
   "source": [
    "Pequenos textos entre `\"\"` ou `''` são _strings_. São sequências de caracteres (os espaços e pontuação, desde que estejam entre as aspas contam como caracteres.\n",
    "\n",
    "A função `print` pode ser usada com vários objetos a apresentar, separados por vírgulas. É inserido um espaço entre os vários objetos. Note-se que, com as _strings_, as aspas são eliminadas."
   ]
  },
  {
   "cell_type": "markdown",
   "metadata": {
    "slideshow": {
     "slide_type": "slide"
    }
   },
   "source": [
    "## Atribuição de nomes a \"objetos\""
   ]
  },
  {
   "cell_type": "markdown",
   "metadata": {},
   "source": [
    "**Este é um dos mais fundamentais comandos em programação!**\n",
    "\n",
    "A forma geral é\n",
    "\n",
    "```\n",
    "<nome> = <expressão>\n",
    "```\n",
    "\n",
    "Depois de uma atribuição, **o nome pode ser usado em vez do valor do objeto ou expressão**. Mesmo em atribuições seguintes, no comando `print`, etc."
   ]
  },
  {
   "cell_type": "code",
   "execution_count": 3,
   "metadata": {
    "collapsed": false,
    "slideshow": {
     "slide_type": "-"
    }
   },
   "outputs": [
    {
     "name": "stdout",
     "output_type": "stream",
     "text": [
      "4\n",
      "3.2\n",
      "7.2 2.6832815729997477\n",
      "Olá, quinta feira \n",
      "sala 8.2.39\n",
      "\n",
      "Olá, quinta feira sala 8.2.39\n"
     ]
    }
   ],
   "source": [
    "a = 4\n",
    "b = 3.2\n",
    "c = a + b\n",
    "d = (a + b)**0.5\n",
    "print(a)\n",
    "print(b)\n",
    "print(c, d)\n",
    "\n",
    "hoje = \"Olá, quinta feira \"\n",
    "local = \"sala 8.2.39\"\n",
    "onde = hoje + local\n",
    "print(hoje)\n",
    "print(local)\n",
    "print()\n",
    "print(onde)"
   ]
  },
  {
   "cell_type": "markdown",
   "metadata": {},
   "source": [
    "**Que nomes podemos usar?**\n",
    "\n",
    "As regras são:\n",
    "\n",
    "1. Um nome é uma combinação de letras minúsculas (a to z) ou maiúsculas (A to Z) não acentuadas ou dígitos (0 to 9) ou o _underscore_. Nomes como `x`, `Km_1` ou `velocidade_da_reaccao` são exemplos válidos.\n",
    "2. Um nome não pode começar com um dígito. `1x` é inválido, mas `x1` é aceitável.\n",
    "3. Palavras usadas como comandos da linguagem (_keywords_) não são permitidas (por exemplo, `print`).\n",
    "\n",
    "![](images/piso_2.jpg)\n",
    "\n",
    "Não são permitidos espaços ou símbolos como `!, @, #, %` nos nomes."
   ]
  },
  {
   "cell_type": "markdown",
   "metadata": {
    "slideshow": {
     "slide_type": "slide"
    }
   },
   "source": [
    "**tipos de objetos vistos até agora**\n",
    "\n",
    "- **inteiros**\n",
    "- _floats_\n",
    "- _strings_\n",
    "\n",
    "Existem também os **complexos** (em que `j` é a unidade imaginária):"
   ]
  },
  {
   "cell_type": "code",
   "execution_count": 4,
   "metadata": {
    "collapsed": false
   },
   "outputs": [
    {
     "name": "stdout",
     "output_type": "stream",
     "text": [
      "(4+2j)\n",
      "\n",
      "4.0\n",
      "2.0\n",
      "\n",
      "c * d = (-8+16j)\n"
     ]
    }
   ],
   "source": [
    "c = 4+2j\n",
    "\n",
    "print(c)\n",
    "print()\n",
    "print(c.real)\n",
    "print(c.imag)\n",
    "print()\n",
    "\n",
    "d = 4j\n",
    "\n",
    "print('c * d =', c * d)"
   ]
  },
  {
   "cell_type": "markdown",
   "metadata": {},
   "source": [
    "## Alteração dos objetos associados a um nome"
   ]
  },
  {
   "cell_type": "markdown",
   "metadata": {
    "slideshow": {
     "slide_type": "slide"
    }
   },
   "source": [
    "Durante a execução de um programa, os objetos associados a um mesmo nome podem variar:"
   ]
  },
  {
   "cell_type": "code",
   "execution_count": 5,
   "metadata": {
    "collapsed": false
   },
   "outputs": [
    {
     "name": "stdout",
     "output_type": "stream",
     "text": [
      "a = 3\n",
      "b = 5\n",
      "c = 8\n"
     ]
    }
   ],
   "source": [
    "a = 2\n",
    "b = 3\n",
    "c = 'Olá'\n",
    "\n",
    "b = a + b\n",
    "a = a + 1\n",
    "c = a + b\n",
    "\n",
    "print(\"a =\", a)\n",
    "print(\"b =\", b)\n",
    "print(\"c =\", c)"
   ]
  },
  {
   "cell_type": "markdown",
   "metadata": {
    "slideshow": {
     "slide_type": "slide"
    }
   },
   "source": [
    "## Comentários"
   ]
  },
  {
   "cell_type": "code",
   "execution_count": 6,
   "metadata": {
    "collapsed": false,
    "slideshow": {
     "slide_type": "-"
    }
   },
   "outputs": [
    {
     "name": "stdout",
     "output_type": "stream",
     "text": [
      "a = 3 b = experiência c = 2.5 d = 7\n"
     ]
    }
   ],
   "source": [
    "# Estas duas linhas são comentários (começam por #)\n",
    "# Podemos dar nomes a vários objetos de uma só vez\n",
    "a, b = 3, \"experiência\"\n",
    "c, d = 2.5, 3+4\n",
    "\n",
    "print(\"a =\", a, \"b =\", b, \"c =\", c, \"d =\", d)"
   ]
  },
  {
   "cell_type": "code",
   "execution_count": 7,
   "metadata": {
    "collapsed": false,
    "slideshow": {
     "slide_type": "slide"
    }
   },
   "outputs": [
    {
     "name": "stdout",
     "output_type": "stream",
     "text": [
      "a = 3 b = 4\n",
      "a = 4 b = 3\n"
     ]
    }
   ],
   "source": [
    "a, b = 3,4\n",
    "print(\"a =\", a, \"b =\", b)\n",
    "\n",
    "# Podemos trocar dois nomes desta maneira\n",
    "a, b = b, a\n",
    "print(\"a =\", a, \"b =\", b)"
   ]
  },
  {
   "cell_type": "markdown",
   "metadata": {},
   "source": [
    "## Funções disponíveis \"integradas\" na linguagem (ex. `print()`, `abs()` e `int()`)"
   ]
  },
  {
   "cell_type": "markdown",
   "metadata": {},
   "source": [
    "Além da função `print()`, as funções `int()` e `abs()` fazem parte integrante da linguagem Python."
   ]
  },
  {
   "cell_type": "code",
   "execution_count": 8,
   "metadata": {
    "collapsed": false,
    "slideshow": {
     "slide_type": "slide"
    }
   },
   "outputs": [
    {
     "name": "stdout",
     "output_type": "stream",
     "text": [
      "-3.8\n",
      "\n",
      "-3\n",
      "3.8\n"
     ]
    }
   ],
   "source": [
    "numero = -3.8\n",
    "x = int(numero)\n",
    "y = abs(numero)\n",
    "\n",
    "print(numero)\n",
    "print()\n",
    "print(x)\n",
    "print(y)"
   ]
  },
  {
   "cell_type": "markdown",
   "metadata": {
    "slideshow": {
     "slide_type": "slide"
    }
   },
   "source": [
    "Pode encontrar a lista destas funções na documentação\n",
    "\n",
    "[Python Built-in functions](https://docs.python.org/3/library/functions.html)"
   ]
  },
  {
   "cell_type": "markdown",
   "metadata": {},
   "source": [
    "## Conversão entre vários tipos de objetos (`int()`, `float()`, `complex()` e `str()`)"
   ]
  },
  {
   "cell_type": "markdown",
   "metadata": {
    "slideshow": {
     "slide_type": "slide"
    }
   },
   "source": [
    "As funções `int()`, `float()`, `complex()` e `str()` fazem conversões para os vários **tipos** de objetos:\n",
    "\n",
    "- **inteiros**\n",
    "- _floats_\n",
    "- **complexos** (em que `j` é a unidade imaginária)\n",
    "- _strings_"
   ]
  },
  {
   "cell_type": "code",
   "execution_count": 9,
   "metadata": {
    "collapsed": false,
    "slideshow": {
     "slide_type": "slide"
    }
   },
   "outputs": [
    {
     "name": "stdout",
     "output_type": "stream",
     "text": [
      "3.8\n",
      "\n",
      "3\n",
      "(3.8+0j)\n",
      "3.8\n"
     ]
    }
   ],
   "source": [
    "x = 3.8\n",
    "i = int(x)\n",
    "c = complex(x)\n",
    "s = str(x)\n",
    "\n",
    "print(x)\n",
    "print()\n",
    "print(i)\n",
    "print(c)\n",
    "print(s)"
   ]
  },
  {
   "cell_type": "code",
   "execution_count": 10,
   "metadata": {
    "collapsed": false,
    "slideshow": {
     "slide_type": "slide"
    }
   },
   "outputs": [
    {
     "name": "stdout",
     "output_type": "stream",
     "text": [
      "3.4e4\n",
      "\n",
      "34000.0\n",
      "(34000+0j)\n"
     ]
    }
   ],
   "source": [
    "s = '3.4e4'\n",
    "f = float(s)\n",
    "c = complex(s)\n",
    "\n",
    "print(s)\n",
    "print()\n",
    "print(f)\n",
    "print(c)"
   ]
  },
  {
   "cell_type": "markdown",
   "metadata": {
    "slideshow": {
     "slide_type": "slide"
    }
   },
   "source": [
    "As conversões nem sempre são possíveis...\n"
   ]
  },
  {
   "cell_type": "code",
   "execution_count": 11,
   "metadata": {
    "collapsed": false,
    "slideshow": {
     "slide_type": "slide"
    }
   },
   "outputs": [
    {
     "name": "stdout",
     "output_type": "stream",
     "text": [
      "Vamos ver...\n",
      "\n"
     ]
    },
    {
     "ename": "ValueError",
     "evalue": "could not convert string to float: 'Vamos ver...'",
     "output_type": "error",
     "traceback": [
      "\u001b[0;31m---------------------------------------------------------------------------\u001b[0m",
      "\u001b[0;31mValueError\u001b[0m                                Traceback (most recent call last)",
      "\u001b[0;32m<ipython-input-11-2a3ee7e8d49e>\u001b[0m in \u001b[0;36m<module>\u001b[0;34m()\u001b[0m\n\u001b[1;32m      2\u001b[0m \u001b[0mprint\u001b[0m\u001b[1;33m(\u001b[0m\u001b[0ms\u001b[0m\u001b[1;33m)\u001b[0m\u001b[1;33m\u001b[0m\u001b[0m\n\u001b[1;32m      3\u001b[0m \u001b[0mprint\u001b[0m\u001b[1;33m(\u001b[0m\u001b[1;33m)\u001b[0m\u001b[1;33m\u001b[0m\u001b[0m\n\u001b[0;32m----> 4\u001b[0;31m \u001b[0mf\u001b[0m \u001b[1;33m=\u001b[0m \u001b[0mfloat\u001b[0m\u001b[1;33m(\u001b[0m\u001b[0ms\u001b[0m\u001b[1;33m)\u001b[0m\u001b[1;33m\u001b[0m\u001b[0m\n\u001b[0m\u001b[1;32m      5\u001b[0m \u001b[0mprint\u001b[0m\u001b[1;33m(\u001b[0m\u001b[0mf\u001b[0m\u001b[1;33m)\u001b[0m\u001b[1;33m\u001b[0m\u001b[0m\n",
      "\u001b[0;31mValueError\u001b[0m: could not convert string to float: 'Vamos ver...'"
     ]
    }
   ],
   "source": [
    "s = 'Vamos ver...'\n",
    "print(s)\n",
    "print()\n",
    "f = float(s)\n",
    "print(f)"
   ]
  },
  {
   "cell_type": "markdown",
   "metadata": {},
   "source": [
    "## Módulos: funções adicionais"
   ]
  },
  {
   "cell_type": "markdown",
   "metadata": {
    "slideshow": {
     "slide_type": "slide"
    }
   },
   "source": [
    "Além das funções integradas, existem muitos **módulos** contendo funções adicionais.\n",
    "\n",
    "Estes módulos têm de ser *importados* para que as funções fiquem disponíveis.\n",
    "\n",
    "Um exemplo com o módulo **math** que contem muitas funções (e algumas constantes) matemáticas:"
   ]
  },
  {
   "cell_type": "code",
   "execution_count": 12,
   "metadata": {
    "collapsed": false
   },
   "outputs": [
    {
     "name": "stdout",
     "output_type": "stream",
     "text": [
      "ln(2.0) = 0.6931471805599453\n",
      "ln10(2.0 * 5) = 1.0\n",
      "exp(2.0) = 7.38905609893065\n",
      "sin(2.0) = 0.9092974268256817\n"
     ]
    }
   ],
   "source": [
    "import math\n",
    "\n",
    "x = 2.0\n",
    "\n",
    "y = math.log(x)\n",
    "print('ln(2.0) =', y)\n",
    "\n",
    "y = math.log10(x * 5)\n",
    "print('ln10(2.0 * 5) =', y)\n",
    "\n",
    "y = math.exp(x)\n",
    "print('exp(2.0) =', y)\n",
    "\n",
    "y = math.sin(x)\n",
    "print('sin(2.0) =', y)"
   ]
  },
  {
   "cell_type": "code",
   "execution_count": 13,
   "metadata": {
    "collapsed": false
   },
   "outputs": [
    {
     "name": "stdout",
     "output_type": "stream",
     "text": [
      "sin(90º) = 1.0\n",
      "pi = 3.141592653589793\n",
      "e = 2.718281828459045\n",
      "sin(π / 2) = 1.0\n"
     ]
    }
   ],
   "source": [
    "y = math.sin(math.radians(90))\n",
    "print('sin(90º) =', y)\n",
    "\n",
    "print('pi =', math.pi)\n",
    "\n",
    "print('e =', math.e)\n",
    "\n",
    "y = math.sin(math.pi / 2.0)\n",
    "print('sin(π / 2) =', y)"
   ]
  },
  {
   "cell_type": "code",
   "execution_count": 14,
   "metadata": {
    "collapsed": false,
    "slideshow": {
     "slide_type": "slide"
    }
   },
   "outputs": [
    {
     "name": "stdout",
     "output_type": "stream",
     "text": [
      "100! = 93326215443944152681699238856266700490715968264381621468592963895217599993229915608941463976156518286253697920827223758251185210916864000000000000000000000000\n"
     ]
    }
   ],
   "source": [
    "y = math.factorial(100)\n",
    "print('100! =', y)"
   ]
  },
  {
   "cell_type": "code",
   "execution_count": 15,
   "metadata": {
    "collapsed": false,
    "slideshow": {
     "slide_type": "slide"
    }
   },
   "outputs": [
    {
     "name": "stdout",
     "output_type": "stream",
     "text": [
      "Data:\n",
      "8 / 3 / 2017\n",
      "Hora 18 hr 36 min\n",
      "\n",
      "Time zone ('GMT Standard Time', 'GMT Daylight Time')\n"
     ]
    }
   ],
   "source": [
    "import time\n",
    "\n",
    "agora = time.localtime()\n",
    "\n",
    "d = agora.tm_mday\n",
    "m = agora.tm_mon\n",
    "a = agora.tm_year\n",
    "\n",
    "h = agora.tm_hour\n",
    "min = agora.tm_min\n",
    "\n",
    "print(\"Data:\")\n",
    "print(d, '/', m, '/', a)\n",
    "\n",
    "print('Hora', h, 'hr', min, 'min')\n",
    "\n",
    "print()\n",
    "print(\"Time zone\", time.tzname)"
   ]
  },
  {
   "cell_type": "code",
   "execution_count": 16,
   "metadata": {
    "collapsed": false,
    "slideshow": {
     "slide_type": "slide"
    }
   },
   "outputs": [
    {
     "name": "stdout",
     "output_type": "stream",
     "text": [
      "3\n",
      "                                  2017\n",
      "\n",
      "      January                   February                   March\n",
      "Mo Tu We Th Fr Sa Su      Mo Tu We Th Fr Sa Su      Mo Tu We Th Fr Sa Su\n",
      "                   1             1  2  3  4  5             1  2  3  4  5\n",
      " 2  3  4  5  6  7  8       6  7  8  9 10 11 12       6  7  8  9 10 11 12\n",
      " 9 10 11 12 13 14 15      13 14 15 16 17 18 19      13 14 15 16 17 18 19\n",
      "16 17 18 19 20 21 22      20 21 22 23 24 25 26      20 21 22 23 24 25 26\n",
      "23 24 25 26 27 28 29      27 28                     27 28 29 30 31\n",
      "30 31\n",
      "\n",
      "       April                      May                       June\n",
      "Mo Tu We Th Fr Sa Su      Mo Tu We Th Fr Sa Su      Mo Tu We Th Fr Sa Su\n",
      "                1  2       1  2  3  4  5  6  7                1  2  3  4\n",
      " 3  4  5  6  7  8  9       8  9 10 11 12 13 14       5  6  7  8  9 10 11\n",
      "10 11 12 13 14 15 16      15 16 17 18 19 20 21      12 13 14 15 16 17 18\n",
      "17 18 19 20 21 22 23      22 23 24 25 26 27 28      19 20 21 22 23 24 25\n",
      "24 25 26 27 28 29 30      29 30 31                  26 27 28 29 30\n",
      "\n",
      "        July                     August                  September\n",
      "Mo Tu We Th Fr Sa Su      Mo Tu We Th Fr Sa Su      Mo Tu We Th Fr Sa Su\n",
      "                1  2          1  2  3  4  5  6                   1  2  3\n",
      " 3  4  5  6  7  8  9       7  8  9 10 11 12 13       4  5  6  7  8  9 10\n",
      "10 11 12 13 14 15 16      14 15 16 17 18 19 20      11 12 13 14 15 16 17\n",
      "17 18 19 20 21 22 23      21 22 23 24 25 26 27      18 19 20 21 22 23 24\n",
      "24 25 26 27 28 29 30      28 29 30 31               25 26 27 28 29 30\n",
      "31\n",
      "\n",
      "      October                   November                  December\n",
      "Mo Tu We Th Fr Sa Su      Mo Tu We Th Fr Sa Su      Mo Tu We Th Fr Sa Su\n",
      "                   1             1  2  3  4  5                   1  2  3\n",
      " 2  3  4  5  6  7  8       6  7  8  9 10 11 12       4  5  6  7  8  9 10\n",
      " 9 10 11 12 13 14 15      13 14 15 16 17 18 19      11 12 13 14 15 16 17\n",
      "16 17 18 19 20 21 22      20 21 22 23 24 25 26      18 19 20 21 22 23 24\n",
      "23 24 25 26 27 28 29      27 28 29 30               25 26 27 28 29 30 31\n",
      "30 31\n",
      "\n"
     ]
    }
   ],
   "source": [
    "import calendar\n",
    "\n",
    "print(calendar.weekday(2017, 3, 30))\n",
    "#nota: 0:seg 1:ter 2:qua 3:qui 4:sex 5:sab 6:dom\n",
    "\n",
    "print(calendar.calendar(2017))"
   ]
  },
  {
   "cell_type": "markdown",
   "metadata": {
    "slideshow": {
     "slide_type": "slide"
    }
   },
   "source": [
    "## Exemplo: raízes da equação do 2º grau"
   ]
  },
  {
   "cell_type": "markdown",
   "metadata": {},
   "source": [
    "Exemplo:\n",
    "\n",
    "Calcular as soluções da equação do 2º grau\n",
    "\n",
    "$a x^2 + b x + c = 0$\n",
    "\n",
    "ou seja\n",
    "\n",
    "Dados $a, b$ e $c$, calcular\n",
    "\n",
    "$x_1 = \\frac{-b + \\sqrt{b^2 -4 a c}}{2 a}$ e $x_2 = \\frac{-b - \\sqrt{b^2 -4 a c}}{2 a}$"
   ]
  },
  {
   "cell_type": "code",
   "execution_count": 17,
   "metadata": {
    "collapsed": false,
    "slideshow": {
     "slide_type": "-"
    }
   },
   "outputs": [
    {
     "name": "stdout",
     "output_type": "stream",
     "text": [
      "Este programa calcula x tal que a x2 + b x + c = 0\n",
      "x1 = (-0.49999999999999994+0.8660254037844386j)\n",
      "x2 = (-0.5-0.8660254037844386j)\n"
     ]
    }
   ],
   "source": [
    "print('Este programa calcula x tal que a x2 + b x + c = 0')\n",
    "# testar com os seguintes valores (1,4,1) , (1,2,1) , (1,1,1)\n",
    "\n",
    "a = 1\n",
    "b = 1\n",
    "c = 1\n",
    "\n",
    "a = float(a)\n",
    "b = float(b)\n",
    "c = float(c)\n",
    "rdelta = complex(b**2 - 4 * a * c) ** 0.5\n",
    "\n",
    "x1 = (- b + rdelta) / (2.0*a)\n",
    "x2 = (- b - rdelta) / (2.0*a)\n",
    "\n",
    "print(\"x1 =\", x1)\n",
    "print(\"x2 =\", x2)"
   ]
  },
  {
   "cell_type": "markdown",
   "metadata": {},
   "source": [
    "Correndo o programa com diferentes valores de `a`, `b` e `c`:\n",
    "```\n",
    "a = 1\n",
    "b = 2\n",
    "c = 1\n",
    "\n",
    "x1 = (-1+0j)\n",
    "x2 = (-1+0j)\n",
    "```\n",
    "\n",
    "```\n",
    "a = 1\n",
    "b = 4\n",
    "c = 1\n",
    "\n",
    "x1 = (-0.267949192431+0j)\n",
    "x2 = (-3.73205080757+0j)\n",
    "```\n",
    "\n",
    "```\n",
    "a = 1\n",
    "b = 1\n",
    "c = 1\n",
    "\n",
    "x1 = (-0.5+0.866025403784j)\n",
    "x2 = (-0.5-0.866025403784j)\n",
    "```"
   ]
  },
  {
   "cell_type": "markdown",
   "metadata": {},
   "source": [
    "O programa funciona e os resultados estão corretos, se considerarmos que os numeros reais podem ser considerados numeros complexos.\n",
    "\n",
    "No entanto, seria mais adequado que os resultados apresentados pelo programa pudessem **distinguir os casos de soluções complexas dos de soluções reais** apresentando, neste último caso, valores com aspeto de numeros reais:\n",
    "\n",
    "`-3.73205080757` em vez de `-3.73205080757+0j`."
   ]
  },
  {
   "cell_type": "markdown",
   "metadata": {
    "slideshow": {
     "slide_type": "slide"
    }
   },
   "source": [
    "## Alternativa `if...else`"
   ]
  },
  {
   "cell_type": "code",
   "execution_count": 18,
   "metadata": {
    "collapsed": false,
    "slideshow": {
     "slide_type": "slide"
    }
   },
   "outputs": [
    {
     "name": "stdout",
     "output_type": "stream",
     "text": [
      "x1 = -0.2679491924311228 , x2 = -3.732050807568877\n"
     ]
    }
   ],
   "source": [
    "# Este programa calcula x tal que a x2 + b x + c = 0\n",
    "# testar com os seguintes valores (1,4,1) , (1,2,1) , (1,1,1)\n",
    "\n",
    "a, b, c = 1, 4, 1\n",
    "a, b, c = float(a), float(b), float(c)\n",
    "\n",
    "# cálculo do discriminante\n",
    "discrim = b**2 - 4.0 * a * c\n",
    "\n",
    "#separar soluções reais das complexas\n",
    "if discrim < 0.0:\n",
    "    rdelta = complex(discrim)**0.5\n",
    "else:\n",
    "    rdelta = float(discrim)**0.5\n",
    "\n",
    "x1 = (- b + rdelta) / (2.0 * a)\n",
    "x2 = (- b - rdelta) / (2.0 * a)\n",
    "\n",
    "print(\"x1 =\", x1, \", x2 =\", x2)"
   ]
  },
  {
   "cell_type": "markdown",
   "metadata": {
    "slideshow": {
     "slide_type": "slide"
    }
   },
   "source": [
    "**Forma geral das instruções alternativas** `if...else`:\n",
    "\n",
    "```\n",
    "if <condição> :\n",
    "    <comandos para condição verdadeira>\n",
    "else:\n",
    "    <comandos para condição falsa>\n",
    "```"
   ]
  },
  {
   "cell_type": "markdown",
   "metadata": {
    "slideshow": {
     "slide_type": "slide"
    }
   },
   "source": [
    "No teste da condição podemos usar:\n",
    "\n",
    "`>` (maior)\n",
    "\n",
    "`<` (menor)\n",
    "\n",
    "`>=` (maior ou igual)\n",
    "\n",
    "`<=` (menor ou igual)\n",
    "\n",
    "`==` (igual **são dois sinais de igual consecutivos**)\n",
    "\n",
    "`!=` (diferente)"
   ]
  },
  {
   "cell_type": "markdown",
   "metadata": {},
   "source": [
    "Correndo agora o programa com diferentes valores de `a`, `b` e `c`:\n",
    "```\n",
    "a = 1\n",
    "b = 2\n",
    "c = 1\n",
    "\n",
    "x1 = -1.0 , x2 = -1.0\n",
    "```\n",
    "\n",
    "```\n",
    "a = 1\n",
    "b = 4\n",
    "c = 1\n",
    "\n",
    "x1 = -0.267949192431 , x2 = -3.73205080757\n",
    "```\n",
    "\n",
    "```\n",
    "a = 1\n",
    "b = 1\n",
    "c = 1\n",
    "\n",
    "x1 = (-0.5+0.866025403784j) , x2 = (-0.5-0.866025403784j)\n",
    "```"
   ]
  },
  {
   "cell_type": "markdown",
   "metadata": {},
   "source": [
    "O programa está bem melhor na maneira de apresentar os resultados.\n",
    "\n",
    "Só falta ter o cuidado de apresentar **um único valor, no caso de uma raíz dupla**."
   ]
  },
  {
   "cell_type": "markdown",
   "metadata": {
    "slideshow": {
     "slide_type": "slide"
    }
   },
   "source": [
    "## Alternativas `if...elif...else`"
   ]
  },
  {
   "cell_type": "code",
   "execution_count": 19,
   "metadata": {
    "collapsed": false,
    "slideshow": {
     "slide_type": "slide"
    }
   },
   "outputs": [
    {
     "name": "stdout",
     "output_type": "stream",
     "text": [
      "2 raízes reais:\n",
      "x1 = -0.2679491924311228\n",
      "x2 = -3.732050807568877\n"
     ]
    }
   ],
   "source": [
    "# Este programa calcula x tal que a x2 + b x + c = 0\n",
    "# testar com os seguintes valores (1,4,1) , (1,2,1) , (1,1,1)\n",
    "\n",
    "a, b, c = 1, 4, 1\n",
    "a, b, c = float(a), float(b), float(c)\n",
    "\n",
    "# cálculo do discriminante\n",
    "discrim = b**2 - 4.0 * a * c\n",
    "\n",
    "#separar soluções reais das complexas\n",
    "if discrim < 0.0:\n",
    "    rdelta = complex(discrim)**0.5\n",
    "else:\n",
    "    rdelta = float(discrim)**0.5\n",
    "x1 = (- b + rdelta) / (2.0 * a)\n",
    "x2 = (- b - rdelta) / (2.0 * a)\n",
    "\n",
    "if discrim < 0.0:\n",
    "    print(\"2 raízes complexas:\")\n",
    "    print(\"x1 =\", x1)\n",
    "    print(\"x2 =\", x2)\n",
    "elif discrim == 0.0:\n",
    "    print(\"1 raíz (dupla):\")\n",
    "    print(\"x =\", x1)\n",
    "else:\n",
    "    print(\"2 raízes reais:\")\n",
    "    print(\"x1 =\", x1)\n",
    "    print(\"x2 =\", x2)"
   ]
  },
  {
   "cell_type": "markdown",
   "metadata": {
    "collapsed": true,
    "slideshow": {
     "slide_type": "slide"
    }
   },
   "source": [
    "Podemos ter multiplos comandos na parte do verdadeiro/falso : o **alinhamento** (_identação_) define os blocos\n",
    "\n",
    "Usando `elif` podemos testar mais do que uma condição."
   ]
  },
  {
   "cell_type": "markdown",
   "metadata": {},
   "source": [
    "Correndo o programa com diferentes valores de `a`, `b` e `c`:\n",
    "```\n",
    "a = 1\n",
    "b = 2\n",
    "c = 1\n",
    "\n",
    "1 raíz (dupla):\n",
    "x = -1.0\n",
    "```\n",
    "\n",
    "```\n",
    "a = 1\n",
    "b = 4\n",
    "c = 2\n",
    "\n",
    "2 raízes reais:\n",
    "x1 = -0.267949192431\n",
    "x2 = -3.73205080757\n",
    "```\n",
    "\n",
    "```\n",
    "a = 1\n",
    "b = 1\n",
    "c = 1\n",
    "\n",
    "2 raízes complexas:\n",
    "x1 = (-0.5+0.866025403784j)\n",
    "x2 = (-0.5-0.866025403784j)\n",
    "```"
   ]
  },
  {
   "cell_type": "markdown",
   "metadata": {
    "slideshow": {
     "slide_type": "slide"
    }
   },
   "source": [
    "## Função `input()`"
   ]
  },
  {
   "cell_type": "code",
   "execution_count": 20,
   "metadata": {
    "collapsed": false,
    "slideshow": {
     "slide_type": "slide"
    }
   },
   "outputs": [
    {
     "ename": "StdinNotImplementedError",
     "evalue": "raw_input was called, but this frontend does not support input requests.",
     "output_type": "error",
     "traceback": [
      "\u001b[0;31m---------------------------------------------------------------------------\u001b[0m",
      "\u001b[0;31mStdinNotImplementedError\u001b[0m                  Traceback (most recent call last)",
      "\u001b[0;32m<ipython-input-20-a3439f10c319>\u001b[0m in \u001b[0;36m<module>\u001b[0;34m()\u001b[0m\n\u001b[1;32m      2\u001b[0m \u001b[1;31m# testar com os seguintes valores (1,4,1) , (1,2,1) , (1,1,1)\u001b[0m\u001b[1;33m\u001b[0m\u001b[1;33m\u001b[0m\u001b[0m\n\u001b[1;32m      3\u001b[0m \u001b[1;33m\u001b[0m\u001b[0m\n\u001b[0;32m----> 4\u001b[0;31m \u001b[0ma\u001b[0m \u001b[1;33m=\u001b[0m \u001b[0mfloat\u001b[0m\u001b[1;33m(\u001b[0m\u001b[0minput\u001b[0m\u001b[1;33m(\u001b[0m\u001b[1;34m'a ='\u001b[0m\u001b[1;33m)\u001b[0m\u001b[1;33m)\u001b[0m\u001b[1;33m\u001b[0m\u001b[0m\n\u001b[0m\u001b[1;32m      5\u001b[0m \u001b[0mb\u001b[0m \u001b[1;33m=\u001b[0m \u001b[0mfloat\u001b[0m\u001b[1;33m(\u001b[0m\u001b[0minput\u001b[0m\u001b[1;33m(\u001b[0m\u001b[1;34m'b ='\u001b[0m\u001b[1;33m)\u001b[0m\u001b[1;33m)\u001b[0m\u001b[1;33m\u001b[0m\u001b[0m\n\u001b[1;32m      6\u001b[0m \u001b[0mc\u001b[0m \u001b[1;33m=\u001b[0m \u001b[0mfloat\u001b[0m\u001b[1;33m(\u001b[0m\u001b[0minput\u001b[0m\u001b[1;33m(\u001b[0m\u001b[1;34m'c ='\u001b[0m\u001b[1;33m)\u001b[0m\u001b[1;33m)\u001b[0m\u001b[1;33m\u001b[0m\u001b[0m\n",
      "\u001b[0;32mC:\\Users\\tonho\\Anaconda3\\lib\\site-packages\\ipykernel\\kernelbase.py\u001b[0m in \u001b[0;36mraw_input\u001b[0;34m(self, prompt)\u001b[0m\n\u001b[1;32m    682\u001b[0m         \u001b[1;32mif\u001b[0m \u001b[1;32mnot\u001b[0m \u001b[0mself\u001b[0m\u001b[1;33m.\u001b[0m\u001b[0m_allow_stdin\u001b[0m\u001b[1;33m:\u001b[0m\u001b[1;33m\u001b[0m\u001b[0m\n\u001b[1;32m    683\u001b[0m             raise StdinNotImplementedError(\n\u001b[0;32m--> 684\u001b[0;31m                 \u001b[1;34m\"raw_input was called, but this frontend does not support input requests.\"\u001b[0m\u001b[1;33m\u001b[0m\u001b[0m\n\u001b[0m\u001b[1;32m    685\u001b[0m             )\n\u001b[1;32m    686\u001b[0m         return self._input_request(prompt,\n",
      "\u001b[0;31mStdinNotImplementedError\u001b[0m: raw_input was called, but this frontend does not support input requests."
     ]
    }
   ],
   "source": [
    "# Este programa calcula x tal que a x2 + b x + c = 0\n",
    "# testar com os seguintes valores (1,4,1) , (1,2,1) , (1,1,1)\n",
    "\n",
    "a = float(input('a ='))\n",
    "b = float(input('b ='))\n",
    "c = float(input('c ='))\n",
    "\n",
    "# cálculo do discriminante\n",
    "discrim = b**2 - 4.0 * a * c\n",
    "\n",
    "#separar soluções reais das complexas\n",
    "if discrim < 0.0:\n",
    "    rdelta = complex(discrim)**0.5\n",
    "else:\n",
    "    rdelta = float(discrim)**0.5\n",
    "x1 = (- b + rdelta) / (2.0 * a)\n",
    "x2 = (- b - rdelta) / (2.0 * a)\n",
    "\n",
    "if discrim < 0.0:\n",
    "    print(\"2 raízes complexas:\")\n",
    "    print(\"x1 =\", x1)\n",
    "    print(\"x2 =\", x2)\n",
    "elif discrim == 0.0:\n",
    "    print(\"1 raíz (dupla):\")\n",
    "    print(\"x =\", x1)\n",
    "else:\n",
    "    print(\"2 raízes reais:\")\n",
    "    print(\"x1 =\", x1)\n",
    "    print(\"x2 =\", x2)"
   ]
  },
  {
   "cell_type": "markdown",
   "metadata": {
    "slideshow": {
     "slide_type": "slide"
    }
   },
   "source": [
    "**Exemplo: Regra dos anos bissextos**\n",
    "\n",
    "- Se o ano é divisível por 4, então é bissexto\n",
    "\n",
    "Regra em vigor até 1582 (calendário Juliano, de Júlio César)"
   ]
  },
  {
   "cell_type": "code",
   "execution_count": 21,
   "metadata": {
    "collapsed": false
   },
   "outputs": [
    {
     "ename": "StdinNotImplementedError",
     "evalue": "raw_input was called, but this frontend does not support input requests.",
     "output_type": "error",
     "traceback": [
      "\u001b[0;31m---------------------------------------------------------------------------\u001b[0m",
      "\u001b[0;31mStdinNotImplementedError\u001b[0m                  Traceback (most recent call last)",
      "\u001b[0;32m<ipython-input-21-d8c4b2611eac>\u001b[0m in \u001b[0;36m<module>\u001b[0;34m()\u001b[0m\n\u001b[0;32m----> 1\u001b[0;31m \u001b[0ma\u001b[0m \u001b[1;33m=\u001b[0m \u001b[0mint\u001b[0m\u001b[1;33m(\u001b[0m\u001b[0minput\u001b[0m\u001b[1;33m(\u001b[0m\u001b[1;34m\"ano ? \"\u001b[0m\u001b[1;33m)\u001b[0m\u001b[1;33m)\u001b[0m\u001b[1;33m\u001b[0m\u001b[0m\n\u001b[0m\u001b[1;32m      2\u001b[0m \u001b[1;33m\u001b[0m\u001b[0m\n\u001b[1;32m      3\u001b[0m \u001b[1;32mif\u001b[0m \u001b[0ma\u001b[0m \u001b[1;33m%\u001b[0m \u001b[1;36m4\u001b[0m \u001b[1;33m==\u001b[0m \u001b[1;36m0\u001b[0m \u001b[1;33m:\u001b[0m\u001b[1;33m\u001b[0m\u001b[0m\n\u001b[1;32m      4\u001b[0m     \u001b[0mprint\u001b[0m\u001b[1;33m(\u001b[0m\u001b[0ma\u001b[0m \u001b[1;33m,\u001b[0m \u001b[1;34m\"é bissexto\"\u001b[0m\u001b[1;33m)\u001b[0m\u001b[1;33m\u001b[0m\u001b[0m\n\u001b[1;32m      5\u001b[0m \u001b[1;32melse\u001b[0m\u001b[1;33m:\u001b[0m\u001b[1;33m\u001b[0m\u001b[0m\n",
      "\u001b[0;32mC:\\Users\\tonho\\Anaconda3\\lib\\site-packages\\ipykernel\\kernelbase.py\u001b[0m in \u001b[0;36mraw_input\u001b[0;34m(self, prompt)\u001b[0m\n\u001b[1;32m    682\u001b[0m         \u001b[1;32mif\u001b[0m \u001b[1;32mnot\u001b[0m \u001b[0mself\u001b[0m\u001b[1;33m.\u001b[0m\u001b[0m_allow_stdin\u001b[0m\u001b[1;33m:\u001b[0m\u001b[1;33m\u001b[0m\u001b[0m\n\u001b[1;32m    683\u001b[0m             raise StdinNotImplementedError(\n\u001b[0;32m--> 684\u001b[0;31m                 \u001b[1;34m\"raw_input was called, but this frontend does not support input requests.\"\u001b[0m\u001b[1;33m\u001b[0m\u001b[0m\n\u001b[0m\u001b[1;32m    685\u001b[0m             )\n\u001b[1;32m    686\u001b[0m         return self._input_request(prompt,\n",
      "\u001b[0;31mStdinNotImplementedError\u001b[0m: raw_input was called, but this frontend does not support input requests."
     ]
    }
   ],
   "source": [
    "a = int(input(\"ano ? \"))\n",
    "\n",
    "if a % 4 == 0 :\n",
    "    print(a , \"é bissexto\")\n",
    "else: \n",
    "    print(a, \"não é bissexto\")"
   ]
  },
  {
   "cell_type": "markdown",
   "metadata": {},
   "source": [
    "Correndo o programa com diferentes valores:\n",
    "```\n",
    "ano ? 2015\n",
    "2015 nao é bissexto\n",
    "```\n",
    "\n",
    "```\n",
    "ano ? 2012\n",
    "2012 é bissexto\n",
    "```\n",
    "\n",
    "```\n",
    "ano ? 1900\n",
    "1900 é bissexto\n",
    "```\n",
    "\n",
    "```\n",
    "ano ? 2000\n",
    "2000 é bissexto\n",
    "```"
   ]
  },
  {
   "cell_type": "markdown",
   "metadata": {
    "slideshow": {
     "slide_type": "slide"
    }
   },
   "source": [
    "No teste da condição podemos usar:\n",
    "\n",
    "- Conjunção lógica: `and`\n",
    "- Disjunção lógica: `or`\n",
    "- Negação: `not`"
   ]
  },
  {
   "cell_type": "markdown",
   "metadata": {
    "slideshow": {
     "slide_type": "slide"
    }
   },
   "source": [
    "**Exemplo: Regra dos anos bissextos (calendário moderno)**\n",
    "\n",
    "- Se o ano é divisível por 4, então é bissexto\n",
    "\n",
    "- Excepto os que são divisíveis por 100: não são bissextos\n",
    "\n",
    "- Excepto os divisíveis por 100 que sejam exactamente divisíveis por 400: são bissextos.\n",
    "\n",
    "Regra em vigor após 1582 (calendário Gregoriano, do papa Gregorio XIII)"
   ]
  },
  {
   "cell_type": "code",
   "execution_count": 22,
   "metadata": {
    "collapsed": false
   },
   "outputs": [
    {
     "ename": "StdinNotImplementedError",
     "evalue": "raw_input was called, but this frontend does not support input requests.",
     "output_type": "error",
     "traceback": [
      "\u001b[0;31m---------------------------------------------------------------------------\u001b[0m",
      "\u001b[0;31mStdinNotImplementedError\u001b[0m                  Traceback (most recent call last)",
      "\u001b[0;32m<ipython-input-22-4b9f14da5701>\u001b[0m in \u001b[0;36m<module>\u001b[0;34m()\u001b[0m\n\u001b[0;32m----> 1\u001b[0;31m \u001b[0ma\u001b[0m \u001b[1;33m=\u001b[0m \u001b[0mint\u001b[0m\u001b[1;33m(\u001b[0m\u001b[0minput\u001b[0m\u001b[1;33m(\u001b[0m\u001b[1;34m\"ano ? \"\u001b[0m\u001b[1;33m)\u001b[0m\u001b[1;33m)\u001b[0m\u001b[1;33m\u001b[0m\u001b[0m\n\u001b[0m\u001b[1;32m      2\u001b[0m \u001b[1;33m\u001b[0m\u001b[0m\n\u001b[1;32m      3\u001b[0m \u001b[1;32mif\u001b[0m \u001b[0ma\u001b[0m \u001b[1;33m%\u001b[0m \u001b[1;36m4\u001b[0m \u001b[1;33m==\u001b[0m \u001b[1;36m0\u001b[0m \u001b[1;32mand\u001b[0m \u001b[1;32mnot\u001b[0m \u001b[1;33m(\u001b[0m\u001b[0ma\u001b[0m \u001b[1;33m%\u001b[0m \u001b[1;36m100\u001b[0m \u001b[1;33m==\u001b[0m \u001b[1;36m0\u001b[0m \u001b[1;32mand\u001b[0m \u001b[1;32mnot\u001b[0m \u001b[0ma\u001b[0m \u001b[1;33m%\u001b[0m \u001b[1;36m400\u001b[0m \u001b[1;33m==\u001b[0m \u001b[1;36m0\u001b[0m\u001b[1;33m)\u001b[0m\u001b[1;33m:\u001b[0m\u001b[1;33m\u001b[0m\u001b[0m\n\u001b[1;32m      4\u001b[0m     \u001b[0mprint\u001b[0m\u001b[1;33m(\u001b[0m\u001b[0ma\u001b[0m \u001b[1;33m,\u001b[0m \u001b[1;34m\"é bissexto\"\u001b[0m\u001b[1;33m)\u001b[0m\u001b[1;33m\u001b[0m\u001b[0m\n\u001b[1;32m      5\u001b[0m \u001b[1;32melse\u001b[0m\u001b[1;33m:\u001b[0m\u001b[1;33m\u001b[0m\u001b[0m\n",
      "\u001b[0;32mC:\\Users\\tonho\\Anaconda3\\lib\\site-packages\\ipykernel\\kernelbase.py\u001b[0m in \u001b[0;36mraw_input\u001b[0;34m(self, prompt)\u001b[0m\n\u001b[1;32m    682\u001b[0m         \u001b[1;32mif\u001b[0m \u001b[1;32mnot\u001b[0m \u001b[0mself\u001b[0m\u001b[1;33m.\u001b[0m\u001b[0m_allow_stdin\u001b[0m\u001b[1;33m:\u001b[0m\u001b[1;33m\u001b[0m\u001b[0m\n\u001b[1;32m    683\u001b[0m             raise StdinNotImplementedError(\n\u001b[0;32m--> 684\u001b[0;31m                 \u001b[1;34m\"raw_input was called, but this frontend does not support input requests.\"\u001b[0m\u001b[1;33m\u001b[0m\u001b[0m\n\u001b[0m\u001b[1;32m    685\u001b[0m             )\n\u001b[1;32m    686\u001b[0m         return self._input_request(prompt,\n",
      "\u001b[0;31mStdinNotImplementedError\u001b[0m: raw_input was called, but this frontend does not support input requests."
     ]
    }
   ],
   "source": [
    "a = int(input(\"ano ? \"))\n",
    "\n",
    "if a % 4 == 0 and not (a % 100 == 0 and not a % 400 == 0):\n",
    "    print(a , \"é bissexto\")\n",
    "else: \n",
    "    print(a, \"não é bissexto\")"
   ]
  },
  {
   "cell_type": "markdown",
   "metadata": {},
   "source": [
    "Correndo o programa com diferentes valores:\n",
    "```\n",
    "ano ? 2015\n",
    "2015 nao é bissexto\n",
    "```\n",
    "\n",
    "```\n",
    "ano ? 2012\n",
    "2012 é bissexto\n",
    "```\n",
    "\n",
    "```\n",
    "ano ? 1900\n",
    "1900 nao é bissexto\n",
    "```\n",
    "\n",
    "Reparar que o resultado é diferente para 1900.\n",
    "\n",
    "```\n",
    "ano ? 2000\n",
    "2000 é bissexto\n",
    "```"
   ]
  },
  {
   "cell_type": "markdown",
   "metadata": {
    "slideshow": {
     "slide_type": "skip"
    }
   },
   "source": [
    "Os interessados na história da introdução do calendário gregoriano podem consultar o artigo\n",
    "\n",
    "[http://en.wikipedia.org/wiki/Gregorian_calendar](http://en.wikipedia.org/wiki/Gregorian_calendar)"
   ]
  }
 ],
 "metadata": {
  "kernelspec": {
   "display_name": "Python [default]",
   "language": "python",
   "name": "python3"
  },
  "language_info": {
   "codemirror_mode": {
    "name": "ipython",
    "version": 3
   },
   "file_extension": ".py",
   "mimetype": "text/x-python",
   "name": "python",
   "nbconvert_exporter": "python",
   "pygments_lexer": "ipython3",
   "version": "3.5.2"
  }
 },
 "nbformat": 4,
 "nbformat_minor": 0
}
