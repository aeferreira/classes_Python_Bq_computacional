{
 "cells": [
  {
   "cell_type": "markdown",
   "metadata": {
    "slideshow": {
     "slide_type": "slide"
    }
   },
   "source": [
    "# Conceitos básicos"
   ]
  },
  {
   "cell_type": "markdown",
   "metadata": {
    "slideshow": {
     "slide_type": "slide"
    }
   },
   "source": [
    "## Objetos e função `print`"
   ]
  },
  {
   "cell_type": "code",
   "execution_count": null,
   "metadata": {
    "collapsed": false,
    "slideshow": {
     "slide_type": "-"
    }
   },
   "outputs": [],
   "source": [
    "print(4)\n",
    "print(3.2)\n",
    "print(9.0)\n",
    "print( ((3+9)/3.0)**0.5 )"
   ]
  },
  {
   "cell_type": "markdown",
   "metadata": {
    "slideshow": {
     "slide_type": "slide"
    }
   },
   "source": [
    "Nas expressões podemos usar:\n",
    "\n",
    "- os cinco operadores `+ - * / **` (`**` é a potenciação)\n",
    "- vários níveis de `()`\n",
    "- o operador `%`: o resto da divisão (por exemplo, `5 % 3` tem como resultado `2`)"
   ]
  },
  {
   "cell_type": "code",
   "execution_count": null,
   "metadata": {
    "collapsed": false,
    "slideshow": {
     "slide_type": "slide"
    }
   },
   "outputs": [],
   "source": [
    "print('quinta feira')\n",
    "print('hoje', 'é', \"quinta feira,\", 17)"
   ]
  },
  {
   "cell_type": "markdown",
   "metadata": {},
   "source": [
    "Pequenos textos entre `\"\"` ou `''` são _strings_. São sequências de caracteres (os espaços e pontuação, desde que estejam entre as aspas contam como caracteres.\n",
    "\n",
    "A função `print` pode ser usada com vários objetos a apresentar, separados por vírgulas. É inserido um espaço entre os vários objetos. Note-se que, com as _strings_, as aspas são eliminadas."
   ]
  },
  {
   "cell_type": "markdown",
   "metadata": {
    "slideshow": {
     "slide_type": "slide"
    }
   },
   "source": [
    "## Atribuição de nomes a \"objetos\""
   ]
  },
  {
   "cell_type": "markdown",
   "metadata": {},
   "source": [
    "**Este é um dos mais fundamentais comandos em programação!**\n",
    "\n",
    "A forma geral é\n",
    "\n",
    "```\n",
    "<nome> = <expressão>\n",
    "```\n",
    "\n",
    "Depois de uma atribuição, **o nome pode ser usado em vez do valor do objeto ou expressão**. Mesmo em atribuições seguintes, no comando `print`, etc."
   ]
  },
  {
   "cell_type": "code",
   "execution_count": null,
   "metadata": {
    "collapsed": false,
    "slideshow": {
     "slide_type": "-"
    }
   },
   "outputs": [],
   "source": [
    "a = 4\n",
    "b = 3.2\n",
    "c = a + b\n",
    "d = (a + b)**0.5\n",
    "print(a)\n",
    "print(b)\n",
    "print(c, d)\n",
    "\n",
    "hoje = \"Olá, quinta feira \"\n",
    "local = \"sala 8.2.39\"\n",
    "onde = hoje + local\n",
    "print(hoje)\n",
    "print(local)\n",
    "print()\n",
    "print(onde)"
   ]
  },
  {
   "cell_type": "markdown",
   "metadata": {},
   "source": [
    "**Que nomes podemos usar?**\n",
    "\n",
    "As regras são:\n",
    "\n",
    "1. Um nome é uma combinação de letras minúsculas (a to z) ou maiúsculas (A to Z) não acentuadas ou dígitos (0 to 9) ou o _underscore_. Nomes como `x`, `Km_1` ou `velocidade_da_reaccao` são exemplos válidos.\n",
    "2. Um nome não pode começar com um dígito. `1x` é inválido, mas `x1` é aceitável.\n",
    "3. Palavras usadas como comandos da linguagem (_keywords_) não são permitidas (por exemplo, `print`).\n",
    "\n",
    "![](images/piso_2.jpg)\n",
    "\n",
    "Não são permitidos espaços ou símbolos como `!, @, #, %` nos nomes."
   ]
  },
  {
   "cell_type": "markdown",
   "metadata": {
    "slideshow": {
     "slide_type": "slide"
    }
   },
   "source": [
    "**tipos de objetos vistos até agora**\n",
    "\n",
    "- **inteiros**\n",
    "- _floats_\n",
    "- _strings_\n",
    "\n",
    "Existem também os **complexos** (em que `j` é a unidade imaginária):"
   ]
  },
  {
   "cell_type": "code",
   "execution_count": null,
   "metadata": {
    "collapsed": false
   },
   "outputs": [],
   "source": [
    "c = 4+2j\n",
    "\n",
    "print(c)\n",
    "print()\n",
    "print(c.real)\n",
    "print(c.imag)\n",
    "print()\n",
    "\n",
    "d = 4j\n",
    "\n",
    "print('c * d =', c * d)"
   ]
  },
  {
   "cell_type": "markdown",
   "metadata": {},
   "source": [
    "## Alteração dos objetos associados a um nome"
   ]
  },
  {
   "cell_type": "markdown",
   "metadata": {
    "slideshow": {
     "slide_type": "slide"
    }
   },
   "source": [
    "Durante a execução de um programa, os objetos associados a um mesmo nome podem variar:"
   ]
  },
  {
   "cell_type": "code",
   "execution_count": null,
   "metadata": {
    "collapsed": false
   },
   "outputs": [],
   "source": [
    "a = 2\n",
    "b = 3\n",
    "c = 'Olá'\n",
    "\n",
    "b = a + b\n",
    "a = a + 1\n",
    "c = a + b\n",
    "\n",
    "print(\"a =\", a)\n",
    "print(\"b =\", b)\n",
    "print(\"c =\", c)"
   ]
  },
  {
   "cell_type": "markdown",
   "metadata": {
    "slideshow": {
     "slide_type": "slide"
    }
   },
   "source": [
    "## Comentários"
   ]
  },
  {
   "cell_type": "code",
   "execution_count": null,
   "metadata": {
    "collapsed": false,
    "slideshow": {
     "slide_type": "-"
    }
   },
   "outputs": [],
   "source": [
    "# Estas duas linhas são comentários (começam por #)\n",
    "# Podemos dar nomes a vários objetos de uma só vez\n",
    "a, b = 3, \"experiência\"\n",
    "c, d = 2.5, 3+4\n",
    "\n",
    "print(\"a =\", a, \"b =\", b, \"c =\", c, \"d =\", d)"
   ]
  },
  {
   "cell_type": "code",
   "execution_count": null,
   "metadata": {
    "collapsed": false,
    "slideshow": {
     "slide_type": "slide"
    }
   },
   "outputs": [],
   "source": [
    "a, b = 3,4\n",
    "print(\"a =\", a, \"b =\", b)\n",
    "\n",
    "# Podemos trocar dois nomes desta maneira\n",
    "a, b = b, a\n",
    "print(\"a =\", a, \"b =\", b)"
   ]
  },
  {
   "cell_type": "markdown",
   "metadata": {},
   "source": [
    "## Funções disponíveis \"integradas\" na linguagem (ex. `print()`, `abs()` e `int()`)"
   ]
  },
  {
   "cell_type": "markdown",
   "metadata": {},
   "source": [
    "Além da função `print()`, as funções `int()` e `abs()` fazem parte integrante da linguagem Python."
   ]
  },
  {
   "cell_type": "code",
   "execution_count": null,
   "metadata": {
    "collapsed": false,
    "slideshow": {
     "slide_type": "slide"
    }
   },
   "outputs": [],
   "source": [
    "numero = -3.8\n",
    "x = int(numero)\n",
    "y = abs(numero)\n",
    "\n",
    "print(numero)\n",
    "print()\n",
    "print(x)\n",
    "print(y)"
   ]
  },
  {
   "cell_type": "markdown",
   "metadata": {
    "slideshow": {
     "slide_type": "slide"
    }
   },
   "source": [
    "Pode encontrar a lista destas funções na documentação\n",
    "\n",
    "[Python Built-in functions](https://docs.python.org/3/library/functions.html)"
   ]
  },
  {
   "cell_type": "markdown",
   "metadata": {},
   "source": [
    "## Conversão entre vários tipos de objetos (`int()`, `float()`, `complex()` e `str()`)"
   ]
  },
  {
   "cell_type": "markdown",
   "metadata": {
    "slideshow": {
     "slide_type": "slide"
    }
   },
   "source": [
    "As funções `int()`, `float()`, `complex()` e `str()` fazem conversões para os vários **tipos** de objetos:\n",
    "\n",
    "- **inteiros**\n",
    "- _floats_\n",
    "- **complexos** (em que `j` é a unidade imaginária)\n",
    "- _strings_"
   ]
  },
  {
   "cell_type": "code",
   "execution_count": null,
   "metadata": {
    "collapsed": false,
    "slideshow": {
     "slide_type": "slide"
    }
   },
   "outputs": [],
   "source": [
    "x = 3.8\n",
    "i = int(x)\n",
    "c = complex(x)\n",
    "s = str(x)\n",
    "\n",
    "print(x)\n",
    "print()\n",
    "print(i)\n",
    "print(c)\n",
    "print(s)"
   ]
  },
  {
   "cell_type": "code",
   "execution_count": null,
   "metadata": {
    "collapsed": false,
    "slideshow": {
     "slide_type": "slide"
    }
   },
   "outputs": [],
   "source": [
    "s = '3.4e4'\n",
    "f = float(s)\n",
    "c = complex(s)\n",
    "\n",
    "print(s)\n",
    "print()\n",
    "print(f)\n",
    "print(c)"
   ]
  },
  {
   "cell_type": "markdown",
   "metadata": {
    "slideshow": {
     "slide_type": "slide"
    }
   },
   "source": [
    "As conversões nem sempre são possíveis...\n"
   ]
  },
  {
   "cell_type": "code",
   "execution_count": null,
   "metadata": {
    "collapsed": false,
    "slideshow": {
     "slide_type": "slide"
    }
   },
   "outputs": [],
   "source": [
    "s = 'Vamos ver...'\n",
    "print(s)\n",
    "print()\n",
    "f = float(s)\n",
    "print(f)"
   ]
  },
  {
   "cell_type": "markdown",
   "metadata": {},
   "source": [
    "## Módulos: funções adicionais"
   ]
  },
  {
   "cell_type": "markdown",
   "metadata": {
    "slideshow": {
     "slide_type": "slide"
    }
   },
   "source": [
    "Além das funções integradas, existem muitos **módulos** contendo funções adicionais.\n",
    "\n",
    "Estes módulos têm de ser *importados* para que as funções fiquem disponíveis.\n",
    "\n",
    "Um exemplo com o módulo **math** que contem muitas funções (e algumas constantes) matemáticas:"
   ]
  },
  {
   "cell_type": "code",
   "execution_count": null,
   "metadata": {
    "collapsed": false
   },
   "outputs": [],
   "source": [
    "import math\n",
    "\n",
    "x = 2.0\n",
    "\n",
    "y = math.log(x)\n",
    "print('ln(2.0) =', y)\n",
    "\n",
    "y = math.log10(x * 5)\n",
    "print('ln10(2.0 * 5) =', y)\n",
    "\n",
    "y = math.exp(x)\n",
    "print('exp(2.0) =', y)\n",
    "\n",
    "y = math.sin(x)\n",
    "print('sin(2.0) =', y)"
   ]
  },
  {
   "cell_type": "code",
   "execution_count": null,
   "metadata": {
    "collapsed": false
   },
   "outputs": [],
   "source": [
    "y = math.sin(math.radians(90))\n",
    "print('sin(90º) =', y)\n",
    "\n",
    "print('pi =', math.pi)\n",
    "\n",
    "print('e =', math.e)\n",
    "\n",
    "y = math.sin(math.pi / 2.0)\n",
    "print('sin(π / 2) =', y)"
   ]
  },
  {
   "cell_type": "code",
   "execution_count": null,
   "metadata": {
    "collapsed": false,
    "slideshow": {
     "slide_type": "slide"
    }
   },
   "outputs": [],
   "source": [
    "y = math.factorial(100)\n",
    "print('100! =', y)"
   ]
  },
  {
   "cell_type": "code",
   "execution_count": null,
   "metadata": {
    "collapsed": false,
    "slideshow": {
     "slide_type": "slide"
    }
   },
   "outputs": [],
   "source": [
    "import time\n",
    "\n",
    "agora = time.localtime()\n",
    "\n",
    "d = agora.tm_mday\n",
    "m = agora.tm_mon\n",
    "a = agora.tm_year\n",
    "\n",
    "h = agora.tm_hour\n",
    "min = agora.tm_min\n",
    "\n",
    "print(\"Data:\")\n",
    "print(d, '/', m, '/', a)\n",
    "\n",
    "print('Hora', h, 'hr', min, 'min')\n",
    "\n",
    "print()\n",
    "print(\"Time zone\", time.tzname)"
   ]
  },
  {
   "cell_type": "code",
   "execution_count": null,
   "metadata": {
    "collapsed": false,
    "slideshow": {
     "slide_type": "slide"
    }
   },
   "outputs": [],
   "source": [
    "import calendar\n",
    "\n",
    "print(calendar.weekday(2017, 3, 30))\n",
    "#nota: 0:seg 1:ter 2:qua 3:qui 4:sex 5:sab 6:dom\n",
    "\n",
    "print(calendar.calendar(2017))"
   ]
  },
  {
   "cell_type": "markdown",
   "metadata": {
    "slideshow": {
     "slide_type": "slide"
    }
   },
   "source": [
    "## Exemplo: raízes da equação do 2º grau"
   ]
  },
  {
   "cell_type": "markdown",
   "metadata": {},
   "source": [
    "Exemplo:\n",
    "\n",
    "Calcular as soluções da equação do 2º grau\n",
    "\n",
    "$a x^2 + b x + c = 0$\n",
    "\n",
    "ou seja\n",
    "\n",
    "Dados $a, b$ e $c$, calcular\n",
    "\n",
    "$x_1 = \\frac{-b + \\sqrt{b^2 -4 a c}}{2 a}$ e $x_2 = \\frac{-b - \\sqrt{b^2 -4 a c}}{2 a}$"
   ]
  },
  {
   "cell_type": "code",
   "execution_count": null,
   "metadata": {
    "collapsed": false,
    "slideshow": {
     "slide_type": "-"
    }
   },
   "outputs": [],
   "source": [
    "print('Este programa calcula x tal que a x2 + b x + c = 0')\n",
    "# testar com os seguintes valores (1,4,1) , (1,2,1) , (1,1,1)\n",
    "\n",
    "a = 1\n",
    "b = 1\n",
    "c = 1\n",
    "\n",
    "a = float(a)\n",
    "b = float(b)\n",
    "c = float(c)\n",
    "rdelta = complex(b**2 - 4 * a * c) ** 0.5\n",
    "\n",
    "x1 = (- b + rdelta) / (2.0*a)\n",
    "x2 = (- b - rdelta) / (2.0*a)\n",
    "\n",
    "print(\"x1 =\", x1)\n",
    "print(\"x2 =\", x2)"
   ]
  },
  {
   "cell_type": "markdown",
   "metadata": {},
   "source": [
    "Correndo o programa com diferentes valores de `a`, `b` e `c`:\n",
    "```\n",
    "a = 1\n",
    "b = 2\n",
    "c = 1\n",
    "\n",
    "x1 = (-1+0j)\n",
    "x2 = (-1+0j)\n",
    "```\n",
    "\n",
    "```\n",
    "a = 1\n",
    "b = 4\n",
    "c = 1\n",
    "\n",
    "x1 = (-0.267949192431+0j)\n",
    "x2 = (-3.73205080757+0j)\n",
    "```\n",
    "\n",
    "```\n",
    "a = 1\n",
    "b = 1\n",
    "c = 1\n",
    "\n",
    "x1 = (-0.5+0.866025403784j)\n",
    "x2 = (-0.5-0.866025403784j)\n",
    "```"
   ]
  },
  {
   "cell_type": "markdown",
   "metadata": {},
   "source": [
    "O programa funciona e os resultados estão corretos, se considerarmos que os numeros reais podem ser considerados numeros complexos.\n",
    "\n",
    "No entanto, seria mais adequado que os resultados apresentados pelo programa pudessem **distinguir os casos de soluções complexas dos de soluções reais** apresentando, neste último caso, valores com aspeto de numeros reais:\n",
    "\n",
    "`-3.73205080757` em vez de `-3.73205080757+0j`."
   ]
  },
  {
   "cell_type": "markdown",
   "metadata": {
    "slideshow": {
     "slide_type": "slide"
    }
   },
   "source": [
    "## Alternativa `if...else`"
   ]
  },
  {
   "cell_type": "code",
   "execution_count": null,
   "metadata": {
    "collapsed": false,
    "slideshow": {
     "slide_type": "slide"
    }
   },
   "outputs": [],
   "source": [
    "# Este programa calcula x tal que a x2 + b x + c = 0\n",
    "# testar com os seguintes valores (1,4,1) , (1,2,1) , (1,1,1)\n",
    "\n",
    "a, b, c = 1, 4, 1\n",
    "a, b, c = float(a), float(b), float(c)\n",
    "\n",
    "# cálculo do discriminante\n",
    "discrim = b**2 - 4.0 * a * c\n",
    "\n",
    "#separar soluções reais das complexas\n",
    "if discrim < 0.0:\n",
    "    rdelta = complex(discrim)**0.5\n",
    "else:\n",
    "    rdelta = float(discrim)**0.5\n",
    "\n",
    "x1 = (- b + rdelta) / (2.0 * a)\n",
    "x2 = (- b - rdelta) / (2.0 * a)\n",
    "\n",
    "print(\"x1 =\", x1, \", x2 =\", x2)"
   ]
  },
  {
   "cell_type": "markdown",
   "metadata": {
    "slideshow": {
     "slide_type": "slide"
    }
   },
   "source": [
    "**Forma geral das instruções alternativas** `if...else`:\n",
    "\n",
    "```\n",
    "if <condição> :\n",
    "    <comandos para condição verdadeira>\n",
    "else:\n",
    "    <comandos para condição falsa>\n",
    "```"
   ]
  },
  {
   "cell_type": "markdown",
   "metadata": {
    "slideshow": {
     "slide_type": "slide"
    }
   },
   "source": [
    "No teste da condição podemos usar:\n",
    "\n",
    "`>` (maior)\n",
    "\n",
    "`<` (menor)\n",
    "\n",
    "`>=` (maior ou igual)\n",
    "\n",
    "`<=` (menor ou igual)\n",
    "\n",
    "`==` (igual **são dois sinais de igual consecutivos**)\n",
    "\n",
    "`!=` (diferente)"
   ]
  },
  {
   "cell_type": "markdown",
   "metadata": {},
   "source": [
    "Correndo agora o programa com diferentes valores de `a`, `b` e `c`:\n",
    "```\n",
    "a = 1\n",
    "b = 2\n",
    "c = 1\n",
    "\n",
    "x1 = -1.0 , x2 = -1.0\n",
    "```\n",
    "\n",
    "```\n",
    "a = 1\n",
    "b = 4\n",
    "c = 1\n",
    "\n",
    "x1 = -0.267949192431 , x2 = -3.73205080757\n",
    "```\n",
    "\n",
    "```\n",
    "a = 1\n",
    "b = 1\n",
    "c = 1\n",
    "\n",
    "x1 = (-0.5+0.866025403784j) , x2 = (-0.5-0.866025403784j)\n",
    "```"
   ]
  },
  {
   "cell_type": "markdown",
   "metadata": {},
   "source": [
    "O programa está bem melhor na maneira de apresentar os resultados.\n",
    "\n",
    "Só falta ter o cuidado de apresentar **um único valor, no caso de uma raíz dupla**."
   ]
  },
  {
   "cell_type": "markdown",
   "metadata": {
    "slideshow": {
     "slide_type": "slide"
    }
   },
   "source": [
    "## Alternativas `if...elif...else`"
   ]
  },
  {
   "cell_type": "code",
   "execution_count": null,
   "metadata": {
    "collapsed": false,
    "slideshow": {
     "slide_type": "slide"
    }
   },
   "outputs": [],
   "source": [
    "# Este programa calcula x tal que a x2 + b x + c = 0\n",
    "# testar com os seguintes valores (1,4,1) , (1,2,1) , (1,1,1)\n",
    "\n",
    "a, b, c = 1, 4, 1\n",
    "a, b, c = float(a), float(b), float(c)\n",
    "\n",
    "# cálculo do discriminante\n",
    "discrim = b**2 - 4.0 * a * c\n",
    "\n",
    "#separar soluções reais das complexas\n",
    "if discrim < 0.0:\n",
    "    rdelta = complex(discrim)**0.5\n",
    "else:\n",
    "    rdelta = float(discrim)**0.5\n",
    "x1 = (- b + rdelta) / (2.0 * a)\n",
    "x2 = (- b - rdelta) / (2.0 * a)\n",
    "\n",
    "if discrim < 0.0:\n",
    "    print(\"2 raízes complexas:\")\n",
    "    print(\"x1 =\", x1)\n",
    "    print(\"x2 =\", x2)\n",
    "elif discrim == 0.0:\n",
    "    print(\"1 raíz (dupla):\")\n",
    "    print(\"x =\", x1)\n",
    "else:\n",
    "    print(\"2 raízes reais:\")\n",
    "    print(\"x1 =\", x1)\n",
    "    print(\"x2 =\", x2)"
   ]
  },
  {
   "cell_type": "markdown",
   "metadata": {
    "collapsed": true,
    "slideshow": {
     "slide_type": "slide"
    }
   },
   "source": [
    "Podemos ter multiplos comandos na parte do verdadeiro/falso : o **alinhamento** (_identação_) define os blocos\n",
    "\n",
    "Usando `elif` podemos testar mais do que uma condição."
   ]
  },
  {
   "cell_type": "markdown",
   "metadata": {},
   "source": [
    "Correndo o programa com diferentes valores de `a`, `b` e `c`:\n",
    "```\n",
    "a = 1\n",
    "b = 2\n",
    "c = 1\n",
    "\n",
    "1 raíz (dupla):\n",
    "x = -1.0\n",
    "```\n",
    "\n",
    "```\n",
    "a = 1\n",
    "b = 4\n",
    "c = 2\n",
    "\n",
    "2 raízes reais:\n",
    "x1 = -0.267949192431\n",
    "x2 = -3.73205080757\n",
    "```\n",
    "\n",
    "```\n",
    "a = 1\n",
    "b = 1\n",
    "c = 1\n",
    "\n",
    "2 raízes complexas:\n",
    "x1 = (-0.5+0.866025403784j)\n",
    "x2 = (-0.5-0.866025403784j)\n",
    "```"
   ]
  },
  {
   "cell_type": "markdown",
   "metadata": {
    "slideshow": {
     "slide_type": "slide"
    }
   },
   "source": [
    "## Função `input()`"
   ]
  },
  {
   "cell_type": "code",
   "execution_count": null,
   "metadata": {
    "collapsed": false,
    "slideshow": {
     "slide_type": "slide"
    }
   },
   "outputs": [],
   "source": [
    "# Este programa calcula x tal que a x2 + b x + c = 0\n",
    "# testar com os seguintes valores (1,4,1) , (1,2,1) , (1,1,1)\n",
    "\n",
    "a = float(input('a ='))\n",
    "b = float(input('b ='))\n",
    "c = float(input('c ='))\n",
    "\n",
    "# cálculo do discriminante\n",
    "discrim = b**2 - 4.0 * a * c\n",
    "\n",
    "#separar soluções reais das complexas\n",
    "if discrim < 0.0:\n",
    "    rdelta = complex(discrim)**0.5\n",
    "else:\n",
    "    rdelta = float(discrim)**0.5\n",
    "x1 = (- b + rdelta) / (2.0 * a)\n",
    "x2 = (- b - rdelta) / (2.0 * a)\n",
    "\n",
    "if discrim < 0.0:\n",
    "    print(\"2 raízes complexas:\")\n",
    "    print(\"x1 =\", x1)\n",
    "    print(\"x2 =\", x2)\n",
    "elif discrim == 0.0:\n",
    "    print(\"1 raíz (dupla):\")\n",
    "    print(\"x =\", x1)\n",
    "else:\n",
    "    print(\"2 raízes reais:\")\n",
    "    print(\"x1 =\", x1)\n",
    "    print(\"x2 =\", x2)"
   ]
  },
  {
   "cell_type": "markdown",
   "metadata": {
    "slideshow": {
     "slide_type": "slide"
    }
   },
   "source": [
    "**Exemplo: Regra dos anos bissextos**\n",
    "\n",
    "- Se o ano é divisível por 4, então é bissexto\n",
    "\n",
    "Regra em vigor até 1582 (calendário Juliano, de Júlio César)"
   ]
  },
  {
   "cell_type": "code",
   "execution_count": null,
   "metadata": {
    "collapsed": false
   },
   "outputs": [],
   "source": [
    "a = int(input(\"ano ? \"))\n",
    "\n",
    "if a % 4 == 0 :\n",
    "    print(a , \"é bissexto\")\n",
    "else: \n",
    "    print(a, \"não é bissexto\")"
   ]
  },
  {
   "cell_type": "markdown",
   "metadata": {},
   "source": [
    "Correndo o programa com diferentes valores:\n",
    "```\n",
    "ano ? 2015\n",
    "2015 nao é bissexto\n",
    "```\n",
    "\n",
    "```\n",
    "ano ? 2012\n",
    "2012 é bissexto\n",
    "```\n",
    "\n",
    "```\n",
    "ano ? 1900\n",
    "1900 é bissexto\n",
    "```\n",
    "\n",
    "```\n",
    "ano ? 2000\n",
    "2000 é bissexto\n",
    "```"
   ]
  },
  {
   "cell_type": "markdown",
   "metadata": {
    "slideshow": {
     "slide_type": "slide"
    }
   },
   "source": [
    "No teste da condição podemos usar:\n",
    "\n",
    "- Conjunção lógica: `and`\n",
    "- Disjunção lógica: `or`\n",
    "- Negação: `not`"
   ]
  },
  {
   "cell_type": "markdown",
   "metadata": {
    "slideshow": {
     "slide_type": "slide"
    }
   },
   "source": [
    "**Exemplo: Regra dos anos bissextos (calendário moderno)**\n",
    "\n",
    "- Se o ano é divisível por 4, então é bissexto\n",
    "\n",
    "- Excepto os que são divisíveis por 100: não são bissextos\n",
    "\n",
    "- Excepto os divisíveis por 100 que sejam exactamente divisíveis por 400: são bissextos.\n",
    "\n",
    "Regra em vigor após 1582 (calendário Gregoriano, do papa Gregorio XIII)"
   ]
  },
  {
   "cell_type": "code",
   "execution_count": null,
   "metadata": {
    "collapsed": false
   },
   "outputs": [],
   "source": [
    "a = int(input(\"ano ? \"))\n",
    "\n",
    "if a % 4 == 0 and not (a % 100 == 0 and not a % 400 == 0):\n",
    "    print(a , \"é bissexto\")\n",
    "else: \n",
    "    print(a, \"não é bissexto\")"
   ]
  },
  {
   "cell_type": "markdown",
   "metadata": {},
   "source": [
    "Correndo o programa com diferentes valores:\n",
    "```\n",
    "ano ? 2015\n",
    "2015 nao é bissexto\n",
    "```\n",
    "\n",
    "```\n",
    "ano ? 2012\n",
    "2012 é bissexto\n",
    "```\n",
    "\n",
    "```\n",
    "ano ? 1900\n",
    "1900 nao é bissexto\n",
    "```\n",
    "\n",
    "Reparar que o resultado é diferente para 1900.\n",
    "\n",
    "```\n",
    "ano ? 2000\n",
    "2000 é bissexto\n",
    "```"
   ]
  },
  {
   "cell_type": "markdown",
   "metadata": {
    "slideshow": {
     "slide_type": "skip"
    }
   },
   "source": [
    "Os interessados na história da introdução do calendário gregoriano podem consultar o artigo\n",
    "\n",
    "[http://en.wikipedia.org/wiki/Gregorian_calendar](http://en.wikipedia.org/wiki/Gregorian_calendar)"
   ]
  }
 ],
 "metadata": {
  "kernelspec": {
   "display_name": "Python [default]",
   "language": "python",
   "name": "python3"
  },
  "language_info": {
   "codemirror_mode": {
    "name": "ipython",
    "version": 3
   },
   "file_extension": ".py",
   "mimetype": "text/x-python",
   "name": "python",
   "nbconvert_exporter": "python",
   "pygments_lexer": "ipython3",
   "version": "3.5.2"
  }
 },
 "nbformat": 4,
 "nbformat_minor": 0
}
