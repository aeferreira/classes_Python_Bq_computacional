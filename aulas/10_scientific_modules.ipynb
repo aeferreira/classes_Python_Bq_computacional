{
 "cells": [
  {
   "cell_type": "markdown",
   "metadata": {},
   "source": [
    "# Python \"científico\": módulo `numpy`\n",
    "\n",
    "![](images/sci_python.png)"
   ]
  },
  {
   "cell_type": "markdown",
   "metadata": {},
   "source": [
    "## `numpy`"
   ]
  },
  {
   "cell_type": "markdown",
   "metadata": {},
   "source": [
    "### Operações \"vectoriais\""
   ]
  },
  {
   "cell_type": "code",
   "execution_count": null,
   "metadata": {
    "collapsed": true
   },
   "outputs": [],
   "source": [
    "import numpy as np"
   ]
  },
  {
   "cell_type": "code",
   "execution_count": null,
   "metadata": {
    "collapsed": false
   },
   "outputs": [],
   "source": [
    "numbers = [0.0, 0.2, 0.5, 1.0, 1.1]\n",
    "x = np.array(numbers)\n",
    "\n",
    "print('x =         {}'.format(x))\n",
    "\n",
    "y = 4 * x\n",
    "\n",
    "print ('\\ny = 4 * x = {}'.format(y))"
   ]
  },
  {
   "cell_type": "markdown",
   "metadata": {},
   "source": [
    "A função `np.array()` transformou a lista num objeto do tipo _array_.\n",
    "\n",
    "Estes objetos suportam operações aritméticas \"vetoriais\": na expressão `y = 4 * x` a multiplicação por 4 é aplicada a todos os elementos de `x`. O resultado é também um _array_."
   ]
  },
  {
   "cell_type": "markdown",
   "metadata": {},
   "source": [
    "### Criação de _arrays_ com as funções `.array()`, `.arange()` e `.linspace()`"
   ]
  },
  {
   "cell_type": "code",
   "execution_count": null,
   "metadata": {
    "collapsed": false
   },
   "outputs": [],
   "source": [
    "x = np.array([1, 1.2, 3, 3.5])\n",
    "print('np.array([1, 1.2, 3, 3.5]) = {}'.format(x))\n",
    "\n",
    "x = np.arange(1.5, 2.5, 0.1)\n",
    "print('\\nnp.arange(1.5, 2.5, 0.1) = {}'.format(x))\n",
    "\n",
    "x = np.linspace(1, 2, 5)\n",
    "print('\\nnp.linspace(1, 2, 5) = {}'.format(x))"
   ]
  },
  {
   "cell_type": "code",
   "execution_count": null,
   "metadata": {
    "collapsed": false
   },
   "outputs": [],
   "source": [
    "x = np.linspace(0.0, 2.5, 20)\n",
    "print('x\\n')\n",
    "print(x)\n",
    "\n",
    "y = 4 * x**2 -3\n",
    "\n",
    "print('\\ny = 4 * x**2 -3\\n')\n",
    "print(y)"
   ]
  },
  {
   "cell_type": "markdown",
   "metadata": {},
   "source": [
    "### Dimensões (`shape`)"
   ]
  },
  {
   "cell_type": "code",
   "execution_count": null,
   "metadata": {
    "collapsed": false
   },
   "outputs": [],
   "source": [
    "x = np.linspace(1,20,20)\n",
    "print('x = {}\\n'.format(x))\n",
    "\n",
    "x.shape = (5,4)\n",
    "# significa 5 linhas e 4 colunas\n",
    "\n",
    "print('Após mudar \"shape\" para (5,4)\\nx =\\n{}'.format(x))"
   ]
  },
  {
   "cell_type": "markdown",
   "metadata": {},
   "source": [
    "### Criação de _arrays_ com `.array()`, `.ones()`, `.zeros()`, `.eye()`, `.diag()`"
   ]
  },
  {
   "cell_type": "code",
   "execution_count": null,
   "metadata": {
    "collapsed": false
   },
   "outputs": [],
   "source": [
    "x = np.array( [[1, 1.2, 3], [1.3,5.1,1.3]] )\n",
    "print('np.array( [[1, 1.2, 3], [1.3,5.1,1.3]] ) =\\n\\n{}\\n'.format(x))\n",
    "\n",
    "x = np.ones((3,2))\n",
    "print('np.ones((3,2)) =\\n\\n{}\\n'.format(x))\n",
    "\n",
    "x = np.zeros((3,2))\n",
    "print('np.zeros((3,2)) =\\n\\n{}\\n'.format(x))\n",
    "\n",
    "x = np.eye(3)\n",
    "print('np.eye(3) =\\n\\n{}\\n'.format(x))\n",
    "\n",
    "x = np.diag([1.2, 3.2, 4.1, 6.3])\n",
    "print('np.diag([1.2, 3.2, 4.1, 6.3]) =\\n\\n{}'.format(x))"
   ]
  },
  {
   "cell_type": "markdown",
   "metadata": {},
   "source": [
    "### Indexação a várias dimensões"
   ]
  },
  {
   "cell_type": "code",
   "execution_count": null,
   "metadata": {
    "collapsed": false
   },
   "outputs": [],
   "source": [
    "x = np.linspace(1,20,20).reshape((5,4))\n",
    "print('x =\\n{}\\n'.format(x))\n",
    "print('x[3,1] =\\n{}\\n'.format(x[3,1]))\n",
    "print('x[3, :] =\\n{}\\n'.format(x[3, :]))\n",
    "print('x[0:2, 0:2] =\\n{}\\n'.format(x[0:2, 0:2]))"
   ]
  },
  {
   "cell_type": "markdown",
   "metadata": {},
   "source": [
    "### Indexação booleana"
   ]
  },
  {
   "cell_type": "code",
   "execution_count": null,
   "metadata": {
    "collapsed": false
   },
   "outputs": [],
   "source": [
    "x = np.linspace(1,20,20)\n",
    "print('x = {}\\n'.format(x))\n",
    "\n",
    "a = x > 7\n",
    "print('x > 7\\n {}\\n'.format(a))\n",
    "\n",
    "y = x[x > 7]\n",
    "print('x[x > 7] \\n {}'.format(y))"
   ]
  },
  {
   "cell_type": "markdown",
   "metadata": {},
   "source": [
    "### Indexação com listas de inteiros ou _arrays_"
   ]
  },
  {
   "cell_type": "code",
   "execution_count": null,
   "metadata": {
    "collapsed": false
   },
   "outputs": [],
   "source": [
    "x = np.linspace(5,15,11)\n",
    "print('x = {}\\n'.format(x))\n",
    "\n",
    "i = [1,4,5,6,8]\n",
    "print('i = {}\\n'.format(i))\n",
    "\n",
    "print('x[i] = {}\\n'.format(x[i]))"
   ]
  },
  {
   "cell_type": "markdown",
   "metadata": {},
   "source": [
    "### Exemplos de algumas funções do `numpy`."
   ]
  },
  {
   "cell_type": "code",
   "execution_count": null,
   "metadata": {
    "collapsed": false
   },
   "outputs": [],
   "source": [
    "x = np.roots([1.0,2.0,1.0,1.0])\n",
    "\n",
    "print('raízes de x**3 + 2 x**2 + x + 1')\n",
    "print('ou seja, raízes do polinómio com coeficientes [1.0,2.0,1.0,1.0] \\n')\n",
    "\n",
    "print(x)"
   ]
  },
  {
   "cell_type": "markdown",
   "metadata": {},
   "source": [
    "### Geração de números aleatórios."
   ]
  },
  {
   "cell_type": "markdown",
   "metadata": {},
   "source": [
    "Obter valores aleatórios das seguintes distribuições:\n",
    "\n",
    "**Poisson** (usada para número de ocorrências durante um intervalo)\n",
    "\n",
    "$p(x, \\lambda) = \\frac{e^{-x} \\lambda^x}{x!}$ com $x = 0, 1, 2, ...$\n",
    "\n",
    "**Normal (0,1)**\n",
    "\n",
    "$f(x) = \\frac{1}{\\sqrt{2\\pi}} e^{-x^2 / 2}$ com $x \\in [-\\infty, \\infty]$"
   ]
  },
  {
   "cell_type": "code",
   "execution_count": null,
   "metadata": {
    "collapsed": false
   },
   "outputs": [],
   "source": [
    "print('20 valores aleatórios da distribuição de Poisson com lambda = 3')\n",
    "print(np.random.poisson(3, 20))\n",
    "\n",
    "print('\\n5 valores aleatórios da distribuição N(0,1)')\n",
    "print(np.random.randn(5))"
   ]
  },
  {
   "cell_type": "markdown",
   "metadata": {},
   "source": [
    "**Problema**: \"Provar\" que a média e a variância da distribuição de Poisson são ambas iguais a $ \\lambda $."
   ]
  },
  {
   "cell_type": "code",
   "execution_count": null,
   "metadata": {
    "collapsed": false
   },
   "outputs": [],
   "source": [
    "sample = np.random.poisson(3, 100000)\n",
    "\n",
    "print('Média = ', np.mean(sample))\n",
    "\n",
    "print('Variância =', np.var(sample))"
   ]
  },
  {
   "cell_type": "markdown",
   "metadata": {},
   "source": [
    "### Exemplos de operações vectoriais"
   ]
  },
  {
   "cell_type": "code",
   "execution_count": null,
   "metadata": {
    "collapsed": false
   },
   "outputs": [],
   "source": [
    "#somar os primeiros 20 quadrados perfeitos\n",
    "print(sum(np.arange(20)**2))"
   ]
  },
  {
   "cell_type": "code",
   "execution_count": null,
   "metadata": {
    "collapsed": false
   },
   "outputs": [],
   "source": [
    "#mostrar que as diferenças entre os quadrados perfeitos sucessivos são os numeros ímpares\n",
    "quads = np.arange(20)**2\n",
    "difs = quads[1:] - quads[0:-1]\n",
    "print(difs)"
   ]
  },
  {
   "cell_type": "code",
   "execution_count": null,
   "metadata": {
    "collapsed": false
   },
   "outputs": [],
   "source": [
    "## #somar as raízes quadradas que são numeros inteiros at 100\n",
    "roots = np.arange(0,101)**0.5\n",
    "print(sum(roots[np.trunc(roots) == roots]))"
   ]
  },
  {
   "cell_type": "code",
   "execution_count": null,
   "metadata": {
    "collapsed": false
   },
   "outputs": [],
   "source": [
    "# mostrar que a série alternada dos inversos converge para log 2\n",
    "i = np.arange(1,1000000)\n",
    "difs =  np.abs(np.add.accumulate((-1)**(i+1) * 1.0/i) - np.log(2))\n",
    "print(difs[-20:])"
   ]
  },
  {
   "cell_type": "markdown",
   "metadata": {},
   "source": [
    "### Matrizes e álgebra linear"
   ]
  },
  {
   "cell_type": "code",
   "execution_count": null,
   "metadata": {
    "collapsed": false
   },
   "outputs": [],
   "source": [
    "A = np.matrix ([[1, 2, 3], [2, 1, 6], [1, 7, 4]])\n",
    "\n",
    "print('A\\n{}\\n'.format(A))\n",
    "\n",
    "B = np.matrix ([1,2,3])\n",
    "print('B\\n{}\\n'.format(B))\n",
    "\n",
    "BT = B.T \n",
    "print('B.T\\n{}\\n'.format(BT))\n",
    "\n",
    "C = A * B.T\n",
    "print('C = A * B.T\\n{}\\n'.format(C))"
   ]
  },
  {
   "cell_type": "code",
   "execution_count": null,
   "metadata": {
    "collapsed": false
   },
   "outputs": [],
   "source": [
    "A = np.matrix ([[1.0, 2, 3], [2, 1, 6], [1, 7, 4]])\n",
    "print('A\\n{}\\n'.format(A))\n",
    "\n",
    "B = np.matrix ([1,2,3]).T\n",
    "print('B\\n{}\\n'.format(B))\n",
    "\n",
    "X = np.linalg.solve(A, B)\n",
    "print('X (solução de A*X = B)\\n{}'.format(X))"
   ]
  },
  {
   "cell_type": "code",
   "execution_count": null,
   "metadata": {
    "collapsed": false
   },
   "outputs": [],
   "source": [
    "A = np.matrix ([[1.0, 2, 3], [2, 1, 6], [1, 7, 4]])\n",
    "print('A\\n{}\\n'.format(A))\n",
    "\n",
    "AINV = np.linalg.inv(A)\n",
    "print('Inversa de A\\n{}\\n'.format(AINV))\n",
    "\n",
    "X = A * AINV\n",
    "print('A * A**-1')\n",
    "print('{}'.format(X))"
   ]
  },
  {
   "cell_type": "markdown",
   "metadata": {},
   "source": [
    "## `sympy`"
   ]
  },
  {
   "cell_type": "markdown",
   "metadata": {},
   "source": [
    "### Símbolos e álgebra básica"
   ]
  },
  {
   "cell_type": "code",
   "execution_count": null,
   "metadata": {
    "collapsed": false
   },
   "outputs": [],
   "source": [
    "from sympy import Symbol\n",
    "\n",
    "x = Symbol('x')\n",
    "y = Symbol('y')\n",
    "\n",
    "expr = 2**x + x**2 -3\n",
    "\n",
    "print(expr)\n",
    "print(x+y+x-y)"
   ]
  },
  {
   "cell_type": "code",
   "execution_count": null,
   "metadata": {
    "collapsed": false
   },
   "outputs": [],
   "source": [
    "a = (x+y)**2\n",
    "print('a =', a)\n",
    "print('a.expand() =', a.expand())\n",
    "print('a.subs(x, 1).expand() =', a.subs(x, 1).expand())\n",
    "print('a.subs(x, 1).expand().subs(y, 1) =', a.subs(x, 1).expand().subs(y, 1))"
   ]
  },
  {
   "cell_type": "markdown",
   "metadata": {},
   "source": [
    "### Limites"
   ]
  },
  {
   "cell_type": "code",
   "execution_count": null,
   "metadata": {
    "collapsed": false
   },
   "outputs": [],
   "source": [
    "from sympy import Symbol, limit, diff, integrate, sin, oo\n",
    "\n",
    "x = Symbol('x')\n",
    "y = Symbol('y')\n",
    "\n",
    "print(limit(sin(x)/x, x, 0))\n",
    "print(limit(x, x, oo))\n",
    "print(limit(1/x, x, oo))"
   ]
  },
  {
   "cell_type": "markdown",
   "metadata": {},
   "source": [
    "### Derivadas e integrais"
   ]
  },
  {
   "cell_type": "code",
   "execution_count": null,
   "metadata": {
    "collapsed": false
   },
   "outputs": [],
   "source": [
    "print(diff(sin(x), x))\n",
    "print(diff(sin(2*x), x))\n",
    "\n",
    "expr = 2**x + x**2 -3\n",
    "print(expr)\n",
    "print(diff(expr, x))\n",
    "print(diff(expr, x, 3))"
   ]
  },
  {
   "cell_type": "code",
   "execution_count": null,
   "metadata": {
    "collapsed": false
   },
   "outputs": [],
   "source": [
    "print(integrate(sin(x), x))"
   ]
  }
 ],
 "metadata": {
  "kernelspec": {
   "display_name": "Python [default]",
   "language": "python",
   "name": "python3"
  },
  "language_info": {
   "codemirror_mode": {
    "name": "ipython",
    "version": 3
   },
   "file_extension": ".py",
   "mimetype": "text/x-python",
   "name": "python",
   "nbconvert_exporter": "python",
   "pygments_lexer": "ipython3",
   "version": "3.5.2"
  }
 },
 "nbformat": 4,
 "nbformat_minor": 0
}
