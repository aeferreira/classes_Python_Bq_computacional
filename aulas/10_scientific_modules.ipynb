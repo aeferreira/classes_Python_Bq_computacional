{
 "cells": [
  {
   "cell_type": "markdown",
   "metadata": {
    "slideshow": {
     "slide_type": "slide"
    }
   },
   "source": [
    "# Python \"científico\"\n",
    "\n",
    "Embora não incluídas na distribuição oficial, disponibilizada em http://www.python.org, as seguintes bibliotecas foram criadas para adaptar  (e aumentar a linguagem Python com a funcionalidade necessária em muitas aplicações de natureza científica."
   ]
  },
  {
   "cell_type": "markdown",
   "metadata": {
    "slideshow": {
     "slide_type": "slide"
    }
   },
   "source": [
    "Estas bibliotecas são:\n",
    "\n",
    "- numpy: objetos de tipo `array`, que suportam operações vetoriais\n",
    "- scipy: muitas funções de cálculo numérico\n",
    "- sympy: computação simbólica\n",
    "- ipython: deu origem ao projeto Jupyter, que contem a plataforma \"Jupyter notebooks\"\n",
    "- matplotlib: a grande bibloteca de gráficos científicos da linguagem Python\n",
    "- pandas: objetos adequados ao tratamento de dados em larga escala (`Series` e `DataFrame`)\n",
    "\n",
    "![](images/sci_python.png)"
   ]
  },
  {
   "cell_type": "markdown",
   "metadata": {
    "slideshow": {
     "slide_type": "slide"
    }
   },
   "source": [
    "## `numpy`"
   ]
  },
  {
   "cell_type": "markdown",
   "metadata": {
    "slideshow": {
     "slide_type": "slide"
    }
   },
   "source": [
    "### Operações \"vectoriais\""
   ]
  },
  {
   "cell_type": "code",
   "execution_count": 1,
   "metadata": {
    "collapsed": true,
    "slideshow": {
     "slide_type": "slide"
    }
   },
   "outputs": [],
   "source": [
    "import numpy as np"
   ]
  },
  {
   "cell_type": "code",
   "execution_count": 2,
   "metadata": {
    "collapsed": false,
    "slideshow": {
     "slide_type": "slide"
    }
   },
   "outputs": [
    {
     "name": "stdout",
     "output_type": "stream",
     "text": [
      "x = \n",
      "[ 0.   0.2  0.5  1.   1.1]\n",
      "\n",
      "y = 4 * x =\n",
      "[ 0.   0.8  2.   4.   4.4]\n"
     ]
    }
   ],
   "source": [
    "numbers = [0.0, 0.2, 0.5, 1.0, 1.1]\n",
    "x = np.array(numbers)\n",
    "\n",
    "print('x = ')\n",
    "print(x)\n",
    "\n",
    "y = 4 * x\n",
    "\n",
    "print('\\ny = 4 * x =')\n",
    "print(y)"
   ]
  },
  {
   "cell_type": "markdown",
   "metadata": {
    "slideshow": {
     "slide_type": "skip"
    }
   },
   "source": [
    "A função `np.array()` transformou a lista num objeto do tipo _array_.\n",
    "\n",
    "Estes objetos suportam operações aritméticas \"vetoriais\": na expressão `y = 4 * x` a multiplicação por 4 é aplicada a todos os elementos de `x`. O resultado é também um _array_.\n",
    "\n",
    "Por outro lado, as operações aritméticas entre dois _arrays_ são realizadas elemento a elemento:"
   ]
  },
  {
   "cell_type": "code",
   "execution_count": 3,
   "metadata": {
    "collapsed": false,
    "slideshow": {
     "slide_type": "slide"
    }
   },
   "outputs": [
    {
     "name": "stdout",
     "output_type": "stream",
     "text": [
      "a =  [ 0.   0.2 -0.5  1.   1.1]\n",
      "b =  [ 0.   0.1 -1.   1.   1. ]\n",
      "\n",
      "y = a + b =\n",
      "[ 0.   0.3 -1.5  2.   2.1]\n"
     ]
    }
   ],
   "source": [
    "a = np.array([0.0, 0.2, -0.5, 1.0, 1.1])\n",
    "b = np.array([0.0, 0.1, -1.0, 1.0, 1.0])\n",
    "print('a = ', a)\n",
    "print('b = ', b)\n",
    "\n",
    "y = a + b\n",
    "\n",
    "print('\\ny = a + b =')\n",
    "print(y)"
   ]
  },
  {
   "cell_type": "markdown",
   "metadata": {
    "slideshow": {
     "slide_type": "slide"
    }
   },
   "source": [
    "### Criação de _arrays_ com as funções `.array()`, `.arange()` e `.linspace()`"
   ]
  },
  {
   "cell_type": "code",
   "execution_count": 4,
   "metadata": {
    "collapsed": false,
    "slideshow": {
     "slide_type": "slide"
    }
   },
   "outputs": [
    {
     "name": "stdout",
     "output_type": "stream",
     "text": [
      "[ 1.   1.2  3.   3.5]\n"
     ]
    }
   ],
   "source": [
    "x = np.array([1, 1.2, 3, 3.5])\n",
    "print(x)"
   ]
  },
  {
   "cell_type": "code",
   "execution_count": 5,
   "metadata": {
    "collapsed": false,
    "slideshow": {
     "slide_type": "slide"
    }
   },
   "outputs": [
    {
     "name": "stdout",
     "output_type": "stream",
     "text": [
      "[ 1.5  1.6  1.7  1.8  1.9]\n"
     ]
    }
   ],
   "source": [
    "x = np.arange(1.5, 2.0, 0.1)\n",
    "print(x)"
   ]
  },
  {
   "cell_type": "code",
   "execution_count": 6,
   "metadata": {
    "collapsed": false,
    "slideshow": {
     "slide_type": "slide"
    }
   },
   "outputs": [
    {
     "name": "stdout",
     "output_type": "stream",
     "text": [
      "[ 1.    1.25  1.5   1.75  2.  ]\n"
     ]
    }
   ],
   "source": [
    "x = np.linspace(1, 2, 5)\n",
    "print(x)"
   ]
  },
  {
   "cell_type": "code",
   "execution_count": 7,
   "metadata": {
    "collapsed": false,
    "slideshow": {
     "slide_type": "slide"
    }
   },
   "outputs": [
    {
     "name": "stdout",
     "output_type": "stream",
     "text": [
      "x\n",
      "[ 1.   1.2  1.4  1.6  1.8  2. ]\n",
      "\n",
      "y = 4 * x**2 -3\n",
      "[  1.     2.76   4.84   7.24   9.96  13.  ]\n"
     ]
    }
   ],
   "source": [
    "x = np.linspace(1, 2, 6)\n",
    "print('x')\n",
    "print(x)\n",
    "\n",
    "y = 4 * x**2 -3\n",
    "\n",
    "print('\\ny = 4 * x**2 -3')\n",
    "print(y)"
   ]
  },
  {
   "cell_type": "code",
   "execution_count": 8,
   "metadata": {
    "collapsed": true,
    "slideshow": {
     "slide_type": "slide"
    }
   },
   "outputs": [],
   "source": [
    "# só necessário em Jupyter notebooks\n",
    "%matplotlib inline\n",
    "\n",
    "from matplotlib import pyplot as pl"
   ]
  },
  {
   "cell_type": "code",
   "execution_count": 9,
   "metadata": {
    "collapsed": false,
    "slideshow": {
     "slide_type": "slide"
    }
   },
   "outputs": [
    {
     "data": {
      "image/png": "[encoded data removed]",
      "text/plain": [
       "<matplotlib.figure.Figure at 0x27bc797bfd0>"
      ]
     },
     "metadata": {},
     "output_type": "display_data"
    }
   ],
   "source": [
    "x = np.linspace(-2, 2, 100)\n",
    "y = 4 * x**3 -3\n",
    "\n",
    "pl.grid()\n",
    "g = pl.plot(x, y)"
   ]
  },
  {
   "cell_type": "markdown",
   "metadata": {
    "slideshow": {
     "slide_type": "slide"
    }
   },
   "source": [
    "**Problema: somar os primeiros 1000 quadrados perfeitos**"
   ]
  },
  {
   "cell_type": "code",
   "execution_count": 10,
   "metadata": {
    "collapsed": false,
    "slideshow": {
     "slide_type": "-"
    }
   },
   "outputs": [
    {
     "name": "stdout",
     "output_type": "stream",
     "text": [
      "332833500\n"
     ]
    }
   ],
   "source": [
    "print(sum(np.arange(1000)**2))"
   ]
  },
  {
   "cell_type": "markdown",
   "metadata": {
    "slideshow": {
     "slide_type": "slide"
    }
   },
   "source": [
    "### Dimensões (`shape`)"
   ]
  },
  {
   "cell_type": "code",
   "execution_count": 11,
   "metadata": {
    "collapsed": false,
    "slideshow": {
     "slide_type": "slide"
    }
   },
   "outputs": [
    {
     "name": "stdout",
     "output_type": "stream",
     "text": [
      "[ 1  2  3  4  5  6  7  8  9 10 11 12]\n",
      "\n",
      "Após mudar \"shape\" para (4,3)\n",
      "x =\n",
      "[[ 1  2  3]\n",
      " [ 4  5  6]\n",
      " [ 7  8  9]\n",
      " [10 11 12]]\n"
     ]
    }
   ],
   "source": [
    "x = np.arange(1, 13)\n",
    "print(x)\n",
    "\n",
    "x.shape = (4,3)\n",
    "# significa 4 linhas e 3 colunas\n",
    "\n",
    "print('\\nApós mudar \"shape\" para (4,3)\\nx =\\n{}'.format(x))"
   ]
  },
  {
   "cell_type": "markdown",
   "metadata": {
    "slideshow": {
     "slide_type": "slide"
    }
   },
   "source": [
    "### Criação de _arrays_ com `.array()`, `.ones()`, `.zeros()`, `.eye()`, `.diag()`"
   ]
  },
  {
   "cell_type": "code",
   "execution_count": 12,
   "metadata": {
    "collapsed": false,
    "slideshow": {
     "slide_type": "slide"
    }
   },
   "outputs": [
    {
     "name": "stdout",
     "output_type": "stream",
     "text": [
      "[[ 1.   1.2  3. ]\n",
      " [ 1.3  5.1  1.3]]\n",
      "\n",
      "shape = (2, 3)\n"
     ]
    }
   ],
   "source": [
    "x = np.array( [[1, 1.2, 3], [1.3,5.1,1.3]] )\n",
    "print(x)\n",
    "print('\\nshape =', x.shape)"
   ]
  },
  {
   "cell_type": "code",
   "execution_count": 13,
   "metadata": {
    "collapsed": false,
    "slideshow": {
     "slide_type": "slide"
    }
   },
   "outputs": [
    {
     "name": "stdout",
     "output_type": "stream",
     "text": [
      "[[ 1.  1.]\n",
      " [ 1.  1.]\n",
      " [ 1.  1.]]\n"
     ]
    }
   ],
   "source": [
    "x = np.ones((3,2))\n",
    "print(x)"
   ]
  },
  {
   "cell_type": "code",
   "execution_count": 14,
   "metadata": {
    "collapsed": false,
    "slideshow": {
     "slide_type": "slide"
    }
   },
   "outputs": [
    {
     "name": "stdout",
     "output_type": "stream",
     "text": [
      "[[ 0.  0.]\n",
      " [ 0.  0.]\n",
      " [ 0.  0.]]\n"
     ]
    }
   ],
   "source": [
    "x = np.zeros((3,2))\n",
    "print(x)"
   ]
  },
  {
   "cell_type": "code",
   "execution_count": 15,
   "metadata": {
    "collapsed": false,
    "slideshow": {
     "slide_type": "slide"
    }
   },
   "outputs": [
    {
     "name": "stdout",
     "output_type": "stream",
     "text": [
      "[[ 1.  0.  0.]\n",
      " [ 0.  1.  0.]\n",
      " [ 0.  0.  1.]]\n"
     ]
    }
   ],
   "source": [
    "x = np.eye(3)\n",
    "print(x)"
   ]
  },
  {
   "cell_type": "code",
   "execution_count": 16,
   "metadata": {
    "collapsed": false,
    "slideshow": {
     "slide_type": "slide"
    }
   },
   "outputs": [
    {
     "name": "stdout",
     "output_type": "stream",
     "text": [
      "[[ 1.2  0.   0.   0. ]\n",
      " [ 0.   3.2  0.   0. ]\n",
      " [ 0.   0.   4.1  0. ]\n",
      " [ 0.   0.   0.   6.3]]\n"
     ]
    }
   ],
   "source": [
    "x = np.diag([1.2, 3.2, 4.1, 6.3])\n",
    "print(x)"
   ]
  },
  {
   "cell_type": "markdown",
   "metadata": {
    "slideshow": {
     "slide_type": "slide"
    }
   },
   "source": [
    "### Indexação a várias dimensões"
   ]
  },
  {
   "cell_type": "code",
   "execution_count": 17,
   "metadata": {
    "collapsed": false,
    "slideshow": {
     "slide_type": "slide"
    }
   },
   "outputs": [
    {
     "name": "stdout",
     "output_type": "stream",
     "text": [
      "[[  1.   2.   3.   4.]\n",
      " [  5.   6.   7.   8.]\n",
      " [  9.  10.  11.  12.]\n",
      " [ 13.  14.  15.  16.]\n",
      " [ 17.  18.  19.  20.]]\n"
     ]
    }
   ],
   "source": [
    "x = np.linspace(1,20,20).reshape((5,4))\n",
    "print(x)"
   ]
  },
  {
   "cell_type": "code",
   "execution_count": 18,
   "metadata": {
    "collapsed": false,
    "slideshow": {
     "slide_type": "slide"
    }
   },
   "outputs": [
    {
     "name": "stdout",
     "output_type": "stream",
     "text": [
      "[[  1.   2.   3.   4.]\n",
      " [  5.   6.   7.   8.]\n",
      " [  9.  10.  11.  12.]\n",
      " [ 13.  14.  15.  16.]\n",
      " [ 17.  18.  19.  20.]]\n",
      "\n",
      "x[3,1] = 14.0\n"
     ]
    }
   ],
   "source": [
    "a = x[3,1]\n",
    "\n",
    "print(x)\n",
    "print('\\nx[3,1] =', a)"
   ]
  },
  {
   "cell_type": "code",
   "execution_count": 19,
   "metadata": {
    "collapsed": false,
    "slideshow": {
     "slide_type": "slide"
    }
   },
   "outputs": [
    {
     "name": "stdout",
     "output_type": "stream",
     "text": [
      "[[  1.   2.   3.   4.]\n",
      " [  5.   6.   7.   8.]\n",
      " [  9.  10.  11.  12.]\n",
      " [ 13.  14.  15.  16.]\n",
      " [ 17.  18.  19.  20.]]\n",
      "\n",
      "x[3, :] = [ 13.  14.  15.  16.]\n"
     ]
    }
   ],
   "source": [
    "a = x[3, :]\n",
    "\n",
    "print(x)\n",
    "print('\\nx[3, :] =', a)"
   ]
  },
  {
   "cell_type": "code",
   "execution_count": 20,
   "metadata": {
    "collapsed": false,
    "slideshow": {
     "slide_type": "slide"
    }
   },
   "outputs": [
    {
     "name": "stdout",
     "output_type": "stream",
     "text": [
      "[[  1.   2.   3.   4.]\n",
      " [  5.   6.   7.   8.]\n",
      " [  9.  10.  11.  12.]\n",
      " [ 13.  14.  15.  16.]\n",
      " [ 17.  18.  19.  20.]]\n",
      "\n",
      "x[1:4, 1:4] =\n",
      "[[  6.   7.   8.]\n",
      " [ 10.  11.  12.]\n",
      " [ 14.  15.  16.]]\n"
     ]
    }
   ],
   "source": [
    "a = x[1:4, 1:4]\n",
    "\n",
    "print(x)\n",
    "print('\\nx[1:4, 1:4] =')\n",
    "print(a)"
   ]
  },
  {
   "cell_type": "markdown",
   "metadata": {
    "slideshow": {
     "slide_type": "slide"
    }
   },
   "source": [
    "Mas os slices de `arrays` unidimensionais também existem, tal como nas listas:"
   ]
  },
  {
   "cell_type": "code",
   "execution_count": 21,
   "metadata": {
    "collapsed": false
   },
   "outputs": [
    {
     "name": "stdout",
     "output_type": "stream",
     "text": [
      "[ 0.2  0.3  0.4  0.5  0.6  0.7  0.8  0.9  1. ]\n"
     ]
    }
   ],
   "source": [
    "x =np.arange(0, 1.1, 0.1)[2:]\n",
    "print(x)"
   ]
  },
  {
   "cell_type": "markdown",
   "metadata": {
    "slideshow": {
     "slide_type": "slide"
    }
   },
   "source": [
    "**Problema: mostrar que as diferenças entre os quadrados perfeitos sucessivos são os numeros ímpares **"
   ]
  },
  {
   "cell_type": "code",
   "execution_count": 22,
   "metadata": {
    "collapsed": false,
    "slideshow": {
     "slide_type": "-"
    }
   },
   "outputs": [
    {
     "name": "stdout",
     "output_type": "stream",
     "text": [
      "[  0   1   4   9  16  25  36  49  64  81 100 121]\n",
      "[ 1  3  5  7  9 11 13 15 17 19 21]\n"
     ]
    }
   ],
   "source": [
    "quads = np.arange(12)**2\n",
    "print(quads)\n",
    "\n",
    "difs = quads[1:] - quads[0:-1]\n",
    "print(difs)"
   ]
  },
  {
   "cell_type": "markdown",
   "metadata": {
    "slideshow": {
     "slide_type": "slide"
    }
   },
   "source": [
    "### Indexação booleana"
   ]
  },
  {
   "cell_type": "code",
   "execution_count": 23,
   "metadata": {
    "collapsed": false,
    "slideshow": {
     "slide_type": "slide"
    }
   },
   "outputs": [
    {
     "name": "stdout",
     "output_type": "stream",
     "text": [
      "x = [  1.    2.8   4.6   6.4   8.2  10. ]\n",
      "\n",
      "x < 7\n",
      "[ True  True  True  True False False]\n",
      "\n",
      "x[x < 7]\n",
      "[ 1.   2.8  4.6  6.4]\n"
     ]
    }
   ],
   "source": [
    "x = np.linspace(1, 10, 6)\n",
    "print('x =', x)\n",
    "\n",
    "a = x < 7\n",
    "print('\\nx < 7')\n",
    "print(a)\n",
    "\n",
    "y = x[x < 7]\n",
    "print('\\nx[x < 7]')\n",
    "print(y)"
   ]
  },
  {
   "cell_type": "markdown",
   "metadata": {
    "slideshow": {
     "slide_type": "slide"
    }
   },
   "source": [
    "**Problema: somar as raízes quadradas dos números inteiros até 100, mas só as que sejam números inteiros**"
   ]
  },
  {
   "cell_type": "code",
   "execution_count": 24,
   "metadata": {
    "collapsed": false,
    "slideshow": {
     "slide_type": "-"
    }
   },
   "outputs": [
    {
     "name": "stdout",
     "output_type": "stream",
     "text": [
      "55.0\n"
     ]
    }
   ],
   "source": [
    "roots = np.arange(0,101)**0.5\n",
    "\n",
    "# usando a função np.trunc()\n",
    "s = sum(roots[np.trunc(roots) == roots])\n",
    "\n",
    "print(s)"
   ]
  },
  {
   "cell_type": "markdown",
   "metadata": {
    "slideshow": {
     "slide_type": "slide"
    }
   },
   "source": [
    "### Indexação com listas de inteiros ou outros _arrays_"
   ]
  },
  {
   "cell_type": "code",
   "execution_count": 25,
   "metadata": {
    "collapsed": false,
    "slideshow": {
     "slide_type": "-"
    }
   },
   "outputs": [
    {
     "name": "stdout",
     "output_type": "stream",
     "text": [
      "x = [  5.   7.   9.  11.  13.  15.]\n",
      "\n",
      "i = [1, 4, 5]\n",
      "\n",
      "x[i] = [  7.  13.  15.]\n"
     ]
    }
   ],
   "source": [
    "x = np.linspace(5, 15, 6)\n",
    "print('x =', x)\n",
    "\n",
    "i = [1,4,5]\n",
    "print('\\ni =', i)\n",
    "\n",
    "y = x[i]\n",
    "print('\\nx[i] =', y)"
   ]
  },
  {
   "cell_type": "markdown",
   "metadata": {
    "slideshow": {
     "slide_type": "slide"
    }
   },
   "source": [
    "### Funções associadas a  _arrays_"
   ]
  },
  {
   "cell_type": "markdown",
   "metadata": {
    "slideshow": {
     "slide_type": "slide"
    }
   },
   "source": [
    "Os objetos do tipo _array_ possuem muitas funções associadas.\n",
    "\n",
    "Algumas são:\n",
    "\n",
    "- `.sum()` que calcula a soma dos elementos\n",
    "- `.mean()` que calcula a média dos elementos\n",
    "- `.var()` que calcula a variância dos elementos\n",
    "- `.std()` que calcula o desvio padrão dos elementos\n",
    "- `.prod()` que calcula o produto dos elementos\n",
    "\n",
    "\n",
    "- `.ptp()` (_peak to peak_) que calcula o máximo - mínimo\n",
    "\n",
    "\n",
    "- `.cumsum()` que calcula a soma cumulativa dos elementos\n",
    "- `.cumprod()` que calcula o produto cumulativo dos elementos"
   ]
  },
  {
   "cell_type": "markdown",
   "metadata": {
    "slideshow": {
     "slide_type": "slide"
    }
   },
   "source": [
    "No caso da aplicação destas funções a _arrays_ multidimensionais, podemos especifica um \"eixo\" para aplicar o cálculo."
   ]
  },
  {
   "cell_type": "markdown",
   "metadata": {
    "slideshow": {
     "slide_type": "slide"
    }
   },
   "source": [
    "Vejamos a aplicação da função `.sum()` a um _array_ unidimensional:\n"
   ]
  },
  {
   "cell_type": "code",
   "execution_count": 26,
   "metadata": {
    "collapsed": false
   },
   "outputs": [
    {
     "name": "stdout",
     "output_type": "stream",
     "text": [
      "210.0\n"
     ]
    }
   ],
   "source": [
    "a = np.linspace(1,20,20).sum()\n",
    "print(a)"
   ]
  },
  {
   "cell_type": "markdown",
   "metadata": {
    "slideshow": {
     "slide_type": "slide"
    }
   },
   "source": [
    "E agora 3 maneiras de aplicar a função `.sum()` a um array multidimensional"
   ]
  },
  {
   "cell_type": "code",
   "execution_count": 27,
   "metadata": {
    "collapsed": false,
    "scrolled": true,
    "slideshow": {
     "slide_type": "slide"
    }
   },
   "outputs": [
    {
     "name": "stdout",
     "output_type": "stream",
     "text": [
      "[[  1.   2.   3.   4.]\n",
      " [  5.   6.   7.   8.]\n",
      " [  9.  10.  11.  12.]\n",
      " [ 13.  14.  15.  16.]\n",
      " [ 17.  18.  19.  20.]]\n",
      "\n",
      " 210.0\n"
     ]
    }
   ],
   "source": [
    "# Como se fosse unidimensional\n",
    "# aplicando a todos os elementos\n",
    "x = np.linspace(1,20,20).reshape((5,4))\n",
    "print(x)\n",
    "\n",
    "s = x.sum()\n",
    "print('\\n', s)"
   ]
  },
  {
   "cell_type": "code",
   "execution_count": 28,
   "metadata": {
    "collapsed": false,
    "scrolled": true,
    "slideshow": {
     "slide_type": "slide"
    }
   },
   "outputs": [
    {
     "name": "stdout",
     "output_type": "stream",
     "text": [
      "[[  1.   2.   3.   4.]\n",
      " [  5.   6.   7.   8.]\n",
      " [  9.  10.  11.  12.]\n",
      " [ 13.  14.  15.  16.]\n",
      " [ 17.  18.  19.  20.]]\n",
      "\n",
      " [ 45.  50.  55.  60.]\n"
     ]
    }
   ],
   "source": [
    "# Ao longo do eixo 0\n",
    "x = np.linspace(1,20,20).reshape((5,4))\n",
    "print(x)\n",
    "\n",
    "s = x.sum(axis=0)\n",
    "print('\\n', s)"
   ]
  },
  {
   "cell_type": "code",
   "execution_count": 29,
   "metadata": {
    "collapsed": false,
    "scrolled": true,
    "slideshow": {
     "slide_type": "slide"
    }
   },
   "outputs": [
    {
     "name": "stdout",
     "output_type": "stream",
     "text": [
      "[[  1.   2.   3.   4.]\n",
      " [  5.   6.   7.   8.]\n",
      " [  9.  10.  11.  12.]\n",
      " [ 13.  14.  15.  16.]\n",
      " [ 17.  18.  19.  20.]]\n",
      "\n",
      " [ 10.  26.  42.  58.  74.]\n"
     ]
    }
   ],
   "source": [
    "# Ao longo do eixo 1\n",
    "x = np.linspace(1,20,20).reshape((5,4))\n",
    "print(x)\n",
    "\n",
    "s = x.sum(axis=1)\n",
    "print('\\n', s)"
   ]
  },
  {
   "cell_type": "markdown",
   "metadata": {
    "slideshow": {
     "slide_type": "slide"
    }
   },
   "source": [
    "**Problema: mostrar que a série alternada dos inversos converge para log 2**"
   ]
  },
  {
   "cell_type": "code",
   "execution_count": 30,
   "metadata": {
    "collapsed": false,
    "slideshow": {
     "slide_type": "slide"
    }
   },
   "outputs": [
    {
     "name": "stdout",
     "output_type": "stream",
     "text": [
      "[ 1.          0.5         0.83333333  0.58333333]\n"
     ]
    }
   ],
   "source": [
    "i = np.arange(1,80)\n",
    "termos = (-1)**(i+1) * 1/i \n",
    "s = termos.cumsum()\n",
    "print(s[:4])"
   ]
  },
  {
   "cell_type": "code",
   "execution_count": 31,
   "metadata": {
    "collapsed": false,
    "slideshow": {
     "slide_type": "slide"
    }
   },
   "outputs": [
    {
     "data": {
      "image/png": "[encoded data removed]",
      "text/plain": [
       "<matplotlib.figure.Figure at 0x27bc7a557f0>"
      ]
     },
     "metadata": {},
     "output_type": "display_data"
    }
   ],
   "source": [
    "i = np.arange(1,80)\n",
    "termos = (-1)**(i+1) * 1/i \n",
    "s = termos.cumsum()\n",
    "\n",
    "pl.ylim(0.6, 0.8)\n",
    "pl.axhline(np.log(2), color='red')\n",
    "g = pl.plot(i,s, '-o')"
   ]
  },
  {
   "cell_type": "code",
   "execution_count": 32,
   "metadata": {
    "collapsed": false,
    "slideshow": {
     "slide_type": "slide"
    }
   },
   "outputs": [
    {
     "data": {
      "image/png": "[encoded data removed]",
      "text/plain": [
       "<matplotlib.figure.Figure at 0x27bc7c0ea20>"
      ]
     },
     "metadata": {},
     "output_type": "display_data"
    }
   ],
   "source": [
    "# Agora com 300 termos\n",
    "i = np.arange(1, 300)\n",
    "termos = (-1)**(i+1) * 1/i \n",
    "s = termos.cumsum()\n",
    "\n",
    "pl.ylim(0.6, 0.8)\n",
    "pl.axhline(np.log(2), color='red')\n",
    "g = pl.plot(i,s, alpha=0.7)"
   ]
  },
  {
   "cell_type": "markdown",
   "metadata": {
    "slideshow": {
     "slide_type": "slide"
    }
   },
   "source": [
    "## Exemplos de algumas funcionalidade do `numpy`."
   ]
  },
  {
   "cell_type": "markdown",
   "metadata": {
    "slideshow": {
     "slide_type": "slide"
    }
   },
   "source": [
    "### Geração de números aleatórios. (sub-módulo `numpy.random`)"
   ]
  },
  {
   "cell_type": "markdown",
   "metadata": {},
   "source": [
    "Obter valores aleatórios das seguintes distribuições:\n",
    "\n",
    "**Poisson** (usada para número de ocorrências durante um intervalo)\n",
    "\n",
    "$p(x, \\lambda) = \\frac{e^{-x} \\lambda^x}{x!}$ com $x = 0, 1, 2, ...$\n",
    "\n",
    "**Normal (0,1)**\n",
    "\n",
    "$f(x) = \\frac{1}{\\sqrt{2\\pi}} e^{-x^2 / 2}$ com $x \\in [-\\infty, \\infty]$"
   ]
  },
  {
   "cell_type": "code",
   "execution_count": 33,
   "metadata": {
    "collapsed": false,
    "slideshow": {
     "slide_type": "slide"
    }
   },
   "outputs": [
    {
     "name": "stdout",
     "output_type": "stream",
     "text": [
      "20 valores aleatórios da dist. de Poisson\n",
      " com lambda = 3\n",
      "[4 2 4 3 2 3 4 6 2 5 1 3 1 3 1 4 4 3 4 1]\n"
     ]
    }
   ],
   "source": [
    "print('20 valores aleatórios da dist. de Poisson')\n",
    "print(' com lambda = 3')\n",
    "\n",
    "x = np.random.poisson(3, 20)\n",
    "print(x)"
   ]
  },
  {
   "cell_type": "code",
   "execution_count": 34,
   "metadata": {
    "collapsed": false,
    "slideshow": {
     "slide_type": "slide"
    }
   },
   "outputs": [
    {
     "name": "stdout",
     "output_type": "stream",
     "text": [
      "5 valores aleatórios da distribuição N(0,1)\n",
      "[-0.54436121 -2.51328513 -0.83629127 -0.88175319  0.28611563]\n"
     ]
    }
   ],
   "source": [
    "print('5 valores aleatórios da distribuição N(0,1)')\n",
    "x = np.random.randn(5)\n",
    "print(x)"
   ]
  },
  {
   "cell_type": "markdown",
   "metadata": {
    "slideshow": {
     "slide_type": "slide"
    }
   },
   "source": [
    "**Problema**: \"Provar\" que a média e a variância da distribuição de Poisson são ambas iguais a $ \\lambda $."
   ]
  },
  {
   "cell_type": "code",
   "execution_count": 35,
   "metadata": {
    "collapsed": false
   },
   "outputs": [
    {
     "name": "stdout",
     "output_type": "stream",
     "text": [
      "Média =  3.00879\n",
      "Variância = 3.0189527359\n"
     ]
    }
   ],
   "source": [
    "sample = np.random.poisson(3, 100000)\n",
    "\n",
    "print('Média = ', sample.mean())\n",
    "\n",
    "print('Variância =', sample.var())"
   ]
  },
  {
   "cell_type": "markdown",
   "metadata": {
    "slideshow": {
     "slide_type": "slide"
    }
   },
   "source": [
    "**Problema**: Mostar numericamente o _Teorema do Limite Central_ para uma distribuição de Poisson."
   ]
  },
  {
   "cell_type": "code",
   "execution_count": 36,
   "metadata": {
    "collapsed": false,
    "slideshow": {
     "slide_type": "slide"
    }
   },
   "outputs": [
    {
     "data": {
      "image/png": "[encoded data removed]",
      "text/plain": [
       "<matplotlib.figure.Figure at 0x27bc7c6cc50>"
      ]
     },
     "metadata": {},
     "output_type": "display_data"
    }
   ],
   "source": [
    "# Distribuição de médias de amostras de 2\n",
    "sample = np.random.poisson(3, (100000,2) )\n",
    "\n",
    "means = sample.mean(axis=1)\n",
    "\n",
    "unique, counts = np.unique(means, return_counts=True)\n",
    "\n",
    "pl.vlines(unique, [0], counts, color='darkblue')\n",
    "g = pl.plot(unique, counts, 'o')"
   ]
  },
  {
   "cell_type": "code",
   "execution_count": 37,
   "metadata": {
    "collapsed": false,
    "slideshow": {
     "slide_type": "slide"
    }
   },
   "outputs": [
    {
     "data": {
      "image/png": "[encoded data removed]",
      "text/plain": [
       "<matplotlib.figure.Figure at 0x27bc7cef2e8>"
      ]
     },
     "metadata": {},
     "output_type": "display_data"
    }
   ],
   "source": [
    "# Distribuição de médias de amostras de 20\n",
    "sample = np.random.poisson(3, (100000,20) )\n",
    "means = sample.mean(axis=1)\n",
    "unique, counts = np.unique(means, return_counts=True)\n",
    "\n",
    "pl.vlines(unique, [0], counts, color='skyblue')\n",
    "g = pl.plot(unique, counts, 'o')"
   ]
  },
  {
   "cell_type": "markdown",
   "metadata": {
    "slideshow": {
     "slide_type": "slide"
    }
   },
   "source": [
    "### Matrizes e álgebra linear"
   ]
  },
  {
   "cell_type": "code",
   "execution_count": 38,
   "metadata": {
    "collapsed": false,
    "slideshow": {
     "slide_type": "slide"
    }
   },
   "outputs": [
    {
     "name": "stdout",
     "output_type": "stream",
     "text": [
      "A\n",
      " [[1 2 3]\n",
      " [2 1 6]\n",
      " [1 7 4]]\n",
      "B\n",
      " [[1]\n",
      " [2]\n",
      " [3]]\n",
      "\n",
      "C = A * B\n",
      " [[14]\n",
      " [22]\n",
      " [27]]\n"
     ]
    }
   ],
   "source": [
    "A = np.matrix([[1, 2, 3], [2, 1, 6], [1, 7, 4]])\n",
    "print('A\\n', A)\n",
    "B = np.matrix([1,2,3]).T\n",
    "print('B\\n', B)\n",
    "\n",
    "C = A * B\n",
    "print('\\nC = A * B\\n', C)"
   ]
  },
  {
   "cell_type": "code",
   "execution_count": 39,
   "metadata": {
    "collapsed": false,
    "slideshow": {
     "slide_type": "slide"
    }
   },
   "outputs": [
    {
     "name": "stdout",
     "output_type": "stream",
     "text": [
      "Solução de A*X = B\n",
      "[[-5.]\n",
      " [ 0.]\n",
      " [ 2.]]\n"
     ]
    }
   ],
   "source": [
    "A = np.matrix([[1.0, 2, 3], [2, 1, 6], [1, 7, 4]])\n",
    "B = np.matrix([1,2,3]).T\n",
    "\n",
    "X = np.linalg.solve(A, B)\n",
    "print('Solução de A*X = B')\n",
    "print(X)"
   ]
  },
  {
   "cell_type": "markdown",
   "metadata": {
    "slideshow": {
     "slide_type": "slide"
    }
   },
   "source": [
    "## `sympy`"
   ]
  },
  {
   "cell_type": "markdown",
   "metadata": {
    "slideshow": {
     "slide_type": "slide"
    }
   },
   "source": [
    "### Símbolos e álgebra básica"
   ]
  },
  {
   "cell_type": "code",
   "execution_count": 40,
   "metadata": {
    "collapsed": false,
    "slideshow": {
     "slide_type": "-"
    }
   },
   "outputs": [
    {
     "name": "stdout",
     "output_type": "stream",
     "text": [
      "2*x\n"
     ]
    }
   ],
   "source": [
    "from sympy import Symbol\n",
    "\n",
    "x = Symbol('x')\n",
    "y = Symbol('y')\n",
    "\n",
    "print(x + y + x -y)"
   ]
  },
  {
   "cell_type": "code",
   "execution_count": 41,
   "metadata": {
    "collapsed": false,
    "slideshow": {
     "slide_type": "slide"
    }
   },
   "outputs": [
    {
     "name": "stdout",
     "output_type": "stream",
     "text": [
      "(x + y)**2\n",
      "x**2 + 2*x*y + y**2\n",
      "y**2 + 2*y + 1\n",
      "4\n"
     ]
    }
   ],
   "source": [
    "a = (x+y)**2\n",
    "print(a)\n",
    "print(a.expand())\n",
    "print(a.subs(x, 1).expand())\n",
    "print(a.subs(x, 1).expand().subs(y, 1))"
   ]
  },
  {
   "cell_type": "markdown",
   "metadata": {
    "slideshow": {
     "slide_type": "slide"
    }
   },
   "source": [
    "### Limites"
   ]
  },
  {
   "cell_type": "code",
   "execution_count": 42,
   "metadata": {
    "collapsed": false,
    "slideshow": {
     "slide_type": "slide"
    }
   },
   "outputs": [
    {
     "name": "stdout",
     "output_type": "stream",
     "text": [
      "1\n",
      "oo\n",
      "0\n"
     ]
    }
   ],
   "source": [
    "from sympy import Symbol, limit, diff, integrate, sin, oo\n",
    "\n",
    "x = Symbol('x')\n",
    "y = Symbol('y')\n",
    "\n",
    "print(limit(sin(x)/x, x, 0))\n",
    "print(limit(x, x, oo))\n",
    "print(limit(1/x, x, oo))"
   ]
  },
  {
   "cell_type": "markdown",
   "metadata": {
    "slideshow": {
     "slide_type": "slide"
    }
   },
   "source": [
    "### Derivadas e integrais"
   ]
  },
  {
   "cell_type": "code",
   "execution_count": 43,
   "metadata": {
    "collapsed": false,
    "slideshow": {
     "slide_type": "slide"
    }
   },
   "outputs": [
    {
     "name": "stdout",
     "output_type": "stream",
     "text": [
      "cos(x)\n",
      "2*cos(2*x)\n",
      "----------------\n",
      "2**x + x**2 - 3\n",
      "2**x*log(2) + 2*x\n",
      "2**x*log(2)**3\n"
     ]
    }
   ],
   "source": [
    "print(diff(sin(x), x))\n",
    "print(diff(sin(2*x), x))\n",
    "print('----------------')\n",
    "expr = 2**x + x**2 -3\n",
    "print(expr)\n",
    "print(diff(expr, x))\n",
    "print(diff(expr, x, 3))"
   ]
  },
  {
   "cell_type": "code",
   "execution_count": 44,
   "metadata": {
    "collapsed": false,
    "slideshow": {
     "slide_type": "slide"
    }
   },
   "outputs": [
    {
     "name": "stdout",
     "output_type": "stream",
     "text": [
      "-cos(x)\n"
     ]
    }
   ],
   "source": [
    "print(integrate(sin(x), x))"
   ]
  }
 ],
 "metadata": {
  "anaconda-cloud": {},
  "celltoolbar": "Slideshow",
  "kernelspec": {
   "display_name": "Python [default]",
   "language": "python",
   "name": "python3"
  },
  "language_info": {
   "codemirror_mode": {
    "name": "ipython",
    "version": 3
   },
   "file_extension": ".py",
   "mimetype": "text/x-python",
   "name": "python",
   "nbconvert_exporter": "python",
   "pygments_lexer": "ipython3",
   "version": "3.5.2"
  }
 },
 "nbformat": 4,
 "nbformat_minor": 0
}
