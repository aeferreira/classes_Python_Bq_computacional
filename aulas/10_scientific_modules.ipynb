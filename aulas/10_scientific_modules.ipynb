{
 "cells": [
  {
   "cell_type": "markdown",
   "metadata": {},
   "source": [
    "# Python \"científico\": módulo `numpy`\n",
    "\n",
    "![](images_scipython/sci_python.png)"
   ]
  },
  {
   "cell_type": "markdown",
   "metadata": {},
   "source": [
    "## `numpy`"
   ]
  },
  {
   "cell_type": "markdown",
   "metadata": {},
   "source": [
    "### Operações \"vectoriais\""
   ]
  },
  {
   "cell_type": "code",
   "execution_count": 1,
   "metadata": {
    "collapsed": true
   },
   "outputs": [],
   "source": [
    "import numpy as np"
   ]
  },
  {
   "cell_type": "code",
   "execution_count": 2,
   "metadata": {
    "collapsed": false
   },
   "outputs": [
    {
     "name": "stdout",
     "output_type": "stream",
     "text": [
      "x = [ 0.   0.2  0.5  1.   1.1]\n",
      "\n",
      "y = [ 0.   0.8  2.   4.   4.4]\n",
      "\n"
     ]
    }
   ],
   "source": [
    "numbers = [0.0, 0.2, 0.5, 1.0, 1.1]\n",
    "x = np.array(numbers)\n",
    "\n",
    "print 'x = {}\\n'.format(x)\n",
    "\n",
    "y = 4 * x\n",
    "\n",
    "print 'y = {}\\n'.format(y)"
   ]
  },
  {
   "cell_type": "markdown",
   "metadata": {},
   "source": [
    "A função `np.array()` transformou a lista num objeto do tipo _array_.\n",
    "\n",
    "Estes objetos suportam operações aritméticas \"vetoriais\": na expressão `y = 4 * x` a multiplicação por 4 é aplicada a todos os elementos de `x`. O resultado é também um _array_."
   ]
  },
  {
   "cell_type": "markdown",
   "metadata": {},
   "source": [
    "### Criação de _arrays_ com as funções `.array()`, `.arange()` e `.linspace()`"
   ]
  },
  {
   "cell_type": "code",
   "execution_count": 3,
   "metadata": {
    "collapsed": false
   },
   "outputs": [
    {
     "name": "stdout",
     "output_type": "stream",
     "text": [
      "Criado com .array(), x = [ 1.   1.2  3.   3.5]\n",
      "\n",
      "Criado com .arange(), x = [ 1.5  1.6  1.7  1.8  1.9  2.   2.1  2.2  2.3  2.4]\n",
      "\n",
      "Criado com .linspace(), x = [ 1.    1.25  1.5   1.75  2.  ]\n",
      "\n"
     ]
    }
   ],
   "source": [
    "x = np.array([1, 1.2, 3, 3.5])\n",
    "print 'Criado com .array(), x = {}\\n'.format(x)\n",
    "\n",
    "x = np.arange(1.5, 2.5, 0.1)\n",
    "print 'Criado com .arange(), x = {}\\n'.format(x)\n",
    "\n",
    "x = np.linspace(1, 2, 5)\n",
    "print 'Criado com .linspace(), x = {}\\n'.format(x)"
   ]
  },
  {
   "cell_type": "code",
   "execution_count": 4,
   "metadata": {
    "collapsed": false
   },
   "outputs": [
    {
     "name": "stdout",
     "output_type": "stream",
     "text": [
      "x\n",
      "[ 0.          0.13157895  0.26315789  0.39473684  0.52631579  0.65789474\n",
      "  0.78947368  0.92105263  1.05263158  1.18421053  1.31578947  1.44736842\n",
      "  1.57894737  1.71052632  1.84210526  1.97368421  2.10526316  2.23684211\n",
      "  2.36842105  2.5       ]\n",
      "\n",
      "y\n",
      "[ -3.          -2.93074792  -2.72299169  -2.3767313   -1.89196676\n",
      "  -1.26869806  -0.50692521   0.3933518    1.43213296   2.60941828\n",
      "   3.92520776   5.37950139   6.97229917   8.70360111  10.5734072\n",
      "  12.58171745  14.72853186  17.01385042  19.43767313  22.        ]\n"
     ]
    }
   ],
   "source": [
    "x = np.linspace (0.0, 2.5, 20)\n",
    "print 'x'\n",
    "print x\n",
    "\n",
    "y = 4 * x**2 -3\n",
    "\n",
    "print \n",
    "print 'y'\n",
    "print y"
   ]
  },
  {
   "cell_type": "markdown",
   "metadata": {},
   "source": [
    "### Dimensões (`shape`)"
   ]
  },
  {
   "cell_type": "code",
   "execution_count": 5,
   "metadata": {
    "collapsed": false
   },
   "outputs": [
    {
     "name": "stdout",
     "output_type": "stream",
     "text": [
      "x = [  1.   2.   3.   4.   5.   6.   7.   8.   9.  10.  11.  12.  13.  14.  15.\n",
      "  16.  17.  18.  19.  20.]\n",
      "\n",
      "Após mudar a \"shape\"\n",
      "x =\n",
      "[[  1.   2.   3.   4.]\n",
      " [  5.   6.   7.   8.]\n",
      " [  9.  10.  11.  12.]\n",
      " [ 13.  14.  15.  16.]\n",
      " [ 17.  18.  19.  20.]]\n"
     ]
    }
   ],
   "source": [
    "x = np.linspace(1,20,20)\n",
    "print 'x = {}\\n'.format(x)\n",
    "\n",
    "x.shape = (5,4)\n",
    "# significa 5 linhas e 4 colunas\n",
    "\n",
    "print 'Após mudar a \"shape\"\\nx =\\n{}'.format(x)"
   ]
  },
  {
   "cell_type": "markdown",
   "metadata": {},
   "source": [
    "### Criação de _arrays_ com `.array()`, `.ones()`, `.zeros()`, `.eye()`, `.diag()`"
   ]
  },
  {
   "cell_type": "code",
   "execution_count": 6,
   "metadata": {
    "collapsed": false
   },
   "outputs": [
    {
     "name": "stdout",
     "output_type": "stream",
     "text": [
      "np.array( [[1, 1.2, 3], [1.3,5.1,1.3]] ) =\n",
      "[[ 1.   1.2  3. ]\n",
      " [ 1.3  5.1  1.3]]\n",
      "\n",
      "np.ones((3,2)) =\n",
      "[[ 1.  1.]\n",
      " [ 1.  1.]\n",
      " [ 1.  1.]]\n",
      "\n",
      "np.zeros((3,2)) =\n",
      "[[ 0.  0.]\n",
      " [ 0.  0.]\n",
      " [ 0.  0.]]\n",
      "\n",
      "np.eye(3) =\n",
      "[[ 1.  0.  0.]\n",
      " [ 0.  1.  0.]\n",
      " [ 0.  0.  1.]]\n",
      "\n",
      "np.diag([1.2, 3.2, 4.1, 6.3]) =\n",
      "[[ 1.2  0.   0.   0. ]\n",
      " [ 0.   3.2  0.   0. ]\n",
      " [ 0.   0.   4.1  0. ]\n",
      " [ 0.   0.   0.   6.3]]\n"
     ]
    }
   ],
   "source": [
    "x = np.array( [[1, 1.2, 3], [1.3,5.1,1.3]] )\n",
    "print 'np.array( [[1, 1.2, 3], [1.3,5.1,1.3]] ) =\\n{}\\n'.format(x)\n",
    "\n",
    "x = np.ones((3,2))\n",
    "print 'np.ones((3,2)) =\\n{}\\n'.format(x)\n",
    "\n",
    "x = np.zeros((3,2))\n",
    "print 'np.zeros((3,2)) =\\n{}\\n'.format(x)\n",
    "\n",
    "x = np.eye(3)\n",
    "print 'np.eye(3) =\\n{}\\n'.format(x)\n",
    "\n",
    "x = np.diag([1.2, 3.2, 4.1, 6.3])\n",
    "print 'np.diag([1.2, 3.2, 4.1, 6.3]) =\\n{}'.format(x)"
   ]
  },
  {
   "cell_type": "markdown",
   "metadata": {},
   "source": [
    "### Indexação a várias dimensões"
   ]
  },
  {
   "cell_type": "code",
   "execution_count": 7,
   "metadata": {
    "collapsed": false
   },
   "outputs": [
    {
     "name": "stdout",
     "output_type": "stream",
     "text": [
      "x =\n",
      "[[  1.   2.   3.   4.]\n",
      " [  5.   6.   7.   8.]\n",
      " [  9.  10.  11.  12.]\n",
      " [ 13.  14.  15.  16.]\n",
      " [ 17.  18.  19.  20.]]\n",
      "\n",
      "x[3,1] =\n",
      "14.0\n",
      "\n",
      "x[3, :] =\n",
      "[ 13.  14.  15.  16.]\n",
      "\n",
      "x[0:2, 0:2] =\n",
      "[[ 1.  2.]\n",
      " [ 5.  6.]]\n",
      "\n"
     ]
    }
   ],
   "source": [
    "x = np.linspace(1,20,20).reshape((5,4))\n",
    "print 'x =\\n{}\\n'.format(x)\n",
    "print 'x[3,1] =\\n{}\\n'.format(x[3,1])\n",
    "print 'x[3, :] =\\n{}\\n'.format(x[3, :])\n",
    "print 'x[0:2, 0:2] =\\n{}\\n'.format(x[0:2, 0:2])"
   ]
  },
  {
   "cell_type": "markdown",
   "metadata": {},
   "source": [
    "### Indexação booleana"
   ]
  },
  {
   "cell_type": "code",
   "execution_count": 8,
   "metadata": {
    "collapsed": false
   },
   "outputs": [
    {
     "name": "stdout",
     "output_type": "stream",
     "text": [
      "x = [  1.   2.   3.   4.   5.   6.   7.   8.   9.  10.  11.  12.  13.  14.  15.\n",
      "  16.  17.  18.  19.  20.]\n",
      "\n",
      "x > 7\n",
      " [False False False False False False False  True  True  True  True  True\n",
      "  True  True  True  True  True  True  True  True]\n",
      "\n",
      "x[x > 7] \n",
      " [  8.   9.  10.  11.  12.  13.  14.  15.  16.  17.  18.  19.  20.]\n",
      "\n",
      "\n"
     ]
    }
   ],
   "source": [
    "x = np.linspace(1,20,20)\n",
    "print 'x = {}\\n'.format(x)\n",
    "\n",
    "print 'x > 7\\n {}\\n'.format(x > 7)\n",
    "\n",
    "print 'x[x > 7] \\n {}\\n'.format(x[x > 7])\n",
    "print "
   ]
  },
  {
   "cell_type": "markdown",
   "metadata": {},
   "source": [
    "### Indexação com listas de inteiros ou _arrays_"
   ]
  },
  {
   "cell_type": "code",
   "execution_count": 9,
   "metadata": {
    "collapsed": false
   },
   "outputs": [
    {
     "name": "stdout",
     "output_type": "stream",
     "text": [
      "x = [  5.   6.   7.   8.   9.  10.  11.  12.  13.  14.  15.]\n",
      "\n",
      "i = [1, 4, 5, 6, 8]\n",
      "\n",
      "x[i] =\n",
      "[  6.   9.  10.  11.  13.]\n",
      "\n"
     ]
    }
   ],
   "source": [
    "x = np.linspace(5,15,11)\n",
    "print 'x = {}\\n'.format(x)\n",
    "\n",
    "i = [1,4,5,6,8]\n",
    "print 'i = {}\\n'.format(i)\n",
    "\n",
    "print 'x[i] =\\n{}\\n'.format(x[i])"
   ]
  },
  {
   "cell_type": "markdown",
   "metadata": {},
   "source": [
    "### Exemplos de algumas funções do `numpy`."
   ]
  },
  {
   "cell_type": "code",
   "execution_count": 10,
   "metadata": {
    "collapsed": false
   },
   "outputs": [
    {
     "name": "stdout",
     "output_type": "stream",
     "text": [
      "\n",
      "raízes de x**3 + 2 x**2 + x + 1\n",
      "[-1.75487767+0.j         -0.12256117+0.74486177j -0.12256117-0.74486177j]\n"
     ]
    }
   ],
   "source": [
    "x = np.roots ([1.0,2.0,1.0,1.0])\n",
    "print\n",
    "print 'raízes de x**3 + 2 x**2 + x + 1'\n",
    "print x"
   ]
  },
  {
   "cell_type": "markdown",
   "metadata": {},
   "source": [
    "### Geração de números aleatórios."
   ]
  },
  {
   "cell_type": "markdown",
   "metadata": {},
   "source": [
    "Obter valores aleatórios das seguintes distribuições:\n",
    "\n",
    "**Poisson** (usada para número de ocorrências durante um intervalo)\n",
    "\n",
    "$p(x, \\lambda) = \\frac{e^{-x} \\lambda^x}{x!}$ com $x = 0, 1, 2, ...$\n",
    "\n",
    "**Normal (0,1)**\n",
    "\n",
    "$f(x) = \\frac{1}{\\sqrt{2\\pi}} e^{-x^2 / 2}$ com $x \\in [-\\infty, \\infty]$"
   ]
  },
  {
   "cell_type": "code",
   "execution_count": 11,
   "metadata": {
    "collapsed": false
   },
   "outputs": [
    {
     "name": "stdout",
     "output_type": "stream",
     "text": [
      "20 valores aleatórios da distribuição de Poisson com lambda = 3\n",
      "[7 1 3 4 1 3 2 1 7 0 6 4 2 2 1 5 3 1 3 3]\n",
      "\n",
      "5 valores aleatórios da distribuição N(0,1)\n",
      "[-1.58803295  0.97400792  1.88910888 -1.28964779 -0.60016376]\n"
     ]
    }
   ],
   "source": [
    "print '20 valores aleatórios da distribuição de Poisson com lambda = 3'\n",
    "print np.random.poisson(3, 20)\n",
    "\n",
    "print '\\n5 valores aleatórios da distribuição N(0,1)'\n",
    "print np.random.randn(5)"
   ]
  },
  {
   "cell_type": "markdown",
   "metadata": {},
   "source": [
    "**Problema**: \"Provar\" que a média e a variância da distribuição de Poisson são ambas iguais a $ \\lambda $."
   ]
  },
  {
   "cell_type": "code",
   "execution_count": 12,
   "metadata": {
    "collapsed": false
   },
   "outputs": [
    {
     "name": "stdout",
     "output_type": "stream",
     "text": [
      "Média =  3.01252\n",
      "Variância = 3.0000032496\n"
     ]
    }
   ],
   "source": [
    "sample = np.random.poisson(3, 100000)\n",
    "\n",
    "print 'Média = ', np.mean(sample)\n",
    "\n",
    "print 'Variância =', np.var(sample)"
   ]
  },
  {
   "cell_type": "markdown",
   "metadata": {},
   "source": [
    "### Exemplos de operações vectoriais"
   ]
  },
  {
   "cell_type": "code",
   "execution_count": 13,
   "metadata": {
    "collapsed": false
   },
   "outputs": [
    {
     "name": "stdout",
     "output_type": "stream",
     "text": [
      "2470\n"
     ]
    }
   ],
   "source": [
    "#somar os primeiros 20 quadrados perfeitos\n",
    "print sum(np.arange(20)**2)"
   ]
  },
  {
   "cell_type": "code",
   "execution_count": 14,
   "metadata": {
    "collapsed": false
   },
   "outputs": [
    {
     "name": "stdout",
     "output_type": "stream",
     "text": [
      "[ 1  3  5  7  9 11 13 15 17 19 21 23 25 27 29 31 33 35 37]\n"
     ]
    }
   ],
   "source": [
    "#mostrar que as diferenças entre os quadrados perfeitos sucessivos são os numeros ímpares\n",
    "quads = np.arange(20)**2\n",
    "difs = quads[1:] - quads[0:-1]\n",
    "print difs"
   ]
  },
  {
   "cell_type": "code",
   "execution_count": 15,
   "metadata": {
    "collapsed": false
   },
   "outputs": [
    {
     "name": "stdout",
     "output_type": "stream",
     "text": [
      "55.0\n"
     ]
    }
   ],
   "source": [
    "## #somar as raízes quadradas que são numeros inteiros at 100\n",
    "roots = np.arange(0,101)**0.5\n",
    "print sum(roots[np.trunc(roots) == roots])"
   ]
  },
  {
   "cell_type": "code",
   "execution_count": 16,
   "metadata": {
    "collapsed": false
   },
   "outputs": [
    {
     "name": "stdout",
     "output_type": "stream",
     "text": [
      "[  5.00009693e-07   5.00009307e-07   5.00008693e-07   5.00008307e-07\n",
      "   5.00007693e-07   5.00007307e-07   5.00006693e-07   5.00006307e-07\n",
      "   5.00005693e-07   5.00005307e-07   5.00004693e-07   5.00004307e-07\n",
      "   5.00003693e-07   5.00003307e-07   5.00002693e-07   5.00002307e-07\n",
      "   5.00001693e-07   5.00001307e-07   5.00000693e-07   5.00000307e-07]\n"
     ]
    }
   ],
   "source": [
    "# mostrar que a série alternada dos inversos converge para log 2\n",
    "i = np.arange(1,1000000)\n",
    "difs =  np.abs(np.add.accumulate((-1)**(i+1) * 1.0/i) - np.log(2))\n",
    "print difs[-20:]"
   ]
  },
  {
   "cell_type": "markdown",
   "metadata": {},
   "source": [
    "### Matrizes e álgebra linear"
   ]
  },
  {
   "cell_type": "code",
   "execution_count": 17,
   "metadata": {
    "collapsed": false
   },
   "outputs": [
    {
     "name": "stdout",
     "output_type": "stream",
     "text": [
      "A\n",
      "[[1 2 3]\n",
      " [2 1 6]\n",
      " [1 7 4]]\n",
      "\n",
      "B\n",
      "[[1 2 3]]\n",
      "\n",
      "B.T\n",
      "[[1]\n",
      " [2]\n",
      " [3]]\n",
      "\n",
      "C = A * B.T\n",
      "[[14]\n",
      " [22]\n",
      " [27]]\n",
      "\n"
     ]
    }
   ],
   "source": [
    "A = np.matrix ([[1, 2, 3], [2, 1, 6], [1, 7, 4]])\n",
    "\n",
    "print 'A\\n{}\\n'.format(A)\n",
    "\n",
    "B = np.matrix ([1,2,3])\n",
    "print 'B\\n{}\\n'.format(B)\n",
    "\n",
    "BT = B.T \n",
    "print 'B.T\\n{}\\n'.format(BT)\n",
    "\n",
    "C = A * B.T\n",
    "print 'C = A * B.T\\n{}\\n'.format(C)"
   ]
  },
  {
   "cell_type": "code",
   "execution_count": 18,
   "metadata": {
    "collapsed": false
   },
   "outputs": [
    {
     "name": "stdout",
     "output_type": "stream",
     "text": [
      "A\n",
      "[[ 1.  2.  3.]\n",
      " [ 2.  1.  6.]\n",
      " [ 1.  7.  4.]]\n",
      "\n",
      "B\n",
      "[[1]\n",
      " [2]\n",
      " [3]]\n",
      "\n",
      "X (solução de A*X = B)\n",
      "[[-5.]\n",
      " [ 0.]\n",
      " [ 2.]]\n"
     ]
    }
   ],
   "source": [
    "A = np.matrix ([[1.0, 2, 3], [2, 1, 6], [1, 7, 4]])\n",
    "print 'A\\n{}\\n'.format(A)\n",
    "\n",
    "B = np.matrix ([1,2,3]).T\n",
    "print 'B\\n{}\\n'.format(B)\n",
    "\n",
    "X = np.linalg.solve(A, B)\n",
    "print 'X (solução de A*X = B)\\n{}'.format(X)"
   ]
  },
  {
   "cell_type": "code",
   "execution_count": 19,
   "metadata": {
    "collapsed": false
   },
   "outputs": [
    {
     "name": "stdout",
     "output_type": "stream",
     "text": [
      "A\n",
      "[[ 1.  2.  3.]\n",
      " [ 2.  1.  6.]\n",
      " [ 1.  7.  4.]]\n",
      "\n",
      "Inversa de A\n",
      "[[ 12.66666667  -4.33333333  -3.        ]\n",
      " [  0.66666667  -0.33333333   0.        ]\n",
      " [ -4.33333333   1.66666667   1.        ]]\n",
      "\n",
      "A * A**-1\n",
      "[[ 1.  0.  0.]\n",
      " [ 0.  1.  0.]\n",
      " [ 0.  0.  1.]]\n"
     ]
    }
   ],
   "source": [
    "A = np.matrix ([[1.0, 2, 3], [2, 1, 6], [1, 7, 4]])\n",
    "print 'A\\n{}\\n'.format(A)\n",
    "\n",
    "AINV = np.linalg.inv(A)\n",
    "print 'Inversa de A\\n{}\\n'.format(AINV)\n",
    "\n",
    "X = A * AINV\n",
    "print 'A * A**-1'\n",
    "print '{}'.format(X)"
   ]
  },
  {
   "cell_type": "markdown",
   "metadata": {},
   "source": [
    "## `sympy`"
   ]
  },
  {
   "cell_type": "markdown",
   "metadata": {},
   "source": [
    "### Símbolos e álgebra básica"
   ]
  },
  {
   "cell_type": "code",
   "execution_count": 20,
   "metadata": {
    "collapsed": false
   },
   "outputs": [
    {
     "name": "stdout",
     "output_type": "stream",
     "text": [
      "2**x + x**2 - 3\n",
      "\n",
      "2*x\n"
     ]
    }
   ],
   "source": [
    "from sympy import Symbol\n",
    "\n",
    "x = Symbol('x')\n",
    "y = Symbol('y')\n",
    "\n",
    "expr = 2**x + x**2 -3\n",
    "\n",
    "print expr\n",
    "print\n",
    "print x+y+x-y"
   ]
  },
  {
   "cell_type": "code",
   "execution_count": 21,
   "metadata": {
    "collapsed": false
   },
   "outputs": [
    {
     "name": "stdout",
     "output_type": "stream",
     "text": [
      "(x + y)**2\n",
      "x**2 + 2*x*y + y**2\n",
      "\n",
      "y**2 + 2*y + 1\n",
      "4\n"
     ]
    }
   ],
   "source": [
    "a = (x+y)**2\n",
    "print a\n",
    "print a.expand()\n",
    "print\n",
    "print a.subs(x, 1).expand()\n",
    "print a.subs(x, 1).expand().subs(y, 1)"
   ]
  },
  {
   "cell_type": "markdown",
   "metadata": {},
   "source": [
    "### Limites"
   ]
  },
  {
   "cell_type": "code",
   "execution_count": 22,
   "metadata": {
    "collapsed": false
   },
   "outputs": [
    {
     "name": "stdout",
     "output_type": "stream",
     "text": [
      "2**x + x**2 - 3\n",
      "1\n",
      "oo\n",
      "0\n"
     ]
    }
   ],
   "source": [
    "from sympy import Symbol, limit, diff, integrate, sin, oo\n",
    "\n",
    "x = Symbol('x')\n",
    "y = Symbol('y')\n",
    "\n",
    "expr = 2**x + x**2 -3\n",
    "\n",
    "print expr\n",
    "\n",
    "print limit(sin(x)/x, x, 0)\n",
    "print limit(x, x, oo)\n",
    "print limit(1/x, x, oo)"
   ]
  },
  {
   "cell_type": "markdown",
   "metadata": {},
   "source": [
    "### Derivadas e integrais"
   ]
  },
  {
   "cell_type": "code",
   "execution_count": 23,
   "metadata": {
    "collapsed": false
   },
   "outputs": [
    {
     "name": "stdout",
     "output_type": "stream",
     "text": [
      "cos(x)\n",
      "2*cos(2*x)\n",
      "2**x*log(2) + 2*x\n",
      "2**x*log(2)**3\n",
      "-------------------------------\n",
      "-cos(x)\n"
     ]
    }
   ],
   "source": [
    "print diff(sin(x), x)\n",
    "print diff(sin(2*x), x)\n",
    "print diff(expr, x)\n",
    "print diff(expr, x, 3)\n",
    "print '-------------------------------'\n",
    "print integrate(sin(x), x)"
   ]
  },
  {
   "cell_type": "code",
   "execution_count": 24,
   "metadata": {
    "collapsed": false
   },
   "outputs": [
    {
     "name": "stdout",
     "output_type": "stream",
     "text": [
      "M\n",
      "Matrix([[1, x], [y, 1]])\n",
      "\n",
      "M\n",
      "⎡1  x⎤\n",
      "⎢    ⎥\n",
      "⎣y  1⎦\n",
      "\n",
      "------------------------\n",
      "MINV\n",
      "Matrix([[x*y/(-x*y + 1) + 1, -x/(-x*y + 1)], [-y/(-x*y + 1), 1/(-x*y + 1)]])\n",
      "\n",
      "MINV\n",
      "⎡  x⋅y           -x    ⎤\n",
      "⎢──────── + 1  ────────⎥\n",
      "⎢-x⋅y + 1      -x⋅y + 1⎥\n",
      "⎢                      ⎥\n",
      "⎢    -y           1    ⎥\n",
      "⎢  ────────    ────────⎥\n",
      "⎣  -x⋅y + 1    -x⋅y + 1⎦\n",
      "\n",
      "------------------------\n",
      "M.det = -x*y + 1\n"
     ]
    }
   ],
   "source": [
    "from sympy import Symbol, Matrix, pprint\n",
    "\n",
    "x = Symbol('x')\n",
    "y = Symbol('y')\n",
    "\n",
    "M = Matrix([[1,x], [y,1]])\n",
    "print 'M'\n",
    "print M\n",
    "print\n",
    "print 'M'\n",
    "pprint(M)\n",
    "print '\\n------------------------'\n",
    "\n",
    "MINV = M.inv()\n",
    "print 'MINV'\n",
    "print MINV\n",
    "print\n",
    "print 'MINV'\n",
    "pprint(MINV)\n",
    "\n",
    "print '\\n------------------------'\n",
    "d = M.det()\n",
    "print 'M.det =', d"
   ]
  }
 ],
 "metadata": {
  "kernelspec": {
   "display_name": "Python 2",
   "language": "python",
   "name": "python2"
  },
  "language_info": {
   "codemirror_mode": {
    "name": "ipython",
    "version": 2
   },
   "file_extension": ".py",
   "mimetype": "text/x-python",
   "name": "python",
   "nbconvert_exporter": "python",
   "pygments_lexer": "ipython2",
   "version": "2.7.11"
  }
 },
 "nbformat": 4,
 "nbformat_minor": 0
}
