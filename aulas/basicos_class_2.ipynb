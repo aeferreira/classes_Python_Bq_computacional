{
 "cells": [
  {
   "cell_type": "markdown",
   "metadata": {
    "slideshow": {
     "slide_type": "slide"
    }
   },
   "source": [
    "## Exemplo: raízes da equação do 2º grau"
   ]
  },
  {
   "cell_type": "markdown",
   "metadata": {},
   "source": [
    "Exemplo:\n",
    "\n",
    "Calcular as soluções da equação do 2º grau\n",
    "\n",
    "$a x^2 + b x + c = 0$\n",
    "\n",
    "ou seja\n",
    "\n",
    "Dados $a, b$ e $c$, calcular\n",
    "\n",
    "$x_1 = \\frac{-b + \\sqrt{b^2 -4 a c}}{2 a}$ e $x_2 = \\frac{-b - \\sqrt{b^2 -4 a c}}{2 a}$"
   ]
  },
  {
   "cell_type": "code",
   "execution_count": 1,
   "metadata": {
    "collapsed": false,
    "slideshow": {
     "slide_type": "slide"
    }
   },
   "outputs": [
    {
     "name": "stdout",
     "output_type": "stream",
     "text": [
      "Este programa calcula x tal que a x2 + b x + c = 0\n",
      "x1 = (-0.267949192431+0j)\n",
      "x2 = (-3.73205080757+0j)\n"
     ]
    }
   ],
   "source": [
    "print 'Este programa calcula x tal que a x2 + b x + c = 0'\n",
    "# testar com os seguintes valores (1,4,1) , (1,2,1) , (1,1,1)\n",
    "\n",
    "a = 1\n",
    "b = 4\n",
    "c = 1\n",
    "\n",
    "a = float(a)\n",
    "b = float(b)\n",
    "c = float(c)\n",
    "rdelta = complex(b**2 - 4 * a * c) ** 0.5\n",
    "\n",
    "x1 = (- b + rdelta) / (2.0*a)\n",
    "x2 = (- b - rdelta) / (2.0*a)\n",
    "\n",
    "print \"x1 =\", x1\n",
    "print \"x2 =\", x2"
   ]
  },
  {
   "cell_type": "markdown",
   "metadata": {
    "slideshow": {
     "slide_type": "slide"
    }
   },
   "source": [
    "Correndo o programa com diferentes valores de `a`, `b` e `c`:\n",
    "```\n",
    "a = 1\n",
    "b = 2\n",
    "c = 1\n",
    "\n",
    "x1 = (-1+0j)\n",
    "x2 = (-1+0j)\n",
    "```\n",
    "\n",
    "```\n",
    "a = 1\n",
    "b = 4\n",
    "c = 1\n",
    "\n",
    "x1 = (-0.267949192431+0j)\n",
    "x2 = (-3.73205080757+0j)\n",
    "```\n",
    "\n",
    "```\n",
    "a = 1\n",
    "b = 1\n",
    "c = 1\n",
    "\n",
    "x1 = (-0.5+0.866025403784j)\n",
    "x2 = (-0.5-0.866025403784j)\n",
    "```"
   ]
  },
  {
   "cell_type": "markdown",
   "metadata": {
    "slideshow": {
     "slide_type": "slide"
    }
   },
   "source": [
    "O programa funciona e os resultados estão corretos, se considerarmos que os numeros reais podem ser considerados numeros complexos.\n",
    "\n",
    "No entanto, seria mais adequado que os resultados apresentados pelo programa pudessem **distinguir os casos de soluções complexas dos de soluções reais** apresentando, neste último caso, valores com aspeto de numeros reais:\n",
    "\n",
    "`-3.73205080757` em vez de `-3.73205080757+0j`."
   ]
  },
  {
   "cell_type": "markdown",
   "metadata": {
    "slideshow": {
     "slide_type": "slide"
    }
   },
   "source": [
    "## Alternativa `if...else`"
   ]
  },
  {
   "cell_type": "code",
   "execution_count": null,
   "metadata": {
    "collapsed": false,
    "slideshow": {
     "slide_type": "slide"
    }
   },
   "outputs": [],
   "source": [
    "# Este programa calcula x tal que a x2 + b x + c = 0\n",
    "# testar com os seguintes valores (1,4,1) , (1,2,1) , (1,1,1)\n",
    "\n",
    "a, b, c = 1, 4, 1\n",
    "a, b, c = float(a), float(b), float(c)\n",
    "\n",
    "# cálculo do discriminante\n",
    "discrim = b**2 - 4.0 * a * c\n",
    "\n",
    "#separar soluções reais das complexas\n",
    "if discrim < 0.0:\n",
    "    rdelta = complex(discrim)**0.5\n",
    "else:\n",
    "    rdelta = float(discrim)**0.5\n",
    "\n",
    "x1 = (- b + rdelta) / (2.0 * a)\n",
    "x2 = (- b - rdelta) / (2.0 * a)\n",
    "\n",
    "print \"x1 =\", x1, \", x2 =\", x2"
   ]
  },
  {
   "cell_type": "markdown",
   "metadata": {
    "slideshow": {
     "slide_type": "slide"
    }
   },
   "source": [
    "**Forma geral das instruções alternativas** `if...else`:\n",
    "\n",
    "```\n",
    "if <condição> :\n",
    "    <comandos para condição verdadeira>\n",
    "else:\n",
    "    <comandos para condição falsa>\n",
    "```"
   ]
  },
  {
   "cell_type": "markdown",
   "metadata": {
    "slideshow": {
     "slide_type": "slide"
    }
   },
   "source": [
    "No teste da condição podemos usar:\n",
    "\n",
    "- `>` maior\n",
    "- `<` menor\n",
    "- `>=` maior ou igual\n",
    "- `<=` menor ou igual\n",
    "- `==` igual (**são dois sinais de igual consecutivos**)\n",
    "- `!=` diferente"
   ]
  },
  {
   "cell_type": "markdown",
   "metadata": {
    "slideshow": {
     "slide_type": "slide"
    }
   },
   "source": [
    "Correndo o programa com diferentes valores de `a`, `b` e `c`:\n",
    "```\n",
    "a = 1\n",
    "b = 2\n",
    "c = 1\n",
    "\n",
    "x1 = -1.0 , x2 = -1.0\n",
    "```\n",
    "\n",
    "```\n",
    "a = 1\n",
    "b = 4\n",
    "c = 1\n",
    "\n",
    "x1 = -0.267949192431 , x2 = -3.73205080757\n",
    "```\n",
    "\n",
    "```\n",
    "a = 1\n",
    "b = 1\n",
    "c = 1\n",
    "\n",
    "x1 = (-0.5+0.866025403784j) , x2 = (-0.5-0.866025403784j)\n",
    "```"
   ]
  },
  {
   "cell_type": "markdown",
   "metadata": {
    "slideshow": {
     "slide_type": "slide"
    }
   },
   "source": [
    "O programa está bem melhor na maneira de apresentar os resultados.\n",
    "\n",
    "Só falta ter o cuidado de apresentar **um único valor, no caso de uma raíz dupla**."
   ]
  },
  {
   "cell_type": "markdown",
   "metadata": {
    "slideshow": {
     "slide_type": "slide"
    }
   },
   "source": [
    "## Alternativas `if...elif...else`"
   ]
  },
  {
   "cell_type": "code",
   "execution_count": null,
   "metadata": {
    "collapsed": false,
    "slideshow": {
     "slide_type": "slide"
    }
   },
   "outputs": [],
   "source": [
    "# Este programa calcula x tal que a x2 + b x + c = 0\n",
    "# testar com os seguintes valores (1,4,1) , (1,2,1) , (1,1,1)\n",
    "\n",
    "a, b, c = 1, 4, 1\n",
    "a, b, c = float(a), float(b), float(c)\n",
    "\n",
    "# cálculo do discriminante\n",
    "discrim = b**2 - 4.0 * a * c\n",
    "\n",
    "#separar soluções reais das complexas\n",
    "if discrim < 0.0:\n",
    "    rdelta = complex(discrim)**0.5\n",
    "else:\n",
    "    rdelta = float(discrim)**0.5\n",
    "x1 = (- b + rdelta) / (2.0 * a)\n",
    "x2 = (- b - rdelta) / (2.0 * a)\n",
    "\n",
    "if discrim < 0.0:\n",
    "    print \"2 raízes complexas:\"\n",
    "    print \"x1 =\", x1\n",
    "    print \"x2 =\", x2\n",
    "elif discrim == 0.0:\n",
    "    print \"1 raíz (dupla):\"\n",
    "    print \"x =\", x1\n",
    "else:\n",
    "    print \"2 raízes reais:\"\n",
    "    print \"x1 =\", x1\n",
    "    print \"x2 =\", x2"
   ]
  },
  {
   "cell_type": "markdown",
   "metadata": {
    "collapsed": true,
    "slideshow": {
     "slide_type": "slide"
    }
   },
   "source": [
    "Podemos ter multiplos comandos na parte do verdadeiro/falso : o **alinhamento** (_identação_) define os blocos\n",
    "\n",
    "Usando `elif` podemos testar mais do que uma condição."
   ]
  },
  {
   "cell_type": "markdown",
   "metadata": {
    "slideshow": {
     "slide_type": "slide"
    }
   },
   "source": [
    "Correndo o programa com diferentes valores de `a`, `b` e `c`:\n",
    "```\n",
    "a = 1\n",
    "b = 2\n",
    "c = 1\n",
    "\n",
    "1 raíz (dupla):\n",
    "x = -1.0\n",
    "```\n",
    "\n",
    "```\n",
    "a = 1\n",
    "b = 4\n",
    "c = 2\n",
    "\n",
    "2 raízes reais:\n",
    "x1 = -0.267949192431\n",
    "x2 = -3.73205080757\n",
    "```\n",
    "\n",
    "```\n",
    "a = 1\n",
    "b = 1\n",
    "c = 1\n",
    "\n",
    "2 raízes complexas:\n",
    "x1 = (-0.5+0.866025403784j)\n",
    "x2 = (-0.5-0.866025403784j)\n",
    "```"
   ]
  },
  {
   "cell_type": "markdown",
   "metadata": {
    "slideshow": {
     "slide_type": "slide"
    }
   },
   "source": [
    "## Função `input`"
   ]
  },
  {
   "cell_type": "code",
   "execution_count": 1,
   "metadata": {
    "collapsed": false,
    "slideshow": {
     "slide_type": "slide"
    }
   },
   "outputs": [
    {
     "name": "stdout",
     "output_type": "stream",
     "text": [
      "a =1\n",
      "b =4\n",
      "c =1\n",
      "2 raízes reais:\n",
      "x1 = -0.267949192431\n",
      "x2 = -3.73205080757\n"
     ]
    }
   ],
   "source": [
    "# Este programa calcula x tal que a x2 + b x + c = 0\n",
    "# testar com os seguintes valores (1,4,1) , (1,2,1) , (1,1,1)\n",
    "\n",
    "a = float(input('a ='))\n",
    "b = float(input('b ='))\n",
    "c = float(input('c ='))\n",
    "\n",
    "discrim = b**2 - 4.0 * a * c\n",
    "if discrim < 0.0:\n",
    "    rdelta = complex(discrim)**0.5\n",
    "else:\n",
    "    rdelta = float(discrim)**0.5\n",
    "x1 = (- b + rdelta) / (2.0 * a)\n",
    "x2 = (- b - rdelta) / (2.0 * a)\n",
    "\n",
    "if discrim < 0.0:\n",
    "    print \"2 raízes complexas:\"\n",
    "    print \"x1 =\", x1\n",
    "    print \"x2 =\", x2\n",
    "elif discrim == 0.0:\n",
    "    print \"1 raíz (dupla):\"\n",
    "    print \"x =\", x1\n",
    "else:\n",
    "    print \"2 raízes reais:\"\n",
    "    print \"x1 =\", x1\n",
    "    print \"x2 =\", x2"
   ]
  },
  {
   "cell_type": "markdown",
   "metadata": {
    "slideshow": {
     "slide_type": "slide"
    }
   },
   "source": [
    "### Exemplo: Regra dos anos bissextos\n",
    "\n",
    "#### Se o ano é divisível por 4, então é bissexto\n",
    "\n",
    "Regra em vigor até 1582 (calendário Juliano, de Júlio César)"
   ]
  },
  {
   "cell_type": "code",
   "execution_count": null,
   "metadata": {
    "collapsed": false,
    "slideshow": {
     "slide_type": "slide"
    }
   },
   "outputs": [],
   "source": [
    "a = input(\"ano ? \")\n",
    "\n",
    "if a % 4 == 0 :\n",
    "    print a , \"é bissexto\"\n",
    "else: \n",
    "    print a, \"nao é bissexto\""
   ]
  },
  {
   "cell_type": "markdown",
   "metadata": {
    "slideshow": {
     "slide_type": "slide"
    }
   },
   "source": [
    "Correndo o programa com diferentes valores:\n",
    "```\n",
    "ano ? 2015\n",
    "2015 nao é bissexto\n",
    "```\n",
    "\n",
    "```\n",
    "ano ? 2012\n",
    "2012 é bissexto\n",
    "```\n",
    "\n",
    "```\n",
    "ano ? 1900\n",
    "1900 é bissexto\n",
    "```\n",
    "\n",
    "```\n",
    "ano ? 2000\n",
    "2000 é bissexto\n",
    "```"
   ]
  },
  {
   "cell_type": "markdown",
   "metadata": {
    "slideshow": {
     "slide_type": "slide"
    }
   },
   "source": [
    "No teste da condição podemos usar:\n",
    "\n",
    "- Conjunção lógica: `and`\n",
    "- Disjunção lógica: `or`\n",
    "- Negação: `not`"
   ]
  },
  {
   "cell_type": "markdown",
   "metadata": {
    "slideshow": {
     "slide_type": "slide"
    }
   },
   "source": [
    "### Exemplo: Regra dos anos bissextos (calendário moderno)\n",
    "\n",
    "- Se o ano é divisível por 4, então é bissexto\n",
    "\n",
    "- Excepto os que são divisíveis por 100: não são bissextos\n",
    "\n",
    "- Excepto os divisíveis por 100 que sejam exactamente divisíveis por 400: são bissextos.\n",
    "\n",
    "Regra em vigor após 1582 (calendário Gregoriano, do papa Gregorio XIII)"
   ]
  },
  {
   "cell_type": "code",
   "execution_count": null,
   "metadata": {
    "collapsed": false,
    "slideshow": {
     "slide_type": "-"
    }
   },
   "outputs": [],
   "source": [
    "a = input(\"ano ? \")\n",
    "\n",
    "if a % 4 == 0 and not (a % 100 == 0 and not a % 400 == 0):\n",
    "    print a , \"é bissexto\"\n",
    "else: \n",
    "    print a, \"nao é bissexto\""
   ]
  },
  {
   "cell_type": "markdown",
   "metadata": {
    "slideshow": {
     "slide_type": "slide"
    }
   },
   "source": [
    "Correndo o programa com diferentes valores:\n",
    "```\n",
    "ano ? 2015\n",
    "2015 nao é bissexto\n",
    "```\n",
    "\n",
    "```\n",
    "ano ? 2012\n",
    "2012 é bissexto\n",
    "```\n",
    "\n",
    "```\n",
    "ano ? 1900\n",
    "1900 nao é bissexto\n",
    "```\n",
    "\n",
    "Reparar que o resultado é diferente para 1900.\n",
    "\n",
    "```\n",
    "ano ? 2000\n",
    "2000 é bissexto\n",
    "```"
   ]
  },
  {
   "cell_type": "markdown",
   "metadata": {
    "slideshow": {
     "slide_type": "skip"
    }
   },
   "source": [
    "Os interessados na história da introdução do calendário gregoriano podem consultar o artigo\n",
    "\n",
    "[http://en.wikipedia.org/wiki/Gregorian_calendar](http://en.wikipedia.org/wiki/Gregorian_calendar)"
   ]
  }
 ],
 "metadata": {
  "kernelspec": {
   "display_name": "Python 2",
   "language": "python",
   "name": "python2"
  },
  "language_info": {
   "codemirror_mode": {
    "name": "ipython",
    "version": 2
   },
   "file_extension": ".py",
   "mimetype": "text/x-python",
   "name": "python",
   "nbconvert_exporter": "python",
   "pygments_lexer": "ipython2",
   "version": "2.7.11"
  }
 },
 "nbformat": 4,
 "nbformat_minor": 0
}
