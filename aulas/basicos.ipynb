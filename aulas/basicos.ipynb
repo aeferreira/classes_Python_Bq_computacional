{
 "cells": [
  {
   "cell_type": "markdown",
   "metadata": {
    "slideshow": {
     "slide_type": "slide"
    }
   },
   "source": [
    "# Conceitos básicos"
   ]
  },
  {
   "cell_type": "markdown",
   "metadata": {
    "slideshow": {
     "slide_type": "slide"
    }
   },
   "source": [
    "## Objetos e comando `print`"
   ]
  },
  {
   "cell_type": "code",
   "execution_count": null,
   "metadata": {
    "collapsed": false,
    "slideshow": {
     "slide_type": "-"
    }
   },
   "outputs": [],
   "source": [
    "print 4\n",
    "print 3.2\n",
    "print 9.0\n",
    "print ((3+9)/3.0)**0.5"
   ]
  },
  {
   "cell_type": "markdown",
   "metadata": {
    "slideshow": {
     "slide_type": "slide"
    }
   },
   "source": [
    "Nas expressões podemos usar:\n",
    "\n",
    "- os cinco operadores `+ - * / **` (`**` é a potenciação)\n",
    "- vários níveis de `()`\n",
    "- o operador `%`: o resto da divisão (por exemplo, `5 % 3` tem como resultado `2`)"
   ]
  },
  {
   "cell_type": "code",
   "execution_count": null,
   "metadata": {
    "collapsed": false,
    "slideshow": {
     "slide_type": "slide"
    }
   },
   "outputs": [],
   "source": [
    "print 'quinta feira'\n",
    "print 'hoje', 'é', \"quinta feira,\", 17"
   ]
  },
  {
   "cell_type": "markdown",
   "metadata": {},
   "source": [
    "Pequenos textos entre `\"\"` ou `''` são _strings_. São sequências de caracteres (os espaços e pontuação, desde que estejam entre as aspas contam como caracteres.\n",
    "\n",
    "O comando `print` pode ser usado com vários objetos a apresentar, separados por vírgulas. É inserido um espaço entre os vários objetos. Note-se que, com as _strings_, as aspas são eliminadas."
   ]
  },
  {
   "cell_type": "markdown",
   "metadata": {
    "slideshow": {
     "slide_type": "slide"
    }
   },
   "source": [
    "## Atribuição de nomes a \"objetos\""
   ]
  },
  {
   "cell_type": "markdown",
   "metadata": {},
   "source": [
    "**Este é um dos mais fundamentais comandos em programação!**\n",
    "\n",
    "A forma geral é\n",
    "\n",
    "```\n",
    "<nome> = <expressão>\n",
    "```\n",
    "\n",
    "Depois de uma atribuição, **o nome pode ser usado em vez do valor do objeto ou expressão**. Mesmo em atribuições seguintes, no comando `print`, etc."
   ]
  },
  {
   "cell_type": "code",
   "execution_count": null,
   "metadata": {
    "collapsed": false,
    "slideshow": {
     "slide_type": "-"
    }
   },
   "outputs": [],
   "source": [
    "a = 4\n",
    "b = 3.2\n",
    "c = a + b\n",
    "d = (a + b)**0.5\n",
    "print a\n",
    "print b\n",
    "print c, d\n",
    "\n",
    "hoje = \"quinta feira \"\n",
    "local = \"sala 8.2.39\"\n",
    "aonde = hoje + local\n",
    "print hoje\n",
    "print local\n",
    "print\n",
    "print aonde"
   ]
  },
  {
   "cell_type": "markdown",
   "metadata": {},
   "source": [
    "**Que nomes podemos usar?**\n",
    "\n",
    "As regras são:\n",
    "\n",
    "1. Um nome é uma combinação de letras minúsculas (a to z) ou maiúsculas (A to Z) não acentuadas ou dígitos (0 to 9) ou o _underscore_. Nomes como `x`, `Km_1` ou `velocidade_da_reaccao` são exemplos válidos.\n",
    "2. Um nome não pode começar com um dígito. `1x` é inválido, mas `x1` é aceitável.\n",
    "3. Palavras usadas como comandos da linguagem (_keywords_) não são permitidas (por exemplo, `print`).\n",
    "\n",
    "![](piso_2.jpg)\n",
    "\n",
    "Não são permitidos espaços ou símbolos como `!, @, #, %` nos nomes."
   ]
  },
  {
   "cell_type": "markdown",
   "metadata": {
    "slideshow": {
     "slide_type": "slide"
    }
   },
   "source": [
    "#### **tipos** de objetos vistos até agora\n",
    "\n",
    "- **inteiros**\n",
    "- _floats_\n",
    "- _strings_\n",
    "\n",
    "Existem também os **complexos** (em que `j` é a unidade imaginária):"
   ]
  },
  {
   "cell_type": "code",
   "execution_count": 4,
   "metadata": {
    "collapsed": false
   },
   "outputs": [
    {
     "name": "stdout",
     "output_type": "stream",
     "text": [
      "(4+2j)\n",
      "\n",
      "4.0\n",
      "2.0\n",
      "\n",
      "c * d = (-8+16j)\n"
     ]
    }
   ],
   "source": [
    "c = 4+2j\n",
    "\n",
    "print c\n",
    "print\n",
    "print c.real\n",
    "print c.imag\n",
    "print\n",
    "\n",
    "d = 4j\n",
    "\n",
    "print 'c * d =', c * d"
   ]
  },
  {
   "cell_type": "markdown",
   "metadata": {
    "slideshow": {
     "slide_type": "slide"
    }
   },
   "source": [
    "## Comentários"
   ]
  },
  {
   "cell_type": "code",
   "execution_count": null,
   "metadata": {
    "collapsed": false,
    "slideshow": {
     "slide_type": "-"
    }
   },
   "outputs": [],
   "source": [
    "# Estas duas linhas são comentários (começam por #)\n",
    "# Podemos dar nomes a vários objetos de uma só vez\n",
    "a, b = 3, 4\n",
    "c, d = 2.5, 3+4\n",
    "\n",
    "print \"a =\", a\n",
    "print \"b =\", b\n",
    "print \"a =\", a, \"b =\", b, \"c =\", c, \"d =\", d"
   ]
  },
  {
   "cell_type": "code",
   "execution_count": null,
   "metadata": {
    "collapsed": false,
    "slideshow": {
     "slide_type": "slide"
    }
   },
   "outputs": [],
   "source": [
    "a, b = 3,4\n",
    "print \"a =\", a, \"b =\", b\n",
    "\n",
    "# Podemos trocar dois nomes desta maneira\n",
    "a, b = b, a\n",
    "print \"a =\", a, \"b =\", b"
   ]
  },
  {
   "cell_type": "markdown",
   "metadata": {},
   "source": [
    "## Conversão entre vários tipos de objetos (funções `int()`, `float()`, `complex()` e `str()`)"
   ]
  },
  {
   "cell_type": "markdown",
   "metadata": {
    "slideshow": {
     "slide_type": "slide"
    }
   },
   "source": [
    "As funções `int()`, `float()`, `complex()` e `str()` fazem conversões para os vários **tipos** de objetos:\n",
    "\n",
    "- **inteiros**\n",
    "- _floats_\n",
    "- **complexos** (em que `j` é a unidade imaginária)\n",
    "- _strings_"
   ]
  },
  {
   "cell_type": "code",
   "execution_count": null,
   "metadata": {
    "collapsed": false,
    "slideshow": {
     "slide_type": "slide"
    }
   },
   "outputs": [],
   "source": [
    "x = 3.8\n",
    "i = int(x)\n",
    "c = complex(x)\n",
    "s = str(x)\n",
    "\n",
    "print x\n",
    "print i\n",
    "print c\n",
    "print s"
   ]
  },
  {
   "cell_type": "markdown",
   "metadata": {},
   "source": [
    "Quando há operações entre números, pode haver **conversão automática** entre os vários tipos.\n",
    "\n",
    "Há uma hierarquia implícita:\n",
    "\n",
    "complexos > _floats_ > inteiros\n",
    "\n",
    "Quando um objeto de tipo mais baixo entra numa operação com um de tipo mais alto, o de tipo mais baixo é convertido ao tipo mais alto (\"promovido\")."
   ]
  },
  {
   "cell_type": "code",
   "execution_count": null,
   "metadata": {
    "collapsed": false
   },
   "outputs": [],
   "source": [
    "i = 3\n",
    "j = 4\n",
    "\n",
    "x = 3.0\n",
    "\n",
    "c = 4+2j\n",
    "\n",
    "print 'i =', i, type(i)\n",
    "print 'j =', j, type(j)\n",
    "print 'x =', x, type(x)\n",
    "print 'c =', c, type(c)\n",
    "print\n",
    "r1 = i * j\n",
    "r2 = i + x\n",
    "r3 = c / i\n",
    "r4 = x - c\n",
    "\n",
    "r5 = i / j\n",
    "\n",
    "print 'i * j =', r1, type(r1)\n",
    "print 'i + x =', r2, type(r2)\n",
    "print 'c / i =', r3, type(r3)\n",
    "print 'x - c =', r4, type(r4)\n",
    "print\n",
    "print 'Problema com a divisão entre números inteiros:'\n",
    "print 'i / j =', r5, type(r5)"
   ]
  },
  {
   "cell_type": "markdown",
   "metadata": {},
   "source": [
    "NOTAS:\n",
    "\n",
    "- a função `type()` mostra o tipo de um objeto.\n",
    "\n",
    "- **a divisão entre inteiros é um problema** (em Python 2.x): o resultado é sempre um numero inteiro. isto geralmente leva a um arredondamento excessivo do resultado (por exemplo, `2 / 3` resulta em 0). Para impedir este comportamento, usamos `float()` ou `complex()` para \"promover\" os inteiros, ou, no caso de constantes literais, usamos a notação com ponto flutuante (`i * 7.0` em vez de `i * 7`)"
   ]
  },
  {
   "cell_type": "markdown",
   "metadata": {},
   "source": [
    "Nunca há conversão automática a partir de _strings_:"
   ]
  },
  {
   "cell_type": "code",
   "execution_count": null,
   "metadata": {
    "collapsed": false,
    "slideshow": {
     "slide_type": "slide"
    }
   },
   "outputs": [],
   "source": [
    "s = '3.4e4'\n",
    "f = float(s)\n",
    "c = complex(s)\n",
    "\n",
    "print s\n",
    "print f\n",
    "print c"
   ]
  },
  {
   "cell_type": "markdown",
   "metadata": {
    "slideshow": {
     "slide_type": "slide"
    }
   },
   "source": [
    "## Comando `input`"
   ]
  },
  {
   "cell_type": "markdown",
   "metadata": {},
   "source": [
    "Exemplo:\n",
    "\n",
    "Calcular as soluções da equação do 2º grau\n",
    "\n",
    "$a x^2 + b x + c = 0$\n",
    "\n",
    "ou seja\n",
    "\n",
    "Dados $a, b$ e $c$, calcular\n",
    "\n",
    "$x_1 = \\frac{-b + \\sqrt{b^2 -4 a c}}{2 a}$ e $x_2 = \\frac{-b - \\sqrt{b^2 -4 a c}}{2 a}$"
   ]
  },
  {
   "cell_type": "code",
   "execution_count": null,
   "metadata": {
    "collapsed": false,
    "slideshow": {
     "slide_type": "-"
    }
   },
   "outputs": [],
   "source": [
    "# Este programa calcula x tal que a x2 + b x + c = 0\n",
    "# testar com os seguintes valores (1,4,1) , (1,2,1) , (1,1,1)\n",
    "\n",
    "a = input (\"a = ? \")\n",
    "b = input (\"b = ? \")\n",
    "c = input (\"c = ? \")\n",
    "\n",
    "rdelta = complex(b**2 - 4 * a * c) ** 0.5\n",
    "\n",
    "x1 = (- b + rdelta) / (2.0*a)\n",
    "x2 = (- b - rdelta) / (2.0*a)\n",
    "\n",
    "print \"x1 =\", x1\n",
    "print \"x2 =\", x2"
   ]
  },
  {
   "cell_type": "markdown",
   "metadata": {},
   "source": [
    "Correndo o programa com diferentes valores de `a`, `b` e `c`:\n",
    "```\n",
    "a = ? 1\n",
    "b = ? 2\n",
    "c = ? 1\n",
    "x1 = (-1+0j)\n",
    "x2 = (-1+0j)\n",
    "```\n",
    "\n",
    "```\n",
    "a = ? 1\n",
    "b = ? 4\n",
    "c = ? 1\n",
    "x1 = (-0.267949192431+0j)\n",
    "x2 = (-3.73205080757+0j)\n",
    "```\n",
    "\n",
    "```\n",
    "a = ? 1\n",
    "b = ? 1\n",
    "c = ? 1\n",
    "x1 = (-0.5+0.866025403784j)\n",
    "x2 = (-0.5-0.866025403784j)\n",
    "```"
   ]
  },
  {
   "cell_type": "markdown",
   "metadata": {},
   "source": [
    "O programa funciona e os resultados estão corretos, se considerarmos que os numeros reais podem ser considerados numeros complexos.\n",
    "\n",
    "No entanto, seria mais adequado que os resultados apresentados pelo programa pudessem **distinguir os casos de soluções complexas dos de soluções reais** apresentando, neste último caso, valores com aspeto de numeros reais (-3.73205080757 em vez de -3.73205080757+0j)."
   ]
  },
  {
   "cell_type": "markdown",
   "metadata": {
    "slideshow": {
     "slide_type": "slide"
    }
   },
   "source": [
    "## Alternativa `if...else`"
   ]
  },
  {
   "cell_type": "code",
   "execution_count": null,
   "metadata": {
    "collapsed": false,
    "slideshow": {
     "slide_type": "slide"
    }
   },
   "outputs": [],
   "source": [
    "# Este programa calcula x tal que a x2 + b x + c = 0\n",
    "# testar com os seguintes valores (1,4,1) , (1,2,1) , (1,1,1)\n",
    "\n",
    "a = input (\"a = ? \")\n",
    "b = input (\"b = ? \")\n",
    "c = input (\"c = ? \")\n",
    "\n",
    "# cálculo do discriminante\n",
    "discrim = b**2 - 4.0 * a * c\n",
    "\n",
    "#separar soluções reais das complexas\n",
    "if discrim < 0.0:\n",
    "    rdelta = complex(discrim)**0.5\n",
    "else:\n",
    "    rdelta = float(discrim)**0.5\n",
    "x1 = (- b + rdelta) / (2.0*a)\n",
    "x2 = (- b - rdelta) / (2.0*a)\n",
    "\n",
    "print \"x1 =\", x1, \", x2 =\", x2"
   ]
  },
  {
   "cell_type": "markdown",
   "metadata": {},
   "source": [
    "Correndo o programa com diferentes valores de `a`, `b` e `c`:\n",
    "```\n",
    "a = ? 1\n",
    "b = ? 2\n",
    "c = ? 1\n",
    "x1 = -1.0 , x2 = -1.0\n",
    "```\n",
    "\n",
    "```\n",
    "a = ? 1\n",
    "b = ? 4\n",
    "c = ? 1\n",
    "x1 = -0.267949192431 , x2 = -3.73205080757\n",
    "```\n",
    "\n",
    "```\n",
    "a = ? 1\n",
    "b = ? 1\n",
    "c = ? 1\n",
    "x1 = (-0.5+0.866025403784j) , x2 = (-0.5-0.866025403784j)\n",
    "```"
   ]
  },
  {
   "cell_type": "markdown",
   "metadata": {},
   "source": [
    "O programa está bem melhor na maneira de apresentar os resultados.\n",
    "\n",
    "Só falta ter o cuidado de apresentar **um único valor, no caso de uma raíz dupla**."
   ]
  },
  {
   "cell_type": "markdown",
   "metadata": {
    "slideshow": {
     "slide_type": "slide"
    }
   },
   "source": [
    "**Forma geral das instruções alternativas** `if...else`:\n",
    "\n",
    "```\n",
    "if <condição> :\n",
    "    <comandos para condição verdadeira>\n",
    "else:\n",
    "    <comandos para condição falsa>\n",
    "```"
   ]
  },
  {
   "cell_type": "markdown",
   "metadata": {
    "slideshow": {
     "slide_type": "slide"
    }
   },
   "source": [
    "No teste da condição podemos usar:\n",
    "\n",
    "- `>` maior\n",
    "- `<` menor\n",
    "- `>=` maior ou igual\n",
    "- `<=` menor ou igual\n",
    "- `==` igual (**são dois sinais de igual consecutivos**)\n",
    "- `!=` diferente"
   ]
  },
  {
   "cell_type": "markdown",
   "metadata": {
    "slideshow": {
     "slide_type": "slide"
    }
   },
   "source": [
    "## Alternativas `if...elif...else`"
   ]
  },
  {
   "cell_type": "code",
   "execution_count": null,
   "metadata": {
    "collapsed": false,
    "slideshow": {
     "slide_type": "slide"
    }
   },
   "outputs": [],
   "source": [
    "# Este programa calcula x tal que a x2 + b x + c = 0\n",
    "# testar com os seguintes valores (1,4,1) , (1,2,1) , (1,1,1)\n",
    "\n",
    "a = input (\"a = ? \")\n",
    "b = input (\"b = ? \")\n",
    "c = input (\"c = ? \")\n",
    "\n",
    "# cálculo do discriminante\n",
    "discrim = b**2 - 4.0 * a * c\n",
    "\n",
    "#separar soluções reais das complexas\n",
    "if discrim < 0.0:\n",
    "    rdelta = complex(discrim)**0.5\n",
    "else:\n",
    "    rdelta = float(discrim)**0.5\n",
    "x1 = (- b + rdelta) / (2.0*a)\n",
    "x2 = (- b - rdelta) / (2.0*a)\n",
    "\n",
    "if discrim < 0.0:\n",
    "    print \"2 raízes complexas:\"\n",
    "    print \"x1 =\", x1\n",
    "    print \"x2 =\", x2\n",
    "elif discrim == 0.0:\n",
    "    print \"1 raíz (dupla):\"\n",
    "    print \"x =\", x1\n",
    "else:\n",
    "    print \"2 raízes reais:\"\n",
    "    print \"x1 =\", x1\n",
    "    print \"x2 =\", x2"
   ]
  },
  {
   "cell_type": "markdown",
   "metadata": {
    "collapsed": true,
    "slideshow": {
     "slide_type": "slide"
    }
   },
   "source": [
    "Podemos ter multiplos comandos na parte do verdadeiro/falso : o **alinhamento** (_identação_) define os blocos\n",
    "\n",
    "Usando `elif` podemos testar mais do que uma condição."
   ]
  },
  {
   "cell_type": "markdown",
   "metadata": {},
   "source": [
    "Correndo o programa com diferentes valores de `a`, `b` e `c`:\n",
    "```\n",
    "a = ? 1\n",
    "b = ? 2\n",
    "c = ? 1\n",
    "1 raíz (dupla):\n",
    "x = -1.0\n",
    "```\n",
    "\n",
    "```\n",
    "a = ? 1\n",
    "b = ? 4\n",
    "c = ? 1\n",
    "2 raízes reais:\n",
    "x1 = -0.267949192431\n",
    "x2 = -3.73205080757\n",
    "```\n",
    "\n",
    "```\n",
    "a = ? 1\n",
    "b = ? 1\n",
    "c = ? 1\n",
    "2 raízes complexas:\n",
    "x1 = (-0.5+0.866025403784j)\n",
    "x2 = (-0.5-0.866025403784j)\n",
    "```"
   ]
  },
  {
   "cell_type": "markdown",
   "metadata": {
    "slideshow": {
     "slide_type": "slide"
    }
   },
   "source": [
    "**Exemplo: Regra dos anos bissextos**\n",
    "\n",
    "- Se o ano é divisível por 4, então é bissexto\n",
    "\n",
    "Regra em vigor até 1582 (calendário Juliano, de Júlio César)"
   ]
  },
  {
   "cell_type": "code",
   "execution_count": null,
   "metadata": {
    "collapsed": false
   },
   "outputs": [],
   "source": [
    "a = input(\"ano ? \")\n",
    "\n",
    "if a % 4 == 0 :\n",
    "    print a , \"é bissexto\"\n",
    "else: \n",
    "    print a, \"nao é bissexto\""
   ]
  },
  {
   "cell_type": "markdown",
   "metadata": {},
   "source": [
    "Correndo o programa com diferentes valores:\n",
    "```\n",
    "ano ? 2015\n",
    "2015 nao é bissexto\n",
    "```\n",
    "\n",
    "```\n",
    "ano ? 2012\n",
    "2012 é bissexto\n",
    "```\n",
    "\n",
    "```\n",
    "ano ? 1900\n",
    "1900 é bissexto\n",
    "```\n",
    "\n",
    "```\n",
    "ano ? 2000\n",
    "2000 é bissexto\n",
    "```"
   ]
  },
  {
   "cell_type": "markdown",
   "metadata": {
    "slideshow": {
     "slide_type": "slide"
    }
   },
   "source": [
    "No teste da condição podemos usar:\n",
    "\n",
    "- Conjunção lógica: `and`\n",
    "- Disjunção lógica: `or`\n",
    "- Negação: `not`"
   ]
  },
  {
   "cell_type": "markdown",
   "metadata": {
    "slideshow": {
     "slide_type": "slide"
    }
   },
   "source": [
    "**Exemplo: Regra dos anos bissextos (calendário moderno)**\n",
    "\n",
    "- Se o ano é divisível por 4, então é bissexto\n",
    "\n",
    "- Excepto os que são divisíveis por 100: não são bissextos\n",
    "\n",
    "- Excepto os divisíveis por 100 que sejam exactamente divisíveis por 400: são bissextos.\n",
    "\n",
    "Regra em vigor após 1582 (calendário Gregoriano, do papa Gregorio XIII)"
   ]
  },
  {
   "cell_type": "code",
   "execution_count": null,
   "metadata": {
    "collapsed": false
   },
   "outputs": [],
   "source": [
    "a = input(\"ano ? \")\n",
    "\n",
    "if a % 4 == 0 and not (a % 100 == 0 and not a % 400 == 0):\n",
    "    print a , \"é bissexto\"\n",
    "else: \n",
    "    print a, \"nao é bissexto\""
   ]
  },
  {
   "cell_type": "markdown",
   "metadata": {},
   "source": [
    "Correndo o programa com diferentes valores:\n",
    "```\n",
    "ano ? 2015\n",
    "2015 nao é bissexto\n",
    "```\n",
    "\n",
    "```\n",
    "ano ? 2012\n",
    "2012 é bissexto\n",
    "```\n",
    "\n",
    "```\n",
    "ano ? 1900\n",
    "1900 nao é bissexto\n",
    "```\n",
    "\n",
    "Reparar que o resultado é diferente para 1900.\n",
    "\n",
    "```\n",
    "ano ? 2000\n",
    "2000 é bissexto\n",
    "```"
   ]
  },
  {
   "cell_type": "markdown",
   "metadata": {
    "slideshow": {
     "slide_type": "skip"
    }
   },
   "source": [
    "Os interessados na história da introdução do calendário gregoriano podem consultar o artigo\n",
    "\n",
    "[http://en.wikipedia.org/wiki/Gregorian_calendar](http://en.wikipedia.org/wiki/Gregorian_calendar)"
   ]
  }
 ],
 "metadata": {
  "kernelspec": {
   "display_name": "Python 2",
   "language": "python",
   "name": "python2"
  },
  "language_info": {
   "codemirror_mode": {
    "name": "ipython",
    "version": 2
   },
   "file_extension": ".py",
   "mimetype": "text/x-python",
   "name": "python",
   "nbconvert_exporter": "python",
   "pygments_lexer": "ipython2",
   "version": "2.7.11"
  }
 },
 "nbformat": 4,
 "nbformat_minor": 0
}
