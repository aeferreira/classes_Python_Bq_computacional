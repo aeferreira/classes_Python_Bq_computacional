{
 "cells": [
  {
   "cell_type": "markdown",
   "metadata": {
    "slideshow": {
     "slide_type": "slide"
    }
   },
   "source": [
    "# Python \"científico\": biblioteca _pandas_\n",
    "\n",
    "![](images/sci_python_pandas.png)"
   ]
  },
  {
   "cell_type": "markdown",
   "metadata": {
    "slideshow": {
     "slide_type": "slide"
    }
   },
   "source": [
    "_web site_: (`pandas.pydata.org`)\n",
    "\n",
    "![](images/pandas_web.png)"
   ]
  },
  {
   "cell_type": "markdown",
   "metadata": {
    "slideshow": {
     "slide_type": "slide"
    }
   },
   "source": [
    "## `Series`\n",
    "\n",
    "> `Series` is a one-dimensional **labeled** array capable of holding any data type (integers, strings, floating point numbers, Python objects, etc.). The axis labels are collectively referred to as the **index**. "
   ]
  },
  {
   "cell_type": "code",
   "execution_count": 1,
   "metadata": {
    "collapsed": true,
    "slideshow": {
     "slide_type": "slide"
    }
   },
   "outputs": [],
   "source": [
    "import pandas as pd"
   ]
  },
  {
   "cell_type": "markdown",
   "metadata": {
    "slideshow": {
     "slide_type": "slide"
    }
   },
   "source": [
    "Uma Série (_Series_) é um conjunto (ordenado) de valores, mas cada valor é associado a uma \"etiqueta\" (_label_).\n",
    "\n",
    "Ao conjunto das etiquetas dá-se o nome de \"**índice**\".\n",
    "\n",
    "Quando construímos uma Série, usando a função `Series()`, podemos indicar o índice."
   ]
  },
  {
   "cell_type": "code",
   "execution_count": 2,
   "metadata": {
    "collapsed": false,
    "slideshow": {
     "slide_type": "slide"
    }
   },
   "outputs": [
    {
     "name": "stdout",
     "output_type": "stream",
     "text": [
      "a     1.4\n",
      "b     2.2\n",
      "c     3.2\n",
      "d     6.5\n",
      "e    12.0\n",
      "dtype: float64\n"
     ]
    }
   ],
   "source": [
    "s = pd.Series([1.4, 2.2, 3.2, 6.5, 12],\n",
    "              index=['a', 'b', 'c', 'd', 'e'])\n",
    "print(s)"
   ]
  },
  {
   "cell_type": "markdown",
   "metadata": {
    "slideshow": {
     "slide_type": "slide"
    }
   },
   "source": [
    "Se não indicarmos um índice, o conjunto dos inteiros sucessivos será o índice."
   ]
  },
  {
   "cell_type": "code",
   "execution_count": 3,
   "metadata": {
    "collapsed": false
   },
   "outputs": [
    {
     "name": "stdout",
     "output_type": "stream",
     "text": [
      "0     1.4\n",
      "1     2.2\n",
      "2     3.2\n",
      "3     6.5\n",
      "4    12.0\n",
      "dtype: float64\n"
     ]
    }
   ],
   "source": [
    "s = pd.Series([1.4,2.2,3.2,6.5,12])\n",
    "print(s)"
   ]
  },
  {
   "cell_type": "markdown",
   "metadata": {
    "slideshow": {
     "slide_type": "slide"
    }
   },
   "source": [
    "As Séries podem ser construídas a partir de um dicionário, em que as chaves são o índice."
   ]
  },
  {
   "cell_type": "code",
   "execution_count": 4,
   "metadata": {
    "collapsed": false
   },
   "outputs": [
    {
     "name": "stdout",
     "output_type": "stream",
     "text": [
      "a    0.0\n",
      "b    1.0\n",
      "c    2.0\n",
      "dtype: float64\n"
     ]
    }
   ],
   "source": [
    "d = {'a' : 0., 'b' : 1., 'c' : 2.}\n",
    "s = pd.Series(d)\n",
    "print(s)"
   ]
  },
  {
   "cell_type": "markdown",
   "metadata": {
    "slideshow": {
     "slide_type": "slide"
    }
   },
   "source": [
    "Podemos, mesmo neste caso, indicar um índice. Caso o índice tenha elementos para além das chaves do dicionário, haverá **valores em falta**."
   ]
  },
  {
   "cell_type": "code",
   "execution_count": 5,
   "metadata": {
    "collapsed": false
   },
   "outputs": [
    {
     "name": "stdout",
     "output_type": "stream",
     "text": [
      "b    1.0\n",
      "c    2.0\n",
      "d    NaN\n",
      "a    0.0\n",
      "dtype: float64\n"
     ]
    }
   ],
   "source": [
    "d = {'a' : 0., 'b' : 1., 'c' : 2.}\n",
    "s = pd.Series(d, index=['b', 'c', 'd', 'a'])\n",
    "print(s)"
   ]
  },
  {
   "cell_type": "markdown",
   "metadata": {
    "slideshow": {
     "slide_type": "slide"
    }
   },
   "source": [
    "O uso do marcador `NaN` para indicar **valores em falta** e a existência de muitas funções de análise que levam em conta valores em falta são uma característica muito poderosa do módulo `pandas`."
   ]
  },
  {
   "cell_type": "markdown",
   "metadata": {
    "slideshow": {
     "slide_type": "slide"
    }
   },
   "source": [
    "### Funções descritivas dos valores\n",
    "\n",
    "As Séries têm algumas funções de estatística descritiva de grande utilidade.\n",
    "\n",
    "Note-se que, em geral, **os valores em falta são ignorados nos cálculos**."
   ]
  },
  {
   "cell_type": "code",
   "execution_count": 6,
   "metadata": {
    "collapsed": false,
    "slideshow": {
     "slide_type": "slide"
    }
   },
   "outputs": [
    {
     "name": "stdout",
     "output_type": "stream",
     "text": [
      "b    1.0\n",
      "c    2.0\n",
      "d    NaN\n",
      "a    0.0\n",
      "dtype: float64\n",
      "\n",
      "Média = 1.0\n"
     ]
    }
   ],
   "source": [
    "d = {'a' : 0., 'b' : 1., 'c' : 2.}\n",
    "s = pd.Series(d, index=['b', 'c', 'd', 'a'])\n",
    "print(s)\n",
    "print('\\nMédia =', s.mean())"
   ]
  },
  {
   "cell_type": "code",
   "execution_count": 7,
   "metadata": {
    "collapsed": false,
    "slideshow": {
     "slide_type": "slide"
    }
   },
   "outputs": [
    {
     "name": "stdout",
     "output_type": "stream",
     "text": [
      "b    1.0\n",
      "c    2.0\n",
      "d    NaN\n",
      "a    0.0\n",
      "dtype: float64\n",
      "-----\n",
      "count    3.0\n",
      "mean     1.0\n",
      "std      1.0\n",
      "min      0.0\n",
      "25%      0.5\n",
      "50%      1.0\n",
      "75%      1.5\n",
      "max      2.0\n",
      "dtype: float64\n"
     ]
    }
   ],
   "source": [
    "d = {'a' : 0., 'b' : 1., 'c' : 2.}\n",
    "s = pd.Series(d, index=['b', 'c', 'd', 'a'])\n",
    "print(s)\n",
    "print('-----')\n",
    "print(s.describe())"
   ]
  },
  {
   "cell_type": "code",
   "execution_count": 8,
   "metadata": {
    "collapsed": false,
    "scrolled": true,
    "slideshow": {
     "slide_type": "slide"
    }
   },
   "outputs": [
    {
     "name": "stdout",
     "output_type": "stream",
     "text": [
      "b    1.0\n",
      "c    3.0\n",
      "d    NaN\n",
      "a    3.0\n",
      "dtype: float64\n"
     ]
    }
   ],
   "source": [
    "d = {'a' : 0., 'b' : 1., 'c' : 2.}\n",
    "s = pd.Series(d, index=['b', 'c', 'd', 'a'])\n",
    "print(s.cumsum())"
   ]
  },
  {
   "cell_type": "code",
   "execution_count": 9,
   "metadata": {
    "collapsed": false,
    "slideshow": {
     "slide_type": "slide"
    }
   },
   "outputs": [
    {
     "name": "stdout",
     "output_type": "stream",
     "text": [
      "[  1.   2.  nan   0.]\n",
      "['b' 'c' 'd' 'a']\n"
     ]
    }
   ],
   "source": [
    "d = {'a' : 0., 'b' : 1., 'c' : 2.}\n",
    "s = pd.Series(d, index=['b', 'c', 'd', 'a'])\n",
    "\n",
    "print(s.values)\n",
    "print(s.index.values)"
   ]
  },
  {
   "cell_type": "markdown",
   "metadata": {
    "slideshow": {
     "slide_type": "slide"
    }
   },
   "source": [
    "### Indexação e operações vetoriais"
   ]
  },
  {
   "cell_type": "markdown",
   "metadata": {
    "slideshow": {
     "slide_type": "slide"
    }
   },
   "source": [
    "As Séries podem ser usadas com indexação por números inteiros, comportando-se como uma lista ou um _array_ do `numpy`. \n",
    "\n",
    "A função `len()`também funciona com séries."
   ]
  },
  {
   "cell_type": "code",
   "execution_count": 10,
   "metadata": {
    "collapsed": false,
    "slideshow": {
     "slide_type": "-"
    }
   },
   "outputs": [
    {
     "name": "stdout",
     "output_type": "stream",
     "text": [
      "4\n",
      "1.0\n",
      "0.0\n"
     ]
    }
   ],
   "source": [
    "d = {'a' : 0., 'b' : 1., 'c' : 2.}\n",
    "s = pd.Series(d, index=['b', 'c', 'd', 'a'])\n",
    "print(len(s))\n",
    "print(s[0])\n",
    "print(s[-1])"
   ]
  },
  {
   "cell_type": "markdown",
   "metadata": {
    "slideshow": {
     "slide_type": "slide"
    }
   },
   "source": [
    "As Séries podem ser usadas **como dicionários: as etiquetas comportam-se como chaves** e são usadas para indexar uma Série. para obter um valor (e também para modificar um valor).\n",
    "\n",
    "Tal como nos dicionários, o operador `in` **testa a existência de uma etiqueta**."
   ]
  },
  {
   "cell_type": "code",
   "execution_count": 11,
   "metadata": {
    "collapsed": false,
    "slideshow": {
     "slide_type": "slide"
    }
   },
   "outputs": [
    {
     "name": "stdout",
     "output_type": "stream",
     "text": [
      "b    1.0\n",
      "c    2.0\n",
      "d    NaN\n",
      "a    0.0\n",
      "dtype: float64\n",
      "-----------\n",
      "1.0\n",
      "2.0\n",
      "False\n",
      "True\n"
     ]
    }
   ],
   "source": [
    "d = {'a' : 0., 'b' : 1., 'c' : 2.}\n",
    "s = pd.Series(d, index=['b', 'c', 'd', 'a'])\n",
    "print(s)\n",
    "print('-----------')\n",
    "print(s['b'])\n",
    "print(s.c) # notação abreviada\n",
    "print('z' in s)\n",
    "print('d' in s)"
   ]
  },
  {
   "cell_type": "markdown",
   "metadata": {
    "slideshow": {
     "slide_type": "slide"
    }
   },
   "source": [
    "Mas as Séries são muito mais poderosas: elas comportam-se como _arrays_ do módulo `numpy`. Podemos usar:\n",
    "\n",
    "- _slices_\n",
    "- **operações vetoriais**."
   ]
  },
  {
   "cell_type": "code",
   "execution_count": 12,
   "metadata": {
    "collapsed": false,
    "slideshow": {
     "slide_type": "slide"
    }
   },
   "outputs": [
    {
     "name": "stdout",
     "output_type": "stream",
     "text": [
      "b    1.0\n",
      "c    3.0\n",
      "d    NaN\n",
      "e    1.8\n",
      "a    0.5\n",
      "dtype: float64\n",
      "b    1.0\n",
      "c    3.0\n",
      "d    NaN\n",
      "dtype: float64\n"
     ]
    }
   ],
   "source": [
    "d = {'a' : 0.5, 'b' : 1.0, 'c' : 3.0, 'e': 1.8}\n",
    "s = pd.Series(d, index=['b', 'c', 'd', 'e', 'a']) \n",
    "print(s)\n",
    "\n",
    "print(s[:3])"
   ]
  },
  {
   "cell_type": "code",
   "execution_count": 13,
   "metadata": {
    "collapsed": false,
    "slideshow": {
     "slide_type": "slide"
    }
   },
   "outputs": [
    {
     "name": "stdout",
     "output_type": "stream",
     "text": [
      "b    1.0\n",
      "c    3.0\n",
      "d    NaN\n",
      "e    1.8\n",
      "a    0.5\n",
      "dtype: float64\n",
      "b    1.00\n",
      "c    9.00\n",
      "d     NaN\n",
      "e    3.24\n",
      "a    0.25\n",
      "dtype: float64\n"
     ]
    }
   ],
   "source": [
    "d = {'a' : 0.5, 'b' : 1.0, 'c' : 3.0, 'e': 1.8}\n",
    "s = pd.Series(d, index=['b', 'c', 'd', 'e', 'a']) \n",
    "print(s)\n",
    "\n",
    "print(s**2)"
   ]
  },
  {
   "cell_type": "code",
   "execution_count": 14,
   "metadata": {
    "collapsed": false,
    "slideshow": {
     "slide_type": "slide"
    }
   },
   "outputs": [
    {
     "name": "stdout",
     "output_type": "stream",
     "text": [
      "b    1.0\n",
      "c    3.0\n",
      "d    NaN\n",
      "e    1.8\n",
      "a    0.5\n",
      "dtype: float64\n",
      "c    3.0\n",
      "e    1.8\n",
      "dtype: float64\n"
     ]
    }
   ],
   "source": [
    "d = {'a' : 0.5, 'b' : 1.0, 'c' : 3.0, 'e': 1.8}\n",
    "s = pd.Series(d, index=['b', 'c', 'd', 'e', 'a']) \n",
    "print(s)\n",
    "\n",
    "print(s[s > 1.1])"
   ]
  },
  {
   "cell_type": "markdown",
   "metadata": {
    "slideshow": {
     "slide_type": "slide"
    }
   },
   "source": [
    "Também muito poderoso é o facto de que, quando aplicamos operações vetoriais sobre Séries (por exemplo, na soma de duas séries), **os valores são \"alinhados\" pelos respetivos _labels_** antes da operação. Vejamos estas duas séries:"
   ]
  },
  {
   "cell_type": "code",
   "execution_count": 15,
   "metadata": {
    "collapsed": false,
    "slideshow": {
     "slide_type": "slide"
    }
   },
   "outputs": [
    {
     "name": "stdout",
     "output_type": "stream",
     "text": [
      "Soma\n",
      "a    1.0\n",
      "b    2.0\n",
      "e    NaN\n",
      "f    NaN\n",
      "dtype: float64\n"
     ]
    }
   ],
   "source": [
    "s1 = pd.Series({'a' : 0.5, 'b' : 1.0, 'e': 1.8})\n",
    "s2 = pd.Series({'a' : 0.5, 'b' : 1.0, 'f': 1.8})\n",
    "\n",
    "print('Soma')\n",
    "print(s1 + s2)"
   ]
  },
  {
   "cell_type": "markdown",
   "metadata": {
    "slideshow": {
     "slide_type": "skip"
    }
   },
   "source": [
    "A soma das duas Séries resulta numa Série em que todas as etiquetas estão presentes (**união de conjuntos**).\n",
    "\n",
    "As que só existirem numa das Séries ou as que, numa das Séries, têm o valor `NaN`, terão o valor `NaN` no resultado final."
   ]
  },
  {
   "cell_type": "markdown",
   "metadata": {
    "slideshow": {
     "slide_type": "slide"
    }
   },
   "source": [
    "A função `.dropna()` permite eliminar os _valores em falta_."
   ]
  },
  {
   "cell_type": "code",
   "execution_count": 16,
   "metadata": {
    "collapsed": false
   },
   "outputs": [
    {
     "name": "stdout",
     "output_type": "stream",
     "text": [
      "a    1.0\n",
      "b    2.0\n",
      "dtype: float64\n"
     ]
    }
   ],
   "source": [
    "s1 = pd.Series({'a' : 0.5, 'b' : 1.0, 'e': 1.8})\n",
    "s2 = pd.Series({'a' : 0.5, 'b' : 1.0, 'f': 1.8})\n",
    "s3 = s1 + s2\n",
    "\n",
    "print(s3.dropna())"
   ]
  },
  {
   "cell_type": "markdown",
   "metadata": {
    "slideshow": {
     "slide_type": "slide"
    }
   },
   "source": [
    "## `DataFrame`\n",
    "\n",
    "> `DataFrame` is a **2-dimensional labeled data structure** with columns of potentially different types. You can think of it like a spreadsheet or SQL table, or a **dict of Series objects**. It is generally the most commonly used pandas object."
   ]
  },
  {
   "cell_type": "markdown",
   "metadata": {},
   "source": [
    "Uma _DataFrame_ é um quadro bidimensional, em que cada coluna se comporta como uma Série, mas em que existe um índice comum a todas as colunas."
   ]
  },
  {
   "cell_type": "markdown",
   "metadata": {
    "slideshow": {
     "slide_type": "slide"
    }
   },
   "source": [
    "Para ilustar o uso de uma `DataFrame`, vamos ler e processar a informação da UniProt sobre a levedura _S. cerevisiae_.\n",
    "\n",
    "A `DataFrame` terá as colunas \"**ac**\", \"**rev**\", \"**n**\" e \"**sequence**\""
   ]
  },
  {
   "cell_type": "code",
   "execution_count": 17,
   "metadata": {
    "collapsed": false,
    "slideshow": {
     "slide_type": "slide"
    }
   },
   "outputs": [
    {
     "name": "stdout",
     "output_type": "stream",
     "text": [
      "Numero total de proteínas: 6816\n",
      "A primeira proteína tem 316 aminoácidos\n"
     ]
    }
   ],
   "source": [
    "def get_prots(filename):\n",
    "    with open(filename) as big:\n",
    "        tudo = big.read()\n",
    "    return [p for p in tudo.split('//\\n') if len(p) != 0]\n",
    "\n",
    "prots = get_prots('uniprot_s_cerevisiae.txt')\n",
    "\n",
    "def process_prot(p):\n",
    "    linhas = p.split('\\n')\n",
    "    partes = linhas[0].split()\n",
    "    reviewed = partes[2][0:-1]\n",
    "    naa = int(partes[3])\n",
    "    ac = linhas[1].split()[1][0:-1]\n",
    "    for i in range(len(linhas)-1, 0, -1):\n",
    "        if linhas[i].startswith('SQ'):\n",
    "            break\n",
    "    s = ''.join(linhas[i+1:])\n",
    "    seq = ''.join(s.split())\n",
    "    return {'ac':ac, 'rev':reviewed, 'n':naa, 'seq':seq}\n",
    "\n",
    "pinfo = [process_prot(p) for p in prots]\n",
    "print('Numero total de proteínas: {}'.format(len(pinfo)))\n",
    "print('A primeira proteína tem', pinfo[0]['n'], 'aminoácidos')"
   ]
  },
  {
   "cell_type": "markdown",
   "metadata": {
    "slideshow": {
     "slide_type": "slide"
    }
   },
   "source": [
    "Podemos construir uma `DataFrame` a partir de uma lista de dicionários. As **chaves dos dicionários serão as colunas**."
   ]
  },
  {
   "cell_type": "code",
   "execution_count": 18,
   "metadata": {
    "collapsed": false,
    "slideshow": {
     "slide_type": "slide"
    }
   },
   "outputs": [
    {
     "name": "stdout",
     "output_type": "stream",
     "text": [
      "6816\n"
     ]
    },
    {
     "data": {
      "text/html": [
       "<div>\n",
       "<table border=\"1\" class=\"dataframe\">\n",
       "  <thead>\n",
       "    <tr style=\"text-align: right;\">\n",
       "      <th></th>\n",
       "      <th>ac</th>\n",
       "      <th>n</th>\n",
       "      <th>rev</th>\n",
       "      <th>seq</th>\n",
       "    </tr>\n",
       "  </thead>\n",
       "  <tbody>\n",
       "    <tr>\n",
       "      <th>0</th>\n",
       "      <td>P29703</td>\n",
       "      <td>316</td>\n",
       "      <td>Reviewed</td>\n",
       "      <td>MEEYDYSDVKPLPIETDLQDELCRIMYTEDYKRLMGLARALISLNE...</td>\n",
       "    </tr>\n",
       "    <tr>\n",
       "      <th>1</th>\n",
       "      <td>P36001</td>\n",
       "      <td>430</td>\n",
       "      <td>Reviewed</td>\n",
       "      <td>MDDISGRQTLPRINRLLEHVGNPQDSLSILHIAGTNGKETVSKFLT...</td>\n",
       "    </tr>\n",
       "    <tr>\n",
       "      <th>2</th>\n",
       "      <td>P08524</td>\n",
       "      <td>352</td>\n",
       "      <td>Reviewed</td>\n",
       "      <td>MASEKEIRRERFLNVFPKLVEELNASLLAYGMPKEACDWYAHSLNY...</td>\n",
       "    </tr>\n",
       "  </tbody>\n",
       "</table>\n",
       "</div>"
      ],
      "text/plain": [
       "       ac    n       rev                                                seq\n",
       "0  P29703  316  Reviewed  MEEYDYSDVKPLPIETDLQDELCRIMYTEDYKRLMGLARALISLNE...\n",
       "1  P36001  430  Reviewed  MDDISGRQTLPRINRLLEHVGNPQDSLSILHIAGTNGKETVSKFLT...\n",
       "2  P08524  352  Reviewed  MASEKEIRRERFLNVFPKLVEELNASLLAYGMPKEACDWYAHSLNY..."
      ]
     },
     "execution_count": 18,
     "metadata": {},
     "output_type": "execute_result"
    }
   ],
   "source": [
    "prots = pd.DataFrame(pinfo)\n",
    "print(len(prots))\n",
    "prots[:3]"
   ]
  },
  {
   "cell_type": "markdown",
   "metadata": {
    "slideshow": {
     "slide_type": "slide"
    }
   },
   "source": [
    "Para inspeção rápida, as funções `.head()` e `.tail()` apresentam o início e o fim da `DataFrame`"
   ]
  },
  {
   "cell_type": "code",
   "execution_count": 19,
   "metadata": {
    "collapsed": false
   },
   "outputs": [
    {
     "data": {
      "text/html": [
       "<div>\n",
       "<table border=\"1\" class=\"dataframe\">\n",
       "  <thead>\n",
       "    <tr style=\"text-align: right;\">\n",
       "      <th></th>\n",
       "      <th>ac</th>\n",
       "      <th>n</th>\n",
       "      <th>rev</th>\n",
       "      <th>seq</th>\n",
       "    </tr>\n",
       "  </thead>\n",
       "  <tbody>\n",
       "    <tr>\n",
       "      <th>6811</th>\n",
       "      <td>A0A1S0T058</td>\n",
       "      <td>133</td>\n",
       "      <td>Unreviewed</td>\n",
       "      <td>MSETCSSSLALLHKILHIHSHTPSVYYNICISVRILTSERLQCFFF...</td>\n",
       "    </tr>\n",
       "    <tr>\n",
       "      <th>6812</th>\n",
       "      <td>A0A1S0T090</td>\n",
       "      <td>108</td>\n",
       "      <td>Unreviewed</td>\n",
       "      <td>MYKVSACGVRIMSGISEIWIGELRDYKYALRLDREEYPAVLVYEYD...</td>\n",
       "    </tr>\n",
       "    <tr>\n",
       "      <th>6813</th>\n",
       "      <td>A0A1S0T072</td>\n",
       "      <td>145</td>\n",
       "      <td>Unreviewed</td>\n",
       "      <td>MAILLPLKSILPWCCITFSFLLSSSGSISHSTASSSITLTKSSKPT...</td>\n",
       "    </tr>\n",
       "    <tr>\n",
       "      <th>6814</th>\n",
       "      <td>A0A1S0T069</td>\n",
       "      <td>239</td>\n",
       "      <td>Unreviewed</td>\n",
       "      <td>MMPTYLGKLTWSYFFTTLGLACAYNVTEQMEFDQFKSDYLACLAPE...</td>\n",
       "    </tr>\n",
       "    <tr>\n",
       "      <th>6815</th>\n",
       "      <td>A0A1S0T004</td>\n",
       "      <td>163</td>\n",
       "      <td>Unreviewed</td>\n",
       "      <td>MEMHWITLVAFIATFFNLAATSINNSSLPDVDLTNPLRFFTNIPAG...</td>\n",
       "    </tr>\n",
       "  </tbody>\n",
       "</table>\n",
       "</div>"
      ],
      "text/plain": [
       "              ac    n         rev  \\\n",
       "6811  A0A1S0T058  133  Unreviewed   \n",
       "6812  A0A1S0T090  108  Unreviewed   \n",
       "6813  A0A1S0T072  145  Unreviewed   \n",
       "6814  A0A1S0T069  239  Unreviewed   \n",
       "6815  A0A1S0T004  163  Unreviewed   \n",
       "\n",
       "                                                    seq  \n",
       "6811  MSETCSSSLALLHKILHIHSHTPSVYYNICISVRILTSERLQCFFF...  \n",
       "6812  MYKVSACGVRIMSGISEIWIGELRDYKYALRLDREEYPAVLVYEYD...  \n",
       "6813  MAILLPLKSILPWCCITFSFLLSSSGSISHSTASSSITLTKSSKPT...  \n",
       "6814  MMPTYLGKLTWSYFFTTLGLACAYNVTEQMEFDQFKSDYLACLAPE...  \n",
       "6815  MEMHWITLVAFIATFFNLAATSINNSSLPDVDLTNPLRFFTNIPAG...  "
      ]
     },
     "execution_count": 19,
     "metadata": {},
     "output_type": "execute_result"
    }
   ],
   "source": [
    "prots = pd.DataFrame(pinfo)\n",
    "#prots.head()\n",
    "prots.tail()"
   ]
  },
  {
   "cell_type": "markdown",
   "metadata": {
    "slideshow": {
     "slide_type": "slide"
    }
   },
   "source": [
    "Podemos mudar o índice para uma das colunas."
   ]
  },
  {
   "cell_type": "code",
   "execution_count": 20,
   "metadata": {
    "collapsed": false
   },
   "outputs": [
    {
     "data": {
      "text/html": [
       "<div>\n",
       "<table border=\"1\" class=\"dataframe\">\n",
       "  <thead>\n",
       "    <tr style=\"text-align: right;\">\n",
       "      <th></th>\n",
       "      <th>n</th>\n",
       "      <th>rev</th>\n",
       "      <th>seq</th>\n",
       "    </tr>\n",
       "    <tr>\n",
       "      <th>ac</th>\n",
       "      <th></th>\n",
       "      <th></th>\n",
       "      <th></th>\n",
       "    </tr>\n",
       "  </thead>\n",
       "  <tbody>\n",
       "    <tr>\n",
       "      <th>P29703</th>\n",
       "      <td>316</td>\n",
       "      <td>Reviewed</td>\n",
       "      <td>MEEYDYSDVKPLPIETDLQDELCRIMYTEDYKRLMGLARALISLNE...</td>\n",
       "    </tr>\n",
       "    <tr>\n",
       "      <th>P36001</th>\n",
       "      <td>430</td>\n",
       "      <td>Reviewed</td>\n",
       "      <td>MDDISGRQTLPRINRLLEHVGNPQDSLSILHIAGTNGKETVSKFLT...</td>\n",
       "    </tr>\n",
       "    <tr>\n",
       "      <th>P08524</th>\n",
       "      <td>352</td>\n",
       "      <td>Reviewed</td>\n",
       "      <td>MASEKEIRRERFLNVFPKLVEELNASLLAYGMPKEACDWYAHSLNY...</td>\n",
       "    </tr>\n",
       "    <tr>\n",
       "      <th>P28003</th>\n",
       "      <td>413</td>\n",
       "      <td>Reviewed</td>\n",
       "      <td>MGLYSPESEKSQLNMNYIGKDDSQSIFRRLNQNLKASNNNNDSNKN...</td>\n",
       "    </tr>\n",
       "    <tr>\n",
       "      <th>Q99341</th>\n",
       "      <td>161</td>\n",
       "      <td>Reviewed</td>\n",
       "      <td>MSLYQSIVFIARNVVNSITRILHDHPTNSSLITQTYFITPNHSGKN...</td>\n",
       "    </tr>\n",
       "  </tbody>\n",
       "</table>\n",
       "</div>"
      ],
      "text/plain": [
       "          n       rev                                                seq\n",
       "ac                                                                      \n",
       "P29703  316  Reviewed  MEEYDYSDVKPLPIETDLQDELCRIMYTEDYKRLMGLARALISLNE...\n",
       "P36001  430  Reviewed  MDDISGRQTLPRINRLLEHVGNPQDSLSILHIAGTNGKETVSKFLT...\n",
       "P08524  352  Reviewed  MASEKEIRRERFLNVFPKLVEELNASLLAYGMPKEACDWYAHSLNY...\n",
       "P28003  413  Reviewed  MGLYSPESEKSQLNMNYIGKDDSQSIFRRLNQNLKASNNNNDSNKN...\n",
       "Q99341  161  Reviewed  MSLYQSIVFIARNVVNSITRILHDHPTNSSLITQTYFITPNHSGKN..."
      ]
     },
     "execution_count": 20,
     "metadata": {},
     "output_type": "execute_result"
    }
   ],
   "source": [
    "prots = prots.set_index('ac')\n",
    "prots.head()"
   ]
  },
  {
   "cell_type": "markdown",
   "metadata": {
    "slideshow": {
     "slide_type": "slide"
    }
   },
   "source": [
    "A indexação com o nome de uma coluna devolve essa coluna (mas associada ao índice).\n",
    "\n",
    "Cada coluna comporta-se como uma Série."
   ]
  },
  {
   "cell_type": "code",
   "execution_count": 21,
   "metadata": {
    "collapsed": false,
    "slideshow": {
     "slide_type": "slide"
    }
   },
   "outputs": [
    {
     "data": {
      "text/plain": [
       "ac\n",
       "P29703         316\n",
       "P36001         430\n",
       "P08524         352\n",
       "P28003         413\n",
       "Q99341         161\n",
       "P53913         173\n",
       "P38297         855\n",
       "P39012         614\n",
       "P22146         559\n",
       "P38631        1876\n",
       "P43557         207\n",
       "P53233         369\n",
       "Q12676         427\n",
       "P32614         470\n",
       "P32791         686\n",
       "P38310         465\n",
       "P18852         110\n",
       "P42837         879\n",
       "Q08967         793\n",
       "P23900         669\n",
       "Q05015         223\n",
       "P11710         512\n",
       "Q08559         129\n",
       "P36033         711\n",
       "Q12473         712\n",
       "Q12209         686\n",
       "Q12029         327\n",
       "P32805         299\n",
       "P36170        1169\n",
       "P39712        1322\n",
       "              ... \n",
       "A0A1S0T076     103\n",
       "A0A1S0T0A7     110\n",
       "A0A1S0T0B4     122\n",
       "A0A1S0T0A4     124\n",
       "A0A1S0T0C1     109\n",
       "A0A1S0T0A9     120\n",
       "A0A1S0T066     135\n",
       "A0A1S0T088     113\n",
       "A0A1S0T045     103\n",
       "A0A1S0T073     164\n",
       "A0A1S0T062     147\n",
       "A0A1S0SZZ3     104\n",
       "A0A1S0SZN9     130\n",
       "A0A1S0T0D1     108\n",
       "A0A1S0T0A0     125\n",
       "A0A1S0T093     113\n",
       "A0A1S0SZW7     133\n",
       "A0A1S0T0B3     101\n",
       "A0A1S0T034     149\n",
       "A0A1S0T0B0     113\n",
       "A0A1S0T059     101\n",
       "A0A1S0T0A8     108\n",
       "A0A1S0T086     136\n",
       "A0A1S0T0B6     113\n",
       "A0A1S0T065     137\n",
       "A0A1S0T058     133\n",
       "A0A1S0T090     108\n",
       "A0A1S0T072     145\n",
       "A0A1S0T069     239\n",
       "A0A1S0T004     163\n",
       "Name: n, dtype: int64"
      ]
     },
     "execution_count": 21,
     "metadata": {},
     "output_type": "execute_result"
    }
   ],
   "source": [
    "prots['n']"
   ]
  },
  {
   "cell_type": "code",
   "execution_count": 22,
   "metadata": {
    "collapsed": false,
    "slideshow": {
     "slide_type": "slide"
    }
   },
   "outputs": [
    {
     "name": "stdout",
     "output_type": "stream",
     "text": [
      "635\n",
      "4910\n",
      "16\n",
      "445.49838615023475\n"
     ]
    }
   ],
   "source": [
    "print(prots['n']['P31383'])\n",
    "print(prots['n'].max())\n",
    "print(prots['n'].min())\n",
    "print(prots['n'].mean())"
   ]
  },
  {
   "cell_type": "code",
   "execution_count": 23,
   "metadata": {
    "collapsed": false,
    "slideshow": {
     "slide_type": "slide"
    }
   },
   "outputs": [
    {
     "name": "stdout",
     "output_type": "stream",
     "text": [
      "count    6816.000000\n",
      "mean      445.498386\n",
      "std       380.358091\n",
      "min        16.000000\n",
      "25%       169.000000\n",
      "50%       352.000000\n",
      "75%       585.000000\n",
      "max      4910.000000\n",
      "Name: n, dtype: float64\n"
     ]
    }
   ],
   "source": [
    "print(prots['n'].describe())"
   ]
  },
  {
   "cell_type": "code",
   "execution_count": 24,
   "metadata": {
    "collapsed": false,
    "slideshow": {
     "slide_type": "-"
    }
   },
   "outputs": [
    {
     "name": "stdout",
     "output_type": "stream",
     "text": [
      "Menor proteína: 16.0\n",
      "Maior proteína: 4910.0\n"
     ]
    }
   ],
   "source": [
    "desc = prots['n'].describe()\n",
    "min_aa = desc['min']\n",
    "max_aa = desc['max']\n",
    "\n",
    "print('Menor proteína:', min_aa)\n",
    "print('Maior proteína:', max_aa)"
   ]
  },
  {
   "cell_type": "markdown",
   "metadata": {
    "slideshow": {
     "slide_type": "slide"
    }
   },
   "source": [
    "Quais são as proteínas menores e maiores?"
   ]
  },
  {
   "cell_type": "code",
   "execution_count": 25,
   "metadata": {
    "collapsed": false,
    "slideshow": {
     "slide_type": "-"
    }
   },
   "outputs": [
    {
     "data": {
      "text/html": [
       "<div>\n",
       "<table border=\"1\" class=\"dataframe\">\n",
       "  <thead>\n",
       "    <tr style=\"text-align: right;\">\n",
       "      <th></th>\n",
       "      <th>n</th>\n",
       "      <th>rev</th>\n",
       "      <th>seq</th>\n",
       "    </tr>\n",
       "    <tr>\n",
       "      <th>ac</th>\n",
       "      <th></th>\n",
       "      <th></th>\n",
       "      <th></th>\n",
       "    </tr>\n",
       "  </thead>\n",
       "  <tbody>\n",
       "    <tr>\n",
       "      <th>Q3E775</th>\n",
       "      <td>16</td>\n",
       "      <td>Reviewed</td>\n",
       "      <td>MLSLIFYLRFPSYIRG</td>\n",
       "    </tr>\n",
       "  </tbody>\n",
       "</table>\n",
       "</div>"
      ],
      "text/plain": [
       "         n       rev               seq\n",
       "ac                                    \n",
       "Q3E775  16  Reviewed  MLSLIFYLRFPSYIRG"
      ]
     },
     "execution_count": 25,
     "metadata": {},
     "output_type": "execute_result"
    }
   ],
   "source": [
    "min_aa = prots['n'].describe()['min']\n",
    "\n",
    "prots[prots['n'] == min_aa]"
   ]
  },
  {
   "cell_type": "code",
   "execution_count": 26,
   "metadata": {
    "collapsed": false,
    "slideshow": {
     "slide_type": "slide"
    }
   },
   "outputs": [
    {
     "data": {
      "text/html": [
       "<div>\n",
       "<table border=\"1\" class=\"dataframe\">\n",
       "  <thead>\n",
       "    <tr style=\"text-align: right;\">\n",
       "      <th></th>\n",
       "      <th>n</th>\n",
       "      <th>rev</th>\n",
       "      <th>seq</th>\n",
       "    </tr>\n",
       "    <tr>\n",
       "      <th>ac</th>\n",
       "      <th></th>\n",
       "      <th></th>\n",
       "      <th></th>\n",
       "    </tr>\n",
       "  </thead>\n",
       "  <tbody>\n",
       "    <tr>\n",
       "      <th>Q12019</th>\n",
       "      <td>4910</td>\n",
       "      <td>Reviewed</td>\n",
       "      <td>MSQDRILLDLDVVNQRLILFNSAFPSDAIEAPFHFSNKESTSENLD...</td>\n",
       "    </tr>\n",
       "  </tbody>\n",
       "</table>\n",
       "</div>"
      ],
      "text/plain": [
       "           n       rev                                                seq\n",
       "ac                                                                       \n",
       "Q12019  4910  Reviewed  MSQDRILLDLDVVNQRLILFNSAFPSDAIEAPFHFSNKESTSENLD..."
      ]
     },
     "execution_count": 26,
     "metadata": {},
     "output_type": "execute_result"
    }
   ],
   "source": [
    "max_aa = prots['n'].describe()['max']\n",
    "\n",
    "prots[prots['n'] == max_aa]"
   ]
  },
  {
   "cell_type": "markdown",
   "metadata": {
    "slideshow": {
     "slide_type": "slide"
    }
   },
   "source": [
    "Para obter uma linha usamos `.loc` e indexação por um _label_.\n",
    "\n",
    "A linha obtida é uma _Series_."
   ]
  },
  {
   "cell_type": "code",
   "execution_count": 27,
   "metadata": {
    "collapsed": false
   },
   "outputs": [
    {
     "data": {
      "text/plain": [
       "n                                                    635\n",
       "rev                                             Reviewed\n",
       "seq    MSGARSTTAGAVPSAATTSTTSTTSNSKDSDSNESLYPLALLMDEL...\n",
       "Name: P31383, dtype: object"
      ]
     },
     "execution_count": 27,
     "metadata": {},
     "output_type": "execute_result"
    }
   ],
   "source": [
    "prots.loc['P31383']"
   ]
  },
  {
   "cell_type": "markdown",
   "metadata": {
    "slideshow": {
     "slide_type": "slide"
    }
   },
   "source": [
    "Quantos triptofanos tem a proteína P31383?"
   ]
  },
  {
   "cell_type": "code",
   "execution_count": 28,
   "metadata": {
    "collapsed": false,
    "slideshow": {
     "slide_type": "-"
    }
   },
   "outputs": [
    {
     "data": {
      "text/plain": [
       "7"
      ]
     },
     "execution_count": 28,
     "metadata": {},
     "output_type": "execute_result"
    }
   ],
   "source": [
    "prots.loc['P31383']['seq'].count('W')"
   ]
  },
  {
   "cell_type": "markdown",
   "metadata": {
    "slideshow": {
     "slide_type": "slide"
    }
   },
   "source": [
    "A indexação com condições sobre as colunas é muito poderosa.\n",
    "\n",
    "Qauntas proteínas têm mais de 2000 aminoácidos?"
   ]
  },
  {
   "cell_type": "code",
   "execution_count": 29,
   "metadata": {
    "collapsed": false
   },
   "outputs": [
    {
     "name": "stdout",
     "output_type": "stream",
     "text": [
      "37\n"
     ]
    },
    {
     "data": {
      "text/html": [
       "<div>\n",
       "<table border=\"1\" class=\"dataframe\">\n",
       "  <thead>\n",
       "    <tr style=\"text-align: right;\">\n",
       "      <th></th>\n",
       "      <th>n</th>\n",
       "      <th>rev</th>\n",
       "      <th>seq</th>\n",
       "    </tr>\n",
       "    <tr>\n",
       "      <th>ac</th>\n",
       "      <th></th>\n",
       "      <th></th>\n",
       "      <th></th>\n",
       "    </tr>\n",
       "  </thead>\n",
       "  <tbody>\n",
       "    <tr>\n",
       "      <th>Q06179</th>\n",
       "      <td>2628</td>\n",
       "      <td>Reviewed</td>\n",
       "      <td>MMFPINVLLYKWLIFAVTFLWSCKILLRKLLGINITWINLFKLEIC...</td>\n",
       "    </tr>\n",
       "    <tr>\n",
       "      <th>P33892</th>\n",
       "      <td>2672</td>\n",
       "      <td>Reviewed</td>\n",
       "      <td>MTAILNWEDISPVLEKGTRESHVSKRVPFLQDISQLVRQETLEKPQ...</td>\n",
       "    </tr>\n",
       "    <tr>\n",
       "      <th>Q12680</th>\n",
       "      <td>2145</td>\n",
       "      <td>Reviewed</td>\n",
       "      <td>MPVLKSDNFDPLEEAYEGGTIQNYNDEHHLHKSWANVIPDKRGLYD...</td>\n",
       "    </tr>\n",
       "    <tr>\n",
       "      <th>P32874</th>\n",
       "      <td>2273</td>\n",
       "      <td>Reviewed</td>\n",
       "      <td>KGKTITHGQSWGARRIHSHFYITIFTITCIRIGQYKLALYLDPYRF...</td>\n",
       "    </tr>\n",
       "    <tr>\n",
       "      <th>P19158</th>\n",
       "      <td>3079</td>\n",
       "      <td>Reviewed</td>\n",
       "      <td>MSQPTKNKKKEHGTDSKSSRMTRTLVNHILFERILPILPVESNLST...</td>\n",
       "    </tr>\n",
       "    <tr>\n",
       "      <th>P39526</th>\n",
       "      <td>2014</td>\n",
       "      <td>Reviewed</td>\n",
       "      <td>MANRSLKKVIETSSNNGHDLLTWITTNLEKLICLKEVNDNEIQEVK...</td>\n",
       "    </tr>\n",
       "    <tr>\n",
       "      <th>P18963</th>\n",
       "      <td>3092</td>\n",
       "      <td>Reviewed</td>\n",
       "      <td>MNQSDPQDKKNFPMEYSLTKHLFFDRLLLVLPIESNLKTYADVEAD...</td>\n",
       "    </tr>\n",
       "    <tr>\n",
       "      <th>Q12019</th>\n",
       "      <td>4910</td>\n",
       "      <td>Reviewed</td>\n",
       "      <td>MSQDRILLDLDVVNQRLILFNSAFPSDAIEAPFHFSNKESTSENLD...</td>\n",
       "    </tr>\n",
       "    <tr>\n",
       "      <th>P25655</th>\n",
       "      <td>2108</td>\n",
       "      <td>Reviewed</td>\n",
       "      <td>MLSATYRDLNTASNLETSKEKQAAQIVIAQISLLFTTLNNDNFESV...</td>\n",
       "    </tr>\n",
       "    <tr>\n",
       "      <th>P33334</th>\n",
       "      <td>2413</td>\n",
       "      <td>Reviewed</td>\n",
       "      <td>MSGLPPPPPGFEEDSDLALPPPPPPPPGYEIEELDNPMVPSSVNED...</td>\n",
       "    </tr>\n",
       "    <tr>\n",
       "      <th>Q00416</th>\n",
       "      <td>2231</td>\n",
       "      <td>Reviewed</td>\n",
       "      <td>MNSNNPDNNNSNNINNNNKDKDIAPNSDVQLATVYTKAKSYIPQIE...</td>\n",
       "    </tr>\n",
       "    <tr>\n",
       "      <th>P48415</th>\n",
       "      <td>2195</td>\n",
       "      <td>Reviewed</td>\n",
       "      <td>MTPEAKKRKNQKKKLKQKQKKAAEKAASHSEEPLELPESTINSSFN...</td>\n",
       "    </tr>\n",
       "    <tr>\n",
       "      <th>P32600</th>\n",
       "      <td>2474</td>\n",
       "      <td>Reviewed</td>\n",
       "      <td>MNKYINKYTTPPNLLSLRQRAEGKHRTRKKLTHKSHSHDDEMSTTS...</td>\n",
       "    </tr>\n",
       "    <tr>\n",
       "      <th>P38811</th>\n",
       "      <td>3744</td>\n",
       "      <td>Reviewed</td>\n",
       "      <td>MSLTEQIEQFASRFRDDDATLQSRYSTLSELYDIMELLNSPEDYHF...</td>\n",
       "    </tr>\n",
       "    <tr>\n",
       "      <th>Q03280</th>\n",
       "      <td>3268</td>\n",
       "      <td>Reviewed</td>\n",
       "      <td>MVLFTRCEKARKEKLAAGYKPLVDYLIDCDTPTFLERIEAIQEWDR...</td>\n",
       "    </tr>\n",
       "    <tr>\n",
       "      <th>P35169</th>\n",
       "      <td>2470</td>\n",
       "      <td>Reviewed</td>\n",
       "      <td>MEPHEEQIWKSKLLKAANNDMDMDRNVPLAPNLNVNMNMKMNASRN...</td>\n",
       "    </tr>\n",
       "    <tr>\n",
       "      <th>P35194</th>\n",
       "      <td>2493</td>\n",
       "      <td>Reviewed</td>\n",
       "      <td>MAKQRQTTKSSKRYRYSSFKARIDDLKIEPARNLEKRVHDYVESSH...</td>\n",
       "    </tr>\n",
       "    <tr>\n",
       "      <th>Q07878</th>\n",
       "      <td>3144</td>\n",
       "      <td>Reviewed</td>\n",
       "      <td>MLESLAANLLNRLLGSYVENFDPNQLNVGIWSGDVKLKNLKLRKDC...</td>\n",
       "    </tr>\n",
       "    <tr>\n",
       "      <th>Q00955</th>\n",
       "      <td>2233</td>\n",
       "      <td>Reviewed</td>\n",
       "      <td>MSEESLFESSPQKMEYEITNYSERHTELPGHFIGLNTVDKLEESPL...</td>\n",
       "    </tr>\n",
       "    <tr>\n",
       "      <th>P38111</th>\n",
       "      <td>2368</td>\n",
       "      <td>Reviewed</td>\n",
       "      <td>MESHVKYLDELILAIKDLNSGVDSKVQIKKVPTDPSSSQEYAKSLK...</td>\n",
       "    </tr>\n",
       "    <tr>\n",
       "      <th>P38110</th>\n",
       "      <td>2787</td>\n",
       "      <td>Reviewed</td>\n",
       "      <td>MEDHGIVETLNFLSSTKIKERNNALDELTTILKEDPERIPTKALST...</td>\n",
       "    </tr>\n",
       "    <tr>\n",
       "      <th>P39960</th>\n",
       "      <td>2167</td>\n",
       "      <td>Reviewed</td>\n",
       "      <td>MKGLLWSKNRKSSTASASSSSTSTSHKTTTASTASSSSPSSSSQTI...</td>\n",
       "    </tr>\n",
       "    <tr>\n",
       "      <th>P43583</th>\n",
       "      <td>2143</td>\n",
       "      <td>Reviewed</td>\n",
       "      <td>MTANNDDDIKSPIPITNKTLSQLKRFERSPGRPSSSQGEIKRKKSR...</td>\n",
       "    </tr>\n",
       "    <tr>\n",
       "      <th>P25356</th>\n",
       "      <td>2167</td>\n",
       "      <td>Reviewed</td>\n",
       "      <td>MNSIINAASKVLRLQDDVKKATIILGDILILQPINHEVEPDVENLV...</td>\n",
       "    </tr>\n",
       "    <tr>\n",
       "      <th>P32639</th>\n",
       "      <td>2163</td>\n",
       "      <td>Reviewed</td>\n",
       "      <td>MTEHETKDKAKKIREIYRYDEMSNKVLKVDKRFMNTSQNPQRDAEI...</td>\n",
       "    </tr>\n",
       "    <tr>\n",
       "      <th>P50077</th>\n",
       "      <td>2039</td>\n",
       "      <td>Reviewed</td>\n",
       "      <td>MQGRKRTLTEPFEPNTNPFGDNAAVMTENVEDNSETDGNRLESKPQ...</td>\n",
       "    </tr>\n",
       "    <tr>\n",
       "      <th>Q12150</th>\n",
       "      <td>2958</td>\n",
       "      <td>Reviewed</td>\n",
       "      <td>MEAISQLRGVPLTHQKDFSWVFLVDWILTVVVCLTMIFYMGRIYAY...</td>\n",
       "    </tr>\n",
       "    <tr>\n",
       "      <th>P08678</th>\n",
       "      <td>2026</td>\n",
       "      <td>Reviewed</td>\n",
       "      <td>MSSKPDTGSEISGPQRQEEQEQQIEQSSPTEANDRSIHDEVPKVKK...</td>\n",
       "    </tr>\n",
       "    <tr>\n",
       "      <th>P21951</th>\n",
       "      <td>2222</td>\n",
       "      <td>Reviewed</td>\n",
       "      <td>MMFGKKKNNGGSSTARYSAGNKYNTLSNNYALSAQQLLNASKIDDI...</td>\n",
       "    </tr>\n",
       "    <tr>\n",
       "      <th>P36022</th>\n",
       "      <td>4092</td>\n",
       "      <td>Reviewed</td>\n",
       "      <td>MCKNEARLANELIEFVAATVTGIKNSPKENEQAFIDYLHCQYLERF...</td>\n",
       "    </tr>\n",
       "    <tr>\n",
       "      <th>P07149</th>\n",
       "      <td>2051</td>\n",
       "      <td>Reviewed</td>\n",
       "      <td>MDAYSTRPLTLSHGSLEHVLLVPTASFFIASQLQEQFNKILPEPTE...</td>\n",
       "    </tr>\n",
       "    <tr>\n",
       "      <th>P34756</th>\n",
       "      <td>2278</td>\n",
       "      <td>Reviewed</td>\n",
       "      <td>MSSEEPHASISFPDGSHVRSSSTGTSSVNTIDATLSRPNYIKKPSL...</td>\n",
       "    </tr>\n",
       "    <tr>\n",
       "      <th>Q00402</th>\n",
       "      <td>2748</td>\n",
       "      <td>Reviewed</td>\n",
       "      <td>MSHNNRHKKNNDKDSSAGQYANSIDNSLSQESVSTNGVTRMANLKA...</td>\n",
       "    </tr>\n",
       "    <tr>\n",
       "      <th>P07259</th>\n",
       "      <td>2214</td>\n",
       "      <td>Reviewed</td>\n",
       "      <td>MATIAPTAPITPPMESTGDRLVTLELKDGTVLQGYSFGAEKSVAGE...</td>\n",
       "    </tr>\n",
       "    <tr>\n",
       "      <th>P11075</th>\n",
       "      <td>2009</td>\n",
       "      <td>Reviewed</td>\n",
       "      <td>MSEQNSVVNAEKGDGEISSNVETASSVNPSVKPQNAIKEEAKETNG...</td>\n",
       "    </tr>\n",
       "    <tr>\n",
       "      <th>P40468</th>\n",
       "      <td>2376</td>\n",
       "      <td>Reviewed</td>\n",
       "      <td>MASRFTFPPQRDQGIGFTFPPTNKAEGSSNNNQISIDIDPSGQDVL...</td>\n",
       "    </tr>\n",
       "    <tr>\n",
       "      <th>Q06116</th>\n",
       "      <td>2489</td>\n",
       "      <td>Reviewed</td>\n",
       "      <td>MSMLPWSQIRDVSKLLLGFMLFIISIQKIASILMSWILMLRHSTIR...</td>\n",
       "    </tr>\n",
       "  </tbody>\n",
       "</table>\n",
       "</div>"
      ],
      "text/plain": [
       "           n       rev                                                seq\n",
       "ac                                                                       \n",
       "Q06179  2628  Reviewed  MMFPINVLLYKWLIFAVTFLWSCKILLRKLLGINITWINLFKLEIC...\n",
       "P33892  2672  Reviewed  MTAILNWEDISPVLEKGTRESHVSKRVPFLQDISQLVRQETLEKPQ...\n",
       "Q12680  2145  Reviewed  MPVLKSDNFDPLEEAYEGGTIQNYNDEHHLHKSWANVIPDKRGLYD...\n",
       "P32874  2273  Reviewed  KGKTITHGQSWGARRIHSHFYITIFTITCIRIGQYKLALYLDPYRF...\n",
       "P19158  3079  Reviewed  MSQPTKNKKKEHGTDSKSSRMTRTLVNHILFERILPILPVESNLST...\n",
       "P39526  2014  Reviewed  MANRSLKKVIETSSNNGHDLLTWITTNLEKLICLKEVNDNEIQEVK...\n",
       "P18963  3092  Reviewed  MNQSDPQDKKNFPMEYSLTKHLFFDRLLLVLPIESNLKTYADVEAD...\n",
       "Q12019  4910  Reviewed  MSQDRILLDLDVVNQRLILFNSAFPSDAIEAPFHFSNKESTSENLD...\n",
       "P25655  2108  Reviewed  MLSATYRDLNTASNLETSKEKQAAQIVIAQISLLFTTLNNDNFESV...\n",
       "P33334  2413  Reviewed  MSGLPPPPPGFEEDSDLALPPPPPPPPGYEIEELDNPMVPSSVNED...\n",
       "Q00416  2231  Reviewed  MNSNNPDNNNSNNINNNNKDKDIAPNSDVQLATVYTKAKSYIPQIE...\n",
       "P48415  2195  Reviewed  MTPEAKKRKNQKKKLKQKQKKAAEKAASHSEEPLELPESTINSSFN...\n",
       "P32600  2474  Reviewed  MNKYINKYTTPPNLLSLRQRAEGKHRTRKKLTHKSHSHDDEMSTTS...\n",
       "P38811  3744  Reviewed  MSLTEQIEQFASRFRDDDATLQSRYSTLSELYDIMELLNSPEDYHF...\n",
       "Q03280  3268  Reviewed  MVLFTRCEKARKEKLAAGYKPLVDYLIDCDTPTFLERIEAIQEWDR...\n",
       "P35169  2470  Reviewed  MEPHEEQIWKSKLLKAANNDMDMDRNVPLAPNLNVNMNMKMNASRN...\n",
       "P35194  2493  Reviewed  MAKQRQTTKSSKRYRYSSFKARIDDLKIEPARNLEKRVHDYVESSH...\n",
       "Q07878  3144  Reviewed  MLESLAANLLNRLLGSYVENFDPNQLNVGIWSGDVKLKNLKLRKDC...\n",
       "Q00955  2233  Reviewed  MSEESLFESSPQKMEYEITNYSERHTELPGHFIGLNTVDKLEESPL...\n",
       "P38111  2368  Reviewed  MESHVKYLDELILAIKDLNSGVDSKVQIKKVPTDPSSSQEYAKSLK...\n",
       "P38110  2787  Reviewed  MEDHGIVETLNFLSSTKIKERNNALDELTTILKEDPERIPTKALST...\n",
       "P39960  2167  Reviewed  MKGLLWSKNRKSSTASASSSSTSTSHKTTTASTASSSSPSSSSQTI...\n",
       "P43583  2143  Reviewed  MTANNDDDIKSPIPITNKTLSQLKRFERSPGRPSSSQGEIKRKKSR...\n",
       "P25356  2167  Reviewed  MNSIINAASKVLRLQDDVKKATIILGDILILQPINHEVEPDVENLV...\n",
       "P32639  2163  Reviewed  MTEHETKDKAKKIREIYRYDEMSNKVLKVDKRFMNTSQNPQRDAEI...\n",
       "P50077  2039  Reviewed  MQGRKRTLTEPFEPNTNPFGDNAAVMTENVEDNSETDGNRLESKPQ...\n",
       "Q12150  2958  Reviewed  MEAISQLRGVPLTHQKDFSWVFLVDWILTVVVCLTMIFYMGRIYAY...\n",
       "P08678  2026  Reviewed  MSSKPDTGSEISGPQRQEEQEQQIEQSSPTEANDRSIHDEVPKVKK...\n",
       "P21951  2222  Reviewed  MMFGKKKNNGGSSTARYSAGNKYNTLSNNYALSAQQLLNASKIDDI...\n",
       "P36022  4092  Reviewed  MCKNEARLANELIEFVAATVTGIKNSPKENEQAFIDYLHCQYLERF...\n",
       "P07149  2051  Reviewed  MDAYSTRPLTLSHGSLEHVLLVPTASFFIASQLQEQFNKILPEPTE...\n",
       "P34756  2278  Reviewed  MSSEEPHASISFPDGSHVRSSSTGTSSVNTIDATLSRPNYIKKPSL...\n",
       "Q00402  2748  Reviewed  MSHNNRHKKNNDKDSSAGQYANSIDNSLSQESVSTNGVTRMANLKA...\n",
       "P07259  2214  Reviewed  MATIAPTAPITPPMESTGDRLVTLELKDGTVLQGYSFGAEKSVAGE...\n",
       "P11075  2009  Reviewed  MSEQNSVVNAEKGDGEISSNVETASSVNPSVKPQNAIKEEAKETNG...\n",
       "P40468  2376  Reviewed  MASRFTFPPQRDQGIGFTFPPTNKAEGSSNNNQISIDIDPSGQDVL...\n",
       "Q06116  2489  Reviewed  MSMLPWSQIRDVSKLLLGFMLFIISIQKIASILMSWILMLRHSTIR..."
      ]
     },
     "execution_count": 29,
     "metadata": {},
     "output_type": "execute_result"
    }
   ],
   "source": [
    "bigs = prots[prots['n'] > 2000]\n",
    "print(len(bigs))\n",
    "bigs"
   ]
  },
  {
   "cell_type": "code",
   "execution_count": 30,
   "metadata": {
    "collapsed": false,
    "slideshow": {
     "slide_type": "slide"
    }
   },
   "outputs": [
    {
     "data": {
      "text/plain": [
       "2564.4054054054054"
      ]
     },
     "execution_count": 30,
     "metadata": {},
     "output_type": "execute_result"
    }
   ],
   "source": [
    "# Média dos comprimentos das proteínas\n",
    "# com mais de 2000 aminoácidos\n",
    "prots[prots['n'] > 2000]['n'].mean()"
   ]
  },
  {
   "cell_type": "markdown",
   "metadata": {
    "slideshow": {
     "slide_type": "slide"
    }
   },
   "source": [
    "De novo, qual a proteína maior?"
   ]
  },
  {
   "cell_type": "code",
   "execution_count": 31,
   "metadata": {
    "collapsed": false,
    "slideshow": {
     "slide_type": "-"
    }
   },
   "outputs": [
    {
     "data": {
      "text/plain": [
       "'Q12019'"
      ]
     },
     "execution_count": 31,
     "metadata": {},
     "output_type": "execute_result"
    }
   ],
   "source": [
    "prots['n'].idxmax()"
   ]
  },
  {
   "cell_type": "code",
   "execution_count": 32,
   "metadata": {
    "collapsed": false,
    "slideshow": {
     "slide_type": "slide"
    }
   },
   "outputs": [
    {
     "data": {
      "text/plain": [
       "n                                                   4910\n",
       "rev                                             Reviewed\n",
       "seq    MSQDRILLDLDVVNQRLILFNSAFPSDAIEAPFHFSNKESTSENLD...\n",
       "Name: Q12019, dtype: object"
      ]
     },
     "execution_count": 32,
     "metadata": {},
     "output_type": "execute_result"
    }
   ],
   "source": [
    "prots.loc[prots['n'].idxmax()]"
   ]
  },
  {
   "cell_type": "markdown",
   "metadata": {
    "slideshow": {
     "slide_type": "slide"
    }
   },
   "source": [
    "Para aplicar funções de _strings_ a toda uma coluna de uma só vez, usamos o atributo `.str.` sobre essa coluna (o resultado é uma Série):"
   ]
  },
  {
   "cell_type": "code",
   "execution_count": 33,
   "metadata": {
    "collapsed": false
   },
   "outputs": [
    {
     "data": {
      "text/plain": [
       "ac\n",
       "P29703        11\n",
       "P36001         5\n",
       "P08524         4\n",
       "P28003         5\n",
       "Q99341         0\n",
       "P53913         0\n",
       "P38297         5\n",
       "P39012        15\n",
       "P22146         5\n",
       "P38631        37\n",
       "P43557         1\n",
       "P53233         7\n",
       "Q12676         4\n",
       "P32614         2\n",
       "P32791        16\n",
       "P38310         7\n",
       "P18852         1\n",
       "P42837        14\n",
       "Q08967        14\n",
       "P23900        10\n",
       "Q05015         2\n",
       "P11710         7\n",
       "Q08559         1\n",
       "P36033        11\n",
       "Q12473        15\n",
       "Q12209        11\n",
       "Q12029         4\n",
       "P32805         3\n",
       "P36170         9\n",
       "P39712        20\n",
       "              ..\n",
       "A0A1S0T076     1\n",
       "A0A1S0T0A7     0\n",
       "A0A1S0T0B4     2\n",
       "A0A1S0T0A4     0\n",
       "A0A1S0T0C1     0\n",
       "A0A1S0T0A9     2\n",
       "A0A1S0T066     1\n",
       "A0A1S0T088     1\n",
       "A0A1S0T045     0\n",
       "A0A1S0T073     4\n",
       "A0A1S0T062     4\n",
       "A0A1S0SZZ3     2\n",
       "A0A1S0SZN9     0\n",
       "A0A1S0T0D1     2\n",
       "A0A1S0T0A0     2\n",
       "A0A1S0T093     3\n",
       "A0A1S0SZW7     1\n",
       "A0A1S0T0B3     0\n",
       "A0A1S0T034     2\n",
       "A0A1S0T0B0     1\n",
       "A0A1S0T059     1\n",
       "A0A1S0T0A8     0\n",
       "A0A1S0T086     6\n",
       "A0A1S0T0B6     3\n",
       "A0A1S0T065     0\n",
       "A0A1S0T058     0\n",
       "A0A1S0T090     2\n",
       "A0A1S0T072     2\n",
       "A0A1S0T069     6\n",
       "A0A1S0T004     2\n",
       "Name: seq, dtype: int64"
      ]
     },
     "execution_count": 33,
     "metadata": {},
     "output_type": "execute_result"
    }
   ],
   "source": [
    "prots['seq'].str.count('W')"
   ]
  },
  {
   "cell_type": "markdown",
   "metadata": {
    "slideshow": {
     "slide_type": "slide"
    }
   },
   "source": [
    "Com uma indexação por nome, podemos inserir uma coluna nova na `DataFrame` (no fim)."
   ]
  },
  {
   "cell_type": "code",
   "execution_count": 34,
   "metadata": {
    "collapsed": false
   },
   "outputs": [
    {
     "data": {
      "text/html": [
       "<div>\n",
       "<table border=\"1\" class=\"dataframe\">\n",
       "  <thead>\n",
       "    <tr style=\"text-align: right;\">\n",
       "      <th></th>\n",
       "      <th>n</th>\n",
       "      <th>rev</th>\n",
       "      <th>seq</th>\n",
       "      <th>W</th>\n",
       "    </tr>\n",
       "    <tr>\n",
       "      <th>ac</th>\n",
       "      <th></th>\n",
       "      <th></th>\n",
       "      <th></th>\n",
       "      <th></th>\n",
       "    </tr>\n",
       "  </thead>\n",
       "  <tbody>\n",
       "    <tr>\n",
       "      <th>P29703</th>\n",
       "      <td>316</td>\n",
       "      <td>Reviewed</td>\n",
       "      <td>MEEYDYSDVKPLPIETDLQDELCRIMYTEDYKRLMGLARALISLNE...</td>\n",
       "      <td>11</td>\n",
       "    </tr>\n",
       "    <tr>\n",
       "      <th>P36001</th>\n",
       "      <td>430</td>\n",
       "      <td>Reviewed</td>\n",
       "      <td>MDDISGRQTLPRINRLLEHVGNPQDSLSILHIAGTNGKETVSKFLT...</td>\n",
       "      <td>5</td>\n",
       "    </tr>\n",
       "    <tr>\n",
       "      <th>P08524</th>\n",
       "      <td>352</td>\n",
       "      <td>Reviewed</td>\n",
       "      <td>MASEKEIRRERFLNVFPKLVEELNASLLAYGMPKEACDWYAHSLNY...</td>\n",
       "      <td>4</td>\n",
       "    </tr>\n",
       "    <tr>\n",
       "      <th>P28003</th>\n",
       "      <td>413</td>\n",
       "      <td>Reviewed</td>\n",
       "      <td>MGLYSPESEKSQLNMNYIGKDDSQSIFRRLNQNLKASNNNNDSNKN...</td>\n",
       "      <td>5</td>\n",
       "    </tr>\n",
       "    <tr>\n",
       "      <th>Q99341</th>\n",
       "      <td>161</td>\n",
       "      <td>Reviewed</td>\n",
       "      <td>MSLYQSIVFIARNVVNSITRILHDHPTNSSLITQTYFITPNHSGKN...</td>\n",
       "      <td>0</td>\n",
       "    </tr>\n",
       "  </tbody>\n",
       "</table>\n",
       "</div>"
      ],
      "text/plain": [
       "          n       rev                                                seq   W\n",
       "ac                                                                          \n",
       "P29703  316  Reviewed  MEEYDYSDVKPLPIETDLQDELCRIMYTEDYKRLMGLARALISLNE...  11\n",
       "P36001  430  Reviewed  MDDISGRQTLPRINRLLEHVGNPQDSLSILHIAGTNGKETVSKFLT...   5\n",
       "P08524  352  Reviewed  MASEKEIRRERFLNVFPKLVEELNASLLAYGMPKEACDWYAHSLNY...   4\n",
       "P28003  413  Reviewed  MGLYSPESEKSQLNMNYIGKDDSQSIFRRLNQNLKASNNNNDSNKN...   5\n",
       "Q99341  161  Reviewed  MSLYQSIVFIARNVVNSITRILHDHPTNSSLITQTYFITPNHSGKN...   0"
      ]
     },
     "execution_count": 34,
     "metadata": {},
     "output_type": "execute_result"
    }
   ],
   "source": [
    "prots['W'] = prots['seq'].str.count('W')\n",
    "prots.head()"
   ]
  },
  {
   "cell_type": "markdown",
   "metadata": {
    "slideshow": {
     "slide_type": "slide"
    }
   },
   "source": [
    "As `DataFrame`s também têm funções descritivas, mas o facto de cada coluna ser uma Série podemos realizar muitas análises de uma forma simples."
   ]
  },
  {
   "cell_type": "code",
   "execution_count": 35,
   "metadata": {
    "collapsed": false,
    "slideshow": {
     "slide_type": "slide"
    }
   },
   "outputs": [
    {
     "name": "stdout",
     "output_type": "stream",
     "text": [
      "<class 'pandas.core.frame.DataFrame'>\n",
      "Index: 6816 entries, P29703 to A0A1S0T004\n",
      "Data columns (total 4 columns):\n",
      "n      6816 non-null int64\n",
      "rev    6816 non-null object\n",
      "seq    6816 non-null object\n",
      "W      6816 non-null int64\n",
      "dtypes: int64(2), object(2)\n",
      "memory usage: 266.2+ KB\n"
     ]
    }
   ],
   "source": [
    "prots.info()"
   ]
  },
  {
   "cell_type": "code",
   "execution_count": 36,
   "metadata": {
    "collapsed": false,
    "slideshow": {
     "slide_type": "slide"
    }
   },
   "outputs": [
    {
     "name": "stdout",
     "output_type": "stream",
     "text": [
      "Reviewed      6721\n",
      "Unreviewed      95\n",
      "Name: rev, dtype: int64\n"
     ]
    }
   ],
   "source": [
    "print(prots['rev'].value_counts())"
   ]
  },
  {
   "cell_type": "code",
   "execution_count": 37,
   "metadata": {
    "collapsed": true,
    "slideshow": {
     "slide_type": "skip"
    }
   },
   "outputs": [],
   "source": [
    "# só no IPython/Jupyter notebook\n",
    "%matplotlib inline"
   ]
  },
  {
   "cell_type": "code",
   "execution_count": 38,
   "metadata": {
    "collapsed": false,
    "slideshow": {
     "slide_type": "slide"
    }
   },
   "outputs": [
    {
     "data": {
      "image/png": "[encoded data removed]",
      "text/plain": [
       "<matplotlib.figure.Figure at 0x2b558fffeb8>"
      ]
     },
     "metadata": {},
     "output_type": "display_data"
    }
   ],
   "source": [
    "import matplotlib.pyplot as pl\n",
    "pl.ylabel('Proteins')\n",
    "pl.xlabel('Length (aa)')\n",
    "p = prots['n'].plot(kind='hist', bins=100)"
   ]
  }
 ],
 "metadata": {
  "anaconda-cloud": {},
  "celltoolbar": "Slideshow",
  "kernelspec": {
   "display_name": "Python [default]",
   "language": "python",
   "name": "python3"
  },
  "language_info": {
   "codemirror_mode": {
    "name": "ipython",
    "version": 3
   },
   "file_extension": ".py",
   "mimetype": "text/x-python",
   "name": "python",
   "nbconvert_exporter": "python",
   "pygments_lexer": "ipython3",
   "version": "3.5.2"
  }
 },
 "nbformat": 4,
 "nbformat_minor": 0
}
