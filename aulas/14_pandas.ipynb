{
 "cells": [
  {
   "cell_type": "markdown",
   "metadata": {
    "slideshow": {
     "slide_type": "slide"
    }
   },
   "source": [
    "# Python \"científico\": biblioteca _pandas_\n",
    "\n",
    "![](images/sci_python_pandas.png)"
   ]
  },
  {
   "cell_type": "markdown",
   "metadata": {
    "slideshow": {
     "slide_type": "slide"
    }
   },
   "source": [
    "_web site_: (`pandas.pydata.org`)\n",
    "\n",
    "![](images/pandas_web.png)"
   ]
  },
  {
   "cell_type": "markdown",
   "metadata": {
    "slideshow": {
     "slide_type": "slide"
    }
   },
   "source": [
    "## `Series`\n",
    "\n",
    "> `Series` is a one-dimensional **labeled** array capable of holding any data type (integers, strings, floating point numbers, Python objects, etc.). The axis labels are collectively referred to as the **index**. "
   ]
  },
  {
   "cell_type": "code",
   "execution_count": 1,
   "metadata": {
    "collapsed": true,
    "slideshow": {
     "slide_type": "slide"
    }
   },
   "outputs": [],
   "source": [
    "import pandas as pd"
   ]
  },
  {
   "cell_type": "markdown",
   "metadata": {
    "slideshow": {
     "slide_type": "slide"
    }
   },
   "source": [
    "Uma Série (_Series_) é um conjunto (ordenado) de valores, mas cada valor é associado a uma \"etiqueta\" (_label_).\n",
    "\n",
    "Ao conjunto das etiquetas dá-se o nome de \"**índice**\".\n",
    "\n",
    "Quando construímos uma Série, usando a função `Series()`, podemos indicar o índice."
   ]
  },
  {
   "cell_type": "code",
   "execution_count": 2,
   "metadata": {
    "collapsed": false,
    "slideshow": {
     "slide_type": "slide"
    }
   },
   "outputs": [
    {
     "name": "stdout",
     "output_type": "stream",
     "text": [
      "a     1.4\n",
      "b     2.2\n",
      "c     3.2\n",
      "d     6.5\n",
      "e    12.0\n",
      "dtype: float64\n"
     ]
    }
   ],
   "source": [
    "s = pd.Series([1.4,2.2,3.2,6.5,12], index=['a', 'b', 'c', 'd', 'e'])\n",
    "print s"
   ]
  },
  {
   "cell_type": "markdown",
   "metadata": {
    "slideshow": {
     "slide_type": "slide"
    }
   },
   "source": [
    "Se não indicarmos um índice, o conjunto dos inteiros sucessivos será o índice."
   ]
  },
  {
   "cell_type": "code",
   "execution_count": 3,
   "metadata": {
    "collapsed": false
   },
   "outputs": [
    {
     "name": "stdout",
     "output_type": "stream",
     "text": [
      "0     1.4\n",
      "1     2.2\n",
      "2     3.2\n",
      "3     6.5\n",
      "4    12.0\n",
      "dtype: float64\n"
     ]
    }
   ],
   "source": [
    "s = pd.Series([1.4,2.2,3.2,6.5,12])\n",
    "print s"
   ]
  },
  {
   "cell_type": "markdown",
   "metadata": {
    "slideshow": {
     "slide_type": "slide"
    }
   },
   "source": [
    "As Séries podem ser construídas a partir de um dicionário, em que as chaves são o índice."
   ]
  },
  {
   "cell_type": "code",
   "execution_count": 4,
   "metadata": {
    "collapsed": false
   },
   "outputs": [
    {
     "name": "stdout",
     "output_type": "stream",
     "text": [
      "a    0.0\n",
      "b    1.0\n",
      "c    2.0\n",
      "dtype: float64\n"
     ]
    }
   ],
   "source": [
    "d = {'a' : 0., 'b' : 1., 'c' : 2.}\n",
    "s = pd.Series(d)\n",
    "print s"
   ]
  },
  {
   "cell_type": "markdown",
   "metadata": {
    "slideshow": {
     "slide_type": "slide"
    }
   },
   "source": [
    "Podemos, mesmo neste caso, indicar um índice. Caso o índice tenha elementos para além das chaves do dicionário, haverá **valores em falta**."
   ]
  },
  {
   "cell_type": "code",
   "execution_count": 5,
   "metadata": {
    "collapsed": false
   },
   "outputs": [
    {
     "name": "stdout",
     "output_type": "stream",
     "text": [
      "b    1.0\n",
      "c    2.0\n",
      "d    NaN\n",
      "a    0.0\n",
      "dtype: float64\n"
     ]
    }
   ],
   "source": [
    "s = pd.Series({'a' : 0., 'b' : 1., 'c' : 2.}, index=['b', 'c', 'd', 'a'])\n",
    "print s"
   ]
  },
  {
   "cell_type": "markdown",
   "metadata": {
    "slideshow": {
     "slide_type": "slide"
    }
   },
   "source": [
    "O uso do marcador `NaN` para indicar **valores em falta** e a existência de muitas funções de análise que levam em conta valores em falta são uma característica muito poderosa do módulo `pandas`."
   ]
  },
  {
   "cell_type": "markdown",
   "metadata": {
    "slideshow": {
     "slide_type": "slide"
    }
   },
   "source": [
    "### Indexação e operações vetoriais"
   ]
  },
  {
   "cell_type": "markdown",
   "metadata": {},
   "source": [
    "As Séries podem ser usadas **como dicionários: as etiquetas comportam-se como chaves** e são usadas para indexar uma Série. para obter um valor (e também para modificar um valor).\n",
    "\n",
    "Tal como nos dicionários, o operador `in` **testa a existência de uma etiqueta**."
   ]
  },
  {
   "cell_type": "code",
   "execution_count": 6,
   "metadata": {
    "collapsed": false
   },
   "outputs": [
    {
     "name": "stdout",
     "output_type": "stream",
     "text": [
      "b    1.0\n",
      "c    2.0\n",
      "d    NaN\n",
      "a    0.0\n",
      "dtype: float64\n",
      "-----------\n",
      "1.0\n",
      "2.0\n",
      "\n",
      "False\n",
      "True\n"
     ]
    }
   ],
   "source": [
    "s = pd.Series(d, index=['b', 'c', 'd', 'a'])\n",
    "print s\n",
    "\n",
    "print '-----------'\n",
    "print s['b']\n",
    "print s.c # notação abreviada\n",
    "\n",
    "s['b'] = 0.5\n",
    "\n",
    "print\n",
    "\n",
    "print 'z' in s # teste de existência de um label\n",
    "print 'd' in s"
   ]
  },
  {
   "cell_type": "markdown",
   "metadata": {
    "slideshow": {
     "slide_type": "slide"
    }
   },
   "source": [
    "Mas as Séries são muito mais poderosas: elas comportam-se como _arrays_ do módulo `numpy`. Podemos usar:\n",
    "\n",
    "- indexação com inteiros\n",
    "- _slices_\n",
    "- **operações vetoriais**."
   ]
  },
  {
   "cell_type": "code",
   "execution_count": 7,
   "metadata": {
    "collapsed": false,
    "slideshow": {
     "slide_type": "slide"
    }
   },
   "outputs": [
    {
     "name": "stdout",
     "output_type": "stream",
     "text": [
      "b    1.0\n",
      "c    3.0\n",
      "d    NaN\n",
      "e    1.8\n",
      "a    0.5\n",
      "dtype: float64\n",
      "-----------\n",
      "1.0\n",
      "-----------\n",
      "b    1.0\n",
      "c    3.0\n",
      "d    NaN\n",
      "dtype: float64\n",
      "-----------\n",
      "b    1.00\n",
      "c    9.00\n",
      "d     NaN\n",
      "e    3.24\n",
      "a    0.25\n",
      "dtype: float64\n",
      "-----------\n",
      "b    1.0\n",
      "c    3.0\n",
      "e    1.8\n",
      "dtype: float64\n"
     ]
    }
   ],
   "source": [
    "s = pd.Series({'a' : 0.5, 'b' : 1.0, 'c' : 3.0, 'e': 1.8}, \n",
    "              index=['b', 'c', 'd', 'e', 'a'])\n",
    "print s\n",
    "print '-----------\\n{}'.format(s[0])\n",
    "print '-----------\\n{}'.format(s[:3])\n",
    "print '-----------\\n{}'.format(s**2)\n",
    "print '-----------\\n{}'.format(s[s > 0.75])"
   ]
  },
  {
   "cell_type": "markdown",
   "metadata": {
    "slideshow": {
     "slide_type": "slide"
    }
   },
   "source": [
    "Também muito poderoso é o facto de que, quando aplicamos operações vetoriais sobre Séries (por exemplo, na soma de duas séries), **os valores são \"alinhados\" pelos respetivos _labels_** antes da operação. Vejamos estas duas séries:"
   ]
  },
  {
   "cell_type": "code",
   "execution_count": 8,
   "metadata": {
    "collapsed": false
   },
   "outputs": [
    {
     "name": "stdout",
     "output_type": "stream",
     "text": [
      "a    0.5\n",
      "b    1.0\n",
      "c    3.0\n",
      "e    1.8\n",
      "dtype: float64\n",
      "-----------\n",
      "a    0.5\n",
      "b    1.0\n",
      "c    3.0\n",
      "f    1.8\n",
      "dtype: float64\n",
      "--Soma-----\n",
      "a    1.0\n",
      "b    2.0\n",
      "c    6.0\n",
      "e    NaN\n",
      "f    NaN\n",
      "dtype: float64\n"
     ]
    }
   ],
   "source": [
    "s1 = pd.Series({'a' : 0.5, 'b' : 1.0, 'c' : 3.0, 'e': 1.8})\n",
    "s2 = pd.Series({'a' : 0.5, 'b' : 1.0, 'c' : 3.0, 'f': 1.8})\n",
    "\n",
    "print s1\n",
    "print '-----------'\n",
    "print s2\n",
    "print '--Soma-----'\n",
    "print s1 + s2"
   ]
  },
  {
   "cell_type": "markdown",
   "metadata": {
    "slideshow": {
     "slide_type": "skip"
    }
   },
   "source": [
    "A soma das duas Séries resulta numa Série em que todas as etiquetas estão presentes (**união de conjuntos**).\n",
    "\n",
    "As que só existirem numa das Séries ou as que, numa das Séries, têm o valor `NaN`, terão o valor `NaN` no resultado final."
   ]
  },
  {
   "cell_type": "markdown",
   "metadata": {
    "slideshow": {
     "slide_type": "slide"
    }
   },
   "source": [
    "A função `.dropna()` permite eliminar os _valores em falta_."
   ]
  },
  {
   "cell_type": "code",
   "execution_count": 9,
   "metadata": {
    "collapsed": false
   },
   "outputs": [
    {
     "name": "stdout",
     "output_type": "stream",
     "text": [
      "a    1.0\n",
      "b    2.0\n",
      "c    6.0\n",
      "e    NaN\n",
      "f    NaN\n",
      "dtype: float64\n",
      "-----------\n",
      "a    1.0\n",
      "b    2.0\n",
      "c    6.0\n",
      "dtype: float64\n"
     ]
    }
   ],
   "source": [
    "s1 = pd.Series({'a' : 0.5, 'b' : 1.0, 'c' : 3.0, 'e': 1.8})\n",
    "s2 = pd.Series({'a' : 0.5, 'b' : 1.0, 'c' : 3.0, 'f': 1.8})\n",
    "s3 = s1 + s2\n",
    "print s3\n",
    "print '-----------'\n",
    "print s3.dropna()"
   ]
  },
  {
   "cell_type": "markdown",
   "metadata": {
    "slideshow": {
     "slide_type": "slide"
    }
   },
   "source": [
    "### Funções descritivas dos valores\n",
    "\n",
    "As Séries têm algumas funções de estatística descritiva de grande utilidade.\n",
    "\n",
    "Note-se que, em geral, **os valores em falta são ignorados nos cálculos**."
   ]
  },
  {
   "cell_type": "code",
   "execution_count": 10,
   "metadata": {
    "collapsed": false,
    "slideshow": {
     "slide_type": "slide"
    }
   },
   "outputs": [
    {
     "name": "stdout",
     "output_type": "stream",
     "text": [
      "a    0.5\n",
      "b    1.0\n",
      "c    3.0\n",
      "e    1.8\n",
      "dtype: float64\n",
      "-----------------\n",
      "Média:         1.575\n",
      "Desvio padrão: 1.090\n"
     ]
    }
   ],
   "source": [
    "s = pd.Series({'a' : 0.5, 'b' : 1.0, 'c' : 3.0, 'e': 1.8})\n",
    "print s\n",
    "print '-----------------'\n",
    "print 'Média:         {}'.format(s.mean())\n",
    "print 'Desvio padrão: {:5.3f}'.format(s.std())"
   ]
  },
  {
   "cell_type": "code",
   "execution_count": 11,
   "metadata": {
    "collapsed": false,
    "slideshow": {
     "slide_type": "slide"
    }
   },
   "outputs": [
    {
     "name": "stdout",
     "output_type": "stream",
     "text": [
      "count    4.000000\n",
      "mean     1.575000\n",
      "std      1.090489\n",
      "min      0.500000\n",
      "25%      0.875000\n",
      "50%      1.400000\n",
      "75%      2.100000\n",
      "max      3.000000\n",
      "dtype: float64\n"
     ]
    }
   ],
   "source": [
    "s = pd.Series({'a' : 0.5, 'b' : 1.0, 'c' : 3.0, 'e': 1.8})\n",
    "print s.describe()"
   ]
  },
  {
   "cell_type": "code",
   "execution_count": 12,
   "metadata": {
    "collapsed": false,
    "slideshow": {
     "slide_type": "slide"
    }
   },
   "outputs": [
    {
     "name": "stdout",
     "output_type": "stream",
     "text": [
      "a    0.5\n",
      "b    1.5\n",
      "c    4.5\n",
      "e    6.3\n",
      "dtype: float64\n"
     ]
    }
   ],
   "source": [
    "s = pd.Series({'a' : 0.5, 'b' : 1.0, 'c' : 3.0, 'e': 1.8})\n",
    "print s.cumsum()"
   ]
  },
  {
   "cell_type": "markdown",
   "metadata": {
    "slideshow": {
     "slide_type": "slide"
    }
   },
   "source": [
    "## `DataFrame`\n",
    "\n",
    "> `DataFrame` is a **2-dimensional labeled data structure** with columns of potentially different types. You can think of it like a spreadsheet or SQL table, or a **dict of Series objects**. It is generally the most commonly used pandas object."
   ]
  },
  {
   "cell_type": "markdown",
   "metadata": {},
   "source": [
    "Uma _DataFrame_ é um quadro bidimensional, em que cada coluna se comporta como uma Série, mas em que existe um índice comum a todas as colunas."
   ]
  },
  {
   "cell_type": "markdown",
   "metadata": {
    "slideshow": {
     "slide_type": "slide"
    }
   },
   "source": [
    "Para ilustar o uso de uma `DataFrame`, vamos ler e processar a informação da UniProt sobre a levedura _S. cerevisiae_.\n",
    "\n",
    "A `DataFrame` terá as colunas \"**ac**\", \"**rev**\", \"**n**\" e \"**sequence**\""
   ]
  },
  {
   "cell_type": "code",
   "execution_count": 13,
   "metadata": {
    "collapsed": false,
    "slideshow": {
     "slide_type": "slide"
    }
   },
   "outputs": [
    {
     "name": "stdout",
     "output_type": "stream",
     "text": [
      "Numero total de proteínas: 241\n",
      "{'ac': 'P38903', 'rev': 'Reviewed', 'seq': 'MMRGFKQRLIKKTTGSSSSSSSKKKDKEKEKEKSSTTSSTSKKPASASSSSHGTTHSSASSTGSKSTTEKGKQSGSVPSQGKHHSSSTSKTKTATTPSSSSSSSRSSSVSRSGSSSTKKTSSRKGQEQSKQSQQPSQSQKQGSSSSSAAIMNPTPVLTVTKDDKSTSGEDHAHPTLLGAVSAVPSSPISNASGTAVSSDVENGNSNNNNMNINTSNTQDANHASSQSIDIPRSSHSFERLPTPTKLNPDTDLELIKTPQRHSSSRFEPSRYTPLTKLPNFNEVSPEERIPLFIAKVDQCNTMFDFNDPSFDIQGKEIKRSTLDELIEFLVTNRFTYTNEMYAHVVNMFKINLFRPIPPPVNPVGDIYDPDEDEPVNELAWPHMQAVYEFFLRFVESPDFNHQIAKQYIDQDFILKLLELFDSEDIRERDCLKTTLHRIYGKFLSLRSFIRRSMNNIFLQFIYETEKFNGVAELLEILGSIINGFALPLKEEHKVFLVRILIPLHKVRCLSLYHPQLAYCIVQFLEKDPLLTEEVVMGLLRYWPKINSTKEIMFLNEIEDIFEVIEPLEFIKVEVPLFVQLAKCISSPHFQVAEKVLSYWNNEYFLNLCIENAEVILPIIFPALYELTSQLELDTANGEDSISDPYMLVEQAINSGSWNRAIHAMAFKALKIFLETNPVLYENCNALYLSSVKETQQRKVQREENWSKLEEYVKNLRINNDKDQYTIKNPELRNSFNTASENNTLNEENENDCDSEIQ', 'n': 757}\n"
     ]
    }
   ],
   "source": [
    "nome_ficheiro = 'uniprot_proteome_S_cerevisiae.txt'\n",
    "\n",
    "def get_prots(filename):\n",
    "    with open(filename) as big:\n",
    "        tudo = big.read()\n",
    "    todas = [p for p in tudo.split('//\\n') if len(p) != 0]\n",
    "    return todas\n",
    "\n",
    "prots = get_prots('uniprot_proteome_S_cerevisiae.txt')\n",
    "\n",
    "def process_prot(p):\n",
    "    linhas = p.split('\\n')\n",
    "    linhasid = linhas[0]\n",
    "    linhaac = linhas[1]\n",
    "    partes = linhasid.split()\n",
    "    reviewed = partes[2][0:-1]\n",
    "    naa = int(partes[3])\n",
    "    partes = linhaac.split()\n",
    "    ac = partes[1][0:-1]\n",
    "    \n",
    "    for i in range(len(linhas)-1, 0, -1):\n",
    "        if linhas[i].startswith('SQ'):\n",
    "            break\n",
    "    s = ''.join(linhas[i+1:])\n",
    "    seq = ''.join(s.split())\n",
    "    return {'ac':ac, 'rev':reviewed, 'n':naa, 'seq':seq}\n",
    "\n",
    "pinfo = [process_prot(p) for p in prots]\n",
    "print 'Numero total de proteínas: {}'.format(len(pinfo))\n",
    "print pinfo[0]"
   ]
  },
  {
   "cell_type": "markdown",
   "metadata": {
    "slideshow": {
     "slide_type": "slide"
    }
   },
   "source": [
    "Podemos construir uma `DataFrame` a partir de uma lista de dicionários. As **chaves dos dicionários serão as colunas**."
   ]
  },
  {
   "cell_type": "code",
   "execution_count": 14,
   "metadata": {
    "collapsed": false
   },
   "outputs": [
    {
     "data": {
      "text/html": [
       "<div>\n",
       "<table border=\"1\" class=\"dataframe\">\n",
       "  <thead>\n",
       "    <tr style=\"text-align: right;\">\n",
       "      <th></th>\n",
       "      <th>ac</th>\n",
       "      <th>n</th>\n",
       "      <th>rev</th>\n",
       "      <th>seq</th>\n",
       "    </tr>\n",
       "  </thead>\n",
       "  <tbody>\n",
       "    <tr>\n",
       "      <th>0</th>\n",
       "      <td>P38903</td>\n",
       "      <td>757</td>\n",
       "      <td>Reviewed</td>\n",
       "      <td>MMRGFKQRLIKKTTGSSSSSSSKKKDKEKEKEKSSTTSSTSKKPAS...</td>\n",
       "    </tr>\n",
       "    <tr>\n",
       "      <th>1</th>\n",
       "      <td>P31383</td>\n",
       "      <td>635</td>\n",
       "      <td>Reviewed</td>\n",
       "      <td>MSGARSTTAGAVPSAATTSTTSTTSNSKDSDSNESLYPLALLMDEL...</td>\n",
       "    </tr>\n",
       "    <tr>\n",
       "      <th>2</th>\n",
       "      <td>Q00362</td>\n",
       "      <td>526</td>\n",
       "      <td>Reviewed</td>\n",
       "      <td>MAQNNFDFKFSQCFGDKADIVVTEADLITAVEFDYTGNYLATGDKG...</td>\n",
       "    </tr>\n",
       "    <tr>\n",
       "      <th>3</th>\n",
       "      <td>P47177</td>\n",
       "      <td>404</td>\n",
       "      <td>Reviewed</td>\n",
       "      <td>MYFLNQLIFQDVSVMSVDKREDMSRSFQKCLNLRYPIIQAPMAGVT...</td>\n",
       "    </tr>\n",
       "    <tr>\n",
       "      <th>4</th>\n",
       "      <td>P47096</td>\n",
       "      <td>177</td>\n",
       "      <td>Reviewed</td>\n",
       "      <td>MFNTTPINIDKWLKENEGLLKPPVNNYCLHKGGFTVMIVGGPNERT...</td>\n",
       "    </tr>\n",
       "    <tr>\n",
       "      <th>5</th>\n",
       "      <td>P40433</td>\n",
       "      <td>827</td>\n",
       "      <td>Reviewed</td>\n",
       "      <td>MFKPVDFSETSPVPPDIDLAPTQSPHHVAPSQDSSYDLLSRSSDDK...</td>\n",
       "    </tr>\n",
       "    <tr>\n",
       "      <th>6</th>\n",
       "      <td>Q12471</td>\n",
       "      <td>397</td>\n",
       "      <td>Reviewed</td>\n",
       "      <td>MGGSSDSDSHDGYLTSEYNSSNSLFSLNTGNSYSSASLDRATLDCQ...</td>\n",
       "    </tr>\n",
       "    <tr>\n",
       "      <th>7</th>\n",
       "      <td>P38720</td>\n",
       "      <td>489</td>\n",
       "      <td>Reviewed</td>\n",
       "      <td>MSADFGLIGLAVMGQNLILNAADHGFTVCAYNRTQSKVDHFLANEA...</td>\n",
       "    </tr>\n",
       "    <tr>\n",
       "      <th>8</th>\n",
       "      <td>P53319</td>\n",
       "      <td>492</td>\n",
       "      <td>Reviewed</td>\n",
       "      <td>MSKAVGDLGLVGLAVMGQNLILNAADHGFTVVAYNRTQSKVDRFLA...</td>\n",
       "    </tr>\n",
       "    <tr>\n",
       "      <th>9</th>\n",
       "      <td>P47182</td>\n",
       "      <td>288</td>\n",
       "      <td>Reviewed</td>\n",
       "      <td>MASRKLRDQIVIATKFTTDYKGYDVGKGKSANFCGNHKRSLHVSVR...</td>\n",
       "    </tr>\n",
       "    <tr>\n",
       "      <th>10</th>\n",
       "      <td>Q08361</td>\n",
       "      <td>143</td>\n",
       "      <td>Reviewed</td>\n",
       "      <td>MARHFGMALAPWDVMGGGRFQSKKAMEERRKNGECIRSFVGASEQT...</td>\n",
       "    </tr>\n",
       "    <tr>\n",
       "      <th>11</th>\n",
       "      <td>P42884</td>\n",
       "      <td>376</td>\n",
       "      <td>Reviewed</td>\n",
       "      <td>MTDLFKPLPEPPTELGRLRVLSKTAGIRVSPLILGGASIGDAWSGF...</td>\n",
       "    </tr>\n",
       "    <tr>\n",
       "      <th>12</th>\n",
       "      <td>P43546</td>\n",
       "      <td>152</td>\n",
       "      <td>Reviewed</td>\n",
       "      <td>MARHFGMALAPWDVMGGGRFQSKKAMEERRKNGEGIRSFVGASEQT...</td>\n",
       "    </tr>\n",
       "    <tr>\n",
       "      <th>13</th>\n",
       "      <td>P25612</td>\n",
       "      <td>363</td>\n",
       "      <td>Reviewed</td>\n",
       "      <td>MIGSASDSSSKLGRLRFLSETAAIKVSPLILGEVSYDGARSDFLKS...</td>\n",
       "    </tr>\n",
       "    <tr>\n",
       "      <th>14</th>\n",
       "      <td>Q07747</td>\n",
       "      <td>329</td>\n",
       "      <td>Reviewed</td>\n",
       "      <td>MGSMNKEQAFELLDAFYEAGGNCIDTANSYQNEESEIWIGEWMKSR...</td>\n",
       "    </tr>\n",
       "    <tr>\n",
       "      <th>15</th>\n",
       "      <td>P43547</td>\n",
       "      <td>212</td>\n",
       "      <td>Reviewed</td>\n",
       "      <td>MADLFAPAPEPSTELGRLRVLSKSAGIRVSPLILGGMSIGDAWSEI...</td>\n",
       "    </tr>\n",
       "    <tr>\n",
       "      <th>16</th>\n",
       "      <td>P12904</td>\n",
       "      <td>322</td>\n",
       "      <td>Reviewed</td>\n",
       "      <td>MKPTQDSQEKVSIEQQLAVESIRKFLNSKTSYDVLPVSYRLIVLDT...</td>\n",
       "    </tr>\n",
       "    <tr>\n",
       "      <th>17</th>\n",
       "      <td>P37898</td>\n",
       "      <td>856</td>\n",
       "      <td>Reviewed</td>\n",
       "      <td>MSREVLPNNVTPLHYDITLEPNFRAFTFEGSLKIDLQINDHSINSV...</td>\n",
       "    </tr>\n",
       "    <tr>\n",
       "      <th>18</th>\n",
       "      <td>P08521</td>\n",
       "      <td>25</td>\n",
       "      <td>Reviewed</td>\n",
       "      <td>MFSLSNSQYTCQDYISDHIWKTSSH</td>\n",
       "    </tr>\n",
       "    <tr>\n",
       "      <th>19</th>\n",
       "      <td>P32357</td>\n",
       "      <td>355</td>\n",
       "      <td>Reviewed</td>\n",
       "      <td>MNTVPFTSAPIEVTIGIDQYSFNVKENQPFHGIKDIPIGHVHVIHF...</td>\n",
       "    </tr>\n",
       "    <tr>\n",
       "      <th>20</th>\n",
       "      <td>P23542</td>\n",
       "      <td>418</td>\n",
       "      <td>Reviewed</td>\n",
       "      <td>MSATLFNNIELLPPDALFGIKQRYGQDQRATKVDLGIGAYRDDNGK...</td>\n",
       "    </tr>\n",
       "    <tr>\n",
       "      <th>21</th>\n",
       "      <td>Q01802</td>\n",
       "      <td>451</td>\n",
       "      <td>Reviewed</td>\n",
       "      <td>MLRTRLTNCSLWRPYYTSSLSRVPRAPPDKVLGLSEHFKKVKNVNK...</td>\n",
       "    </tr>\n",
       "    <tr>\n",
       "      <th>22</th>\n",
       "      <td>Q08641</td>\n",
       "      <td>628</td>\n",
       "      <td>Reviewed</td>\n",
       "      <td>MGVADLIKKFESISKEEGDATVDTNSSSKPLKSNDETKELHQQEST...</td>\n",
       "    </tr>\n",
       "    <tr>\n",
       "      <th>23</th>\n",
       "      <td>Q02486</td>\n",
       "      <td>183</td>\n",
       "      <td>Reviewed</td>\n",
       "      <td>MNSYSLLTRSFHESSKPLFNLASTLLKASKRTQLRNELIKQGPKRP...</td>\n",
       "    </tr>\n",
       "    <tr>\n",
       "      <th>24</th>\n",
       "      <td>P14164</td>\n",
       "      <td>731</td>\n",
       "      <td>Reviewed</td>\n",
       "      <td>MDKLVVNYYEYKHPIINKDLAIGAHGGKKFPTLGAWYDVINEYEFQ...</td>\n",
       "    </tr>\n",
       "    <tr>\n",
       "      <th>25</th>\n",
       "      <td>P47146</td>\n",
       "      <td>123</td>\n",
       "      <td>Reviewed</td>\n",
       "      <td>MSWRYSILTVDGSFKIFIPWEIFLTWNFLSAAWLNSTESNTYIHYS...</td>\n",
       "    </tr>\n",
       "    <tr>\n",
       "      <th>26</th>\n",
       "      <td>P15891</td>\n",
       "      <td>592</td>\n",
       "      <td>Reviewed</td>\n",
       "      <td>MALEPIDYTTHSREIDAEYLKIVRGSDPDTTWLIISPNAKKEYEPE...</td>\n",
       "    </tr>\n",
       "    <tr>\n",
       "      <th>27</th>\n",
       "      <td>P39970</td>\n",
       "      <td>489</td>\n",
       "      <td>Reviewed</td>\n",
       "      <td>MDYKHNFATSPDSFLDGRQNPLLYTDFLSSNKELIYKQPSGPGLVD...</td>\n",
       "    </tr>\n",
       "    <tr>\n",
       "      <th>28</th>\n",
       "      <td>P40535</td>\n",
       "      <td>587</td>\n",
       "      <td>Reviewed</td>\n",
       "      <td>MFTGQEYHSVDSNSNKQKDNNKRGIDDTSKILNNKIPHSVSDTSAA...</td>\n",
       "    </tr>\n",
       "    <tr>\n",
       "      <th>29</th>\n",
       "      <td>Q00955</td>\n",
       "      <td>2233</td>\n",
       "      <td>Reviewed</td>\n",
       "      <td>MSEESLFESSPQKMEYEITNYSERHTELPGHFIGLNTVDKLEESPL...</td>\n",
       "    </tr>\n",
       "    <tr>\n",
       "      <th>...</th>\n",
       "      <td>...</td>\n",
       "      <td>...</td>\n",
       "      <td>...</td>\n",
       "      <td>...</td>\n",
       "    </tr>\n",
       "    <tr>\n",
       "      <th>211</th>\n",
       "      <td>P47117</td>\n",
       "      <td>449</td>\n",
       "      <td>Reviewed</td>\n",
       "      <td>MSYLNNPAVVMDNGTGLTKLGFAGNDSPSWVFPTAIATAAPSNTKK...</td>\n",
       "    </tr>\n",
       "    <tr>\n",
       "      <th>212</th>\n",
       "      <td>P80428</td>\n",
       "      <td>489</td>\n",
       "      <td>Reviewed</td>\n",
       "      <td>MSNAALQVYGGDEVSAVVIDPGSYTTNIGYSGSDFPQSILPSVYGK...</td>\n",
       "    </tr>\n",
       "    <tr>\n",
       "      <th>213</th>\n",
       "      <td>Q12509</td>\n",
       "      <td>438</td>\n",
       "      <td>Reviewed</td>\n",
       "      <td>METPPIVIDNGSYEIKFGPSTNKKPFRALNALAKDKFGTSYLSNHI...</td>\n",
       "    </tr>\n",
       "    <tr>\n",
       "      <th>214</th>\n",
       "      <td>P53946</td>\n",
       "      <td>755</td>\n",
       "      <td>Reviewed</td>\n",
       "      <td>MSSRDASLTPLKAVVIDDPPLRQTPEPFDEQSAYNPQSPIAIDFGS...</td>\n",
       "    </tr>\n",
       "    <tr>\n",
       "      <th>215</th>\n",
       "      <td>Q12406</td>\n",
       "      <td>477</td>\n",
       "      <td>Reviewed</td>\n",
       "      <td>MTLNRKCVVIHNGSHRTVAGFSNVELPQCIIPSSYIKRTDEGGEAE...</td>\n",
       "    </tr>\n",
       "    <tr>\n",
       "      <th>216</th>\n",
       "      <td>Q12386</td>\n",
       "      <td>881</td>\n",
       "      <td>Reviewed</td>\n",
       "      <td>MSQEEAESSIIYEEPIDIPLEDDDDEDELEEENSVPLSSQADQENA...</td>\n",
       "    </tr>\n",
       "    <tr>\n",
       "      <th>217</th>\n",
       "      <td>Q05123</td>\n",
       "      <td>467</td>\n",
       "      <td>Reviewed</td>\n",
       "      <td>MAPFRQDSILIIYPRSQTTLVQFGLNEETFTVPELEIPTQIYRTTR...</td>\n",
       "    </tr>\n",
       "    <tr>\n",
       "      <th>218</th>\n",
       "      <td>P38328</td>\n",
       "      <td>384</td>\n",
       "      <td>Reviewed</td>\n",
       "      <td>MSFSNSKDKSVVAVYKLVKAPIYSHCFSQDKSILAVTCETDCLVYR...</td>\n",
       "    </tr>\n",
       "    <tr>\n",
       "      <th>219</th>\n",
       "      <td>P53731</td>\n",
       "      <td>342</td>\n",
       "      <td>Reviewed</td>\n",
       "      <td>MLHLQPQNLLIQKTLNEAIEALRKGSPLTMDRIVSDFDYTTYHISN...</td>\n",
       "    </tr>\n",
       "    <tr>\n",
       "      <th>220</th>\n",
       "      <td>Q05933</td>\n",
       "      <td>178</td>\n",
       "      <td>Reviewed</td>\n",
       "      <td>MPAYHSTFPVDPNTDRMVGNFALLPLNTKFRGPAYPSNSDYDIIDE...</td>\n",
       "    </tr>\n",
       "    <tr>\n",
       "      <th>221</th>\n",
       "      <td>P33204</td>\n",
       "      <td>171</td>\n",
       "      <td>Reviewed</td>\n",
       "      <td>MSQSLRPYLTAVRYSLEAALTLSNFSSQEVERHNRPEVEVPNTSAE...</td>\n",
       "    </tr>\n",
       "    <tr>\n",
       "      <th>222</th>\n",
       "      <td>P40518</td>\n",
       "      <td>154</td>\n",
       "      <td>Reviewed</td>\n",
       "      <td>MEADWRRIDIDAFDPESGRLTAADLVPPYETTVTLQELQPRMNQLR...</td>\n",
       "    </tr>\n",
       "    <tr>\n",
       "      <th>223</th>\n",
       "      <td>Q06597</td>\n",
       "      <td>130</td>\n",
       "      <td>Reviewed</td>\n",
       "      <td>MVSFITSRQLKGLIENQRKDFQVVDLRREDFARDHITNAWHVPVTA...</td>\n",
       "    </tr>\n",
       "    <tr>\n",
       "      <th>224</th>\n",
       "      <td>Q06598</td>\n",
       "      <td>404</td>\n",
       "      <td>Reviewed</td>\n",
       "      <td>MSEDQKSENSVPSKVNMVNRTDILTTIKSLSWLDLMLPFTIILSII...</td>\n",
       "    </tr>\n",
       "    <tr>\n",
       "      <th>225</th>\n",
       "      <td>P18634</td>\n",
       "      <td>518</td>\n",
       "      <td>Reviewed</td>\n",
       "      <td>MAPKISISLNPPYNGEFYSSNDQMSGIVSLQLTKALSIRKISVILK...</td>\n",
       "    </tr>\n",
       "    <tr>\n",
       "      <th>226</th>\n",
       "      <td>Q8TGM7</td>\n",
       "      <td>61</td>\n",
       "      <td>Reviewed</td>\n",
       "      <td>MVCIHTENQNQGGFYPFVLLEISVLHEPPLGHLRYRLTDVPPQPNS...</td>\n",
       "    </tr>\n",
       "    <tr>\n",
       "      <th>227</th>\n",
       "      <td>Q8TGM5</td>\n",
       "      <td>67</td>\n",
       "      <td>Reviewed</td>\n",
       "      <td>MPPGIPRGAMCVQRFDDSRNSAIHITYRISLRSSSMREPRDPLLKV...</td>\n",
       "    </tr>\n",
       "    <tr>\n",
       "      <th>228</th>\n",
       "      <td>P53244</td>\n",
       "      <td>586</td>\n",
       "      <td>Reviewed</td>\n",
       "      <td>MFSLSSLSSSGGHSEQKERERISYFDIRINSPYKDIILIQGSPLEL...</td>\n",
       "    </tr>\n",
       "    <tr>\n",
       "      <th>229</th>\n",
       "      <td>Q06541</td>\n",
       "      <td>321</td>\n",
       "      <td>Reviewed</td>\n",
       "      <td>MICITCMRPVDSLYTVYSNDHIQLTDCPYCQETVDKYVEIDNVLLF...</td>\n",
       "    </tr>\n",
       "    <tr>\n",
       "      <th>230</th>\n",
       "      <td>Q03862</td>\n",
       "      <td>593</td>\n",
       "      <td>Reviewed</td>\n",
       "      <td>MALAISHEDTQILLKDKNILQESVLNKYRTAGQIAQTALKYVTSLI...</td>\n",
       "    </tr>\n",
       "    <tr>\n",
       "      <th>231</th>\n",
       "      <td>Q06822</td>\n",
       "      <td>443</td>\n",
       "      <td>Reviewed</td>\n",
       "      <td>MRGFSNEIILKRTLTLSDFTLRYHKRGITALQVIKAPSVSNVPVLL...</td>\n",
       "    </tr>\n",
       "    <tr>\n",
       "      <th>232</th>\n",
       "      <td>P50275</td>\n",
       "      <td>885</td>\n",
       "      <td>Reviewed</td>\n",
       "      <td>METATSSPLPIKSRRNSENSGSTTVIPHMNPSLATPLTVSTMVNQS...</td>\n",
       "    </tr>\n",
       "    <tr>\n",
       "      <th>233</th>\n",
       "      <td>P32447</td>\n",
       "      <td>279</td>\n",
       "      <td>Reviewed</td>\n",
       "      <td>MSIVSLLGIKVLNNPAKFTDPYEFEITFECLESLKHDLEWKLTYVG...</td>\n",
       "    </tr>\n",
       "    <tr>\n",
       "      <th>234</th>\n",
       "      <td>P46993</td>\n",
       "      <td>209</td>\n",
       "      <td>Reviewed</td>\n",
       "      <td>MTTLASSIEHKTKHLAAPFENDENPWMKKYCCQCKSCKMSVPVQPW...</td>\n",
       "    </tr>\n",
       "    <tr>\n",
       "      <th>235</th>\n",
       "      <td>P40467</td>\n",
       "      <td>964</td>\n",
       "      <td>Reviewed</td>\n",
       "      <td>MPEQAQQGEQSVKRRRVTRACDECRKKKVKCDGQQPCIHCTVYSYE...</td>\n",
       "    </tr>\n",
       "    <tr>\n",
       "      <th>236</th>\n",
       "      <td>P32448</td>\n",
       "      <td>525</td>\n",
       "      <td>Reviewed</td>\n",
       "      <td>MPKNRGVLDAITRSVIDGSDQESSSSFNSDKEYAAVTKGLSSSRVQ...</td>\n",
       "    </tr>\n",
       "    <tr>\n",
       "      <th>237</th>\n",
       "      <td>P34233</td>\n",
       "      <td>588</td>\n",
       "      <td>Reviewed</td>\n",
       "      <td>MSSLYIKTPLHALSAGPDSHANSSYYDNLLLPSFSNLSSNISRNNI...</td>\n",
       "    </tr>\n",
       "    <tr>\n",
       "      <th>238</th>\n",
       "      <td>P53895</td>\n",
       "      <td>289</td>\n",
       "      <td>Reviewed</td>\n",
       "      <td>MARPQNHRRSNWTERDDNDDYLFQRFLEESETRHSREPSPVTEQSQ...</td>\n",
       "    </tr>\n",
       "    <tr>\n",
       "      <th>239</th>\n",
       "      <td>A0A0B7P221</td>\n",
       "      <td>28</td>\n",
       "      <td>Unreviewed</td>\n",
       "      <td>MIRQKIFVFIVKSRRNSICPAIRRKEDY</td>\n",
       "    </tr>\n",
       "    <tr>\n",
       "      <th>240</th>\n",
       "      <td>A0A0B7P1T6</td>\n",
       "      <td>108</td>\n",
       "      <td>Unreviewed</td>\n",
       "      <td>MKEVTKMLYCALLVTKVIYQMKGKSQPKRERKKQNYWVLKSLWKRP...</td>\n",
       "    </tr>\n",
       "  </tbody>\n",
       "</table>\n",
       "<p>241 rows × 4 columns</p>\n",
       "</div>"
      ],
      "text/plain": [
       "             ac     n         rev  \\\n",
       "0        P38903   757    Reviewed   \n",
       "1        P31383   635    Reviewed   \n",
       "2        Q00362   526    Reviewed   \n",
       "3        P47177   404    Reviewed   \n",
       "4        P47096   177    Reviewed   \n",
       "5        P40433   827    Reviewed   \n",
       "6        Q12471   397    Reviewed   \n",
       "7        P38720   489    Reviewed   \n",
       "8        P53319   492    Reviewed   \n",
       "9        P47182   288    Reviewed   \n",
       "10       Q08361   143    Reviewed   \n",
       "11       P42884   376    Reviewed   \n",
       "12       P43546   152    Reviewed   \n",
       "13       P25612   363    Reviewed   \n",
       "14       Q07747   329    Reviewed   \n",
       "15       P43547   212    Reviewed   \n",
       "16       P12904   322    Reviewed   \n",
       "17       P37898   856    Reviewed   \n",
       "18       P08521    25    Reviewed   \n",
       "19       P32357   355    Reviewed   \n",
       "20       P23542   418    Reviewed   \n",
       "21       Q01802   451    Reviewed   \n",
       "22       Q08641   628    Reviewed   \n",
       "23       Q02486   183    Reviewed   \n",
       "24       P14164   731    Reviewed   \n",
       "25       P47146   123    Reviewed   \n",
       "26       P15891   592    Reviewed   \n",
       "27       P39970   489    Reviewed   \n",
       "28       P40535   587    Reviewed   \n",
       "29       Q00955  2233    Reviewed   \n",
       "..          ...   ...         ...   \n",
       "211      P47117   449    Reviewed   \n",
       "212      P80428   489    Reviewed   \n",
       "213      Q12509   438    Reviewed   \n",
       "214      P53946   755    Reviewed   \n",
       "215      Q12406   477    Reviewed   \n",
       "216      Q12386   881    Reviewed   \n",
       "217      Q05123   467    Reviewed   \n",
       "218      P38328   384    Reviewed   \n",
       "219      P53731   342    Reviewed   \n",
       "220      Q05933   178    Reviewed   \n",
       "221      P33204   171    Reviewed   \n",
       "222      P40518   154    Reviewed   \n",
       "223      Q06597   130    Reviewed   \n",
       "224      Q06598   404    Reviewed   \n",
       "225      P18634   518    Reviewed   \n",
       "226      Q8TGM7    61    Reviewed   \n",
       "227      Q8TGM5    67    Reviewed   \n",
       "228      P53244   586    Reviewed   \n",
       "229      Q06541   321    Reviewed   \n",
       "230      Q03862   593    Reviewed   \n",
       "231      Q06822   443    Reviewed   \n",
       "232      P50275   885    Reviewed   \n",
       "233      P32447   279    Reviewed   \n",
       "234      P46993   209    Reviewed   \n",
       "235      P40467   964    Reviewed   \n",
       "236      P32448   525    Reviewed   \n",
       "237      P34233   588    Reviewed   \n",
       "238      P53895   289    Reviewed   \n",
       "239  A0A0B7P221    28  Unreviewed   \n",
       "240  A0A0B7P1T6   108  Unreviewed   \n",
       "\n",
       "                                                   seq  \n",
       "0    MMRGFKQRLIKKTTGSSSSSSSKKKDKEKEKEKSSTTSSTSKKPAS...  \n",
       "1    MSGARSTTAGAVPSAATTSTTSTTSNSKDSDSNESLYPLALLMDEL...  \n",
       "2    MAQNNFDFKFSQCFGDKADIVVTEADLITAVEFDYTGNYLATGDKG...  \n",
       "3    MYFLNQLIFQDVSVMSVDKREDMSRSFQKCLNLRYPIIQAPMAGVT...  \n",
       "4    MFNTTPINIDKWLKENEGLLKPPVNNYCLHKGGFTVMIVGGPNERT...  \n",
       "5    MFKPVDFSETSPVPPDIDLAPTQSPHHVAPSQDSSYDLLSRSSDDK...  \n",
       "6    MGGSSDSDSHDGYLTSEYNSSNSLFSLNTGNSYSSASLDRATLDCQ...  \n",
       "7    MSADFGLIGLAVMGQNLILNAADHGFTVCAYNRTQSKVDHFLANEA...  \n",
       "8    MSKAVGDLGLVGLAVMGQNLILNAADHGFTVVAYNRTQSKVDRFLA...  \n",
       "9    MASRKLRDQIVIATKFTTDYKGYDVGKGKSANFCGNHKRSLHVSVR...  \n",
       "10   MARHFGMALAPWDVMGGGRFQSKKAMEERRKNGECIRSFVGASEQT...  \n",
       "11   MTDLFKPLPEPPTELGRLRVLSKTAGIRVSPLILGGASIGDAWSGF...  \n",
       "12   MARHFGMALAPWDVMGGGRFQSKKAMEERRKNGEGIRSFVGASEQT...  \n",
       "13   MIGSASDSSSKLGRLRFLSETAAIKVSPLILGEVSYDGARSDFLKS...  \n",
       "14   MGSMNKEQAFELLDAFYEAGGNCIDTANSYQNEESEIWIGEWMKSR...  \n",
       "15   MADLFAPAPEPSTELGRLRVLSKSAGIRVSPLILGGMSIGDAWSEI...  \n",
       "16   MKPTQDSQEKVSIEQQLAVESIRKFLNSKTSYDVLPVSYRLIVLDT...  \n",
       "17   MSREVLPNNVTPLHYDITLEPNFRAFTFEGSLKIDLQINDHSINSV...  \n",
       "18                           MFSLSNSQYTCQDYISDHIWKTSSH  \n",
       "19   MNTVPFTSAPIEVTIGIDQYSFNVKENQPFHGIKDIPIGHVHVIHF...  \n",
       "20   MSATLFNNIELLPPDALFGIKQRYGQDQRATKVDLGIGAYRDDNGK...  \n",
       "21   MLRTRLTNCSLWRPYYTSSLSRVPRAPPDKVLGLSEHFKKVKNVNK...  \n",
       "22   MGVADLIKKFESISKEEGDATVDTNSSSKPLKSNDETKELHQQEST...  \n",
       "23   MNSYSLLTRSFHESSKPLFNLASTLLKASKRTQLRNELIKQGPKRP...  \n",
       "24   MDKLVVNYYEYKHPIINKDLAIGAHGGKKFPTLGAWYDVINEYEFQ...  \n",
       "25   MSWRYSILTVDGSFKIFIPWEIFLTWNFLSAAWLNSTESNTYIHYS...  \n",
       "26   MALEPIDYTTHSREIDAEYLKIVRGSDPDTTWLIISPNAKKEYEPE...  \n",
       "27   MDYKHNFATSPDSFLDGRQNPLLYTDFLSSNKELIYKQPSGPGLVD...  \n",
       "28   MFTGQEYHSVDSNSNKQKDNNKRGIDDTSKILNNKIPHSVSDTSAA...  \n",
       "29   MSEESLFESSPQKMEYEITNYSERHTELPGHFIGLNTVDKLEESPL...  \n",
       "..                                                 ...  \n",
       "211  MSYLNNPAVVMDNGTGLTKLGFAGNDSPSWVFPTAIATAAPSNTKK...  \n",
       "212  MSNAALQVYGGDEVSAVVIDPGSYTTNIGYSGSDFPQSILPSVYGK...  \n",
       "213  METPPIVIDNGSYEIKFGPSTNKKPFRALNALAKDKFGTSYLSNHI...  \n",
       "214  MSSRDASLTPLKAVVIDDPPLRQTPEPFDEQSAYNPQSPIAIDFGS...  \n",
       "215  MTLNRKCVVIHNGSHRTVAGFSNVELPQCIIPSSYIKRTDEGGEAE...  \n",
       "216  MSQEEAESSIIYEEPIDIPLEDDDDEDELEEENSVPLSSQADQENA...  \n",
       "217  MAPFRQDSILIIYPRSQTTLVQFGLNEETFTVPELEIPTQIYRTTR...  \n",
       "218  MSFSNSKDKSVVAVYKLVKAPIYSHCFSQDKSILAVTCETDCLVYR...  \n",
       "219  MLHLQPQNLLIQKTLNEAIEALRKGSPLTMDRIVSDFDYTTYHISN...  \n",
       "220  MPAYHSTFPVDPNTDRMVGNFALLPLNTKFRGPAYPSNSDYDIIDE...  \n",
       "221  MSQSLRPYLTAVRYSLEAALTLSNFSSQEVERHNRPEVEVPNTSAE...  \n",
       "222  MEADWRRIDIDAFDPESGRLTAADLVPPYETTVTLQELQPRMNQLR...  \n",
       "223  MVSFITSRQLKGLIENQRKDFQVVDLRREDFARDHITNAWHVPVTA...  \n",
       "224  MSEDQKSENSVPSKVNMVNRTDILTTIKSLSWLDLMLPFTIILSII...  \n",
       "225  MAPKISISLNPPYNGEFYSSNDQMSGIVSLQLTKALSIRKISVILK...  \n",
       "226  MVCIHTENQNQGGFYPFVLLEISVLHEPPLGHLRYRLTDVPPQPNS...  \n",
       "227  MPPGIPRGAMCVQRFDDSRNSAIHITYRISLRSSSMREPRDPLLKV...  \n",
       "228  MFSLSSLSSSGGHSEQKERERISYFDIRINSPYKDIILIQGSPLEL...  \n",
       "229  MICITCMRPVDSLYTVYSNDHIQLTDCPYCQETVDKYVEIDNVLLF...  \n",
       "230  MALAISHEDTQILLKDKNILQESVLNKYRTAGQIAQTALKYVTSLI...  \n",
       "231  MRGFSNEIILKRTLTLSDFTLRYHKRGITALQVIKAPSVSNVPVLL...  \n",
       "232  METATSSPLPIKSRRNSENSGSTTVIPHMNPSLATPLTVSTMVNQS...  \n",
       "233  MSIVSLLGIKVLNNPAKFTDPYEFEITFECLESLKHDLEWKLTYVG...  \n",
       "234  MTTLASSIEHKTKHLAAPFENDENPWMKKYCCQCKSCKMSVPVQPW...  \n",
       "235  MPEQAQQGEQSVKRRRVTRACDECRKKKVKCDGQQPCIHCTVYSYE...  \n",
       "236  MPKNRGVLDAITRSVIDGSDQESSSSFNSDKEYAAVTKGLSSSRVQ...  \n",
       "237  MSSLYIKTPLHALSAGPDSHANSSYYDNLLLPSFSNLSSNISRNNI...  \n",
       "238  MARPQNHRRSNWTERDDNDDYLFQRFLEESETRHSREPSPVTEQSQ...  \n",
       "239                       MIRQKIFVFIVKSRRNSICPAIRRKEDY  \n",
       "240  MKEVTKMLYCALLVTKVIYQMKGKSQPKRERKKQNYWVLKSLWKRP...  \n",
       "\n",
       "[241 rows x 4 columns]"
      ]
     },
     "execution_count": 14,
     "metadata": {},
     "output_type": "execute_result"
    }
   ],
   "source": [
    "prots = pd.DataFrame(pinfo)\n",
    "prots"
   ]
  },
  {
   "cell_type": "markdown",
   "metadata": {
    "slideshow": {
     "slide_type": "slide"
    }
   },
   "source": [
    "Podemos mudar o índice para uma das colunas."
   ]
  },
  {
   "cell_type": "code",
   "execution_count": 15,
   "metadata": {
    "collapsed": false
   },
   "outputs": [
    {
     "data": {
      "text/html": [
       "<div>\n",
       "<table border=\"1\" class=\"dataframe\">\n",
       "  <thead>\n",
       "    <tr style=\"text-align: right;\">\n",
       "      <th></th>\n",
       "      <th>n</th>\n",
       "      <th>rev</th>\n",
       "      <th>seq</th>\n",
       "    </tr>\n",
       "    <tr>\n",
       "      <th>ac</th>\n",
       "      <th></th>\n",
       "      <th></th>\n",
       "      <th></th>\n",
       "    </tr>\n",
       "  </thead>\n",
       "  <tbody>\n",
       "    <tr>\n",
       "      <th>P38903</th>\n",
       "      <td>757</td>\n",
       "      <td>Reviewed</td>\n",
       "      <td>MMRGFKQRLIKKTTGSSSSSSSKKKDKEKEKEKSSTTSSTSKKPAS...</td>\n",
       "    </tr>\n",
       "    <tr>\n",
       "      <th>P31383</th>\n",
       "      <td>635</td>\n",
       "      <td>Reviewed</td>\n",
       "      <td>MSGARSTTAGAVPSAATTSTTSTTSNSKDSDSNESLYPLALLMDEL...</td>\n",
       "    </tr>\n",
       "    <tr>\n",
       "      <th>Q00362</th>\n",
       "      <td>526</td>\n",
       "      <td>Reviewed</td>\n",
       "      <td>MAQNNFDFKFSQCFGDKADIVVTEADLITAVEFDYTGNYLATGDKG...</td>\n",
       "    </tr>\n",
       "    <tr>\n",
       "      <th>P47177</th>\n",
       "      <td>404</td>\n",
       "      <td>Reviewed</td>\n",
       "      <td>MYFLNQLIFQDVSVMSVDKREDMSRSFQKCLNLRYPIIQAPMAGVT...</td>\n",
       "    </tr>\n",
       "    <tr>\n",
       "      <th>P47096</th>\n",
       "      <td>177</td>\n",
       "      <td>Reviewed</td>\n",
       "      <td>MFNTTPINIDKWLKENEGLLKPPVNNYCLHKGGFTVMIVGGPNERT...</td>\n",
       "    </tr>\n",
       "    <tr>\n",
       "      <th>P40433</th>\n",
       "      <td>827</td>\n",
       "      <td>Reviewed</td>\n",
       "      <td>MFKPVDFSETSPVPPDIDLAPTQSPHHVAPSQDSSYDLLSRSSDDK...</td>\n",
       "    </tr>\n",
       "    <tr>\n",
       "      <th>Q12471</th>\n",
       "      <td>397</td>\n",
       "      <td>Reviewed</td>\n",
       "      <td>MGGSSDSDSHDGYLTSEYNSSNSLFSLNTGNSYSSASLDRATLDCQ...</td>\n",
       "    </tr>\n",
       "    <tr>\n",
       "      <th>P38720</th>\n",
       "      <td>489</td>\n",
       "      <td>Reviewed</td>\n",
       "      <td>MSADFGLIGLAVMGQNLILNAADHGFTVCAYNRTQSKVDHFLANEA...</td>\n",
       "    </tr>\n",
       "    <tr>\n",
       "      <th>P53319</th>\n",
       "      <td>492</td>\n",
       "      <td>Reviewed</td>\n",
       "      <td>MSKAVGDLGLVGLAVMGQNLILNAADHGFTVVAYNRTQSKVDRFLA...</td>\n",
       "    </tr>\n",
       "    <tr>\n",
       "      <th>P47182</th>\n",
       "      <td>288</td>\n",
       "      <td>Reviewed</td>\n",
       "      <td>MASRKLRDQIVIATKFTTDYKGYDVGKGKSANFCGNHKRSLHVSVR...</td>\n",
       "    </tr>\n",
       "    <tr>\n",
       "      <th>Q08361</th>\n",
       "      <td>143</td>\n",
       "      <td>Reviewed</td>\n",
       "      <td>MARHFGMALAPWDVMGGGRFQSKKAMEERRKNGECIRSFVGASEQT...</td>\n",
       "    </tr>\n",
       "    <tr>\n",
       "      <th>P42884</th>\n",
       "      <td>376</td>\n",
       "      <td>Reviewed</td>\n",
       "      <td>MTDLFKPLPEPPTELGRLRVLSKTAGIRVSPLILGGASIGDAWSGF...</td>\n",
       "    </tr>\n",
       "    <tr>\n",
       "      <th>P43546</th>\n",
       "      <td>152</td>\n",
       "      <td>Reviewed</td>\n",
       "      <td>MARHFGMALAPWDVMGGGRFQSKKAMEERRKNGEGIRSFVGASEQT...</td>\n",
       "    </tr>\n",
       "    <tr>\n",
       "      <th>P25612</th>\n",
       "      <td>363</td>\n",
       "      <td>Reviewed</td>\n",
       "      <td>MIGSASDSSSKLGRLRFLSETAAIKVSPLILGEVSYDGARSDFLKS...</td>\n",
       "    </tr>\n",
       "    <tr>\n",
       "      <th>Q07747</th>\n",
       "      <td>329</td>\n",
       "      <td>Reviewed</td>\n",
       "      <td>MGSMNKEQAFELLDAFYEAGGNCIDTANSYQNEESEIWIGEWMKSR...</td>\n",
       "    </tr>\n",
       "    <tr>\n",
       "      <th>P43547</th>\n",
       "      <td>212</td>\n",
       "      <td>Reviewed</td>\n",
       "      <td>MADLFAPAPEPSTELGRLRVLSKSAGIRVSPLILGGMSIGDAWSEI...</td>\n",
       "    </tr>\n",
       "    <tr>\n",
       "      <th>P12904</th>\n",
       "      <td>322</td>\n",
       "      <td>Reviewed</td>\n",
       "      <td>MKPTQDSQEKVSIEQQLAVESIRKFLNSKTSYDVLPVSYRLIVLDT...</td>\n",
       "    </tr>\n",
       "    <tr>\n",
       "      <th>P37898</th>\n",
       "      <td>856</td>\n",
       "      <td>Reviewed</td>\n",
       "      <td>MSREVLPNNVTPLHYDITLEPNFRAFTFEGSLKIDLQINDHSINSV...</td>\n",
       "    </tr>\n",
       "    <tr>\n",
       "      <th>P08521</th>\n",
       "      <td>25</td>\n",
       "      <td>Reviewed</td>\n",
       "      <td>MFSLSNSQYTCQDYISDHIWKTSSH</td>\n",
       "    </tr>\n",
       "    <tr>\n",
       "      <th>P32357</th>\n",
       "      <td>355</td>\n",
       "      <td>Reviewed</td>\n",
       "      <td>MNTVPFTSAPIEVTIGIDQYSFNVKENQPFHGIKDIPIGHVHVIHF...</td>\n",
       "    </tr>\n",
       "    <tr>\n",
       "      <th>P23542</th>\n",
       "      <td>418</td>\n",
       "      <td>Reviewed</td>\n",
       "      <td>MSATLFNNIELLPPDALFGIKQRYGQDQRATKVDLGIGAYRDDNGK...</td>\n",
       "    </tr>\n",
       "    <tr>\n",
       "      <th>Q01802</th>\n",
       "      <td>451</td>\n",
       "      <td>Reviewed</td>\n",
       "      <td>MLRTRLTNCSLWRPYYTSSLSRVPRAPPDKVLGLSEHFKKVKNVNK...</td>\n",
       "    </tr>\n",
       "    <tr>\n",
       "      <th>Q08641</th>\n",
       "      <td>628</td>\n",
       "      <td>Reviewed</td>\n",
       "      <td>MGVADLIKKFESISKEEGDATVDTNSSSKPLKSNDETKELHQQEST...</td>\n",
       "    </tr>\n",
       "    <tr>\n",
       "      <th>Q02486</th>\n",
       "      <td>183</td>\n",
       "      <td>Reviewed</td>\n",
       "      <td>MNSYSLLTRSFHESSKPLFNLASTLLKASKRTQLRNELIKQGPKRP...</td>\n",
       "    </tr>\n",
       "    <tr>\n",
       "      <th>P14164</th>\n",
       "      <td>731</td>\n",
       "      <td>Reviewed</td>\n",
       "      <td>MDKLVVNYYEYKHPIINKDLAIGAHGGKKFPTLGAWYDVINEYEFQ...</td>\n",
       "    </tr>\n",
       "    <tr>\n",
       "      <th>P47146</th>\n",
       "      <td>123</td>\n",
       "      <td>Reviewed</td>\n",
       "      <td>MSWRYSILTVDGSFKIFIPWEIFLTWNFLSAAWLNSTESNTYIHYS...</td>\n",
       "    </tr>\n",
       "    <tr>\n",
       "      <th>P15891</th>\n",
       "      <td>592</td>\n",
       "      <td>Reviewed</td>\n",
       "      <td>MALEPIDYTTHSREIDAEYLKIVRGSDPDTTWLIISPNAKKEYEPE...</td>\n",
       "    </tr>\n",
       "    <tr>\n",
       "      <th>P39970</th>\n",
       "      <td>489</td>\n",
       "      <td>Reviewed</td>\n",
       "      <td>MDYKHNFATSPDSFLDGRQNPLLYTDFLSSNKELIYKQPSGPGLVD...</td>\n",
       "    </tr>\n",
       "    <tr>\n",
       "      <th>P40535</th>\n",
       "      <td>587</td>\n",
       "      <td>Reviewed</td>\n",
       "      <td>MFTGQEYHSVDSNSNKQKDNNKRGIDDTSKILNNKIPHSVSDTSAA...</td>\n",
       "    </tr>\n",
       "    <tr>\n",
       "      <th>Q00955</th>\n",
       "      <td>2233</td>\n",
       "      <td>Reviewed</td>\n",
       "      <td>MSEESLFESSPQKMEYEITNYSERHTELPGHFIGLNTVDKLEESPL...</td>\n",
       "    </tr>\n",
       "    <tr>\n",
       "      <th>...</th>\n",
       "      <td>...</td>\n",
       "      <td>...</td>\n",
       "      <td>...</td>\n",
       "    </tr>\n",
       "    <tr>\n",
       "      <th>P47117</th>\n",
       "      <td>449</td>\n",
       "      <td>Reviewed</td>\n",
       "      <td>MSYLNNPAVVMDNGTGLTKLGFAGNDSPSWVFPTAIATAAPSNTKK...</td>\n",
       "    </tr>\n",
       "    <tr>\n",
       "      <th>P80428</th>\n",
       "      <td>489</td>\n",
       "      <td>Reviewed</td>\n",
       "      <td>MSNAALQVYGGDEVSAVVIDPGSYTTNIGYSGSDFPQSILPSVYGK...</td>\n",
       "    </tr>\n",
       "    <tr>\n",
       "      <th>Q12509</th>\n",
       "      <td>438</td>\n",
       "      <td>Reviewed</td>\n",
       "      <td>METPPIVIDNGSYEIKFGPSTNKKPFRALNALAKDKFGTSYLSNHI...</td>\n",
       "    </tr>\n",
       "    <tr>\n",
       "      <th>P53946</th>\n",
       "      <td>755</td>\n",
       "      <td>Reviewed</td>\n",
       "      <td>MSSRDASLTPLKAVVIDDPPLRQTPEPFDEQSAYNPQSPIAIDFGS...</td>\n",
       "    </tr>\n",
       "    <tr>\n",
       "      <th>Q12406</th>\n",
       "      <td>477</td>\n",
       "      <td>Reviewed</td>\n",
       "      <td>MTLNRKCVVIHNGSHRTVAGFSNVELPQCIIPSSYIKRTDEGGEAE...</td>\n",
       "    </tr>\n",
       "    <tr>\n",
       "      <th>Q12386</th>\n",
       "      <td>881</td>\n",
       "      <td>Reviewed</td>\n",
       "      <td>MSQEEAESSIIYEEPIDIPLEDDDDEDELEEENSVPLSSQADQENA...</td>\n",
       "    </tr>\n",
       "    <tr>\n",
       "      <th>Q05123</th>\n",
       "      <td>467</td>\n",
       "      <td>Reviewed</td>\n",
       "      <td>MAPFRQDSILIIYPRSQTTLVQFGLNEETFTVPELEIPTQIYRTTR...</td>\n",
       "    </tr>\n",
       "    <tr>\n",
       "      <th>P38328</th>\n",
       "      <td>384</td>\n",
       "      <td>Reviewed</td>\n",
       "      <td>MSFSNSKDKSVVAVYKLVKAPIYSHCFSQDKSILAVTCETDCLVYR...</td>\n",
       "    </tr>\n",
       "    <tr>\n",
       "      <th>P53731</th>\n",
       "      <td>342</td>\n",
       "      <td>Reviewed</td>\n",
       "      <td>MLHLQPQNLLIQKTLNEAIEALRKGSPLTMDRIVSDFDYTTYHISN...</td>\n",
       "    </tr>\n",
       "    <tr>\n",
       "      <th>Q05933</th>\n",
       "      <td>178</td>\n",
       "      <td>Reviewed</td>\n",
       "      <td>MPAYHSTFPVDPNTDRMVGNFALLPLNTKFRGPAYPSNSDYDIIDE...</td>\n",
       "    </tr>\n",
       "    <tr>\n",
       "      <th>P33204</th>\n",
       "      <td>171</td>\n",
       "      <td>Reviewed</td>\n",
       "      <td>MSQSLRPYLTAVRYSLEAALTLSNFSSQEVERHNRPEVEVPNTSAE...</td>\n",
       "    </tr>\n",
       "    <tr>\n",
       "      <th>P40518</th>\n",
       "      <td>154</td>\n",
       "      <td>Reviewed</td>\n",
       "      <td>MEADWRRIDIDAFDPESGRLTAADLVPPYETTVTLQELQPRMNQLR...</td>\n",
       "    </tr>\n",
       "    <tr>\n",
       "      <th>Q06597</th>\n",
       "      <td>130</td>\n",
       "      <td>Reviewed</td>\n",
       "      <td>MVSFITSRQLKGLIENQRKDFQVVDLRREDFARDHITNAWHVPVTA...</td>\n",
       "    </tr>\n",
       "    <tr>\n",
       "      <th>Q06598</th>\n",
       "      <td>404</td>\n",
       "      <td>Reviewed</td>\n",
       "      <td>MSEDQKSENSVPSKVNMVNRTDILTTIKSLSWLDLMLPFTIILSII...</td>\n",
       "    </tr>\n",
       "    <tr>\n",
       "      <th>P18634</th>\n",
       "      <td>518</td>\n",
       "      <td>Reviewed</td>\n",
       "      <td>MAPKISISLNPPYNGEFYSSNDQMSGIVSLQLTKALSIRKISVILK...</td>\n",
       "    </tr>\n",
       "    <tr>\n",
       "      <th>Q8TGM7</th>\n",
       "      <td>61</td>\n",
       "      <td>Reviewed</td>\n",
       "      <td>MVCIHTENQNQGGFYPFVLLEISVLHEPPLGHLRYRLTDVPPQPNS...</td>\n",
       "    </tr>\n",
       "    <tr>\n",
       "      <th>Q8TGM5</th>\n",
       "      <td>67</td>\n",
       "      <td>Reviewed</td>\n",
       "      <td>MPPGIPRGAMCVQRFDDSRNSAIHITYRISLRSSSMREPRDPLLKV...</td>\n",
       "    </tr>\n",
       "    <tr>\n",
       "      <th>P53244</th>\n",
       "      <td>586</td>\n",
       "      <td>Reviewed</td>\n",
       "      <td>MFSLSSLSSSGGHSEQKERERISYFDIRINSPYKDIILIQGSPLEL...</td>\n",
       "    </tr>\n",
       "    <tr>\n",
       "      <th>Q06541</th>\n",
       "      <td>321</td>\n",
       "      <td>Reviewed</td>\n",
       "      <td>MICITCMRPVDSLYTVYSNDHIQLTDCPYCQETVDKYVEIDNVLLF...</td>\n",
       "    </tr>\n",
       "    <tr>\n",
       "      <th>Q03862</th>\n",
       "      <td>593</td>\n",
       "      <td>Reviewed</td>\n",
       "      <td>MALAISHEDTQILLKDKNILQESVLNKYRTAGQIAQTALKYVTSLI...</td>\n",
       "    </tr>\n",
       "    <tr>\n",
       "      <th>Q06822</th>\n",
       "      <td>443</td>\n",
       "      <td>Reviewed</td>\n",
       "      <td>MRGFSNEIILKRTLTLSDFTLRYHKRGITALQVIKAPSVSNVPVLL...</td>\n",
       "    </tr>\n",
       "    <tr>\n",
       "      <th>P50275</th>\n",
       "      <td>885</td>\n",
       "      <td>Reviewed</td>\n",
       "      <td>METATSSPLPIKSRRNSENSGSTTVIPHMNPSLATPLTVSTMVNQS...</td>\n",
       "    </tr>\n",
       "    <tr>\n",
       "      <th>P32447</th>\n",
       "      <td>279</td>\n",
       "      <td>Reviewed</td>\n",
       "      <td>MSIVSLLGIKVLNNPAKFTDPYEFEITFECLESLKHDLEWKLTYVG...</td>\n",
       "    </tr>\n",
       "    <tr>\n",
       "      <th>P46993</th>\n",
       "      <td>209</td>\n",
       "      <td>Reviewed</td>\n",
       "      <td>MTTLASSIEHKTKHLAAPFENDENPWMKKYCCQCKSCKMSVPVQPW...</td>\n",
       "    </tr>\n",
       "    <tr>\n",
       "      <th>P40467</th>\n",
       "      <td>964</td>\n",
       "      <td>Reviewed</td>\n",
       "      <td>MPEQAQQGEQSVKRRRVTRACDECRKKKVKCDGQQPCIHCTVYSYE...</td>\n",
       "    </tr>\n",
       "    <tr>\n",
       "      <th>P32448</th>\n",
       "      <td>525</td>\n",
       "      <td>Reviewed</td>\n",
       "      <td>MPKNRGVLDAITRSVIDGSDQESSSSFNSDKEYAAVTKGLSSSRVQ...</td>\n",
       "    </tr>\n",
       "    <tr>\n",
       "      <th>P34233</th>\n",
       "      <td>588</td>\n",
       "      <td>Reviewed</td>\n",
       "      <td>MSSLYIKTPLHALSAGPDSHANSSYYDNLLLPSFSNLSSNISRNNI...</td>\n",
       "    </tr>\n",
       "    <tr>\n",
       "      <th>P53895</th>\n",
       "      <td>289</td>\n",
       "      <td>Reviewed</td>\n",
       "      <td>MARPQNHRRSNWTERDDNDDYLFQRFLEESETRHSREPSPVTEQSQ...</td>\n",
       "    </tr>\n",
       "    <tr>\n",
       "      <th>A0A0B7P221</th>\n",
       "      <td>28</td>\n",
       "      <td>Unreviewed</td>\n",
       "      <td>MIRQKIFVFIVKSRRNSICPAIRRKEDY</td>\n",
       "    </tr>\n",
       "    <tr>\n",
       "      <th>A0A0B7P1T6</th>\n",
       "      <td>108</td>\n",
       "      <td>Unreviewed</td>\n",
       "      <td>MKEVTKMLYCALLVTKVIYQMKGKSQPKRERKKQNYWVLKSLWKRP...</td>\n",
       "    </tr>\n",
       "  </tbody>\n",
       "</table>\n",
       "<p>241 rows × 3 columns</p>\n",
       "</div>"
      ],
      "text/plain": [
       "               n         rev  \\\n",
       "ac                             \n",
       "P38903       757    Reviewed   \n",
       "P31383       635    Reviewed   \n",
       "Q00362       526    Reviewed   \n",
       "P47177       404    Reviewed   \n",
       "P47096       177    Reviewed   \n",
       "P40433       827    Reviewed   \n",
       "Q12471       397    Reviewed   \n",
       "P38720       489    Reviewed   \n",
       "P53319       492    Reviewed   \n",
       "P47182       288    Reviewed   \n",
       "Q08361       143    Reviewed   \n",
       "P42884       376    Reviewed   \n",
       "P43546       152    Reviewed   \n",
       "P25612       363    Reviewed   \n",
       "Q07747       329    Reviewed   \n",
       "P43547       212    Reviewed   \n",
       "P12904       322    Reviewed   \n",
       "P37898       856    Reviewed   \n",
       "P08521        25    Reviewed   \n",
       "P32357       355    Reviewed   \n",
       "P23542       418    Reviewed   \n",
       "Q01802       451    Reviewed   \n",
       "Q08641       628    Reviewed   \n",
       "Q02486       183    Reviewed   \n",
       "P14164       731    Reviewed   \n",
       "P47146       123    Reviewed   \n",
       "P15891       592    Reviewed   \n",
       "P39970       489    Reviewed   \n",
       "P40535       587    Reviewed   \n",
       "Q00955      2233    Reviewed   \n",
       "...          ...         ...   \n",
       "P47117       449    Reviewed   \n",
       "P80428       489    Reviewed   \n",
       "Q12509       438    Reviewed   \n",
       "P53946       755    Reviewed   \n",
       "Q12406       477    Reviewed   \n",
       "Q12386       881    Reviewed   \n",
       "Q05123       467    Reviewed   \n",
       "P38328       384    Reviewed   \n",
       "P53731       342    Reviewed   \n",
       "Q05933       178    Reviewed   \n",
       "P33204       171    Reviewed   \n",
       "P40518       154    Reviewed   \n",
       "Q06597       130    Reviewed   \n",
       "Q06598       404    Reviewed   \n",
       "P18634       518    Reviewed   \n",
       "Q8TGM7        61    Reviewed   \n",
       "Q8TGM5        67    Reviewed   \n",
       "P53244       586    Reviewed   \n",
       "Q06541       321    Reviewed   \n",
       "Q03862       593    Reviewed   \n",
       "Q06822       443    Reviewed   \n",
       "P50275       885    Reviewed   \n",
       "P32447       279    Reviewed   \n",
       "P46993       209    Reviewed   \n",
       "P40467       964    Reviewed   \n",
       "P32448       525    Reviewed   \n",
       "P34233       588    Reviewed   \n",
       "P53895       289    Reviewed   \n",
       "A0A0B7P221    28  Unreviewed   \n",
       "A0A0B7P1T6   108  Unreviewed   \n",
       "\n",
       "                                                          seq  \n",
       "ac                                                             \n",
       "P38903      MMRGFKQRLIKKTTGSSSSSSSKKKDKEKEKEKSSTTSSTSKKPAS...  \n",
       "P31383      MSGARSTTAGAVPSAATTSTTSTTSNSKDSDSNESLYPLALLMDEL...  \n",
       "Q00362      MAQNNFDFKFSQCFGDKADIVVTEADLITAVEFDYTGNYLATGDKG...  \n",
       "P47177      MYFLNQLIFQDVSVMSVDKREDMSRSFQKCLNLRYPIIQAPMAGVT...  \n",
       "P47096      MFNTTPINIDKWLKENEGLLKPPVNNYCLHKGGFTVMIVGGPNERT...  \n",
       "P40433      MFKPVDFSETSPVPPDIDLAPTQSPHHVAPSQDSSYDLLSRSSDDK...  \n",
       "Q12471      MGGSSDSDSHDGYLTSEYNSSNSLFSLNTGNSYSSASLDRATLDCQ...  \n",
       "P38720      MSADFGLIGLAVMGQNLILNAADHGFTVCAYNRTQSKVDHFLANEA...  \n",
       "P53319      MSKAVGDLGLVGLAVMGQNLILNAADHGFTVVAYNRTQSKVDRFLA...  \n",
       "P47182      MASRKLRDQIVIATKFTTDYKGYDVGKGKSANFCGNHKRSLHVSVR...  \n",
       "Q08361      MARHFGMALAPWDVMGGGRFQSKKAMEERRKNGECIRSFVGASEQT...  \n",
       "P42884      MTDLFKPLPEPPTELGRLRVLSKTAGIRVSPLILGGASIGDAWSGF...  \n",
       "P43546      MARHFGMALAPWDVMGGGRFQSKKAMEERRKNGEGIRSFVGASEQT...  \n",
       "P25612      MIGSASDSSSKLGRLRFLSETAAIKVSPLILGEVSYDGARSDFLKS...  \n",
       "Q07747      MGSMNKEQAFELLDAFYEAGGNCIDTANSYQNEESEIWIGEWMKSR...  \n",
       "P43547      MADLFAPAPEPSTELGRLRVLSKSAGIRVSPLILGGMSIGDAWSEI...  \n",
       "P12904      MKPTQDSQEKVSIEQQLAVESIRKFLNSKTSYDVLPVSYRLIVLDT...  \n",
       "P37898      MSREVLPNNVTPLHYDITLEPNFRAFTFEGSLKIDLQINDHSINSV...  \n",
       "P08521                              MFSLSNSQYTCQDYISDHIWKTSSH  \n",
       "P32357      MNTVPFTSAPIEVTIGIDQYSFNVKENQPFHGIKDIPIGHVHVIHF...  \n",
       "P23542      MSATLFNNIELLPPDALFGIKQRYGQDQRATKVDLGIGAYRDDNGK...  \n",
       "Q01802      MLRTRLTNCSLWRPYYTSSLSRVPRAPPDKVLGLSEHFKKVKNVNK...  \n",
       "Q08641      MGVADLIKKFESISKEEGDATVDTNSSSKPLKSNDETKELHQQEST...  \n",
       "Q02486      MNSYSLLTRSFHESSKPLFNLASTLLKASKRTQLRNELIKQGPKRP...  \n",
       "P14164      MDKLVVNYYEYKHPIINKDLAIGAHGGKKFPTLGAWYDVINEYEFQ...  \n",
       "P47146      MSWRYSILTVDGSFKIFIPWEIFLTWNFLSAAWLNSTESNTYIHYS...  \n",
       "P15891      MALEPIDYTTHSREIDAEYLKIVRGSDPDTTWLIISPNAKKEYEPE...  \n",
       "P39970      MDYKHNFATSPDSFLDGRQNPLLYTDFLSSNKELIYKQPSGPGLVD...  \n",
       "P40535      MFTGQEYHSVDSNSNKQKDNNKRGIDDTSKILNNKIPHSVSDTSAA...  \n",
       "Q00955      MSEESLFESSPQKMEYEITNYSERHTELPGHFIGLNTVDKLEESPL...  \n",
       "...                                                       ...  \n",
       "P47117      MSYLNNPAVVMDNGTGLTKLGFAGNDSPSWVFPTAIATAAPSNTKK...  \n",
       "P80428      MSNAALQVYGGDEVSAVVIDPGSYTTNIGYSGSDFPQSILPSVYGK...  \n",
       "Q12509      METPPIVIDNGSYEIKFGPSTNKKPFRALNALAKDKFGTSYLSNHI...  \n",
       "P53946      MSSRDASLTPLKAVVIDDPPLRQTPEPFDEQSAYNPQSPIAIDFGS...  \n",
       "Q12406      MTLNRKCVVIHNGSHRTVAGFSNVELPQCIIPSSYIKRTDEGGEAE...  \n",
       "Q12386      MSQEEAESSIIYEEPIDIPLEDDDDEDELEEENSVPLSSQADQENA...  \n",
       "Q05123      MAPFRQDSILIIYPRSQTTLVQFGLNEETFTVPELEIPTQIYRTTR...  \n",
       "P38328      MSFSNSKDKSVVAVYKLVKAPIYSHCFSQDKSILAVTCETDCLVYR...  \n",
       "P53731      MLHLQPQNLLIQKTLNEAIEALRKGSPLTMDRIVSDFDYTTYHISN...  \n",
       "Q05933      MPAYHSTFPVDPNTDRMVGNFALLPLNTKFRGPAYPSNSDYDIIDE...  \n",
       "P33204      MSQSLRPYLTAVRYSLEAALTLSNFSSQEVERHNRPEVEVPNTSAE...  \n",
       "P40518      MEADWRRIDIDAFDPESGRLTAADLVPPYETTVTLQELQPRMNQLR...  \n",
       "Q06597      MVSFITSRQLKGLIENQRKDFQVVDLRREDFARDHITNAWHVPVTA...  \n",
       "Q06598      MSEDQKSENSVPSKVNMVNRTDILTTIKSLSWLDLMLPFTIILSII...  \n",
       "P18634      MAPKISISLNPPYNGEFYSSNDQMSGIVSLQLTKALSIRKISVILK...  \n",
       "Q8TGM7      MVCIHTENQNQGGFYPFVLLEISVLHEPPLGHLRYRLTDVPPQPNS...  \n",
       "Q8TGM5      MPPGIPRGAMCVQRFDDSRNSAIHITYRISLRSSSMREPRDPLLKV...  \n",
       "P53244      MFSLSSLSSSGGHSEQKERERISYFDIRINSPYKDIILIQGSPLEL...  \n",
       "Q06541      MICITCMRPVDSLYTVYSNDHIQLTDCPYCQETVDKYVEIDNVLLF...  \n",
       "Q03862      MALAISHEDTQILLKDKNILQESVLNKYRTAGQIAQTALKYVTSLI...  \n",
       "Q06822      MRGFSNEIILKRTLTLSDFTLRYHKRGITALQVIKAPSVSNVPVLL...  \n",
       "P50275      METATSSPLPIKSRRNSENSGSTTVIPHMNPSLATPLTVSTMVNQS...  \n",
       "P32447      MSIVSLLGIKVLNNPAKFTDPYEFEITFECLESLKHDLEWKLTYVG...  \n",
       "P46993      MTTLASSIEHKTKHLAAPFENDENPWMKKYCCQCKSCKMSVPVQPW...  \n",
       "P40467      MPEQAQQGEQSVKRRRVTRACDECRKKKVKCDGQQPCIHCTVYSYE...  \n",
       "P32448      MPKNRGVLDAITRSVIDGSDQESSSSFNSDKEYAAVTKGLSSSRVQ...  \n",
       "P34233      MSSLYIKTPLHALSAGPDSHANSSYYDNLLLPSFSNLSSNISRNNI...  \n",
       "P53895      MARPQNHRRSNWTERDDNDDYLFQRFLEESETRHSREPSPVTEQSQ...  \n",
       "A0A0B7P221                       MIRQKIFVFIVKSRRNSICPAIRRKEDY  \n",
       "A0A0B7P1T6  MKEVTKMLYCALLVTKVIYQMKGKSQPKRERKKQNYWVLKSLWKRP...  \n",
       "\n",
       "[241 rows x 3 columns]"
      ]
     },
     "execution_count": 15,
     "metadata": {},
     "output_type": "execute_result"
    }
   ],
   "source": [
    "prots = prots.set_index('ac')\n",
    "prots"
   ]
  },
  {
   "cell_type": "markdown",
   "metadata": {
    "slideshow": {
     "slide_type": "slide"
    }
   },
   "source": [
    "Para inspeção rápida, as funções `.head()` e `.tail()` apresentam o início e o fim da `DataFrame`"
   ]
  },
  {
   "cell_type": "code",
   "execution_count": 16,
   "metadata": {
    "collapsed": false,
    "scrolled": true,
    "slideshow": {
     "slide_type": "slide"
    }
   },
   "outputs": [
    {
     "data": {
      "text/html": [
       "<div>\n",
       "<table border=\"1\" class=\"dataframe\">\n",
       "  <thead>\n",
       "    <tr style=\"text-align: right;\">\n",
       "      <th></th>\n",
       "      <th>n</th>\n",
       "      <th>rev</th>\n",
       "      <th>seq</th>\n",
       "    </tr>\n",
       "    <tr>\n",
       "      <th>ac</th>\n",
       "      <th></th>\n",
       "      <th></th>\n",
       "      <th></th>\n",
       "    </tr>\n",
       "  </thead>\n",
       "  <tbody>\n",
       "    <tr>\n",
       "      <th>P38903</th>\n",
       "      <td>757</td>\n",
       "      <td>Reviewed</td>\n",
       "      <td>MMRGFKQRLIKKTTGSSSSSSSKKKDKEKEKEKSSTTSSTSKKPAS...</td>\n",
       "    </tr>\n",
       "    <tr>\n",
       "      <th>P31383</th>\n",
       "      <td>635</td>\n",
       "      <td>Reviewed</td>\n",
       "      <td>MSGARSTTAGAVPSAATTSTTSTTSNSKDSDSNESLYPLALLMDEL...</td>\n",
       "    </tr>\n",
       "    <tr>\n",
       "      <th>Q00362</th>\n",
       "      <td>526</td>\n",
       "      <td>Reviewed</td>\n",
       "      <td>MAQNNFDFKFSQCFGDKADIVVTEADLITAVEFDYTGNYLATGDKG...</td>\n",
       "    </tr>\n",
       "    <tr>\n",
       "      <th>P47177</th>\n",
       "      <td>404</td>\n",
       "      <td>Reviewed</td>\n",
       "      <td>MYFLNQLIFQDVSVMSVDKREDMSRSFQKCLNLRYPIIQAPMAGVT...</td>\n",
       "    </tr>\n",
       "    <tr>\n",
       "      <th>P47096</th>\n",
       "      <td>177</td>\n",
       "      <td>Reviewed</td>\n",
       "      <td>MFNTTPINIDKWLKENEGLLKPPVNNYCLHKGGFTVMIVGGPNERT...</td>\n",
       "    </tr>\n",
       "  </tbody>\n",
       "</table>\n",
       "</div>"
      ],
      "text/plain": [
       "          n       rev                                                seq\n",
       "ac                                                                      \n",
       "P38903  757  Reviewed  MMRGFKQRLIKKTTGSSSSSSSKKKDKEKEKEKSSTTSSTSKKPAS...\n",
       "P31383  635  Reviewed  MSGARSTTAGAVPSAATTSTTSTTSNSKDSDSNESLYPLALLMDEL...\n",
       "Q00362  526  Reviewed  MAQNNFDFKFSQCFGDKADIVVTEADLITAVEFDYTGNYLATGDKG...\n",
       "P47177  404  Reviewed  MYFLNQLIFQDVSVMSVDKREDMSRSFQKCLNLRYPIIQAPMAGVT...\n",
       "P47096  177  Reviewed  MFNTTPINIDKWLKENEGLLKPPVNNYCLHKGGFTVMIVGGPNERT..."
      ]
     },
     "execution_count": 16,
     "metadata": {},
     "output_type": "execute_result"
    }
   ],
   "source": [
    "prots.head()"
   ]
  },
  {
   "cell_type": "code",
   "execution_count": 17,
   "metadata": {
    "collapsed": false,
    "slideshow": {
     "slide_type": "slide"
    }
   },
   "outputs": [
    {
     "data": {
      "text/html": [
       "<div>\n",
       "<table border=\"1\" class=\"dataframe\">\n",
       "  <thead>\n",
       "    <tr style=\"text-align: right;\">\n",
       "      <th></th>\n",
       "      <th>n</th>\n",
       "      <th>rev</th>\n",
       "      <th>seq</th>\n",
       "    </tr>\n",
       "    <tr>\n",
       "      <th>ac</th>\n",
       "      <th></th>\n",
       "      <th></th>\n",
       "      <th></th>\n",
       "    </tr>\n",
       "  </thead>\n",
       "  <tbody>\n",
       "    <tr>\n",
       "      <th>P32448</th>\n",
       "      <td>525</td>\n",
       "      <td>Reviewed</td>\n",
       "      <td>MPKNRGVLDAITRSVIDGSDQESSSSFNSDKEYAAVTKGLSSSRVQ...</td>\n",
       "    </tr>\n",
       "    <tr>\n",
       "      <th>P34233</th>\n",
       "      <td>588</td>\n",
       "      <td>Reviewed</td>\n",
       "      <td>MSSLYIKTPLHALSAGPDSHANSSYYDNLLLPSFSNLSSNISRNNI...</td>\n",
       "    </tr>\n",
       "    <tr>\n",
       "      <th>P53895</th>\n",
       "      <td>289</td>\n",
       "      <td>Reviewed</td>\n",
       "      <td>MARPQNHRRSNWTERDDNDDYLFQRFLEESETRHSREPSPVTEQSQ...</td>\n",
       "    </tr>\n",
       "    <tr>\n",
       "      <th>A0A0B7P221</th>\n",
       "      <td>28</td>\n",
       "      <td>Unreviewed</td>\n",
       "      <td>MIRQKIFVFIVKSRRNSICPAIRRKEDY</td>\n",
       "    </tr>\n",
       "    <tr>\n",
       "      <th>A0A0B7P1T6</th>\n",
       "      <td>108</td>\n",
       "      <td>Unreviewed</td>\n",
       "      <td>MKEVTKMLYCALLVTKVIYQMKGKSQPKRERKKQNYWVLKSLWKRP...</td>\n",
       "    </tr>\n",
       "  </tbody>\n",
       "</table>\n",
       "</div>"
      ],
      "text/plain": [
       "              n         rev                                                seq\n",
       "ac                                                                            \n",
       "P32448      525    Reviewed  MPKNRGVLDAITRSVIDGSDQESSSSFNSDKEYAAVTKGLSSSRVQ...\n",
       "P34233      588    Reviewed  MSSLYIKTPLHALSAGPDSHANSSYYDNLLLPSFSNLSSNISRNNI...\n",
       "P53895      289    Reviewed  MARPQNHRRSNWTERDDNDDYLFQRFLEESETRHSREPSPVTEQSQ...\n",
       "A0A0B7P221   28  Unreviewed                       MIRQKIFVFIVKSRRNSICPAIRRKEDY\n",
       "A0A0B7P1T6  108  Unreviewed  MKEVTKMLYCALLVTKVIYQMKGKSQPKRERKKQNYWVLKSLWKRP..."
      ]
     },
     "execution_count": 17,
     "metadata": {},
     "output_type": "execute_result"
    }
   ],
   "source": [
    "prots.tail()"
   ]
  },
  {
   "cell_type": "markdown",
   "metadata": {
    "slideshow": {
     "slide_type": "slide"
    }
   },
   "source": [
    "A indexação com o nome de uma coluna devolve essa coluna (mas associada ao índice).\n",
    "\n",
    "Cada coluna comporta-se como uma Série."
   ]
  },
  {
   "cell_type": "code",
   "execution_count": 18,
   "metadata": {
    "collapsed": false,
    "slideshow": {
     "slide_type": "slide"
    }
   },
   "outputs": [
    {
     "name": "stdout",
     "output_type": "stream",
     "text": [
      "ac\n",
      "P38903         757\n",
      "P31383         635\n",
      "Q00362         526\n",
      "P47177         404\n",
      "P47096         177\n",
      "P40433         827\n",
      "Q12471         397\n",
      "P38720         489\n",
      "P53319         492\n",
      "P47182         288\n",
      "Q08361         143\n",
      "P42884         376\n",
      "P43546         152\n",
      "P25612         363\n",
      "Q07747         329\n",
      "P43547         212\n",
      "P12904         322\n",
      "P37898         856\n",
      "P08521          25\n",
      "P32357         355\n",
      "P23542         418\n",
      "Q01802         451\n",
      "Q08641         628\n",
      "Q02486         183\n",
      "P14164         731\n",
      "P47146         123\n",
      "P15891         592\n",
      "P39970         489\n",
      "P40535         587\n",
      "Q00955        2233\n",
      "              ... \n",
      "P47117         449\n",
      "P80428         489\n",
      "Q12509         438\n",
      "P53946         755\n",
      "Q12406         477\n",
      "Q12386         881\n",
      "Q05123         467\n",
      "P38328         384\n",
      "P53731         342\n",
      "Q05933         178\n",
      "P33204         171\n",
      "P40518         154\n",
      "Q06597         130\n",
      "Q06598         404\n",
      "P18634         518\n",
      "Q8TGM7          61\n",
      "Q8TGM5          67\n",
      "P53244         586\n",
      "Q06541         321\n",
      "Q03862         593\n",
      "Q06822         443\n",
      "P50275         885\n",
      "P32447         279\n",
      "P46993         209\n",
      "P40467         964\n",
      "P32448         525\n",
      "P34233         588\n",
      "P53895         289\n",
      "A0A0B7P221      28\n",
      "A0A0B7P1T6     108\n",
      "Name: n, dtype: int64\n"
     ]
    }
   ],
   "source": [
    "print prots['n']"
   ]
  },
  {
   "cell_type": "code",
   "execution_count": 19,
   "metadata": {
    "collapsed": false,
    "slideshow": {
     "slide_type": "slide"
    }
   },
   "outputs": [
    {
     "name": "stdout",
     "output_type": "stream",
     "text": [
      "635\n",
      "\n",
      "2233\n",
      "25\n",
      "457.095435685\n"
     ]
    }
   ],
   "source": [
    "print prots['n']['P31383']\n",
    "print\n",
    "print prots['n'].max()\n",
    "print prots['n'].min()\n",
    "print prots['n'].mean()"
   ]
  },
  {
   "cell_type": "code",
   "execution_count": 20,
   "metadata": {
    "collapsed": false,
    "slideshow": {
     "slide_type": "slide"
    }
   },
   "outputs": [
    {
     "name": "stdout",
     "output_type": "stream",
     "text": [
      "count     241.000000\n",
      "mean      457.095436\n",
      "std       285.785065\n",
      "min        25.000000\n",
      "25%       250.000000\n",
      "50%       394.000000\n",
      "75%       605.000000\n",
      "max      2233.000000\n",
      "Name: n, dtype: float64\n"
     ]
    }
   ],
   "source": [
    "print prots['n'].describe()"
   ]
  },
  {
   "cell_type": "markdown",
   "metadata": {
    "slideshow": {
     "slide_type": "slide"
    }
   },
   "source": [
    "Para obter uma linha usamos `.loc` e indexação por um _label_."
   ]
  },
  {
   "cell_type": "code",
   "execution_count": 21,
   "metadata": {
    "collapsed": false
   },
   "outputs": [
    {
     "name": "stdout",
     "output_type": "stream",
     "text": [
      "n                                                    635\n",
      "rev                                             Reviewed\n",
      "seq    MSGARSTTAGAVPSAATTSTTSTTSNSKDSDSNESLYPLALLMDEL...\n",
      "Name: P31383, dtype: object\n"
     ]
    }
   ],
   "source": [
    "print prots.loc['P31383']"
   ]
  },
  {
   "cell_type": "code",
   "execution_count": 22,
   "metadata": {
    "collapsed": false,
    "slideshow": {
     "slide_type": "slide"
    }
   },
   "outputs": [
    {
     "name": "stdout",
     "output_type": "stream",
     "text": [
      "7\n"
     ]
    }
   ],
   "source": [
    "print prots.loc['P31383']['seq'].count('W')"
   ]
  },
  {
   "cell_type": "markdown",
   "metadata": {
    "slideshow": {
     "slide_type": "slide"
    }
   },
   "source": [
    "A indexação com condições sobre as colunas é muito poderosa:"
   ]
  },
  {
   "cell_type": "code",
   "execution_count": 23,
   "metadata": {
    "collapsed": false
   },
   "outputs": [
    {
     "name": "stdout",
     "output_type": "stream",
     "text": [
      "24\n"
     ]
    },
    {
     "data": {
      "text/html": [
       "<div>\n",
       "<table border=\"1\" class=\"dataframe\">\n",
       "  <thead>\n",
       "    <tr style=\"text-align: right;\">\n",
       "      <th></th>\n",
       "      <th>n</th>\n",
       "      <th>rev</th>\n",
       "      <th>seq</th>\n",
       "    </tr>\n",
       "    <tr>\n",
       "      <th>ac</th>\n",
       "      <th></th>\n",
       "      <th></th>\n",
       "      <th></th>\n",
       "    </tr>\n",
       "  </thead>\n",
       "  <tbody>\n",
       "    <tr>\n",
       "      <th>P40433</th>\n",
       "      <td>827</td>\n",
       "      <td>Reviewed</td>\n",
       "      <td>MFKPVDFSETSPVPPDIDLAPTQSPHHVAPSQDSSYDLLSRSSDDK...</td>\n",
       "    </tr>\n",
       "    <tr>\n",
       "      <th>P37898</th>\n",
       "      <td>856</td>\n",
       "      <td>Reviewed</td>\n",
       "      <td>MSREVLPNNVTPLHYDITLEPNFRAFTFEGSLKIDLQINDHSINSV...</td>\n",
       "    </tr>\n",
       "    <tr>\n",
       "      <th>Q00955</th>\n",
       "      <td>2233</td>\n",
       "      <td>Reviewed</td>\n",
       "      <td>MSEESLFESSPQKMEYEITNYSERHTELPGHFIGLNTVDKLEESPL...</td>\n",
       "    </tr>\n",
       "    <tr>\n",
       "      <th>P25371</th>\n",
       "      <td>1049</td>\n",
       "      <td>Reviewed</td>\n",
       "      <td>MGSHRRYLYYSILSFLLLSCSVVLAKQDKTPFFEGTSSKNSRLTAQ...</td>\n",
       "    </tr>\n",
       "    <tr>\n",
       "      <th>P07248</th>\n",
       "      <td>1323</td>\n",
       "      <td>Reviewed</td>\n",
       "      <td>MANVEKPNDCSGFPVVDLNSCFSNGFNNEKQEIEMETDDSPILLMS...</td>\n",
       "    </tr>\n",
       "    <tr>\n",
       "      <th>Q99222</th>\n",
       "      <td>893</td>\n",
       "      <td>Reviewed</td>\n",
       "      <td>MLRRELNNSISNRSIENESFPFERPNVSYIISAEFDNKLGPILKHQ...</td>\n",
       "    </tr>\n",
       "    <tr>\n",
       "      <th>Q12482</th>\n",
       "      <td>902</td>\n",
       "      <td>Reviewed</td>\n",
       "      <td>MEQINSNSRKKKQQLEVFKYFASVLTKEDKPISISNGMLDMPTVNS...</td>\n",
       "    </tr>\n",
       "    <tr>\n",
       "      <th>P03875</th>\n",
       "      <td>834</td>\n",
       "      <td>Reviewed</td>\n",
       "      <td>MVQRWLYSTNAKDIAVLYFMLAIFSGMAGTAMSLIIRLELAAPGSQ...</td>\n",
       "    </tr>\n",
       "    <tr>\n",
       "      <th>P03876</th>\n",
       "      <td>854</td>\n",
       "      <td>Reviewed</td>\n",
       "      <td>MVQRWLYSTNAKDIAVLYFMLAIFSGMAGTAMSLIIRLELAAPGSQ...</td>\n",
       "    </tr>\n",
       "    <tr>\n",
       "      <th>P38266</th>\n",
       "      <td>947</td>\n",
       "      <td>Reviewed</td>\n",
       "      <td>MGFWENNKDSITSGLKSAGKYGYQGTKYVAKTGYKASKKHYNNSKA...</td>\n",
       "    </tr>\n",
       "    <tr>\n",
       "      <th>Q12028</th>\n",
       "      <td>832</td>\n",
       "      <td>Reviewed</td>\n",
       "      <td>MGSSLRSFIKDVRGAKTLADERAIITKQSAKIRTKLRDDHLPHEKR...</td>\n",
       "    </tr>\n",
       "    <tr>\n",
       "      <th>P38065</th>\n",
       "      <td>1025</td>\n",
       "      <td>Reviewed</td>\n",
       "      <td>MDRKKTLINSSVSNNNSTIKGLQLFIADLRSAQQAQEQEKRIQSEI...</td>\n",
       "    </tr>\n",
       "    <tr>\n",
       "      <th>P46682</th>\n",
       "      <td>809</td>\n",
       "      <td>Reviewed</td>\n",
       "      <td>MVDSIHRIASALDTAKVITREAAAVATSKLGESSYTYYSQNINPQQ...</td>\n",
       "    </tr>\n",
       "    <tr>\n",
       "      <th>Q08951</th>\n",
       "      <td>932</td>\n",
       "      <td>Reviewed</td>\n",
       "      <td>MTSLYAPGAEDIRQRLRPFGFFFEKSLKDLIKGIRSHNETPEKLDQ...</td>\n",
       "    </tr>\n",
       "    <tr>\n",
       "      <th>P53886</th>\n",
       "      <td>1748</td>\n",
       "      <td>Reviewed</td>\n",
       "      <td>MTSKPSTRNDYLPRETHNGEYTGDSPEWQLQINITNKIGGINGDIW...</td>\n",
       "    </tr>\n",
       "    <tr>\n",
       "      <th>Q12440</th>\n",
       "      <td>853</td>\n",
       "      <td>Reviewed</td>\n",
       "      <td>MSFQITPTRDLKVITDELQTLSSYIFHTNIVDDLNSLLTWMSPNDA...</td>\n",
       "    </tr>\n",
       "    <tr>\n",
       "      <th>P32454</th>\n",
       "      <td>952</td>\n",
       "      <td>Reviewed</td>\n",
       "      <td>MPIVRWLLLKSAVRGSSLIGKAHPCLRSIAAHPRYLSNVYSPPAGV...</td>\n",
       "    </tr>\n",
       "    <tr>\n",
       "      <th>Q01217</th>\n",
       "      <td>863</td>\n",
       "      <td>Reviewed</td>\n",
       "      <td>MPSASLLVSTKRLNASKFQKFVSSLNKSTIAGFASVPLRAPPSVAF...</td>\n",
       "    </tr>\n",
       "    <tr>\n",
       "      <th>P05085</th>\n",
       "      <td>880</td>\n",
       "      <td>Reviewed</td>\n",
       "      <td>MGISSKNGPKKMGRAKTFTGCWTCRGRKVKCDLRHPHCQRCEKSNL...</td>\n",
       "    </tr>\n",
       "    <tr>\n",
       "      <th>P08566</th>\n",
       "      <td>1588</td>\n",
       "      <td>Reviewed</td>\n",
       "      <td>MVQLAKVPILGNDIIHVGYNIHDHLVETIIKHCPSSTYVICNDTNL...</td>\n",
       "    </tr>\n",
       "    <tr>\n",
       "      <th>Q04052</th>\n",
       "      <td>950</td>\n",
       "      <td>Reviewed</td>\n",
       "      <td>MSAKKRPSGNAAFELPKRRRTYQACISCRSRKVKCDLGPVDNPHDP...</td>\n",
       "    </tr>\n",
       "    <tr>\n",
       "      <th>Q12386</th>\n",
       "      <td>881</td>\n",
       "      <td>Reviewed</td>\n",
       "      <td>MSQEEAESSIIYEEPIDIPLEDDDDEDELEEENSVPLSSQADQENA...</td>\n",
       "    </tr>\n",
       "    <tr>\n",
       "      <th>P50275</th>\n",
       "      <td>885</td>\n",
       "      <td>Reviewed</td>\n",
       "      <td>METATSSPLPIKSRRNSENSGSTTVIPHMNPSLATPLTVSTMVNQS...</td>\n",
       "    </tr>\n",
       "    <tr>\n",
       "      <th>P40467</th>\n",
       "      <td>964</td>\n",
       "      <td>Reviewed</td>\n",
       "      <td>MPEQAQQGEQSVKRRRVTRACDECRKKKVKCDGQQPCIHCTVYSYE...</td>\n",
       "    </tr>\n",
       "  </tbody>\n",
       "</table>\n",
       "</div>"
      ],
      "text/plain": [
       "           n       rev                                                seq\n",
       "ac                                                                       \n",
       "P40433   827  Reviewed  MFKPVDFSETSPVPPDIDLAPTQSPHHVAPSQDSSYDLLSRSSDDK...\n",
       "P37898   856  Reviewed  MSREVLPNNVTPLHYDITLEPNFRAFTFEGSLKIDLQINDHSINSV...\n",
       "Q00955  2233  Reviewed  MSEESLFESSPQKMEYEITNYSERHTELPGHFIGLNTVDKLEESPL...\n",
       "P25371  1049  Reviewed  MGSHRRYLYYSILSFLLLSCSVVLAKQDKTPFFEGTSSKNSRLTAQ...\n",
       "P07248  1323  Reviewed  MANVEKPNDCSGFPVVDLNSCFSNGFNNEKQEIEMETDDSPILLMS...\n",
       "Q99222   893  Reviewed  MLRRELNNSISNRSIENESFPFERPNVSYIISAEFDNKLGPILKHQ...\n",
       "Q12482   902  Reviewed  MEQINSNSRKKKQQLEVFKYFASVLTKEDKPISISNGMLDMPTVNS...\n",
       "P03875   834  Reviewed  MVQRWLYSTNAKDIAVLYFMLAIFSGMAGTAMSLIIRLELAAPGSQ...\n",
       "P03876   854  Reviewed  MVQRWLYSTNAKDIAVLYFMLAIFSGMAGTAMSLIIRLELAAPGSQ...\n",
       "P38266   947  Reviewed  MGFWENNKDSITSGLKSAGKYGYQGTKYVAKTGYKASKKHYNNSKA...\n",
       "Q12028   832  Reviewed  MGSSLRSFIKDVRGAKTLADERAIITKQSAKIRTKLRDDHLPHEKR...\n",
       "P38065  1025  Reviewed  MDRKKTLINSSVSNNNSTIKGLQLFIADLRSAQQAQEQEKRIQSEI...\n",
       "P46682   809  Reviewed  MVDSIHRIASALDTAKVITREAAAVATSKLGESSYTYYSQNINPQQ...\n",
       "Q08951   932  Reviewed  MTSLYAPGAEDIRQRLRPFGFFFEKSLKDLIKGIRSHNETPEKLDQ...\n",
       "P53886  1748  Reviewed  MTSKPSTRNDYLPRETHNGEYTGDSPEWQLQINITNKIGGINGDIW...\n",
       "Q12440   853  Reviewed  MSFQITPTRDLKVITDELQTLSSYIFHTNIVDDLNSLLTWMSPNDA...\n",
       "P32454   952  Reviewed  MPIVRWLLLKSAVRGSSLIGKAHPCLRSIAAHPRYLSNVYSPPAGV...\n",
       "Q01217   863  Reviewed  MPSASLLVSTKRLNASKFQKFVSSLNKSTIAGFASVPLRAPPSVAF...\n",
       "P05085   880  Reviewed  MGISSKNGPKKMGRAKTFTGCWTCRGRKVKCDLRHPHCQRCEKSNL...\n",
       "P08566  1588  Reviewed  MVQLAKVPILGNDIIHVGYNIHDHLVETIIKHCPSSTYVICNDTNL...\n",
       "Q04052   950  Reviewed  MSAKKRPSGNAAFELPKRRRTYQACISCRSRKVKCDLGPVDNPHDP...\n",
       "Q12386   881  Reviewed  MSQEEAESSIIYEEPIDIPLEDDDDEDELEEENSVPLSSQADQENA...\n",
       "P50275   885  Reviewed  METATSSPLPIKSRRNSENSGSTTVIPHMNPSLATPLTVSTMVNQS...\n",
       "P40467   964  Reviewed  MPEQAQQGEQSVKRRRVTRACDECRKKKVKCDGQQPCIHCTVYSYE..."
      ]
     },
     "execution_count": 23,
     "metadata": {},
     "output_type": "execute_result"
    }
   ],
   "source": [
    "bigs = prots[prots['n'] > 800]\n",
    "print len(bigs)\n",
    "bigs"
   ]
  },
  {
   "cell_type": "code",
   "execution_count": 24,
   "metadata": {
    "collapsed": false,
    "slideshow": {
     "slide_type": "slide"
    }
   },
   "outputs": [
    {
     "data": {
      "text/plain": [
       "ac\n",
       "P40433     827\n",
       "P37898     856\n",
       "Q00955    2233\n",
       "P25371    1049\n",
       "P07248    1323\n",
       "Q99222     893\n",
       "Q12482     902\n",
       "P03875     834\n",
       "P03876     854\n",
       "P38266     947\n",
       "Q12028     832\n",
       "P38065    1025\n",
       "P46682     809\n",
       "Q08951     932\n",
       "P53886    1748\n",
       "Q12440     853\n",
       "P32454     952\n",
       "Q01217     863\n",
       "P05085     880\n",
       "P08566    1588\n",
       "Q04052     950\n",
       "Q12386     881\n",
       "P50275     885\n",
       "P40467     964\n",
       "Name: n, dtype: int64"
      ]
     },
     "execution_count": 24,
     "metadata": {},
     "output_type": "execute_result"
    }
   ],
   "source": [
    "bigs = prots[prots['n'] > 800]\n",
    "bigs['n']"
   ]
  },
  {
   "cell_type": "code",
   "execution_count": 25,
   "metadata": {
    "collapsed": false,
    "slideshow": {
     "slide_type": "slide"
    }
   },
   "outputs": [
    {
     "data": {
      "text/plain": [
       "1036.6666666666667"
      ]
     },
     "execution_count": 25,
     "metadata": {},
     "output_type": "execute_result"
    }
   ],
   "source": [
    "prots[prots['n'] > 800]['n'].mean()"
   ]
  },
  {
   "cell_type": "code",
   "execution_count": 26,
   "metadata": {
    "collapsed": false,
    "slideshow": {
     "slide_type": "slide"
    }
   },
   "outputs": [
    {
     "data": {
      "text/plain": [
       "'Q00955'"
      ]
     },
     "execution_count": 26,
     "metadata": {},
     "output_type": "execute_result"
    }
   ],
   "source": [
    "prots['n'].idxmax()"
   ]
  },
  {
   "cell_type": "code",
   "execution_count": 27,
   "metadata": {
    "collapsed": false,
    "slideshow": {
     "slide_type": "slide"
    }
   },
   "outputs": [
    {
     "name": "stdout",
     "output_type": "stream",
     "text": [
      "n                                                   2233\n",
      "rev                                             Reviewed\n",
      "seq    MSEESLFESSPQKMEYEITNYSERHTELPGHFIGLNTVDKLEESPL...\n",
      "Name: Q00955, dtype: object\n"
     ]
    }
   ],
   "source": [
    "print prots.loc[prots['n'].idxmax()]"
   ]
  },
  {
   "cell_type": "code",
   "execution_count": 28,
   "metadata": {
    "collapsed": false,
    "slideshow": {
     "slide_type": "slide"
    }
   },
   "outputs": [
    {
     "data": {
      "text/html": [
       "<div>\n",
       "<table border=\"1\" class=\"dataframe\">\n",
       "  <thead>\n",
       "    <tr style=\"text-align: right;\">\n",
       "      <th></th>\n",
       "      <th>n</th>\n",
       "      <th>rev</th>\n",
       "      <th>seq</th>\n",
       "    </tr>\n",
       "    <tr>\n",
       "      <th>ac</th>\n",
       "      <th></th>\n",
       "      <th></th>\n",
       "      <th></th>\n",
       "    </tr>\n",
       "  </thead>\n",
       "  <tbody>\n",
       "    <tr>\n",
       "      <th>Q00955</th>\n",
       "      <td>2233</td>\n",
       "      <td>Reviewed</td>\n",
       "      <td>MSEESLFESSPQKMEYEITNYSERHTELPGHFIGLNTVDKLEESPL...</td>\n",
       "    </tr>\n",
       "  </tbody>\n",
       "</table>\n",
       "</div>"
      ],
      "text/plain": [
       "           n       rev                                                seq\n",
       "ac                                                                       \n",
       "Q00955  2233  Reviewed  MSEESLFESSPQKMEYEITNYSERHTELPGHFIGLNTVDKLEESPL..."
      ]
     },
     "execution_count": 28,
     "metadata": {},
     "output_type": "execute_result"
    }
   ],
   "source": [
    "prots[prots['n']==prots['n'].max()]"
   ]
  },
  {
   "cell_type": "code",
   "execution_count": 29,
   "metadata": {
    "collapsed": false
   },
   "outputs": [
    {
     "data": {
      "text/html": [
       "<div>\n",
       "<table border=\"1\" class=\"dataframe\">\n",
       "  <thead>\n",
       "    <tr style=\"text-align: right;\">\n",
       "      <th></th>\n",
       "      <th>n</th>\n",
       "      <th>rev</th>\n",
       "      <th>seq</th>\n",
       "    </tr>\n",
       "    <tr>\n",
       "      <th>ac</th>\n",
       "      <th></th>\n",
       "      <th></th>\n",
       "      <th></th>\n",
       "    </tr>\n",
       "  </thead>\n",
       "  <tbody>\n",
       "    <tr>\n",
       "      <th>P08521</th>\n",
       "      <td>25</td>\n",
       "      <td>Reviewed</td>\n",
       "      <td>MFSLSNSQYTCQDYISDHIWKTSSH</td>\n",
       "    </tr>\n",
       "  </tbody>\n",
       "</table>\n",
       "</div>"
      ],
      "text/plain": [
       "         n       rev                        seq\n",
       "ac                                             \n",
       "P08521  25  Reviewed  MFSLSNSQYTCQDYISDHIWKTSSH"
      ]
     },
     "execution_count": 29,
     "metadata": {},
     "output_type": "execute_result"
    }
   ],
   "source": [
    "prots[prots['n']==prots['n'].min()]"
   ]
  },
  {
   "cell_type": "markdown",
   "metadata": {
    "slideshow": {
     "slide_type": "slide"
    }
   },
   "source": [
    "Para aplicar funções de _strings_ a toda uma coluna de uma só vez, usamos o atributo `.str.` sobre essa coluna (o resultado é uma Série):"
   ]
  },
  {
   "cell_type": "code",
   "execution_count": 30,
   "metadata": {
    "collapsed": false
   },
   "outputs": [
    {
     "data": {
      "text/plain": [
       "ac\n",
       "P38903         5\n",
       "P31383         7\n",
       "Q00362         6\n",
       "P47177         1\n",
       "P47096         3\n",
       "P40433         6\n",
       "Q12471         0\n",
       "P38720         8\n",
       "P53319         8\n",
       "P47182         6\n",
       "Q08361         1\n",
       "P42884         9\n",
       "P43546         1\n",
       "P25612         8\n",
       "Q07747         8\n",
       "P43547         7\n",
       "P12904         1\n",
       "P37898        21\n",
       "P08521         1\n",
       "P32357         4\n",
       "P23542         6\n",
       "Q01802         9\n",
       "Q08641         8\n",
       "Q02486         2\n",
       "P14164         2\n",
       "P47146         6\n",
       "P15891         8\n",
       "P39970         2\n",
       "P40535         1\n",
       "Q00955        24\n",
       "              ..\n",
       "P47117         5\n",
       "P80428         9\n",
       "Q12509         7\n",
       "P53946         8\n",
       "Q12406         7\n",
       "Q12386         8\n",
       "Q05123         6\n",
       "P38328        10\n",
       "P53731         1\n",
       "Q05933         1\n",
       "P33204         0\n",
       "P40518         2\n",
       "Q06597         2\n",
       "Q06598         9\n",
       "P18634         4\n",
       "Q8TGM7         0\n",
       "Q8TGM5         0\n",
       "P53244         3\n",
       "Q06541         9\n",
       "Q03862         6\n",
       "Q06822         6\n",
       "P50275         4\n",
       "P32447         2\n",
       "P46993         7\n",
       "P40467         3\n",
       "P32448         0\n",
       "P34233         5\n",
       "P53895         3\n",
       "A0A0B7P221     0\n",
       "A0A0B7P1T6     3\n",
       "Name: seq, dtype: int64"
      ]
     },
     "execution_count": 30,
     "metadata": {},
     "output_type": "execute_result"
    }
   ],
   "source": [
    "numW = prots['seq'].str.count('W')\n",
    "numW"
   ]
  },
  {
   "cell_type": "markdown",
   "metadata": {
    "slideshow": {
     "slide_type": "slide"
    }
   },
   "source": [
    "Com uma indexação por nome, podemos inserir uma coluna nova na `DataFrame` (no fim)."
   ]
  },
  {
   "cell_type": "code",
   "execution_count": 31,
   "metadata": {
    "collapsed": false
   },
   "outputs": [
    {
     "data": {
      "text/html": [
       "<div>\n",
       "<table border=\"1\" class=\"dataframe\">\n",
       "  <thead>\n",
       "    <tr style=\"text-align: right;\">\n",
       "      <th></th>\n",
       "      <th>n</th>\n",
       "      <th>rev</th>\n",
       "      <th>seq</th>\n",
       "      <th>W</th>\n",
       "    </tr>\n",
       "    <tr>\n",
       "      <th>ac</th>\n",
       "      <th></th>\n",
       "      <th></th>\n",
       "      <th></th>\n",
       "      <th></th>\n",
       "    </tr>\n",
       "  </thead>\n",
       "  <tbody>\n",
       "    <tr>\n",
       "      <th>P38903</th>\n",
       "      <td>757</td>\n",
       "      <td>Reviewed</td>\n",
       "      <td>MMRGFKQRLIKKTTGSSSSSSSKKKDKEKEKEKSSTTSSTSKKPAS...</td>\n",
       "      <td>5</td>\n",
       "    </tr>\n",
       "    <tr>\n",
       "      <th>P31383</th>\n",
       "      <td>635</td>\n",
       "      <td>Reviewed</td>\n",
       "      <td>MSGARSTTAGAVPSAATTSTTSTTSNSKDSDSNESLYPLALLMDEL...</td>\n",
       "      <td>7</td>\n",
       "    </tr>\n",
       "    <tr>\n",
       "      <th>Q00362</th>\n",
       "      <td>526</td>\n",
       "      <td>Reviewed</td>\n",
       "      <td>MAQNNFDFKFSQCFGDKADIVVTEADLITAVEFDYTGNYLATGDKG...</td>\n",
       "      <td>6</td>\n",
       "    </tr>\n",
       "    <tr>\n",
       "      <th>P47177</th>\n",
       "      <td>404</td>\n",
       "      <td>Reviewed</td>\n",
       "      <td>MYFLNQLIFQDVSVMSVDKREDMSRSFQKCLNLRYPIIQAPMAGVT...</td>\n",
       "      <td>1</td>\n",
       "    </tr>\n",
       "    <tr>\n",
       "      <th>P47096</th>\n",
       "      <td>177</td>\n",
       "      <td>Reviewed</td>\n",
       "      <td>MFNTTPINIDKWLKENEGLLKPPVNNYCLHKGGFTVMIVGGPNERT...</td>\n",
       "      <td>3</td>\n",
       "    </tr>\n",
       "    <tr>\n",
       "      <th>P40433</th>\n",
       "      <td>827</td>\n",
       "      <td>Reviewed</td>\n",
       "      <td>MFKPVDFSETSPVPPDIDLAPTQSPHHVAPSQDSSYDLLSRSSDDK...</td>\n",
       "      <td>6</td>\n",
       "    </tr>\n",
       "    <tr>\n",
       "      <th>Q12471</th>\n",
       "      <td>397</td>\n",
       "      <td>Reviewed</td>\n",
       "      <td>MGGSSDSDSHDGYLTSEYNSSNSLFSLNTGNSYSSASLDRATLDCQ...</td>\n",
       "      <td>0</td>\n",
       "    </tr>\n",
       "    <tr>\n",
       "      <th>P38720</th>\n",
       "      <td>489</td>\n",
       "      <td>Reviewed</td>\n",
       "      <td>MSADFGLIGLAVMGQNLILNAADHGFTVCAYNRTQSKVDHFLANEA...</td>\n",
       "      <td>8</td>\n",
       "    </tr>\n",
       "    <tr>\n",
       "      <th>P53319</th>\n",
       "      <td>492</td>\n",
       "      <td>Reviewed</td>\n",
       "      <td>MSKAVGDLGLVGLAVMGQNLILNAADHGFTVVAYNRTQSKVDRFLA...</td>\n",
       "      <td>8</td>\n",
       "    </tr>\n",
       "    <tr>\n",
       "      <th>P47182</th>\n",
       "      <td>288</td>\n",
       "      <td>Reviewed</td>\n",
       "      <td>MASRKLRDQIVIATKFTTDYKGYDVGKGKSANFCGNHKRSLHVSVR...</td>\n",
       "      <td>6</td>\n",
       "    </tr>\n",
       "    <tr>\n",
       "      <th>Q08361</th>\n",
       "      <td>143</td>\n",
       "      <td>Reviewed</td>\n",
       "      <td>MARHFGMALAPWDVMGGGRFQSKKAMEERRKNGECIRSFVGASEQT...</td>\n",
       "      <td>1</td>\n",
       "    </tr>\n",
       "    <tr>\n",
       "      <th>P42884</th>\n",
       "      <td>376</td>\n",
       "      <td>Reviewed</td>\n",
       "      <td>MTDLFKPLPEPPTELGRLRVLSKTAGIRVSPLILGGASIGDAWSGF...</td>\n",
       "      <td>9</td>\n",
       "    </tr>\n",
       "    <tr>\n",
       "      <th>P43546</th>\n",
       "      <td>152</td>\n",
       "      <td>Reviewed</td>\n",
       "      <td>MARHFGMALAPWDVMGGGRFQSKKAMEERRKNGEGIRSFVGASEQT...</td>\n",
       "      <td>1</td>\n",
       "    </tr>\n",
       "    <tr>\n",
       "      <th>P25612</th>\n",
       "      <td>363</td>\n",
       "      <td>Reviewed</td>\n",
       "      <td>MIGSASDSSSKLGRLRFLSETAAIKVSPLILGEVSYDGARSDFLKS...</td>\n",
       "      <td>8</td>\n",
       "    </tr>\n",
       "    <tr>\n",
       "      <th>Q07747</th>\n",
       "      <td>329</td>\n",
       "      <td>Reviewed</td>\n",
       "      <td>MGSMNKEQAFELLDAFYEAGGNCIDTANSYQNEESEIWIGEWMKSR...</td>\n",
       "      <td>8</td>\n",
       "    </tr>\n",
       "    <tr>\n",
       "      <th>P43547</th>\n",
       "      <td>212</td>\n",
       "      <td>Reviewed</td>\n",
       "      <td>MADLFAPAPEPSTELGRLRVLSKSAGIRVSPLILGGMSIGDAWSEI...</td>\n",
       "      <td>7</td>\n",
       "    </tr>\n",
       "    <tr>\n",
       "      <th>P12904</th>\n",
       "      <td>322</td>\n",
       "      <td>Reviewed</td>\n",
       "      <td>MKPTQDSQEKVSIEQQLAVESIRKFLNSKTSYDVLPVSYRLIVLDT...</td>\n",
       "      <td>1</td>\n",
       "    </tr>\n",
       "    <tr>\n",
       "      <th>P37898</th>\n",
       "      <td>856</td>\n",
       "      <td>Reviewed</td>\n",
       "      <td>MSREVLPNNVTPLHYDITLEPNFRAFTFEGSLKIDLQINDHSINSV...</td>\n",
       "      <td>21</td>\n",
       "    </tr>\n",
       "    <tr>\n",
       "      <th>P08521</th>\n",
       "      <td>25</td>\n",
       "      <td>Reviewed</td>\n",
       "      <td>MFSLSNSQYTCQDYISDHIWKTSSH</td>\n",
       "      <td>1</td>\n",
       "    </tr>\n",
       "    <tr>\n",
       "      <th>P32357</th>\n",
       "      <td>355</td>\n",
       "      <td>Reviewed</td>\n",
       "      <td>MNTVPFTSAPIEVTIGIDQYSFNVKENQPFHGIKDIPIGHVHVIHF...</td>\n",
       "      <td>4</td>\n",
       "    </tr>\n",
       "    <tr>\n",
       "      <th>P23542</th>\n",
       "      <td>418</td>\n",
       "      <td>Reviewed</td>\n",
       "      <td>MSATLFNNIELLPPDALFGIKQRYGQDQRATKVDLGIGAYRDDNGK...</td>\n",
       "      <td>6</td>\n",
       "    </tr>\n",
       "    <tr>\n",
       "      <th>Q01802</th>\n",
       "      <td>451</td>\n",
       "      <td>Reviewed</td>\n",
       "      <td>MLRTRLTNCSLWRPYYTSSLSRVPRAPPDKVLGLSEHFKKVKNVNK...</td>\n",
       "      <td>9</td>\n",
       "    </tr>\n",
       "    <tr>\n",
       "      <th>Q08641</th>\n",
       "      <td>628</td>\n",
       "      <td>Reviewed</td>\n",
       "      <td>MGVADLIKKFESISKEEGDATVDTNSSSKPLKSNDETKELHQQEST...</td>\n",
       "      <td>8</td>\n",
       "    </tr>\n",
       "    <tr>\n",
       "      <th>Q02486</th>\n",
       "      <td>183</td>\n",
       "      <td>Reviewed</td>\n",
       "      <td>MNSYSLLTRSFHESSKPLFNLASTLLKASKRTQLRNELIKQGPKRP...</td>\n",
       "      <td>2</td>\n",
       "    </tr>\n",
       "    <tr>\n",
       "      <th>P14164</th>\n",
       "      <td>731</td>\n",
       "      <td>Reviewed</td>\n",
       "      <td>MDKLVVNYYEYKHPIINKDLAIGAHGGKKFPTLGAWYDVINEYEFQ...</td>\n",
       "      <td>2</td>\n",
       "    </tr>\n",
       "    <tr>\n",
       "      <th>P47146</th>\n",
       "      <td>123</td>\n",
       "      <td>Reviewed</td>\n",
       "      <td>MSWRYSILTVDGSFKIFIPWEIFLTWNFLSAAWLNSTESNTYIHYS...</td>\n",
       "      <td>6</td>\n",
       "    </tr>\n",
       "    <tr>\n",
       "      <th>P15891</th>\n",
       "      <td>592</td>\n",
       "      <td>Reviewed</td>\n",
       "      <td>MALEPIDYTTHSREIDAEYLKIVRGSDPDTTWLIISPNAKKEYEPE...</td>\n",
       "      <td>8</td>\n",
       "    </tr>\n",
       "    <tr>\n",
       "      <th>P39970</th>\n",
       "      <td>489</td>\n",
       "      <td>Reviewed</td>\n",
       "      <td>MDYKHNFATSPDSFLDGRQNPLLYTDFLSSNKELIYKQPSGPGLVD...</td>\n",
       "      <td>2</td>\n",
       "    </tr>\n",
       "    <tr>\n",
       "      <th>P40535</th>\n",
       "      <td>587</td>\n",
       "      <td>Reviewed</td>\n",
       "      <td>MFTGQEYHSVDSNSNKQKDNNKRGIDDTSKILNNKIPHSVSDTSAA...</td>\n",
       "      <td>1</td>\n",
       "    </tr>\n",
       "    <tr>\n",
       "      <th>Q00955</th>\n",
       "      <td>2233</td>\n",
       "      <td>Reviewed</td>\n",
       "      <td>MSEESLFESSPQKMEYEITNYSERHTELPGHFIGLNTVDKLEESPL...</td>\n",
       "      <td>24</td>\n",
       "    </tr>\n",
       "    <tr>\n",
       "      <th>...</th>\n",
       "      <td>...</td>\n",
       "      <td>...</td>\n",
       "      <td>...</td>\n",
       "      <td>...</td>\n",
       "    </tr>\n",
       "    <tr>\n",
       "      <th>P47117</th>\n",
       "      <td>449</td>\n",
       "      <td>Reviewed</td>\n",
       "      <td>MSYLNNPAVVMDNGTGLTKLGFAGNDSPSWVFPTAIATAAPSNTKK...</td>\n",
       "      <td>5</td>\n",
       "    </tr>\n",
       "    <tr>\n",
       "      <th>P80428</th>\n",
       "      <td>489</td>\n",
       "      <td>Reviewed</td>\n",
       "      <td>MSNAALQVYGGDEVSAVVIDPGSYTTNIGYSGSDFPQSILPSVYGK...</td>\n",
       "      <td>9</td>\n",
       "    </tr>\n",
       "    <tr>\n",
       "      <th>Q12509</th>\n",
       "      <td>438</td>\n",
       "      <td>Reviewed</td>\n",
       "      <td>METPPIVIDNGSYEIKFGPSTNKKPFRALNALAKDKFGTSYLSNHI...</td>\n",
       "      <td>7</td>\n",
       "    </tr>\n",
       "    <tr>\n",
       "      <th>P53946</th>\n",
       "      <td>755</td>\n",
       "      <td>Reviewed</td>\n",
       "      <td>MSSRDASLTPLKAVVIDDPPLRQTPEPFDEQSAYNPQSPIAIDFGS...</td>\n",
       "      <td>8</td>\n",
       "    </tr>\n",
       "    <tr>\n",
       "      <th>Q12406</th>\n",
       "      <td>477</td>\n",
       "      <td>Reviewed</td>\n",
       "      <td>MTLNRKCVVIHNGSHRTVAGFSNVELPQCIIPSSYIKRTDEGGEAE...</td>\n",
       "      <td>7</td>\n",
       "    </tr>\n",
       "    <tr>\n",
       "      <th>Q12386</th>\n",
       "      <td>881</td>\n",
       "      <td>Reviewed</td>\n",
       "      <td>MSQEEAESSIIYEEPIDIPLEDDDDEDELEEENSVPLSSQADQENA...</td>\n",
       "      <td>8</td>\n",
       "    </tr>\n",
       "    <tr>\n",
       "      <th>Q05123</th>\n",
       "      <td>467</td>\n",
       "      <td>Reviewed</td>\n",
       "      <td>MAPFRQDSILIIYPRSQTTLVQFGLNEETFTVPELEIPTQIYRTTR...</td>\n",
       "      <td>6</td>\n",
       "    </tr>\n",
       "    <tr>\n",
       "      <th>P38328</th>\n",
       "      <td>384</td>\n",
       "      <td>Reviewed</td>\n",
       "      <td>MSFSNSKDKSVVAVYKLVKAPIYSHCFSQDKSILAVTCETDCLVYR...</td>\n",
       "      <td>10</td>\n",
       "    </tr>\n",
       "    <tr>\n",
       "      <th>P53731</th>\n",
       "      <td>342</td>\n",
       "      <td>Reviewed</td>\n",
       "      <td>MLHLQPQNLLIQKTLNEAIEALRKGSPLTMDRIVSDFDYTTYHISN...</td>\n",
       "      <td>1</td>\n",
       "    </tr>\n",
       "    <tr>\n",
       "      <th>Q05933</th>\n",
       "      <td>178</td>\n",
       "      <td>Reviewed</td>\n",
       "      <td>MPAYHSTFPVDPNTDRMVGNFALLPLNTKFRGPAYPSNSDYDIIDE...</td>\n",
       "      <td>1</td>\n",
       "    </tr>\n",
       "    <tr>\n",
       "      <th>P33204</th>\n",
       "      <td>171</td>\n",
       "      <td>Reviewed</td>\n",
       "      <td>MSQSLRPYLTAVRYSLEAALTLSNFSSQEVERHNRPEVEVPNTSAE...</td>\n",
       "      <td>0</td>\n",
       "    </tr>\n",
       "    <tr>\n",
       "      <th>P40518</th>\n",
       "      <td>154</td>\n",
       "      <td>Reviewed</td>\n",
       "      <td>MEADWRRIDIDAFDPESGRLTAADLVPPYETTVTLQELQPRMNQLR...</td>\n",
       "      <td>2</td>\n",
       "    </tr>\n",
       "    <tr>\n",
       "      <th>Q06597</th>\n",
       "      <td>130</td>\n",
       "      <td>Reviewed</td>\n",
       "      <td>MVSFITSRQLKGLIENQRKDFQVVDLRREDFARDHITNAWHVPVTA...</td>\n",
       "      <td>2</td>\n",
       "    </tr>\n",
       "    <tr>\n",
       "      <th>Q06598</th>\n",
       "      <td>404</td>\n",
       "      <td>Reviewed</td>\n",
       "      <td>MSEDQKSENSVPSKVNMVNRTDILTTIKSLSWLDLMLPFTIILSII...</td>\n",
       "      <td>9</td>\n",
       "    </tr>\n",
       "    <tr>\n",
       "      <th>P18634</th>\n",
       "      <td>518</td>\n",
       "      <td>Reviewed</td>\n",
       "      <td>MAPKISISLNPPYNGEFYSSNDQMSGIVSLQLTKALSIRKISVILK...</td>\n",
       "      <td>4</td>\n",
       "    </tr>\n",
       "    <tr>\n",
       "      <th>Q8TGM7</th>\n",
       "      <td>61</td>\n",
       "      <td>Reviewed</td>\n",
       "      <td>MVCIHTENQNQGGFYPFVLLEISVLHEPPLGHLRYRLTDVPPQPNS...</td>\n",
       "      <td>0</td>\n",
       "    </tr>\n",
       "    <tr>\n",
       "      <th>Q8TGM5</th>\n",
       "      <td>67</td>\n",
       "      <td>Reviewed</td>\n",
       "      <td>MPPGIPRGAMCVQRFDDSRNSAIHITYRISLRSSSMREPRDPLLKV...</td>\n",
       "      <td>0</td>\n",
       "    </tr>\n",
       "    <tr>\n",
       "      <th>P53244</th>\n",
       "      <td>586</td>\n",
       "      <td>Reviewed</td>\n",
       "      <td>MFSLSSLSSSGGHSEQKERERISYFDIRINSPYKDIILIQGSPLEL...</td>\n",
       "      <td>3</td>\n",
       "    </tr>\n",
       "    <tr>\n",
       "      <th>Q06541</th>\n",
       "      <td>321</td>\n",
       "      <td>Reviewed</td>\n",
       "      <td>MICITCMRPVDSLYTVYSNDHIQLTDCPYCQETVDKYVEIDNVLLF...</td>\n",
       "      <td>9</td>\n",
       "    </tr>\n",
       "    <tr>\n",
       "      <th>Q03862</th>\n",
       "      <td>593</td>\n",
       "      <td>Reviewed</td>\n",
       "      <td>MALAISHEDTQILLKDKNILQESVLNKYRTAGQIAQTALKYVTSLI...</td>\n",
       "      <td>6</td>\n",
       "    </tr>\n",
       "    <tr>\n",
       "      <th>Q06822</th>\n",
       "      <td>443</td>\n",
       "      <td>Reviewed</td>\n",
       "      <td>MRGFSNEIILKRTLTLSDFTLRYHKRGITALQVIKAPSVSNVPVLL...</td>\n",
       "      <td>6</td>\n",
       "    </tr>\n",
       "    <tr>\n",
       "      <th>P50275</th>\n",
       "      <td>885</td>\n",
       "      <td>Reviewed</td>\n",
       "      <td>METATSSPLPIKSRRNSENSGSTTVIPHMNPSLATPLTVSTMVNQS...</td>\n",
       "      <td>4</td>\n",
       "    </tr>\n",
       "    <tr>\n",
       "      <th>P32447</th>\n",
       "      <td>279</td>\n",
       "      <td>Reviewed</td>\n",
       "      <td>MSIVSLLGIKVLNNPAKFTDPYEFEITFECLESLKHDLEWKLTYVG...</td>\n",
       "      <td>2</td>\n",
       "    </tr>\n",
       "    <tr>\n",
       "      <th>P46993</th>\n",
       "      <td>209</td>\n",
       "      <td>Reviewed</td>\n",
       "      <td>MTTLASSIEHKTKHLAAPFENDENPWMKKYCCQCKSCKMSVPVQPW...</td>\n",
       "      <td>7</td>\n",
       "    </tr>\n",
       "    <tr>\n",
       "      <th>P40467</th>\n",
       "      <td>964</td>\n",
       "      <td>Reviewed</td>\n",
       "      <td>MPEQAQQGEQSVKRRRVTRACDECRKKKVKCDGQQPCIHCTVYSYE...</td>\n",
       "      <td>3</td>\n",
       "    </tr>\n",
       "    <tr>\n",
       "      <th>P32448</th>\n",
       "      <td>525</td>\n",
       "      <td>Reviewed</td>\n",
       "      <td>MPKNRGVLDAITRSVIDGSDQESSSSFNSDKEYAAVTKGLSSSRVQ...</td>\n",
       "      <td>0</td>\n",
       "    </tr>\n",
       "    <tr>\n",
       "      <th>P34233</th>\n",
       "      <td>588</td>\n",
       "      <td>Reviewed</td>\n",
       "      <td>MSSLYIKTPLHALSAGPDSHANSSYYDNLLLPSFSNLSSNISRNNI...</td>\n",
       "      <td>5</td>\n",
       "    </tr>\n",
       "    <tr>\n",
       "      <th>P53895</th>\n",
       "      <td>289</td>\n",
       "      <td>Reviewed</td>\n",
       "      <td>MARPQNHRRSNWTERDDNDDYLFQRFLEESETRHSREPSPVTEQSQ...</td>\n",
       "      <td>3</td>\n",
       "    </tr>\n",
       "    <tr>\n",
       "      <th>A0A0B7P221</th>\n",
       "      <td>28</td>\n",
       "      <td>Unreviewed</td>\n",
       "      <td>MIRQKIFVFIVKSRRNSICPAIRRKEDY</td>\n",
       "      <td>0</td>\n",
       "    </tr>\n",
       "    <tr>\n",
       "      <th>A0A0B7P1T6</th>\n",
       "      <td>108</td>\n",
       "      <td>Unreviewed</td>\n",
       "      <td>MKEVTKMLYCALLVTKVIYQMKGKSQPKRERKKQNYWVLKSLWKRP...</td>\n",
       "      <td>3</td>\n",
       "    </tr>\n",
       "  </tbody>\n",
       "</table>\n",
       "<p>241 rows × 4 columns</p>\n",
       "</div>"
      ],
      "text/plain": [
       "               n         rev  \\\n",
       "ac                             \n",
       "P38903       757    Reviewed   \n",
       "P31383       635    Reviewed   \n",
       "Q00362       526    Reviewed   \n",
       "P47177       404    Reviewed   \n",
       "P47096       177    Reviewed   \n",
       "P40433       827    Reviewed   \n",
       "Q12471       397    Reviewed   \n",
       "P38720       489    Reviewed   \n",
       "P53319       492    Reviewed   \n",
       "P47182       288    Reviewed   \n",
       "Q08361       143    Reviewed   \n",
       "P42884       376    Reviewed   \n",
       "P43546       152    Reviewed   \n",
       "P25612       363    Reviewed   \n",
       "Q07747       329    Reviewed   \n",
       "P43547       212    Reviewed   \n",
       "P12904       322    Reviewed   \n",
       "P37898       856    Reviewed   \n",
       "P08521        25    Reviewed   \n",
       "P32357       355    Reviewed   \n",
       "P23542       418    Reviewed   \n",
       "Q01802       451    Reviewed   \n",
       "Q08641       628    Reviewed   \n",
       "Q02486       183    Reviewed   \n",
       "P14164       731    Reviewed   \n",
       "P47146       123    Reviewed   \n",
       "P15891       592    Reviewed   \n",
       "P39970       489    Reviewed   \n",
       "P40535       587    Reviewed   \n",
       "Q00955      2233    Reviewed   \n",
       "...          ...         ...   \n",
       "P47117       449    Reviewed   \n",
       "P80428       489    Reviewed   \n",
       "Q12509       438    Reviewed   \n",
       "P53946       755    Reviewed   \n",
       "Q12406       477    Reviewed   \n",
       "Q12386       881    Reviewed   \n",
       "Q05123       467    Reviewed   \n",
       "P38328       384    Reviewed   \n",
       "P53731       342    Reviewed   \n",
       "Q05933       178    Reviewed   \n",
       "P33204       171    Reviewed   \n",
       "P40518       154    Reviewed   \n",
       "Q06597       130    Reviewed   \n",
       "Q06598       404    Reviewed   \n",
       "P18634       518    Reviewed   \n",
       "Q8TGM7        61    Reviewed   \n",
       "Q8TGM5        67    Reviewed   \n",
       "P53244       586    Reviewed   \n",
       "Q06541       321    Reviewed   \n",
       "Q03862       593    Reviewed   \n",
       "Q06822       443    Reviewed   \n",
       "P50275       885    Reviewed   \n",
       "P32447       279    Reviewed   \n",
       "P46993       209    Reviewed   \n",
       "P40467       964    Reviewed   \n",
       "P32448       525    Reviewed   \n",
       "P34233       588    Reviewed   \n",
       "P53895       289    Reviewed   \n",
       "A0A0B7P221    28  Unreviewed   \n",
       "A0A0B7P1T6   108  Unreviewed   \n",
       "\n",
       "                                                          seq   W  \n",
       "ac                                                                 \n",
       "P38903      MMRGFKQRLIKKTTGSSSSSSSKKKDKEKEKEKSSTTSSTSKKPAS...   5  \n",
       "P31383      MSGARSTTAGAVPSAATTSTTSTTSNSKDSDSNESLYPLALLMDEL...   7  \n",
       "Q00362      MAQNNFDFKFSQCFGDKADIVVTEADLITAVEFDYTGNYLATGDKG...   6  \n",
       "P47177      MYFLNQLIFQDVSVMSVDKREDMSRSFQKCLNLRYPIIQAPMAGVT...   1  \n",
       "P47096      MFNTTPINIDKWLKENEGLLKPPVNNYCLHKGGFTVMIVGGPNERT...   3  \n",
       "P40433      MFKPVDFSETSPVPPDIDLAPTQSPHHVAPSQDSSYDLLSRSSDDK...   6  \n",
       "Q12471      MGGSSDSDSHDGYLTSEYNSSNSLFSLNTGNSYSSASLDRATLDCQ...   0  \n",
       "P38720      MSADFGLIGLAVMGQNLILNAADHGFTVCAYNRTQSKVDHFLANEA...   8  \n",
       "P53319      MSKAVGDLGLVGLAVMGQNLILNAADHGFTVVAYNRTQSKVDRFLA...   8  \n",
       "P47182      MASRKLRDQIVIATKFTTDYKGYDVGKGKSANFCGNHKRSLHVSVR...   6  \n",
       "Q08361      MARHFGMALAPWDVMGGGRFQSKKAMEERRKNGECIRSFVGASEQT...   1  \n",
       "P42884      MTDLFKPLPEPPTELGRLRVLSKTAGIRVSPLILGGASIGDAWSGF...   9  \n",
       "P43546      MARHFGMALAPWDVMGGGRFQSKKAMEERRKNGEGIRSFVGASEQT...   1  \n",
       "P25612      MIGSASDSSSKLGRLRFLSETAAIKVSPLILGEVSYDGARSDFLKS...   8  \n",
       "Q07747      MGSMNKEQAFELLDAFYEAGGNCIDTANSYQNEESEIWIGEWMKSR...   8  \n",
       "P43547      MADLFAPAPEPSTELGRLRVLSKSAGIRVSPLILGGMSIGDAWSEI...   7  \n",
       "P12904      MKPTQDSQEKVSIEQQLAVESIRKFLNSKTSYDVLPVSYRLIVLDT...   1  \n",
       "P37898      MSREVLPNNVTPLHYDITLEPNFRAFTFEGSLKIDLQINDHSINSV...  21  \n",
       "P08521                              MFSLSNSQYTCQDYISDHIWKTSSH   1  \n",
       "P32357      MNTVPFTSAPIEVTIGIDQYSFNVKENQPFHGIKDIPIGHVHVIHF...   4  \n",
       "P23542      MSATLFNNIELLPPDALFGIKQRYGQDQRATKVDLGIGAYRDDNGK...   6  \n",
       "Q01802      MLRTRLTNCSLWRPYYTSSLSRVPRAPPDKVLGLSEHFKKVKNVNK...   9  \n",
       "Q08641      MGVADLIKKFESISKEEGDATVDTNSSSKPLKSNDETKELHQQEST...   8  \n",
       "Q02486      MNSYSLLTRSFHESSKPLFNLASTLLKASKRTQLRNELIKQGPKRP...   2  \n",
       "P14164      MDKLVVNYYEYKHPIINKDLAIGAHGGKKFPTLGAWYDVINEYEFQ...   2  \n",
       "P47146      MSWRYSILTVDGSFKIFIPWEIFLTWNFLSAAWLNSTESNTYIHYS...   6  \n",
       "P15891      MALEPIDYTTHSREIDAEYLKIVRGSDPDTTWLIISPNAKKEYEPE...   8  \n",
       "P39970      MDYKHNFATSPDSFLDGRQNPLLYTDFLSSNKELIYKQPSGPGLVD...   2  \n",
       "P40535      MFTGQEYHSVDSNSNKQKDNNKRGIDDTSKILNNKIPHSVSDTSAA...   1  \n",
       "Q00955      MSEESLFESSPQKMEYEITNYSERHTELPGHFIGLNTVDKLEESPL...  24  \n",
       "...                                                       ...  ..  \n",
       "P47117      MSYLNNPAVVMDNGTGLTKLGFAGNDSPSWVFPTAIATAAPSNTKK...   5  \n",
       "P80428      MSNAALQVYGGDEVSAVVIDPGSYTTNIGYSGSDFPQSILPSVYGK...   9  \n",
       "Q12509      METPPIVIDNGSYEIKFGPSTNKKPFRALNALAKDKFGTSYLSNHI...   7  \n",
       "P53946      MSSRDASLTPLKAVVIDDPPLRQTPEPFDEQSAYNPQSPIAIDFGS...   8  \n",
       "Q12406      MTLNRKCVVIHNGSHRTVAGFSNVELPQCIIPSSYIKRTDEGGEAE...   7  \n",
       "Q12386      MSQEEAESSIIYEEPIDIPLEDDDDEDELEEENSVPLSSQADQENA...   8  \n",
       "Q05123      MAPFRQDSILIIYPRSQTTLVQFGLNEETFTVPELEIPTQIYRTTR...   6  \n",
       "P38328      MSFSNSKDKSVVAVYKLVKAPIYSHCFSQDKSILAVTCETDCLVYR...  10  \n",
       "P53731      MLHLQPQNLLIQKTLNEAIEALRKGSPLTMDRIVSDFDYTTYHISN...   1  \n",
       "Q05933      MPAYHSTFPVDPNTDRMVGNFALLPLNTKFRGPAYPSNSDYDIIDE...   1  \n",
       "P33204      MSQSLRPYLTAVRYSLEAALTLSNFSSQEVERHNRPEVEVPNTSAE...   0  \n",
       "P40518      MEADWRRIDIDAFDPESGRLTAADLVPPYETTVTLQELQPRMNQLR...   2  \n",
       "Q06597      MVSFITSRQLKGLIENQRKDFQVVDLRREDFARDHITNAWHVPVTA...   2  \n",
       "Q06598      MSEDQKSENSVPSKVNMVNRTDILTTIKSLSWLDLMLPFTIILSII...   9  \n",
       "P18634      MAPKISISLNPPYNGEFYSSNDQMSGIVSLQLTKALSIRKISVILK...   4  \n",
       "Q8TGM7      MVCIHTENQNQGGFYPFVLLEISVLHEPPLGHLRYRLTDVPPQPNS...   0  \n",
       "Q8TGM5      MPPGIPRGAMCVQRFDDSRNSAIHITYRISLRSSSMREPRDPLLKV...   0  \n",
       "P53244      MFSLSSLSSSGGHSEQKERERISYFDIRINSPYKDIILIQGSPLEL...   3  \n",
       "Q06541      MICITCMRPVDSLYTVYSNDHIQLTDCPYCQETVDKYVEIDNVLLF...   9  \n",
       "Q03862      MALAISHEDTQILLKDKNILQESVLNKYRTAGQIAQTALKYVTSLI...   6  \n",
       "Q06822      MRGFSNEIILKRTLTLSDFTLRYHKRGITALQVIKAPSVSNVPVLL...   6  \n",
       "P50275      METATSSPLPIKSRRNSENSGSTTVIPHMNPSLATPLTVSTMVNQS...   4  \n",
       "P32447      MSIVSLLGIKVLNNPAKFTDPYEFEITFECLESLKHDLEWKLTYVG...   2  \n",
       "P46993      MTTLASSIEHKTKHLAAPFENDENPWMKKYCCQCKSCKMSVPVQPW...   7  \n",
       "P40467      MPEQAQQGEQSVKRRRVTRACDECRKKKVKCDGQQPCIHCTVYSYE...   3  \n",
       "P32448      MPKNRGVLDAITRSVIDGSDQESSSSFNSDKEYAAVTKGLSSSRVQ...   0  \n",
       "P34233      MSSLYIKTPLHALSAGPDSHANSSYYDNLLLPSFSNLSSNISRNNI...   5  \n",
       "P53895      MARPQNHRRSNWTERDDNDDYLFQRFLEESETRHSREPSPVTEQSQ...   3  \n",
       "A0A0B7P221                       MIRQKIFVFIVKSRRNSICPAIRRKEDY   0  \n",
       "A0A0B7P1T6  MKEVTKMLYCALLVTKVIYQMKGKSQPKRERKKQNYWVLKSLWKRP...   3  \n",
       "\n",
       "[241 rows x 4 columns]"
      ]
     },
     "execution_count": 31,
     "metadata": {},
     "output_type": "execute_result"
    }
   ],
   "source": [
    "prots['W'] = numW\n",
    "prots"
   ]
  },
  {
   "cell_type": "markdown",
   "metadata": {
    "slideshow": {
     "slide_type": "slide"
    }
   },
   "source": [
    "As `DataFrame`s também têm funções descritivas, mas o facto de cada coluna ser uma Série podemos realizar muitas análises de uma forma simples."
   ]
  },
  {
   "cell_type": "code",
   "execution_count": 32,
   "metadata": {
    "collapsed": false
   },
   "outputs": [
    {
     "name": "stdout",
     "output_type": "stream",
     "text": [
      "<class 'pandas.core.frame.DataFrame'>\n",
      "Index: 241 entries, P38903 to A0A0B7P1T6\n",
      "Data columns (total 4 columns):\n",
      "n      241 non-null int64\n",
      "rev    241 non-null object\n",
      "seq    241 non-null object\n",
      "W      241 non-null int64\n",
      "dtypes: int64(2), object(2)\n",
      "memory usage: 9.4+ KB\n",
      "None\n"
     ]
    }
   ],
   "source": [
    "print prots.info()"
   ]
  },
  {
   "cell_type": "code",
   "execution_count": 33,
   "metadata": {
    "collapsed": false,
    "slideshow": {
     "slide_type": "slide"
    }
   },
   "outputs": [
    {
     "name": "stdout",
     "output_type": "stream",
     "text": [
      "count    241.000000\n",
      "mean       4.954357\n",
      "std        4.304309\n",
      "min        0.000000\n",
      "25%        2.000000\n",
      "50%        4.000000\n",
      "75%        7.000000\n",
      "max       24.000000\n",
      "Name: W, dtype: float64\n"
     ]
    }
   ],
   "source": [
    "print prots['W'].describe()"
   ]
  },
  {
   "cell_type": "code",
   "execution_count": 34,
   "metadata": {
    "collapsed": false,
    "slideshow": {
     "slide_type": "slide"
    }
   },
   "outputs": [
    {
     "name": "stdout",
     "output_type": "stream",
     "text": [
      "Reviewed      239\n",
      "Unreviewed      2\n",
      "Name: rev, dtype: int64\n"
     ]
    }
   ],
   "source": [
    "print prots['rev'].value_counts()"
   ]
  },
  {
   "cell_type": "code",
   "execution_count": 35,
   "metadata": {
    "collapsed": true,
    "slideshow": {
     "slide_type": "slide"
    }
   },
   "outputs": [],
   "source": [
    "# só no IPython/Jupyter notebook\n",
    "%matplotlib inline"
   ]
  },
  {
   "cell_type": "code",
   "execution_count": 36,
   "metadata": {
    "collapsed": false
   },
   "outputs": [
    {
     "data": {
      "image/png": "[encoded data removed]",
      "text/plain": [
       "<matplotlib.figure.Figure at 0x8154828>"
      ]
     },
     "metadata": {},
     "output_type": "display_data"
    }
   ],
   "source": [
    "import matplotlib.pyplot as pl\n",
    "p = prots['n'].plot(kind='hist', alpha=0.5, bins=50)\n",
    "p.set_ylabel('Proteins')\n",
    "x = p.set_xlabel('Length (aa)')"
   ]
  }
 ],
 "metadata": {
  "kernelspec": {
   "display_name": "Python 2",
   "language": "python",
   "name": "python2"
  },
  "language_info": {
   "codemirror_mode": {
    "name": "ipython",
    "version": 2
   },
   "file_extension": ".py",
   "mimetype": "text/x-python",
   "name": "python",
   "nbconvert_exporter": "python",
   "pygments_lexer": "ipython2",
   "version": "2.7.11"
  }
 },
 "nbformat": 4,
 "nbformat_minor": 0
}
