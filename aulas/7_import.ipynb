{
 "cells": [
  {
   "cell_type": "markdown",
   "metadata": {
    "slideshow": {
     "slide_type": "slide"
    }
   },
   "source": [
    "# Módulos e `import`"
   ]
  },
  {
   "cell_type": "markdown",
   "metadata": {
    "slideshow": {
     "slide_type": "slide"
    }
   },
   "source": [
    "## Introdução"
   ]
  },
  {
   "cell_type": "markdown",
   "metadata": {},
   "source": [
    "Como vimos, muitas funções estão imediatamente disponíveis quando começamos a escrever um programa.\n",
    "\n",
    "Estas funções podem ser \"livres\" (por exemplo a função `len()`) ou associadas a objetos (por exemplo, `s.split()` que está associada à _string_ `s`)."
   ]
  },
  {
   "cell_type": "markdown",
   "metadata": {
    "slideshow": {
     "slide_type": "slide"
    }
   },
   "source": [
    "A linguagem Python permite a organização dos programas em **módulos**.\n",
    "\n",
    "Módulos são **ficheiros .py** (ou ficheiros pré-compilados) que contêm coleções de funções úteis e relacionadas entre si, podendo também conter alguns outros objetos que não são funções, mas que contêm informação de suporte."
   ]
  },
  {
   "cell_type": "markdown",
   "metadata": {
    "slideshow": {
     "slide_type": "skip"
    }
   },
   "source": [
    "Os módulos são também essenciais no aumento da funcionalidade da própria linguagem python: com a distribuição oficial do Python e em algumas distribuições de \"Python científico\" são tipicamente disponibilizados **centenas de módulos**, em que cada módulo reúne a funcionalidade adicional relacionada com um propósito particular.\n",
    "\n",
    "Por exemplo, o módulo `math` reúne funções associadas a cálculos matemáticos (e as constantes $\\pi$ e _e_).\n",
    "\n",
    "O módulo `time` reúne funções e constantes relacionadas com a utilização da data e hora.\n",
    "\n",
    "A documentação sobre a coleção de módulos que são são disponibilizados em qualquer distribuição da linguagem Python (a chamada *Biblioteca padrão* (em inglês *Standard Library*) pode ser encontrada na [documentação oficial](https://docs.python.org/3/library/)"
   ]
  },
  {
   "cell_type": "markdown",
   "metadata": {
    "slideshow": {
     "slide_type": "skip"
    }
   },
   "source": [
    "Por outro lado, quem escreve módulos novos pode submetê-los ao Python Package Index, conhecido como [PyPi](https://pypi.python.org/pypi). Trata-se de um imenso depósito de módulos com contribuições de milhares de autores e em permanente crescimento."
   ]
  },
  {
   "cell_type": "markdown",
   "metadata": {
    "slideshow": {
     "slide_type": "slide"
    }
   },
   "source": [
    "## Exemplo de um módulo e `import`"
   ]
  },
  {
   "cell_type": "code",
   "execution_count": 1,
   "metadata": {
    "collapsed": false,
    "slideshow": {
     "slide_type": "slide"
    }
   },
   "outputs": [
    {
     "name": "stdout",
     "output_type": "stream",
     "text": [
      "Header:\n",
      ">sp|P38715|GRE3_YEAST NADPH-dependent aldose reductase GRE3 OS=Saccharomyces cerevisiae (strain ATCC 204508 / S288c) GN=GRE3 PE=1 SV=1\n",
      "\n",
      "Sequence:\n",
      "MSSLVTLNNGLKMPLVGLGCWKIDKKVCANQIYEAIKLGYRLFDGACDYGNEKEVGEGIRKAISEGLVSRKDIFVVSKLWNNFHHPDHVKLALKKTLSDMGLDYLDLYYIHFPIAFKYVPFEEKYPPGFYTGADDEKKGHITEAHVPIIDTYRALEECVDEGLIKSIGVSNFQGSLIQDLLRGCRIKPVALQIEHHPYLTQEHLVEFCKLHDIQVVAYSSFGPQSFIEMDLQLAKTTPTLFENDVIKKVSQNHPGSTTSQVLLRWATQRGIAVIPKSSKKERLLGNLEIEKKFTLTEQELKDISALNANIRFNDPWTWLDGKFPTFA\n"
     ]
    }
   ],
   "source": [
    "def readFASTA(filename):\n",
    "    \"\"\"This function reads a FASTA format file and\n",
    "    returns a pair of strings\n",
    "    with the header and the sequence\n",
    "    \"\"\"\n",
    "    with open(filename) as a:\n",
    "        lines = [line.strip() for line in a]\n",
    "    lines = [line for line in lines if len(line) > 0]\n",
    "    \n",
    "    if lines[0].startswith('>'):\n",
    "        return lines[0], ''.join(lines[1:])\n",
    "    else:\n",
    "        return '', ''.join(lines)\n",
    "\n",
    "h, s = readFASTA(\"gre3.txt\")\n",
    "\n",
    "print('Header:\\n{}\\n\\nSequence:\\n{}'.format(h, s))"
   ]
  },
  {
   "cell_type": "markdown",
   "metadata": {
    "slideshow": {
     "slide_type": "slide"
    }
   },
   "source": [
    "Vamos supor que esta seria a primeira de **uma coleção de funções relacionadas com o processamento de ficheiros de texto contendo sequências usados em bioinformática** (uma sequência em FASTA é apenas um exemplo).\n",
    "\n",
    "Podemos criar um ficheiro **biosequences.py** contendo essa função:\n",
    "\n",
    "![](images/biosequences1.png)\n"
   ]
  },
  {
   "cell_type": "markdown",
   "metadata": {
    "slideshow": {
     "slide_type": "slide"
    }
   },
   "source": [
    "Este ficheiro constitui um módulo que pode ser usado num programa.\n",
    "\n",
    "Para isso, é necessário usar o comando `import`:"
   ]
  },
  {
   "cell_type": "code",
   "execution_count": 2,
   "metadata": {
    "collapsed": false,
    "slideshow": {
     "slide_type": "-"
    }
   },
   "outputs": [
    {
     "name": "stdout",
     "output_type": "stream",
     "text": [
      "Header:\n",
      ">sp|P38715|GRE3_YEAST NADPH-dependent aldose reductase GRE3 OS=Saccharomyces cerevisiae (strain ATCC 204508 / S288c) GN=GRE3 PE=1 SV=1\n",
      "\n",
      "Sequence:\n",
      "MSSLVTLNNGLKMPLVGLGCWKIDKKVCANQIYEAIKLGYRLFDGACDYGNEKEVGEGIRKAISEGLVSRKDIFVVSKLWNNFHHPDHVKLALKKTLSDMGLDYLDLYYIHFPIAFKYVPFEEKYPPGFYTGADDEKKGHITEAHVPIIDTYRALEECVDEGLIKSIGVSNFQGSLIQDLLRGCRIKPVALQIEHHPYLTQEHLVEFCKLHDIQVVAYSSFGPQSFIEMDLQLAKTTPTLFENDVIKKVSQNHPGSTTSQVLLRWATQRGIAVIPKSSKKERLLGNLEIEKKFTLTEQELKDISALNANIRFNDPWTWLDGKFPTFA\n"
     ]
    }
   ],
   "source": [
    "import biosequences\n",
    "\n",
    "h, s = biosequences.readFASTA(\"gre3.txt\")\n",
    "\n",
    "print('Header:\\n{}\\n\\nSequence:\\n{}'.format(h, s))"
   ]
  },
  {
   "cell_type": "markdown",
   "metadata": {
    "slideshow": {
     "slide_type": "slide"
    }
   },
   "source": [
    "Há mais duas maneiras de utilizar o comando `import`:"
   ]
  },
  {
   "cell_type": "code",
   "execution_count": 3,
   "metadata": {
    "collapsed": false,
    "slideshow": {
     "slide_type": "slide"
    }
   },
   "outputs": [
    {
     "name": "stdout",
     "output_type": "stream",
     "text": [
      "Header:\n",
      ">sp|P38715|GRE3_YEAST NADPH-dependent aldose reductase GRE3 OS=Saccharomyces cerevisiae (strain ATCC 204508 / S288c) GN=GRE3 PE=1 SV=1\n",
      "\n",
      "Sequence:\n",
      "MSSLVTLNNGLKMPLVGLGCWKIDKKVCANQIYEAIKLGYRLFDGACDYGNEKEVGEGIRKAISEGLVSRKDIFVVSKLWNNFHHPDHVKLALKKTLSDMGLDYLDLYYIHFPIAFKYVPFEEKYPPGFYTGADDEKKGHITEAHVPIIDTYRALEECVDEGLIKSIGVSNFQGSLIQDLLRGCRIKPVALQIEHHPYLTQEHLVEFCKLHDIQVVAYSSFGPQSFIEMDLQLAKTTPTLFENDVIKKVSQNHPGSTTSQVLLRWATQRGIAVIPKSSKKERLLGNLEIEKKFTLTEQELKDISALNANIRFNDPWTWLDGKFPTFA\n"
     ]
    }
   ],
   "source": [
    "from biosequences import readFASTA\n",
    "\n",
    "h, s = readFASTA(\"gre3.txt\")\n",
    "\n",
    "print('Header:\\n{}\\n\\nSequence:\\n{}'.format(h, s))"
   ]
  },
  {
   "cell_type": "code",
   "execution_count": 4,
   "metadata": {
    "collapsed": false,
    "slideshow": {
     "slide_type": "slide"
    }
   },
   "outputs": [
    {
     "name": "stdout",
     "output_type": "stream",
     "text": [
      "Header:\n",
      ">sp|P38715|GRE3_YEAST NADPH-dependent aldose reductase GRE3 OS=Saccharomyces cerevisiae (strain ATCC 204508 / S288c) GN=GRE3 PE=1 SV=1\n",
      "\n",
      "Sequence:\n",
      "MSSLVTLNNGLKMPLVGLGCWKIDKKVCANQIYEAIKLGYRLFDGACDYGNEKEVGEGIRKAISEGLVSRKDIFVVSKLWNNFHHPDHVKLALKKTLSDMGLDYLDLYYIHFPIAFKYVPFEEKYPPGFYTGADDEKKGHITEAHVPIIDTYRALEECVDEGLIKSIGVSNFQGSLIQDLLRGCRIKPVALQIEHHPYLTQEHLVEFCKLHDIQVVAYSSFGPQSFIEMDLQLAKTTPTLFENDVIKKVSQNHPGSTTSQVLLRWATQRGIAVIPKSSKKERLLGNLEIEKKFTLTEQELKDISALNANIRFNDPWTWLDGKFPTFA\n"
     ]
    }
   ],
   "source": [
    "from biosequences import *\n",
    "\n",
    "h, s = readFASTA(\"gre3.txt\")\n",
    "\n",
    "print('Header:\\n{}\\n\\nSequence:\\n{}'.format(h, s))"
   ]
  },
  {
   "cell_type": "markdown",
   "metadata": {
    "slideshow": {
     "slide_type": "slide"
    }
   },
   "source": [
    "Esta última maneira é desaconselhada: um módulo pode conter centenas de funções e, por isso, podem ser importados centenas de novos _nomes_ para um programa, que podem **entrar em conflito** com outros nomes iguais utilizados no programa."
   ]
  },
  {
   "cell_type": "markdown",
   "metadata": {
    "slideshow": {
     "slide_type": "slide"
    }
   },
   "source": [
    "Um módulo pode conter outros objetos para além de funções.\n",
    "\n",
    "A pensar em algumas operações que poderiam ser realizadas com sequências biológicas, o ficheiro **biosequences.py** poderia ser **ampliado** com as seguintes atribuições:\n",
    "\n",
    "```\n",
    ".....\n",
    "\n",
    "basesDNA = 'ATGC'\n",
    "basesRNA = 'AUGC'\n",
    "\n",
    "aa_residues   = \"ACDEFGHIKLMNPQRSTVWY\"\n",
    "\n",
    "complement = { 'A':'T', 'T':'A', 'G':'C', 'C':'G'}\n",
    "complementRNA = { 'A':'U', 'U':'A', 'G':'C', 'C':'G'}\n",
    "\n",
    "gencode = {\n",
    "     'TTT': 'F', 'TTC': 'F', 'TTA': 'L', 'TTG': 'L', 'TCT': 'S',\n",
    "     'TCC': 'S', 'TCA': 'S', 'TCG': 'S', 'TAT': 'Y', 'TAC': 'Y',\n",
    "     'TGT': 'C', 'TGC': 'C', 'TGG': 'W', 'CTT': 'L', 'CTC': 'L',\n",
    "     'CTA': 'L', 'CTG': 'L', 'CCT': 'P', 'CCC': 'P', 'CCA': 'P',\n",
    "     'CCG': 'P', 'CAT': 'H', 'CAC': 'H', 'CAA': 'Q', 'CAG': 'Q',\n",
    "     'CGT': 'R', 'CGC': 'R', 'CGA': 'R', 'CGG': 'R', 'ATT': 'I',\n",
    "     'ATC': 'I', 'ATA': 'I', 'ATG': 'M', 'ACT': 'T', 'ACC': 'T',\n",
    "     'ACA': 'T', 'ACG': 'T', 'AAT': 'N', 'AAC': 'N', 'AAA': 'K',\n",
    "     'AAG': 'K', 'AGT': 'S', 'AGC': 'S', 'AGA': 'R', 'AGG': 'R',\n",
    "     'GTT': 'V', 'GTC': 'V', 'GTA': 'V', 'GTG': 'V', 'GCT': 'A',\n",
    "     'GCC': 'A', 'GCA': 'A', 'GCG': 'A', 'GAT': 'D', 'GAC': 'D',\n",
    "     'GAA': 'E', 'GAG': 'E', 'GGT': 'G', 'GGC': 'G', 'GGA': 'G',\n",
    "     'GGG': 'G', 'TAA': 'STOP', 'TAG': 'STOP', 'TGA': 'STOP'}\n",
    "\n",
    "```"
   ]
  },
  {
   "cell_type": "markdown",
   "metadata": {
    "slideshow": {
     "slide_type": "slide"
    }
   },
   "source": [
    "**Problema**: qual a sequência da proteína codificada por `AGCTGGATCCTGAACGATGCATAAGCATAGCCATAGACTAGCATGGGACTAAAGGTCCATTACTGA`"
   ]
  },
  {
   "cell_type": "markdown",
   "metadata": {
    "slideshow": {
     "slide_type": "slide"
    }
   },
   "source": [
    "Sabemos que o módulo `biosequences` tem um dicionário chamado `gencode`."
   ]
  },
  {
   "cell_type": "code",
   "execution_count": 5,
   "metadata": {
    "collapsed": false
   },
   "outputs": [
    {
     "name": "stdout",
     "output_type": "stream",
     "text": [
      "AGCTGGATCCTGAACGATGCATAAGCATAGCCATAGACTAGCATGGGACTAAAGGTCCATTACTGA\n",
      "SWILNDA\n"
     ]
    }
   ],
   "source": [
    "from biosequences import gencode\n",
    "\n",
    "def translation(seq):\n",
    "    cods = [seq[i:i+3] for i in range(0, len(seq), 3)]\n",
    "    prot = []\n",
    "    for c in cods:\n",
    "        aa = gencode[c]\n",
    "        if aa == 'STOP':\n",
    "            break\n",
    "        prot.append(aa)\n",
    "    return ''.join(prot)\n",
    "\n",
    "seq = 'AGCTGGATCCTGAACGATGCATAAGCATAGCCATAGACTAGCATGGGACTAAAGGTCCATTACTGA'\n",
    "\n",
    "print(seq)\n",
    "print(translation(seq))"
   ]
  },
  {
   "cell_type": "markdown",
   "metadata": {
    "slideshow": {
     "slide_type": "slide"
    }
   },
   "source": [
    "Claro que a função `translation()` seria uma boa adição ao nosso módulo `biosequences`..."
   ]
  },
  {
   "cell_type": "markdown",
   "metadata": {},
   "source": [
    "O projeto [BioPython](http://biopython.org/wiki/Documentation) foi precisamente criado como uma coleção de funções e objetos que suportam a representação e transformação de sequências biológicas.\n",
    "\n",
    "Hoje é muito mais do que isso, mas a parte central deste pacote de módulos continua a ser a funcionalidade relacionada com sequências biológicas."
   ]
  },
  {
   "cell_type": "markdown",
   "metadata": {
    "slideshow": {
     "slide_type": "slide"
    }
   },
   "source": [
    "Se usarmos a primeira forma do comando `import`, é possível mudar o nome do módulo (para uma forma mais abreviada), um _alias_, da seginte forma:"
   ]
  },
  {
   "cell_type": "code",
   "execution_count": 6,
   "metadata": {
    "collapsed": false
   },
   "outputs": [
    {
     "name": "stdout",
     "output_type": "stream",
     "text": [
      "Header:\n",
      ">sp|P38715|GRE3_YEAST NADPH-dependent aldose reductase GRE3 OS=Saccharomyces cerevisiae (strain ATCC 204508 / S288c) GN=GRE3 PE=1 SV=1\n",
      "\n",
      "Sequence:\n",
      "MSSLVTLNNGLKMPLVGLGCWKIDKKVCANQIYEAIKLGYRLFDGACDYGNEKEVGEGIRKAISEGLVSRKDIFVVSKLWNNFHHPDHVKLALKKTLSDMGLDYLDLYYIHFPIAFKYVPFEEKYPPGFYTGADDEKKGHITEAHVPIIDTYRALEECVDEGLIKSIGVSNFQGSLIQDLLRGCRIKPVALQIEHHPYLTQEHLVEFCKLHDIQVVAYSSFGPQSFIEMDLQLAKTTPTLFENDVIKKVSQNHPGSTTSQVLLRWATQRGIAVIPKSSKKERLLGNLEIEKKFTLTEQELKDISALNANIRFNDPWTWLDGKFPTFA\n"
     ]
    }
   ],
   "source": [
    "import biosequences as bs\n",
    "\n",
    "h, s = bs.readFASTA(\"gre3.txt\")\n",
    "\n",
    "print('Header:\\n{}\\n\\nSequence:\\n{}'.format(h, s))"
   ]
  }
 ],
 "metadata": {
  "anaconda-cloud": {},
  "celltoolbar": "Slideshow",
  "kernelspec": {
   "display_name": "Python [default]",
   "language": "python",
   "name": "python3"
  },
  "language_info": {
   "codemirror_mode": {
    "name": "ipython",
    "version": 3
   },
   "file_extension": ".py",
   "mimetype": "text/x-python",
   "name": "python",
   "nbconvert_exporter": "python",
   "pygments_lexer": "ipython3",
   "version": "3.5.2"
  }
 },
 "nbformat": 4,
 "nbformat_minor": 0
}
