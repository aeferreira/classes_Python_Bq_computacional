{
 "cells": [
  {
   "cell_type": "markdown",
   "metadata": {
    "slideshow": {
     "slide_type": "slide"
    }
   },
   "source": [
    "# Informação obtida por acesso à Internet: (módulo `requests`)."
   ]
  },
  {
   "cell_type": "code",
   "execution_count": null,
   "metadata": {
    "collapsed": false,
    "slideshow": {
     "slide_type": "slide"
    }
   },
   "outputs": [],
   "source": [
    "import requests\n",
    "r = requests.get('http://www.uniprot.org/uniprot/P00924.fasta')\n",
    "print(r.text)"
   ]
  },
  {
   "cell_type": "code",
   "execution_count": null,
   "metadata": {
    "collapsed": false,
    "slideshow": {
     "slide_type": "slide"
    }
   },
   "outputs": [],
   "source": [
    "linhas = r.text.split('\\n')\n",
    "\n",
    "if linhas[0].startswith('>'):\n",
    "    cab = linhas[0]\n",
    "    seq = ''.join(linhas[1:])\n",
    "else:\n",
    "    cab = \"\"\n",
    "    seq = ''.join(linhas)\n",
    "\n",
    "print(\"cabeçalho: \", cab)\n",
    "print(\"sequência:\")\n",
    "print(seq)"
   ]
  },
  {
   "cell_type": "code",
   "execution_count": null,
   "metadata": {
    "collapsed": false,
    "slideshow": {
     "slide_type": "slide"
    }
   },
   "outputs": [],
   "source": [
    "import requests\n",
    "r = requests.get('http://www.uniprot.org/uniprot/P00924.txt')\n",
    "print(r.text)"
   ]
  },
  {
   "cell_type": "markdown",
   "metadata": {
    "slideshow": {
     "slide_type": "slide"
    }
   },
   "source": [
    "**Problema:**\n",
    "\n",
    "- obter a informação relativa à proteína P00924\n",
    "- filtar a linha começada por **SQ**\n",
    "- mostar o numero de aminoácidos e a massa molecular.\n",
    "\n",
    "A informação relativa ao formato desta linha (embora seja evidente olhando para um exemplo) está descrita na [documentação da UniProt](http://web.expasy.org/docs/userman.html#SQ_line)\n",
    "\n",
    "A linha tem o formato\n",
    "\n",
    "`SQ   SEQUENCE XXXX AA; XXXXX MW; XXXXXXXXXXXXXXXX CRC64;`\n"
   ]
  },
  {
   "cell_type": "code",
   "execution_count": null,
   "metadata": {
    "collapsed": false,
    "slideshow": {
     "slide_type": "slide"
    }
   },
   "outputs": [],
   "source": [
    "import requests\n",
    "info = requests.get('http://www.uniprot.org/uniprot/P00924.txt').text\n",
    "\n",
    "linhas = info.split('\\n')\n",
    "\n",
    "sq = ''\n",
    "for i in linhas:\n",
    "    if i.startswith('SQ'):\n",
    "        sq = i\n",
    "\n",
    "print('linha SQ:')\n",
    "print(sq)\n",
    "\n",
    "# SQ   SEQUENCE XXXX AA; XXXXX MW; XXXXXXXXXXXXXXXX CRC64;\n",
    "partes = sq.split()\n",
    "print(partes[2], 'aminoácidos')\n",
    "print(partes[4], 'Da')"
   ]
  },
  {
   "cell_type": "markdown",
   "metadata": {
    "slideshow": {
     "slide_type": "slide"
    }
   },
   "source": [
    "Na [documentação da UniProt](http://web.expasy.org/docs/userman.html#FT_keys), realtiva às linhas começadas por `FT` pode-se ler...\n",
    "\n",
    "\n",
    "```\n",
    "INIT_MET - Initiator methionine.\n",
    "\n",
    "This feature key is associated with a '1' value in the 'FROM' and 'TO' fields to indicate that the initiator methionine has been cleaved off:\n",
    "\n",
    "\n",
    "    FT   INIT_MET      1      1       Removed.\n",
    "\n",
    "It is not used when the initiator methionine is not cleaved off\n",
    "```\n",
    "\n",
    "**Problema:**\n",
    "\n",
    "Para as seguintes proteínas, \n",
    "\n",
    "`Q96UH7, Q8J0N6, Q9URB4, Q9C2U0, P36580, P14540`\n",
    "\n",
    "gerar uma tabela com\n",
    "\n",
    "`AC       AA         MW       init M cleaved`\n"
   ]
  }
 ],
 "metadata": {
  "kernelspec": {
   "display_name": "Python [default]",
   "language": "python",
   "name": "python3"
  },
  "language_info": {
   "codemirror_mode": {
    "name": "ipython",
    "version": 3
   },
   "file_extension": ".py",
   "mimetype": "text/x-python",
   "name": "python",
   "nbconvert_exporter": "python",
   "pygments_lexer": "ipython3",
   "version": "3.5.2"
  }
 },
 "nbformat": 4,
 "nbformat_minor": 0
}
