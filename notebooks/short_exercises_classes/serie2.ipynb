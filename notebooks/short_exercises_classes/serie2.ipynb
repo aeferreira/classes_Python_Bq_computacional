{
 "cells": [
  {
   "cell_type": "markdown",
   "metadata": {},
   "source": [
    "## Bioquímica computacional, TPs\n",
    "\n",
    "### Programação em Python, série 2"
   ]
  },
  {
   "cell_type": "markdown",
   "metadata": {},
   "source": [
    "----\n",
    "#### 1\n",
    "\n",
    "Copie para o princípio de um programa novo a seguinte lista\n",
    "\n",
    "```\n",
    "cods = ['AGC', 'UGG', 'AUC', 'CUG', 'AAC', 'GAU', 'GCA', 'UAC', 'GCA', 'UAG', 'CCA', 'UAG', 'ACU', 'AGC', 'AUG', 'GGA', 'CUA', 'AAG', 'GUC', 'CAU', 'UAC', 'UGA']\n",
    "```\n",
    "\n",
    "Continue o programa de forma a que seja indicado, com `print()`, se existem no conjunto codões STOP (UAA, UAG, UGA) ou codões de iniciação (AUG), usando o operador `in`.\n"
   ]
  },
  {
   "cell_type": "code",
   "execution_count": 1,
   "metadata": {},
   "outputs": [
    {
     "name": "stdout",
     "output_type": "stream",
     "text": [
      "Existe um codão STOP\n",
      "Existe um codão de iniciação\n"
     ]
    }
   ],
   "source": [
    "cods = ['AGC', 'UGG', 'AUC', 'CUG', 'AAC', 'GAU', 'GCA', 'UAC', 'GCA', 'UAG', 'CCA', 'UAG', 'ACU', 'AGC', 'AUG', 'GGA', 'CUA', 'AAG', 'GUC', 'CAU', 'UAC', 'UGA']\n",
    "\n",
    "if 'UAA' in cods or 'UAG' in cods or 'UGA' in cods:\n",
    "    print ('Existe um codão STOP')\n",
    "if 'AUG' in cods:\n",
    "    print('Existe um codão de iniciação')"
   ]
  },
  {
   "cell_type": "markdown",
   "metadata": {},
   "source": [
    "----\n",
    "#### 2\n",
    "\n",
    "Copie para o princípio de um programa novo a mesma lista de codões do problema 1.\n",
    "\n",
    "Continue o programa de forma a que seja apresentado:\n",
    "\n",
    "- O número de codões da lista\n",
    "- O codão na posição 9\n",
    "- O segundo nucleótido do codão na posição 9\n",
    "\n"
   ]
  },
  {
   "cell_type": "code",
   "execution_count": 2,
   "metadata": {},
   "outputs": [
    {
     "name": "stdout",
     "output_type": "stream",
     "text": [
      "O número de nucleótidos é 22\n",
      "O codão na posição 9 é UAG\n",
      "O segundo nucleótido do codão na posição 9 é A\n"
     ]
    }
   ],
   "source": [
    "cods = ['AGC', 'UGG', 'AUC', 'CUG', 'AAC', 'GAU', 'GCA', 'UAC', 'GCA', 'UAG', 'CCA', 'UAG', 'ACU', 'AGC', 'AUG', 'GGA', 'CUA', 'AAG', 'GUC', 'CAU', 'UAC', 'UGA']\n",
    "\n",
    "n = len(cods)\n",
    "c9 = cods[9]\n",
    "b = cods[9][1]\n",
    "\n",
    "print(f'O número de nucleótidos é {n}')\n",
    "print(f'O codão na posição 9 é {c9}')\n",
    "print(f'O segundo nucleótido do codão na posição 9 é {b}')"
   ]
  },
  {
   "cell_type": "markdown",
   "metadata": {},
   "source": [
    "----\n",
    "#### 3\n",
    "\n",
    "Copie para o princípio de um programa novo a seguinte string com uma sequência polipeptídica:\n",
    "\n",
    "`seq = 'ADKHLILTAVGGCWFHVAFWEVEKAGAHKWE'`\n",
    "\n",
    "Continue o programa de forma a que seja indicado, com `print()` :\n",
    "\n",
    "- O comprimento da sequência\n",
    "- O aminoácido na posição 9\n",
    "- Se existe uma valina e uma alanina seguidas na sequência"
   ]
  },
  {
   "cell_type": "code",
   "execution_count": 3,
   "metadata": {},
   "outputs": [
    {
     "name": "stdout",
     "output_type": "stream",
     "text": [
      "O comprimento da sequência é 31\n",
      "O amino-ácido na posição 9 é UAG\n",
      "Existe AV na sequência. nas posições 8 e 9\n"
     ]
    }
   ],
   "source": [
    "seq = 'ADKHLILTAVGGCWFHVAFWEVEKAGAHKWE'\n",
    "\n",
    "n = len(seq)\n",
    "a9 = cods[9]\n",
    "\n",
    "print(f'O comprimento da sequência é {n}')\n",
    "print(f'O amino-ácido na posição 9 é {a9}')\n",
    "\n",
    "if 'AV' in seq:\n",
    "    pos = seq.find('AV')\n",
    "    print(f'Existe AV na sequência. nas posições {pos} e {pos+1}')\n",
    "else:\n",
    "    print(f'Não existe AV na sequência')"
   ]
  },
  {
   "cell_type": "markdown",
   "metadata": {},
   "source": [
    "----\n",
    "#### 4\n",
    "\n",
    "Abra o ficheiro `biodata.py` e copie para um novo programa o dicionário com o código genético.\n",
    "\n",
    "Continue o programa de forma a mostrar, usando esse dicionário:\n",
    "\n",
    "- Quantos codões existem no código genético\n",
    "- Quais os aminoácidos correspondentes a AUA, ACU e GGA\n"
   ]
  },
  {
   "cell_type": "code",
   "execution_count": 4,
   "metadata": {},
   "outputs": [
    {
     "name": "stdout",
     "output_type": "stream",
     "text": [
      "O número de codões no código genético é 64\n",
      "O amino-ácido correspondente a AUA é I\n",
      "O amino-ácido correspondente a ACU é T\n",
      "O amino-ácido correspondente a GGA é G\n"
     ]
    }
   ],
   "source": [
    "gencode = {\n",
    "     'UUU': 'F', 'UUC': 'F', 'UUA': 'L', 'UUG': 'L', 'UCU': 'S',\n",
    "     'UCC': 'S', 'UCA': 'S', 'UCG': 'S', 'UAU': 'Y', 'UAC': 'Y',\n",
    "     'UGU': 'C', 'UGC': 'C', 'UGG': 'W', 'CUU': 'L', 'CUC': 'L',\n",
    "     'CUA': 'L', 'CUG': 'L', 'CCU': 'P', 'CCC': 'P', 'CCA': 'P',\n",
    "     'CCG': 'P', 'CAU': 'H', 'CAC': 'H', 'CAA': 'Q', 'CAG': 'Q',\n",
    "     'CGU': 'R', 'CGC': 'R', 'CGA': 'R', 'CGG': 'R', 'AUU': 'I',\n",
    "     'AUC': 'I', 'AUA': 'I', 'AUG': 'M', 'ACU': 'T', 'ACC': 'T',\n",
    "     'ACA': 'T', 'ACG': 'T', 'AAU': 'N', 'AAC': 'N', 'AAA': 'K',\n",
    "     'AAG': 'K', 'AGU': 'S', 'AGC': 'S', 'AGA': 'R', 'AGG': 'R',\n",
    "     'GUU': 'V', 'GUC': 'V', 'GUA': 'V', 'GUG': 'V', 'GCU': 'A',\n",
    "     'GCC': 'A', 'GCA': 'A', 'GCG': 'A', 'GAU': 'D', 'GAC': 'D',\n",
    "     'GAA': 'E', 'GAG': 'E', 'GGU': 'G', 'GGC': 'G', 'GGA': 'G',\n",
    "     'GGG': 'G', 'UAA': 'STOP', 'UAG': 'STOP', 'UGA': 'STOP'}\n",
    "\n",
    "print(f'O número de codões no código genético é {len(gencode)}')\n",
    "\n",
    "for c in ['AUA', 'ACU', 'GGA']:\n",
    "    a = gencode[c]\n",
    "    print(f'O amino-ácido correspondente a {c} é {a}')"
   ]
  },
  {
   "cell_type": "code",
   "execution_count": 5,
   "metadata": {},
   "outputs": [
    {
     "name": "stdout",
     "output_type": "stream",
     "text": [
      "O número de codões no código genético é 64\n",
      "O amino-ácido correspondente a AUA é I\n",
      "O amino-ácido correspondente a ACU é T\n",
      "O amino-ácido correspondente a GGA é G\n"
     ]
    }
   ],
   "source": [
    "from biodata import gencode\n",
    "\n",
    "print(f'O número de codões no código genético é {len(gencode)}')\n",
    "\n",
    "for c in ['AUA', 'ACU', 'GGA']:\n",
    "    a = gencode[c]\n",
    "    print(f'O amino-ácido correspondente a {c} é {a}')"
   ]
  },
  {
   "cell_type": "markdown",
   "metadata": {},
   "source": [
    "----\n",
    "\n",
    "#### 5\n",
    "\n",
    "Copie para o princípio de um programa novo a lista de codões do problema 1.\n",
    "\n",
    "Continue o programa de forma a que sejam mostrados todos os codões da lista e os aminoácidos que eles codificam, na forma de uma tabela.\n",
    "\n",
    "Pretende-se que o resultado do programa seja:\n",
    "\n",
    "```\n",
    "AGC --> S\n",
    "UGG --> W\n",
    "AUC --> I\n",
    "CUG --> L\n",
    "AAC --> N\n",
    "GAU --> D\n",
    "GCA --> A\n",
    "UAC --> Y\n",
    "...\n",
    "```"
   ]
  },
  {
   "cell_type": "code",
   "execution_count": 6,
   "metadata": {},
   "outputs": [
    {
     "name": "stdout",
     "output_type": "stream",
     "text": [
      "AGC -> S\n",
      "UGG -> W\n",
      "AUC -> I\n",
      "CUG -> L\n",
      "AAC -> N\n",
      "GAU -> D\n",
      "GCA -> A\n",
      "UAC -> Y\n",
      "GCA -> A\n",
      "UAG -> STOP\n",
      "CCA -> P\n",
      "UAG -> STOP\n",
      "ACU -> T\n",
      "AGC -> S\n",
      "AUG -> M\n",
      "GGA -> G\n",
      "CUA -> L\n",
      "AAG -> K\n",
      "GUC -> V\n",
      "CAU -> H\n",
      "UAC -> Y\n",
      "UGA -> STOP\n"
     ]
    }
   ],
   "source": [
    "from biodata import gencode\n",
    "cods = ['AGC', 'UGG', 'AUC', 'CUG', 'AAC', 'GAU', 'GCA', 'UAC', 'GCA', 'UAG', 'CCA', 'UAG', 'ACU', 'AGC', 'AUG', 'GGA', 'CUA', 'AAG', 'GUC', 'CAU', 'UAC', 'UGA']\n",
    "\n",
    "for cod in cods:\n",
    "    a = gencode[cod]\n",
    "    print(f'{cod} -> {a}')"
   ]
  },
  {
   "cell_type": "markdown",
   "metadata": {},
   "source": [
    "----\n",
    "\n",
    "#### 6\n",
    "\n",
    "Copie para o princípio de um programa novo a lista de codões do problema 1.\n",
    "\n",
    "Continue o programa de forma a que sejam mostrados todos os codões da lista que sejam codões STOP."
   ]
  },
  {
   "cell_type": "code",
   "execution_count": 7,
   "metadata": {},
   "outputs": [
    {
     "name": "stdout",
     "output_type": "stream",
     "text": [
      "UAG -> STOP\n",
      "UAG -> STOP\n",
      "UGA -> STOP\n"
     ]
    }
   ],
   "source": [
    "from biodata import gencode\n",
    "cods = ['AGC', 'UGG', 'AUC', 'CUG', 'AAC', 'GAU', 'GCA', 'UAC', 'GCA', 'UAG', 'CCA', 'UAG', 'ACU', 'AGC', 'AUG', 'GGA', 'CUA', 'AAG', 'GUC', 'CAU', 'UAC', 'UGA']\n",
    "\n",
    "for cod in cods:\n",
    "    a = gencode[cod]\n",
    "    if a == 'STOP':\n",
    "        print(f'{cod} -> {a}')"
   ]
  },
  {
   "cell_type": "markdown",
   "metadata": {},
   "source": [
    "----\n",
    "\n",
    "#### 7\n",
    "\n",
    "No princípio de um programa novo crie a seguinte lista\n",
    "\n",
    "`nums = [2, 3.5, 4.0, 6.2, -8, -8.4, -9.0]`\n",
    "\n",
    "continue o programa de forma a que sejam mostrados, com `print()`, os elementos da lista, um a um, mas apenas aqueles que são números inteiros.\n",
    "\n",
    "Sugestão: para um número n ser inteiro, terá de verificar `int(n) == n`.\n"
   ]
  },
  {
   "cell_type": "code",
   "execution_count": 8,
   "metadata": {},
   "outputs": [
    {
     "name": "stdout",
     "output_type": "stream",
     "text": [
      "2 é inteiro\n",
      "4.0 é inteiro\n",
      "-8 é inteiro\n",
      "-9.0 é inteiro\n"
     ]
    }
   ],
   "source": [
    "nums = [2, 3.5, 4.0, 6.2, -8, -8.4, -9.0]\n",
    "\n",
    "for n in nums:\n",
    "    if int(n) == n:\n",
    "        print(f'{n} é inteiro')"
   ]
  },
  {
   "cell_type": "markdown",
   "metadata": {},
   "source": [
    "----\n",
    "\n",
    "#### 8\n",
    "\n",
    "Escreva um programa que apresente, com `print()`, os primeiros 30 quadrados perfeitos.\n"
   ]
  },
  {
   "cell_type": "code",
   "execution_count": 9,
   "metadata": {},
   "outputs": [
    {
     "name": "stdout",
     "output_type": "stream",
     "text": [
      "0**2 = 0\n",
      "1**2 = 1\n",
      "2**2 = 4\n",
      "3**2 = 9\n",
      "4**2 = 16\n",
      "5**2 = 25\n",
      "6**2 = 36\n",
      "7**2 = 49\n",
      "8**2 = 64\n",
      "9**2 = 81\n",
      "10**2 = 100\n",
      "11**2 = 121\n",
      "12**2 = 144\n",
      "13**2 = 169\n",
      "14**2 = 196\n",
      "15**2 = 225\n",
      "16**2 = 256\n",
      "17**2 = 289\n",
      "18**2 = 324\n",
      "19**2 = 361\n",
      "20**2 = 400\n",
      "21**2 = 441\n",
      "22**2 = 484\n",
      "23**2 = 529\n",
      "24**2 = 576\n",
      "25**2 = 625\n",
      "26**2 = 676\n",
      "27**2 = 729\n",
      "28**2 = 784\n",
      "29**2 = 841\n"
     ]
    }
   ],
   "source": [
    "nums = range(30)\n",
    "\n",
    "for n in nums:\n",
    "    q = n**2\n",
    "    print(f'{n}**2 = {q}')"
   ]
  },
  {
   "cell_type": "markdown",
   "metadata": {},
   "source": [
    "----\n",
    "\n",
    "#### 9\n",
    "\n",
    "Escreva um programa que apresente, com `print()`, os primeiros 30 quadrados perfeitos, desde que sejam números ímpares\n"
   ]
  },
  {
   "cell_type": "code",
   "execution_count": 10,
   "metadata": {},
   "outputs": [
    {
     "name": "stdout",
     "output_type": "stream",
     "text": [
      "1**2 = 1\n",
      "3**2 = 9\n",
      "5**2 = 25\n",
      "7**2 = 49\n",
      "9**2 = 81\n",
      "11**2 = 121\n",
      "13**2 = 169\n",
      "15**2 = 225\n",
      "17**2 = 289\n",
      "19**2 = 361\n",
      "21**2 = 441\n",
      "23**2 = 529\n",
      "25**2 = 625\n",
      "27**2 = 729\n",
      "29**2 = 841\n"
     ]
    }
   ],
   "source": [
    "nums = range(30)\n",
    "\n",
    "for n in nums:\n",
    "    if n % 2 == 1:\n",
    "        q = n**2\n",
    "        print(f'{n}**2 = {q}')"
   ]
  },
  {
   "cell_type": "code",
   "execution_count": 11,
   "metadata": {},
   "outputs": [
    {
     "name": "stdout",
     "output_type": "stream",
     "text": [
      "1**2 = 1\n",
      "3**2 = 9\n",
      "5**2 = 25\n",
      "7**2 = 49\n",
      "9**2 = 81\n",
      "11**2 = 121\n",
      "13**2 = 169\n",
      "15**2 = 225\n",
      "17**2 = 289\n",
      "19**2 = 361\n",
      "21**2 = 441\n",
      "23**2 = 529\n",
      "25**2 = 625\n",
      "27**2 = 729\n",
      "29**2 = 841\n"
     ]
    }
   ],
   "source": [
    "nums = range(1, 30, 2)\n",
    "\n",
    "for n in nums:\n",
    "    q = n**2\n",
    "    print(f'{n}**2 = {q}')"
   ]
  },
  {
   "cell_type": "markdown",
   "metadata": {},
   "source": [
    "----\n",
    "\n",
    "#### 10\n",
    "\n",
    "Dada a seguinte sequência polipeptídica numa string, (no princípio de um programa),\n",
    "\n",
    "`seq = 'ADKHLILTAVGGCWFHVAFWEVEKAGAHKWE'`\n",
    "\n",
    "escreva um programa que mostre cada aminoácido, um a um, desde que este seja K ou L.\n",
    "\n"
   ]
  },
  {
   "cell_type": "code",
   "execution_count": 12,
   "metadata": {},
   "outputs": [
    {
     "name": "stdout",
     "output_type": "stream",
     "text": [
      "K\n",
      "L\n",
      "L\n",
      "K\n",
      "K\n"
     ]
    }
   ],
   "source": [
    "seq = 'ADKHLILTAVGGCWFHVAFWEVEKAGAHKWE'\n",
    "\n",
    "for a in seq:\n",
    "    if a in 'KL':\n",
    "        print(a)"
   ]
  },
  {
   "cell_type": "markdown",
   "metadata": {},
   "source": [
    "----\n",
    "\n",
    "#### 11\n",
    "\n",
    "Escreva um programa que apresente as raízes quadradas de todos os numeros inteiros até 1000, desde que essa raíz quadrada seja inferior a 12 e superior a 7.\n"
   ]
  },
  {
   "cell_type": "code",
   "execution_count": 13,
   "metadata": {},
   "outputs": [
    {
     "name": "stdout",
     "output_type": "stream",
     "text": [
      "n     raíz\n",
      "50    7.0710678118654755\n",
      "51    7.14142842854285\n",
      "52    7.211102550927978\n",
      "53    7.280109889280518\n",
      "54    7.3484692283495345\n",
      "55    7.416198487095663\n",
      "56    7.483314773547883\n",
      "57    7.54983443527075\n",
      "58    7.615773105863909\n",
      "59    7.681145747868608\n",
      "60    7.745966692414834\n",
      "61    7.810249675906654\n",
      "62    7.874007874011811\n",
      "63    7.937253933193772\n",
      "64    8.0\n",
      "65    8.06225774829855\n",
      "66    8.12403840463596\n",
      "67    8.18535277187245\n",
      "68    8.246211251235321\n",
      "69    8.306623862918075\n",
      "70    8.366600265340756\n",
      "71    8.426149773176359\n",
      "72    8.48528137423857\n",
      "73    8.54400374531753\n",
      "74    8.602325267042627\n",
      "75    8.660254037844387\n",
      "76    8.717797887081348\n",
      "77    8.774964387392123\n",
      "78    8.831760866327848\n",
      "79    8.888194417315589\n",
      "80    8.94427190999916\n",
      "81    9.0\n",
      "82    9.055385138137417\n",
      "83    9.1104335791443\n",
      "84    9.16515138991168\n",
      "85    9.219544457292887\n",
      "86    9.273618495495704\n",
      "87    9.327379053088816\n",
      "88    9.38083151964686\n",
      "89    9.433981132056603\n",
      "90    9.486832980505138\n",
      "91    9.539392014169456\n",
      "92    9.591663046625438\n",
      "93    9.643650760992955\n",
      "94    9.695359714832659\n",
      "95    9.746794344808963\n",
      "96    9.797958971132712\n",
      "97    9.848857801796104\n",
      "98    9.899494936611665\n",
      "99    9.9498743710662\n",
      "100   10.0\n",
      "101   10.04987562112089\n",
      "102   10.099504938362077\n",
      "103   10.14889156509222\n",
      "104   10.198039027185569\n",
      "105   10.246950765959598\n",
      "106   10.295630140987\n",
      "107   10.344080432788601\n",
      "108   10.392304845413264\n",
      "109   10.44030650891055\n",
      "110   10.488088481701515\n",
      "111   10.535653752852738\n",
      "112   10.583005244258363\n",
      "113   10.63014581273465\n",
      "114   10.677078252031311\n",
      "115   10.723805294763608\n",
      "116   10.770329614269007\n",
      "117   10.816653826391969\n",
      "118   10.862780491200215\n",
      "119   10.908712114635714\n",
      "120   10.954451150103322\n",
      "121   11.0\n",
      "122   11.045361017187261\n",
      "123   11.090536506409418\n",
      "124   11.135528725660043\n",
      "125   11.180339887498949\n",
      "126   11.224972160321824\n",
      "127   11.269427669584644\n",
      "128   11.313708498984761\n",
      "129   11.357816691600547\n",
      "130   11.40175425099138\n",
      "131   11.445523142259598\n",
      "132   11.489125293076057\n",
      "133   11.532562594670797\n",
      "134   11.575836902790225\n",
      "135   11.61895003862225\n",
      "136   11.661903789690601\n",
      "137   11.704699910719626\n",
      "138   11.74734012447073\n",
      "139   11.789826122551595\n",
      "140   11.832159566199232\n",
      "141   11.874342087037917\n",
      "142   11.916375287812984\n",
      "143   11.958260743101398\n"
     ]
    }
   ],
   "source": [
    "nums = range(1001)\n",
    "\n",
    "print('n     raíz')\n",
    "\n",
    "for n in nums:\n",
    "    root = n ** 0.5\n",
    "    if 7 < root and root < 12:\n",
    "        print(f'{n:<5} {root}') # :<5 significa alinhar à esquerda ocupando 5 espaços "
   ]
  },
  {
   "cell_type": "markdown",
   "metadata": {},
   "source": [
    "----\n",
    "\n",
    "#### 12\n",
    "\n",
    "Adapte o programa anterior para que agora sejam somados todos os números inteiros até 1000 com raíz quadrada inferior a 12 e superior a 7.\n"
   ]
  },
  {
   "cell_type": "code",
   "execution_count": 14,
   "metadata": {},
   "outputs": [
    {
     "name": "stdout",
     "output_type": "stream",
     "text": [
      "A soma dos números é 9071\n"
     ]
    }
   ],
   "source": [
    "nums = range(1001)\n",
    "\n",
    "s = 0\n",
    "for n in nums:\n",
    "    root = n ** 0.5\n",
    "    if 7 < root and root < 12:\n",
    "        s = s + n\n",
    "\n",
    "print(f'A soma dos números é {s}') "
   ]
  },
  {
   "cell_type": "code",
   "execution_count": 15,
   "metadata": {},
   "outputs": [
    {
     "name": "stdout",
     "output_type": "stream",
     "text": [
      "A soma dos números é 9071\n"
     ]
    }
   ],
   "source": [
    "nums = range(1001)\n",
    "\n",
    "filtered = []\n",
    "for n in nums:\n",
    "    root = n ** 0.5\n",
    "    if 7 < root and root < 12:\n",
    "        filtered.append(n)\n",
    "\n",
    "print(f'A soma dos números é {sum(filtered)}') "
   ]
  },
  {
   "cell_type": "code",
   "execution_count": 16,
   "metadata": {},
   "outputs": [
    {
     "name": "stdout",
     "output_type": "stream",
     "text": [
      "A soma dos números é 9071\n"
     ]
    }
   ],
   "source": [
    "s = sum([n for n in range(1001) if 7 < n**0.5 < 12])\n",
    "\n",
    "print(f'A soma dos números é {s}') "
   ]
  },
  {
   "cell_type": "markdown",
   "metadata": {},
   "source": [
    "----\n",
    "\n",
    "#### 13\n",
    "\n",
    "Escreva um programa que apresente todos os 64 codões do código genético (sem usar o dcionário com o código genético).\n"
   ]
  },
  {
   "cell_type": "code",
   "execution_count": 17,
   "metadata": {},
   "outputs": [
    {
     "name": "stdout",
     "output_type": "stream",
     "text": [
      "AAA AAU AAC AAG AUA AUU AUC AUG ACA ACU ACC ACG AGA AGU AGC AGG UAA UAU UAC UAG UUA UUU UUC UUG UCA UCU UCC UCG UGA UGU UGC UGG CAA CAU CAC CAG CUA CUU CUC CUG CCA CCU CCC CCG CGA CGU CGC CGG GAA GAU GAC GAG GUA GUU GUC GUG GCA GCU GCC GCG GGA GGU GGC GGG "
     ]
    }
   ],
   "source": [
    "bases = 'AUCG'\n",
    "\n",
    "for b1 in bases:\n",
    "    for b2 in bases:\n",
    "        for b3 in bases:\n",
    "            c = b1 + b2 + b3\n",
    "            print(c, end=' ')"
   ]
  },
  {
   "cell_type": "markdown",
   "metadata": {},
   "source": [
    "----\n",
    "\n",
    "#### 14\n",
    "\n",
    "Escreva um programa que apresente todos os codões possíveis que começam por A e acabam em U ou C.\n"
   ]
  },
  {
   "cell_type": "code",
   "execution_count": 18,
   "metadata": {},
   "outputs": [
    {
     "name": "stdout",
     "output_type": "stream",
     "text": [
      "AAU\n",
      "AAC\n",
      "AUU\n",
      "AUC\n",
      "ACU\n",
      "ACC\n",
      "AGU\n",
      "AGC\n"
     ]
    }
   ],
   "source": [
    "bases = 'AUCG'\n",
    "\n",
    "for b1 in bases:\n",
    "    for b2 in bases:\n",
    "        for b3 in bases:\n",
    "            if b1 == 'A' and b3 in 'UC':  #(b3 == 'U' or b3 == 'C'):\n",
    "                c = b1 + b2 + b3\n",
    "                print(c)"
   ]
  },
  {
   "cell_type": "code",
   "execution_count": 19,
   "metadata": {},
   "outputs": [
    {
     "name": "stdout",
     "output_type": "stream",
     "text": [
      "AAU\n",
      "AAC\n",
      "AUU\n",
      "AUC\n",
      "ACU\n",
      "ACC\n",
      "AGU\n",
      "AGC\n"
     ]
    }
   ],
   "source": [
    "bases = 'AUCG'\n",
    "\n",
    "for b1 in bases:\n",
    "    for b2 in bases:\n",
    "        for b3 in bases:\n",
    "            c = b1 + b2 + b3\n",
    "            if c[0] == 'A' and c[-1] in 'UC':\n",
    "                print(c)"
   ]
  },
  {
   "cell_type": "code",
   "execution_count": 20,
   "metadata": {},
   "outputs": [
    {
     "name": "stdout",
     "output_type": "stream",
     "text": [
      "AAU\n",
      "AAC\n",
      "AUU\n",
      "AUC\n",
      "ACU\n",
      "ACC\n",
      "AGU\n",
      "AGC\n"
     ]
    }
   ],
   "source": [
    "bases = 'AUCG'\n",
    "\n",
    "for b1 in bases:\n",
    "    for b2 in bases:\n",
    "        for b3 in bases:\n",
    "            c = b1 + b2 + b3\n",
    "            if c.startswith('A') and (c.endswith('U') or c.endswith('C')):\n",
    "                print(c)"
   ]
  },
  {
   "cell_type": "code",
   "execution_count": 21,
   "metadata": {},
   "outputs": [
    {
     "name": "stdout",
     "output_type": "stream",
     "text": [
      "AAU\n",
      "AAC\n",
      "AUU\n",
      "AUC\n",
      "ACU\n",
      "ACC\n",
      "AGU\n",
      "AGC\n"
     ]
    }
   ],
   "source": [
    "for b2 in 'AUCG':\n",
    "    for b3 in 'UC':\n",
    "        c = 'A' + b2 + b3\n",
    "        print(c)"
   ]
  },
  {
   "cell_type": "markdown",
   "metadata": {},
   "source": [
    "----\n",
    "\n",
    "#### 15\n",
    "\n",
    "Imagine que no código genético das espécies do planeta Zorg os codões do código genético são quadrupletos de bases A, U, C, G, Z.\n",
    "\n",
    "Escreva um programa que apresente todos os codões do código genético.\n"
   ]
  },
  {
   "cell_type": "code",
   "execution_count": 22,
   "metadata": {},
   "outputs": [
    {
     "name": "stdout",
     "output_type": "stream",
     "text": [
      "AAAA AAAU AAAG AAAC AAAZ AAUA AAUU AAUG AAUC AAUZ AAGA AAGU AAGG AAGC AAGZ AACA AACU AACG AACC AACZ AAZA AAZU AAZG AAZC AAZZ AUAA AUAU AUAG AUAC AUAZ AUUA AUUU AUUG AUUC AUUZ AUGA AUGU AUGG AUGC AUGZ AUCA AUCU AUCG AUCC AUCZ AUZA AUZU AUZG AUZC AUZZ AGAA AGAU AGAG AGAC AGAZ AGUA AGUU AGUG AGUC AGUZ AGGA AGGU AGGG AGGC AGGZ AGCA AGCU AGCG AGCC AGCZ AGZA AGZU AGZG AGZC AGZZ ACAA ACAU ACAG ACAC ACAZ ACUA ACUU ACUG ACUC ACUZ ACGA ACGU ACGG ACGC ACGZ ACCA ACCU ACCG ACCC ACCZ ACZA ACZU ACZG ACZC ACZZ AZAA AZAU AZAG AZAC AZAZ AZUA AZUU AZUG AZUC AZUZ AZGA AZGU AZGG AZGC AZGZ AZCA AZCU AZCG AZCC AZCZ AZZA AZZU AZZG AZZC AZZZ UAAA UAAU UAAG UAAC UAAZ UAUA UAUU UAUG UAUC UAUZ UAGA UAGU UAGG UAGC UAGZ UACA UACU UACG UACC UACZ UAZA UAZU UAZG UAZC UAZZ UUAA UUAU UUAG UUAC UUAZ UUUA UUUU UUUG UUUC UUUZ UUGA UUGU UUGG UUGC UUGZ UUCA UUCU UUCG UUCC UUCZ UUZA UUZU UUZG UUZC UUZZ UGAA UGAU UGAG UGAC UGAZ UGUA UGUU UGUG UGUC UGUZ UGGA UGGU UGGG UGGC UGGZ UGCA UGCU UGCG UGCC UGCZ UGZA UGZU UGZG UGZC UGZZ UCAA UCAU UCAG UCAC UCAZ UCUA UCUU UCUG UCUC UCUZ UCGA UCGU UCGG UCGC UCGZ UCCA UCCU UCCG UCCC UCCZ UCZA UCZU UCZG UCZC UCZZ UZAA UZAU UZAG UZAC UZAZ UZUA UZUU UZUG UZUC UZUZ UZGA UZGU UZGG UZGC UZGZ UZCA UZCU UZCG UZCC UZCZ UZZA UZZU UZZG UZZC UZZZ GAAA GAAU GAAG GAAC GAAZ GAUA GAUU GAUG GAUC GAUZ GAGA GAGU GAGG GAGC GAGZ GACA GACU GACG GACC GACZ GAZA GAZU GAZG GAZC GAZZ GUAA GUAU GUAG GUAC GUAZ GUUA GUUU GUUG GUUC GUUZ GUGA GUGU GUGG GUGC GUGZ GUCA GUCU GUCG GUCC GUCZ GUZA GUZU GUZG GUZC GUZZ GGAA GGAU GGAG GGAC GGAZ GGUA GGUU GGUG GGUC GGUZ GGGA GGGU GGGG GGGC GGGZ GGCA GGCU GGCG GGCC GGCZ GGZA GGZU GGZG GGZC GGZZ GCAA GCAU GCAG GCAC GCAZ GCUA GCUU GCUG GCUC GCUZ GCGA GCGU GCGG GCGC GCGZ GCCA GCCU GCCG GCCC GCCZ GCZA GCZU GCZG GCZC GCZZ GZAA GZAU GZAG GZAC GZAZ GZUA GZUU GZUG GZUC GZUZ GZGA GZGU GZGG GZGC GZGZ GZCA GZCU GZCG GZCC GZCZ GZZA GZZU GZZG GZZC GZZZ CAAA CAAU CAAG CAAC CAAZ CAUA CAUU CAUG CAUC CAUZ CAGA CAGU CAGG CAGC CAGZ CACA CACU CACG CACC CACZ CAZA CAZU CAZG CAZC CAZZ CUAA CUAU CUAG CUAC CUAZ CUUA CUUU CUUG CUUC CUUZ CUGA CUGU CUGG CUGC CUGZ CUCA CUCU CUCG CUCC CUCZ CUZA CUZU CUZG CUZC CUZZ CGAA CGAU CGAG CGAC CGAZ CGUA CGUU CGUG CGUC CGUZ CGGA CGGU CGGG CGGC CGGZ CGCA CGCU CGCG CGCC CGCZ CGZA CGZU CGZG CGZC CGZZ CCAA CCAU CCAG CCAC CCAZ CCUA CCUU CCUG CCUC CCUZ CCGA CCGU CCGG CCGC CCGZ CCCA CCCU CCCG CCCC CCCZ CCZA CCZU CCZG CCZC CCZZ CZAA CZAU CZAG CZAC CZAZ CZUA CZUU CZUG CZUC CZUZ CZGA CZGU CZGG CZGC CZGZ CZCA CZCU CZCG CZCC CZCZ CZZA CZZU CZZG CZZC CZZZ ZAAA ZAAU ZAAG ZAAC ZAAZ ZAUA ZAUU ZAUG ZAUC ZAUZ ZAGA ZAGU ZAGG ZAGC ZAGZ ZACA ZACU ZACG ZACC ZACZ ZAZA ZAZU ZAZG ZAZC ZAZZ ZUAA ZUAU ZUAG ZUAC ZUAZ ZUUA ZUUU ZUUG ZUUC ZUUZ ZUGA ZUGU ZUGG ZUGC ZUGZ ZUCA ZUCU ZUCG ZUCC ZUCZ ZUZA ZUZU ZUZG ZUZC ZUZZ ZGAA ZGAU ZGAG ZGAC ZGAZ ZGUA ZGUU ZGUG ZGUC ZGUZ ZGGA ZGGU ZGGG ZGGC ZGGZ ZGCA ZGCU ZGCG ZGCC ZGCZ ZGZA ZGZU ZGZG ZGZC ZGZZ ZCAA ZCAU ZCAG ZCAC ZCAZ ZCUA ZCUU ZCUG ZCUC ZCUZ ZCGA ZCGU ZCGG ZCGC ZCGZ ZCCA ZCCU ZCCG ZCCC ZCCZ ZCZA ZCZU ZCZG ZCZC ZCZZ ZZAA ZZAU ZZAG ZZAC ZZAZ ZZUA ZZUU ZZUG ZZUC ZZUZ ZZGA ZZGU ZZGG ZZGC ZZGZ ZZCA ZZCU ZZCG ZZCC ZZCZ ZZZA ZZZU ZZZG ZZZC ZZZZ "
     ]
    }
   ],
   "source": [
    "bases = 'AUGCZ'\n",
    "\n",
    "for b1 in bases:\n",
    "    for b2 in bases:\n",
    "        for b3 in bases:\n",
    "            for b4 in bases:\n",
    "                c = b1 + b2 + b3 + b4\n",
    "                print(c, end=' ')"
   ]
  },
  {
   "cell_type": "markdown",
   "metadata": {},
   "source": [
    "----\n",
    "\n",
    "#### 16\n",
    "\n",
    "Escreva um programa em que se mostre a soma da série\n",
    "\n",
    "$1 – 1/2 + 1/3 - 1/4 + 1/5 - 1/6 + ... $\n",
    "\n",
    "a convergir para o logaritmo natural de 2.\n",
    "\n",
    "Sugestão: para calcular o logaritmo natural de 2, para confirmar o resultado, use a função `math.log()` do módulo **math**.\n",
    "\n"
   ]
  },
  {
   "cell_type": "code",
   "execution_count": 23,
   "metadata": {},
   "outputs": [
    {
     "name": "stdout",
     "output_type": "stream",
     "text": [
      "O logaritmo de 2 é 0.6931471805599453 \n",
      "\n",
      "i      t        s        d=|s - ln 2|\n",
      "1      1.00000  1.00000  0.306853\n",
      "2     -0.50000  0.50000  0.193147\n",
      "3      0.33333  0.83333  0.140186\n",
      "4     -0.25000  0.58333  0.109814\n",
      "5      0.20000  0.78333  0.090186\n",
      "6     -0.16667  0.61667  0.076481\n",
      "7      0.14286  0.75952  0.066377\n",
      "8     -0.12500  0.63452  0.058623\n",
      "9      0.11111  0.74563  0.052488\n",
      "10    -0.10000  0.64563  0.047512\n",
      "11     0.09091  0.73654  0.043397\n",
      "12    -0.08333  0.65321  0.039937\n",
      "13     0.07692  0.73013  0.036987\n",
      "14    -0.07143  0.65871  0.034442\n",
      "15     0.06667  0.72537  0.032225\n",
      "16    -0.06250  0.66287  0.030275\n",
      "17     0.05882  0.72170  0.028548\n",
      "18    -0.05556  0.66614  0.027007\n",
      "19     0.05263  0.71877  0.025624\n",
      "...\n",
      "971    0.00103  0.69366  0.000515\n",
      "972   -0.00103  0.69263  0.000514\n",
      "973    0.00103  0.69366  0.000514\n",
      "974   -0.00103  0.69263  0.000513\n",
      "975    0.00103  0.69366  0.000513\n",
      "976   -0.00102  0.69264  0.000512\n",
      "977    0.00102  0.69366  0.000512\n",
      "978   -0.00102  0.69264  0.000511\n",
      "979    0.00102  0.69366  0.000510\n",
      "980   -0.00102  0.69264  0.000510\n",
      "981    0.00102  0.69366  0.000509\n",
      "982   -0.00102  0.69264  0.000509\n",
      "983    0.00102  0.69366  0.000508\n",
      "984   -0.00102  0.69264  0.000508\n",
      "985    0.00102  0.69365  0.000507\n",
      "986   -0.00101  0.69264  0.000507\n",
      "987    0.00101  0.69365  0.000506\n",
      "988   -0.00101  0.69264  0.000506\n",
      "989    0.00101  0.69365  0.000505\n",
      "990   -0.00101  0.69264  0.000505\n",
      "991    0.00101  0.69365  0.000504\n",
      "992   -0.00101  0.69264  0.000504\n",
      "993    0.00101  0.69365  0.000503\n",
      "994   -0.00101  0.69264  0.000503\n",
      "995    0.00101  0.69365  0.000502\n",
      "996   -0.00100  0.69265  0.000502\n",
      "997    0.00100  0.69365  0.000501\n",
      "998   -0.00100  0.69265  0.000501\n",
      "999    0.00100  0.69365  0.000500\n",
      "1000  -0.00100  0.69265  0.000500\n"
     ]
    }
   ],
   "source": [
    "import math\n",
    "\n",
    "l2 = math.log(2)\n",
    "print(f'O logaritmo de 2 é {l2} \\n')\n",
    "\n",
    "print('i      t        s        d=|s - ln 2|')\n",
    "\n",
    "# s será a soma parcial da série até ao termo de índice i\n",
    "s = 0\n",
    "\n",
    "for i in range(1, 1001):\n",
    "    # cálculo dos termos: nos pares o sinal é negativo, nos ímpares é positivo\n",
    "    if i % 2 == 0:\n",
    "        t = - 1 / i\n",
    "    else:\n",
    "        t = 1 / i\n",
    "    \n",
    "    s = s + t\n",
    "    \n",
    "    # d é o módulo da diferença entre a soma parcial e o log 2\n",
    "    # d DEVE TENDER PARA 0\n",
    "    d = abs(s - l2)\n",
    "    \n",
    "    if i < 20 or i > 970:\n",
    "        print(f'{i:<5} {t:8.5f} {s:8.5f} {d:9.6f}')\n",
    "    elif i == 20:\n",
    "        print('...')"
   ]
  },
  {
   "cell_type": "markdown",
   "metadata": {},
   "source": [
    "Note-se que o cálculo do sinal poderia ter sido feito usando as potências de (-1).\n",
    "\n",
    "Em vez de\n",
    "\n",
    "```\n",
    "...\n",
    "\n",
    "    if i % 2 == 0:\n",
    "        t = - 1 / i\n",
    "    else:\n",
    "        t = 1 / i\n",
    "\n",
    "...\n",
    "```\n",
    "\n",
    "poderíamos ter usado\n",
    "\n",
    "```\n",
    "...\n",
    "    t = ( (-1)**i+1 ) / i\n",
    "...\n",
    "```"
   ]
  },
  {
   "cell_type": "markdown",
   "metadata": {},
   "source": [
    "#### Mas é muito melhor ver a convergência graficamente:"
   ]
  },
  {
   "cell_type": "code",
   "execution_count": 24,
   "metadata": {},
   "outputs": [
    {
     "data": {
      "image/png": "[encoded data removed]",
      "text/plain": [
       "<Figure size 648x504 with 1 Axes>"
      ]
     },
     "metadata": {
      "needs_background": "light"
     },
     "output_type": "display_data"
    }
   ],
   "source": [
    "import math\n",
    "\n",
    "l2 = math.log(2)\n",
    "\n",
    "indexes = list(range(1, 101))\n",
    "\n",
    "# s será a soma parcial da série até ao termo de índice i\n",
    "s = 0\n",
    "# a lista sums irá conter todas as somas parciais = []\n",
    "sums = []\n",
    "\n",
    "for i in indexes:\n",
    "    # cálculo dos termos: nos pares o sinal é negativo, nos ímpares é positivo\n",
    "    if i % 2 == 0:\n",
    "        t = - 1 / i\n",
    "    else:\n",
    "        t = 1 / i\n",
    "    \n",
    "    s = s + t\n",
    "    sums.append(s)\n",
    "    \n",
    "%matplotlib inline\n",
    "from matplotlib import pyplot as pl\n",
    "pl.subplots(1,1, figsize = (9,7))\n",
    "\n",
    "pl.plot(indexes, sums, 'o-', color='darkblue', label='Série')\n",
    "\n",
    "pl.plot([0,indexes[-1]+5], [l2, l2], '-', color='red', label='log 2') # reta horizontal em log 2\n",
    "\n",
    "pl.grid(True)\n",
    "legend = pl.legend(fontsize=16)"
   ]
  },
  {
   "cell_type": "markdown",
   "metadata": {},
   "source": [
    "----\n",
    "#### 17\n",
    "\n",
    "Escreva um programa capaz de produzir o seguinte resultado:\n",
    "\n",
    "```\n",
    "1 2 3\n",
    "3 4 5\n",
    "5 6 7\n",
    "7 8 9\n",
    "9 10 11\n",
    "11 12 13\n",
    "13 14 15\n",
    "15 16 17\n",
    "```"
   ]
  },
  {
   "cell_type": "code",
   "execution_count": 25,
   "metadata": {},
   "outputs": [
    {
     "name": "stdout",
     "output_type": "stream",
     "text": [
      "1 2 3\n",
      "3 4 5\n",
      "5 6 7\n",
      "7 8 9\n",
      "9 10 11\n",
      "11 12 13\n",
      "13 14 15\n",
      "15 16 17\n"
     ]
    }
   ],
   "source": [
    "for i in range(1, 16, 2):\n",
    "    print(i, i+1, i+2)"
   ]
  },
  {
   "cell_type": "markdown",
   "metadata": {},
   "source": [
    "----\n",
    "\n",
    "#### 18\n",
    "\n",
    "Dada a seguinte sequência polipeptídica numa string,\n",
    "\n",
    "`seq = 'ADKHLILTAVGGCWFHVAFWEVEKAGAHKWE'`\n",
    "\n",
    "Obtenha a seguinte indicação da posição de lisinas (K) e leucinas (L):\n",
    "\n",
    "```\n",
    "ADKHLILTAVGGCWFHVAFWEVEKAGAHKWE\n",
    "  | | |                |    |\n",
    "--K-L-L----------------K----K--\n",
    "```\n",
    "\n",
    "\n"
   ]
  },
  {
   "cell_type": "markdown",
   "metadata": {},
   "source": [
    "A ideia aqui é construír a linha intermédia e a linha de baixo a partir de _strings_ vazias. (A primeira linha já existe, é `seq`)."
   ]
  },
  {
   "cell_type": "code",
   "execution_count": 26,
   "metadata": {},
   "outputs": [
    {
     "name": "stdout",
     "output_type": "stream",
     "text": [
      "ADKHLILTAVGGCWFHVAFWEVEKAGAHKWE\n",
      "  | | |                |    |  \n",
      "--K-L-L----------------K----K--\n"
     ]
    }
   ],
   "source": [
    "seq = 'ADKHLILTAVGGCWFHVAFWEVEKAGAHKWE'\n",
    "linha2 = ''\n",
    "linha3 = ''\n",
    "\n",
    "for a in seq:\n",
    "    if a in 'KL':\n",
    "        linha2 = linha2 + '|'\n",
    "        linha3 = linha3 + a\n",
    "    else:\n",
    "        linha2 = linha2 + ' '\n",
    "        linha3 = linha3 + '-'\n",
    "\n",
    "print(seq)\n",
    "print(linha2)\n",
    "print(linha3)"
   ]
  },
  {
   "cell_type": "markdown",
   "metadata": {},
   "source": [
    "Podemos usar a função `.join()`, `enumerate()`, indexação..."
   ]
  },
  {
   "cell_type": "code",
   "execution_count": 27,
   "metadata": {},
   "outputs": [
    {
     "name": "stdout",
     "output_type": "stream",
     "text": [
      "ADKHLILTAVGGCWFHVAFWEVEKAGAHKWE\n",
      "  | | |                |    |  \n",
      "--K-L-L----------------K----K--\n"
     ]
    }
   ],
   "source": [
    "seq = 'ADKHLILTAVGGCWFHVAFWEVEKAGAHKWE'\n",
    "linha2 = [' '] * len(seq)\n",
    "linha3 = ['-'] * len(seq)\n",
    "\n",
    "for i, a in enumerate(seq):\n",
    "    if a in 'KL':\n",
    "        linha2[i] = '|'\n",
    "        linha3[i] = a\n",
    "\n",
    "print('\\n'.join([seq, ''.join(linha2), ''.join(linha3)]))"
   ]
  },
  {
   "cell_type": "markdown",
   "metadata": {},
   "source": [
    "----\n",
    "\n",
    "#### 19\n",
    "\n",
    "(Repetição de 12 com a construção de uma lista de resultados)\n",
    "\n",
    "Escreva um programa que constrói (e apresente no fim) uma lista com as raízes quadradas dos numeros inteiros até 1000, desde que essa raíz quadrada seja inferior a 12 e superior a 7.\n",
    "\n",
    "Use a função `len()` para as contar e a função `sum()` para as somar.\n",
    "\n",
    "Sugestão: comece por uma lista vazia e use a função .append() para acrescentar elementos ao fim de uma lista."
   ]
  },
  {
   "cell_type": "code",
   "execution_count": 28,
   "metadata": {},
   "outputs": [
    {
     "name": "stdout",
     "output_type": "stream",
     "text": [
      "A soma dos 94 números é 9071\n"
     ]
    }
   ],
   "source": [
    "nums = []\n",
    "for n in range(1001):\n",
    "    root = n ** 0.5\n",
    "    if 7 < root and root < 12:\n",
    "        nums.append(n)\n",
    "\n",
    "s = sum(nums)\n",
    "\n",
    "print(f'A soma dos {len(nums)} números é {s}') "
   ]
  },
  {
   "cell_type": "markdown",
   "metadata": {},
   "source": [
    "----\n",
    "\n",
    "#### 20\n",
    "\n",
    "Escreva um programa que constrói (e apresente no fim) uma lista de todos os codões possíveis contendo exactamente 2 guaninas.\n",
    "\n",
    "No final do programa, é apresentado o número destes codões.\n",
    "\n",
    "Sugestão: as strings têm a função `.count()`, que conta o número de vezes que um dado caractere ocorre na string.\n",
    "\n",
    "Por exemplo, `\"Antonio\".count(\"n\")` tem como resultado 2. \n"
   ]
  },
  {
   "cell_type": "code",
   "execution_count": 29,
   "metadata": {},
   "outputs": [
    {
     "name": "stdout",
     "output_type": "stream",
     "text": [
      "São 9 codões\n",
      "['AGG', 'UGG', 'CGG', 'GAG', 'GUG', 'GCG', 'GGA', 'GGU', 'GGC']\n"
     ]
    }
   ],
   "source": [
    "bases = 'AUCG'\n",
    "cods = []\n",
    "for b1 in bases:\n",
    "    for b2 in bases:\n",
    "        for b3 in bases:\n",
    "            c = b1 + b2 + b3\n",
    "            if c.count('G') == 2:\n",
    "                cods.append(c)\n",
    "\n",
    "print(f'São {len(cods)} codões')\n",
    "print(cods)"
   ]
  },
  {
   "cell_type": "markdown",
   "metadata": {},
   "source": [
    "----\n",
    "\n",
    "#### 21\n",
    "\n",
    "Quantos codões existem no planeta Zorg?\n"
   ]
  },
  {
   "cell_type": "code",
   "execution_count": 30,
   "metadata": {},
   "outputs": [
    {
     "name": "stdout",
     "output_type": "stream",
     "text": [
      "Existem 625 codões\n"
     ]
    }
   ],
   "source": [
    "bases = 'AUGCZ'\n",
    "cods = []\n",
    "for b1 in bases:\n",
    "    for b2 in bases:\n",
    "        for b3 in bases:\n",
    "            for b4 in bases:\n",
    "                cods.append(b1 + b2 + b3 + b4)\n",
    "print(f'Existem {len(cods)} codões')"
   ]
  },
  {
   "cell_type": "markdown",
   "metadata": {},
   "source": [
    "----\n",
    "\n",
    "#### 22\n",
    "\n",
    "Escreva um programa em que se mostre (um facto usado por Galileu na seus estudos de corpos em queda livre) que as **diferenças entre os quadrados perfeitos sucessivos é a sucessão de numeros ímpares**. "
   ]
  },
  {
   "cell_type": "code",
   "execution_count": 31,
   "metadata": {},
   "outputs": [
    {
     "name": "stdout",
     "output_type": "stream",
     "text": [
      "0\n",
      "     1\n",
      "1\n",
      "     3\n",
      "4\n",
      "     5\n",
      "9\n",
      "     7\n",
      "16\n",
      "     9\n",
      "25\n",
      "     11\n",
      "36\n",
      "     13\n",
      "49\n",
      "     15\n",
      "64\n",
      "     17\n",
      "81\n",
      "     19\n",
      "100\n",
      "     21\n",
      "121\n",
      "     23\n",
      "144\n",
      "     25\n",
      "169\n",
      "     27\n",
      "196\n",
      "     29\n",
      "225\n",
      "     31\n",
      "256\n",
      "     33\n",
      "289\n",
      "     35\n",
      "324\n",
      "     37\n",
      "361\n"
     ]
    }
   ],
   "source": [
    "# Mostrar para os 20 primeiros números\n",
    "\n",
    "quads = [i**2 for i in range(20)]\n",
    "\n",
    "difs = [quads[i] - quads[i-1] for i in range(1, len(quads))]\n",
    "\n",
    "for i in range(len(difs)):\n",
    "    print(quads[i])\n",
    "    print('    ', difs[i])\n",
    "print(quads[i+1])"
   ]
  },
  {
   "cell_type": "markdown",
   "metadata": {},
   "source": [
    "----\n",
    "\n",
    "#### 23\n",
    "\n",
    "Dada a seguinte sequência polipeptídica numa string,\n",
    "\n",
    "`seq = 'ADKHLILTAVGGCWFHVAFWEVEKAGTTWRVALLPRPAHKWE'`\n",
    "\n",
    "e a seguinte string com os 20 aminoácidos\n",
    "\n",
    "`aminoacids = \"ACDEFGHIKLMNPQRSTVWY\"`\n",
    "\n",
    "obtenha, num dicionário, as contagens de cada um dos 20 aminoácidos na sequência. Sugestão: use a função .count(), mencionada na pergunta 20.\n"
   ]
  },
  {
   "cell_type": "code",
   "execution_count": 32,
   "metadata": {},
   "outputs": [
    {
     "name": "stdout",
     "output_type": "stream",
     "text": [
      "{'A': 6, 'C': 1, 'D': 1, 'E': 3, 'F': 2, 'G': 3, 'H': 3, 'I': 1, 'K': 3, 'L': 4, 'M': 0, 'N': 0, 'P': 2, 'Q': 0, 'R': 2, 'S': 0, 'T': 3, 'V': 4, 'W': 4, 'Y': 0}\n"
     ]
    }
   ],
   "source": [
    "seq = 'ADKHLILTAVGGCWFHVAFWEVEKAGTTWRVALLPRPAHKWE'\n",
    "\n",
    "aminoacids = \"ACDEFGHIKLMNPQRSTVWY\"\n",
    "\n",
    "contagens = {}\n",
    "\n",
    "for a in aminoacids:\n",
    "    # colocar um elemento novo no dicionário\n",
    "    # é por indexação com uma nova chave!\n",
    "    contagens[a] = seq.count(a)\n",
    "\n",
    "print(contagens)"
   ]
  }
 ],
 "metadata": {
  "anaconda-cloud": {},
  "kernelspec": {
   "display_name": "Python 3",
   "language": "python",
   "name": "python3"
  },
  "language_info": {
   "codemirror_mode": {
    "name": "ipython",
    "version": 3
   },
   "file_extension": ".py",
   "mimetype": "text/x-python",
   "name": "python",
   "nbconvert_exporter": "python",
   "pygments_lexer": "ipython3",
   "version": "3.7.1"
  }
 },
 "nbformat": 4,
 "nbformat_minor": 2
}
