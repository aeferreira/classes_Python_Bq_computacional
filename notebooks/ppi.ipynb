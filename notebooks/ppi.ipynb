{
 "cells": [
  {
   "cell_type": "markdown",
   "metadata": {},
   "source": [
    "# Exercícios de \"playing Python interpreter\""
   ]
  },
  {
   "cell_type": "markdown",
   "metadata": {},
   "source": [
    "Instruções gerais:\n",
    "\n",
    "Em cada exercício, tente prever qual o _output_ da célula. Para confirmar, **corra a célula e compare**!\n",
    "\n",
    "Estes exercícios estão divididos em secções, de acordo com alguns conceitos da linguagem Python.\n",
    "\n",
    "Versão da linguagem: 3.6\n",
    "\n",
    "Módulos adicionais necessários: nenhum"
   ]
  },
  {
   "cell_type": "markdown",
   "metadata": {},
   "source": [
    "### ciclos `for`, função `range()`, indexação"
   ]
  },
  {
   "cell_type": "code",
   "execution_count": null,
   "metadata": {},
   "outputs": [],
   "source": [
    "for n in [2, 3, 4]:\n",
    "    print(n, n**2)"
   ]
  },
  {
   "cell_type": "code",
   "execution_count": null,
   "metadata": {},
   "outputs": [],
   "source": [
    "for n in [2, 3, 4]:\n",
    "    if n**2 > 10:\n",
    "        print(n, n**2)"
   ]
  },
  {
   "cell_type": "code",
   "execution_count": null,
   "metadata": {},
   "outputs": [],
   "source": [
    "for n in '234ABC':\n",
    "    print(n, n*2)"
   ]
  },
  {
   "cell_type": "code",
   "execution_count": null,
   "metadata": {},
   "outputs": [],
   "source": [
    "for n in '2,3,4,ABC':\n",
    "    print(n, n*2)"
   ]
  },
  {
   "cell_type": "code",
   "execution_count": null,
   "metadata": {},
   "outputs": [],
   "source": [
    "for n in '2,3,4,ABC':\n",
    "    if n in 'ABRACADABRA':\n",
    "        print(n)\n",
    "        print(n*2)"
   ]
  },
  {
   "cell_type": "code",
   "execution_count": null,
   "metadata": {},
   "outputs": [],
   "source": [
    "for n in {'2': 'A', 'B': 3, 4: 'ABC'}:\n",
    "    print(n)\n",
    "    print(n*2)"
   ]
  },
  {
   "cell_type": "code",
   "execution_count": null,
   "metadata": {},
   "outputs": [],
   "source": [
    "d = {'2': 'A', \n",
    "     'B': 3, \n",
    "      4: 'ABC'}\n",
    "\n",
    "for i in d.items():\n",
    "    print(i)"
   ]
  },
  {
   "cell_type": "code",
   "execution_count": null,
   "metadata": {},
   "outputs": [],
   "source": [
    "d = {'2': 'A', \n",
    "     'B': 3, \n",
    "     4: 'ABC'}\n",
    "\n",
    "for k, v in d.items():\n",
    "    print(k, '-', v)"
   ]
  },
  {
   "cell_type": "code",
   "execution_count": null,
   "metadata": {},
   "outputs": [],
   "source": [
    "for n in range(3):\n",
    "    print(n, n**2)"
   ]
  },
  {
   "cell_type": "code",
   "execution_count": null,
   "metadata": {},
   "outputs": [],
   "source": [
    "for n in range(3, 6, 2):\n",
    "    print(n, n**2)"
   ]
  },
  {
   "cell_type": "code",
   "execution_count": null,
   "metadata": {},
   "outputs": [],
   "source": [
    "for n in range(len('0'), len('40')):\n",
    "    print(n, n**2)"
   ]
  },
  {
   "cell_type": "code",
   "execution_count": null,
   "metadata": {},
   "outputs": [],
   "source": [
    "a = [2, 3, 4]\n",
    "b = 'ABRACADABRA'\n",
    "c = {'2': 'A', 'B': 3, 4: 'ABC'}\n",
    "print(a, b, c)"
   ]
  },
  {
   "cell_type": "code",
   "execution_count": null,
   "metadata": {},
   "outputs": [],
   "source": [
    "a, b, c = [2, 3, 4], 'ABRACADABRA', {'2': 'A', 'B': 3, 4: 'ABC'}\n",
    "print(a, b, c)"
   ]
  },
  {
   "cell_type": "code",
   "execution_count": null,
   "metadata": {},
   "outputs": [],
   "source": [
    "a, b, c = [2, 3, 4], 'ABRACADABRA', {'2': 'A', 'B': 3, 4: 'ABC'}\n",
    "print(list(a), list(b), list(c))"
   ]
  },
  {
   "cell_type": "code",
   "execution_count": null,
   "metadata": {},
   "outputs": [],
   "source": [
    "a, b, c = [2, 3, 4], 'ABRACADABRA', {'2': 'A', 'B': 3, 4: 'ABC'}\n",
    "print(str(a), str(b), str(c))"
   ]
  },
  {
   "cell_type": "code",
   "execution_count": null,
   "metadata": {},
   "outputs": [],
   "source": [
    "a, b, c = [2, 3, 4], 'ABRACADABRA', {'2': 'A', 'B': 3, 4: 'ABC'}\n",
    "\n",
    "for n in a:\n",
    "    print(n)"
   ]
  },
  {
   "cell_type": "code",
   "execution_count": null,
   "metadata": {},
   "outputs": [],
   "source": [
    "a, b, c = [2, 3, 4], 'ABRACADABRA', {'2': 'A', 'B': 3, 4: 'ABC'}\n",
    "\n",
    "for n in a:\n",
    "    print(n, b[n])"
   ]
  },
  {
   "cell_type": "code",
   "execution_count": null,
   "metadata": {},
   "outputs": [],
   "source": [
    "a, b, c = [2, 3, 4], 'ABRACADABRA', {'2': 'A', 'B': 3, 4: 'ABC'}\n",
    "\n",
    "for n in a:\n",
    "    if n in c:\n",
    "        print(n, c[n])"
   ]
  },
  {
   "cell_type": "code",
   "execution_count": null,
   "metadata": {},
   "outputs": [],
   "source": [
    "a, b, c = [2, 3, 4], 'ABRACADABRA', {'2': 'A', 'B': 3, 4: 'ABC'}\n",
    "\n",
    "for n in b:\n",
    "    if n in c:\n",
    "        print(n, c[n])"
   ]
  },
  {
   "cell_type": "code",
   "execution_count": null,
   "metadata": {},
   "outputs": [],
   "source": [
    "a, b, c = [2, 3, 4], 'ABRACADABRA', {'2': 'A', 'B': 3, 4: 'ABC'}\n",
    "\n",
    "for n in range(len(a)):\n",
    "    if b[n] in c:\n",
    "        print(n, c[b[n]])"
   ]
  },
  {
   "cell_type": "code",
   "execution_count": null,
   "metadata": {},
   "outputs": [],
   "source": [
    "a, b, c = [2, 3, 4], 'ABRACADABRA', {'2': 'A', 'B': 3, 4: 'ABC'}\n",
    "\n",
    "for n in range(len(a)):\n",
    "    print(a[n], len(c))\n",
    "print(n)"
   ]
  },
  {
   "cell_type": "code",
   "execution_count": null,
   "metadata": {},
   "outputs": [],
   "source": [
    "a, b, c = [2, 3, 4], 'ABRACADABRA', {'2': 'A', 'B': 3, 4: 'ABC'}\n",
    "\n",
    "for n in b:\n",
    "    if n in c[4]:\n",
    "        print(n)"
   ]
  },
  {
   "cell_type": "markdown",
   "metadata": {},
   "source": [
    "### Ciclos `for` encaixados"
   ]
  },
  {
   "cell_type": "code",
   "execution_count": null,
   "metadata": {},
   "outputs": [],
   "source": [
    "a, b, c = [2, 3, 4], 'ABRACADABRA', {'2': 'A', 'B': 3, 4: 'ABC'}\n",
    "\n",
    "for i in a:\n",
    "    for j in b:\n",
    "        if j == 'R':\n",
    "            print(i, j)"
   ]
  },
  {
   "cell_type": "code",
   "execution_count": null,
   "metadata": {},
   "outputs": [],
   "source": [
    "a, b, c = [2, 3, 4], 'ABRACADABRA', {'2': 'A', 'B': 3, 4: 'ABC'}\n",
    "\n",
    "for i in a:\n",
    "    print(i)\n",
    "    for j in b:\n",
    "        if j == 'R':\n",
    "            print(j)"
   ]
  },
  {
   "cell_type": "code",
   "execution_count": null,
   "metadata": {},
   "outputs": [],
   "source": [
    "a, b, c = [2, 3, 4], 'ABRACADABRA', {'2': 'A', 'B': 3, 4: 'ABC'}\n",
    "\n",
    "for i in a:\n",
    "    print(i)\n",
    "for j in b:\n",
    "    if j == 'R':\n",
    "        print(j)"
   ]
  },
  {
   "cell_type": "code",
   "execution_count": null,
   "metadata": {},
   "outputs": [],
   "source": [
    "a, b, c = [2, 3, 4], 'ABRACADABRA', {'2': 'A', 'B': 3, 4: 'ABC'}\n",
    "\n",
    "for i in a:\n",
    "    print(i)\n",
    "for j in b:\n",
    "    if j == 'R':\n",
    "        print(i)\n",
    "print(j)"
   ]
  },
  {
   "cell_type": "code",
   "execution_count": null,
   "metadata": {},
   "outputs": [],
   "source": [
    "a, b, c = [2, 3, 4], 'ABRACADABRA', {'2': 'A', 'B': 3, 4: 'ABC'}\n",
    "\n",
    "for i in range(len(a)):\n",
    "    for j in b:\n",
    "        if j == 'R':\n",
    "            print(i, j)"
   ]
  },
  {
   "cell_type": "code",
   "execution_count": null,
   "metadata": {},
   "outputs": [],
   "source": [
    "a, b, c = [2, 3, 4], 'ABRACADABRA', {'2': 'A', 'B': 3, 4: 'ABC'}\n",
    "\n",
    "for i in range(len(a)):\n",
    "    for j in range(len(b)):\n",
    "        if j == 2:\n",
    "            print(i, j)"
   ]
  },
  {
   "cell_type": "code",
   "execution_count": null,
   "metadata": {},
   "outputs": [],
   "source": [
    "a, b, c = [2, 3, 4], 'ABRACADABRA', {'2': 'A', 'B': 3, 4: 'ABC'}\n",
    "\n",
    "for i in range(len(a)):\n",
    "    for j in range(len(b)):\n",
    "        if j == i:\n",
    "            print(a[i], b[j])"
   ]
  },
  {
   "cell_type": "code",
   "execution_count": null,
   "metadata": {},
   "outputs": [],
   "source": [
    "a, b, c = [2, 3, 4], 'ABRACADABRA', {'2': 'A', 'B': 3, 4: 'ABC'}\n",
    "\n",
    "for i in range(len(a)):\n",
    "    for j in range(len(b)):\n",
    "        if j == len(a):\n",
    "            print(b[j])"
   ]
  },
  {
   "cell_type": "code",
   "execution_count": null,
   "metadata": {},
   "outputs": [],
   "source": [
    "a, b, c = [2, 3, 4], 'ABRACADABRA', {'2': 'A', 'B': 3, 4: 'ABC'}\n",
    "\n",
    "for i in b:\n",
    "    for j in c[4]:\n",
    "        if i == j:\n",
    "            print(i)"
   ]
  },
  {
   "cell_type": "markdown",
   "metadata": {},
   "source": [
    "### Listas em compreensão"
   ]
  },
  {
   "cell_type": "code",
   "execution_count": null,
   "metadata": {},
   "outputs": [],
   "source": [
    "a, b, c = [2, 3, 4], 'ABRACADABRA', {'2': 'A', 'B': 3, 4: 'ABC'}\n",
    "print([b[n] for n in a])"
   ]
  },
  {
   "cell_type": "code",
   "execution_count": null,
   "metadata": {},
   "outputs": [],
   "source": [
    "a, b, c = [2, 3, 4], 'ABRACADABRA', {'2': 'A', 'B': 3, 4: 'ABC'}\n",
    "print([b[n] for n in a if n in c])"
   ]
  },
  {
   "cell_type": "code",
   "execution_count": null,
   "metadata": {},
   "outputs": [],
   "source": [
    "a, b, c = [2, 3, 4], 'ABRACADABRA', {'2': 'A', 'B': 3, 4: 'ABC'}\n",
    "print([n*2 for n in a if n in c])"
   ]
  },
  {
   "cell_type": "code",
   "execution_count": null,
   "metadata": {},
   "outputs": [],
   "source": [
    "a, b, c = [2, 3, 4], 'ABRACADABRA', {'2': 'A', 'B': 3, 4: 'ABC'}\n",
    "print([n*2 for n in range(len(b)) if n in c])"
   ]
  },
  {
   "cell_type": "code",
   "execution_count": null,
   "metadata": {},
   "outputs": [],
   "source": [
    "a, b, c = [2, 3, 4], 'ABRACADABRA', {'2': 'A', 'B': 3, 4: 'ABC'}\n",
    "print([c[n] for n in b if n in c])"
   ]
  },
  {
   "cell_type": "code",
   "execution_count": null,
   "metadata": {},
   "outputs": [],
   "source": [
    "a, b, c = [2, 3, 4], 'ABRACADABRA', {'2': 'A', 'B': 3, 4: 'ABC'}\n",
    "print([m for m in [b[n] for n in a] if m in 'ABC'])"
   ]
  },
  {
   "cell_type": "code",
   "execution_count": null,
   "metadata": {},
   "outputs": [],
   "source": [
    "a = [i for i in range(100)]\n",
    "b = [i**2 for i in a if i < 10]\n",
    "c = [i for i in b if i%2 == 0]\n",
    "print(c)"
   ]
  },
  {
   "cell_type": "markdown",
   "metadata": {},
   "source": [
    "### Slices"
   ]
  },
  {
   "cell_type": "code",
   "execution_count": null,
   "metadata": {},
   "outputs": [],
   "source": [
    "seq = 'ATGGCGAACCGGCTAG'\n",
    "\n",
    "print(seq[2:])\n",
    "print(seq[:2])\n",
    "print(seq[1:])\n",
    "print(seq[:1])\n",
    "print(seq[:-1])\n",
    "print(seq[1:-1])"
   ]
  },
  {
   "cell_type": "code",
   "execution_count": null,
   "metadata": {},
   "outputs": [],
   "source": [
    "seq = list('ATGGCGAACCGGCTAG')\n",
    "\n",
    "print(seq[2:])\n",
    "print(seq[:2])\n",
    "print(seq[1:])\n",
    "print(seq[:1])\n",
    "print(seq[:-1])\n",
    "print(seq[1:-1])"
   ]
  },
  {
   "cell_type": "code",
   "execution_count": null,
   "metadata": {},
   "outputs": [],
   "source": [
    "seq = 'ATGGCGAACCGGCTAG'\n",
    "\n",
    "print(seq[::3])"
   ]
  },
  {
   "cell_type": "code",
   "execution_count": null,
   "metadata": {},
   "outputs": [],
   "source": [
    "seq = 'ATGGCGAACCGGCTAGTA'\n",
    "\n",
    "for i in range(0, len(seq), 3):\n",
    "    if seq[i] == 'G':\n",
    "        print(seq[i: i+3])"
   ]
  },
  {
   "cell_type": "markdown",
   "metadata": {},
   "source": [
    "### `zip()` e `enumerate()`"
   ]
  },
  {
   "cell_type": "code",
   "execution_count": null,
   "metadata": {},
   "outputs": [],
   "source": [
    "seq = 'ATGGCGAACCGGCTAGTA'\n",
    "\n",
    "for i in enumerate(seq):\n",
    "    print(i)"
   ]
  },
  {
   "cell_type": "code",
   "execution_count": null,
   "metadata": {},
   "outputs": [],
   "source": [
    "seq = 'ATGGCGAACCGGCTAGTA'\n",
    "\n",
    "for i, b in enumerate(seq):\n",
    "    if b == 'G':\n",
    "        print(i, b)"
   ]
  },
  {
   "cell_type": "code",
   "execution_count": null,
   "metadata": {},
   "outputs": [],
   "source": [
    "a, b, c = [2, 3, 4], 'ABRACADABRA', {'2': 'A', 'B': 3, 4: 'ABC'}\n",
    "\n",
    "for i, k in enumerate(a):\n",
    "    print(i, k)\n",
    "    \n",
    "for i, k in enumerate(b):\n",
    "    print(i, k)\n",
    "\n",
    "for i, k in enumerate(c):\n",
    "    print(i, k)"
   ]
  },
  {
   "cell_type": "code",
   "execution_count": null,
   "metadata": {},
   "outputs": [],
   "source": [
    "a, b, c = [2, 3, 4], 'ABRACADABRA', {'2': 'A', 'B': 3, 4: 'ABC'}\n",
    "\n",
    "for x in zip(a, b):\n",
    "    print(x)\n",
    "    \n",
    "for i, j in zip(a, b):\n",
    "    print(i, j)"
   ]
  },
  {
   "cell_type": "code",
   "execution_count": null,
   "metadata": {},
   "outputs": [],
   "source": [
    "a, b, c = [2, 3, 4], 'ABRACADABRA', {'2': 'A', 'B': 3, 4: 'ABC'}\n",
    "    \n",
    "for i, j in zip(b, c):\n",
    "    print(i, j)"
   ]
  },
  {
   "cell_type": "code",
   "execution_count": null,
   "metadata": {},
   "outputs": [],
   "source": [
    "# muitos pormenores juntos...\n",
    "seq = 'ATGGCGAACCGGCTAGTA'\n",
    "\n",
    "b1 = seq[ ::3]\n",
    "b2 = seq[1::3]\n",
    "b3 = seq[2::3]\n",
    "\n",
    "c = [''.join(x) for x in zip(b1,b2,b3)]\n",
    "print(c)"
   ]
  },
  {
   "cell_type": "markdown",
   "metadata": {},
   "source": [
    "### `strip()` , `split()` , `join()`, `replace()`"
   ]
  },
  {
   "cell_type": "code",
   "execution_count": null,
   "metadata": {},
   "outputs": [],
   "source": [
    "seq = 'ATGGCGAACCGGCTAGTA'\n",
    "\n",
    "cods = [''.join(x) for x in zip(seq[ ::3],seq[1::3],seq[2::3])]\n",
    "print('-'.join(cods))"
   ]
  },
  {
   "cell_type": "code",
   "execution_count": null,
   "metadata": {},
   "outputs": [],
   "source": [
    "a = '''Um pequeno texto,\n",
    "que ocupa\n",
    "\n",
    "várias linhas,\n",
    "algumas vazias'''\n",
    "\n",
    "print(''.join(a.split('\\n')))"
   ]
  },
  {
   "cell_type": "code",
   "execution_count": null,
   "metadata": {},
   "outputs": [],
   "source": [
    "a = '''Um pequeno texto,\n",
    "que ocupa\n",
    "\n",
    "várias linhas,\n",
    "algumas vazias'''\n",
    "\n",
    "print(a.replace('\\n', ' '))"
   ]
  },
  {
   "cell_type": "code",
   "execution_count": null,
   "metadata": {},
   "outputs": [],
   "source": [
    "a = '''Um pequeno texto,\n",
    "que ocupa\n",
    "\n",
    "várias linhas,\n",
    "algumas vazias'''\n",
    "\n",
    "print(a.replace('\\n\\n', '\\n').replace('\\n', ' '))"
   ]
  },
  {
   "cell_type": "code",
   "execution_count": null,
   "metadata": {},
   "outputs": [],
   "source": [
    "a = '''Um pequeno texto,\n",
    "que ocupa\n",
    "\n",
    "várias linhas,\n",
    "algumas vazias'''\n",
    "\n",
    "print(a.split())"
   ]
  },
  {
   "cell_type": "code",
   "execution_count": null,
   "metadata": {},
   "outputs": [],
   "source": [
    "a = '''Um pequeno texto,\n",
    "que ocupa\n",
    "\n",
    "várias linhas,\n",
    "algumas vazias'''\n",
    "\n",
    "print(' '.join([w.strip(',') for w in a.split()]))"
   ]
  },
  {
   "cell_type": "code",
   "execution_count": null,
   "metadata": {},
   "outputs": [],
   "source": [
    "a = '''Um pequeno texto,\n",
    "que ocupa\n",
    "\n",
    "várias linhas,\n",
    "algumas vazias'''\n",
    "\n",
    "print([w.strip(',') for w in a.split() if w[0] in 'aeiou'])"
   ]
  },
  {
   "cell_type": "code",
   "execution_count": null,
   "metadata": {},
   "outputs": [],
   "source": []
  }
 ],
 "metadata": {
  "kernelspec": {
   "display_name": "Python 3",
   "language": "python",
   "name": "python3"
  },
  "language_info": {
   "codemirror_mode": {
    "name": "ipython",
    "version": 3
   },
   "file_extension": ".py",
   "mimetype": "text/x-python",
   "name": "python",
   "nbconvert_exporter": "python",
   "pygments_lexer": "ipython3",
   "version": "3.6.4"
  }
 },
 "nbformat": 4,
 "nbformat_minor": 2
}
