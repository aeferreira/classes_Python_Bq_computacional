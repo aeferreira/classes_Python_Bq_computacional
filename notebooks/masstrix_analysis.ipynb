{
 "cells": [
  {
   "cell_type": "markdown",
   "metadata": {
    "slideshow": {
     "slide_type": "slide"
    }
   },
   "source": [
    "## Exemplo: Extração de informação de ficheiros de resultados de metabolómica."
   ]
  },
  {
   "cell_type": "markdown",
   "metadata": {
    "slideshow": {
     "slide_type": "slide"
    }
   },
   "source": [
    "[MassTRIX](http://www.masstrix.org), (_Mass TRanslator into Pathways_) [1] é um serviço online de tratamento de dados de metabolómica.\n",
    "\n",
    "A funcionalidade primária é a identificação de compostos a partir de listas de massas e intensidades obtidas por análise de amostras biológicas por Espectrometria de Massa.\n",
    "\n",
    "O resultado da identificação é disponibilizado em vários ficheiros de texto. Num dos formatos, cada linha do ficheiro diz respeito a um pico de massa e apresenta, de entre outros, os compostos identificados com aquela massa, bem como as anotações das vias celulares em que esses compostos podem estar envolvidos.\n",
    "\n",
    "Pretende-se ilustrar o uso programático da leitura de ficheiros e as operações com _strings_ com um exemplo da **extração da informação contida num desses ficheiros**.\n",
    "\n",
    "[1] K. Suhre and P. Schmitt-Kopplin (2008) MassTRIX: Mass TRanslator Into Pathways, _Nucleic Acids Research_, **36**, Web Server issue, W481-W484."
   ]
  },
  {
   "cell_type": "markdown",
   "metadata": {
    "slideshow": {
     "slide_type": "slide"
    }
   },
   "source": [
    "### Nota"
   ]
  },
  {
   "cell_type": "markdown",
   "metadata": {
    "slideshow": {
     "slide_type": "slide"
    }
   },
   "source": [
    "Este notebook usa como exemplo um ficheiro chamado `masses.annotated.reformat.tsv`, mas este nome deve ser alterado para nome do ficheiro de resultados que é obtido de uma busca no MassTRIX."
   ]
  },
  {
   "cell_type": "markdown",
   "metadata": {
    "slideshow": {
     "slide_type": "slide"
    }
   },
   "source": [
    "### Extração da informação"
   ]
  },
  {
   "cell_type": "markdown",
   "metadata": {},
   "source": [
    "Como resultado da análise são criados 2 dicionários:"
   ]
  },
  {
   "cell_type": "code",
   "execution_count": 1,
   "metadata": {},
   "outputs": [],
   "source": [
    "compostos = {}\n",
    "# Este dicionário associa a cada KEGG_cid um dicionário com\n",
    "\n",
    "# 'nome'     : a string com o primeiro nome atribuído ao composto\n",
    "# 'ids_vias' : uma lista de Ids das vias associadas ao composto\n",
    "# 'vias'     : uma lista das vias associadas ao composto\n",
    "\n",
    "vias = {}\n",
    "\n",
    "# Este dicionário associa a cada KEGG Pathways Id (o Id da via) um dicionário com\n",
    "\n",
    "# 'nome'          : a string com o nome da via\n",
    "# 'ids_compostos' : uma lista de Ids dos compostos associados à via\n",
    "# 'compostos'     : uma lista dos nomes dos compostos associados à via"
   ]
  },
  {
   "cell_type": "code",
   "execution_count": 2,
   "metadata": {
    "slideshow": {
     "slide_type": "slide"
    }
   },
   "outputs": [
    {
     "name": "stdout",
     "output_type": "stream",
     "text": [
      "3605 compostos\n",
      "150 vias\n"
     ]
    }
   ],
   "source": [
    "nome_fich = 'masses.annotated.reformat.tsv' # alterar para o nome correto\n",
    "\n",
    "with open(nome_fich) as f:\n",
    "    linhas = f.read().splitlines()\n",
    "\n",
    "headers = linhas[-1].split('\\t')\n",
    "\n",
    "for linha in linhas[:-1]:\n",
    "    info = {}\n",
    "    partes_linha = linha.split('\\t')\n",
    "    \n",
    "    for h, c in zip(headers, partes_linha):\n",
    "        info[h] = c.split('#')\n",
    "\n",
    "    for comp, nomes, v_ids, v in zip(info['KEGG_cid'],\n",
    "                                     info['KEGG_name'],\n",
    "                                     info['KEGG Pathways'],\n",
    "                                     info['KEGG Pathways descriptions']):\n",
    "\n",
    "        if comp not in compostos: # se já existe, não voltar a adicionar ao dicionário\n",
    "            \n",
    "            # usar só o primeiro nome (e esperar que seja o melhor)\n",
    "            nome = nomes.split(';')[0]\n",
    "            \n",
    "            compostos[comp] = {'nome': nome, 'ids_vias' : [], 'vias' : []}\n",
    "\n",
    "            if v != 'null':\n",
    "                compostos[comp]['ids_vias'] = v_ids.strip(';').split(';')\n",
    "                compostos[comp]['vias'] = v.strip(';').split(';')\n",
    "\n",
    "\n",
    "print(len(compostos), 'compostos')\n",
    "\n",
    "for c in compostos: # c é o Id de cada composto\n",
    "    for nome_via, via_id in zip(compostos[c]['vias'], compostos[c]['ids_vias']):\n",
    "        nome_composto = compostos[c]['nome']\n",
    "        if via_id not in vias:\n",
    "            # é a primeira vez que é encontrada\n",
    "            vias[via_id] = {'nome': nome_via, \n",
    "                            'ids_compostos': [c], \n",
    "                            'compostos': [nome_composto]}\n",
    "        else:\n",
    "            # já existe, acrescentar este composto\n",
    "            vias[via_id]['ids_compostos'].append(c)\n",
    "            vias[via_id]['compostos'].append(nome_composto)\n",
    "\n",
    "print(len(vias), 'vias')"
   ]
  },
  {
   "cell_type": "markdown",
   "metadata": {},
   "source": [
    "#### RETIRAR (ou adaptar) A CÉLULA SEGUINTE!\n",
    "#### (verifica a existência de compostos e de vias, mas aplica-se aos dados do ficheiro de exemplo)"
   ]
  },
  {
   "cell_type": "code",
   "execution_count": 3,
   "metadata": {
    "slideshow": {
     "slide_type": "slide"
    }
   },
   "outputs": [
    {
     "name": "stdout",
     "output_type": "stream",
     "text": [
      "\n",
      "---- composto C00988: -----\n",
      "2-Phosphoglycolate \n",
      "\n",
      "ko00630 : Glyoxylate and dicarboxylate metabolism\n",
      "ko01100 : Metabolic pathways\n",
      "\n",
      "---- composto C00079: -----\n",
      "L-Phenylalanine \n",
      "\n",
      "ko00360 : Phenylalanine metabolism\n",
      "ko00400 : Phenylalanine, tyrosine and tryptophan biosynthesis\n",
      "ko00940 : Phenylpropanoid biosynthesis\n",
      "ko00960 : Tropane, piperidine and pyridine alkaloid biosynthesis\n",
      "ko00966 : Glucosinolate biosynthesis\n",
      "ko00970 : Aminoacyl-tRNA biosynthesis\n",
      "ko01061 : Biosynthesis of phenylpropanoids\n",
      "ko01063 : Biosynthesis of alkaloids derived from shikimate pathway\n",
      "ko01064 : Biosynthesis of alkaloids derived from ornithine, lysine and nicotinic acid\n",
      "ko01070 : Biosynthesis of plant hormones\n",
      "ko01100 : Metabolic pathways\n",
      "ko02010 : ABC transporters\n",
      "map01060 : Biosynthesis of plant secondary metabolites\n",
      "\n",
      "---- via ko00630: -----\n",
      "Glyoxylate and dicarboxylate metabolism\n",
      "\n",
      "Compostos:\n",
      "2-Phosphoglycolate\n",
      "3-Ethylmalate ([M-H]-)\n",
      "(S)-Malate\n",
      "2-Oxoglutarate\n",
      "meso-Tartaric acid\n",
      "(R,R)-Tartaric acid\n",
      "2-Hydroxy-3-oxoadipate ([M+Cl35]-)\n",
      "3-Phospho-D-glycerate\n"
     ]
    }
   ],
   "source": [
    "print('\\n---- composto C00988: -----')\n",
    "c = compostos['C00988']\n",
    "print(c['nome'], '\\n')\n",
    "for id_v, v in zip(c['ids_vias'], c['vias']):\n",
    "    print(id_v, ':', v)\n",
    "\n",
    "print('\\n---- composto C00079: -----')\n",
    "c = compostos['C00079']\n",
    "print(c['nome'], '\\n')\n",
    "for id_v, v in zip(c['ids_vias'], c['vias']):\n",
    "    print(id_v, ':', v)\n",
    "    \n",
    "print('\\n---- via ko00630: -----')\n",
    "print(vias['ko00630']['nome'])\n",
    "print('\\nCompostos:')\n",
    "for c in vias['ko00630']['compostos']:\n",
    "    print(c)"
   ]
  },
  {
   "cell_type": "markdown",
   "metadata": {
    "slideshow": {
     "slide_type": "slide"
    }
   },
   "source": [
    "### Criação de ficheiros com a informação extraída\n",
    "\n",
    "Vamos criar ficheiros de texto com a informação extraída para mais tarde poder ser usada.\n",
    "\n",
    "Vamos criar um ficheiro chamado `compostos.txt` e outro chamado `vias.txt`\n",
    "\n",
    "As vias estão listadas por ordem decrescente do número de compostos encontrados."
   ]
  },
  {
   "cell_type": "code",
   "execution_count": 4,
   "metadata": {
    "slideshow": {
     "slide_type": "slide"
    }
   },
   "outputs": [],
   "source": [
    "with open('compostos.txt', 'w') as f:\n",
    "    print('Id', 'nome', 'Ids vias', 'vias', file=f, sep='\\t')\n",
    "    \n",
    "    for c, info in compostos.items():\n",
    "        Ids_vias = '|'.join(info['ids_vias'])\n",
    "        nomes_vias = '|'.join(info['vias'])\n",
    "        print(c, info['nome'], Ids_vias, nomes_vias, file=f, sep='\\t')\n",
    "\n",
    "# ordenar as vias por número de compostos\n",
    "contagens_compostos_em_vias = [(len(vias[k]['compostos']), k) for k in vias]\n",
    "contagens_compostos_em_vias.sort(reverse=True)\n",
    "# reverse=True indica que a ordenação é por ordem decrescente\n",
    "\n",
    "with open('vias.txt', 'w') as f:\n",
    "    print('Id via', 'nome via', 'n compostos', 'Ids compostos', 'compostos', file=f, sep='\\t')\n",
    "    \n",
    "    for c, via in contagens_compostos_em_vias:\n",
    "        infovia = vias[via]\n",
    "        print(via, infovia['nome'], c, \n",
    "              '|'.join(infovia['ids_compostos']),\n",
    "              '|'.join(infovia['compostos']), sep='\\t', file=f)"
   ]
  },
  {
   "cell_type": "markdown",
   "metadata": {
    "slideshow": {
     "slide_type": "slide"
    }
   },
   "source": [
    "**Verificar se correu bem, correndo o MS-Excel e abrindo estes ficheiros**"
   ]
  }
 ],
 "metadata": {
  "anaconda-cloud": {},
  "kernelspec": {
   "display_name": "Python 3",
   "language": "python",
   "name": "python3"
  },
  "language_info": {
   "codemirror_mode": {
    "name": "ipython",
    "version": 3
   },
   "file_extension": ".py",
   "mimetype": "text/x-python",
   "name": "python",
   "nbconvert_exporter": "python",
   "pygments_lexer": "ipython3",
   "version": "3.6.4"
  }
 },
 "nbformat": 4,
 "nbformat_minor": 1
}
