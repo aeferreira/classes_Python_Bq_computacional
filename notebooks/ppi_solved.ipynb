{
 "cells": [
  {
   "cell_type": "markdown",
   "metadata": {},
   "source": [
    "# Exercícios de \"playing Python interpreter\""
   ]
  },
  {
   "cell_type": "markdown",
   "metadata": {},
   "source": [
    "Instruções gerais:\n",
    "\n",
    "Em cada exercício, tente prever qual o _output_ da célula. Para confirmar, **corra a célula e compare**!\n",
    "\n",
    "Estes exercícios estão divididos em secções, de acordo com alguns conceitos da linguagem Python.\n",
    "\n",
    "Versão da linguagem: 3.6\n",
    "\n",
    "Módulos adicionais necessários: nenhum"
   ]
  },
  {
   "cell_type": "markdown",
   "metadata": {},
   "source": [
    "### ciclos `for`, função `range()`, indexação"
   ]
  },
  {
   "cell_type": "code",
   "execution_count": 1,
   "metadata": {},
   "outputs": [
    {
     "name": "stdout",
     "output_type": "stream",
     "text": [
      "2 4\n",
      "3 9\n",
      "4 16\n"
     ]
    }
   ],
   "source": [
    "for n in [2, 3, 4]:\n",
    "    print(n, n**2)"
   ]
  },
  {
   "cell_type": "code",
   "execution_count": 2,
   "metadata": {},
   "outputs": [
    {
     "name": "stdout",
     "output_type": "stream",
     "text": [
      "4 16\n"
     ]
    }
   ],
   "source": [
    "for n in [2, 3, 4]:\n",
    "    if n**2 > 10:\n",
    "        print(n, n**2)"
   ]
  },
  {
   "cell_type": "code",
   "execution_count": 3,
   "metadata": {},
   "outputs": [
    {
     "name": "stdout",
     "output_type": "stream",
     "text": [
      "2 22\n",
      "3 33\n",
      "4 44\n",
      "A AA\n",
      "B BB\n",
      "C CC\n"
     ]
    }
   ],
   "source": [
    "for n in '234ABC':\n",
    "    print(n, n*2)"
   ]
  },
  {
   "cell_type": "code",
   "execution_count": 4,
   "metadata": {},
   "outputs": [
    {
     "name": "stdout",
     "output_type": "stream",
     "text": [
      "2 22\n",
      ", ,,\n",
      "3 33\n",
      ", ,,\n",
      "4 44\n",
      ", ,,\n",
      "A AA\n",
      "B BB\n",
      "C CC\n"
     ]
    }
   ],
   "source": [
    "for n in '2,3,4,ABC':\n",
    "    print(n, n*2)"
   ]
  },
  {
   "cell_type": "code",
   "execution_count": 5,
   "metadata": {},
   "outputs": [
    {
     "name": "stdout",
     "output_type": "stream",
     "text": [
      "A\n",
      "AA\n",
      "B\n",
      "BB\n",
      "C\n",
      "CC\n"
     ]
    }
   ],
   "source": [
    "for n in '2,3,4,ABC':\n",
    "    if n in 'ABRACADABRA':\n",
    "        print(n)\n",
    "        print(n*2)"
   ]
  },
  {
   "cell_type": "code",
   "execution_count": 6,
   "metadata": {},
   "outputs": [
    {
     "name": "stdout",
     "output_type": "stream",
     "text": [
      "2\n",
      "22\n",
      "B\n",
      "BB\n",
      "4\n",
      "8\n"
     ]
    }
   ],
   "source": [
    "for n in {'2': 'A', 'B': 3, 4: 'ABC'}:\n",
    "    print(n)\n",
    "    print(n*2)"
   ]
  },
  {
   "cell_type": "code",
   "execution_count": 7,
   "metadata": {},
   "outputs": [
    {
     "name": "stdout",
     "output_type": "stream",
     "text": [
      "('2', 'A')\n",
      "('B', 3)\n",
      "(4, 'ABC')\n"
     ]
    }
   ],
   "source": [
    "d = {'2': 'A', \n",
    "     'B': 3, \n",
    "      4: 'ABC'}\n",
    "\n",
    "for i in d.items():\n",
    "    print(i)"
   ]
  },
  {
   "cell_type": "code",
   "execution_count": 8,
   "metadata": {},
   "outputs": [
    {
     "name": "stdout",
     "output_type": "stream",
     "text": [
      "2 - A\n",
      "B - 3\n",
      "4 - ABC\n"
     ]
    }
   ],
   "source": [
    "d = {'2': 'A', \n",
    "     'B': 3, \n",
    "     4: 'ABC'}\n",
    "\n",
    "for k, v in d.items():\n",
    "    print(k, '-', v)"
   ]
  },
  {
   "cell_type": "code",
   "execution_count": 9,
   "metadata": {},
   "outputs": [
    {
     "name": "stdout",
     "output_type": "stream",
     "text": [
      "0 0\n",
      "1 1\n",
      "2 4\n"
     ]
    }
   ],
   "source": [
    "for n in range(3):\n",
    "    print(n, n**2)"
   ]
  },
  {
   "cell_type": "code",
   "execution_count": 10,
   "metadata": {},
   "outputs": [
    {
     "name": "stdout",
     "output_type": "stream",
     "text": [
      "3 9\n",
      "5 25\n"
     ]
    }
   ],
   "source": [
    "for n in range(3, 6, 2):\n",
    "    print(n, n**2)"
   ]
  },
  {
   "cell_type": "code",
   "execution_count": 11,
   "metadata": {},
   "outputs": [
    {
     "name": "stdout",
     "output_type": "stream",
     "text": [
      "1 1\n"
     ]
    }
   ],
   "source": [
    "for n in range(len('0'), len('40')):\n",
    "    print(n, n**2)"
   ]
  },
  {
   "cell_type": "code",
   "execution_count": 12,
   "metadata": {},
   "outputs": [
    {
     "name": "stdout",
     "output_type": "stream",
     "text": [
      "[2, 3, 4] ABRACADABRA {'2': 'A', 'B': 3, 4: 'ABC'}\n"
     ]
    }
   ],
   "source": [
    "a = [2, 3, 4]\n",
    "b = 'ABRACADABRA'\n",
    "c = {'2': 'A', 'B': 3, 4: 'ABC'}\n",
    "print(a, b, c)"
   ]
  },
  {
   "cell_type": "code",
   "execution_count": 13,
   "metadata": {},
   "outputs": [
    {
     "name": "stdout",
     "output_type": "stream",
     "text": [
      "[2, 3, 4] ABRACADABRA {'2': 'A', 'B': 3, 4: 'ABC'}\n"
     ]
    }
   ],
   "source": [
    "a, b, c = [2, 3, 4], 'ABRACADABRA', {'2': 'A', 'B': 3, 4: 'ABC'}\n",
    "print(a, b, c)"
   ]
  },
  {
   "cell_type": "code",
   "execution_count": 14,
   "metadata": {},
   "outputs": [
    {
     "name": "stdout",
     "output_type": "stream",
     "text": [
      "[2, 3, 4] ['A', 'B', 'R', 'A', 'C', 'A', 'D', 'A', 'B', 'R', 'A'] ['2', 'B', 4]\n"
     ]
    }
   ],
   "source": [
    "a, b, c = [2, 3, 4], 'ABRACADABRA', {'2': 'A', 'B': 3, 4: 'ABC'}\n",
    "print(list(a), list(b), list(c))"
   ]
  },
  {
   "cell_type": "code",
   "execution_count": 15,
   "metadata": {},
   "outputs": [
    {
     "name": "stdout",
     "output_type": "stream",
     "text": [
      "[2, 3, 4] ABRACADABRA {'2': 'A', 'B': 3, 4: 'ABC'}\n"
     ]
    }
   ],
   "source": [
    "a, b, c = [2, 3, 4], 'ABRACADABRA', {'2': 'A', 'B': 3, 4: 'ABC'}\n",
    "print(str(a), str(b), str(c))"
   ]
  },
  {
   "cell_type": "code",
   "execution_count": 16,
   "metadata": {},
   "outputs": [
    {
     "name": "stdout",
     "output_type": "stream",
     "text": [
      "2\n",
      "3\n",
      "4\n"
     ]
    }
   ],
   "source": [
    "a, b, c = [2, 3, 4], 'ABRACADABRA', {'2': 'A', 'B': 3, 4: 'ABC'}\n",
    "\n",
    "for n in a:\n",
    "    print(n)"
   ]
  },
  {
   "cell_type": "code",
   "execution_count": 17,
   "metadata": {},
   "outputs": [
    {
     "name": "stdout",
     "output_type": "stream",
     "text": [
      "2 R\n",
      "3 A\n",
      "4 C\n"
     ]
    }
   ],
   "source": [
    "a, b, c = [2, 3, 4], 'ABRACADABRA', {'2': 'A', 'B': 3, 4: 'ABC'}\n",
    "\n",
    "for n in a:\n",
    "    print(n, b[n])"
   ]
  },
  {
   "cell_type": "code",
   "execution_count": 18,
   "metadata": {},
   "outputs": [
    {
     "name": "stdout",
     "output_type": "stream",
     "text": [
      "4 ABC\n"
     ]
    }
   ],
   "source": [
    "a, b, c = [2, 3, 4], 'ABRACADABRA', {'2': 'A', 'B': 3, 4: 'ABC'}\n",
    "\n",
    "for n in a:\n",
    "    if n in c:\n",
    "        print(n, c[n])"
   ]
  },
  {
   "cell_type": "code",
   "execution_count": 19,
   "metadata": {},
   "outputs": [
    {
     "name": "stdout",
     "output_type": "stream",
     "text": [
      "B 3\n",
      "B 3\n"
     ]
    }
   ],
   "source": [
    "a, b, c = [2, 3, 4], 'ABRACADABRA', {'2': 'A', 'B': 3, 4: 'ABC'}\n",
    "\n",
    "for n in b:\n",
    "    if n in c:\n",
    "        print(n, c[n])"
   ]
  },
  {
   "cell_type": "code",
   "execution_count": 20,
   "metadata": {},
   "outputs": [
    {
     "name": "stdout",
     "output_type": "stream",
     "text": [
      "1 3\n"
     ]
    }
   ],
   "source": [
    "a, b, c = [2, 3, 4], 'ABRACADABRA', {'2': 'A', 'B': 3, 4: 'ABC'}\n",
    "\n",
    "for n in range(len(a)):\n",
    "    if b[n] in c:\n",
    "        print(n, c[b[n]])"
   ]
  },
  {
   "cell_type": "code",
   "execution_count": 21,
   "metadata": {},
   "outputs": [
    {
     "name": "stdout",
     "output_type": "stream",
     "text": [
      "2 3\n",
      "3 3\n",
      "4 3\n",
      "2\n"
     ]
    }
   ],
   "source": [
    "a, b, c = [2, 3, 4], 'ABRACADABRA', {'2': 'A', 'B': 3, 4: 'ABC'}\n",
    "\n",
    "for n in range(len(a)):\n",
    "    print(a[n], len(c))\n",
    "print(n)"
   ]
  },
  {
   "cell_type": "code",
   "execution_count": 22,
   "metadata": {},
   "outputs": [
    {
     "name": "stdout",
     "output_type": "stream",
     "text": [
      "A\n",
      "B\n",
      "A\n",
      "C\n",
      "A\n",
      "A\n",
      "B\n",
      "A\n"
     ]
    }
   ],
   "source": [
    "a, b, c = [2, 3, 4], 'ABRACADABRA', {'2': 'A', 'B': 3, 4: 'ABC'}\n",
    "\n",
    "for n in b:\n",
    "    if n in c[4]:\n",
    "        print(n)"
   ]
  },
  {
   "cell_type": "markdown",
   "metadata": {},
   "source": [
    "### Ciclos `for` encaixados"
   ]
  },
  {
   "cell_type": "code",
   "execution_count": 23,
   "metadata": {},
   "outputs": [
    {
     "name": "stdout",
     "output_type": "stream",
     "text": [
      "2 R\n",
      "2 R\n",
      "3 R\n",
      "3 R\n",
      "4 R\n",
      "4 R\n"
     ]
    }
   ],
   "source": [
    "a, b, c = [2, 3, 4], 'ABRACADABRA', {'2': 'A', 'B': 3, 4: 'ABC'}\n",
    "\n",
    "for i in a:\n",
    "    for j in b:\n",
    "        if j == 'R':\n",
    "            print(i, j)"
   ]
  },
  {
   "cell_type": "code",
   "execution_count": 24,
   "metadata": {},
   "outputs": [
    {
     "name": "stdout",
     "output_type": "stream",
     "text": [
      "2\n",
      "R\n",
      "R\n",
      "3\n",
      "R\n",
      "R\n",
      "4\n",
      "R\n",
      "R\n"
     ]
    }
   ],
   "source": [
    "a, b, c = [2, 3, 4], 'ABRACADABRA', {'2': 'A', 'B': 3, 4: 'ABC'}\n",
    "\n",
    "for i in a:\n",
    "    print(i)\n",
    "    for j in b:\n",
    "        if j == 'R':\n",
    "            print(j)"
   ]
  },
  {
   "cell_type": "code",
   "execution_count": 25,
   "metadata": {},
   "outputs": [
    {
     "name": "stdout",
     "output_type": "stream",
     "text": [
      "2\n",
      "3\n",
      "4\n",
      "R\n",
      "R\n"
     ]
    }
   ],
   "source": [
    "a, b, c = [2, 3, 4], 'ABRACADABRA', {'2': 'A', 'B': 3, 4: 'ABC'}\n",
    "\n",
    "for i in a:\n",
    "    print(i)\n",
    "for j in b:\n",
    "    if j == 'R':\n",
    "        print(j)"
   ]
  },
  {
   "cell_type": "code",
   "execution_count": 26,
   "metadata": {},
   "outputs": [
    {
     "name": "stdout",
     "output_type": "stream",
     "text": [
      "2\n",
      "3\n",
      "4\n",
      "4\n",
      "4\n",
      "A\n"
     ]
    }
   ],
   "source": [
    "a, b, c = [2, 3, 4], 'ABRACADABRA', {'2': 'A', 'B': 3, 4: 'ABC'}\n",
    "\n",
    "for i in a:\n",
    "    print(i)\n",
    "for j in b:\n",
    "    if j == 'R':\n",
    "        print(i)\n",
    "print(j)"
   ]
  },
  {
   "cell_type": "code",
   "execution_count": 27,
   "metadata": {},
   "outputs": [
    {
     "name": "stdout",
     "output_type": "stream",
     "text": [
      "0 R\n",
      "0 R\n",
      "1 R\n",
      "1 R\n",
      "2 R\n",
      "2 R\n"
     ]
    }
   ],
   "source": [
    "a, b, c = [2, 3, 4], 'ABRACADABRA', {'2': 'A', 'B': 3, 4: 'ABC'}\n",
    "\n",
    "for i in range(len(a)):\n",
    "    for j in b:\n",
    "        if j == 'R':\n",
    "            print(i, j)"
   ]
  },
  {
   "cell_type": "code",
   "execution_count": 28,
   "metadata": {},
   "outputs": [
    {
     "name": "stdout",
     "output_type": "stream",
     "text": [
      "0 2\n",
      "1 2\n",
      "2 2\n"
     ]
    }
   ],
   "source": [
    "a, b, c = [2, 3, 4], 'ABRACADABRA', {'2': 'A', 'B': 3, 4: 'ABC'}\n",
    "\n",
    "for i in range(len(a)):\n",
    "    for j in range(len(b)):\n",
    "        if j == 2:\n",
    "            print(i, j)"
   ]
  },
  {
   "cell_type": "code",
   "execution_count": 29,
   "metadata": {},
   "outputs": [
    {
     "name": "stdout",
     "output_type": "stream",
     "text": [
      "2 A\n",
      "3 B\n",
      "4 R\n"
     ]
    }
   ],
   "source": [
    "a, b, c = [2, 3, 4], 'ABRACADABRA', {'2': 'A', 'B': 3, 4: 'ABC'}\n",
    "\n",
    "for i in range(len(a)):\n",
    "    for j in range(len(b)):\n",
    "        if j == i:\n",
    "            print(a[i], b[j])"
   ]
  },
  {
   "cell_type": "code",
   "execution_count": 30,
   "metadata": {},
   "outputs": [
    {
     "name": "stdout",
     "output_type": "stream",
     "text": [
      "A\n",
      "A\n",
      "A\n"
     ]
    }
   ],
   "source": [
    "a, b, c = [2, 3, 4], 'ABRACADABRA', {'2': 'A', 'B': 3, 4: 'ABC'}\n",
    "\n",
    "for i in range(len(a)):\n",
    "    for j in range(len(b)):\n",
    "        if j == len(a):\n",
    "            print(b[j])"
   ]
  },
  {
   "cell_type": "code",
   "execution_count": 31,
   "metadata": {},
   "outputs": [
    {
     "name": "stdout",
     "output_type": "stream",
     "text": [
      "A\n",
      "B\n",
      "A\n",
      "C\n",
      "A\n",
      "A\n",
      "B\n",
      "A\n"
     ]
    }
   ],
   "source": [
    "a, b, c = [2, 3, 4], 'ABRACADABRA', {'2': 'A', 'B': 3, 4: 'ABC'}\n",
    "\n",
    "for i in b:\n",
    "    for j in c[4]:\n",
    "        if i == j:\n",
    "            print(i)"
   ]
  },
  {
   "cell_type": "markdown",
   "metadata": {},
   "source": [
    "### Listas em compreensão"
   ]
  },
  {
   "cell_type": "code",
   "execution_count": 32,
   "metadata": {},
   "outputs": [
    {
     "name": "stdout",
     "output_type": "stream",
     "text": [
      "['R', 'A', 'C']\n"
     ]
    }
   ],
   "source": [
    "a, b, c = [2, 3, 4], 'ABRACADABRA', {'2': 'A', 'B': 3, 4: 'ABC'}\n",
    "print([b[n] for n in a])"
   ]
  },
  {
   "cell_type": "code",
   "execution_count": 33,
   "metadata": {},
   "outputs": [
    {
     "name": "stdout",
     "output_type": "stream",
     "text": [
      "['C']\n"
     ]
    }
   ],
   "source": [
    "a, b, c = [2, 3, 4], 'ABRACADABRA', {'2': 'A', 'B': 3, 4: 'ABC'}\n",
    "print([b[n] for n in a if n in c])"
   ]
  },
  {
   "cell_type": "code",
   "execution_count": 34,
   "metadata": {},
   "outputs": [
    {
     "name": "stdout",
     "output_type": "stream",
     "text": [
      "[8]\n"
     ]
    }
   ],
   "source": [
    "a, b, c = [2, 3, 4], 'ABRACADABRA', {'2': 'A', 'B': 3, 4: 'ABC'}\n",
    "print([n*2 for n in a if n in c])"
   ]
  },
  {
   "cell_type": "code",
   "execution_count": 35,
   "metadata": {},
   "outputs": [
    {
     "name": "stdout",
     "output_type": "stream",
     "text": [
      "[8]\n"
     ]
    }
   ],
   "source": [
    "a, b, c = [2, 3, 4], 'ABRACADABRA', {'2': 'A', 'B': 3, 4: 'ABC'}\n",
    "print([n*2 for n in range(len(b)) if n in c])"
   ]
  },
  {
   "cell_type": "code",
   "execution_count": 36,
   "metadata": {},
   "outputs": [
    {
     "name": "stdout",
     "output_type": "stream",
     "text": [
      "[3, 3]\n"
     ]
    }
   ],
   "source": [
    "a, b, c = [2, 3, 4], 'ABRACADABRA', {'2': 'A', 'B': 3, 4: 'ABC'}\n",
    "print([c[n] for n in b if n in c])"
   ]
  },
  {
   "cell_type": "code",
   "execution_count": 37,
   "metadata": {},
   "outputs": [
    {
     "name": "stdout",
     "output_type": "stream",
     "text": [
      "['A', 'C']\n"
     ]
    }
   ],
   "source": [
    "a, b, c = [2, 3, 4], 'ABRACADABRA', {'2': 'A', 'B': 3, 4: 'ABC'}\n",
    "print([m for m in [b[n] for n in a] if m in 'ABC'])"
   ]
  },
  {
   "cell_type": "code",
   "execution_count": 38,
   "metadata": {},
   "outputs": [
    {
     "name": "stdout",
     "output_type": "stream",
     "text": [
      "[0, 4, 16, 36, 64]\n"
     ]
    }
   ],
   "source": [
    "a = [i for i in range(100)]\n",
    "b = [i**2 for i in a if i < 10]\n",
    "c = [i for i in b if i%2 == 0]\n",
    "print(c)"
   ]
  },
  {
   "cell_type": "markdown",
   "metadata": {},
   "source": [
    "### Slices"
   ]
  },
  {
   "cell_type": "code",
   "execution_count": 39,
   "metadata": {},
   "outputs": [
    {
     "name": "stdout",
     "output_type": "stream",
     "text": [
      "GGCGAACCGGCTAG\n",
      "AT\n",
      "TGGCGAACCGGCTAG\n",
      "A\n",
      "ATGGCGAACCGGCTA\n",
      "TGGCGAACCGGCTA\n"
     ]
    }
   ],
   "source": [
    "seq = 'ATGGCGAACCGGCTAG'\n",
    "\n",
    "print(seq[2:])\n",
    "print(seq[:2])\n",
    "print(seq[1:])\n",
    "print(seq[:1])\n",
    "print(seq[:-1])\n",
    "print(seq[1:-1])"
   ]
  },
  {
   "cell_type": "code",
   "execution_count": 40,
   "metadata": {},
   "outputs": [
    {
     "name": "stdout",
     "output_type": "stream",
     "text": [
      "['G', 'G', 'C', 'G', 'A', 'A', 'C', 'C', 'G', 'G', 'C', 'T', 'A', 'G']\n",
      "['A', 'T']\n",
      "['T', 'G', 'G', 'C', 'G', 'A', 'A', 'C', 'C', 'G', 'G', 'C', 'T', 'A', 'G']\n",
      "['A']\n",
      "['A', 'T', 'G', 'G', 'C', 'G', 'A', 'A', 'C', 'C', 'G', 'G', 'C', 'T', 'A']\n",
      "['T', 'G', 'G', 'C', 'G', 'A', 'A', 'C', 'C', 'G', 'G', 'C', 'T', 'A']\n"
     ]
    }
   ],
   "source": [
    "seq = list('ATGGCGAACCGGCTAG')\n",
    "\n",
    "print(seq[2:])\n",
    "print(seq[:2])\n",
    "print(seq[1:])\n",
    "print(seq[:1])\n",
    "print(seq[:-1])\n",
    "print(seq[1:-1])"
   ]
  },
  {
   "cell_type": "code",
   "execution_count": 41,
   "metadata": {},
   "outputs": [
    {
     "name": "stdout",
     "output_type": "stream",
     "text": [
      "AGACCG\n"
     ]
    }
   ],
   "source": [
    "seq = 'ATGGCGAACCGGCTAG'\n",
    "\n",
    "print(seq[::3])"
   ]
  },
  {
   "cell_type": "code",
   "execution_count": 42,
   "metadata": {},
   "outputs": [
    {
     "name": "stdout",
     "output_type": "stream",
     "text": [
      "GCG\n",
      "GTA\n"
     ]
    }
   ],
   "source": [
    "seq = 'ATGGCGAACCGGCTAGTA'\n",
    "\n",
    "for i in range(0, len(seq), 3):\n",
    "    if seq[i] == 'G':\n",
    "        print(seq[i: i+3])"
   ]
  },
  {
   "cell_type": "markdown",
   "metadata": {},
   "source": [
    "### `zip()` e `enumerate()`"
   ]
  },
  {
   "cell_type": "code",
   "execution_count": 43,
   "metadata": {},
   "outputs": [
    {
     "name": "stdout",
     "output_type": "stream",
     "text": [
      "(0, 'A')\n",
      "(1, 'T')\n",
      "(2, 'G')\n",
      "(3, 'G')\n",
      "(4, 'C')\n",
      "(5, 'G')\n",
      "(6, 'A')\n",
      "(7, 'A')\n",
      "(8, 'C')\n",
      "(9, 'C')\n",
      "(10, 'G')\n",
      "(11, 'G')\n",
      "(12, 'C')\n",
      "(13, 'T')\n",
      "(14, 'A')\n",
      "(15, 'G')\n",
      "(16, 'T')\n",
      "(17, 'A')\n"
     ]
    }
   ],
   "source": [
    "seq = 'ATGGCGAACCGGCTAGTA'\n",
    "\n",
    "for i in enumerate(seq):\n",
    "    print(i)"
   ]
  },
  {
   "cell_type": "code",
   "execution_count": 44,
   "metadata": {},
   "outputs": [
    {
     "name": "stdout",
     "output_type": "stream",
     "text": [
      "2 G\n",
      "3 G\n",
      "5 G\n",
      "10 G\n",
      "11 G\n",
      "15 G\n"
     ]
    }
   ],
   "source": [
    "seq = 'ATGGCGAACCGGCTAGTA'\n",
    "\n",
    "for i, b in enumerate(seq):\n",
    "    if b == 'G':\n",
    "        print(i, b)"
   ]
  },
  {
   "cell_type": "code",
   "execution_count": 45,
   "metadata": {},
   "outputs": [
    {
     "name": "stdout",
     "output_type": "stream",
     "text": [
      "0 2\n",
      "1 3\n",
      "2 4\n",
      "0 A\n",
      "1 B\n",
      "2 R\n",
      "3 A\n",
      "4 C\n",
      "5 A\n",
      "6 D\n",
      "7 A\n",
      "8 B\n",
      "9 R\n",
      "10 A\n",
      "0 2\n",
      "1 B\n",
      "2 4\n"
     ]
    }
   ],
   "source": [
    "a, b, c = [2, 3, 4], 'ABRACADABRA', {'2': 'A', 'B': 3, 4: 'ABC'}\n",
    "\n",
    "for i, k in enumerate(a):\n",
    "    print(i, k)\n",
    "    \n",
    "for i, k in enumerate(b):\n",
    "    print(i, k)\n",
    "\n",
    "for i, k in enumerate(c):\n",
    "    print(i, k)"
   ]
  },
  {
   "cell_type": "code",
   "execution_count": 46,
   "metadata": {},
   "outputs": [
    {
     "name": "stdout",
     "output_type": "stream",
     "text": [
      "(2, 'A')\n",
      "(3, 'B')\n",
      "(4, 'R')\n",
      "2 A\n",
      "3 B\n",
      "4 R\n"
     ]
    }
   ],
   "source": [
    "a, b, c = [2, 3, 4], 'ABRACADABRA', {'2': 'A', 'B': 3, 4: 'ABC'}\n",
    "\n",
    "for x in zip(a, b):\n",
    "    print(x)\n",
    "    \n",
    "for i, j in zip(a, b):\n",
    "    print(i, j)"
   ]
  },
  {
   "cell_type": "code",
   "execution_count": 47,
   "metadata": {},
   "outputs": [
    {
     "name": "stdout",
     "output_type": "stream",
     "text": [
      "A 2\n",
      "B B\n",
      "R 4\n"
     ]
    }
   ],
   "source": [
    "a, b, c = [2, 3, 4], 'ABRACADABRA', {'2': 'A', 'B': 3, 4: 'ABC'}\n",
    "    \n",
    "for i, j in zip(b, c):\n",
    "    print(i, j)"
   ]
  },
  {
   "cell_type": "code",
   "execution_count": 48,
   "metadata": {},
   "outputs": [
    {
     "name": "stdout",
     "output_type": "stream",
     "text": [
      "['ATG', 'GCG', 'AAC', 'CGG', 'CTA', 'GTA']\n"
     ]
    }
   ],
   "source": [
    "# muitos pormenores juntos...\n",
    "seq = 'ATGGCGAACCGGCTAGTA'\n",
    "\n",
    "b1 = seq[ ::3]\n",
    "b2 = seq[1::3]\n",
    "b3 = seq[2::3]\n",
    "\n",
    "c = [''.join(x) for x in zip(b1,b2,b3)]\n",
    "print(c)"
   ]
  },
  {
   "cell_type": "markdown",
   "metadata": {},
   "source": [
    "### `strip()` , `split()` , `join()`, `replace()`"
   ]
  },
  {
   "cell_type": "code",
   "execution_count": 49,
   "metadata": {},
   "outputs": [
    {
     "name": "stdout",
     "output_type": "stream",
     "text": [
      "ATG-GCG-AAC-CGG-CTA-GTA\n"
     ]
    }
   ],
   "source": [
    "seq = 'ATGGCGAACCGGCTAGTA'\n",
    "\n",
    "cods = [''.join(x) for x in zip(seq[ ::3],seq[1::3],seq[2::3])]\n",
    "print('-'.join(cods))"
   ]
  },
  {
   "cell_type": "code",
   "execution_count": 50,
   "metadata": {},
   "outputs": [
    {
     "name": "stdout",
     "output_type": "stream",
     "text": [
      "Um pequeno texto,que ocupavárias linhas,algumas vazias\n"
     ]
    }
   ],
   "source": [
    "a = '''Um pequeno texto,\n",
    "que ocupa\n",
    "\n",
    "várias linhas,\n",
    "algumas vazias'''\n",
    "\n",
    "print(''.join(a.split('\\n')))"
   ]
  },
  {
   "cell_type": "code",
   "execution_count": 51,
   "metadata": {},
   "outputs": [
    {
     "name": "stdout",
     "output_type": "stream",
     "text": [
      "Um pequeno texto, que ocupa  várias linhas, algumas vazias\n"
     ]
    }
   ],
   "source": [
    "a = '''Um pequeno texto,\n",
    "que ocupa\n",
    "\n",
    "várias linhas,\n",
    "algumas vazias'''\n",
    "\n",
    "print(a.replace('\\n', ' '))"
   ]
  },
  {
   "cell_type": "code",
   "execution_count": 52,
   "metadata": {},
   "outputs": [
    {
     "name": "stdout",
     "output_type": "stream",
     "text": [
      "Um pequeno texto, que ocupa várias linhas, algumas vazias\n"
     ]
    }
   ],
   "source": [
    "a = '''Um pequeno texto,\n",
    "que ocupa\n",
    "\n",
    "várias linhas,\n",
    "algumas vazias'''\n",
    "\n",
    "print(a.replace('\\n\\n', '\\n').replace('\\n', ' '))"
   ]
  },
  {
   "cell_type": "code",
   "execution_count": 53,
   "metadata": {},
   "outputs": [
    {
     "name": "stdout",
     "output_type": "stream",
     "text": [
      "['Um', 'pequeno', 'texto,', 'que', 'ocupa', 'várias', 'linhas,', 'algumas', 'vazias']\n"
     ]
    }
   ],
   "source": [
    "a = '''Um pequeno texto,\n",
    "que ocupa\n",
    "\n",
    "várias linhas,\n",
    "algumas vazias'''\n",
    "\n",
    "print(a.split())"
   ]
  },
  {
   "cell_type": "code",
   "execution_count": 54,
   "metadata": {},
   "outputs": [
    {
     "name": "stdout",
     "output_type": "stream",
     "text": [
      "Um pequeno texto que ocupa várias linhas algumas vazias\n"
     ]
    }
   ],
   "source": [
    "a = '''Um pequeno texto,\n",
    "que ocupa\n",
    "\n",
    "várias linhas,\n",
    "algumas vazias'''\n",
    "\n",
    "print(' '.join([w.strip(',') for w in a.split()]))"
   ]
  },
  {
   "cell_type": "code",
   "execution_count": 55,
   "metadata": {},
   "outputs": [
    {
     "name": "stdout",
     "output_type": "stream",
     "text": [
      "['ocupa', 'algumas']\n"
     ]
    }
   ],
   "source": [
    "a = '''Um pequeno texto,\n",
    "que ocupa\n",
    "\n",
    "várias linhas,\n",
    "algumas vazias'''\n",
    "\n",
    "print([w.strip(',') for w in a.split() if w[0] in 'aeiou'])"
   ]
  },
  {
   "cell_type": "code",
   "execution_count": null,
   "metadata": {},
   "outputs": [],
   "source": []
  }
 ],
 "metadata": {
  "kernelspec": {
   "display_name": "Python 3",
   "language": "python",
   "name": "python3"
  },
  "language_info": {
   "codemirror_mode": {
    "name": "ipython",
    "version": 3
   },
   "file_extension": ".py",
   "mimetype": "text/x-python",
   "name": "python",
   "nbconvert_exporter": "python",
   "pygments_lexer": "ipython3",
   "version": "3.6.4"
  }
 },
 "nbformat": 4,
 "nbformat_minor": 2
}
