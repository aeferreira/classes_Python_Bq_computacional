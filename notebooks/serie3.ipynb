{
 "cells": [
  {
   "cell_type": "markdown",
   "metadata": {},
   "source": [
    "1 -\tDada a seguinte sequência de nucleótidos de DNA, que deve copiar para uma célula em branco, escreva um programa que separe a sequência nos seus codões criando uma lista de codões. Apresente esses codões e uma contagem do seu número.\n",
    "\n",
    "`seq = \"AGCTGGATCCTGAACGATGCATAAGCATAGCCATAGACTAGCATGGGACTAAAGGTCCATTACTGA\"`"
   ]
  },
  {
   "cell_type": "code",
   "execution_count": 1,
   "metadata": {},
   "outputs": [
    {
     "name": "stdout",
     "output_type": "stream",
     "text": [
      "['AGC', 'TGG', 'ATC', 'CTG', 'AAC', 'GAT', 'GCA', 'TAA', 'GCA', 'TAG', 'CCA', 'TAG', 'ACT', 'AGC', 'ATG', 'GGA', 'CTA', 'AAG', 'GTC', 'CAT', 'TAC', 'TGA']\n",
      "São 22 codões\n"
     ]
    }
   ],
   "source": [
    "seq = \"AGCTGGATCCTGAACGATGCATAAGCATAGCCATAGACTAGCATGGGACTAAAGGTCCATTACTGA\"\n",
    "\n",
    "cods = []\n",
    "starts = range(0, len(seq), 3)\n",
    "for i in starts:\n",
    "    c = seq[i:i+3] # usando um slice\n",
    "    cods.append(c)\n",
    "\n",
    "# ou então, com uma lista em compreensão\n",
    "#cods = [seq[i:i+3] for i in starts]\n",
    "\n",
    "print(cods)\n",
    "print('São', len(cods),'codões')"
   ]
  },
  {
   "cell_type": "markdown",
   "metadata": {},
   "source": [
    "2 -\tDada a mesma sequência, escreva um programa que apresente apenas os codões que começam por A e acabam em G, criando uma lista desses codões.\n",
    "\n",
    "Apresente essa lista e uma contagem."
   ]
  },
  {
   "cell_type": "code",
   "execution_count": 2,
   "metadata": {},
   "outputs": [
    {
     "name": "stdout",
     "output_type": "stream",
     "text": [
      "['ATG', 'AAG']\n",
      "São 2 codões\n"
     ]
    }
   ],
   "source": [
    "seq = \"AGCTGGATCCTGAACGATGCATAAGCATAGCCATAGACTAGCATGGGACTAAAGGTCCATTACTGA\"\n",
    "\n",
    "cods = []\n",
    "starts = range(0, len(seq), 3)\n",
    "for i in starts:\n",
    "    c = seq[i:i+3]\n",
    "    if c[0] == 'A' and c[-1] == 'G':\n",
    "        cods.append(c)\n",
    "\n",
    "print(cods)\n",
    "print('São', len(cods),'codões')"
   ]
  },
  {
   "cell_type": "markdown",
   "metadata": {},
   "source": [
    "3 -\tDada a mesma sequência, escreva um programa que apresente a sequência com os codões separados por um hifen (\"-\").\n",
    "\n",
    "Sugestão: use a função  `'-'.join(listadecodões)` para criar a string a apresentar."
   ]
  },
  {
   "cell_type": "code",
   "execution_count": 3,
   "metadata": {},
   "outputs": [
    {
     "name": "stdout",
     "output_type": "stream",
     "text": [
      "AGC-TGG-ATC-CTG-AAC-GAT-GCA-TAA-GCA-TAG-CCA-TAG-ACT-AGC-ATG-GGA-CTA-AAG-GTC-CAT-TAC-TGA\n"
     ]
    }
   ],
   "source": [
    "seq = \"AGCTGGATCCTGAACGATGCATAAGCATAGCCATAGACTAGCATGGGACTAAAGGTCCATTACTGA\"\n",
    "\n",
    "cods = [seq[i:i+3] for i in range(0, len(seq), 3)]\n",
    "\n",
    "seqsep = '-'.join(cods)\n",
    "\n",
    "print(seqsep)"
   ]
  },
  {
   "cell_type": "markdown",
   "metadata": {},
   "source": [
    "4 -\tEscreva um programa que calcule o complemento da sequência de DNA. Apresente o resultado num formato de \"cadeia dupla com indicação do sentido\":\n",
    "\n",
    "```\n",
    "5'-AGC-TGG-...-GTC-CAT-TAC-TGA-3'\n",
    "3'-TCG-ACC-...-CAG-GTA-ATG-ACT-5'\n",
    "```\n"
   ]
  },
  {
   "cell_type": "code",
   "execution_count": 4,
   "metadata": {},
   "outputs": [
    {
     "name": "stdout",
     "output_type": "stream",
     "text": [
      "5'-AGC-TGG-ATC-CTG-AAC-GAT-GCA-TAA-GCA-TAG-CCA-TAG-ACT-AGC-ATG-GGA-CTA-AAG-GTC-CAT-TAC-TGA-3'\n",
      "3'-TCG-ACC-TAG-GAC-TTG-CTA-CGT-ATT-CGT-ATC-GGT-ATC-TGA-TCG-TAC-CCT-GAT-TTC-CAG-GTA-ATG-ACT-5'\n"
     ]
    }
   ],
   "source": [
    "seq = \"AGCTGGATCCTGAACGATGCATAAGCATAGCCATAGACTAGCATGGGACTAAAGGTCCATTACTGA\"\n",
    "complementares = {'A':'T', 'T':'A', 'G':'C', 'C':'G'}\n",
    "\n",
    "cods = [seq[i:i+3] for i in range(0, len(seq), 3)]\n",
    "print(\"5'-\" + '-'.join(cods) + \"-3'\")\n",
    "\n",
    "comp = ''\n",
    "for b in seq:\n",
    "    comp = comp + complementares[b]\n",
    "#print(comp)\n",
    "\n",
    "codscomp = [comp[i:i+3] for i in range(0, len(comp),3)]\n",
    "#print(codscomp)\n",
    "\n",
    "print(\"3'-\" + '-'.join(codscomp) + \"-5'\")"
   ]
  },
  {
   "cell_type": "markdown",
   "metadata": {},
   "source": [
    "5 -\tComplete o programa apresentando o complemento reverso da sequência de DNA."
   ]
  },
  {
   "cell_type": "code",
   "execution_count": 5,
   "metadata": {},
   "outputs": [
    {
     "name": "stdout",
     "output_type": "stream",
     "text": [
      "5'-AGC-TGG-ATC-CTG-AAC-GAT-GCA-TAA-GCA-TAG-CCA-TAG-ACT-AGC-ATG-GGA-CTA-AAG-GTC-CAT-TAC-TGA-3'\n",
      "3'-TCG-ACC-TAG-GAC-TTG-CTA-CGT-ATT-CGT-ATC-GGT-ATC-TGA-TCG-TAC-CCT-GAT-TTC-CAG-GTA-ATG-ACT-5'\n",
      "Complemento reverso:\n",
      "5'-TCA-GTA-ATG-GAC-CTT-TAG-TCC-CAT-GCT-AGT-CTA-TGG-CTA-TGC-TTA-TGC-ATC-GTT-CAG-GAT-CCA-GCT-3'\n"
     ]
    }
   ],
   "source": [
    "seq = \"AGCTGGATCCTGAACGATGCATAAGCATAGCCATAGACTAGCATGGGACTAAAGGTCCATTACTGA\"\n",
    "complementares = {'A':'T', 'T':'A', 'G':'C', 'C':'G'}\n",
    "\n",
    "cods = [seq[i:i+3] for i in range(0, len(seq), 3)]\n",
    "print(\"5'-\" + '-'.join(cods) + \"-3'\")\n",
    "\n",
    "seqcomp = ''.join([complementares[b] for b in seq])\n",
    "\n",
    "codscomp = [seqcomp[i:i+3] for i in range(0, len(seqcomp),3)]\n",
    "print(\"3'-\" + '-'.join(codscomp) + \"-5'\")\n",
    "\n",
    "rev = ''.join(reversed(seqcomp))\n",
    "\n",
    "print('Complemento reverso:')\n",
    "codsrev = [rev[i:i+3] for i in range(0, len(rev),3)]\n",
    "print(\"5'-\" + '-'.join(codsrev) + \"-3'\")"
   ]
  },
  {
   "cell_type": "markdown",
   "metadata": {},
   "source": [
    "6 - Escreva um programa que obtenha, da UniProt a sequência da proteína P00924.\n",
    "\n",
    "Para isso, adapte o programa da série 1, que obtinha uma sequência da UniProt em FASTA de uma forma programática.\n",
    "\n",
    "Depois faça a contagem de cada um dos 20 amino ácidos **para um dicionário** (as chaves são as letras dos 20 amino ácidos e os valores são as contagem). Para descartar a primeira linha da sequência (o cabeçalho) divida a sequência usando a\n",
    "função `.splitlines()` e depois use a função `join()`. Os códigos dos amino ácidos estão na string\n",
    "\n",
    "`aa_residues   = \"ACDEFGHIKLMNPQRSTVWY\"`"
   ]
  },
  {
   "cell_type": "code",
   "execution_count": 6,
   "metadata": {},
   "outputs": [
    {
     "name": "stdout",
     "output_type": "stream",
     "text": [
      "A -> 55\n",
      "C -> 1\n",
      "D -> 31\n",
      "E -> 25\n",
      "F -> 16\n",
      "G -> 37\n",
      "H -> 11\n",
      "I -> 23\n",
      "K -> 37\n",
      "L -> 40\n",
      "M -> 6\n",
      "N -> 19\n",
      "P -> 15\n",
      "Q -> 9\n",
      "R -> 14\n",
      "S -> 31\n",
      "T -> 20\n",
      "V -> 33\n",
      "W -> 5\n",
      "Y -> 9\n"
     ]
    }
   ],
   "source": [
    "import requests\n",
    "proteína = 'P00924'\n",
    "link = f'http://www.uniprot.org/uniprot/{proteína}.fasta'\n",
    "seq = requests.get(link).text\n",
    "\n",
    "#print(seq)\n",
    "\n",
    "# descartar o header e juntar as linhas de sequência\n",
    "linesseq = seq.splitlines()[1:]\n",
    "seq = ''.join(linesseq)\n",
    "#print(seq)\n",
    "\n",
    "# contar aminoácidos\n",
    "\n",
    "aa_residues   = \"ACDEFGHIKLMNPQRSTVWY\"\n",
    "\n",
    "contagens = {}\n",
    "for a in aa_residues:\n",
    "    contagens[a] = seq.count(a)\n",
    "\n",
    "for a, c in contagens.items():\n",
    "    print(a, '->', c)"
   ]
  },
  {
   "cell_type": "markdown",
   "metadata": {},
   "source": [
    "7 - Depois de copiar um dicionário de classificações dos aminoácidos em grupos, complete o programa de forma a obter da UniProt a sequência da proteína P00924 a calcular (e apresentar) o número de resíduos na sequência que fazem parte de cada uma das classes de aminoácidos."
   ]
  },
  {
   "cell_type": "code",
   "execution_count": 7,
   "metadata": {},
   "outputs": [
    {
     "name": "stdout",
     "output_type": "stream",
     "text": [
      "small 242\n",
      "tiny 124\n",
      "aliphatic 96\n",
      "aromatic 41\n",
      "positive 62\n",
      "negative 56\n",
      "charged 118\n",
      "hydrophobic 256\n",
      "polar 212\n",
      "proline 15\n"
     ]
    }
   ],
   "source": [
    "import requests\n",
    "proteína = 'P00924'\n",
    "link = f'http://www.uniprot.org/uniprot/{proteína}.fasta'\n",
    "seq = requests.get(link).text\n",
    "\n",
    "#print(seq)\n",
    "\n",
    "# descartar o header e juntar as linhas de sequência\n",
    "linesseq = seq.splitlines()[1:]\n",
    "seq = ''.join(linesseq)\n",
    "#print(seq)\n",
    "\n",
    "# contar grupos\n",
    "classifs = {'small':'PCAGVTDSN',\n",
    "            'tiny':'AGCS',\n",
    "            'aliphatic': 'ILV',\n",
    "            'aromatic': 'FYWH',\n",
    "            'positive': 'KHR',\n",
    "            'negative': 'DE',\n",
    "            'charged': 'KHRDE',\n",
    "            'hydrophobic': 'CAGIVLTMHYWF',\n",
    "            'polar': 'CSTNDYWHKQRE',\n",
    "            'proline':'P'}\n",
    "\n",
    "contagens = {}\n",
    "\n",
    "for grupo in classifs:\n",
    "    aa_grupo = classifs[grupo]\n",
    "    s = 0\n",
    "    for a in aa_grupo:\n",
    "        s = s + seq.count(a)\n",
    "    contagens[grupo] = s\n",
    "    \n",
    "for grupo, c in contagens.items():\n",
    "    print(grupo, c)"
   ]
  }
 ],
 "metadata": {
  "anaconda-cloud": {},
  "kernelspec": {
   "display_name": "Python 3",
   "language": "python",
   "name": "python3"
  },
  "language_info": {
   "codemirror_mode": {
    "name": "ipython",
    "version": 3
   },
   "file_extension": ".py",
   "mimetype": "text/x-python",
   "name": "python",
   "nbconvert_exporter": "python",
   "pygments_lexer": "ipython3",
   "version": "3.7.1"
  }
 },
 "nbformat": 4,
 "nbformat_minor": 1
}
