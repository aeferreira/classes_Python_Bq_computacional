{
 "cells": [
  {
   "cell_type": "markdown",
   "id": "divine-tribune",
   "metadata": {
    "slideshow": {
     "slide_type": "slide"
    }
   },
   "source": [
    "# Coleções e iterações"
   ]
  },
  {
   "cell_type": "code",
   "execution_count": null,
   "id": "strong-morocco",
   "metadata": {
    "slideshow": {
     "slide_type": "skip"
    }
   },
   "outputs": [],
   "source": [
    "n_aminoácidos = 20 # número inteiro\n",
    "bases = 'AUCG' # string\n",
    "\n",
    "print(f'Existem {n_aminoácidos} e as bases do mRNA são {bases}')"
   ]
  },
  {
   "cell_type": "markdown",
   "id": "underlying-wagon",
   "metadata": {
    "slideshow": {
     "slide_type": "slide"
    }
   },
   "source": [
    "### Objetos booleanos\n",
    "\n",
    "No Python existem mais dois objetos que representam os conceitos de *verdadeiro* e *falso*.\n",
    "\n",
    "São eles `True` e `False` (começam por maiúscula)."
   ]
  },
  {
   "cell_type": "code",
   "execution_count": null,
   "id": "wanted-nothing",
   "metadata": {
    "slideshow": {
     "slide_type": "slide"
    }
   },
   "outputs": [],
   "source": [
    "a = 3\n",
    "print(a > 2)\n",
    "print(a > 5)\n",
    "print(a > 2 and a < 5)\n",
    "print(a >= 3)\n",
    "print(a <= 4)\n",
    "\n",
    "print()\n",
    "\n",
    "print(a == 3)\n",
    "print(a != 3)"
   ]
  },
  {
   "cell_type": "code",
   "execution_count": null,
   "id": "clean-desperate",
   "metadata": {
    "slideshow": {
     "slide_type": "slide"
    }
   },
   "outputs": [],
   "source": [
    "print(True)\n",
    "print(False)\n",
    "print(True and False)\n",
    "print(True or False)\n",
    "print(not True)"
   ]
  },
  {
   "cell_type": "markdown",
   "id": "electronic-adolescent",
   "metadata": {
    "slideshow": {
     "slide_type": "slide"
    }
   },
   "source": [
    "## Coleções\n",
    "\n",
    "- Listas\n",
    "- Dicionários\n",
    "- Conjuntos (*sets*)"
   ]
  },
  {
   "cell_type": "markdown",
   "id": "southern-guatemala",
   "metadata": {
    "slideshow": {
     "slide_type": "slide"
    }
   },
   "source": [
    "![](images/obj_colections.png)"
   ]
  },
  {
   "cell_type": "code",
   "execution_count": null,
   "id": "million-ghana",
   "metadata": {
    "slideshow": {
     "slide_type": "slide"
    }
   },
   "outputs": [],
   "source": [
    "uma_lista = [2, 4, 3.1415, 'eu aqui', 1j, \"fim da lista\"]\n",
    "\n",
    "um_dict = {'H': [1, 3] , 'Li': 3, 'Na': 11, 'K': 19}\n",
    "\n",
    "um_set = {'A', 'T', 'C', 'G'}\n",
    "\n",
    "print(uma_lista)\n",
    "print(um_dict)\n",
    "print(um_set)"
   ]
  },
  {
   "cell_type": "markdown",
   "id": "metric-story",
   "metadata": {
    "slideshow": {
     "slide_type": "slide"
    }
   },
   "source": [
    "## Listas"
   ]
  },
  {
   "cell_type": "code",
   "execution_count": null,
   "id": "stylish-newman",
   "metadata": {
    "scrolled": true,
    "slideshow": {
     "slide_type": "slide"
    }
   },
   "outputs": [],
   "source": [
    "vários = [2, 4, 3.1415, 'eu aqui', \"fim da lista\"]\n",
    "\n",
    "print(vários)"
   ]
  },
  {
   "cell_type": "code",
   "execution_count": null,
   "id": "prepared-gnome",
   "metadata": {
    "slideshow": {
     "slide_type": "slide"
    }
   },
   "outputs": [],
   "source": [
    "a = [19, 14/2, 5.0**3, 'Bom dia']\n",
    "b = 1\n",
    "c = [b, b+1, (b+2)**3]\n",
    "\n",
    "print('a =', a)\n",
    "print('c =', c)"
   ]
  },
  {
   "cell_type": "markdown",
   "id": "magnetic-accounting",
   "metadata": {
    "slideshow": {
     "slide_type": "slide"
    }
   },
   "source": [
    "Função `list()`: transformação de outros objetos numa lista"
   ]
  },
  {
   "cell_type": "code",
   "execution_count": null,
   "id": "indoor-grounds",
   "metadata": {},
   "outputs": [],
   "source": [
    "seql = list('ATGGTCAAACTTGTT')\n",
    "\n",
    "print(seql)"
   ]
  },
  {
   "cell_type": "markdown",
   "id": "secure-shaft",
   "metadata": {
    "slideshow": {
     "slide_type": "slide"
    }
   },
   "source": [
    "### Indexação de listas (com números inteiros)"
   ]
  },
  {
   "cell_type": "code",
   "execution_count": null,
   "id": "typical-fairy",
   "metadata": {
    "slideshow": {
     "slide_type": "-"
    }
   },
   "outputs": [],
   "source": [
    "#    0    1      2        3\n",
    "a = [19, 14/2, 5.0**3, 'Bom dia']\n",
    "\n",
    "print(a[1])"
   ]
  },
  {
   "cell_type": "code",
   "execution_count": null,
   "id": "bottom-weight",
   "metadata": {
    "slideshow": {
     "slide_type": "slide"
    }
   },
   "outputs": [],
   "source": [
    "a = [19, 14/2, 5.0**3, 'Bom dia']\n",
    "#    0    1      2        3\n",
    "\n",
    "print(a[0])\n",
    "print(a[1])\n",
    "print(a[2])\n",
    "print(a[3])"
   ]
  },
  {
   "cell_type": "code",
   "execution_count": null,
   "id": "honey-gazette",
   "metadata": {
    "slideshow": {
     "slide_type": "slide"
    }
   },
   "outputs": [],
   "source": [
    "dias_abril = [31, 28, 31, 30, 31][3]\n",
    "\n",
    "print(dias_abril)"
   ]
  },
  {
   "cell_type": "markdown",
   "id": "interior-repository",
   "metadata": {
    "slideshow": {
     "slide_type": "slide"
    }
   },
   "source": [
    "## Dicionários (*dicts*)"
   ]
  },
  {
   "cell_type": "code",
   "execution_count": null,
   "id": "specific-alloy",
   "metadata": {
    "slideshow": {
     "slide_type": "-"
    }
   },
   "outputs": [],
   "source": [
    "d = {'H': 1, 'Li': 3, 'Na': 11, 'K': 19}"
   ]
  },
  {
   "cell_type": "markdown",
   "id": "later-bahrain",
   "metadata": {
    "slideshow": {
     "slide_type": "slide"
    }
   },
   "source": [
    "### Indexação com as chaves"
   ]
  },
  {
   "cell_type": "code",
   "execution_count": null,
   "id": "color-evans",
   "metadata": {
    "slideshow": {
     "slide_type": "-"
    }
   },
   "outputs": [],
   "source": [
    "d = {'H':1, 'Li':3, 'Na':11, 'K':19}\n",
    "\n",
    "print('d =', d)\n",
    "\n",
    "print(d['K'])\n",
    "print(d['Li'])"
   ]
  },
  {
   "cell_type": "code",
   "execution_count": null,
   "id": "confused-economy",
   "metadata": {
    "slideshow": {
     "slide_type": "slide"
    }
   },
   "outputs": [],
   "source": [
    "n_K = {'H':1, 'Li':3, 'Na':11, 'K':19} ['K']\n",
    "\n",
    "print('Número atómico do potássio é', n_K)"
   ]
  },
  {
   "cell_type": "markdown",
   "id": "round-passion",
   "metadata": {
    "slideshow": {
     "slide_type": "slide"
    }
   },
   "source": [
    "As *strings* também podem ser indexadas com números inteiros"
   ]
  },
  {
   "cell_type": "code",
   "execution_count": null,
   "id": "numeric-princess",
   "metadata": {
    "slideshow": {
     "slide_type": "-"
    }
   },
   "outputs": [],
   "source": [
    "s = 'Eu sou uma pequena string'\n",
    "#    0123456789\n",
    "\n",
    "print(s[0])\n",
    "print(s[3])\n",
    "print(s[8])"
   ]
  },
  {
   "cell_type": "markdown",
   "id": "laden-medicaid",
   "metadata": {
    "slideshow": {
     "slide_type": "slide"
    }
   },
   "source": [
    "## Conjuntos (sets)"
   ]
  },
  {
   "cell_type": "code",
   "execution_count": null,
   "id": "optical-fantasy",
   "metadata": {
    "slideshow": {
     "slide_type": "slide"
    }
   },
   "outputs": [],
   "source": [
    "aminoácidos = {'I', 'Y', 'P', 'W', 'C', 'M', 'R', \n",
    "               'L', 'K', 'H', 'V', 'D', 'F', 'N', \n",
    "               'S', 'T', 'A', 'G', 'Q', 'E'}\n",
    "\n",
    "print(aminoácidos)"
   ]
  },
  {
   "cell_type": "code",
   "execution_count": null,
   "id": "accredited-nursing",
   "metadata": {
    "slideshow": {
     "slide_type": "slide"
    }
   },
   "outputs": [],
   "source": [
    "bases = {'A', 'A', 'C', 'C', 'U', 'G'}\n",
    "\n",
    "print(bases)"
   ]
  },
  {
   "cell_type": "markdown",
   "id": "automatic-walnut",
   "metadata": {
    "slideshow": {
     "slide_type": "slide"
    }
   },
   "source": [
    "### Funções de listas, dicionários e conjuntos\n",
    "\n",
    "As coleções têm funções \"associadas\".\n",
    "\n",
    "Estas funções têm a forma geral\n",
    "\n",
    "```coleção.função(argumentos)```"
   ]
  },
  {
   "cell_type": "markdown",
   "id": "transparent-advance",
   "metadata": {
    "slideshow": {
     "slide_type": "slide"
    }
   },
   "source": [
    "Algumas destas funções são comuns a vários tipos de coleções\n",
    "\n",
    "Exemplo: função ```<objeto>.count(<elemento>)```"
   ]
  },
  {
   "cell_type": "code",
   "execution_count": null,
   "id": "given-automation",
   "metadata": {
    "slideshow": {
     "slide_type": "-"
    }
   },
   "outputs": [],
   "source": [
    "# Quantas glicinas existem nesta sequência?\n",
    "seq = 'MSSLVTLNNGLKMPLVGLGCWKIDKKVCANQIYEAIKLGYRLFDGACDYGNEKEVGEGIR'\n",
    "\n",
    "nG = seq.count('G')\n",
    "\n",
    "print(nG, 'glicinas')\n",
    "\n",
    "# Quantos meses do ano têm 30 dias?\n",
    "n_dias = [31, 28, 31, 30, 31, 30, 31, 31, 30, 31, 30, 31]\n",
    "\n",
    "n30 = n_dias.count(30)\n",
    "\n",
    "print(n30, 'meses têm 30 dias')"
   ]
  },
  {
   "cell_type": "markdown",
   "id": "surrounded-shore",
   "metadata": {
    "slideshow": {
     "slide_type": "slide"
    }
   },
   "source": [
    "A função `len()` pode ser usada com **todas** as coleções (e com as *strings*)\n",
    "\n",
    "(`len` é a abreviatura de *length*)\n",
    "\n",
    "(Nota: é \"exterior\" aos objetos)"
   ]
  },
  {
   "cell_type": "code",
   "execution_count": null,
   "id": "disabled-stupid",
   "metadata": {
    "slideshow": {
     "slide_type": "-"
    }
   },
   "outputs": [],
   "source": [
    "a = [2,4,6,8,10, 'viria o 12', 'e depois o 14'] # lista\n",
    "s = 'Eu sou uma pequena string' # string\n",
    "d = {'H':1, 'Li':3, 'Na':11, 'K':19} # dicionário\n",
    "\n",
    "print(len(a))\n",
    "print(len(s))\n",
    "print(len(d))"
   ]
  },
  {
   "cell_type": "code",
   "execution_count": null,
   "id": "processed-editing",
   "metadata": {
    "slideshow": {
     "slide_type": "slide"
    }
   },
   "outputs": [],
   "source": [
    "seq = 'MSSLVTLNNGLKMPLVGLGCWKIDKKVCANQIYEAIKLGYRLFDGACDYGNEKEVGEGIR'\n",
    "\n",
    "print(f'A proteína\\n{seq}')\n",
    "print('tem', len(seq), 'aminoácidos')"
   ]
  },
  {
   "cell_type": "markdown",
   "id": "deluxe-edinburgh",
   "metadata": {
    "slideshow": {
     "slide_type": "slide"
    }
   },
   "source": [
    "O operador `in` também pode ser usado com **todas** as coleções"
   ]
  },
  {
   "cell_type": "code",
   "execution_count": null,
   "id": "adapted-suggestion",
   "metadata": {
    "slideshow": {
     "slide_type": "slide"
    }
   },
   "outputs": [],
   "source": [
    "nums = [1,2,3,4,5,6,7,8,9,10]\n",
    "if 4 in nums:\n",
    "    print(4, 'existe')\n",
    "else:\n",
    "    print(4, 'não existe')"
   ]
  },
  {
   "cell_type": "code",
   "execution_count": null,
   "id": "monetary-school",
   "metadata": {
    "slideshow": {
     "slide_type": "slide"
    }
   },
   "outputs": [],
   "source": [
    "seq = 'ATGGTCAAACTTGTTGACTGCAAATGCGTACGT'\n",
    "\n",
    "if 'U' in seq:\n",
    "    print('Existe', 'U')\n",
    "else:\n",
    "    print('Não existe', 'U')\n",
    "\n",
    "if 'TGT' in seq:\n",
    "    print('Existe', 'TGT')\n",
    "else:\n",
    "    print('Não existe', 'TGT')"
   ]
  },
  {
   "cell_type": "code",
   "execution_count": null,
   "id": "amino-butter",
   "metadata": {
    "slideshow": {
     "slide_type": "slide"
    }
   },
   "outputs": [],
   "source": [
    "grupo1 = {'H':1, 'Li':3, 'Na':11, 'K':19}\n",
    "\n",
    "print('Mg' in grupo1)"
   ]
  },
  {
   "cell_type": "markdown",
   "id": "light-person",
   "metadata": {
    "slideshow": {
     "slide_type": "slide"
    }
   },
   "source": [
    "# Iterações"
   ]
  },
  {
   "cell_type": "markdown",
   "id": "silent-avatar",
   "metadata": {
    "slideshow": {
     "slide_type": "slide"
    }
   },
   "source": [
    "Todas as coleções são **iteráveis**\n",
    "\n",
    "A **iteração** de coleções consistem em aplicar um bloco de instruções a todos os elementos de uma coleção **um a um**"
   ]
  },
  {
   "cell_type": "markdown",
   "id": "prepared-eligibility",
   "metadata": {
    "slideshow": {
     "slide_type": "slide"
    }
   },
   "source": [
    "O comando primário para realizar iterações é o comando `for`"
   ]
  },
  {
   "cell_type": "markdown",
   "id": "floating-valentine",
   "metadata": {
    "slideshow": {
     "slide_type": "slide"
    }
   },
   "source": [
    "# for"
   ]
  },
  {
   "cell_type": "code",
   "execution_count": null,
   "id": "technical-medium",
   "metadata": {
    "slideshow": {
     "slide_type": "slide"
    }
   },
   "outputs": [],
   "source": [
    "print('tabela de raízes quadradas')\n",
    "\n",
    "nums = [1,2,3,4,5,6,7,8,9,10]\n",
    "\n",
    "for n in nums:\n",
    "    root = n**0.5\n",
    "    print(n, root)"
   ]
  },
  {
   "cell_type": "code",
   "execution_count": null,
   "id": "advisory-american",
   "metadata": {
    "slideshow": {
     "slide_type": "slide"
    }
   },
   "outputs": [],
   "source": [
    "nums = [1,2,3,4,5,6,7,8,9,10,11,15,27, 30, 40]\n",
    "a_procurar = [1, 4, 7, 20, 40]\n",
    "\n",
    "for n in a_procurar:\n",
    "    if n in nums:\n",
    "        print(n, 'existe na lista')\n",
    "    else:\n",
    "        print(n, 'não existe na lista')"
   ]
  },
  {
   "cell_type": "code",
   "execution_count": null,
   "id": "endless-configuration",
   "metadata": {
    "slideshow": {
     "slide_type": "skip"
    }
   },
   "outputs": [],
   "source": [
    "# Anos bissextos (sem input())\n",
    "\n",
    "anos = [2015, 2014, 2013, 2012, 2000, 1900, 1800]\n",
    "\n",
    "for a in anos:\n",
    "    if a % 4 == 0 and not (a % 100 == 0 and not a % 400 == 0):\n",
    "        print(a , \"é bissexto\")\n",
    "    else: \n",
    "        print(a, \"nao é bissexto\")"
   ]
  },
  {
   "cell_type": "markdown",
   "id": "complicated-peripheral",
   "metadata": {
    "slideshow": {
     "slide_type": "slide"
    }
   },
   "source": [
    "### Iteração de *strings*"
   ]
  },
  {
   "cell_type": "code",
   "execution_count": null,
   "id": "filled-azerbaijan",
   "metadata": {
    "slideshow": {
     "slide_type": "-"
    }
   },
   "outputs": [],
   "source": [
    "seq = 'ATGGT CAAAC TTGTT'\n",
    "\n",
    "for b in seq:\n",
    "    print(b)"
   ]
  },
  {
   "cell_type": "markdown",
   "id": "applicable-certificate",
   "metadata": {
    "slideshow": {
     "slide_type": "slide"
    }
   },
   "source": [
    "Mostrar as ocorrências de lisinas numa sequência"
   ]
  },
  {
   "cell_type": "code",
   "execution_count": null,
   "id": "conceptual-nowhere",
   "metadata": {
    "slideshow": {
     "slide_type": "-"
    }
   },
   "outputs": [],
   "source": [
    "seq = 'ADKHLILTAVGGCWFHVAFWEVEKAGAHKWE'\n",
    "\n",
    "for aa in seq:\n",
    "    if aa == 'K':\n",
    "        print(aa)"
   ]
  },
  {
   "cell_type": "markdown",
   "id": "governmental-interference",
   "metadata": {
    "slideshow": {
     "slide_type": "slide"
    }
   },
   "source": [
    "Mostrar as ocorrências de lisinas  e argininas numa sequência"
   ]
  },
  {
   "cell_type": "code",
   "execution_count": null,
   "id": "other-december",
   "metadata": {
    "slideshow": {
     "slide_type": "-"
    }
   },
   "outputs": [],
   "source": [
    "seq = 'ADKHLILTAVGGCWFHVAFWEVEKAGAHKWE'\n",
    "\n",
    "for aa in seq:\n",
    "    if aa in 'KL':\n",
    "        print(aa)"
   ]
  },
  {
   "cell_type": "markdown",
   "id": "mounted-sponsorship",
   "metadata": {
    "slideshow": {
     "slide_type": "slide"
    }
   },
   "source": [
    "Mostrar as ocorrências de lisinas  e argininas numa sequência (versão \"fancy\")"
   ]
  },
  {
   "cell_type": "code",
   "execution_count": null,
   "id": "metric-intersection",
   "metadata": {
    "slideshow": {
     "slide_type": "-"
    }
   },
   "outputs": [],
   "source": [
    "seq = 'ADKHLILTAVGGCWFHVAFWEVEKAGAHKWE'\n",
    "print(seq)\n",
    "\n",
    "for aa in seq:\n",
    "    if aa in 'KL':\n",
    "        print(aa, end='')\n",
    "    else:\n",
    "        print('-', end='')"
   ]
  },
  {
   "cell_type": "markdown",
   "id": "disabled-entertainment",
   "metadata": {
    "slideshow": {
     "slide_type": "slide"
    }
   },
   "source": [
    "### Iteração de dicionários\n",
    "A iteração de dicionários fornece as **chaves** uma a uma (não os pares ou os valores)"
   ]
  },
  {
   "cell_type": "code",
   "execution_count": null,
   "id": "spatial-candidate",
   "metadata": {
    "slideshow": {
     "slide_type": "-"
    }
   },
   "outputs": [],
   "source": [
    "grupo1 = {'H':1, 'Li':3, 'Na':11, 'K':19}\n",
    "\n",
    "print('elementos do grupo 1')\n",
    "\n",
    "for e in grupo1:\n",
    "    print(e)"
   ]
  },
  {
   "cell_type": "markdown",
   "id": "previous-compilation",
   "metadata": {
    "slideshow": {
     "slide_type": "slide"
    }
   },
   "source": [
    "Mas, podemos obter as chaves e os valores: estes podem ser obtidos pela indexação do dicionário:"
   ]
  },
  {
   "cell_type": "code",
   "execution_count": null,
   "id": "breathing-royalty",
   "metadata": {
    "slideshow": {
     "slide_type": "-"
    }
   },
   "outputs": [],
   "source": [
    "grupo1 = {'H':1, 'Li':3, 'Na':11, 'K':19}\n",
    "\n",
    "print('elementos do grupo 1')\n",
    "\n",
    "for e in grupo1:\n",
    "    print(e, grupo1[e])"
   ]
  },
  {
   "cell_type": "markdown",
   "id": "broken-newspaper",
   "metadata": {
    "slideshow": {
     "slide_type": "slide"
    }
   },
   "source": [
    "# Iterações com \"acumulações\""
   ]
  },
  {
   "cell_type": "markdown",
   "id": "extraordinary-pillow",
   "metadata": {
    "slideshow": {
     "slide_type": "slide"
    }
   },
   "source": [
    "Somar todos os elementos de uma lista, somando um a um a um objeto \"de acumulação\":"
   ]
  },
  {
   "cell_type": "code",
   "execution_count": null,
   "id": "theoretical-advocacy",
   "metadata": {
    "slideshow": {
     "slide_type": "-"
    }
   },
   "outputs": [],
   "source": [
    "nums = [1,2,3,4,5,6,7,8,9,10]\n",
    "\n",
    "s = 0\n",
    "for i in nums:\n",
    "    s = s + i\n",
    "\n",
    "print('a soma de', nums, 'é', s)"
   ]
  },
  {
   "cell_type": "code",
   "execution_count": null,
   "id": "minus-exploration",
   "metadata": {
    "slideshow": {
     "slide_type": "skip"
    }
   },
   "outputs": [],
   "source": [
    "nums = [1,2,3,4,5,6,7,8,9,10]\n",
    "\n",
    "s = 0\n",
    "for i in nums:\n",
    "    print('i =', i)\n",
    "    print('  s antes da soma', s)\n",
    "    s = s + i\n",
    "    print('  s depois da soma', s)\n",
    "\n",
    "print(f'a soma é {s}')"
   ]
  },
  {
   "cell_type": "markdown",
   "id": "oriental-techno",
   "metadata": {
    "slideshow": {
     "slide_type": "slide"
    }
   },
   "source": [
    "### Função `range()`"
   ]
  },
  {
   "cell_type": "code",
   "execution_count": null,
   "id": "portable-lawyer",
   "metadata": {
    "slideshow": {
     "slide_type": "slide"
    }
   },
   "outputs": [],
   "source": [
    "print('-- range(12) ----------')\n",
    "# começa em 0, acaba em 12 (exclusivé),  e salta de 1 em 1.\n",
    "\n",
    "nums = list(range(12))\n",
    "print(nums)"
   ]
  },
  {
   "cell_type": "code",
   "execution_count": null,
   "id": "external-economy",
   "metadata": {
    "slideshow": {
     "slide_type": "slide"
    }
   },
   "outputs": [],
   "source": [
    "print('-- range(5, 12) ----------')\n",
    "# começa em 5, acaba em 12 (exclusivé).\n",
    "\n",
    "nums = list(range(5, 12))\n",
    "print(nums)"
   ]
  },
  {
   "cell_type": "code",
   "execution_count": null,
   "id": "equipped-brown",
   "metadata": {
    "slideshow": {
     "slide_type": "slide"
    }
   },
   "outputs": [],
   "source": [
    "print('-- range(5, 12, 2) ----------')\n",
    "# começa em 5, acaba em 12 (exclusivé) e salta de 2 em 2.\n",
    "\n",
    "nums = list(range(5, 12, 2))\n",
    "print(nums)"
   ]
  },
  {
   "cell_type": "code",
   "execution_count": null,
   "id": "russian-layout",
   "metadata": {
    "slideshow": {
     "slide_type": "slide"
    }
   },
   "outputs": [],
   "source": [
    "s = 0\n",
    "\n",
    "for i in range(1, 1001):\n",
    "    s = s + i\n",
    "\n",
    "print('a soma dos números de 1 a 1000 é', s)"
   ]
  },
  {
   "cell_type": "code",
   "execution_count": null,
   "id": "impressed-diploma",
   "metadata": {
    "slideshow": {
     "slide_type": "skip"
    }
   },
   "outputs": [],
   "source": [
    "seq = 'ATGGTCAAACTTGTT'\n",
    "seql = list(seq)\n",
    "print(seql)"
   ]
  },
  {
   "cell_type": "markdown",
   "id": "original-matrix",
   "metadata": {
    "slideshow": {
     "slide_type": "slide"
    }
   },
   "source": [
    "**Fatorial**: \"acumulação\" de um produto"
   ]
  },
  {
   "cell_type": "code",
   "execution_count": null,
   "id": "charitable-pipeline",
   "metadata": {
    "slideshow": {
     "slide_type": "-"
    }
   },
   "outputs": [],
   "source": [
    "fact = 1\n",
    "for i in range(1, 1001):\n",
    "    fact = fact * i\n",
    "\n",
    "print('o factorial de 1000 é', fact)"
   ]
  },
  {
   "cell_type": "code",
   "execution_count": null,
   "id": "laughing-perspective",
   "metadata": {
    "slideshow": {
     "slide_type": "slide"
    }
   },
   "outputs": [],
   "source": [
    "seq = 'ATGGTCAAACTTGTTGACTGCAAATGCGTACGT'\n",
    "\n",
    "for b in seq:\n",
    "    print(b, end=' ')"
   ]
  },
  {
   "cell_type": "code",
   "execution_count": null,
   "id": "deluxe-acoustic",
   "metadata": {
    "slideshow": {
     "slide_type": "slide"
    }
   },
   "outputs": [],
   "source": [
    "seq = 'ATGGTCAAACTTGTTGACTGCAAATGCGTACGT'\n",
    "\n",
    "seqcomp = ''\n",
    "\n",
    "for b in seq:\n",
    "    if b == 'A':\n",
    "        bcomp = 'T'\n",
    "    elif b == 'T':\n",
    "        bcomp = 'A'\n",
    "    elif b == 'G':\n",
    "        bcomp = 'C'\n",
    "    else:\n",
    "        bcomp = 'G'\n",
    "    seqcomp = seqcomp + bcomp\n",
    "\n",
    "print('sequência:   ', seq)\n",
    "print('complementar:', seqcomp)"
   ]
  },
  {
   "cell_type": "code",
   "execution_count": null,
   "id": "brown-floor",
   "metadata": {
    "slideshow": {
     "slide_type": "slide"
    }
   },
   "outputs": [],
   "source": [
    "seq = 'ATGGTCAAACTTGTTGACTGCAAATGCGTACGT'\n",
    "\n",
    "seqcomp = ''\n",
    "\n",
    "complementares = {'A': 'T', 'T': 'A', 'C': 'G', 'G': 'C'}\n",
    "\n",
    "for b in seq:\n",
    "    seqcomp = seqcomp + complementares[b]\n",
    "\n",
    "print('sequência:   ', seq)\n",
    "print('complementar:', seqcomp)"
   ]
  },
  {
   "cell_type": "code",
   "execution_count": null,
   "id": "changed-istanbul",
   "metadata": {
    "slideshow": {
     "slide_type": "slide"
    }
   },
   "outputs": [],
   "source": [
    "seq = 'ATGGTCAAACTTGTTGACTGCAAATGCGTACGT'\n",
    "\n",
    "complementares = {'A': 'T', 'T': 'A', 'C': 'G', 'G': 'C'}\n",
    "\n",
    "for b in seq:\n",
    "    print(b, '-', complementares[b])"
   ]
  },
  {
   "cell_type": "code",
   "execution_count": null,
   "id": "broad-fashion",
   "metadata": {
    "slideshow": {
     "slide_type": "slide"
    }
   },
   "outputs": [],
   "source": [
    "trans = {'A': 'Ala', 'C': 'Cys', 'E': 'Glu', 'D': 'Asp',\n",
    "         'G': 'Gly', 'F': 'Phe', 'I': 'Ile', 'H': 'His',\n",
    "         'K': 'Lys', 'M': 'Met', 'L': 'Leu', 'N': 'Asn',\n",
    "         'Q': 'Gln', 'P': 'Pro', 'S': 'Ser', 'R': 'Arg',\n",
    "         'T': 'Thr', 'W': 'Trp', 'V': 'Val', 'Y': 'Tyr'}\n",
    "\n",
    "# Problema: transformar seq1 numa string com os códigos de 3 letras dos aa\n",
    "seq1 = 'ADKLITCWFHHWE'\n",
    "\n",
    "seq3 = ''\n",
    "for aa in seq1:\n",
    "    seq3 = seq3 + trans[aa] + '-'\n",
    "\n",
    "print(seq1, 'é o mesmo que ', seq3)"
   ]
  },
  {
   "cell_type": "code",
   "execution_count": null,
   "id": "valued-consultancy",
   "metadata": {
    "slideshow": {
     "slide_type": "slide"
    }
   },
   "outputs": [],
   "source": [
    "s = sum(range(1, 1001))\n",
    "\n",
    "print('a soma dos números de 1 a 1000 é', s)"
   ]
  },
  {
   "cell_type": "code",
   "execution_count": null,
   "id": "rising-commodity",
   "metadata": {
    "slideshow": {
     "slide_type": "slide"
    }
   },
   "outputs": [],
   "source": [
    "import math\n",
    "f = math.factorial(100)\n",
    "\n",
    "print('100! =', f)"
   ]
  },
  {
   "cell_type": "code",
   "execution_count": null,
   "id": "precious-portsmouth",
   "metadata": {
    "slideshow": {
     "slide_type": "slide"
    }
   },
   "outputs": [],
   "source": [
    "seq = 'ADKHLILTAVGGCWFHVAFWEVEKAGAHKWE'\n",
    "\n",
    "i = 0\n",
    "for aa in seq:\n",
    "    if aa in 'KL':\n",
    "        print(i, ':', aa)\n",
    "    i = i + 1"
   ]
  },
  {
   "cell_type": "code",
   "execution_count": null,
   "id": "sophisticated-healthcare",
   "metadata": {
    "slideshow": {
     "slide_type": "slide"
    }
   },
   "outputs": [],
   "source": [
    "seq = 'ADKHLILTAVGGCWFHVAFWEVEKAGAHKWE'\n",
    "\n",
    "for x in enumerate(seq):\n",
    "    print(x)"
   ]
  },
  {
   "cell_type": "code",
   "execution_count": null,
   "id": "younger-third",
   "metadata": {
    "slideshow": {
     "slide_type": "slide"
    }
   },
   "outputs": [],
   "source": [
    "seq = 'ADKHLILTAVGGCWFHVAFWEVEKAGAHKWE'\n",
    "\n",
    "for (i, a) in enumerate(seq):\n",
    "    print(i, ':', a)"
   ]
  },
  {
   "cell_type": "code",
   "execution_count": null,
   "id": "talented-picnic",
   "metadata": {
    "slideshow": {
     "slide_type": "slide"
    }
   },
   "outputs": [],
   "source": [
    "seq = 'ADKHLILTAVGGCWFHVAFWEVEKAGAHKWE'\n",
    "\n",
    "for i, aa in enumerate(seq):\n",
    "    if aa in 'KL':\n",
    "        print(i, ':', aa)"
   ]
  },
  {
   "cell_type": "code",
   "execution_count": null,
   "id": "drawn-specific",
   "metadata": {
    "slideshow": {
     "slide_type": "slide"
    }
   },
   "outputs": [],
   "source": [
    "bases = 'AUGC'\n",
    "\n",
    "for b1 in bases:\n",
    "    for b2 in bases:\n",
    "        for b3 in bases:\n",
    "            c = b1 + b2 + b3\n",
    "            print(c, end=' ')"
   ]
  },
  {
   "cell_type": "code",
   "execution_count": null,
   "id": "approximate-peripheral",
   "metadata": {
    "slideshow": {
     "slide_type": "slide"
    }
   },
   "outputs": [],
   "source": [
    "seq = 'ATGGTTAAACTTGTTGACTGCAAATGCGTACGT'\n",
    "\n",
    "complementares = {'A': 'T', 'T': 'A', 'C': 'G', 'G': 'C'}\n",
    "\n",
    "for b in seq:\n",
    "    print(b, '-', complementares[b])\n",
    "    if b == 'C':\n",
    "        break"
   ]
  },
  {
   "cell_type": "code",
   "execution_count": null,
   "id": "bottom-welsh",
   "metadata": {
    "slideshow": {
     "slide_type": "slide"
    }
   },
   "outputs": [],
   "source": [
    "seq = 'ATGGTTAAACTTGTTGACTGCAAATGCGTACGT'\n",
    "\n",
    "complementares = {'A': 'T', 'T': 'A', 'C': 'G', 'G': 'C'}\n",
    "\n",
    "for b in seq:\n",
    "    if b in 'AT':\n",
    "        continue\n",
    "    print(b, '-', complementares[b])"
   ]
  },
  {
   "cell_type": "code",
   "execution_count": null,
   "id": "timely-kazakhstan",
   "metadata": {
    "slideshow": {
     "slide_type": "slide"
    }
   },
   "outputs": [],
   "source": [
    "#contagem decrescente\n",
    "count = 10\n",
    "while count > 0:\n",
    "    print(count)\n",
    "    count = count - 1\n",
    "print('kabum!')"
   ]
  }
 ],
 "metadata": {
  "celltoolbar": "Slideshow",
  "kernelspec": {
   "display_name": "Python 3",
   "language": "python",
   "name": "python3"
  },
  "language_info": {
   "codemirror_mode": {
    "name": "ipython",
    "version": 3
   },
   "file_extension": ".py",
   "mimetype": "text/x-python",
   "name": "python",
   "nbconvert_exporter": "python",
   "pygments_lexer": "ipython3",
   "version": "3.8.5"
  },
  "rise": {
   "transition": "fade"
  }
 },
 "nbformat": 4,
 "nbformat_minor": 5
}
