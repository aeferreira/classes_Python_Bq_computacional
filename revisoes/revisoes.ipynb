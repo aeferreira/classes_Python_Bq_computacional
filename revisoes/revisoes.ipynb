{
 "cells": [
  {
   "cell_type": "markdown",
   "metadata": {},
   "source": [
    "## 1\n",
    "\n",
    "Prever o output das linhas seguintes:"
   ]
  },
  {
   "cell_type": "code",
   "execution_count": 1,
   "metadata": {
    "collapsed": false
   },
   "outputs": [
    {
     "name": "stdout",
     "output_type": "stream",
     "text": [
      "----1 -----------------------------\n",
      "10\n",
      "9\n",
      "8\n",
      "----2 -----------------------------\n",
      "9\n",
      "8\n",
      "7\n",
      "----3 -----------------------------\n",
      "[0, 1]\n",
      "[1, 2]\n",
      "[2, 3]\n",
      "[3, 4]\n",
      "----4 -----------------------------\n",
      "[1, 1, 3, 5, 11]\n",
      "----5 -----------------------------\n",
      "[0, 1, 4, 9, 16, 25]\n",
      "----6 -----------------------------\n",
      "[2, 2, 2, 2, 2, 2, 2, 2, 2, 2]\n",
      "----7 -----------------------------\n",
      "----8 -----------------------------\n",
      "[1, 8, 19, 24, 27, 30]\n"
     ]
    }
   ],
   "source": [
    "print '----1 -----------------------------'\n",
    "a = range(10)\n",
    "for i in a:\n",
    "    if i < 3: print len(a) - i\n",
    "\n",
    "print '----2 -----------------------------'\n",
    "a = range(10)\n",
    "for i in a:\n",
    "    if i < 3: print a[-1] - i\n",
    "\n",
    "print '----3 -----------------------------'\n",
    "a = range(5)\n",
    "for i in a[:-1]:\n",
    "    print a[i:i+2]\n",
    "\n",
    "print '----4 -----------------------------'\n",
    "a = [1,1]\n",
    "for i in range(3):\n",
    "    a.append(a[-1]+2*a[-2])\n",
    "print a\n",
    "\n",
    "print '----5 -----------------------------'\n",
    "qs = [(i, i**2) for i in range(10)]\n",
    "print [v for (u,v) in qs if u <= 5]\n",
    "\n",
    "print '----6 -----------------------------'\n",
    "qs = [(i, i**2) for i in range(10)]\n",
    "print [len(x) for x in qs]\n",
    "\n",
    "print '----7 -----------------------------'\n",
    "qs = [(i, i**2) for i in range(10)]\n",
    "ll = sum([len(x) for x in qs])\n",
    "\n",
    "print '----8 -----------------------------'\n",
    "s = 'AVGGGKGDEMAWTWVRPMGVIDWEEGGVKLVAGLLP'\n",
    "print [i for i in range(1,len(s)) if s[i] in 'VE'and s[i-1]!= 'W']"
   ]
  },
  {
   "cell_type": "markdown",
   "metadata": {},
   "source": [
    "## 2\n",
    "\n",
    "Suponha que está disponível num programa o dicionário com o código genético:\n",
    "```\n",
    "gencode = {\n",
    "     'TTT': 'F', 'TTC': 'F', 'TTA': 'L', 'TTG': 'L', 'TCT': 'S',\n",
    "     'TCC': 'S', 'TCA': 'S', 'TCG': 'S', 'TAT': 'Y', 'TAC': 'Y',\n",
    "     .....\n",
    "     'GGG': 'G', 'TAA': 'STOP', 'TAG': 'STOP', 'TGA': 'STOP'}\n",
    "```\n",
    "\n",
    "[4] Escreva a função  com o cabeçalho \n",
    "  \n",
    "`def degen(gencode):`\n",
    "\n",
    "que recebe como argumento o dicionário gencode ,e devolve um dicionário com \n",
    "o nível de degeneração de cada aminoácido. O nível de degeneração de um aminoácido \n",
    "é o numero de tripletos que codificam para esse aminoácido.\n",
    "\n",
    "Por exemplo, se aplicarmos a função com  `print degen(gencode)` obtemos\n",
    "\n",
    "```\n",
    "{'A': 4, 'C': 2, 'E': 2, 'D': 2, 'G': 4, 'F': 2, 'I': 3, 'H': 2, \n",
    "'K': 2, 'STOP': 3, 'M': 1, 'L': 6, 'N': 2, 'Q': 2, 'P': 4, \n",
    "'S': 6, 'R': 6, 'T': 4, 'W': 1, 'V': 4, 'Y': 2}\n",
    "```\n"
   ]
  },
  {
   "cell_type": "code",
   "execution_count": 2,
   "metadata": {
    "collapsed": false
   },
   "outputs": [
    {
     "name": "stdout",
     "output_type": "stream",
     "text": [
      "{'A': 4, 'C': 2, 'E': 2, 'D': 2, 'G': 4, 'F': 2, 'I': 3, 'H': 2, 'K': 2, 'STOP': 3, 'M': 1, 'L': 6, 'N': 2, 'Q': 2, 'P': 4, 'S': 6, 'R': 6, 'T': 4, 'W': 1, 'V': 4, 'Y': 2}\n"
     ]
    }
   ],
   "source": [
    "gencode = {\n",
    "     'TTT': 'F', 'TTC': 'F', 'TTA': 'L', 'TTG': 'L', 'TCT': 'S',\n",
    "     'TCC': 'S', 'TCA': 'S', 'TCG': 'S', 'TAT': 'Y', 'TAC': 'Y',\n",
    "     'TGT': 'C', 'TGC': 'C', 'TGG': 'W', 'CTT': 'L', 'CTC': 'L',\n",
    "     'CTA': 'L', 'CTG': 'L', 'CCT': 'P', 'CCC': 'P', 'CCA': 'P',\n",
    "     'CCG': 'P', 'CAT': 'H', 'CAC': 'H', 'CAA': 'Q', 'CAG': 'Q',\n",
    "     'CGT': 'R', 'CGC': 'R', 'CGA': 'R', 'CGG': 'R', 'ATT': 'I',\n",
    "     'ATC': 'I', 'ATA': 'I', 'ATG': 'M', 'ACT': 'T', 'ACC': 'T',\n",
    "     'ACA': 'T', 'ACG': 'T', 'AAT': 'N', 'AAC': 'N', 'AAA': 'K',\n",
    "     'AAG': 'K', 'AGT': 'S', 'AGC': 'S', 'AGA': 'R', 'AGG': 'R',\n",
    "     'GTT': 'V', 'GTC': 'V', 'GTA': 'V', 'GTG': 'V', 'GCT': 'A',\n",
    "     'GCC': 'A', 'GCA': 'A', 'GCG': 'A', 'GAT': 'D', 'GAC': 'D',\n",
    "     'GAA': 'E', 'GAG': 'E', 'GGT': 'G', 'GGC': 'G', 'GGA': 'G',\n",
    "     'GGG': 'G', 'TAA': 'STOP', 'TAG': 'STOP', 'TGA': 'STOP'}\n",
    "\n",
    "def degen(gencode):\n",
    "    d = {}\n",
    "    for cod, aa in gencode.items():\n",
    "        if aa in d:\n",
    "            d[aa] += 1\n",
    "        else:\n",
    "            d[aa] = 1\n",
    "    return d\n",
    "    \n",
    "\n",
    "print degen(gencode)"
   ]
  },
  {
   "cell_type": "code",
   "execution_count": 3,
   "metadata": {
    "collapsed": false
   },
   "outputs": [
    {
     "name": "stdout",
     "output_type": "stream",
     "text": [
      "{'A': 4, 'C': 2, 'E': 2, 'D': 2, 'G': 4, 'F': 2, 'I': 3, 'H': 2, 'K': 2, 'STOP': 3, 'M': 1, 'L': 6, 'N': 2, 'Q': 2, 'P': 4, 'S': 6, 'R': 6, 'T': 4, 'W': 1, 'V': 4, 'Y': 2}\n"
     ]
    }
   ],
   "source": [
    "gencode = {\n",
    "     'TTT': 'F', 'TTC': 'F', 'TTA': 'L', 'TTG': 'L', 'TCT': 'S',\n",
    "     'TCC': 'S', 'TCA': 'S', 'TCG': 'S', 'TAT': 'Y', 'TAC': 'Y',\n",
    "     'TGT': 'C', 'TGC': 'C', 'TGG': 'W', 'CTT': 'L', 'CTC': 'L',\n",
    "     'CTA': 'L', 'CTG': 'L', 'CCT': 'P', 'CCC': 'P', 'CCA': 'P',\n",
    "     'CCG': 'P', 'CAT': 'H', 'CAC': 'H', 'CAA': 'Q', 'CAG': 'Q',\n",
    "     'CGT': 'R', 'CGC': 'R', 'CGA': 'R', 'CGG': 'R', 'ATT': 'I',\n",
    "     'ATC': 'I', 'ATA': 'I', 'ATG': 'M', 'ACT': 'T', 'ACC': 'T',\n",
    "     'ACA': 'T', 'ACG': 'T', 'AAT': 'N', 'AAC': 'N', 'AAA': 'K',\n",
    "     'AAG': 'K', 'AGT': 'S', 'AGC': 'S', 'AGA': 'R', 'AGG': 'R',\n",
    "     'GTT': 'V', 'GTC': 'V', 'GTA': 'V', 'GTG': 'V', 'GCT': 'A',\n",
    "     'GCC': 'A', 'GCA': 'A', 'GCG': 'A', 'GAT': 'D', 'GAC': 'D',\n",
    "     'GAA': 'E', 'GAG': 'E', 'GGT': 'G', 'GGC': 'G', 'GGA': 'G',\n",
    "     'GGG': 'G', 'TAA': 'STOP', 'TAG': 'STOP', 'TGA': 'STOP'}\n",
    "\n",
    "def degen(gencode):\n",
    "    d = {}\n",
    "    for cod in gencode:\n",
    "        aa = gencode[cod]\n",
    "        if aa in d:\n",
    "            d[aa] = d[aa] + 1\n",
    "        else:\n",
    "            d[aa] = 1\n",
    "    return d\n",
    "\n",
    "print degen(gencode)"
   ]
  },
  {
   "cell_type": "markdown",
   "metadata": {},
   "source": [
    "## 3\n",
    "\n",
    "[2] Suponha que a função `degen()` da pergunta 2 está disponível. \n",
    "\n",
    "Escreva uma função com o cabeçalho \n",
    "\n",
    "`def degenseq(seq):` \n",
    "\n",
    "que recebe uma string seq com a uma sequência polipeptídica (códigos de 1 letra) \n",
    "e devolve uma lista de inteiros com os níveis de degeneração de \n",
    "cada aminoácido da sequência.\n",
    "\n",
    "Por exemplo, se aplicarmos a função com \n",
    "\n",
    "`print degenseq('AVGGGKGDEM')`\n",
    "\n",
    "obtemos\n",
    "\n",
    "`[4, 4, 4, 4, 4, 2, 4, 2, 2, 1]`\n"
   ]
  },
  {
   "cell_type": "code",
   "execution_count": 4,
   "metadata": {
    "collapsed": false
   },
   "outputs": [
    {
     "name": "stdout",
     "output_type": "stream",
     "text": [
      "[4, 4, 4, 4, 4, 2, 4, 2, 2, 1]\n"
     ]
    }
   ],
   "source": [
    "def degenseq(seq):\n",
    "    d = degen(gencode)\n",
    "    return [d[aa] for aa in seq]\n",
    "\n",
    "print degenseq('AVGGGKGDEM')"
   ]
  },
  {
   "cell_type": "code",
   "execution_count": 5,
   "metadata": {
    "collapsed": false
   },
   "outputs": [
    {
     "name": "stdout",
     "output_type": "stream",
     "text": [
      "[4, 4, 4, 4, 4, 2, 4, 2, 2, 1]\n"
     ]
    }
   ],
   "source": [
    "def degenseq(seq):\n",
    "    d = degen(gencode)\n",
    "    perfil = []\n",
    "    for aa in seq:\n",
    "        perfil.append(d[aa])\n",
    "    return perfil\n",
    "\n",
    "print degenseq('AVGGGKGDEM')"
   ]
  },
  {
   "cell_type": "markdown",
   "metadata": {},
   "source": [
    "## 4\n",
    "\n",
    "De seguida apresentam-se algumas linhas **ATOM** do ficheiro PDB 2alr.pdb.\n",
    "\n",
    "```\n",
    "          1         2         3         4         5         6         7\n",
    "0123456789012345678901234567890123456789012345678901234567890123456789012345\n",
    "\n",
    "ATOM      1  N   ALA A   1       4.750  12.197  46.768 1.00 19.36          \n",
    "ATOM      2  CA  ALA A   1       6.052  12.690  46.346 1.00 21.65          \n",
    "ATOM      3  C   ALA A   1       6.168  13.091  44.872 1.00 20.17          \n",
    "ATOM      4  O   ALA A   1       6.583  14.203  44.563 1.00 22.32          \n",
    "ATOM      5  CB  ALA A   1       7.189  11.782  46.806 1.00 19.86          \n",
    "ATOM      6  N   ALA A   2       5.807  12.206  43.948 1.00 19.08\n",
    "```\n",
    "\n",
    "Escreva uma função com o cabeçalho\n",
    "\n",
    "`def nCbeta(nome):`\n",
    "\n",
    "que, dado o nome de um ficheiro PDB, abra esse ficheiro, e, por processamento \n",
    "das linhas começadas por ATOM , devolva o **numero de átomos de carbono beta** (CB) \n",
    "existente na cadeia polipeptídica        \n"
   ]
  },
  {
   "cell_type": "code",
   "execution_count": 6,
   "metadata": {
    "collapsed": false
   },
   "outputs": [
    {
     "name": "stdout",
     "output_type": "stream",
     "text": [
      "None\n"
     ]
    }
   ],
   "source": [
    "def nCbeta(nome):\n",
    "    pass\n",
    "\n",
    "print nCbeta('1hew.pdb') # deve dar 117"
   ]
  },
  {
   "cell_type": "code",
   "execution_count": 7,
   "metadata": {
    "collapsed": false
   },
   "outputs": [
    {
     "name": "stdout",
     "output_type": "stream",
     "text": [
      "A estrutura 1hew tem 117 carbonos beta\n"
     ]
    }
   ],
   "source": [
    "def nCbeta(nome):\n",
    "    with open(nome) as f:\n",
    "        count = 0\n",
    "        for linha in f:\n",
    "            if linha.startswith(\"ATOM\"):\n",
    "                if linha[13:15] == \"CB\":\n",
    "                    count += 1\n",
    "    return count\n",
    "\n",
    "print 'A estrutura 1hew tem {} carbonos beta'.format(nCbeta('1hew.pdb'))"
   ]
  },
  {
   "cell_type": "markdown",
   "metadata": {},
   "source": [
    "## 5\n",
    "\n",
    "Suponha que contem vários ficheiros de texto com sequências \n",
    "de proteínas no seguinte formato:\n",
    "\n",
    "```\n",
    "!! GLO3_YEAST ADP-ribosylation factor GTPase-activating protein !!\n",
    "        10         20         30         40         50         60 \n",
    "MSNDEGETFA TEQTTQQVFQ KLGSNMENRV CFDCGNKNPT WTSVPFGVML CIQCSAVHRN \n",
    "        70         80         90        100        110        120 \n",
    "MGVHITFVKS STLDKWTINN LRRFKLGGNH KARDFFLKNN GKQLLNTANV DAKTKYTSPV \n",
    "       130        140        150        160        170        180 \n",
    "AKKYKIHLDK KVQKDMELYP SELVLNGQDS SDSPLDTDSD ASRSTSKENS VDDFFSNWQK \n",
    "       190        200\n",
    "PSSNSSSKLN VNTGSLAPKN NTT\n",
    "```\n",
    "\n",
    "[4] Escreva a função  com o cabeçalho \n",
    "  \n",
    "`def exotic2fasta(exoticfilename, fastafilename):`\n",
    "\n",
    "que recebe o **nome de um ficheiro** de entrada neste formato, `exoticfilename`,\n",
    "\n",
    "e escreve a sequência para um ficheiro com o nome `fastafilename` no formato FASTA.\n"
   ]
  },
  {
   "cell_type": "code",
   "execution_count": 8,
   "metadata": {
    "collapsed": false
   },
   "outputs": [
    {
     "name": "stdout",
     "output_type": "stream",
     "text": [
      "!! GLO3_YEAST ADP-ribosylation factor GTPase-activating protein !!\n",
      "        10         20         30         40         50         60 \n",
      "MSNDEGETFA TEQTTQQVFQ KLGSNMENRV CFDCGNKNPT WTSVPFGVML CIQCSAVHRN \n",
      "        70         80         90        100        110        120 \n",
      "MGVHITFVKS STLDKWTINN LRRFKLGGNH KARDFFLKNN GKQLLNTANV DAKTKYTSPV \n",
      "       130        140        150        160        170        180 \n",
      "AKKYKIHLDK KVQKDMELYP SELVLNGQDS SDSPLDTDSD ASRSTSKENS VDDFFSNWQK \n",
      "       190        200\n",
      "PSSNSSSKLN VNTGSLAPKN NTT\n"
     ]
    }
   ],
   "source": [
    "# O ficheiro com o formato exótico existe:\n",
    "with open('glo3.exotic') as f:\n",
    "    print f.read()"
   ]
  },
  {
   "cell_type": "code",
   "execution_count": 9,
   "metadata": {
    "collapsed": true
   },
   "outputs": [],
   "source": [
    "def exotic2fasta(exoticfilename, fastafilename):\n",
    "    pass\n",
    "\n",
    "exotic2fasta('glo3.exotic', 'glo3.fasta')"
   ]
  },
  {
   "cell_type": "code",
   "execution_count": 10,
   "metadata": {
    "collapsed": false
   },
   "outputs": [
    {
     "name": "stdout",
     "output_type": "stream",
     "text": [
      ">GLO3_YEAST ADP-ribosylation factor GTPase-activating protein \n",
      "MSNDEGETFATEQTTQQVFQKLGSNMENRVCFDCGNKNPTWTSVPFGVMLCIQCSAVHRN\n",
      "MGVHITFVKSSTLDKWTINNLRRFKLGGNHKARDFFLKNNGKQLLNTANVDAKTKYTSPV\n",
      "AKKYKIHLDKKVQKDMELYPSELVLNGQDSSDSPLDTDSDASRSTSKENSVDDFFSNWQK\n",
      "PSSNSSSKLNVNTGSLAPKNNTT\n"
     ]
    }
   ],
   "source": [
    "def exotic2fasta(exoticfilename, fastafilename):\n",
    "    with open(exoticfilename) as infile:\n",
    "        lines = infile.readlines()\n",
    "    \n",
    "    header = '' # terá o header, uma string\n",
    "    seq = [] # terá as linhas com a sequência\n",
    "\n",
    "    for line in lines:\n",
    "        if line.startswith('  '):\n",
    "            continue # passa logo para a linha seguinte\n",
    "        elif line.startswith('!!'):\n",
    "            header = line\n",
    "        else:\n",
    "            seq.append(line)\n",
    "    \n",
    "    # retirar os !! em \"!! GLO3_YEAST ... protein !!\"\n",
    "    header = header[3:-3]\n",
    "    \n",
    "    # retirar os espaços na sequência\n",
    "    # usar o \"idioma\" ''.join(line.split())\n",
    "    seq = [''.join(line.split()) for line in seq]\n",
    "    \n",
    "    # nota: seq é uma lista de strings\n",
    "    \n",
    "    resultado = '\\n'.join(seq) # junta as linhas em seq\n",
    "    \n",
    "    resultado = '>{}\\n'.format(header) + resultado # junta o header\n",
    "    \n",
    "    with open(fastafilename, 'w') as outfile:\n",
    "        outfile.write(resultado)\n",
    "    \n",
    "\n",
    "exotic2fasta('glo3.exotic', 'glo3.fasta')\n",
    "\n",
    "# demonstrar que resultou, lendo o ficheiro:\n",
    "with open('glo3.fasta') as f:\n",
    "    print f.read()"
   ]
  }
 ],
 "metadata": {
  "kernelspec": {
   "display_name": "Python 2",
   "language": "python",
   "name": "python2"
  },
  "language_info": {
   "codemirror_mode": {
    "name": "ipython",
    "version": 2
   },
   "file_extension": ".py",
   "mimetype": "text/x-python",
   "name": "python",
   "nbconvert_exporter": "python",
   "pygments_lexer": "ipython2",
   "version": "2.7.11"
  }
 },
 "nbformat": 4,
 "nbformat_minor": 0
}
